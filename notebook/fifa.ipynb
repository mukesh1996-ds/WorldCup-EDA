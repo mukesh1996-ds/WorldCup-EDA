{
 "cells": [
  {
   "cell_type": "markdown",
   "metadata": {},
   "source": [
    "## FIFA Football cup"
   ]
  },
  {
   "cell_type": "code",
   "execution_count": 1,
   "metadata": {},
   "outputs": [],
   "source": [
    "import pandas as pd\n"
   ]
  },
  {
   "cell_type": "markdown",
   "metadata": {},
   "source": [
    "### Dataset name : WorldCupMatches"
   ]
  },
  {
   "cell_type": "code",
   "execution_count": 5,
   "metadata": {},
   "outputs": [],
   "source": [
    "df1 = pd.read_csv('D:\\Final submission\\EDA\\WorldCup-EDA\\Dataset\\WorldCupMatches.csv')"
   ]
  },
  {
   "cell_type": "markdown",
   "metadata": {},
   "source": [
    "The FIFA World Cup is a global football competition contested by the various football-playing nations of the world. It is contested every four years and is the most prestigious and important trophy in the sport of football.\n",
    "\n",
    "The World Cups dataset show all information about all the World Cups in the history, while the World Cup Matches dataset shows all the results from the matches contested as part of the cups.\n",
    "\n",
    "1. year : The year in which the match was played.\n",
    "2. Datetime : The date at which match was played along with 24 hrs date format.\n",
    "3. Stage : The stage at which the match was played.\n",
    "4. Stadium : Satdium name where the match was held.\n",
    "5. city : The city name where the match was played.\n",
    "6. Home team name : Home team country name.\n",
    "7. Home team gaol : Total goals scored by the home team by the end of the match.\n",
    "8. Away Team Goals : Total goals scored by the away team by the end of the match.\n",
    "9. Away Team Name : Away team country name.\n",
    "10. Win conditions : Special win condition (if any)\n",
    "11. Attendance : Total crowd present at the satdium\n",
    "12. Half-time Home Goals : Goals scored by the home team until half time\n",
    "13. Half-time Away Goals : Goals scored by the away team until half time\n",
    "14. Referee : Name of the first refree\n",
    "15. Assistant 1 : Name of the first assistant referee (linesman)\n",
    "16. Assistant 2 : Name of the second assistant referee (linesman)\n",
    "17. RoundID : Unique ID of the Round\n",
    "18. MatchID : Unique ID of the match\n",
    "19. Home Team Initials : Home team country's three letter initials\n",
    "20. Away Team Initials : Away team country's three letter initials"
   ]
  },
  {
   "cell_type": "markdown",
   "metadata": {},
   "source": [
    "### Dataset 2 : WorldCupPlayers"
   ]
  },
  {
   "cell_type": "code",
   "execution_count": 6,
   "metadata": {},
   "outputs": [],
   "source": [
    "df2 = pd.read_csv('D:\\Final submission\\EDA\\WorldCup-EDA\\Dataset\\WorldCupPlayers.csv')"
   ]
  },
  {
   "cell_type": "markdown",
   "metadata": {},
   "source": [
    "##### data information\n",
    "\n",
    "1. RoundID : Unique ID of the round\n",
    "2. MatchID : Unique ID of the match\n",
    "3. Team Initials : Player's team initials\n",
    "4. Coach Name : Name and country of the team coach\n",
    "5. Line-up : S=Line-up, N=Substitute\n",
    "6. Shirt Number : Shirt number if available \n",
    "7. Player Name : Name of the player\n",
    "8. Position: C=Captain, GK=Goalkeeper \n",
    "9. Event : G=Goal, OG=Own Goal, Y=Yellow Card, R=Red Card, SY = Red Card by second yellow, P=Penalty, MP=Missed Penalty, I = Substitution In, O=Substitute Out \n"
   ]
  },
  {
   "cell_type": "markdown",
   "metadata": {},
   "source": [
    "### Dataset 3: WorldCups"
   ]
  },
  {
   "cell_type": "code",
   "execution_count": 7,
   "metadata": {},
   "outputs": [],
   "source": [
    "df3 = pd.read_csv('D:\\Final submission\\EDA\\WorldCup-EDA\\Dataset\\WorldCups.csv')"
   ]
  },
  {
   "cell_type": "markdown",
   "metadata": {},
   "source": [
    "#### Dataset information\n",
    "\n",
    "1. Year : Year of the worldcup\n",
    "2. Country : Country of the worldcup\n",
    "3. Winner : Team who won the worldcup\n",
    "4. Runners-Up : Team who was the second place\n",
    "5. Third : Team who was the third place\n",
    "6. Fourth : Team who was the fourth place\n",
    "7. GoalsScored : Total goals scored in the worldcup\n",
    "8. QualifiedTeams : Total participating teams\n",
    "9. MatchesPlayed : Total matches played in the cup\n",
    "10. Attendance : Total attendance of the worldcup\n"
   ]
  },
  {
   "cell_type": "markdown",
   "metadata": {},
   "source": [
    "Here I have 3 different DataFrame and I need to work on all the data frame . The step that are applied on all the above are as follows:\n",
    "1. Feature eng.\n",
    "2. Feature selection\n",
    "\n",
    "Creat a new data frame based on the information\n",
    "\n",
    "3. Checking the data information\n",
    "4. Handling Missing values \n",
    "5. 5 number summary \n",
    "\n"
   ]
  },
  {
   "cell_type": "code",
   "execution_count": 8,
   "metadata": {},
   "outputs": [
    {
     "data": {
      "text/plain": [
       "((4572, 20), (37784, 9), (20, 10))"
      ]
     },
     "execution_count": 8,
     "metadata": {},
     "output_type": "execute_result"
    }
   ],
   "source": [
    "# checking the shape of all the 3 different data frame\n",
    "\n",
    "df1.shape, df2.shape, df3.shape "
   ]
  },
  {
   "cell_type": "code",
   "execution_count": 9,
   "metadata": {},
   "outputs": [
    {
     "data": {
      "text/plain": [
       "(Index(['Year', 'Datetime', 'Stage', 'Stadium', 'City', 'Home Team Name',\n",
       "        'Home Team Goals', 'Away Team Goals', 'Away Team Name',\n",
       "        'Win conditions', 'Attendance', 'Half-time Home Goals',\n",
       "        'Half-time Away Goals', 'Referee', 'Assistant 1', 'Assistant 2',\n",
       "        'RoundID', 'MatchID', 'Home Team Initials', 'Away Team Initials'],\n",
       "       dtype='object'),\n",
       " Index(['RoundID', 'MatchID', 'Team Initials', 'Coach Name', 'Line-up',\n",
       "        'Shirt Number', 'Player Name', 'Position', 'Event'],\n",
       "       dtype='object'),\n",
       " Index(['Year', 'Country', 'Winner', 'Runners-Up', 'Third', 'Fourth',\n",
       "        'GoalsScored', 'QualifiedTeams', 'MatchesPlayed', 'Attendance'],\n",
       "       dtype='object'))"
      ]
     },
     "execution_count": 9,
     "metadata": {},
     "output_type": "execute_result"
    }
   ],
   "source": [
    "# Checking all the columns of 3 different data frame\n",
    "\n",
    "df1.columns, df2.columns, df3.columns"
   ]
  },
  {
   "cell_type": "markdown",
   "metadata": {},
   "source": [
    "From the above we can see that the names of the columns so we can check them independently."
   ]
  },
  {
   "cell_type": "markdown",
   "metadata": {},
   "source": [
    "### Dataset 1 "
   ]
  },
  {
   "cell_type": "code",
   "execution_count": 10,
   "metadata": {},
   "outputs": [
    {
     "data": {
      "text/html": [
       "<div>\n",
       "<style scoped>\n",
       "    .dataframe tbody tr th:only-of-type {\n",
       "        vertical-align: middle;\n",
       "    }\n",
       "\n",
       "    .dataframe tbody tr th {\n",
       "        vertical-align: top;\n",
       "    }\n",
       "\n",
       "    .dataframe thead th {\n",
       "        text-align: right;\n",
       "    }\n",
       "</style>\n",
       "<table border=\"1\" class=\"dataframe\">\n",
       "  <thead>\n",
       "    <tr style=\"text-align: right;\">\n",
       "      <th></th>\n",
       "      <th>Year</th>\n",
       "      <th>Datetime</th>\n",
       "      <th>Stage</th>\n",
       "      <th>Stadium</th>\n",
       "      <th>City</th>\n",
       "      <th>Home Team Name</th>\n",
       "      <th>Home Team Goals</th>\n",
       "      <th>Away Team Goals</th>\n",
       "      <th>Away Team Name</th>\n",
       "      <th>Win conditions</th>\n",
       "      <th>Attendance</th>\n",
       "      <th>Half-time Home Goals</th>\n",
       "      <th>Half-time Away Goals</th>\n",
       "      <th>Referee</th>\n",
       "      <th>Assistant 1</th>\n",
       "      <th>Assistant 2</th>\n",
       "      <th>RoundID</th>\n",
       "      <th>MatchID</th>\n",
       "      <th>Home Team Initials</th>\n",
       "      <th>Away Team Initials</th>\n",
       "    </tr>\n",
       "  </thead>\n",
       "  <tbody>\n",
       "    <tr>\n",
       "      <th>0</th>\n",
       "      <td>1930.0</td>\n",
       "      <td>13 Jul 1930 - 15:00</td>\n",
       "      <td>Group 1</td>\n",
       "      <td>Pocitos</td>\n",
       "      <td>Montevideo</td>\n",
       "      <td>France</td>\n",
       "      <td>4.0</td>\n",
       "      <td>1.0</td>\n",
       "      <td>Mexico</td>\n",
       "      <td></td>\n",
       "      <td>4444.0</td>\n",
       "      <td>3.0</td>\n",
       "      <td>0.0</td>\n",
       "      <td>LOMBARDI Domingo (URU)</td>\n",
       "      <td>CRISTOPHE Henry (BEL)</td>\n",
       "      <td>REGO Gilberto (BRA)</td>\n",
       "      <td>201.0</td>\n",
       "      <td>1096.0</td>\n",
       "      <td>FRA</td>\n",
       "      <td>MEX</td>\n",
       "    </tr>\n",
       "    <tr>\n",
       "      <th>1</th>\n",
       "      <td>1930.0</td>\n",
       "      <td>13 Jul 1930 - 15:00</td>\n",
       "      <td>Group 4</td>\n",
       "      <td>Parque Central</td>\n",
       "      <td>Montevideo</td>\n",
       "      <td>USA</td>\n",
       "      <td>3.0</td>\n",
       "      <td>0.0</td>\n",
       "      <td>Belgium</td>\n",
       "      <td></td>\n",
       "      <td>18346.0</td>\n",
       "      <td>2.0</td>\n",
       "      <td>0.0</td>\n",
       "      <td>MACIAS Jose (ARG)</td>\n",
       "      <td>MATEUCCI Francisco (URU)</td>\n",
       "      <td>WARNKEN Alberto (CHI)</td>\n",
       "      <td>201.0</td>\n",
       "      <td>1090.0</td>\n",
       "      <td>USA</td>\n",
       "      <td>BEL</td>\n",
       "    </tr>\n",
       "    <tr>\n",
       "      <th>2</th>\n",
       "      <td>1930.0</td>\n",
       "      <td>14 Jul 1930 - 12:45</td>\n",
       "      <td>Group 2</td>\n",
       "      <td>Parque Central</td>\n",
       "      <td>Montevideo</td>\n",
       "      <td>Yugoslavia</td>\n",
       "      <td>2.0</td>\n",
       "      <td>1.0</td>\n",
       "      <td>Brazil</td>\n",
       "      <td></td>\n",
       "      <td>24059.0</td>\n",
       "      <td>2.0</td>\n",
       "      <td>0.0</td>\n",
       "      <td>TEJADA Anibal (URU)</td>\n",
       "      <td>VALLARINO Ricardo (URU)</td>\n",
       "      <td>BALWAY Thomas (FRA)</td>\n",
       "      <td>201.0</td>\n",
       "      <td>1093.0</td>\n",
       "      <td>YUG</td>\n",
       "      <td>BRA</td>\n",
       "    </tr>\n",
       "    <tr>\n",
       "      <th>3</th>\n",
       "      <td>1930.0</td>\n",
       "      <td>14 Jul 1930 - 14:50</td>\n",
       "      <td>Group 3</td>\n",
       "      <td>Pocitos</td>\n",
       "      <td>Montevideo</td>\n",
       "      <td>Romania</td>\n",
       "      <td>3.0</td>\n",
       "      <td>1.0</td>\n",
       "      <td>Peru</td>\n",
       "      <td></td>\n",
       "      <td>2549.0</td>\n",
       "      <td>1.0</td>\n",
       "      <td>0.0</td>\n",
       "      <td>WARNKEN Alberto (CHI)</td>\n",
       "      <td>LANGENUS Jean (BEL)</td>\n",
       "      <td>MATEUCCI Francisco (URU)</td>\n",
       "      <td>201.0</td>\n",
       "      <td>1098.0</td>\n",
       "      <td>ROU</td>\n",
       "      <td>PER</td>\n",
       "    </tr>\n",
       "    <tr>\n",
       "      <th>4</th>\n",
       "      <td>1930.0</td>\n",
       "      <td>15 Jul 1930 - 16:00</td>\n",
       "      <td>Group 1</td>\n",
       "      <td>Parque Central</td>\n",
       "      <td>Montevideo</td>\n",
       "      <td>Argentina</td>\n",
       "      <td>1.0</td>\n",
       "      <td>0.0</td>\n",
       "      <td>France</td>\n",
       "      <td></td>\n",
       "      <td>23409.0</td>\n",
       "      <td>0.0</td>\n",
       "      <td>0.0</td>\n",
       "      <td>REGO Gilberto (BRA)</td>\n",
       "      <td>SAUCEDO Ulises (BOL)</td>\n",
       "      <td>RADULESCU Constantin (ROU)</td>\n",
       "      <td>201.0</td>\n",
       "      <td>1085.0</td>\n",
       "      <td>ARG</td>\n",
       "      <td>FRA</td>\n",
       "    </tr>\n",
       "  </tbody>\n",
       "</table>\n",
       "</div>"
      ],
      "text/plain": [
       "     Year              Datetime    Stage         Stadium         City  \\\n",
       "0  1930.0  13 Jul 1930 - 15:00   Group 1         Pocitos  Montevideo    \n",
       "1  1930.0  13 Jul 1930 - 15:00   Group 4  Parque Central  Montevideo    \n",
       "2  1930.0  14 Jul 1930 - 12:45   Group 2  Parque Central  Montevideo    \n",
       "3  1930.0  14 Jul 1930 - 14:50   Group 3         Pocitos  Montevideo    \n",
       "4  1930.0  15 Jul 1930 - 16:00   Group 1  Parque Central  Montevideo    \n",
       "\n",
       "  Home Team Name  Home Team Goals  Away Team Goals Away Team Name  \\\n",
       "0         France              4.0              1.0         Mexico   \n",
       "1            USA              3.0              0.0        Belgium   \n",
       "2     Yugoslavia              2.0              1.0         Brazil   \n",
       "3        Romania              3.0              1.0           Peru   \n",
       "4      Argentina              1.0              0.0         France   \n",
       "\n",
       "  Win conditions  Attendance  Half-time Home Goals  Half-time Away Goals  \\\n",
       "0                     4444.0                   3.0                   0.0   \n",
       "1                    18346.0                   2.0                   0.0   \n",
       "2                    24059.0                   2.0                   0.0   \n",
       "3                     2549.0                   1.0                   0.0   \n",
       "4                    23409.0                   0.0                   0.0   \n",
       "\n",
       "                  Referee               Assistant 1  \\\n",
       "0  LOMBARDI Domingo (URU)     CRISTOPHE Henry (BEL)   \n",
       "1       MACIAS Jose (ARG)  MATEUCCI Francisco (URU)   \n",
       "2     TEJADA Anibal (URU)   VALLARINO Ricardo (URU)   \n",
       "3   WARNKEN Alberto (CHI)       LANGENUS Jean (BEL)   \n",
       "4     REGO Gilberto (BRA)      SAUCEDO Ulises (BOL)   \n",
       "\n",
       "                  Assistant 2  RoundID  MatchID Home Team Initials  \\\n",
       "0         REGO Gilberto (BRA)    201.0   1096.0                FRA   \n",
       "1       WARNKEN Alberto (CHI)    201.0   1090.0                USA   \n",
       "2         BALWAY Thomas (FRA)    201.0   1093.0                YUG   \n",
       "3    MATEUCCI Francisco (URU)    201.0   1098.0                ROU   \n",
       "4  RADULESCU Constantin (ROU)    201.0   1085.0                ARG   \n",
       "\n",
       "  Away Team Initials  \n",
       "0                MEX  \n",
       "1                BEL  \n",
       "2                BRA  \n",
       "3                PER  \n",
       "4                FRA  "
      ]
     },
     "execution_count": 10,
     "metadata": {},
     "output_type": "execute_result"
    }
   ],
   "source": [
    "df1.head(5)"
   ]
  },
  {
   "cell_type": "code",
   "execution_count": 11,
   "metadata": {},
   "outputs": [
    {
     "data": {
      "text/plain": [
       "(4572, 20)"
      ]
     },
     "execution_count": 11,
     "metadata": {},
     "output_type": "execute_result"
    }
   ],
   "source": [
    "df1.shape"
   ]
  },
  {
   "cell_type": "markdown",
   "metadata": {},
   "source": [
    "From the above I can see that there are 4572 rows and 20 columns."
   ]
  },
  {
   "cell_type": "code",
   "execution_count": 12,
   "metadata": {},
   "outputs": [
    {
     "name": "stdout",
     "output_type": "stream",
     "text": [
      "<class 'pandas.core.frame.DataFrame'>\n",
      "RangeIndex: 4572 entries, 0 to 4571\n",
      "Data columns (total 20 columns):\n",
      " #   Column                Non-Null Count  Dtype  \n",
      "---  ------                --------------  -----  \n",
      " 0   Year                  852 non-null    float64\n",
      " 1   Datetime              852 non-null    object \n",
      " 2   Stage                 852 non-null    object \n",
      " 3   Stadium               852 non-null    object \n",
      " 4   City                  852 non-null    object \n",
      " 5   Home Team Name        852 non-null    object \n",
      " 6   Home Team Goals       852 non-null    float64\n",
      " 7   Away Team Goals       852 non-null    float64\n",
      " 8   Away Team Name        852 non-null    object \n",
      " 9   Win conditions        852 non-null    object \n",
      " 10  Attendance            850 non-null    float64\n",
      " 11  Half-time Home Goals  852 non-null    float64\n",
      " 12  Half-time Away Goals  852 non-null    float64\n",
      " 13  Referee               852 non-null    object \n",
      " 14  Assistant 1           852 non-null    object \n",
      " 15  Assistant 2           852 non-null    object \n",
      " 16  RoundID               852 non-null    float64\n",
      " 17  MatchID               852 non-null    float64\n",
      " 18  Home Team Initials    852 non-null    object \n",
      " 19  Away Team Initials    852 non-null    object \n",
      "dtypes: float64(8), object(12)\n",
      "memory usage: 714.5+ KB\n"
     ]
    }
   ],
   "source": [
    "df1.info()"
   ]
  },
  {
   "cell_type": "markdown",
   "metadata": {},
   "source": [
    "From the above i can see that there are names of the column and there not null data and its data type"
   ]
  },
  {
   "cell_type": "code",
   "execution_count": 13,
   "metadata": {},
   "outputs": [
    {
     "data": {
      "text/html": [
       "<div>\n",
       "<style scoped>\n",
       "    .dataframe tbody tr th:only-of-type {\n",
       "        vertical-align: middle;\n",
       "    }\n",
       "\n",
       "    .dataframe tbody tr th {\n",
       "        vertical-align: top;\n",
       "    }\n",
       "\n",
       "    .dataframe thead th {\n",
       "        text-align: right;\n",
       "    }\n",
       "</style>\n",
       "<table border=\"1\" class=\"dataframe\">\n",
       "  <thead>\n",
       "    <tr style=\"text-align: right;\">\n",
       "      <th></th>\n",
       "      <th>Year</th>\n",
       "      <th>Home Team Goals</th>\n",
       "      <th>Away Team Goals</th>\n",
       "      <th>Attendance</th>\n",
       "      <th>Half-time Home Goals</th>\n",
       "      <th>Half-time Away Goals</th>\n",
       "      <th>RoundID</th>\n",
       "      <th>MatchID</th>\n",
       "    </tr>\n",
       "  </thead>\n",
       "  <tbody>\n",
       "    <tr>\n",
       "      <th>count</th>\n",
       "      <td>852.000000</td>\n",
       "      <td>852.000000</td>\n",
       "      <td>852.000000</td>\n",
       "      <td>850.000000</td>\n",
       "      <td>852.000000</td>\n",
       "      <td>852.000000</td>\n",
       "      <td>8.520000e+02</td>\n",
       "      <td>8.520000e+02</td>\n",
       "    </tr>\n",
       "    <tr>\n",
       "      <th>mean</th>\n",
       "      <td>1985.089202</td>\n",
       "      <td>1.811033</td>\n",
       "      <td>1.022300</td>\n",
       "      <td>45164.800000</td>\n",
       "      <td>0.708920</td>\n",
       "      <td>0.428404</td>\n",
       "      <td>1.066177e+07</td>\n",
       "      <td>6.134687e+07</td>\n",
       "    </tr>\n",
       "    <tr>\n",
       "      <th>std</th>\n",
       "      <td>22.448825</td>\n",
       "      <td>1.610255</td>\n",
       "      <td>1.087573</td>\n",
       "      <td>23485.249247</td>\n",
       "      <td>0.937414</td>\n",
       "      <td>0.691252</td>\n",
       "      <td>2.729613e+07</td>\n",
       "      <td>1.110572e+08</td>\n",
       "    </tr>\n",
       "    <tr>\n",
       "      <th>min</th>\n",
       "      <td>1930.000000</td>\n",
       "      <td>0.000000</td>\n",
       "      <td>0.000000</td>\n",
       "      <td>2000.000000</td>\n",
       "      <td>0.000000</td>\n",
       "      <td>0.000000</td>\n",
       "      <td>2.010000e+02</td>\n",
       "      <td>2.500000e+01</td>\n",
       "    </tr>\n",
       "    <tr>\n",
       "      <th>25%</th>\n",
       "      <td>1970.000000</td>\n",
       "      <td>1.000000</td>\n",
       "      <td>0.000000</td>\n",
       "      <td>30000.000000</td>\n",
       "      <td>0.000000</td>\n",
       "      <td>0.000000</td>\n",
       "      <td>2.620000e+02</td>\n",
       "      <td>1.188750e+03</td>\n",
       "    </tr>\n",
       "    <tr>\n",
       "      <th>50%</th>\n",
       "      <td>1990.000000</td>\n",
       "      <td>2.000000</td>\n",
       "      <td>1.000000</td>\n",
       "      <td>41579.500000</td>\n",
       "      <td>0.000000</td>\n",
       "      <td>0.000000</td>\n",
       "      <td>3.370000e+02</td>\n",
       "      <td>2.191000e+03</td>\n",
       "    </tr>\n",
       "    <tr>\n",
       "      <th>75%</th>\n",
       "      <td>2002.000000</td>\n",
       "      <td>3.000000</td>\n",
       "      <td>2.000000</td>\n",
       "      <td>61374.500000</td>\n",
       "      <td>1.000000</td>\n",
       "      <td>1.000000</td>\n",
       "      <td>2.497220e+05</td>\n",
       "      <td>4.395006e+07</td>\n",
       "    </tr>\n",
       "    <tr>\n",
       "      <th>max</th>\n",
       "      <td>2014.000000</td>\n",
       "      <td>10.000000</td>\n",
       "      <td>7.000000</td>\n",
       "      <td>173850.000000</td>\n",
       "      <td>6.000000</td>\n",
       "      <td>5.000000</td>\n",
       "      <td>9.741060e+07</td>\n",
       "      <td>3.001865e+08</td>\n",
       "    </tr>\n",
       "  </tbody>\n",
       "</table>\n",
       "</div>"
      ],
      "text/plain": [
       "              Year  Home Team Goals  Away Team Goals     Attendance  \\\n",
       "count   852.000000       852.000000       852.000000     850.000000   \n",
       "mean   1985.089202         1.811033         1.022300   45164.800000   \n",
       "std      22.448825         1.610255         1.087573   23485.249247   \n",
       "min    1930.000000         0.000000         0.000000    2000.000000   \n",
       "25%    1970.000000         1.000000         0.000000   30000.000000   \n",
       "50%    1990.000000         2.000000         1.000000   41579.500000   \n",
       "75%    2002.000000         3.000000         2.000000   61374.500000   \n",
       "max    2014.000000        10.000000         7.000000  173850.000000   \n",
       "\n",
       "       Half-time Home Goals  Half-time Away Goals       RoundID       MatchID  \n",
       "count            852.000000            852.000000  8.520000e+02  8.520000e+02  \n",
       "mean               0.708920              0.428404  1.066177e+07  6.134687e+07  \n",
       "std                0.937414              0.691252  2.729613e+07  1.110572e+08  \n",
       "min                0.000000              0.000000  2.010000e+02  2.500000e+01  \n",
       "25%                0.000000              0.000000  2.620000e+02  1.188750e+03  \n",
       "50%                0.000000              0.000000  3.370000e+02  2.191000e+03  \n",
       "75%                1.000000              1.000000  2.497220e+05  4.395006e+07  \n",
       "max                6.000000              5.000000  9.741060e+07  3.001865e+08  "
      ]
     },
     "execution_count": 13,
     "metadata": {},
     "output_type": "execute_result"
    }
   ],
   "source": [
    "df1.describe()"
   ]
  },
  {
   "cell_type": "markdown",
   "metadata": {},
   "source": [
    "These describe function will give the infromation about all the statistics "
   ]
  },
  {
   "cell_type": "code",
   "execution_count": 14,
   "metadata": {},
   "outputs": [
    {
     "data": {
      "text/plain": [
       "Year                    3720\n",
       "Datetime                3720\n",
       "Stage                   3720\n",
       "Stadium                 3720\n",
       "City                    3720\n",
       "Home Team Name          3720\n",
       "Home Team Goals         3720\n",
       "Away Team Goals         3720\n",
       "Away Team Name          3720\n",
       "Win conditions          3720\n",
       "Attendance              3722\n",
       "Half-time Home Goals    3720\n",
       "Half-time Away Goals    3720\n",
       "Referee                 3720\n",
       "Assistant 1             3720\n",
       "Assistant 2             3720\n",
       "RoundID                 3720\n",
       "MatchID                 3720\n",
       "Home Team Initials      3720\n",
       "Away Team Initials      3720\n",
       "dtype: int64"
      ]
     },
     "execution_count": 14,
     "metadata": {},
     "output_type": "execute_result"
    }
   ],
   "source": [
    "df1.isnull().sum()"
   ]
  },
  {
   "cell_type": "code",
   "execution_count": 16,
   "metadata": {},
   "outputs": [
    {
     "data": {
      "text/plain": [
       "Year                    81.36\n",
       "Datetime                81.36\n",
       "Stage                   81.36\n",
       "Stadium                 81.36\n",
       "City                    81.36\n",
       "Home Team Name          81.36\n",
       "Home Team Goals         81.36\n",
       "Away Team Goals         81.36\n",
       "Away Team Name          81.36\n",
       "Win conditions          81.36\n",
       "Attendance              81.41\n",
       "Half-time Home Goals    81.36\n",
       "Half-time Away Goals    81.36\n",
       "Referee                 81.36\n",
       "Assistant 1             81.36\n",
       "Assistant 2             81.36\n",
       "RoundID                 81.36\n",
       "MatchID                 81.36\n",
       "Home Team Initials      81.36\n",
       "Away Team Initials      81.36\n",
       "dtype: float64"
      ]
     },
     "execution_count": 16,
     "metadata": {},
     "output_type": "execute_result"
    }
   ],
   "source": [
    "# check the missing percentage \n",
    "percentage_missing_value = df1.isnull().sum()/len(df1) * 100\n",
    "percentage_missing_value.round(2)"
   ]
  },
  {
   "cell_type": "code",
   "execution_count": 17,
   "metadata": {},
   "outputs": [],
   "source": [
    "df1.dropna(inplace=True)"
   ]
  },
  {
   "cell_type": "code",
   "execution_count": 19,
   "metadata": {},
   "outputs": [
    {
     "data": {
      "text/plain": [
       "(850, 20)"
      ]
     },
     "execution_count": 19,
     "metadata": {},
     "output_type": "execute_result"
    }
   ],
   "source": [
    "df1.shape"
   ]
  },
  {
   "cell_type": "code",
   "execution_count": 20,
   "metadata": {},
   "outputs": [
    {
     "data": {
      "text/html": [
       "<div>\n",
       "<style scoped>\n",
       "    .dataframe tbody tr th:only-of-type {\n",
       "        vertical-align: middle;\n",
       "    }\n",
       "\n",
       "    .dataframe tbody tr th {\n",
       "        vertical-align: top;\n",
       "    }\n",
       "\n",
       "    .dataframe thead th {\n",
       "        text-align: right;\n",
       "    }\n",
       "</style>\n",
       "<table border=\"1\" class=\"dataframe\">\n",
       "  <thead>\n",
       "    <tr style=\"text-align: right;\">\n",
       "      <th></th>\n",
       "      <th>Year</th>\n",
       "      <th>Datetime</th>\n",
       "      <th>Stage</th>\n",
       "      <th>Stadium</th>\n",
       "      <th>City</th>\n",
       "      <th>Home Team Name</th>\n",
       "      <th>Home Team Goals</th>\n",
       "      <th>Away Team Goals</th>\n",
       "      <th>Away Team Name</th>\n",
       "      <th>Win conditions</th>\n",
       "      <th>Attendance</th>\n",
       "      <th>Half-time Home Goals</th>\n",
       "      <th>Half-time Away Goals</th>\n",
       "      <th>Referee</th>\n",
       "      <th>Assistant 1</th>\n",
       "      <th>Assistant 2</th>\n",
       "      <th>RoundID</th>\n",
       "      <th>MatchID</th>\n",
       "      <th>Home Team Initials</th>\n",
       "      <th>Away Team Initials</th>\n",
       "    </tr>\n",
       "  </thead>\n",
       "  <tbody>\n",
       "    <tr>\n",
       "      <th>0</th>\n",
       "      <td>1930.0</td>\n",
       "      <td>13 Jul 1930 - 15:00</td>\n",
       "      <td>Group 1</td>\n",
       "      <td>Pocitos</td>\n",
       "      <td>Montevideo</td>\n",
       "      <td>France</td>\n",
       "      <td>4.0</td>\n",
       "      <td>1.0</td>\n",
       "      <td>Mexico</td>\n",
       "      <td></td>\n",
       "      <td>4444.0</td>\n",
       "      <td>3.0</td>\n",
       "      <td>0.0</td>\n",
       "      <td>LOMBARDI Domingo (URU)</td>\n",
       "      <td>CRISTOPHE Henry (BEL)</td>\n",
       "      <td>REGO Gilberto (BRA)</td>\n",
       "      <td>201.0</td>\n",
       "      <td>1096.0</td>\n",
       "      <td>FRA</td>\n",
       "      <td>MEX</td>\n",
       "    </tr>\n",
       "    <tr>\n",
       "      <th>1</th>\n",
       "      <td>1930.0</td>\n",
       "      <td>13 Jul 1930 - 15:00</td>\n",
       "      <td>Group 4</td>\n",
       "      <td>Parque Central</td>\n",
       "      <td>Montevideo</td>\n",
       "      <td>USA</td>\n",
       "      <td>3.0</td>\n",
       "      <td>0.0</td>\n",
       "      <td>Belgium</td>\n",
       "      <td></td>\n",
       "      <td>18346.0</td>\n",
       "      <td>2.0</td>\n",
       "      <td>0.0</td>\n",
       "      <td>MACIAS Jose (ARG)</td>\n",
       "      <td>MATEUCCI Francisco (URU)</td>\n",
       "      <td>WARNKEN Alberto (CHI)</td>\n",
       "      <td>201.0</td>\n",
       "      <td>1090.0</td>\n",
       "      <td>USA</td>\n",
       "      <td>BEL</td>\n",
       "    </tr>\n",
       "    <tr>\n",
       "      <th>2</th>\n",
       "      <td>1930.0</td>\n",
       "      <td>14 Jul 1930 - 12:45</td>\n",
       "      <td>Group 2</td>\n",
       "      <td>Parque Central</td>\n",
       "      <td>Montevideo</td>\n",
       "      <td>Yugoslavia</td>\n",
       "      <td>2.0</td>\n",
       "      <td>1.0</td>\n",
       "      <td>Brazil</td>\n",
       "      <td></td>\n",
       "      <td>24059.0</td>\n",
       "      <td>2.0</td>\n",
       "      <td>0.0</td>\n",
       "      <td>TEJADA Anibal (URU)</td>\n",
       "      <td>VALLARINO Ricardo (URU)</td>\n",
       "      <td>BALWAY Thomas (FRA)</td>\n",
       "      <td>201.0</td>\n",
       "      <td>1093.0</td>\n",
       "      <td>YUG</td>\n",
       "      <td>BRA</td>\n",
       "    </tr>\n",
       "    <tr>\n",
       "      <th>3</th>\n",
       "      <td>1930.0</td>\n",
       "      <td>14 Jul 1930 - 14:50</td>\n",
       "      <td>Group 3</td>\n",
       "      <td>Pocitos</td>\n",
       "      <td>Montevideo</td>\n",
       "      <td>Romania</td>\n",
       "      <td>3.0</td>\n",
       "      <td>1.0</td>\n",
       "      <td>Peru</td>\n",
       "      <td></td>\n",
       "      <td>2549.0</td>\n",
       "      <td>1.0</td>\n",
       "      <td>0.0</td>\n",
       "      <td>WARNKEN Alberto (CHI)</td>\n",
       "      <td>LANGENUS Jean (BEL)</td>\n",
       "      <td>MATEUCCI Francisco (URU)</td>\n",
       "      <td>201.0</td>\n",
       "      <td>1098.0</td>\n",
       "      <td>ROU</td>\n",
       "      <td>PER</td>\n",
       "    </tr>\n",
       "    <tr>\n",
       "      <th>4</th>\n",
       "      <td>1930.0</td>\n",
       "      <td>15 Jul 1930 - 16:00</td>\n",
       "      <td>Group 1</td>\n",
       "      <td>Parque Central</td>\n",
       "      <td>Montevideo</td>\n",
       "      <td>Argentina</td>\n",
       "      <td>1.0</td>\n",
       "      <td>0.0</td>\n",
       "      <td>France</td>\n",
       "      <td></td>\n",
       "      <td>23409.0</td>\n",
       "      <td>0.0</td>\n",
       "      <td>0.0</td>\n",
       "      <td>REGO Gilberto (BRA)</td>\n",
       "      <td>SAUCEDO Ulises (BOL)</td>\n",
       "      <td>RADULESCU Constantin (ROU)</td>\n",
       "      <td>201.0</td>\n",
       "      <td>1085.0</td>\n",
       "      <td>ARG</td>\n",
       "      <td>FRA</td>\n",
       "    </tr>\n",
       "  </tbody>\n",
       "</table>\n",
       "</div>"
      ],
      "text/plain": [
       "     Year              Datetime    Stage         Stadium         City  \\\n",
       "0  1930.0  13 Jul 1930 - 15:00   Group 1         Pocitos  Montevideo    \n",
       "1  1930.0  13 Jul 1930 - 15:00   Group 4  Parque Central  Montevideo    \n",
       "2  1930.0  14 Jul 1930 - 12:45   Group 2  Parque Central  Montevideo    \n",
       "3  1930.0  14 Jul 1930 - 14:50   Group 3         Pocitos  Montevideo    \n",
       "4  1930.0  15 Jul 1930 - 16:00   Group 1  Parque Central  Montevideo    \n",
       "\n",
       "  Home Team Name  Home Team Goals  Away Team Goals Away Team Name  \\\n",
       "0         France              4.0              1.0         Mexico   \n",
       "1            USA              3.0              0.0        Belgium   \n",
       "2     Yugoslavia              2.0              1.0         Brazil   \n",
       "3        Romania              3.0              1.0           Peru   \n",
       "4      Argentina              1.0              0.0         France   \n",
       "\n",
       "  Win conditions  Attendance  Half-time Home Goals  Half-time Away Goals  \\\n",
       "0                     4444.0                   3.0                   0.0   \n",
       "1                    18346.0                   2.0                   0.0   \n",
       "2                    24059.0                   2.0                   0.0   \n",
       "3                     2549.0                   1.0                   0.0   \n",
       "4                    23409.0                   0.0                   0.0   \n",
       "\n",
       "                  Referee               Assistant 1  \\\n",
       "0  LOMBARDI Domingo (URU)     CRISTOPHE Henry (BEL)   \n",
       "1       MACIAS Jose (ARG)  MATEUCCI Francisco (URU)   \n",
       "2     TEJADA Anibal (URU)   VALLARINO Ricardo (URU)   \n",
       "3   WARNKEN Alberto (CHI)       LANGENUS Jean (BEL)   \n",
       "4     REGO Gilberto (BRA)      SAUCEDO Ulises (BOL)   \n",
       "\n",
       "                  Assistant 2  RoundID  MatchID Home Team Initials  \\\n",
       "0         REGO Gilberto (BRA)    201.0   1096.0                FRA   \n",
       "1       WARNKEN Alberto (CHI)    201.0   1090.0                USA   \n",
       "2         BALWAY Thomas (FRA)    201.0   1093.0                YUG   \n",
       "3    MATEUCCI Francisco (URU)    201.0   1098.0                ROU   \n",
       "4  RADULESCU Constantin (ROU)    201.0   1085.0                ARG   \n",
       "\n",
       "  Away Team Initials  \n",
       "0                MEX  \n",
       "1                BEL  \n",
       "2                BRA  \n",
       "3                PER  \n",
       "4                FRA  "
      ]
     },
     "execution_count": 20,
     "metadata": {},
     "output_type": "execute_result"
    }
   ],
   "source": [
    "df1.head()"
   ]
  },
  {
   "cell_type": "markdown",
   "metadata": {},
   "source": [
    "### calculting the unique values"
   ]
  },
  {
   "cell_type": "code",
   "execution_count": 21,
   "metadata": {},
   "outputs": [
    {
     "data": {
      "text/plain": [
       "array(['Group 1', 'Group 4', 'Group 2', 'Group 3', 'Semi-finals', 'Final',\n",
       "       'Preliminary round', 'Quarter-finals', 'Match for third place',\n",
       "       'First round', 'Group 6', 'Group B', 'Group A', 'Group 5',\n",
       "       'Group C', 'Group D', 'Group F', 'Group E', 'Round of 16',\n",
       "       'Group H', 'Group G', 'Third place', 'Play-off for third place'],\n",
       "      dtype=object)"
      ]
     },
     "execution_count": 21,
     "metadata": {},
     "output_type": "execute_result"
    }
   ],
   "source": [
    "df1['Stage'].unique()"
   ]
  },
  {
   "cell_type": "code",
   "execution_count": 22,
   "metadata": {},
   "outputs": [
    {
     "data": {
      "text/plain": [
       "array(['Pocitos', 'Parque Central', 'Estadio Centenario',\n",
       "       'Stadio Benito Mussolini', 'Giorgio Ascarelli', 'San Siro',\n",
       "       'Littorale', 'Giovanni Berta', 'Luigi Ferraris', 'Nazionale PNF',\n",
       "       'Littorio', 'Parc des Princes', 'Velodrome Municipale',\n",
       "       'Stade Olympique', 'Stade Municipal', 'Stade V�lodrome',\n",
       "       'Stade de la Meinau', 'Cavee Verte', 'Stade du Parc Lescure',\n",
       "       'Victor Boucquey', 'Fort Carree',\n",
       "       'Maracan� - Est�dio Jornalista M�rio Filho', 'Durival de Brito',\n",
       "       'Pacaembu', 'Independencia', 'Eucaliptos', 'Ilha do Retiro',\n",
       "       'Wankdorf Stadium', 'Hardturm', 'Charmilles', 'La Pontaise',\n",
       "       'St. Jakob', 'Comunale di Cornaredo', 'Rasunda Stadium',\n",
       "       'Nya Ullevi', 'Malmo Stadion', 'Jarnvallen', 'Idrottsparken',\n",
       "       'Arosvallen', 'Rimnersvallen', 'Orjans Vall', 'Ryavallen',\n",
       "       'Olympia Stadium', 'Tunavallen', 'Eyravallen', 'Carlos Dittborn',\n",
       "       'Estadio Sausalito', 'Estadio El Teniente-Codelco', 'Nacional',\n",
       "       'Wembley Stadium', 'Hillsborough', 'Goodison Park',\n",
       "       'Ayresome Park', 'Old Trafford Stadium', 'Villa Park',\n",
       "       'Roker Park Ground', 'White City', 'Estadio Azteca', 'Cuauhtemoc',\n",
       "       'Nou Camp - Estadio Le�n', 'Jalisco', 'Luis Dosal', 'Waldstadion',\n",
       "       'Olympiastadion', 'Volksparkstadion', 'Westfalenstadion',\n",
       "       'Niedersachsenstadion', 'Rheinstadion', 'Neckarstadion',\n",
       "       'Parkstadion',\n",
       "       'El Monumental - Estadio Monumental Antonio Vespuci',\n",
       "       'Estadio Jos� Mar�a Minella',\n",
       "       'Arroyito - Estadio Dr. Lisandro de la Torre', 'Jose Amalfitani',\n",
       "       'Estadio Ol�mpico Chateau Carreras', 'San Martin', 'Camp Nou',\n",
       "       'Estadio Municipal de Bala�dos', 'Ramon Sanchez Pizjuan', 'Riazor',\n",
       "       'Nuevo Estadio', 'La Rosaleda', 'El Molinon', 'San Mames',\n",
       "       'Luis Casanova', 'Carlos Tartiere', 'Jose Zorrilla', 'La Romareda',\n",
       "       'Jose Rico Perez', 'Benito Villamarin', 'Vicente Calderon',\n",
       "       'Sarria', 'Santiago Bernabeu', 'Estadio Irapuato',\n",
       "       'Estadio Ol�mpico Universitario', 'Estadio Universitario',\n",
       "       'Tres de Marzo', 'Tecnologico', 'Bombonera - Estadio Nemesio Diez',\n",
       "       'Neza', 'Estadio Corregidora', 'Giuseppe Meazza',\n",
       "       'Stadio San Nicola', 'Renato Dall Ara', 'Stadio Olimpico',\n",
       "       'Comunale', 'Stadio delle Alpi', 'Sant Elia',\n",
       "       'Marc Antonio Bentegodi', 'Della Favorita', 'Dacia Arena',\n",
       "       'San Paolo', 'Friuli', 'Cotton Bowl', 'Soldier Field',\n",
       "       'Pontiac Silverdome', 'Giants Stadium', 'Rose Bowl', 'Citrus Bowl',\n",
       "       'RFK Stadium', 'Stanford Stadium', 'Foxboro Stadium',\n",
       "       'Stade de France', 'La Mosson', 'Stade Felix Bollaert',\n",
       "       'La Beaujoire', 'Stade de Gerland', 'Stade Geoffroy Guichard',\n",
       "       'Seoul World Cup Stadium', 'Munsu Football Stadium',\n",
       "       'Niigata Stadium Big Swan', 'Sapporo Dome', 'Kashima Stadium',\n",
       "       'Busan Asiad Main Stadium', 'Saitama Stadium 2002',\n",
       "       'Gwangju World Cup Stadium', 'Kobe Wing Stadium',\n",
       "       'Suwon World Cup Stadium', 'Daegu World Cup Stadium',\n",
       "       'Jeonju World Cup Stadium', 'Jeju World Cup Stadium',\n",
       "       'Incheon Football Stadium', 'International Stadium Yokohama',\n",
       "       'Miyagi Stadium', 'Oita Stadium Big Eye', 'Shizuoka Stadium Ecopa',\n",
       "       'Osaka Nagai Stadium', 'Daejeon World Cup Stadium',\n",
       "       'FIFA World Cup Stadium, Munich',\n",
       "       'FIFA World Cup Stadium, Gelsenkirchen',\n",
       "       'FIFA World Cup Stadium, Frankfurt',\n",
       "       'FIFA World Cup Stadium, Dortmund',\n",
       "       'FIFA World Cup Stadium, Hamburg', 'Zentralstadion',\n",
       "       'Franken-Stadion', 'FIFA World Cup Stadium, Cologne',\n",
       "       'Fritz-Walter-Stadion', 'FIFA World Cup Stadium, Hanover',\n",
       "       'Gottlieb-Daimler-Stadion', 'Soccer City Stadium',\n",
       "       'Cape Town Stadium', 'Port Elizabeth Stadium',\n",
       "       'Ellis Park Stadium', 'Royal Bafokeng Sports Palace',\n",
       "       'Peter Mokaba Stadium', 'Loftus Versfeld Stadium',\n",
       "       'Durban Stadium', 'Free State Stadium', 'Mbombela Stadium',\n",
       "       'Arena de Sao Paulo', 'Estadio das Dunas', 'Arena Fonte Nova',\n",
       "       'Arena Pantanal', 'Estadio Mineirao', 'Estadio Castelao',\n",
       "       'Arena Amazonia', 'Arena Pernambuco', 'Estadio Nacional',\n",
       "       'Estadio Beira-Rio', 'Estadio do Maracana', 'Arena da Baixada'],\n",
       "      dtype=object)"
      ]
     },
     "execution_count": 22,
     "metadata": {},
     "output_type": "execute_result"
    }
   ],
   "source": [
    "df1['Stadium'].unique()"
   ]
  },
  {
   "cell_type": "code",
   "execution_count": 23,
   "metadata": {},
   "outputs": [],
   "source": [
    "df1['Stadium'] = df1['Stadium']. replace(['Stade V�lodrome','Maracan� - Est�dio Jornalista M�rio Filho',\n",
    "                                          'Nou Camp - Estadio Le�n','Estadio Jos� Mar�a Minella'],\n",
    "                                   ['Stade Vlodrome','Estdio Jornalista Mrio Filho','Nou Camp - Estadio Len',\n",
    "                                    'Estadio Jos Mara Minella'])"
   ]
  },
  {
   "cell_type": "code",
   "execution_count": 24,
   "metadata": {},
   "outputs": [
    {
     "data": {
      "text/plain": [
       "array(['Pocitos', 'Parque Central', 'Estadio Centenario',\n",
       "       'Stadio Benito Mussolini', 'Giorgio Ascarelli', 'San Siro',\n",
       "       'Littorale', 'Giovanni Berta', 'Luigi Ferraris', 'Nazionale PNF',\n",
       "       'Littorio', 'Parc des Princes', 'Velodrome Municipale',\n",
       "       'Stade Olympique', 'Stade Municipal', 'Stade Vlodrome',\n",
       "       'Stade de la Meinau', 'Cavee Verte', 'Stade du Parc Lescure',\n",
       "       'Victor Boucquey', 'Fort Carree', 'Estdio Jornalista Mrio Filho',\n",
       "       'Durival de Brito', 'Pacaembu', 'Independencia', 'Eucaliptos',\n",
       "       'Ilha do Retiro', 'Wankdorf Stadium', 'Hardturm', 'Charmilles',\n",
       "       'La Pontaise', 'St. Jakob', 'Comunale di Cornaredo',\n",
       "       'Rasunda Stadium', 'Nya Ullevi', 'Malmo Stadion', 'Jarnvallen',\n",
       "       'Idrottsparken', 'Arosvallen', 'Rimnersvallen', 'Orjans Vall',\n",
       "       'Ryavallen', 'Olympia Stadium', 'Tunavallen', 'Eyravallen',\n",
       "       'Carlos Dittborn', 'Estadio Sausalito',\n",
       "       'Estadio El Teniente-Codelco', 'Nacional', 'Wembley Stadium',\n",
       "       'Hillsborough', 'Goodison Park', 'Ayresome Park',\n",
       "       'Old Trafford Stadium', 'Villa Park', 'Roker Park Ground',\n",
       "       'White City', 'Estadio Azteca', 'Cuauhtemoc',\n",
       "       'Nou Camp - Estadio Len', 'Jalisco', 'Luis Dosal', 'Waldstadion',\n",
       "       'Olympiastadion', 'Volksparkstadion', 'Westfalenstadion',\n",
       "       'Niedersachsenstadion', 'Rheinstadion', 'Neckarstadion',\n",
       "       'Parkstadion',\n",
       "       'El Monumental - Estadio Monumental Antonio Vespuci',\n",
       "       'Estadio Jos Mara Minella',\n",
       "       'Arroyito - Estadio Dr. Lisandro de la Torre', 'Jose Amalfitani',\n",
       "       'Estadio Ol�mpico Chateau Carreras', 'San Martin', 'Camp Nou',\n",
       "       'Estadio Municipal de Bala�dos', 'Ramon Sanchez Pizjuan', 'Riazor',\n",
       "       'Nuevo Estadio', 'La Rosaleda', 'El Molinon', 'San Mames',\n",
       "       'Luis Casanova', 'Carlos Tartiere', 'Jose Zorrilla', 'La Romareda',\n",
       "       'Jose Rico Perez', 'Benito Villamarin', 'Vicente Calderon',\n",
       "       'Sarria', 'Santiago Bernabeu', 'Estadio Irapuato',\n",
       "       'Estadio Ol�mpico Universitario', 'Estadio Universitario',\n",
       "       'Tres de Marzo', 'Tecnologico', 'Bombonera - Estadio Nemesio Diez',\n",
       "       'Neza', 'Estadio Corregidora', 'Giuseppe Meazza',\n",
       "       'Stadio San Nicola', 'Renato Dall Ara', 'Stadio Olimpico',\n",
       "       'Comunale', 'Stadio delle Alpi', 'Sant Elia',\n",
       "       'Marc Antonio Bentegodi', 'Della Favorita', 'Dacia Arena',\n",
       "       'San Paolo', 'Friuli', 'Cotton Bowl', 'Soldier Field',\n",
       "       'Pontiac Silverdome', 'Giants Stadium', 'Rose Bowl', 'Citrus Bowl',\n",
       "       'RFK Stadium', 'Stanford Stadium', 'Foxboro Stadium',\n",
       "       'Stade de France', 'La Mosson', 'Stade Felix Bollaert',\n",
       "       'La Beaujoire', 'Stade de Gerland', 'Stade Geoffroy Guichard',\n",
       "       'Seoul World Cup Stadium', 'Munsu Football Stadium',\n",
       "       'Niigata Stadium Big Swan', 'Sapporo Dome', 'Kashima Stadium',\n",
       "       'Busan Asiad Main Stadium', 'Saitama Stadium 2002',\n",
       "       'Gwangju World Cup Stadium', 'Kobe Wing Stadium',\n",
       "       'Suwon World Cup Stadium', 'Daegu World Cup Stadium',\n",
       "       'Jeonju World Cup Stadium', 'Jeju World Cup Stadium',\n",
       "       'Incheon Football Stadium', 'International Stadium Yokohama',\n",
       "       'Miyagi Stadium', 'Oita Stadium Big Eye', 'Shizuoka Stadium Ecopa',\n",
       "       'Osaka Nagai Stadium', 'Daejeon World Cup Stadium',\n",
       "       'FIFA World Cup Stadium, Munich',\n",
       "       'FIFA World Cup Stadium, Gelsenkirchen',\n",
       "       'FIFA World Cup Stadium, Frankfurt',\n",
       "       'FIFA World Cup Stadium, Dortmund',\n",
       "       'FIFA World Cup Stadium, Hamburg', 'Zentralstadion',\n",
       "       'Franken-Stadion', 'FIFA World Cup Stadium, Cologne',\n",
       "       'Fritz-Walter-Stadion', 'FIFA World Cup Stadium, Hanover',\n",
       "       'Gottlieb-Daimler-Stadion', 'Soccer City Stadium',\n",
       "       'Cape Town Stadium', 'Port Elizabeth Stadium',\n",
       "       'Ellis Park Stadium', 'Royal Bafokeng Sports Palace',\n",
       "       'Peter Mokaba Stadium', 'Loftus Versfeld Stadium',\n",
       "       'Durban Stadium', 'Free State Stadium', 'Mbombela Stadium',\n",
       "       'Arena de Sao Paulo', 'Estadio das Dunas', 'Arena Fonte Nova',\n",
       "       'Arena Pantanal', 'Estadio Mineirao', 'Estadio Castelao',\n",
       "       'Arena Amazonia', 'Arena Pernambuco', 'Estadio Nacional',\n",
       "       'Estadio Beira-Rio', 'Estadio do Maracana', 'Arena da Baixada'],\n",
       "      dtype=object)"
      ]
     },
     "execution_count": 24,
     "metadata": {},
     "output_type": "execute_result"
    }
   ],
   "source": [
    "df1['Stadium'].unique()"
   ]
  },
  {
   "cell_type": "code",
   "execution_count": 25,
   "metadata": {},
   "outputs": [
    {
     "data": {
      "text/plain": [
       "array(['Montevideo ', 'Turin ', 'Naples ', 'Milan ', 'Bologna ',\n",
       "       'Florence ', 'Genoa ', 'Rome ', 'Trieste ', 'Paris ', 'Reims ',\n",
       "       'Colombes ', 'Toulouse ', 'Marseilles ', 'Strasbourg ',\n",
       "       'Le Havre ', 'Bordeaux ', 'Lille ', 'Antibes ', 'Rio De Janeiro ',\n",
       "       'Curitiba ', 'Sao Paulo ', 'Belo Horizonte ', 'Porto Alegre ',\n",
       "       'Recife ', 'Berne ', 'Zurich ', 'Geneva ', 'Lausanne ', 'Basel ',\n",
       "       'Lugano ', 'Solna ', 'Gothenburg ', 'Malm� ', 'Sandviken ',\n",
       "       'Norrk�Ping ', 'Vasteras ', 'Udevalla ', 'Halmstad ', 'Boras ',\n",
       "       'Helsingborg ', 'Eskilstuna ', 'Orebro ', 'Arica ',\n",
       "       'Vina Del Mar ', 'Rancagua ', 'Santiago De Chile ', 'London ',\n",
       "       'Sheffield ', 'Liverpool ', 'Middlesbrough ', 'Manchester ',\n",
       "       'Birmingham ', 'Sunderland ', 'Mexico City ', 'Puebla ', 'Leon ',\n",
       "       'Guadalajara ', 'Toluca ', 'Frankfurt/Main ', 'Berlin West ',\n",
       "       'Hamburg ', 'Dortmund ', 'Hanover ', 'D�Sseldorf ', 'Munich ',\n",
       "       'Stuttgart ', 'Gelsenkirchen ', 'Buenos Aires ', 'Mar Del Plata ',\n",
       "       'Rosario ', 'Cordoba ', 'Mendoza ', 'Barcelona ', 'Vigo ',\n",
       "       'Seville ', 'La Coru�A ', 'Elche ', 'Malaga ', 'Gijon ', 'Bilbao ',\n",
       "       'Valencia ', 'Oviedo ', 'Valladolid ', 'Zaragoza ', 'Alicante ',\n",
       "       'Madrid ', 'Irapuato ', 'Monterrey ', 'Nezahualcoyotl ',\n",
       "       'Queretaro ', 'Bari ', 'Cagliari ', 'Verona ', 'Palermo ',\n",
       "       'Udine ', 'Dallas ', 'Chicago ', 'Detroit ',\n",
       "       'New York/New Jersey ', 'Los Angeles ', 'Orlando ',\n",
       "       'Washington Dc ', 'San Francisco ', 'Boston ', 'Saint-Denis ',\n",
       "       'Montpellier ', 'Lens ', 'Nantes ', 'Lyon ', 'Saint-Etienne ',\n",
       "       'Seoul ', 'Ulsan ', 'Niigata ', 'Sapporo ', 'Ibaraki ', 'Busan ',\n",
       "       'Saitama ', 'Gwangju ', 'Kobe ', 'Suwon ', 'Daegu ', 'Jeonju ',\n",
       "       'Jeju ', 'Incheon ', 'Yokohama ', 'Rifu ', 'Oita ', 'Shizuoka ',\n",
       "       'Osaka ', 'Daejeon ', 'Leipzig ', 'Nuremberg ', 'Cologne ',\n",
       "       'Kaiserslautern ', 'Berlin ', 'Johannesburg ', 'Cape Town ',\n",
       "       'Nelson Mandela Bay/Port Elizabeth ', 'Phokeng ', 'Polokwane ',\n",
       "       'Tshwane/Pretoria ', 'Durban ', 'Mangaung/Bloemfontein ',\n",
       "       'Nelspruit ', 'Natal ', 'Salvador ', 'Cuiaba ', 'Fortaleza ',\n",
       "       'Manaus ', 'Brasilia '], dtype=object)"
      ]
     },
     "execution_count": 25,
     "metadata": {},
     "output_type": "execute_result"
    }
   ],
   "source": [
    "df1['City'].unique()"
   ]
  },
  {
   "cell_type": "code",
   "execution_count": 26,
   "metadata": {},
   "outputs": [],
   "source": [
    "df1['City'] = df1['City']. replace(['Norrk�Ping ','La Coru�A ','D�Sseldorf '],\n",
    "                                   ['Norrk Ping','La Coru A', 'D Sseldrof'])"
   ]
  },
  {
   "cell_type": "code",
   "execution_count": 27,
   "metadata": {},
   "outputs": [
    {
     "data": {
      "text/plain": [
       "array(['Montevideo ', 'Turin ', 'Naples ', 'Milan ', 'Bologna ',\n",
       "       'Florence ', 'Genoa ', 'Rome ', 'Trieste ', 'Paris ', 'Reims ',\n",
       "       'Colombes ', 'Toulouse ', 'Marseilles ', 'Strasbourg ',\n",
       "       'Le Havre ', 'Bordeaux ', 'Lille ', 'Antibes ', 'Rio De Janeiro ',\n",
       "       'Curitiba ', 'Sao Paulo ', 'Belo Horizonte ', 'Porto Alegre ',\n",
       "       'Recife ', 'Berne ', 'Zurich ', 'Geneva ', 'Lausanne ', 'Basel ',\n",
       "       'Lugano ', 'Solna ', 'Gothenburg ', 'Malm� ', 'Sandviken ',\n",
       "       'Norrk Ping', 'Vasteras ', 'Udevalla ', 'Halmstad ', 'Boras ',\n",
       "       'Helsingborg ', 'Eskilstuna ', 'Orebro ', 'Arica ',\n",
       "       'Vina Del Mar ', 'Rancagua ', 'Santiago De Chile ', 'London ',\n",
       "       'Sheffield ', 'Liverpool ', 'Middlesbrough ', 'Manchester ',\n",
       "       'Birmingham ', 'Sunderland ', 'Mexico City ', 'Puebla ', 'Leon ',\n",
       "       'Guadalajara ', 'Toluca ', 'Frankfurt/Main ', 'Berlin West ',\n",
       "       'Hamburg ', 'Dortmund ', 'Hanover ', 'D Sseldrof', 'Munich ',\n",
       "       'Stuttgart ', 'Gelsenkirchen ', 'Buenos Aires ', 'Mar Del Plata ',\n",
       "       'Rosario ', 'Cordoba ', 'Mendoza ', 'Barcelona ', 'Vigo ',\n",
       "       'Seville ', 'La Coru A', 'Elche ', 'Malaga ', 'Gijon ', 'Bilbao ',\n",
       "       'Valencia ', 'Oviedo ', 'Valladolid ', 'Zaragoza ', 'Alicante ',\n",
       "       'Madrid ', 'Irapuato ', 'Monterrey ', 'Nezahualcoyotl ',\n",
       "       'Queretaro ', 'Bari ', 'Cagliari ', 'Verona ', 'Palermo ',\n",
       "       'Udine ', 'Dallas ', 'Chicago ', 'Detroit ',\n",
       "       'New York/New Jersey ', 'Los Angeles ', 'Orlando ',\n",
       "       'Washington Dc ', 'San Francisco ', 'Boston ', 'Saint-Denis ',\n",
       "       'Montpellier ', 'Lens ', 'Nantes ', 'Lyon ', 'Saint-Etienne ',\n",
       "       'Seoul ', 'Ulsan ', 'Niigata ', 'Sapporo ', 'Ibaraki ', 'Busan ',\n",
       "       'Saitama ', 'Gwangju ', 'Kobe ', 'Suwon ', 'Daegu ', 'Jeonju ',\n",
       "       'Jeju ', 'Incheon ', 'Yokohama ', 'Rifu ', 'Oita ', 'Shizuoka ',\n",
       "       'Osaka ', 'Daejeon ', 'Leipzig ', 'Nuremberg ', 'Cologne ',\n",
       "       'Kaiserslautern ', 'Berlin ', 'Johannesburg ', 'Cape Town ',\n",
       "       'Nelson Mandela Bay/Port Elizabeth ', 'Phokeng ', 'Polokwane ',\n",
       "       'Tshwane/Pretoria ', 'Durban ', 'Mangaung/Bloemfontein ',\n",
       "       'Nelspruit ', 'Natal ', 'Salvador ', 'Cuiaba ', 'Fortaleza ',\n",
       "       'Manaus ', 'Brasilia '], dtype=object)"
      ]
     },
     "execution_count": 27,
     "metadata": {},
     "output_type": "execute_result"
    }
   ],
   "source": [
    "df1['City'].unique()"
   ]
  },
  {
   "cell_type": "code",
   "execution_count": 28,
   "metadata": {},
   "outputs": [
    {
     "data": {
      "text/plain": [
       "array(['France', 'USA', 'Yugoslavia', 'Romania', 'Argentina', 'Chile',\n",
       "       'Uruguay', 'Brazil', 'Paraguay', 'Austria', 'Hungary',\n",
       "       'Switzerland', 'Sweden', 'Germany', 'Spain', 'Italy',\n",
       "       'Czechoslovakia', 'Cuba', 'England', 'Germany FR', 'Turkey',\n",
       "       'Soviet Union', 'Northern Ireland', 'Mexico', 'Wales', 'Portugal',\n",
       "       'Korea DPR', 'Peru', 'Belgium', 'Bulgaria', 'German DR', 'Zaire',\n",
       "       'Poland', 'Australia', 'Scotland', 'Netherlands', 'Haiti',\n",
       "       'Tunisia', 'Algeria', 'Honduras', 'Canada', 'Morocco',\n",
       "       'Korea Republic', 'Iraq', 'Denmark', 'rn\">United Arab Emirates',\n",
       "       'Costa Rica', 'Cameroon', 'rn\">Republic of Ireland', 'Colombia',\n",
       "       'Norway', 'Nigeria', 'Saudi Arabia', 'Bolivia', 'Russia', 'Greece',\n",
       "       'Jamaica', 'South Africa', 'Japan', 'Croatia', 'China PR',\n",
       "       'Senegal', 'Slovenia', 'Ecuador', 'rn\">Trinidad and Tobago',\n",
       "       'rn\">Serbia and Montenegro', 'Angola', 'Czech Republic', 'Togo',\n",
       "       'Iran', \"C�te d'Ivoire\", 'Ghana', 'Ukraine', 'Serbia',\n",
       "       'New Zealand', 'Slovakia', 'IR Iran', 'rn\">Bosnia and Herzegovina'],\n",
       "      dtype=object)"
      ]
     },
     "execution_count": 28,
     "metadata": {},
     "output_type": "execute_result"
    }
   ],
   "source": [
    "df1['Home Team Name'].unique()"
   ]
  },
  {
   "cell_type": "code",
   "execution_count": 29,
   "metadata": {},
   "outputs": [],
   "source": [
    "df1['Home Team Name'] = df1['Home Team Name']. replace([ \"C�te d'Ivoire\"],\n",
    "                                   [\"C te d' Ivoire\"])"
   ]
  },
  {
   "cell_type": "code",
   "execution_count": 30,
   "metadata": {},
   "outputs": [
    {
     "data": {
      "text/plain": [
       "array(['France', 'USA', 'Yugoslavia', 'Romania', 'Argentina', 'Chile',\n",
       "       'Uruguay', 'Brazil', 'Paraguay', 'Austria', 'Hungary',\n",
       "       'Switzerland', 'Sweden', 'Germany', 'Spain', 'Italy',\n",
       "       'Czechoslovakia', 'Cuba', 'England', 'Germany FR', 'Turkey',\n",
       "       'Soviet Union', 'Northern Ireland', 'Mexico', 'Wales', 'Portugal',\n",
       "       'Korea DPR', 'Peru', 'Belgium', 'Bulgaria', 'German DR', 'Zaire',\n",
       "       'Poland', 'Australia', 'Scotland', 'Netherlands', 'Haiti',\n",
       "       'Tunisia', 'Algeria', 'Honduras', 'Canada', 'Morocco',\n",
       "       'Korea Republic', 'Iraq', 'Denmark', 'rn\">United Arab Emirates',\n",
       "       'Costa Rica', 'Cameroon', 'rn\">Republic of Ireland', 'Colombia',\n",
       "       'Norway', 'Nigeria', 'Saudi Arabia', 'Bolivia', 'Russia', 'Greece',\n",
       "       'Jamaica', 'South Africa', 'Japan', 'Croatia', 'China PR',\n",
       "       'Senegal', 'Slovenia', 'Ecuador', 'rn\">Trinidad and Tobago',\n",
       "       'rn\">Serbia and Montenegro', 'Angola', 'Czech Republic', 'Togo',\n",
       "       'Iran', \"C te d' Ivoire\", 'Ghana', 'Ukraine', 'Serbia',\n",
       "       'New Zealand', 'Slovakia', 'IR Iran', 'rn\">Bosnia and Herzegovina'],\n",
       "      dtype=object)"
      ]
     },
     "execution_count": 30,
     "metadata": {},
     "output_type": "execute_result"
    }
   ],
   "source": [
    "df1['Home Team Name'].unique()"
   ]
  },
  {
   "cell_type": "code",
   "execution_count": 31,
   "metadata": {},
   "outputs": [
    {
     "data": {
      "text/plain": [
       "array(['Mexico', 'Belgium', 'Brazil', 'Peru', 'France', 'Bolivia',\n",
       "       'Paraguay', 'Romania', 'Chile', 'USA', 'Yugoslavia', 'Argentina',\n",
       "       'Egypt', 'Netherlands', 'Switzerland', 'Sweden', 'Spain',\n",
       "       'Hungary', 'Austria', 'Germany', 'Czechoslovakia',\n",
       "       'Dutch East Indies', 'Norway', 'Poland', 'Cuba', 'Italy',\n",
       "       'England', 'Scotland', 'Turkey', 'Korea Republic', 'Germany FR',\n",
       "       'Uruguay', 'Wales', 'Northern Ireland', 'Soviet Union', 'Colombia',\n",
       "       'Bulgaria', 'Korea DPR', 'Portugal', 'Israel', 'Morocco',\n",
       "       'El Salvador', 'Australia', 'Haiti', 'German DR', 'Zaire',\n",
       "       'IR Iran', 'Tunisia', 'Iran', 'Cameroon', 'New Zealand', 'Algeria',\n",
       "       'Honduras', 'Kuwait', 'Iraq', 'Denmark', 'Canada',\n",
       "       'rn\">Republic of Ireland', 'rn\">United Arab Emirates',\n",
       "       'Costa Rica', 'Saudi Arabia', 'Russia', 'Greece', 'Nigeria',\n",
       "       'South Africa', 'Japan', 'Croatia', 'Jamaica', 'Senegal',\n",
       "       'Slovenia', 'Ecuador', 'China PR', \"C�te d'Ivoire\",\n",
       "       'Czech Republic', 'Ghana', 'Togo', 'Ukraine',\n",
       "       'rn\">Trinidad and Tobago', 'rn\">Serbia and Montenegro', 'Angola',\n",
       "       'Slovakia', 'Serbia', 'rn\">Bosnia and Herzegovina'], dtype=object)"
      ]
     },
     "execution_count": 31,
     "metadata": {},
     "output_type": "execute_result"
    }
   ],
   "source": [
    "df1['Away Team Name'].unique()"
   ]
  },
  {
   "cell_type": "code",
   "execution_count": 32,
   "metadata": {},
   "outputs": [],
   "source": [
    "df1['Away Team Name'] = df1['Away Team Name']. replace([ \"C�te d'Ivoire\"],\n",
    "                                   [\"C te d' Ivoire\"])"
   ]
  },
  {
   "cell_type": "code",
   "execution_count": 33,
   "metadata": {},
   "outputs": [
    {
     "data": {
      "text/plain": [
       "array(['Mexico', 'Belgium', 'Brazil', 'Peru', 'France', 'Bolivia',\n",
       "       'Paraguay', 'Romania', 'Chile', 'USA', 'Yugoslavia', 'Argentina',\n",
       "       'Egypt', 'Netherlands', 'Switzerland', 'Sweden', 'Spain',\n",
       "       'Hungary', 'Austria', 'Germany', 'Czechoslovakia',\n",
       "       'Dutch East Indies', 'Norway', 'Poland', 'Cuba', 'Italy',\n",
       "       'England', 'Scotland', 'Turkey', 'Korea Republic', 'Germany FR',\n",
       "       'Uruguay', 'Wales', 'Northern Ireland', 'Soviet Union', 'Colombia',\n",
       "       'Bulgaria', 'Korea DPR', 'Portugal', 'Israel', 'Morocco',\n",
       "       'El Salvador', 'Australia', 'Haiti', 'German DR', 'Zaire',\n",
       "       'IR Iran', 'Tunisia', 'Iran', 'Cameroon', 'New Zealand', 'Algeria',\n",
       "       'Honduras', 'Kuwait', 'Iraq', 'Denmark', 'Canada',\n",
       "       'rn\">Republic of Ireland', 'rn\">United Arab Emirates',\n",
       "       'Costa Rica', 'Saudi Arabia', 'Russia', 'Greece', 'Nigeria',\n",
       "       'South Africa', 'Japan', 'Croatia', 'Jamaica', 'Senegal',\n",
       "       'Slovenia', 'Ecuador', 'China PR', \"C te d' Ivoire\",\n",
       "       'Czech Republic', 'Ghana', 'Togo', 'Ukraine',\n",
       "       'rn\">Trinidad and Tobago', 'rn\">Serbia and Montenegro', 'Angola',\n",
       "       'Slovakia', 'Serbia', 'rn\">Bosnia and Herzegovina'], dtype=object)"
      ]
     },
     "execution_count": 33,
     "metadata": {},
     "output_type": "execute_result"
    }
   ],
   "source": [
    "df1['Away Team Name'].unique()"
   ]
  },
  {
   "cell_type": "code",
   "execution_count": 34,
   "metadata": {},
   "outputs": [
    {
     "data": {
      "text/plain": [
       "array(['France', 'USA', 'Yugoslavia', 'Romania', 'Argentina', 'Chile',\n",
       "       'Uruguay', 'Brazil', 'Paraguay', 'Austria', 'Hungary',\n",
       "       'Switzerland', 'Sweden', 'Germany', 'Spain', 'Italy',\n",
       "       'Czechoslovakia', 'Cuba', 'England', 'Germany FR', 'Turkey',\n",
       "       'Soviet Union', 'Northern Ireland', 'Mexico', 'Wales', 'Portugal',\n",
       "       'Korea DPR', 'Peru', 'Belgium', 'Bulgaria', 'German DR', 'Zaire',\n",
       "       'Poland', 'Australia', 'Scotland', 'Netherlands', 'Haiti',\n",
       "       'Tunisia', 'Algeria', 'Honduras', 'Canada', 'Morocco',\n",
       "       'Korea Republic', 'Iraq', 'Denmark', 'rn\">United Arab Emirates',\n",
       "       'Costa Rica', 'Cameroon', 'rn\">Republic of Ireland', 'Colombia',\n",
       "       'Norway', 'Nigeria', 'Saudi Arabia', 'Bolivia', 'Russia', 'Greece',\n",
       "       'Jamaica', 'South Africa', 'Japan', 'Croatia', 'China PR',\n",
       "       'Senegal', 'Slovenia', 'Ecuador', 'rn\">Trinidad and Tobago',\n",
       "       'rn\">Serbia and Montenegro', 'Angola', 'Czech Republic', 'Togo',\n",
       "       'Iran', \"C te d' Ivoire\", 'Ghana', 'Ukraine', 'Serbia',\n",
       "       'New Zealand', 'Slovakia', 'IR Iran', 'rn\">Bosnia and Herzegovina'],\n",
       "      dtype=object)"
      ]
     },
     "execution_count": 34,
     "metadata": {},
     "output_type": "execute_result"
    }
   ],
   "source": [
    "df1['Home Team Name'].unique()"
   ]
  },
  {
   "cell_type": "code",
   "execution_count": 35,
   "metadata": {},
   "outputs": [],
   "source": [
    "df1['Home Team Name'] = df1['Home Team Name']. replace(['''rn\">Trinidad and Tobago''',\"C te d' Ivoire\",\n",
    "                                                        'rn\">Bosnia and Herzegovina'],\n",
    "                                   ['Trinidad and Tobago','Ctedivore','Bosnia and Herzegovina'])"
   ]
  },
  {
   "cell_type": "code",
   "execution_count": 36,
   "metadata": {},
   "outputs": [
    {
     "data": {
      "text/plain": [
       "array(['France', 'USA', 'Yugoslavia', 'Romania', 'Argentina', 'Chile',\n",
       "       'Uruguay', 'Brazil', 'Paraguay', 'Austria', 'Hungary',\n",
       "       'Switzerland', 'Sweden', 'Germany', 'Spain', 'Italy',\n",
       "       'Czechoslovakia', 'Cuba', 'England', 'Germany FR', 'Turkey',\n",
       "       'Soviet Union', 'Northern Ireland', 'Mexico', 'Wales', 'Portugal',\n",
       "       'Korea DPR', 'Peru', 'Belgium', 'Bulgaria', 'German DR', 'Zaire',\n",
       "       'Poland', 'Australia', 'Scotland', 'Netherlands', 'Haiti',\n",
       "       'Tunisia', 'Algeria', 'Honduras', 'Canada', 'Morocco',\n",
       "       'Korea Republic', 'Iraq', 'Denmark', 'rn\">United Arab Emirates',\n",
       "       'Costa Rica', 'Cameroon', 'rn\">Republic of Ireland', 'Colombia',\n",
       "       'Norway', 'Nigeria', 'Saudi Arabia', 'Bolivia', 'Russia', 'Greece',\n",
       "       'Jamaica', 'South Africa', 'Japan', 'Croatia', 'China PR',\n",
       "       'Senegal', 'Slovenia', 'Ecuador', 'Trinidad and Tobago',\n",
       "       'rn\">Serbia and Montenegro', 'Angola', 'Czech Republic', 'Togo',\n",
       "       'Iran', 'Ctedivore', 'Ghana', 'Ukraine', 'Serbia', 'New Zealand',\n",
       "       'Slovakia', 'IR Iran', 'Bosnia and Herzegovina'], dtype=object)"
      ]
     },
     "execution_count": 36,
     "metadata": {},
     "output_type": "execute_result"
    }
   ],
   "source": [
    "df1['Home Team Name'].unique()"
   ]
  },
  {
   "cell_type": "markdown",
   "metadata": {},
   "source": [
    "### EDA on dataset 1"
   ]
  },
  {
   "cell_type": "code",
   "execution_count": 37,
   "metadata": {},
   "outputs": [
    {
     "data": {
      "text/html": [
       "        <script type=\"text/javascript\">\n",
       "        window.PlotlyConfig = {MathJaxConfig: 'local'};\n",
       "        if (window.MathJax && window.MathJax.Hub && window.MathJax.Hub.Config) {window.MathJax.Hub.Config({SVG: {font: \"STIX-Web\"}});}\n",
       "        if (typeof require !== 'undefined') {\n",
       "        require.undef(\"plotly\");\n",
       "        requirejs.config({\n",
       "            paths: {\n",
       "                'plotly': ['https://cdn.plot.ly/plotly-2.12.1.min']\n",
       "            }\n",
       "        });\n",
       "        require(['plotly'], function(Plotly) {\n",
       "            window._Plotly = Plotly;\n",
       "        });\n",
       "        }\n",
       "        </script>\n",
       "        "
      ]
     },
     "metadata": {},
     "output_type": "display_data"
    },
    {
     "data": {
      "text/html": [
       "        <script type=\"text/javascript\">\n",
       "        window.PlotlyConfig = {MathJaxConfig: 'local'};\n",
       "        if (window.MathJax && window.MathJax.Hub && window.MathJax.Hub.Config) {window.MathJax.Hub.Config({SVG: {font: \"STIX-Web\"}});}\n",
       "        if (typeof require !== 'undefined') {\n",
       "        require.undef(\"plotly\");\n",
       "        requirejs.config({\n",
       "            paths: {\n",
       "                'plotly': ['https://cdn.plot.ly/plotly-2.12.1.min']\n",
       "            }\n",
       "        });\n",
       "        require(['plotly'], function(Plotly) {\n",
       "            window._Plotly = Plotly;\n",
       "        });\n",
       "        }\n",
       "        </script>\n",
       "        "
      ]
     },
     "metadata": {},
     "output_type": "display_data"
    }
   ],
   "source": [
    "import matplotlib.pyplot as plt\n",
    "import seaborn as sns\n",
    "import plotly as py                \n",
    "import cufflinks as cf\n",
    "%matplotlib inline\n",
    "from plotly.offline import iplot   \n",
    "py.offline.init_notebook_mode(connected=True)\n",
    "cf.go_offline()\n"
   ]
  },
  {
   "cell_type": "code",
   "execution_count": 40,
   "metadata": {},
   "outputs": [],
   "source": [
    "df1['Year'] = pd.to_datetime(df1['Year'], format='%Y') "
   ]
  },
  {
   "cell_type": "code",
   "execution_count": 50,
   "metadata": {},
   "outputs": [
    {
     "data": {
      "text/plain": [
       "Year        Stage                \n",
       "2014-01-01  Round of 16              14\n",
       "1938-01-01  First round               9\n",
       "1982-01-01  Group 4                   9\n",
       "            Group 3                   9\n",
       "            Group 2                   9\n",
       "                                     ..\n",
       "1966-01-01  Match for third place     1\n",
       "            Final                     1\n",
       "1962-01-01  Match for third place     1\n",
       "            Final                     1\n",
       "1930-01-01  Final                     1\n",
       "Length: 184, dtype: int64"
      ]
     },
     "execution_count": 50,
     "metadata": {},
     "output_type": "execute_result"
    }
   ],
   "source": [
    "year_with_stages = df1[['Year','Stage']].value_counts()\n",
    "year_with_stages"
   ]
  },
  {
   "cell_type": "code",
   "execution_count": 47,
   "metadata": {},
   "outputs": [
    {
     "data": {
      "application/vnd.plotly.v1+json": {
       "config": {
        "linkText": "Export to plot.ly",
        "plotlyServerURL": "https://plot.ly",
        "showLink": true
       },
       "data": [
        {
         "marker": {
          "color": "rgba(255, 153, 51, 0.6)",
          "line": {
           "color": "rgba(255, 153, 51, 1.0)",
           "width": 1
          }
         },
         "name": "None",
         "orientation": "v",
         "text": "",
         "type": "bar",
         "x": [
          "(2014-01-01 00:00:00,Round of 16)",
          "(1938-01-01 00:00:00,First round)",
          "(1982-01-01 00:00:00,Group 4)",
          "(1982-01-01 00:00:00,Group 3)",
          "(1982-01-01 00:00:00,Group 2)",
          "(1982-01-01 00:00:00,Group 1)",
          "(1994-01-01 00:00:00,Round of 16)",
          "(1998-01-01 00:00:00,Round of 16)",
          "(1986-01-01 00:00:00,Round of 16)",
          "(1990-01-01 00:00:00,Round of 16)",
          "(2002-01-01 00:00:00,Round of 16)",
          "(2010-01-01 00:00:00,Round of 16)",
          "(2006-01-01 00:00:00,Round of 16)",
          "(2014-01-01 00:00:00,Quarter-finals)",
          "(1934-01-01 00:00:00,Preliminary round)",
          "(1958-01-01 00:00:00,Group 4)",
          "(1958-01-01 00:00:00,Group 3)",
          "(1958-01-01 00:00:00,Group 1)",
          "(1974-01-01 00:00:00,Group A)",
          "(1986-01-01 00:00:00,Group A)",
          "(2002-01-01 00:00:00,Group A)",
          "(1982-01-01 00:00:00,Group 6)",
          "(1982-01-01 00:00:00,Group 5)",
          "(1974-01-01 00:00:00,Group 4)",
          "(1978-01-01 00:00:00,Group 2)",
          "(1978-01-01 00:00:00,Group 1)",
          "(2002-01-01 00:00:00,Group E)",
          "(2002-01-01 00:00:00,Group B)",
          "(2002-01-01 00:00:00,Group C)",
          "(1978-01-01 00:00:00,Group B)",
          "(1986-01-01 00:00:00,Group B)",
          "(1978-01-01 00:00:00,Group A)",
          "(1978-01-01 00:00:00,Group 4)",
          "(1978-01-01 00:00:00,Group 3)",
          "(2002-01-01 00:00:00,Group D)",
          "(1974-01-01 00:00:00,Group B)",
          "(1986-01-01 00:00:00,Group E)",
          "(1986-01-01 00:00:00,Group C)",
          "(1990-01-01 00:00:00,Group F)",
          "(1994-01-01 00:00:00,Group F)",
          "(1994-01-01 00:00:00,Group E)",
          "(1994-01-01 00:00:00,Group D)",
          "(1994-01-01 00:00:00,Group C)",
          "(1994-01-01 00:00:00,Group B)",
          "(1994-01-01 00:00:00,Group A)",
          "(1998-01-01 00:00:00,Group A)",
          "(1998-01-01 00:00:00,Group B)",
          "(1998-01-01 00:00:00,Group C)",
          "(1998-01-01 00:00:00,Group D)",
          "(1990-01-01 00:00:00,Group E)",
          "(1986-01-01 00:00:00,Group D)",
          "(1990-01-01 00:00:00,Group D)",
          "(1990-01-01 00:00:00,Group C)",
          "(1990-01-01 00:00:00,Group B)",
          "(1990-01-01 00:00:00,Group A)",
          "(1998-01-01 00:00:00,Group E)",
          "(1998-01-01 00:00:00,Group F)",
          "(1998-01-01 00:00:00,Group G)",
          "(1998-01-01 00:00:00,Group H)",
          "(1930-01-01 00:00:00,Group 1)",
          "(1974-01-01 00:00:00,Group 2)",
          "(1974-01-01 00:00:00,Group 3)",
          "(1986-01-01 00:00:00,Group F)",
          "(1974-01-01 00:00:00,Group 1)",
          "(2014-01-01 00:00:00,Group G)",
          "(2006-01-01 00:00:00,Group H)",
          "(2002-01-01 00:00:00,Group F)",
          "(2010-01-01 00:00:00,Group A)",
          "(1958-01-01 00:00:00,Group 2)",
          "(2010-01-01 00:00:00,Group B)",
          "(2010-01-01 00:00:00,Group C)",
          "(2010-01-01 00:00:00,Group D)",
          "(2010-01-01 00:00:00,Group E)",
          "(2010-01-01 00:00:00,Group F)",
          "(2010-01-01 00:00:00,Group G)",
          "(2010-01-01 00:00:00,Group H)",
          "(1950-01-01 00:00:00,Group 6)",
          "(2014-01-01 00:00:00,Group F)",
          "(1950-01-01 00:00:00,Group 2)",
          "(1950-01-01 00:00:00,Group 1)",
          "(2014-01-01 00:00:00,Group A)",
          "(2014-01-01 00:00:00,Group B)",
          "(2014-01-01 00:00:00,Group C)",
          "(2014-01-01 00:00:00,Group D)",
          "(2014-01-01 00:00:00,Group E)",
          "(1962-01-01 00:00:00,Group 1)",
          "(1962-01-01 00:00:00,Group 2)",
          "(1966-01-01 00:00:00,Group 4)",
          "(1970-01-01 00:00:00,Group 4)",
          "(1970-01-01 00:00:00,Group 3)",
          "(1970-01-01 00:00:00,Group 2)",
          "(1970-01-01 00:00:00,Group 1)",
          "(2006-01-01 00:00:00,Group A)",
          "(2006-01-01 00:00:00,Group B)",
          "(2006-01-01 00:00:00,Group C)",
          "(1962-01-01 00:00:00,Group 3)",
          "(2002-01-01 00:00:00,Group G)",
          "(2014-01-01 00:00:00,Group H)",
          "(1966-01-01 00:00:00,Group 3)",
          "(1966-01-01 00:00:00,Group 2)",
          "(1966-01-01 00:00:00,Group 1)",
          "(2006-01-01 00:00:00,Group D)",
          "(2006-01-01 00:00:00,Group E)",
          "(2006-01-01 00:00:00,Group F)",
          "(2006-01-01 00:00:00,Group G)",
          "(1962-01-01 00:00:00,Group 4)",
          "(2002-01-01 00:00:00,Group H)",
          "(1954-01-01 00:00:00,Group 2)",
          "(1938-01-01 00:00:00,Quarter-finals)",
          "(1954-01-01 00:00:00,Group 4)",
          "(1934-01-01 00:00:00,Quarter-finals)",
          "(2006-01-01 00:00:00,Quarter-finals)",
          "(2010-01-01 00:00:00,Quarter-finals)",
          "(1998-01-01 00:00:00,Quarter-finals)",
          "(1994-01-01 00:00:00,Quarter-finals)",
          "(2002-01-01 00:00:00,Quarter-finals)",
          "(2014-01-01 00:00:00,Semi-finals)",
          "(1970-01-01 00:00:00,Quarter-finals)",
          "(1990-01-01 00:00:00,Quarter-finals)",
          "(1958-01-01 00:00:00,Quarter-finals)",
          "(1986-01-01 00:00:00,Quarter-finals)",
          "(1954-01-01 00:00:00,Quarter-finals)",
          "(1962-01-01 00:00:00,Quarter-finals)",
          "(1954-01-01 00:00:00,Group 1)",
          "(1954-01-01 00:00:00,Group 3)",
          "(1966-01-01 00:00:00,Quarter-finals)",
          "(1930-01-01 00:00:00,Group 2)",
          "(1930-01-01 00:00:00,Group 3)",
          "(1930-01-01 00:00:00,Group 4)",
          "(1950-01-01 00:00:00,Group 3)",
          "(1962-01-01 00:00:00,Semi-finals)",
          "(1966-01-01 00:00:00,Semi-finals)",
          "(2002-01-01 00:00:00,Semi-finals)",
          "(1954-01-01 00:00:00,Semi-finals)",
          "(1994-01-01 00:00:00,Semi-finals)",
          "(1958-01-01 00:00:00,Semi-finals)",
          "(2006-01-01 00:00:00,Semi-finals)",
          "(1970-01-01 00:00:00,Semi-finals)",
          "(2010-01-01 00:00:00,Semi-finals)",
          "(1998-01-01 00:00:00,Semi-finals)",
          "(1982-01-01 00:00:00,Semi-finals)",
          "(1990-01-01 00:00:00,Semi-finals)",
          "(2014-01-01 00:00:00,Play-off for third place)",
          "(1938-01-01 00:00:00,Semi-finals)",
          "(1986-01-01 00:00:00,Semi-finals)",
          "(1930-01-01 00:00:00,Semi-finals)",
          "(1934-01-01 00:00:00,Semi-finals)",
          "(2014-01-01 00:00:00,Final)",
          "(1934-01-01 00:00:00,Final)",
          "(1934-01-01 00:00:00,Match for third place)",
          "(1958-01-01 00:00:00,Match for third place)",
          "(1954-01-01 00:00:00,Match for third place)",
          "(1938-01-01 00:00:00,Final)",
          "(1938-01-01 00:00:00,Match for third place)",
          "(1954-01-01 00:00:00,Final)",
          "(2010-01-01 00:00:00,Match for third place)",
          "(1950-01-01 00:00:00,Group 4)",
          "(1958-01-01 00:00:00,Final)",
          "(1994-01-01 00:00:00,Match for third place)",
          "(2010-01-01 00:00:00,Final)",
          "(1978-01-01 00:00:00,Match for third place)",
          "(1998-01-01 00:00:00,Final)",
          "(1994-01-01 00:00:00,Final)",
          "(1990-01-01 00:00:00,Match for third place)",
          "(1990-01-01 00:00:00,Final)",
          "(1986-01-01 00:00:00,Match for third place)",
          "(1998-01-01 00:00:00,Match for third place)",
          "(1986-01-01 00:00:00,Final)",
          "(2002-01-01 00:00:00,Final)",
          "(1982-01-01 00:00:00,Match for third place)",
          "(1982-01-01 00:00:00,Final)",
          "(1978-01-01 00:00:00,Final)",
          "(2006-01-01 00:00:00,Third place)",
          "(1974-01-01 00:00:00,Match for third place)",
          "(1974-01-01 00:00:00,Final)",
          "(1970-01-01 00:00:00,Match for third place)",
          "(1970-01-01 00:00:00,Final)",
          "(2002-01-01 00:00:00,Third place)",
          "(2006-01-01 00:00:00,Final)",
          "(1966-01-01 00:00:00,Match for third place)",
          "(1966-01-01 00:00:00,Final)",
          "(1962-01-01 00:00:00,Match for third place)",
          "(1962-01-01 00:00:00,Final)",
          "(1930-01-01 00:00:00,Final)"
         ],
         "y": [
          14,
          9,
          9,
          9,
          9,
          9,
          8,
          8,
          8,
          8,
          8,
          8,
          8,
          8,
          8,
          7,
          7,
          7,
          6,
          6,
          6,
          6,
          6,
          6,
          6,
          6,
          6,
          6,
          6,
          6,
          6,
          6,
          6,
          6,
          6,
          6,
          6,
          6,
          6,
          6,
          6,
          6,
          6,
          6,
          6,
          6,
          6,
          6,
          6,
          6,
          6,
          6,
          6,
          6,
          6,
          6,
          6,
          6,
          6,
          6,
          6,
          6,
          6,
          6,
          6,
          6,
          6,
          6,
          6,
          6,
          6,
          6,
          6,
          6,
          6,
          6,
          6,
          6,
          6,
          6,
          6,
          6,
          6,
          6,
          6,
          6,
          6,
          6,
          6,
          6,
          6,
          6,
          6,
          6,
          6,
          6,
          6,
          6,
          6,
          6,
          6,
          6,
          6,
          6,
          6,
          6,
          6,
          5,
          5,
          5,
          5,
          4,
          4,
          4,
          4,
          4,
          4,
          4,
          4,
          4,
          4,
          4,
          4,
          4,
          4,
          4,
          3,
          3,
          3,
          3,
          2,
          2,
          2,
          2,
          2,
          2,
          2,
          2,
          2,
          2,
          2,
          2,
          2,
          2,
          2,
          2,
          2,
          2,
          1,
          1,
          1,
          1,
          1,
          1,
          1,
          1,
          1,
          1,
          1,
          1,
          1,
          1,
          1,
          1,
          1,
          1,
          1,
          1,
          1,
          1,
          1,
          1,
          1,
          1,
          1,
          1,
          1,
          1,
          1,
          1,
          1,
          1,
          1,
          1
         ]
        }
       ],
       "layout": {
        "legend": {
         "bgcolor": "#F5F6F9",
         "font": {
          "color": "#4D5663"
         }
        },
        "paper_bgcolor": "#F5F6F9",
        "plot_bgcolor": "#F5F6F9",
        "template": {
         "data": {
          "bar": [
           {
            "error_x": {
             "color": "#2a3f5f"
            },
            "error_y": {
             "color": "#2a3f5f"
            },
            "marker": {
             "line": {
              "color": "#E5ECF6",
              "width": 0.5
             },
             "pattern": {
              "fillmode": "overlay",
              "size": 10,
              "solidity": 0.2
             }
            },
            "type": "bar"
           }
          ],
          "barpolar": [
           {
            "marker": {
             "line": {
              "color": "#E5ECF6",
              "width": 0.5
             },
             "pattern": {
              "fillmode": "overlay",
              "size": 10,
              "solidity": 0.2
             }
            },
            "type": "barpolar"
           }
          ],
          "carpet": [
           {
            "aaxis": {
             "endlinecolor": "#2a3f5f",
             "gridcolor": "white",
             "linecolor": "white",
             "minorgridcolor": "white",
             "startlinecolor": "#2a3f5f"
            },
            "baxis": {
             "endlinecolor": "#2a3f5f",
             "gridcolor": "white",
             "linecolor": "white",
             "minorgridcolor": "white",
             "startlinecolor": "#2a3f5f"
            },
            "type": "carpet"
           }
          ],
          "choropleth": [
           {
            "colorbar": {
             "outlinewidth": 0,
             "ticks": ""
            },
            "type": "choropleth"
           }
          ],
          "contour": [
           {
            "colorbar": {
             "outlinewidth": 0,
             "ticks": ""
            },
            "colorscale": [
             [
              0,
              "#0d0887"
             ],
             [
              0.1111111111111111,
              "#46039f"
             ],
             [
              0.2222222222222222,
              "#7201a8"
             ],
             [
              0.3333333333333333,
              "#9c179e"
             ],
             [
              0.4444444444444444,
              "#bd3786"
             ],
             [
              0.5555555555555556,
              "#d8576b"
             ],
             [
              0.6666666666666666,
              "#ed7953"
             ],
             [
              0.7777777777777778,
              "#fb9f3a"
             ],
             [
              0.8888888888888888,
              "#fdca26"
             ],
             [
              1,
              "#f0f921"
             ]
            ],
            "type": "contour"
           }
          ],
          "contourcarpet": [
           {
            "colorbar": {
             "outlinewidth": 0,
             "ticks": ""
            },
            "type": "contourcarpet"
           }
          ],
          "heatmap": [
           {
            "colorbar": {
             "outlinewidth": 0,
             "ticks": ""
            },
            "colorscale": [
             [
              0,
              "#0d0887"
             ],
             [
              0.1111111111111111,
              "#46039f"
             ],
             [
              0.2222222222222222,
              "#7201a8"
             ],
             [
              0.3333333333333333,
              "#9c179e"
             ],
             [
              0.4444444444444444,
              "#bd3786"
             ],
             [
              0.5555555555555556,
              "#d8576b"
             ],
             [
              0.6666666666666666,
              "#ed7953"
             ],
             [
              0.7777777777777778,
              "#fb9f3a"
             ],
             [
              0.8888888888888888,
              "#fdca26"
             ],
             [
              1,
              "#f0f921"
             ]
            ],
            "type": "heatmap"
           }
          ],
          "heatmapgl": [
           {
            "colorbar": {
             "outlinewidth": 0,
             "ticks": ""
            },
            "colorscale": [
             [
              0,
              "#0d0887"
             ],
             [
              0.1111111111111111,
              "#46039f"
             ],
             [
              0.2222222222222222,
              "#7201a8"
             ],
             [
              0.3333333333333333,
              "#9c179e"
             ],
             [
              0.4444444444444444,
              "#bd3786"
             ],
             [
              0.5555555555555556,
              "#d8576b"
             ],
             [
              0.6666666666666666,
              "#ed7953"
             ],
             [
              0.7777777777777778,
              "#fb9f3a"
             ],
             [
              0.8888888888888888,
              "#fdca26"
             ],
             [
              1,
              "#f0f921"
             ]
            ],
            "type": "heatmapgl"
           }
          ],
          "histogram": [
           {
            "marker": {
             "pattern": {
              "fillmode": "overlay",
              "size": 10,
              "solidity": 0.2
             }
            },
            "type": "histogram"
           }
          ],
          "histogram2d": [
           {
            "colorbar": {
             "outlinewidth": 0,
             "ticks": ""
            },
            "colorscale": [
             [
              0,
              "#0d0887"
             ],
             [
              0.1111111111111111,
              "#46039f"
             ],
             [
              0.2222222222222222,
              "#7201a8"
             ],
             [
              0.3333333333333333,
              "#9c179e"
             ],
             [
              0.4444444444444444,
              "#bd3786"
             ],
             [
              0.5555555555555556,
              "#d8576b"
             ],
             [
              0.6666666666666666,
              "#ed7953"
             ],
             [
              0.7777777777777778,
              "#fb9f3a"
             ],
             [
              0.8888888888888888,
              "#fdca26"
             ],
             [
              1,
              "#f0f921"
             ]
            ],
            "type": "histogram2d"
           }
          ],
          "histogram2dcontour": [
           {
            "colorbar": {
             "outlinewidth": 0,
             "ticks": ""
            },
            "colorscale": [
             [
              0,
              "#0d0887"
             ],
             [
              0.1111111111111111,
              "#46039f"
             ],
             [
              0.2222222222222222,
              "#7201a8"
             ],
             [
              0.3333333333333333,
              "#9c179e"
             ],
             [
              0.4444444444444444,
              "#bd3786"
             ],
             [
              0.5555555555555556,
              "#d8576b"
             ],
             [
              0.6666666666666666,
              "#ed7953"
             ],
             [
              0.7777777777777778,
              "#fb9f3a"
             ],
             [
              0.8888888888888888,
              "#fdca26"
             ],
             [
              1,
              "#f0f921"
             ]
            ],
            "type": "histogram2dcontour"
           }
          ],
          "mesh3d": [
           {
            "colorbar": {
             "outlinewidth": 0,
             "ticks": ""
            },
            "type": "mesh3d"
           }
          ],
          "parcoords": [
           {
            "line": {
             "colorbar": {
              "outlinewidth": 0,
              "ticks": ""
             }
            },
            "type": "parcoords"
           }
          ],
          "pie": [
           {
            "automargin": true,
            "type": "pie"
           }
          ],
          "scatter": [
           {
            "fillpattern": {
             "fillmode": "overlay",
             "size": 10,
             "solidity": 0.2
            },
            "type": "scatter"
           }
          ],
          "scatter3d": [
           {
            "line": {
             "colorbar": {
              "outlinewidth": 0,
              "ticks": ""
             }
            },
            "marker": {
             "colorbar": {
              "outlinewidth": 0,
              "ticks": ""
             }
            },
            "type": "scatter3d"
           }
          ],
          "scattercarpet": [
           {
            "marker": {
             "colorbar": {
              "outlinewidth": 0,
              "ticks": ""
             }
            },
            "type": "scattercarpet"
           }
          ],
          "scattergeo": [
           {
            "marker": {
             "colorbar": {
              "outlinewidth": 0,
              "ticks": ""
             }
            },
            "type": "scattergeo"
           }
          ],
          "scattergl": [
           {
            "marker": {
             "colorbar": {
              "outlinewidth": 0,
              "ticks": ""
             }
            },
            "type": "scattergl"
           }
          ],
          "scattermapbox": [
           {
            "marker": {
             "colorbar": {
              "outlinewidth": 0,
              "ticks": ""
             }
            },
            "type": "scattermapbox"
           }
          ],
          "scatterpolar": [
           {
            "marker": {
             "colorbar": {
              "outlinewidth": 0,
              "ticks": ""
             }
            },
            "type": "scatterpolar"
           }
          ],
          "scatterpolargl": [
           {
            "marker": {
             "colorbar": {
              "outlinewidth": 0,
              "ticks": ""
             }
            },
            "type": "scatterpolargl"
           }
          ],
          "scatterternary": [
           {
            "marker": {
             "colorbar": {
              "outlinewidth": 0,
              "ticks": ""
             }
            },
            "type": "scatterternary"
           }
          ],
          "surface": [
           {
            "colorbar": {
             "outlinewidth": 0,
             "ticks": ""
            },
            "colorscale": [
             [
              0,
              "#0d0887"
             ],
             [
              0.1111111111111111,
              "#46039f"
             ],
             [
              0.2222222222222222,
              "#7201a8"
             ],
             [
              0.3333333333333333,
              "#9c179e"
             ],
             [
              0.4444444444444444,
              "#bd3786"
             ],
             [
              0.5555555555555556,
              "#d8576b"
             ],
             [
              0.6666666666666666,
              "#ed7953"
             ],
             [
              0.7777777777777778,
              "#fb9f3a"
             ],
             [
              0.8888888888888888,
              "#fdca26"
             ],
             [
              1,
              "#f0f921"
             ]
            ],
            "type": "surface"
           }
          ],
          "table": [
           {
            "cells": {
             "fill": {
              "color": "#EBF0F8"
             },
             "line": {
              "color": "white"
             }
            },
            "header": {
             "fill": {
              "color": "#C8D4E3"
             },
             "line": {
              "color": "white"
             }
            },
            "type": "table"
           }
          ]
         },
         "layout": {
          "annotationdefaults": {
           "arrowcolor": "#2a3f5f",
           "arrowhead": 0,
           "arrowwidth": 1
          },
          "autotypenumbers": "strict",
          "coloraxis": {
           "colorbar": {
            "outlinewidth": 0,
            "ticks": ""
           }
          },
          "colorscale": {
           "diverging": [
            [
             0,
             "#8e0152"
            ],
            [
             0.1,
             "#c51b7d"
            ],
            [
             0.2,
             "#de77ae"
            ],
            [
             0.3,
             "#f1b6da"
            ],
            [
             0.4,
             "#fde0ef"
            ],
            [
             0.5,
             "#f7f7f7"
            ],
            [
             0.6,
             "#e6f5d0"
            ],
            [
             0.7,
             "#b8e186"
            ],
            [
             0.8,
             "#7fbc41"
            ],
            [
             0.9,
             "#4d9221"
            ],
            [
             1,
             "#276419"
            ]
           ],
           "sequential": [
            [
             0,
             "#0d0887"
            ],
            [
             0.1111111111111111,
             "#46039f"
            ],
            [
             0.2222222222222222,
             "#7201a8"
            ],
            [
             0.3333333333333333,
             "#9c179e"
            ],
            [
             0.4444444444444444,
             "#bd3786"
            ],
            [
             0.5555555555555556,
             "#d8576b"
            ],
            [
             0.6666666666666666,
             "#ed7953"
            ],
            [
             0.7777777777777778,
             "#fb9f3a"
            ],
            [
             0.8888888888888888,
             "#fdca26"
            ],
            [
             1,
             "#f0f921"
            ]
           ],
           "sequentialminus": [
            [
             0,
             "#0d0887"
            ],
            [
             0.1111111111111111,
             "#46039f"
            ],
            [
             0.2222222222222222,
             "#7201a8"
            ],
            [
             0.3333333333333333,
             "#9c179e"
            ],
            [
             0.4444444444444444,
             "#bd3786"
            ],
            [
             0.5555555555555556,
             "#d8576b"
            ],
            [
             0.6666666666666666,
             "#ed7953"
            ],
            [
             0.7777777777777778,
             "#fb9f3a"
            ],
            [
             0.8888888888888888,
             "#fdca26"
            ],
            [
             1,
             "#f0f921"
            ]
           ]
          },
          "colorway": [
           "#636efa",
           "#EF553B",
           "#00cc96",
           "#ab63fa",
           "#FFA15A",
           "#19d3f3",
           "#FF6692",
           "#B6E880",
           "#FF97FF",
           "#FECB52"
          ],
          "font": {
           "color": "#2a3f5f"
          },
          "geo": {
           "bgcolor": "white",
           "lakecolor": "white",
           "landcolor": "#E5ECF6",
           "showlakes": true,
           "showland": true,
           "subunitcolor": "white"
          },
          "hoverlabel": {
           "align": "left"
          },
          "hovermode": "closest",
          "mapbox": {
           "style": "light"
          },
          "paper_bgcolor": "white",
          "plot_bgcolor": "#E5ECF6",
          "polar": {
           "angularaxis": {
            "gridcolor": "white",
            "linecolor": "white",
            "ticks": ""
           },
           "bgcolor": "#E5ECF6",
           "radialaxis": {
            "gridcolor": "white",
            "linecolor": "white",
            "ticks": ""
           }
          },
          "scene": {
           "xaxis": {
            "backgroundcolor": "#E5ECF6",
            "gridcolor": "white",
            "gridwidth": 2,
            "linecolor": "white",
            "showbackground": true,
            "ticks": "",
            "zerolinecolor": "white"
           },
           "yaxis": {
            "backgroundcolor": "#E5ECF6",
            "gridcolor": "white",
            "gridwidth": 2,
            "linecolor": "white",
            "showbackground": true,
            "ticks": "",
            "zerolinecolor": "white"
           },
           "zaxis": {
            "backgroundcolor": "#E5ECF6",
            "gridcolor": "white",
            "gridwidth": 2,
            "linecolor": "white",
            "showbackground": true,
            "ticks": "",
            "zerolinecolor": "white"
           }
          },
          "shapedefaults": {
           "line": {
            "color": "#2a3f5f"
           }
          },
          "ternary": {
           "aaxis": {
            "gridcolor": "white",
            "linecolor": "white",
            "ticks": ""
           },
           "baxis": {
            "gridcolor": "white",
            "linecolor": "white",
            "ticks": ""
           },
           "bgcolor": "#E5ECF6",
           "caxis": {
            "gridcolor": "white",
            "linecolor": "white",
            "ticks": ""
           }
          },
          "title": {
           "x": 0.05
          },
          "xaxis": {
           "automargin": true,
           "gridcolor": "white",
           "linecolor": "white",
           "ticks": "",
           "title": {
            "standoff": 15
           },
           "zerolinecolor": "white",
           "zerolinewidth": 2
          },
          "yaxis": {
           "automargin": true,
           "gridcolor": "white",
           "linecolor": "white",
           "ticks": "",
           "title": {
            "standoff": 15
           },
           "zerolinecolor": "white",
           "zerolinewidth": 2
          }
         }
        },
        "title": {
         "font": {
          "color": "#4D5663"
         },
         "text": "Stages of match during the year"
        },
        "xaxis": {
         "gridcolor": "#E1E5ED",
         "showgrid": true,
         "tickfont": {
          "color": "#4D5663"
         },
         "title": {
          "font": {
           "color": "#4D5663"
          },
          "text": ""
         },
         "zerolinecolor": "#E1E5ED"
        },
        "yaxis": {
         "gridcolor": "#E1E5ED",
         "showgrid": true,
         "tickfont": {
          "color": "#4D5663"
         },
         "title": {
          "font": {
           "color": "#4D5663"
          },
          "text": ""
         },
         "zerolinecolor": "#E1E5ED"
        }
       }
      },
      "text/html": [
       "<div>                            <div id=\"dc9c06c9-fb01-47d5-94bf-ff1a76ad41f3\" class=\"plotly-graph-div\" style=\"height:525px; width:100%;\"></div>            <script type=\"text/javascript\">                require([\"plotly\"], function(Plotly) {                    window.PLOTLYENV=window.PLOTLYENV || {};\n",
       "                    window.PLOTLYENV.BASE_URL='https://plot.ly';                                    if (document.getElementById(\"dc9c06c9-fb01-47d5-94bf-ff1a76ad41f3\")) {                    Plotly.newPlot(                        \"dc9c06c9-fb01-47d5-94bf-ff1a76ad41f3\",                        [{\"marker\":{\"color\":\"rgba(255, 153, 51, 0.6)\",\"line\":{\"color\":\"rgba(255, 153, 51, 1.0)\",\"width\":1}},\"name\":\"None\",\"orientation\":\"v\",\"text\":\"\",\"x\":[\"(2014-01-01 00:00:00,Round of 16)\",\"(1938-01-01 00:00:00,First round)\",\"(1982-01-01 00:00:00,Group 4)\",\"(1982-01-01 00:00:00,Group 3)\",\"(1982-01-01 00:00:00,Group 2)\",\"(1982-01-01 00:00:00,Group 1)\",\"(1994-01-01 00:00:00,Round of 16)\",\"(1998-01-01 00:00:00,Round of 16)\",\"(1986-01-01 00:00:00,Round of 16)\",\"(1990-01-01 00:00:00,Round of 16)\",\"(2002-01-01 00:00:00,Round of 16)\",\"(2010-01-01 00:00:00,Round of 16)\",\"(2006-01-01 00:00:00,Round of 16)\",\"(2014-01-01 00:00:00,Quarter-finals)\",\"(1934-01-01 00:00:00,Preliminary round)\",\"(1958-01-01 00:00:00,Group 4)\",\"(1958-01-01 00:00:00,Group 3)\",\"(1958-01-01 00:00:00,Group 1)\",\"(1974-01-01 00:00:00,Group A)\",\"(1986-01-01 00:00:00,Group A)\",\"(2002-01-01 00:00:00,Group A)\",\"(1982-01-01 00:00:00,Group 6)\",\"(1982-01-01 00:00:00,Group 5)\",\"(1974-01-01 00:00:00,Group 4)\",\"(1978-01-01 00:00:00,Group 2)\",\"(1978-01-01 00:00:00,Group 1)\",\"(2002-01-01 00:00:00,Group E)\",\"(2002-01-01 00:00:00,Group B)\",\"(2002-01-01 00:00:00,Group C)\",\"(1978-01-01 00:00:00,Group B)\",\"(1986-01-01 00:00:00,Group B)\",\"(1978-01-01 00:00:00,Group A)\",\"(1978-01-01 00:00:00,Group 4)\",\"(1978-01-01 00:00:00,Group 3)\",\"(2002-01-01 00:00:00,Group D)\",\"(1974-01-01 00:00:00,Group B)\",\"(1986-01-01 00:00:00,Group E)\",\"(1986-01-01 00:00:00,Group C)\",\"(1990-01-01 00:00:00,Group F)\",\"(1994-01-01 00:00:00,Group F)\",\"(1994-01-01 00:00:00,Group E)\",\"(1994-01-01 00:00:00,Group D)\",\"(1994-01-01 00:00:00,Group C)\",\"(1994-01-01 00:00:00,Group B)\",\"(1994-01-01 00:00:00,Group A)\",\"(1998-01-01 00:00:00,Group A)\",\"(1998-01-01 00:00:00,Group B)\",\"(1998-01-01 00:00:00,Group C)\",\"(1998-01-01 00:00:00,Group D)\",\"(1990-01-01 00:00:00,Group E)\",\"(1986-01-01 00:00:00,Group D)\",\"(1990-01-01 00:00:00,Group D)\",\"(1990-01-01 00:00:00,Group C)\",\"(1990-01-01 00:00:00,Group B)\",\"(1990-01-01 00:00:00,Group A)\",\"(1998-01-01 00:00:00,Group E)\",\"(1998-01-01 00:00:00,Group F)\",\"(1998-01-01 00:00:00,Group G)\",\"(1998-01-01 00:00:00,Group H)\",\"(1930-01-01 00:00:00,Group 1)\",\"(1974-01-01 00:00:00,Group 2)\",\"(1974-01-01 00:00:00,Group 3)\",\"(1986-01-01 00:00:00,Group F)\",\"(1974-01-01 00:00:00,Group 1)\",\"(2014-01-01 00:00:00,Group G)\",\"(2006-01-01 00:00:00,Group H)\",\"(2002-01-01 00:00:00,Group F)\",\"(2010-01-01 00:00:00,Group A)\",\"(1958-01-01 00:00:00,Group 2)\",\"(2010-01-01 00:00:00,Group B)\",\"(2010-01-01 00:00:00,Group C)\",\"(2010-01-01 00:00:00,Group D)\",\"(2010-01-01 00:00:00,Group E)\",\"(2010-01-01 00:00:00,Group F)\",\"(2010-01-01 00:00:00,Group G)\",\"(2010-01-01 00:00:00,Group H)\",\"(1950-01-01 00:00:00,Group 6)\",\"(2014-01-01 00:00:00,Group F)\",\"(1950-01-01 00:00:00,Group 2)\",\"(1950-01-01 00:00:00,Group 1)\",\"(2014-01-01 00:00:00,Group A)\",\"(2014-01-01 00:00:00,Group B)\",\"(2014-01-01 00:00:00,Group C)\",\"(2014-01-01 00:00:00,Group D)\",\"(2014-01-01 00:00:00,Group E)\",\"(1962-01-01 00:00:00,Group 1)\",\"(1962-01-01 00:00:00,Group 2)\",\"(1966-01-01 00:00:00,Group 4)\",\"(1970-01-01 00:00:00,Group 4)\",\"(1970-01-01 00:00:00,Group 3)\",\"(1970-01-01 00:00:00,Group 2)\",\"(1970-01-01 00:00:00,Group 1)\",\"(2006-01-01 00:00:00,Group A)\",\"(2006-01-01 00:00:00,Group B)\",\"(2006-01-01 00:00:00,Group C)\",\"(1962-01-01 00:00:00,Group 3)\",\"(2002-01-01 00:00:00,Group G)\",\"(2014-01-01 00:00:00,Group H)\",\"(1966-01-01 00:00:00,Group 3)\",\"(1966-01-01 00:00:00,Group 2)\",\"(1966-01-01 00:00:00,Group 1)\",\"(2006-01-01 00:00:00,Group D)\",\"(2006-01-01 00:00:00,Group E)\",\"(2006-01-01 00:00:00,Group F)\",\"(2006-01-01 00:00:00,Group G)\",\"(1962-01-01 00:00:00,Group 4)\",\"(2002-01-01 00:00:00,Group H)\",\"(1954-01-01 00:00:00,Group 2)\",\"(1938-01-01 00:00:00,Quarter-finals)\",\"(1954-01-01 00:00:00,Group 4)\",\"(1934-01-01 00:00:00,Quarter-finals)\",\"(2006-01-01 00:00:00,Quarter-finals)\",\"(2010-01-01 00:00:00,Quarter-finals)\",\"(1998-01-01 00:00:00,Quarter-finals)\",\"(1994-01-01 00:00:00,Quarter-finals)\",\"(2002-01-01 00:00:00,Quarter-finals)\",\"(2014-01-01 00:00:00,Semi-finals)\",\"(1970-01-01 00:00:00,Quarter-finals)\",\"(1990-01-01 00:00:00,Quarter-finals)\",\"(1958-01-01 00:00:00,Quarter-finals)\",\"(1986-01-01 00:00:00,Quarter-finals)\",\"(1954-01-01 00:00:00,Quarter-finals)\",\"(1962-01-01 00:00:00,Quarter-finals)\",\"(1954-01-01 00:00:00,Group 1)\",\"(1954-01-01 00:00:00,Group 3)\",\"(1966-01-01 00:00:00,Quarter-finals)\",\"(1930-01-01 00:00:00,Group 2)\",\"(1930-01-01 00:00:00,Group 3)\",\"(1930-01-01 00:00:00,Group 4)\",\"(1950-01-01 00:00:00,Group 3)\",\"(1962-01-01 00:00:00,Semi-finals)\",\"(1966-01-01 00:00:00,Semi-finals)\",\"(2002-01-01 00:00:00,Semi-finals)\",\"(1954-01-01 00:00:00,Semi-finals)\",\"(1994-01-01 00:00:00,Semi-finals)\",\"(1958-01-01 00:00:00,Semi-finals)\",\"(2006-01-01 00:00:00,Semi-finals)\",\"(1970-01-01 00:00:00,Semi-finals)\",\"(2010-01-01 00:00:00,Semi-finals)\",\"(1998-01-01 00:00:00,Semi-finals)\",\"(1982-01-01 00:00:00,Semi-finals)\",\"(1990-01-01 00:00:00,Semi-finals)\",\"(2014-01-01 00:00:00,Play-off for third place)\",\"(1938-01-01 00:00:00,Semi-finals)\",\"(1986-01-01 00:00:00,Semi-finals)\",\"(1930-01-01 00:00:00,Semi-finals)\",\"(1934-01-01 00:00:00,Semi-finals)\",\"(2014-01-01 00:00:00,Final)\",\"(1934-01-01 00:00:00,Final)\",\"(1934-01-01 00:00:00,Match for third place)\",\"(1958-01-01 00:00:00,Match for third place)\",\"(1954-01-01 00:00:00,Match for third place)\",\"(1938-01-01 00:00:00,Final)\",\"(1938-01-01 00:00:00,Match for third place)\",\"(1954-01-01 00:00:00,Final)\",\"(2010-01-01 00:00:00,Match for third place)\",\"(1950-01-01 00:00:00,Group 4)\",\"(1958-01-01 00:00:00,Final)\",\"(1994-01-01 00:00:00,Match for third place)\",\"(2010-01-01 00:00:00,Final)\",\"(1978-01-01 00:00:00,Match for third place)\",\"(1998-01-01 00:00:00,Final)\",\"(1994-01-01 00:00:00,Final)\",\"(1990-01-01 00:00:00,Match for third place)\",\"(1990-01-01 00:00:00,Final)\",\"(1986-01-01 00:00:00,Match for third place)\",\"(1998-01-01 00:00:00,Match for third place)\",\"(1986-01-01 00:00:00,Final)\",\"(2002-01-01 00:00:00,Final)\",\"(1982-01-01 00:00:00,Match for third place)\",\"(1982-01-01 00:00:00,Final)\",\"(1978-01-01 00:00:00,Final)\",\"(2006-01-01 00:00:00,Third place)\",\"(1974-01-01 00:00:00,Match for third place)\",\"(1974-01-01 00:00:00,Final)\",\"(1970-01-01 00:00:00,Match for third place)\",\"(1970-01-01 00:00:00,Final)\",\"(2002-01-01 00:00:00,Third place)\",\"(2006-01-01 00:00:00,Final)\",\"(1966-01-01 00:00:00,Match for third place)\",\"(1966-01-01 00:00:00,Final)\",\"(1962-01-01 00:00:00,Match for third place)\",\"(1962-01-01 00:00:00,Final)\",\"(1930-01-01 00:00:00,Final)\"],\"y\":[14,9,9,9,9,9,8,8,8,8,8,8,8,8,8,7,7,7,6,6,6,6,6,6,6,6,6,6,6,6,6,6,6,6,6,6,6,6,6,6,6,6,6,6,6,6,6,6,6,6,6,6,6,6,6,6,6,6,6,6,6,6,6,6,6,6,6,6,6,6,6,6,6,6,6,6,6,6,6,6,6,6,6,6,6,6,6,6,6,6,6,6,6,6,6,6,6,6,6,6,6,6,6,6,6,6,6,5,5,5,5,4,4,4,4,4,4,4,4,4,4,4,4,4,4,4,3,3,3,3,2,2,2,2,2,2,2,2,2,2,2,2,2,2,2,2,2,2,1,1,1,1,1,1,1,1,1,1,1,1,1,1,1,1,1,1,1,1,1,1,1,1,1,1,1,1,1,1,1,1,1,1,1,1],\"type\":\"bar\"}],                        {\"legend\":{\"bgcolor\":\"#F5F6F9\",\"font\":{\"color\":\"#4D5663\"}},\"paper_bgcolor\":\"#F5F6F9\",\"plot_bgcolor\":\"#F5F6F9\",\"template\":{\"data\":{\"barpolar\":[{\"marker\":{\"line\":{\"color\":\"#E5ECF6\",\"width\":0.5},\"pattern\":{\"fillmode\":\"overlay\",\"size\":10,\"solidity\":0.2}},\"type\":\"barpolar\"}],\"bar\":[{\"error_x\":{\"color\":\"#2a3f5f\"},\"error_y\":{\"color\":\"#2a3f5f\"},\"marker\":{\"line\":{\"color\":\"#E5ECF6\",\"width\":0.5},\"pattern\":{\"fillmode\":\"overlay\",\"size\":10,\"solidity\":0.2}},\"type\":\"bar\"}],\"carpet\":[{\"aaxis\":{\"endlinecolor\":\"#2a3f5f\",\"gridcolor\":\"white\",\"linecolor\":\"white\",\"minorgridcolor\":\"white\",\"startlinecolor\":\"#2a3f5f\"},\"baxis\":{\"endlinecolor\":\"#2a3f5f\",\"gridcolor\":\"white\",\"linecolor\":\"white\",\"minorgridcolor\":\"white\",\"startlinecolor\":\"#2a3f5f\"},\"type\":\"carpet\"}],\"choropleth\":[{\"colorbar\":{\"outlinewidth\":0,\"ticks\":\"\"},\"type\":\"choropleth\"}],\"contourcarpet\":[{\"colorbar\":{\"outlinewidth\":0,\"ticks\":\"\"},\"type\":\"contourcarpet\"}],\"contour\":[{\"colorbar\":{\"outlinewidth\":0,\"ticks\":\"\"},\"colorscale\":[[0.0,\"#0d0887\"],[0.1111111111111111,\"#46039f\"],[0.2222222222222222,\"#7201a8\"],[0.3333333333333333,\"#9c179e\"],[0.4444444444444444,\"#bd3786\"],[0.5555555555555556,\"#d8576b\"],[0.6666666666666666,\"#ed7953\"],[0.7777777777777778,\"#fb9f3a\"],[0.8888888888888888,\"#fdca26\"],[1.0,\"#f0f921\"]],\"type\":\"contour\"}],\"heatmapgl\":[{\"colorbar\":{\"outlinewidth\":0,\"ticks\":\"\"},\"colorscale\":[[0.0,\"#0d0887\"],[0.1111111111111111,\"#46039f\"],[0.2222222222222222,\"#7201a8\"],[0.3333333333333333,\"#9c179e\"],[0.4444444444444444,\"#bd3786\"],[0.5555555555555556,\"#d8576b\"],[0.6666666666666666,\"#ed7953\"],[0.7777777777777778,\"#fb9f3a\"],[0.8888888888888888,\"#fdca26\"],[1.0,\"#f0f921\"]],\"type\":\"heatmapgl\"}],\"heatmap\":[{\"colorbar\":{\"outlinewidth\":0,\"ticks\":\"\"},\"colorscale\":[[0.0,\"#0d0887\"],[0.1111111111111111,\"#46039f\"],[0.2222222222222222,\"#7201a8\"],[0.3333333333333333,\"#9c179e\"],[0.4444444444444444,\"#bd3786\"],[0.5555555555555556,\"#d8576b\"],[0.6666666666666666,\"#ed7953\"],[0.7777777777777778,\"#fb9f3a\"],[0.8888888888888888,\"#fdca26\"],[1.0,\"#f0f921\"]],\"type\":\"heatmap\"}],\"histogram2dcontour\":[{\"colorbar\":{\"outlinewidth\":0,\"ticks\":\"\"},\"colorscale\":[[0.0,\"#0d0887\"],[0.1111111111111111,\"#46039f\"],[0.2222222222222222,\"#7201a8\"],[0.3333333333333333,\"#9c179e\"],[0.4444444444444444,\"#bd3786\"],[0.5555555555555556,\"#d8576b\"],[0.6666666666666666,\"#ed7953\"],[0.7777777777777778,\"#fb9f3a\"],[0.8888888888888888,\"#fdca26\"],[1.0,\"#f0f921\"]],\"type\":\"histogram2dcontour\"}],\"histogram2d\":[{\"colorbar\":{\"outlinewidth\":0,\"ticks\":\"\"},\"colorscale\":[[0.0,\"#0d0887\"],[0.1111111111111111,\"#46039f\"],[0.2222222222222222,\"#7201a8\"],[0.3333333333333333,\"#9c179e\"],[0.4444444444444444,\"#bd3786\"],[0.5555555555555556,\"#d8576b\"],[0.6666666666666666,\"#ed7953\"],[0.7777777777777778,\"#fb9f3a\"],[0.8888888888888888,\"#fdca26\"],[1.0,\"#f0f921\"]],\"type\":\"histogram2d\"}],\"histogram\":[{\"marker\":{\"pattern\":{\"fillmode\":\"overlay\",\"size\":10,\"solidity\":0.2}},\"type\":\"histogram\"}],\"mesh3d\":[{\"colorbar\":{\"outlinewidth\":0,\"ticks\":\"\"},\"type\":\"mesh3d\"}],\"parcoords\":[{\"line\":{\"colorbar\":{\"outlinewidth\":0,\"ticks\":\"\"}},\"type\":\"parcoords\"}],\"pie\":[{\"automargin\":true,\"type\":\"pie\"}],\"scatter3d\":[{\"line\":{\"colorbar\":{\"outlinewidth\":0,\"ticks\":\"\"}},\"marker\":{\"colorbar\":{\"outlinewidth\":0,\"ticks\":\"\"}},\"type\":\"scatter3d\"}],\"scattercarpet\":[{\"marker\":{\"colorbar\":{\"outlinewidth\":0,\"ticks\":\"\"}},\"type\":\"scattercarpet\"}],\"scattergeo\":[{\"marker\":{\"colorbar\":{\"outlinewidth\":0,\"ticks\":\"\"}},\"type\":\"scattergeo\"}],\"scattergl\":[{\"marker\":{\"colorbar\":{\"outlinewidth\":0,\"ticks\":\"\"}},\"type\":\"scattergl\"}],\"scattermapbox\":[{\"marker\":{\"colorbar\":{\"outlinewidth\":0,\"ticks\":\"\"}},\"type\":\"scattermapbox\"}],\"scatterpolargl\":[{\"marker\":{\"colorbar\":{\"outlinewidth\":0,\"ticks\":\"\"}},\"type\":\"scatterpolargl\"}],\"scatterpolar\":[{\"marker\":{\"colorbar\":{\"outlinewidth\":0,\"ticks\":\"\"}},\"type\":\"scatterpolar\"}],\"scatter\":[{\"fillpattern\":{\"fillmode\":\"overlay\",\"size\":10,\"solidity\":0.2},\"type\":\"scatter\"}],\"scatterternary\":[{\"marker\":{\"colorbar\":{\"outlinewidth\":0,\"ticks\":\"\"}},\"type\":\"scatterternary\"}],\"surface\":[{\"colorbar\":{\"outlinewidth\":0,\"ticks\":\"\"},\"colorscale\":[[0.0,\"#0d0887\"],[0.1111111111111111,\"#46039f\"],[0.2222222222222222,\"#7201a8\"],[0.3333333333333333,\"#9c179e\"],[0.4444444444444444,\"#bd3786\"],[0.5555555555555556,\"#d8576b\"],[0.6666666666666666,\"#ed7953\"],[0.7777777777777778,\"#fb9f3a\"],[0.8888888888888888,\"#fdca26\"],[1.0,\"#f0f921\"]],\"type\":\"surface\"}],\"table\":[{\"cells\":{\"fill\":{\"color\":\"#EBF0F8\"},\"line\":{\"color\":\"white\"}},\"header\":{\"fill\":{\"color\":\"#C8D4E3\"},\"line\":{\"color\":\"white\"}},\"type\":\"table\"}]},\"layout\":{\"annotationdefaults\":{\"arrowcolor\":\"#2a3f5f\",\"arrowhead\":0,\"arrowwidth\":1},\"autotypenumbers\":\"strict\",\"coloraxis\":{\"colorbar\":{\"outlinewidth\":0,\"ticks\":\"\"}},\"colorscale\":{\"diverging\":[[0,\"#8e0152\"],[0.1,\"#c51b7d\"],[0.2,\"#de77ae\"],[0.3,\"#f1b6da\"],[0.4,\"#fde0ef\"],[0.5,\"#f7f7f7\"],[0.6,\"#e6f5d0\"],[0.7,\"#b8e186\"],[0.8,\"#7fbc41\"],[0.9,\"#4d9221\"],[1,\"#276419\"]],\"sequential\":[[0.0,\"#0d0887\"],[0.1111111111111111,\"#46039f\"],[0.2222222222222222,\"#7201a8\"],[0.3333333333333333,\"#9c179e\"],[0.4444444444444444,\"#bd3786\"],[0.5555555555555556,\"#d8576b\"],[0.6666666666666666,\"#ed7953\"],[0.7777777777777778,\"#fb9f3a\"],[0.8888888888888888,\"#fdca26\"],[1.0,\"#f0f921\"]],\"sequentialminus\":[[0.0,\"#0d0887\"],[0.1111111111111111,\"#46039f\"],[0.2222222222222222,\"#7201a8\"],[0.3333333333333333,\"#9c179e\"],[0.4444444444444444,\"#bd3786\"],[0.5555555555555556,\"#d8576b\"],[0.6666666666666666,\"#ed7953\"],[0.7777777777777778,\"#fb9f3a\"],[0.8888888888888888,\"#fdca26\"],[1.0,\"#f0f921\"]]},\"colorway\":[\"#636efa\",\"#EF553B\",\"#00cc96\",\"#ab63fa\",\"#FFA15A\",\"#19d3f3\",\"#FF6692\",\"#B6E880\",\"#FF97FF\",\"#FECB52\"],\"font\":{\"color\":\"#2a3f5f\"},\"geo\":{\"bgcolor\":\"white\",\"lakecolor\":\"white\",\"landcolor\":\"#E5ECF6\",\"showlakes\":true,\"showland\":true,\"subunitcolor\":\"white\"},\"hoverlabel\":{\"align\":\"left\"},\"hovermode\":\"closest\",\"mapbox\":{\"style\":\"light\"},\"paper_bgcolor\":\"white\",\"plot_bgcolor\":\"#E5ECF6\",\"polar\":{\"angularaxis\":{\"gridcolor\":\"white\",\"linecolor\":\"white\",\"ticks\":\"\"},\"bgcolor\":\"#E5ECF6\",\"radialaxis\":{\"gridcolor\":\"white\",\"linecolor\":\"white\",\"ticks\":\"\"}},\"scene\":{\"xaxis\":{\"backgroundcolor\":\"#E5ECF6\",\"gridcolor\":\"white\",\"gridwidth\":2,\"linecolor\":\"white\",\"showbackground\":true,\"ticks\":\"\",\"zerolinecolor\":\"white\"},\"yaxis\":{\"backgroundcolor\":\"#E5ECF6\",\"gridcolor\":\"white\",\"gridwidth\":2,\"linecolor\":\"white\",\"showbackground\":true,\"ticks\":\"\",\"zerolinecolor\":\"white\"},\"zaxis\":{\"backgroundcolor\":\"#E5ECF6\",\"gridcolor\":\"white\",\"gridwidth\":2,\"linecolor\":\"white\",\"showbackground\":true,\"ticks\":\"\",\"zerolinecolor\":\"white\"}},\"shapedefaults\":{\"line\":{\"color\":\"#2a3f5f\"}},\"ternary\":{\"aaxis\":{\"gridcolor\":\"white\",\"linecolor\":\"white\",\"ticks\":\"\"},\"baxis\":{\"gridcolor\":\"white\",\"linecolor\":\"white\",\"ticks\":\"\"},\"bgcolor\":\"#E5ECF6\",\"caxis\":{\"gridcolor\":\"white\",\"linecolor\":\"white\",\"ticks\":\"\"}},\"title\":{\"x\":0.05},\"xaxis\":{\"automargin\":true,\"gridcolor\":\"white\",\"linecolor\":\"white\",\"ticks\":\"\",\"title\":{\"standoff\":15},\"zerolinecolor\":\"white\",\"zerolinewidth\":2},\"yaxis\":{\"automargin\":true,\"gridcolor\":\"white\",\"linecolor\":\"white\",\"ticks\":\"\",\"title\":{\"standoff\":15},\"zerolinecolor\":\"white\",\"zerolinewidth\":2}}},\"title\":{\"font\":{\"color\":\"#4D5663\"},\"text\":\"Stages of match during the year\"},\"xaxis\":{\"gridcolor\":\"#E1E5ED\",\"showgrid\":true,\"tickfont\":{\"color\":\"#4D5663\"},\"title\":{\"font\":{\"color\":\"#4D5663\"},\"text\":\"\"},\"zerolinecolor\":\"#E1E5ED\"},\"yaxis\":{\"gridcolor\":\"#E1E5ED\",\"showgrid\":true,\"tickfont\":{\"color\":\"#4D5663\"},\"title\":{\"font\":{\"color\":\"#4D5663\"},\"text\":\"\"},\"zerolinecolor\":\"#E1E5ED\"}},                        {\"showLink\": true, \"linkText\": \"Export to plot.ly\", \"plotlyServerURL\": \"https://plot.ly\", \"responsive\": true}                    ).then(function(){\n",
       "                            \n",
       "var gd = document.getElementById('dc9c06c9-fb01-47d5-94bf-ff1a76ad41f3');\n",
       "var x = new MutationObserver(function (mutations, observer) {{\n",
       "        var display = window.getComputedStyle(gd).display;\n",
       "        if (!display || display === 'none') {{\n",
       "            console.log([gd, 'removed!']);\n",
       "            Plotly.purge(gd);\n",
       "            observer.disconnect();\n",
       "        }}\n",
       "}});\n",
       "\n",
       "// Listen for the removal of the full notebook cells\n",
       "var notebookContainer = gd.closest('#notebook-container');\n",
       "if (notebookContainer) {{\n",
       "    x.observe(notebookContainer, {childList: true});\n",
       "}}\n",
       "\n",
       "// Listen for the clearing of the current output cell\n",
       "var outputEl = gd.closest('.output');\n",
       "if (outputEl) {{\n",
       "    x.observe(outputEl, {childList: true});\n",
       "}}\n",
       "\n",
       "                        })                };                });            </script>        </div>"
      ]
     },
     "metadata": {},
     "output_type": "display_data"
    }
   ],
   "source": [
    "year_with_stages.iplot(kind='bar', title='Stages of match during the year')"
   ]
  },
  {
   "cell_type": "markdown",
   "metadata": {},
   "source": [
    "From the above we can see that in the year 2014 height number of matches was played and it belong to Round of 16 "
   ]
  },
  {
   "cell_type": "code",
   "execution_count": 52,
   "metadata": {},
   "outputs": [],
   "source": [
    "import plotly_express as px"
   ]
  },
  {
   "cell_type": "code",
   "execution_count": 55,
   "metadata": {},
   "outputs": [
    {
     "name": "stdout",
     "output_type": "stream",
     "text": [
      "4572\n"
     ]
    },
    {
     "data": {
      "application/vnd.plotly.v1+json": {
       "config": {
        "linkText": "Export to plot.ly",
        "plotlyServerURL": "https://plot.ly",
        "showLink": true
       },
       "data": [
        {
         "marker": {
          "color": "rgba(255, 153, 51, 0.6)",
          "line": {
           "color": "rgba(255, 153, 51, 1.0)",
           "width": 1
          }
         },
         "name": "None",
         "orientation": "v",
         "text": "",
         "type": "bar",
         "x": [
          "(Round of 16)",
          "(Quarter-finals)",
          "(Group 1)",
          "(Group A)",
          "(Group B)",
          "(Group 2)",
          "(Group 3)",
          "(Group 4)",
          "(Group D)",
          "(Group C)",
          "(Group E)",
          "(Group F)",
          "(Semi-finals)",
          "(Group H)",
          "(Group G)",
          "(Final)",
          "(Match for third place)",
          "(Group 6)",
          "(First round)",
          "(Preliminary round)",
          "(Group 5)",
          "(Play-off for third place)",
          "(Third place)"
         ],
         "y": [
          70,
          66,
          62,
          60,
          60,
          59,
          56,
          55,
          48,
          48,
          48,
          48,
          36,
          30,
          30,
          20,
          15,
          12,
          9,
          8,
          6,
          2,
          2
         ]
        }
       ],
       "layout": {
        "legend": {
         "bgcolor": "#F5F6F9",
         "font": {
          "color": "#4D5663"
         }
        },
        "paper_bgcolor": "#F5F6F9",
        "plot_bgcolor": "#F5F6F9",
        "template": {
         "data": {
          "bar": [
           {
            "error_x": {
             "color": "#2a3f5f"
            },
            "error_y": {
             "color": "#2a3f5f"
            },
            "marker": {
             "line": {
              "color": "#E5ECF6",
              "width": 0.5
             },
             "pattern": {
              "fillmode": "overlay",
              "size": 10,
              "solidity": 0.2
             }
            },
            "type": "bar"
           }
          ],
          "barpolar": [
           {
            "marker": {
             "line": {
              "color": "#E5ECF6",
              "width": 0.5
             },
             "pattern": {
              "fillmode": "overlay",
              "size": 10,
              "solidity": 0.2
             }
            },
            "type": "barpolar"
           }
          ],
          "carpet": [
           {
            "aaxis": {
             "endlinecolor": "#2a3f5f",
             "gridcolor": "white",
             "linecolor": "white",
             "minorgridcolor": "white",
             "startlinecolor": "#2a3f5f"
            },
            "baxis": {
             "endlinecolor": "#2a3f5f",
             "gridcolor": "white",
             "linecolor": "white",
             "minorgridcolor": "white",
             "startlinecolor": "#2a3f5f"
            },
            "type": "carpet"
           }
          ],
          "choropleth": [
           {
            "colorbar": {
             "outlinewidth": 0,
             "ticks": ""
            },
            "type": "choropleth"
           }
          ],
          "contour": [
           {
            "colorbar": {
             "outlinewidth": 0,
             "ticks": ""
            },
            "colorscale": [
             [
              0,
              "#0d0887"
             ],
             [
              0.1111111111111111,
              "#46039f"
             ],
             [
              0.2222222222222222,
              "#7201a8"
             ],
             [
              0.3333333333333333,
              "#9c179e"
             ],
             [
              0.4444444444444444,
              "#bd3786"
             ],
             [
              0.5555555555555556,
              "#d8576b"
             ],
             [
              0.6666666666666666,
              "#ed7953"
             ],
             [
              0.7777777777777778,
              "#fb9f3a"
             ],
             [
              0.8888888888888888,
              "#fdca26"
             ],
             [
              1,
              "#f0f921"
             ]
            ],
            "type": "contour"
           }
          ],
          "contourcarpet": [
           {
            "colorbar": {
             "outlinewidth": 0,
             "ticks": ""
            },
            "type": "contourcarpet"
           }
          ],
          "heatmap": [
           {
            "colorbar": {
             "outlinewidth": 0,
             "ticks": ""
            },
            "colorscale": [
             [
              0,
              "#0d0887"
             ],
             [
              0.1111111111111111,
              "#46039f"
             ],
             [
              0.2222222222222222,
              "#7201a8"
             ],
             [
              0.3333333333333333,
              "#9c179e"
             ],
             [
              0.4444444444444444,
              "#bd3786"
             ],
             [
              0.5555555555555556,
              "#d8576b"
             ],
             [
              0.6666666666666666,
              "#ed7953"
             ],
             [
              0.7777777777777778,
              "#fb9f3a"
             ],
             [
              0.8888888888888888,
              "#fdca26"
             ],
             [
              1,
              "#f0f921"
             ]
            ],
            "type": "heatmap"
           }
          ],
          "heatmapgl": [
           {
            "colorbar": {
             "outlinewidth": 0,
             "ticks": ""
            },
            "colorscale": [
             [
              0,
              "#0d0887"
             ],
             [
              0.1111111111111111,
              "#46039f"
             ],
             [
              0.2222222222222222,
              "#7201a8"
             ],
             [
              0.3333333333333333,
              "#9c179e"
             ],
             [
              0.4444444444444444,
              "#bd3786"
             ],
             [
              0.5555555555555556,
              "#d8576b"
             ],
             [
              0.6666666666666666,
              "#ed7953"
             ],
             [
              0.7777777777777778,
              "#fb9f3a"
             ],
             [
              0.8888888888888888,
              "#fdca26"
             ],
             [
              1,
              "#f0f921"
             ]
            ],
            "type": "heatmapgl"
           }
          ],
          "histogram": [
           {
            "marker": {
             "pattern": {
              "fillmode": "overlay",
              "size": 10,
              "solidity": 0.2
             }
            },
            "type": "histogram"
           }
          ],
          "histogram2d": [
           {
            "colorbar": {
             "outlinewidth": 0,
             "ticks": ""
            },
            "colorscale": [
             [
              0,
              "#0d0887"
             ],
             [
              0.1111111111111111,
              "#46039f"
             ],
             [
              0.2222222222222222,
              "#7201a8"
             ],
             [
              0.3333333333333333,
              "#9c179e"
             ],
             [
              0.4444444444444444,
              "#bd3786"
             ],
             [
              0.5555555555555556,
              "#d8576b"
             ],
             [
              0.6666666666666666,
              "#ed7953"
             ],
             [
              0.7777777777777778,
              "#fb9f3a"
             ],
             [
              0.8888888888888888,
              "#fdca26"
             ],
             [
              1,
              "#f0f921"
             ]
            ],
            "type": "histogram2d"
           }
          ],
          "histogram2dcontour": [
           {
            "colorbar": {
             "outlinewidth": 0,
             "ticks": ""
            },
            "colorscale": [
             [
              0,
              "#0d0887"
             ],
             [
              0.1111111111111111,
              "#46039f"
             ],
             [
              0.2222222222222222,
              "#7201a8"
             ],
             [
              0.3333333333333333,
              "#9c179e"
             ],
             [
              0.4444444444444444,
              "#bd3786"
             ],
             [
              0.5555555555555556,
              "#d8576b"
             ],
             [
              0.6666666666666666,
              "#ed7953"
             ],
             [
              0.7777777777777778,
              "#fb9f3a"
             ],
             [
              0.8888888888888888,
              "#fdca26"
             ],
             [
              1,
              "#f0f921"
             ]
            ],
            "type": "histogram2dcontour"
           }
          ],
          "mesh3d": [
           {
            "colorbar": {
             "outlinewidth": 0,
             "ticks": ""
            },
            "type": "mesh3d"
           }
          ],
          "parcoords": [
           {
            "line": {
             "colorbar": {
              "outlinewidth": 0,
              "ticks": ""
             }
            },
            "type": "parcoords"
           }
          ],
          "pie": [
           {
            "automargin": true,
            "type": "pie"
           }
          ],
          "scatter": [
           {
            "fillpattern": {
             "fillmode": "overlay",
             "size": 10,
             "solidity": 0.2
            },
            "type": "scatter"
           }
          ],
          "scatter3d": [
           {
            "line": {
             "colorbar": {
              "outlinewidth": 0,
              "ticks": ""
             }
            },
            "marker": {
             "colorbar": {
              "outlinewidth": 0,
              "ticks": ""
             }
            },
            "type": "scatter3d"
           }
          ],
          "scattercarpet": [
           {
            "marker": {
             "colorbar": {
              "outlinewidth": 0,
              "ticks": ""
             }
            },
            "type": "scattercarpet"
           }
          ],
          "scattergeo": [
           {
            "marker": {
             "colorbar": {
              "outlinewidth": 0,
              "ticks": ""
             }
            },
            "type": "scattergeo"
           }
          ],
          "scattergl": [
           {
            "marker": {
             "colorbar": {
              "outlinewidth": 0,
              "ticks": ""
             }
            },
            "type": "scattergl"
           }
          ],
          "scattermapbox": [
           {
            "marker": {
             "colorbar": {
              "outlinewidth": 0,
              "ticks": ""
             }
            },
            "type": "scattermapbox"
           }
          ],
          "scatterpolar": [
           {
            "marker": {
             "colorbar": {
              "outlinewidth": 0,
              "ticks": ""
             }
            },
            "type": "scatterpolar"
           }
          ],
          "scatterpolargl": [
           {
            "marker": {
             "colorbar": {
              "outlinewidth": 0,
              "ticks": ""
             }
            },
            "type": "scatterpolargl"
           }
          ],
          "scatterternary": [
           {
            "marker": {
             "colorbar": {
              "outlinewidth": 0,
              "ticks": ""
             }
            },
            "type": "scatterternary"
           }
          ],
          "surface": [
           {
            "colorbar": {
             "outlinewidth": 0,
             "ticks": ""
            },
            "colorscale": [
             [
              0,
              "#0d0887"
             ],
             [
              0.1111111111111111,
              "#46039f"
             ],
             [
              0.2222222222222222,
              "#7201a8"
             ],
             [
              0.3333333333333333,
              "#9c179e"
             ],
             [
              0.4444444444444444,
              "#bd3786"
             ],
             [
              0.5555555555555556,
              "#d8576b"
             ],
             [
              0.6666666666666666,
              "#ed7953"
             ],
             [
              0.7777777777777778,
              "#fb9f3a"
             ],
             [
              0.8888888888888888,
              "#fdca26"
             ],
             [
              1,
              "#f0f921"
             ]
            ],
            "type": "surface"
           }
          ],
          "table": [
           {
            "cells": {
             "fill": {
              "color": "#EBF0F8"
             },
             "line": {
              "color": "white"
             }
            },
            "header": {
             "fill": {
              "color": "#C8D4E3"
             },
             "line": {
              "color": "white"
             }
            },
            "type": "table"
           }
          ]
         },
         "layout": {
          "annotationdefaults": {
           "arrowcolor": "#2a3f5f",
           "arrowhead": 0,
           "arrowwidth": 1
          },
          "autotypenumbers": "strict",
          "coloraxis": {
           "colorbar": {
            "outlinewidth": 0,
            "ticks": ""
           }
          },
          "colorscale": {
           "diverging": [
            [
             0,
             "#8e0152"
            ],
            [
             0.1,
             "#c51b7d"
            ],
            [
             0.2,
             "#de77ae"
            ],
            [
             0.3,
             "#f1b6da"
            ],
            [
             0.4,
             "#fde0ef"
            ],
            [
             0.5,
             "#f7f7f7"
            ],
            [
             0.6,
             "#e6f5d0"
            ],
            [
             0.7,
             "#b8e186"
            ],
            [
             0.8,
             "#7fbc41"
            ],
            [
             0.9,
             "#4d9221"
            ],
            [
             1,
             "#276419"
            ]
           ],
           "sequential": [
            [
             0,
             "#0d0887"
            ],
            [
             0.1111111111111111,
             "#46039f"
            ],
            [
             0.2222222222222222,
             "#7201a8"
            ],
            [
             0.3333333333333333,
             "#9c179e"
            ],
            [
             0.4444444444444444,
             "#bd3786"
            ],
            [
             0.5555555555555556,
             "#d8576b"
            ],
            [
             0.6666666666666666,
             "#ed7953"
            ],
            [
             0.7777777777777778,
             "#fb9f3a"
            ],
            [
             0.8888888888888888,
             "#fdca26"
            ],
            [
             1,
             "#f0f921"
            ]
           ],
           "sequentialminus": [
            [
             0,
             "#0d0887"
            ],
            [
             0.1111111111111111,
             "#46039f"
            ],
            [
             0.2222222222222222,
             "#7201a8"
            ],
            [
             0.3333333333333333,
             "#9c179e"
            ],
            [
             0.4444444444444444,
             "#bd3786"
            ],
            [
             0.5555555555555556,
             "#d8576b"
            ],
            [
             0.6666666666666666,
             "#ed7953"
            ],
            [
             0.7777777777777778,
             "#fb9f3a"
            ],
            [
             0.8888888888888888,
             "#fdca26"
            ],
            [
             1,
             "#f0f921"
            ]
           ]
          },
          "colorway": [
           "#636efa",
           "#EF553B",
           "#00cc96",
           "#ab63fa",
           "#FFA15A",
           "#19d3f3",
           "#FF6692",
           "#B6E880",
           "#FF97FF",
           "#FECB52"
          ],
          "font": {
           "color": "#2a3f5f"
          },
          "geo": {
           "bgcolor": "white",
           "lakecolor": "white",
           "landcolor": "#E5ECF6",
           "showlakes": true,
           "showland": true,
           "subunitcolor": "white"
          },
          "hoverlabel": {
           "align": "left"
          },
          "hovermode": "closest",
          "mapbox": {
           "style": "light"
          },
          "paper_bgcolor": "white",
          "plot_bgcolor": "#E5ECF6",
          "polar": {
           "angularaxis": {
            "gridcolor": "white",
            "linecolor": "white",
            "ticks": ""
           },
           "bgcolor": "#E5ECF6",
           "radialaxis": {
            "gridcolor": "white",
            "linecolor": "white",
            "ticks": ""
           }
          },
          "scene": {
           "xaxis": {
            "backgroundcolor": "#E5ECF6",
            "gridcolor": "white",
            "gridwidth": 2,
            "linecolor": "white",
            "showbackground": true,
            "ticks": "",
            "zerolinecolor": "white"
           },
           "yaxis": {
            "backgroundcolor": "#E5ECF6",
            "gridcolor": "white",
            "gridwidth": 2,
            "linecolor": "white",
            "showbackground": true,
            "ticks": "",
            "zerolinecolor": "white"
           },
           "zaxis": {
            "backgroundcolor": "#E5ECF6",
            "gridcolor": "white",
            "gridwidth": 2,
            "linecolor": "white",
            "showbackground": true,
            "ticks": "",
            "zerolinecolor": "white"
           }
          },
          "shapedefaults": {
           "line": {
            "color": "#2a3f5f"
           }
          },
          "ternary": {
           "aaxis": {
            "gridcolor": "white",
            "linecolor": "white",
            "ticks": ""
           },
           "baxis": {
            "gridcolor": "white",
            "linecolor": "white",
            "ticks": ""
           },
           "bgcolor": "#E5ECF6",
           "caxis": {
            "gridcolor": "white",
            "linecolor": "white",
            "ticks": ""
           }
          },
          "title": {
           "x": 0.05
          },
          "xaxis": {
           "automargin": true,
           "gridcolor": "white",
           "linecolor": "white",
           "ticks": "",
           "title": {
            "standoff": 15
           },
           "zerolinecolor": "white",
           "zerolinewidth": 2
          },
          "yaxis": {
           "automargin": true,
           "gridcolor": "white",
           "linecolor": "white",
           "ticks": "",
           "title": {
            "standoff": 15
           },
           "zerolinecolor": "white",
           "zerolinewidth": 2
          }
         }
        },
        "title": {
         "font": {
          "color": "#4D5663"
         }
        },
        "xaxis": {
         "gridcolor": "#E1E5ED",
         "showgrid": true,
         "tickfont": {
          "color": "#4D5663"
         },
         "title": {
          "font": {
           "color": "#4D5663"
          },
          "text": ""
         },
         "zerolinecolor": "#E1E5ED"
        },
        "yaxis": {
         "gridcolor": "#E1E5ED",
         "showgrid": true,
         "tickfont": {
          "color": "#4D5663"
         },
         "title": {
          "font": {
           "color": "#4D5663"
          },
          "text": ""
         },
         "zerolinecolor": "#E1E5ED"
        }
       }
      },
      "text/html": [
       "<div>                            <div id=\"b6332413-c549-47ef-a5d7-5951212082aa\" class=\"plotly-graph-div\" style=\"height:525px; width:100%;\"></div>            <script type=\"text/javascript\">                require([\"plotly\"], function(Plotly) {                    window.PLOTLYENV=window.PLOTLYENV || {};\n",
       "                    window.PLOTLYENV.BASE_URL='https://plot.ly';                                    if (document.getElementById(\"b6332413-c549-47ef-a5d7-5951212082aa\")) {                    Plotly.newPlot(                        \"b6332413-c549-47ef-a5d7-5951212082aa\",                        [{\"marker\":{\"color\":\"rgba(255, 153, 51, 0.6)\",\"line\":{\"color\":\"rgba(255, 153, 51, 1.0)\",\"width\":1}},\"name\":\"None\",\"orientation\":\"v\",\"text\":\"\",\"x\":[\"(Round of 16)\",\"(Quarter-finals)\",\"(Group 1)\",\"(Group A)\",\"(Group B)\",\"(Group 2)\",\"(Group 3)\",\"(Group 4)\",\"(Group D)\",\"(Group C)\",\"(Group E)\",\"(Group F)\",\"(Semi-finals)\",\"(Group H)\",\"(Group G)\",\"(Final)\",\"(Match for third place)\",\"(Group 6)\",\"(First round)\",\"(Preliminary round)\",\"(Group 5)\",\"(Play-off for third place)\",\"(Third place)\"],\"y\":[70,66,62,60,60,59,56,55,48,48,48,48,36,30,30,20,15,12,9,8,6,2,2],\"type\":\"bar\"}],                        {\"legend\":{\"bgcolor\":\"#F5F6F9\",\"font\":{\"color\":\"#4D5663\"}},\"paper_bgcolor\":\"#F5F6F9\",\"plot_bgcolor\":\"#F5F6F9\",\"template\":{\"data\":{\"barpolar\":[{\"marker\":{\"line\":{\"color\":\"#E5ECF6\",\"width\":0.5},\"pattern\":{\"fillmode\":\"overlay\",\"size\":10,\"solidity\":0.2}},\"type\":\"barpolar\"}],\"bar\":[{\"error_x\":{\"color\":\"#2a3f5f\"},\"error_y\":{\"color\":\"#2a3f5f\"},\"marker\":{\"line\":{\"color\":\"#E5ECF6\",\"width\":0.5},\"pattern\":{\"fillmode\":\"overlay\",\"size\":10,\"solidity\":0.2}},\"type\":\"bar\"}],\"carpet\":[{\"aaxis\":{\"endlinecolor\":\"#2a3f5f\",\"gridcolor\":\"white\",\"linecolor\":\"white\",\"minorgridcolor\":\"white\",\"startlinecolor\":\"#2a3f5f\"},\"baxis\":{\"endlinecolor\":\"#2a3f5f\",\"gridcolor\":\"white\",\"linecolor\":\"white\",\"minorgridcolor\":\"white\",\"startlinecolor\":\"#2a3f5f\"},\"type\":\"carpet\"}],\"choropleth\":[{\"colorbar\":{\"outlinewidth\":0,\"ticks\":\"\"},\"type\":\"choropleth\"}],\"contourcarpet\":[{\"colorbar\":{\"outlinewidth\":0,\"ticks\":\"\"},\"type\":\"contourcarpet\"}],\"contour\":[{\"colorbar\":{\"outlinewidth\":0,\"ticks\":\"\"},\"colorscale\":[[0.0,\"#0d0887\"],[0.1111111111111111,\"#46039f\"],[0.2222222222222222,\"#7201a8\"],[0.3333333333333333,\"#9c179e\"],[0.4444444444444444,\"#bd3786\"],[0.5555555555555556,\"#d8576b\"],[0.6666666666666666,\"#ed7953\"],[0.7777777777777778,\"#fb9f3a\"],[0.8888888888888888,\"#fdca26\"],[1.0,\"#f0f921\"]],\"type\":\"contour\"}],\"heatmapgl\":[{\"colorbar\":{\"outlinewidth\":0,\"ticks\":\"\"},\"colorscale\":[[0.0,\"#0d0887\"],[0.1111111111111111,\"#46039f\"],[0.2222222222222222,\"#7201a8\"],[0.3333333333333333,\"#9c179e\"],[0.4444444444444444,\"#bd3786\"],[0.5555555555555556,\"#d8576b\"],[0.6666666666666666,\"#ed7953\"],[0.7777777777777778,\"#fb9f3a\"],[0.8888888888888888,\"#fdca26\"],[1.0,\"#f0f921\"]],\"type\":\"heatmapgl\"}],\"heatmap\":[{\"colorbar\":{\"outlinewidth\":0,\"ticks\":\"\"},\"colorscale\":[[0.0,\"#0d0887\"],[0.1111111111111111,\"#46039f\"],[0.2222222222222222,\"#7201a8\"],[0.3333333333333333,\"#9c179e\"],[0.4444444444444444,\"#bd3786\"],[0.5555555555555556,\"#d8576b\"],[0.6666666666666666,\"#ed7953\"],[0.7777777777777778,\"#fb9f3a\"],[0.8888888888888888,\"#fdca26\"],[1.0,\"#f0f921\"]],\"type\":\"heatmap\"}],\"histogram2dcontour\":[{\"colorbar\":{\"outlinewidth\":0,\"ticks\":\"\"},\"colorscale\":[[0.0,\"#0d0887\"],[0.1111111111111111,\"#46039f\"],[0.2222222222222222,\"#7201a8\"],[0.3333333333333333,\"#9c179e\"],[0.4444444444444444,\"#bd3786\"],[0.5555555555555556,\"#d8576b\"],[0.6666666666666666,\"#ed7953\"],[0.7777777777777778,\"#fb9f3a\"],[0.8888888888888888,\"#fdca26\"],[1.0,\"#f0f921\"]],\"type\":\"histogram2dcontour\"}],\"histogram2d\":[{\"colorbar\":{\"outlinewidth\":0,\"ticks\":\"\"},\"colorscale\":[[0.0,\"#0d0887\"],[0.1111111111111111,\"#46039f\"],[0.2222222222222222,\"#7201a8\"],[0.3333333333333333,\"#9c179e\"],[0.4444444444444444,\"#bd3786\"],[0.5555555555555556,\"#d8576b\"],[0.6666666666666666,\"#ed7953\"],[0.7777777777777778,\"#fb9f3a\"],[0.8888888888888888,\"#fdca26\"],[1.0,\"#f0f921\"]],\"type\":\"histogram2d\"}],\"histogram\":[{\"marker\":{\"pattern\":{\"fillmode\":\"overlay\",\"size\":10,\"solidity\":0.2}},\"type\":\"histogram\"}],\"mesh3d\":[{\"colorbar\":{\"outlinewidth\":0,\"ticks\":\"\"},\"type\":\"mesh3d\"}],\"parcoords\":[{\"line\":{\"colorbar\":{\"outlinewidth\":0,\"ticks\":\"\"}},\"type\":\"parcoords\"}],\"pie\":[{\"automargin\":true,\"type\":\"pie\"}],\"scatter3d\":[{\"line\":{\"colorbar\":{\"outlinewidth\":0,\"ticks\":\"\"}},\"marker\":{\"colorbar\":{\"outlinewidth\":0,\"ticks\":\"\"}},\"type\":\"scatter3d\"}],\"scattercarpet\":[{\"marker\":{\"colorbar\":{\"outlinewidth\":0,\"ticks\":\"\"}},\"type\":\"scattercarpet\"}],\"scattergeo\":[{\"marker\":{\"colorbar\":{\"outlinewidth\":0,\"ticks\":\"\"}},\"type\":\"scattergeo\"}],\"scattergl\":[{\"marker\":{\"colorbar\":{\"outlinewidth\":0,\"ticks\":\"\"}},\"type\":\"scattergl\"}],\"scattermapbox\":[{\"marker\":{\"colorbar\":{\"outlinewidth\":0,\"ticks\":\"\"}},\"type\":\"scattermapbox\"}],\"scatterpolargl\":[{\"marker\":{\"colorbar\":{\"outlinewidth\":0,\"ticks\":\"\"}},\"type\":\"scatterpolargl\"}],\"scatterpolar\":[{\"marker\":{\"colorbar\":{\"outlinewidth\":0,\"ticks\":\"\"}},\"type\":\"scatterpolar\"}],\"scatter\":[{\"fillpattern\":{\"fillmode\":\"overlay\",\"size\":10,\"solidity\":0.2},\"type\":\"scatter\"}],\"scatterternary\":[{\"marker\":{\"colorbar\":{\"outlinewidth\":0,\"ticks\":\"\"}},\"type\":\"scatterternary\"}],\"surface\":[{\"colorbar\":{\"outlinewidth\":0,\"ticks\":\"\"},\"colorscale\":[[0.0,\"#0d0887\"],[0.1111111111111111,\"#46039f\"],[0.2222222222222222,\"#7201a8\"],[0.3333333333333333,\"#9c179e\"],[0.4444444444444444,\"#bd3786\"],[0.5555555555555556,\"#d8576b\"],[0.6666666666666666,\"#ed7953\"],[0.7777777777777778,\"#fb9f3a\"],[0.8888888888888888,\"#fdca26\"],[1.0,\"#f0f921\"]],\"type\":\"surface\"}],\"table\":[{\"cells\":{\"fill\":{\"color\":\"#EBF0F8\"},\"line\":{\"color\":\"white\"}},\"header\":{\"fill\":{\"color\":\"#C8D4E3\"},\"line\":{\"color\":\"white\"}},\"type\":\"table\"}]},\"layout\":{\"annotationdefaults\":{\"arrowcolor\":\"#2a3f5f\",\"arrowhead\":0,\"arrowwidth\":1},\"autotypenumbers\":\"strict\",\"coloraxis\":{\"colorbar\":{\"outlinewidth\":0,\"ticks\":\"\"}},\"colorscale\":{\"diverging\":[[0,\"#8e0152\"],[0.1,\"#c51b7d\"],[0.2,\"#de77ae\"],[0.3,\"#f1b6da\"],[0.4,\"#fde0ef\"],[0.5,\"#f7f7f7\"],[0.6,\"#e6f5d0\"],[0.7,\"#b8e186\"],[0.8,\"#7fbc41\"],[0.9,\"#4d9221\"],[1,\"#276419\"]],\"sequential\":[[0.0,\"#0d0887\"],[0.1111111111111111,\"#46039f\"],[0.2222222222222222,\"#7201a8\"],[0.3333333333333333,\"#9c179e\"],[0.4444444444444444,\"#bd3786\"],[0.5555555555555556,\"#d8576b\"],[0.6666666666666666,\"#ed7953\"],[0.7777777777777778,\"#fb9f3a\"],[0.8888888888888888,\"#fdca26\"],[1.0,\"#f0f921\"]],\"sequentialminus\":[[0.0,\"#0d0887\"],[0.1111111111111111,\"#46039f\"],[0.2222222222222222,\"#7201a8\"],[0.3333333333333333,\"#9c179e\"],[0.4444444444444444,\"#bd3786\"],[0.5555555555555556,\"#d8576b\"],[0.6666666666666666,\"#ed7953\"],[0.7777777777777778,\"#fb9f3a\"],[0.8888888888888888,\"#fdca26\"],[1.0,\"#f0f921\"]]},\"colorway\":[\"#636efa\",\"#EF553B\",\"#00cc96\",\"#ab63fa\",\"#FFA15A\",\"#19d3f3\",\"#FF6692\",\"#B6E880\",\"#FF97FF\",\"#FECB52\"],\"font\":{\"color\":\"#2a3f5f\"},\"geo\":{\"bgcolor\":\"white\",\"lakecolor\":\"white\",\"landcolor\":\"#E5ECF6\",\"showlakes\":true,\"showland\":true,\"subunitcolor\":\"white\"},\"hoverlabel\":{\"align\":\"left\"},\"hovermode\":\"closest\",\"mapbox\":{\"style\":\"light\"},\"paper_bgcolor\":\"white\",\"plot_bgcolor\":\"#E5ECF6\",\"polar\":{\"angularaxis\":{\"gridcolor\":\"white\",\"linecolor\":\"white\",\"ticks\":\"\"},\"bgcolor\":\"#E5ECF6\",\"radialaxis\":{\"gridcolor\":\"white\",\"linecolor\":\"white\",\"ticks\":\"\"}},\"scene\":{\"xaxis\":{\"backgroundcolor\":\"#E5ECF6\",\"gridcolor\":\"white\",\"gridwidth\":2,\"linecolor\":\"white\",\"showbackground\":true,\"ticks\":\"\",\"zerolinecolor\":\"white\"},\"yaxis\":{\"backgroundcolor\":\"#E5ECF6\",\"gridcolor\":\"white\",\"gridwidth\":2,\"linecolor\":\"white\",\"showbackground\":true,\"ticks\":\"\",\"zerolinecolor\":\"white\"},\"zaxis\":{\"backgroundcolor\":\"#E5ECF6\",\"gridcolor\":\"white\",\"gridwidth\":2,\"linecolor\":\"white\",\"showbackground\":true,\"ticks\":\"\",\"zerolinecolor\":\"white\"}},\"shapedefaults\":{\"line\":{\"color\":\"#2a3f5f\"}},\"ternary\":{\"aaxis\":{\"gridcolor\":\"white\",\"linecolor\":\"white\",\"ticks\":\"\"},\"baxis\":{\"gridcolor\":\"white\",\"linecolor\":\"white\",\"ticks\":\"\"},\"bgcolor\":\"#E5ECF6\",\"caxis\":{\"gridcolor\":\"white\",\"linecolor\":\"white\",\"ticks\":\"\"}},\"title\":{\"x\":0.05},\"xaxis\":{\"automargin\":true,\"gridcolor\":\"white\",\"linecolor\":\"white\",\"ticks\":\"\",\"title\":{\"standoff\":15},\"zerolinecolor\":\"white\",\"zerolinewidth\":2},\"yaxis\":{\"automargin\":true,\"gridcolor\":\"white\",\"linecolor\":\"white\",\"ticks\":\"\",\"title\":{\"standoff\":15},\"zerolinecolor\":\"white\",\"zerolinewidth\":2}}},\"title\":{\"font\":{\"color\":\"#4D5663\"}},\"xaxis\":{\"gridcolor\":\"#E1E5ED\",\"showgrid\":true,\"tickfont\":{\"color\":\"#4D5663\"},\"title\":{\"font\":{\"color\":\"#4D5663\"},\"text\":\"\"},\"zerolinecolor\":\"#E1E5ED\"},\"yaxis\":{\"gridcolor\":\"#E1E5ED\",\"showgrid\":true,\"tickfont\":{\"color\":\"#4D5663\"},\"title\":{\"font\":{\"color\":\"#4D5663\"},\"text\":\"\"},\"zerolinecolor\":\"#E1E5ED\"}},                        {\"showLink\": true, \"linkText\": \"Export to plot.ly\", \"plotlyServerURL\": \"https://plot.ly\", \"responsive\": true}                    ).then(function(){\n",
       "                            \n",
       "var gd = document.getElementById('b6332413-c549-47ef-a5d7-5951212082aa');\n",
       "var x = new MutationObserver(function (mutations, observer) {{\n",
       "        var display = window.getComputedStyle(gd).display;\n",
       "        if (!display || display === 'none') {{\n",
       "            console.log([gd, 'removed!']);\n",
       "            Plotly.purge(gd);\n",
       "            observer.disconnect();\n",
       "        }}\n",
       "}});\n",
       "\n",
       "// Listen for the removal of the full notebook cells\n",
       "var notebookContainer = gd.closest('#notebook-container');\n",
       "if (notebookContainer) {{\n",
       "    x.observe(notebookContainer, {childList: true});\n",
       "}}\n",
       "\n",
       "// Listen for the clearing of the current output cell\n",
       "var outputEl = gd.closest('.output');\n",
       "if (outputEl) {{\n",
       "    x.observe(outputEl, {childList: true});\n",
       "}}\n",
       "\n",
       "                        })                };                });            </script>        </div>"
      ]
     },
     "metadata": {},
     "output_type": "display_data"
    }
   ],
   "source": [
    "# In which stage the height matches was played.\n",
    "df1[['Stage']].value_counts().iplot(kind='bar')"
   ]
  },
  {
   "cell_type": "code",
   "execution_count": 59,
   "metadata": {},
   "outputs": [
    {
     "data": {
      "application/vnd.plotly.v1+json": {
       "config": {
        "linkText": "Export to plot.ly",
        "plotlyServerURL": "https://plot.ly",
        "showLink": true
       },
       "data": [
        {
         "marker": {
          "color": "rgba(255, 153, 51, 0.6)",
          "line": {
           "color": "rgba(255, 153, 51, 1.0)",
           "width": 1
          }
         },
         "name": "None",
         "orientation": "v",
         "text": "",
         "type": "bar",
         "x": [
          "(Estadio Azteca,Mexico City )",
          "(Jalisco,Guadalajara )",
          "(Nou Camp - Estadio Len,Leon )",
          "(Estadio do Maracana,Rio De Janeiro )",
          "(Estadio Nacional,Brasilia )",
          "(Nacional,Santiago De Chile )",
          "(Estadio Centenario,Montevideo )",
          "(Stade du Parc Lescure,Bordeaux )",
          "(Stade Vlodrome,Marseilles )",
          "(El Monumental - Estadio Monumental Antonio Vespuci,Buenos Aires )",
          "(Parc des Princes,Paris )",
          "(Stade de France,Saint-Denis )",
          "(Wembley Stadium,London )",
          "(Estadio Sausalito,Vina Del Mar )",
          "(Estadio Castelao,Fortaleza )",
          "(Rose Bowl,Los Angeles )",
          "(Estadio Mineirao,Belo Horizonte )",
          "(Estdio Jornalista Mrio Filho,Rio De Janeiro )",
          "(Stade Municipal,Toulouse )",
          "(Estadio Ol�mpico Chateau Carreras,Cordoba )",
          "(Soccer City Stadium,Johannesburg )",
          "(Cuauhtemoc,Puebla )",
          "(Rasunda Stadium,Solna )",
          "(Arena Fonte Nova,Salvador )",
          "(Port Elizabeth Stadium,Nelson Mandela Bay/Port Elizabeth )",
          "(Arena de Sao Paulo,Sao Paulo )",
          "(Cape Town Stadium,Cape Town )",
          "(Estadio El Teniente-Codelco,Rancagua )",
          "(Giants Stadium,New York/New Jersey )",
          "(Durban Stadium,Durban )",
          "(Ellis Park Stadium,Johannesburg )",
          "(Carlos Dittborn,Arica )",
          "(Nya Ullevi,Gothenburg )",
          "(La Mosson,Montpellier )",
          "(La Beaujoire,Nantes )",
          "(FIFA World Cup Stadium, Dortmund,Dortmund )",
          "(FIFA World Cup Stadium, Munich,Munich )",
          "(Olympiastadion,Berlin )",
          "(Pacaembu,Sao Paulo )",
          "(Giuseppe Meazza,Milan )",
          "(Parque Central,Montevideo )",
          "(Foxboro Stadium,Boston )",
          "(Free State Stadium,Mangaung/Bloemfontein )",
          "(Gottlieb-Daimler-Stadion,Stuttgart )",
          "(Royal Bafokeng Sports Palace,Phokeng )",
          "(Loftus Versfeld Stadium,Tshwane/Pretoria )",
          "(Stadio Olimpico,Rome )",
          "(St. Jakob,Basel )",
          "(Cotton Bowl,Dallas )",
          "(Arena Pernambuco,Recife )",
          "(Estadio Jos Mara Minella,Mar Del Plata )",
          "(Stade Geoffroy Guichard,Saint-Etienne )",
          "(Arroyito - Estadio Dr. Lisandro de la Torre,Rosario )",
          "(San Martin,Mendoza )",
          "(Stanford Stadium,San Francisco )",
          "(Stade Felix Bollaert,Lens )",
          "(Stade de Gerland,Lyon )",
          "(Citrus Bowl,Orlando )",
          "(Hardturm,Zurich )",
          "(Stadio delle Alpi,Turin )",
          "(Stadio San Nicola,Bari )",
          "(Parkstadion,Gelsenkirchen )",
          "(Camp Nou,Barcelona )",
          "(Olympiastadion,Munich )",
          "(Waldstadion,Frankfurt/Main )",
          "(Wankdorf Stadium,Berne )",
          "(La Pontaise,Lausanne )",
          "(Goodison Park,Liverpool )",
          "(Zentralstadion,Leipzig )",
          "(RFK Stadium,Washington Dc )",
          "(Soldier Field,Chicago )",
          "(San Paolo,Naples )",
          "(Luigi Ferraris,Genoa )",
          "(FIFA World Cup Stadium, Frankfurt,Frankfurt/Main )",
          "(FIFA World Cup Stadium, Gelsenkirchen,Gelsenkirchen )",
          "(FIFA World Cup Stadium, Hanover,Hanover )",
          "(FIFA World Cup Stadium, Hamburg,Hamburg )",
          "(Rheinstadion,D Sseldrof)",
          "(Franken-Stadion,Nuremberg )",
          "(Fritz-Walter-Stadion,Kaiserslautern )",
          "(FIFA World Cup Stadium, Cologne,Cologne )",
          "(Mbombela Stadium,Nelspruit )",
          "(Malmo Stadion,Malm� )",
          "(Luis Dosal,Toluca )",
          "(Marc Antonio Bentegodi,Verona )",
          "(Westfalenstadion,Dortmund )",
          "(Roker Park Ground,Sunderland )",
          "(Tecnologico,Monterrey )",
          "(Neckarstadion,Stuttgart )",
          "(Niedersachsenstadion,Hanover )",
          "(Santiago Bernabeu,Madrid )",
          "(Renato Dall Ara,Bologna )",
          "(Suwon World Cup Stadium,Suwon )",
          "(Peter Mokaba Stadium,Polokwane )",
          "(Pontiac Silverdome,Detroit )",
          "(Saitama Stadium 2002,Saitama )",
          "(Arena Amazonia,Manaus )",
          "(Estadio Universitario,Monterrey )",
          "(Charmilles,Geneva )",
          "(Estadio Ol�mpico Universitario,Mexico City )",
          "(Hillsborough,Sheffield )",
          "(International Stadium Yokohama,Yokohama )",
          "(Estadio Corregidora,Queretaro )",
          "(Estadio Beira-Rio,Porto Alegre )",
          "(Daegu World Cup Stadium,Daegu )",
          "(Comunale,Florence )",
          "(Estadio das Dunas,Natal )",
          "(Arena Pantanal,Cuiaba )",
          "(Arena da Baixada,Curitiba )",
          "(Busan Asiad Main Stadium,Busan )",
          "(Carlos Tartiere,Oviedo )",
          "(San Mames,Bilbao )",
          "(Estadio Municipal de Bala�dos,Vigo )",
          "(San Siro,Milan )",
          "(Sant Elia,Cagliari )",
          "(Estadio Irapuato,Irapuato )",
          "(Sapporo Dome,Sapporo )",
          "(Ayresome Park,Middlesbrough )",
          "(Sarria,Barcelona )",
          "(Seoul World Cup Stadium,Seoul )",
          "(Shizuoka Stadium Ecopa,Shizuoka )",
          "(Volksparkstadion,Hamburg )",
          "(Villa Park,Birmingham )",
          "(El Molinon,Gijon )",
          "(Riazor,La Coru A)",
          "(Daejeon World Cup Stadium,Daejeon )",
          "(Stade Olympique,Colombes )",
          "(Vicente Calderon,Madrid )",
          "(Tres de Marzo,Guadalajara )",
          "(Bombonera - Estadio Nemesio Diez,Toluca )",
          "(Della Favorita,Palermo )",
          "(Luis Casanova,Valencia )",
          "(Jeonju World Cup Stadium,Jeonju )",
          "(Neza,Nezahualcoyotl )",
          "(Old Trafford Stadium,Manchester )",
          "(Oita Stadium Big Eye,Oita )",
          "(Nuevo Estadio,Elche )",
          "(Jose Amalfitani,Buenos Aires )",
          "(Niigata Stadium Big Swan,Niigata )",
          "(Jose Rico Perez,Alicante )",
          "(Jose Zorrilla,Valladolid )",
          "(Olympiastadion,Berlin West )",
          "(Nazionale PNF,Rome )",
          "(Kashima Stadium,Ibaraki )",
          "(Munsu Football Stadium,Ulsan )",
          "(Miyagi Stadium,Rifu )",
          "(Kobe Wing Stadium,Kobe )",
          "(La Rosaleda,Malaga )",
          "(Jeju World Cup Stadium,Jeju )",
          "(La Romareda,Zaragoza )",
          "(Gwangju World Cup Stadium,Gwangju )",
          "(Osaka Nagai Stadium,Osaka )",
          "(Independencia,Belo Horizonte )",
          "(Incheon Football Stadium,Incheon )",
          "(Idrottsparken,Norrk Ping)",
          "(Giovanni Berta,Florence )",
          "(Orjans Vall,Halmstad )",
          "(Littorale,Bologna )",
          "(Giorgio Ascarelli,Naples )",
          "(Arosvallen,Vasteras )",
          "(Eucaliptos,Porto Alegre )",
          "(Ramon Sanchez Pizjuan,Seville )",
          "(Ryavallen,Boras )",
          "(Benito Villamarin,Seville )",
          "(Jarnvallen,Sandviken )",
          "(Stadio Benito Mussolini,Turin )",
          "(Olympia Stadium,Helsingborg )",
          "(Durival de Brito,Curitiba )",
          "(Dacia Arena,Udine )",
          "(Pocitos,Montevideo )",
          "(Cavee Verte,Le Havre )",
          "(Eyravallen,Orebro )",
          "(White City,London )",
          "(Fort Carree,Antibes )",
          "(Rimnersvallen,Udevalla )",
          "(Victor Boucquey,Lille )",
          "(Ilha do Retiro,Recife )",
          "(Velodrome Municipale,Reims )",
          "(Tunavallen,Eskilstuna )",
          "(Comunale di Cornaredo,Lugano )",
          "(Stade de la Meinau,Strasbourg )",
          "(Littorio,Trieste )",
          "(Friuli,Udine )"
         ],
         "y": [
          19,
          14,
          11,
          10,
          10,
          10,
          10,
          9,
          9,
          9,
          9,
          9,
          9,
          8,
          8,
          8,
          8,
          8,
          8,
          8,
          8,
          8,
          8,
          8,
          8,
          8,
          8,
          7,
          7,
          7,
          7,
          7,
          7,
          6,
          6,
          6,
          6,
          6,
          6,
          6,
          6,
          6,
          6,
          6,
          6,
          6,
          6,
          6,
          6,
          6,
          6,
          6,
          6,
          6,
          6,
          6,
          6,
          5,
          5,
          5,
          5,
          5,
          5,
          5,
          5,
          5,
          5,
          5,
          5,
          5,
          5,
          5,
          5,
          5,
          5,
          5,
          5,
          5,
          5,
          5,
          5,
          4,
          4,
          4,
          4,
          4,
          4,
          4,
          4,
          4,
          4,
          4,
          4,
          4,
          4,
          4,
          4,
          4,
          4,
          4,
          4,
          4,
          4,
          4,
          4,
          4,
          4,
          4,
          4,
          3,
          3,
          3,
          3,
          3,
          3,
          3,
          3,
          3,
          3,
          3,
          3,
          3,
          3,
          3,
          3,
          3,
          3,
          3,
          3,
          3,
          3,
          3,
          3,
          3,
          3,
          3,
          3,
          3,
          3,
          3,
          3,
          3,
          3,
          3,
          3,
          3,
          3,
          3,
          3,
          3,
          3,
          3,
          3,
          3,
          3,
          3,
          2,
          2,
          2,
          2,
          2,
          2,
          2,
          2,
          2,
          2,
          2,
          2,
          2,
          2,
          1,
          1,
          1,
          1,
          1,
          1,
          1,
          1,
          1,
          1,
          1,
          1,
          1
         ]
        }
       ],
       "layout": {
        "legend": {
         "bgcolor": "#F5F6F9",
         "font": {
          "color": "#4D5663"
         }
        },
        "paper_bgcolor": "#F5F6F9",
        "plot_bgcolor": "#F5F6F9",
        "template": {
         "data": {
          "bar": [
           {
            "error_x": {
             "color": "#2a3f5f"
            },
            "error_y": {
             "color": "#2a3f5f"
            },
            "marker": {
             "line": {
              "color": "#E5ECF6",
              "width": 0.5
             },
             "pattern": {
              "fillmode": "overlay",
              "size": 10,
              "solidity": 0.2
             }
            },
            "type": "bar"
           }
          ],
          "barpolar": [
           {
            "marker": {
             "line": {
              "color": "#E5ECF6",
              "width": 0.5
             },
             "pattern": {
              "fillmode": "overlay",
              "size": 10,
              "solidity": 0.2
             }
            },
            "type": "barpolar"
           }
          ],
          "carpet": [
           {
            "aaxis": {
             "endlinecolor": "#2a3f5f",
             "gridcolor": "white",
             "linecolor": "white",
             "minorgridcolor": "white",
             "startlinecolor": "#2a3f5f"
            },
            "baxis": {
             "endlinecolor": "#2a3f5f",
             "gridcolor": "white",
             "linecolor": "white",
             "minorgridcolor": "white",
             "startlinecolor": "#2a3f5f"
            },
            "type": "carpet"
           }
          ],
          "choropleth": [
           {
            "colorbar": {
             "outlinewidth": 0,
             "ticks": ""
            },
            "type": "choropleth"
           }
          ],
          "contour": [
           {
            "colorbar": {
             "outlinewidth": 0,
             "ticks": ""
            },
            "colorscale": [
             [
              0,
              "#0d0887"
             ],
             [
              0.1111111111111111,
              "#46039f"
             ],
             [
              0.2222222222222222,
              "#7201a8"
             ],
             [
              0.3333333333333333,
              "#9c179e"
             ],
             [
              0.4444444444444444,
              "#bd3786"
             ],
             [
              0.5555555555555556,
              "#d8576b"
             ],
             [
              0.6666666666666666,
              "#ed7953"
             ],
             [
              0.7777777777777778,
              "#fb9f3a"
             ],
             [
              0.8888888888888888,
              "#fdca26"
             ],
             [
              1,
              "#f0f921"
             ]
            ],
            "type": "contour"
           }
          ],
          "contourcarpet": [
           {
            "colorbar": {
             "outlinewidth": 0,
             "ticks": ""
            },
            "type": "contourcarpet"
           }
          ],
          "heatmap": [
           {
            "colorbar": {
             "outlinewidth": 0,
             "ticks": ""
            },
            "colorscale": [
             [
              0,
              "#0d0887"
             ],
             [
              0.1111111111111111,
              "#46039f"
             ],
             [
              0.2222222222222222,
              "#7201a8"
             ],
             [
              0.3333333333333333,
              "#9c179e"
             ],
             [
              0.4444444444444444,
              "#bd3786"
             ],
             [
              0.5555555555555556,
              "#d8576b"
             ],
             [
              0.6666666666666666,
              "#ed7953"
             ],
             [
              0.7777777777777778,
              "#fb9f3a"
             ],
             [
              0.8888888888888888,
              "#fdca26"
             ],
             [
              1,
              "#f0f921"
             ]
            ],
            "type": "heatmap"
           }
          ],
          "heatmapgl": [
           {
            "colorbar": {
             "outlinewidth": 0,
             "ticks": ""
            },
            "colorscale": [
             [
              0,
              "#0d0887"
             ],
             [
              0.1111111111111111,
              "#46039f"
             ],
             [
              0.2222222222222222,
              "#7201a8"
             ],
             [
              0.3333333333333333,
              "#9c179e"
             ],
             [
              0.4444444444444444,
              "#bd3786"
             ],
             [
              0.5555555555555556,
              "#d8576b"
             ],
             [
              0.6666666666666666,
              "#ed7953"
             ],
             [
              0.7777777777777778,
              "#fb9f3a"
             ],
             [
              0.8888888888888888,
              "#fdca26"
             ],
             [
              1,
              "#f0f921"
             ]
            ],
            "type": "heatmapgl"
           }
          ],
          "histogram": [
           {
            "marker": {
             "pattern": {
              "fillmode": "overlay",
              "size": 10,
              "solidity": 0.2
             }
            },
            "type": "histogram"
           }
          ],
          "histogram2d": [
           {
            "colorbar": {
             "outlinewidth": 0,
             "ticks": ""
            },
            "colorscale": [
             [
              0,
              "#0d0887"
             ],
             [
              0.1111111111111111,
              "#46039f"
             ],
             [
              0.2222222222222222,
              "#7201a8"
             ],
             [
              0.3333333333333333,
              "#9c179e"
             ],
             [
              0.4444444444444444,
              "#bd3786"
             ],
             [
              0.5555555555555556,
              "#d8576b"
             ],
             [
              0.6666666666666666,
              "#ed7953"
             ],
             [
              0.7777777777777778,
              "#fb9f3a"
             ],
             [
              0.8888888888888888,
              "#fdca26"
             ],
             [
              1,
              "#f0f921"
             ]
            ],
            "type": "histogram2d"
           }
          ],
          "histogram2dcontour": [
           {
            "colorbar": {
             "outlinewidth": 0,
             "ticks": ""
            },
            "colorscale": [
             [
              0,
              "#0d0887"
             ],
             [
              0.1111111111111111,
              "#46039f"
             ],
             [
              0.2222222222222222,
              "#7201a8"
             ],
             [
              0.3333333333333333,
              "#9c179e"
             ],
             [
              0.4444444444444444,
              "#bd3786"
             ],
             [
              0.5555555555555556,
              "#d8576b"
             ],
             [
              0.6666666666666666,
              "#ed7953"
             ],
             [
              0.7777777777777778,
              "#fb9f3a"
             ],
             [
              0.8888888888888888,
              "#fdca26"
             ],
             [
              1,
              "#f0f921"
             ]
            ],
            "type": "histogram2dcontour"
           }
          ],
          "mesh3d": [
           {
            "colorbar": {
             "outlinewidth": 0,
             "ticks": ""
            },
            "type": "mesh3d"
           }
          ],
          "parcoords": [
           {
            "line": {
             "colorbar": {
              "outlinewidth": 0,
              "ticks": ""
             }
            },
            "type": "parcoords"
           }
          ],
          "pie": [
           {
            "automargin": true,
            "type": "pie"
           }
          ],
          "scatter": [
           {
            "fillpattern": {
             "fillmode": "overlay",
             "size": 10,
             "solidity": 0.2
            },
            "type": "scatter"
           }
          ],
          "scatter3d": [
           {
            "line": {
             "colorbar": {
              "outlinewidth": 0,
              "ticks": ""
             }
            },
            "marker": {
             "colorbar": {
              "outlinewidth": 0,
              "ticks": ""
             }
            },
            "type": "scatter3d"
           }
          ],
          "scattercarpet": [
           {
            "marker": {
             "colorbar": {
              "outlinewidth": 0,
              "ticks": ""
             }
            },
            "type": "scattercarpet"
           }
          ],
          "scattergeo": [
           {
            "marker": {
             "colorbar": {
              "outlinewidth": 0,
              "ticks": ""
             }
            },
            "type": "scattergeo"
           }
          ],
          "scattergl": [
           {
            "marker": {
             "colorbar": {
              "outlinewidth": 0,
              "ticks": ""
             }
            },
            "type": "scattergl"
           }
          ],
          "scattermapbox": [
           {
            "marker": {
             "colorbar": {
              "outlinewidth": 0,
              "ticks": ""
             }
            },
            "type": "scattermapbox"
           }
          ],
          "scatterpolar": [
           {
            "marker": {
             "colorbar": {
              "outlinewidth": 0,
              "ticks": ""
             }
            },
            "type": "scatterpolar"
           }
          ],
          "scatterpolargl": [
           {
            "marker": {
             "colorbar": {
              "outlinewidth": 0,
              "ticks": ""
             }
            },
            "type": "scatterpolargl"
           }
          ],
          "scatterternary": [
           {
            "marker": {
             "colorbar": {
              "outlinewidth": 0,
              "ticks": ""
             }
            },
            "type": "scatterternary"
           }
          ],
          "surface": [
           {
            "colorbar": {
             "outlinewidth": 0,
             "ticks": ""
            },
            "colorscale": [
             [
              0,
              "#0d0887"
             ],
             [
              0.1111111111111111,
              "#46039f"
             ],
             [
              0.2222222222222222,
              "#7201a8"
             ],
             [
              0.3333333333333333,
              "#9c179e"
             ],
             [
              0.4444444444444444,
              "#bd3786"
             ],
             [
              0.5555555555555556,
              "#d8576b"
             ],
             [
              0.6666666666666666,
              "#ed7953"
             ],
             [
              0.7777777777777778,
              "#fb9f3a"
             ],
             [
              0.8888888888888888,
              "#fdca26"
             ],
             [
              1,
              "#f0f921"
             ]
            ],
            "type": "surface"
           }
          ],
          "table": [
           {
            "cells": {
             "fill": {
              "color": "#EBF0F8"
             },
             "line": {
              "color": "white"
             }
            },
            "header": {
             "fill": {
              "color": "#C8D4E3"
             },
             "line": {
              "color": "white"
             }
            },
            "type": "table"
           }
          ]
         },
         "layout": {
          "annotationdefaults": {
           "arrowcolor": "#2a3f5f",
           "arrowhead": 0,
           "arrowwidth": 1
          },
          "autotypenumbers": "strict",
          "coloraxis": {
           "colorbar": {
            "outlinewidth": 0,
            "ticks": ""
           }
          },
          "colorscale": {
           "diverging": [
            [
             0,
             "#8e0152"
            ],
            [
             0.1,
             "#c51b7d"
            ],
            [
             0.2,
             "#de77ae"
            ],
            [
             0.3,
             "#f1b6da"
            ],
            [
             0.4,
             "#fde0ef"
            ],
            [
             0.5,
             "#f7f7f7"
            ],
            [
             0.6,
             "#e6f5d0"
            ],
            [
             0.7,
             "#b8e186"
            ],
            [
             0.8,
             "#7fbc41"
            ],
            [
             0.9,
             "#4d9221"
            ],
            [
             1,
             "#276419"
            ]
           ],
           "sequential": [
            [
             0,
             "#0d0887"
            ],
            [
             0.1111111111111111,
             "#46039f"
            ],
            [
             0.2222222222222222,
             "#7201a8"
            ],
            [
             0.3333333333333333,
             "#9c179e"
            ],
            [
             0.4444444444444444,
             "#bd3786"
            ],
            [
             0.5555555555555556,
             "#d8576b"
            ],
            [
             0.6666666666666666,
             "#ed7953"
            ],
            [
             0.7777777777777778,
             "#fb9f3a"
            ],
            [
             0.8888888888888888,
             "#fdca26"
            ],
            [
             1,
             "#f0f921"
            ]
           ],
           "sequentialminus": [
            [
             0,
             "#0d0887"
            ],
            [
             0.1111111111111111,
             "#46039f"
            ],
            [
             0.2222222222222222,
             "#7201a8"
            ],
            [
             0.3333333333333333,
             "#9c179e"
            ],
            [
             0.4444444444444444,
             "#bd3786"
            ],
            [
             0.5555555555555556,
             "#d8576b"
            ],
            [
             0.6666666666666666,
             "#ed7953"
            ],
            [
             0.7777777777777778,
             "#fb9f3a"
            ],
            [
             0.8888888888888888,
             "#fdca26"
            ],
            [
             1,
             "#f0f921"
            ]
           ]
          },
          "colorway": [
           "#636efa",
           "#EF553B",
           "#00cc96",
           "#ab63fa",
           "#FFA15A",
           "#19d3f3",
           "#FF6692",
           "#B6E880",
           "#FF97FF",
           "#FECB52"
          ],
          "font": {
           "color": "#2a3f5f"
          },
          "geo": {
           "bgcolor": "white",
           "lakecolor": "white",
           "landcolor": "#E5ECF6",
           "showlakes": true,
           "showland": true,
           "subunitcolor": "white"
          },
          "hoverlabel": {
           "align": "left"
          },
          "hovermode": "closest",
          "mapbox": {
           "style": "light"
          },
          "paper_bgcolor": "white",
          "plot_bgcolor": "#E5ECF6",
          "polar": {
           "angularaxis": {
            "gridcolor": "white",
            "linecolor": "white",
            "ticks": ""
           },
           "bgcolor": "#E5ECF6",
           "radialaxis": {
            "gridcolor": "white",
            "linecolor": "white",
            "ticks": ""
           }
          },
          "scene": {
           "xaxis": {
            "backgroundcolor": "#E5ECF6",
            "gridcolor": "white",
            "gridwidth": 2,
            "linecolor": "white",
            "showbackground": true,
            "ticks": "",
            "zerolinecolor": "white"
           },
           "yaxis": {
            "backgroundcolor": "#E5ECF6",
            "gridcolor": "white",
            "gridwidth": 2,
            "linecolor": "white",
            "showbackground": true,
            "ticks": "",
            "zerolinecolor": "white"
           },
           "zaxis": {
            "backgroundcolor": "#E5ECF6",
            "gridcolor": "white",
            "gridwidth": 2,
            "linecolor": "white",
            "showbackground": true,
            "ticks": "",
            "zerolinecolor": "white"
           }
          },
          "shapedefaults": {
           "line": {
            "color": "#2a3f5f"
           }
          },
          "ternary": {
           "aaxis": {
            "gridcolor": "white",
            "linecolor": "white",
            "ticks": ""
           },
           "baxis": {
            "gridcolor": "white",
            "linecolor": "white",
            "ticks": ""
           },
           "bgcolor": "#E5ECF6",
           "caxis": {
            "gridcolor": "white",
            "linecolor": "white",
            "ticks": ""
           }
          },
          "title": {
           "x": 0.05
          },
          "xaxis": {
           "automargin": true,
           "gridcolor": "white",
           "linecolor": "white",
           "ticks": "",
           "title": {
            "standoff": 15
           },
           "zerolinecolor": "white",
           "zerolinewidth": 2
          },
          "yaxis": {
           "automargin": true,
           "gridcolor": "white",
           "linecolor": "white",
           "ticks": "",
           "title": {
            "standoff": 15
           },
           "zerolinecolor": "white",
           "zerolinewidth": 2
          }
         }
        },
        "title": {
         "font": {
          "color": "#4D5663"
         },
         "text": "Most stadium in city"
        },
        "xaxis": {
         "gridcolor": "#E1E5ED",
         "showgrid": true,
         "tickfont": {
          "color": "#4D5663"
         },
         "title": {
          "font": {
           "color": "#4D5663"
          },
          "text": ""
         },
         "zerolinecolor": "#E1E5ED"
        },
        "yaxis": {
         "gridcolor": "#E1E5ED",
         "showgrid": true,
         "tickfont": {
          "color": "#4D5663"
         },
         "title": {
          "font": {
           "color": "#4D5663"
          },
          "text": ""
         },
         "zerolinecolor": "#E1E5ED"
        }
       }
      },
      "text/html": [
       "<div>                            <div id=\"e49be8f4-7048-44e4-97a8-cd08a5f87846\" class=\"plotly-graph-div\" style=\"height:525px; width:100%;\"></div>            <script type=\"text/javascript\">                require([\"plotly\"], function(Plotly) {                    window.PLOTLYENV=window.PLOTLYENV || {};\n",
       "                    window.PLOTLYENV.BASE_URL='https://plot.ly';                                    if (document.getElementById(\"e49be8f4-7048-44e4-97a8-cd08a5f87846\")) {                    Plotly.newPlot(                        \"e49be8f4-7048-44e4-97a8-cd08a5f87846\",                        [{\"marker\":{\"color\":\"rgba(255, 153, 51, 0.6)\",\"line\":{\"color\":\"rgba(255, 153, 51, 1.0)\",\"width\":1}},\"name\":\"None\",\"orientation\":\"v\",\"text\":\"\",\"x\":[\"(Estadio Azteca,Mexico City )\",\"(Jalisco,Guadalajara )\",\"(Nou Camp - Estadio Len,Leon )\",\"(Estadio do Maracana,Rio De Janeiro )\",\"(Estadio Nacional,Brasilia )\",\"(Nacional,Santiago De Chile )\",\"(Estadio Centenario,Montevideo )\",\"(Stade du Parc Lescure,Bordeaux )\",\"(Stade Vlodrome,Marseilles )\",\"(El Monumental - Estadio Monumental Antonio Vespuci,Buenos Aires )\",\"(Parc des Princes,Paris )\",\"(Stade de France,Saint-Denis )\",\"(Wembley Stadium,London )\",\"(Estadio Sausalito,Vina Del Mar )\",\"(Estadio Castelao,Fortaleza )\",\"(Rose Bowl,Los Angeles )\",\"(Estadio Mineirao,Belo Horizonte )\",\"(Estdio Jornalista Mrio Filho,Rio De Janeiro )\",\"(Stade Municipal,Toulouse )\",\"(Estadio Ol\\ufffdmpico Chateau Carreras,Cordoba )\",\"(Soccer City Stadium,Johannesburg )\",\"(Cuauhtemoc,Puebla )\",\"(Rasunda Stadium,Solna )\",\"(Arena Fonte Nova,Salvador )\",\"(Port Elizabeth Stadium,Nelson Mandela Bay/Port Elizabeth )\",\"(Arena de Sao Paulo,Sao Paulo )\",\"(Cape Town Stadium,Cape Town )\",\"(Estadio El Teniente-Codelco,Rancagua )\",\"(Giants Stadium,New York/New Jersey )\",\"(Durban Stadium,Durban )\",\"(Ellis Park Stadium,Johannesburg )\",\"(Carlos Dittborn,Arica )\",\"(Nya Ullevi,Gothenburg )\",\"(La Mosson,Montpellier )\",\"(La Beaujoire,Nantes )\",\"(FIFA World Cup Stadium, Dortmund,Dortmund )\",\"(FIFA World Cup Stadium, Munich,Munich )\",\"(Olympiastadion,Berlin )\",\"(Pacaembu,Sao Paulo )\",\"(Giuseppe Meazza,Milan )\",\"(Parque Central,Montevideo )\",\"(Foxboro Stadium,Boston )\",\"(Free State Stadium,Mangaung/Bloemfontein )\",\"(Gottlieb-Daimler-Stadion,Stuttgart )\",\"(Royal Bafokeng Sports Palace,Phokeng )\",\"(Loftus Versfeld Stadium,Tshwane/Pretoria )\",\"(Stadio Olimpico,Rome )\",\"(St. Jakob,Basel )\",\"(Cotton Bowl,Dallas )\",\"(Arena Pernambuco,Recife )\",\"(Estadio Jos Mara Minella,Mar Del Plata )\",\"(Stade Geoffroy Guichard,Saint-Etienne )\",\"(Arroyito - Estadio Dr. Lisandro de la Torre,Rosario )\",\"(San Martin,Mendoza )\",\"(Stanford Stadium,San Francisco )\",\"(Stade Felix Bollaert,Lens )\",\"(Stade de Gerland,Lyon )\",\"(Citrus Bowl,Orlando )\",\"(Hardturm,Zurich )\",\"(Stadio delle Alpi,Turin )\",\"(Stadio San Nicola,Bari )\",\"(Parkstadion,Gelsenkirchen )\",\"(Camp Nou,Barcelona )\",\"(Olympiastadion,Munich )\",\"(Waldstadion,Frankfurt/Main )\",\"(Wankdorf Stadium,Berne )\",\"(La Pontaise,Lausanne )\",\"(Goodison Park,Liverpool )\",\"(Zentralstadion,Leipzig )\",\"(RFK Stadium,Washington Dc )\",\"(Soldier Field,Chicago )\",\"(San Paolo,Naples )\",\"(Luigi Ferraris,Genoa )\",\"(FIFA World Cup Stadium, Frankfurt,Frankfurt/Main )\",\"(FIFA World Cup Stadium, Gelsenkirchen,Gelsenkirchen )\",\"(FIFA World Cup Stadium, Hanover,Hanover )\",\"(FIFA World Cup Stadium, Hamburg,Hamburg )\",\"(Rheinstadion,D Sseldrof)\",\"(Franken-Stadion,Nuremberg )\",\"(Fritz-Walter-Stadion,Kaiserslautern )\",\"(FIFA World Cup Stadium, Cologne,Cologne )\",\"(Mbombela Stadium,Nelspruit )\",\"(Malmo Stadion,Malm\\ufffd )\",\"(Luis Dosal,Toluca )\",\"(Marc Antonio Bentegodi,Verona )\",\"(Westfalenstadion,Dortmund )\",\"(Roker Park Ground,Sunderland )\",\"(Tecnologico,Monterrey )\",\"(Neckarstadion,Stuttgart )\",\"(Niedersachsenstadion,Hanover )\",\"(Santiago Bernabeu,Madrid )\",\"(Renato Dall Ara,Bologna )\",\"(Suwon World Cup Stadium,Suwon )\",\"(Peter Mokaba Stadium,Polokwane )\",\"(Pontiac Silverdome,Detroit )\",\"(Saitama Stadium 2002,Saitama )\",\"(Arena Amazonia,Manaus )\",\"(Estadio Universitario,Monterrey )\",\"(Charmilles,Geneva )\",\"(Estadio Ol\\ufffdmpico Universitario,Mexico City )\",\"(Hillsborough,Sheffield )\",\"(International Stadium Yokohama,Yokohama )\",\"(Estadio Corregidora,Queretaro )\",\"(Estadio Beira-Rio,Porto Alegre )\",\"(Daegu World Cup Stadium,Daegu )\",\"(Comunale,Florence )\",\"(Estadio das Dunas,Natal )\",\"(Arena Pantanal,Cuiaba )\",\"(Arena da Baixada,Curitiba )\",\"(Busan Asiad Main Stadium,Busan )\",\"(Carlos Tartiere,Oviedo )\",\"(San Mames,Bilbao )\",\"(Estadio Municipal de Bala\\ufffddos,Vigo )\",\"(San Siro,Milan )\",\"(Sant Elia,Cagliari )\",\"(Estadio Irapuato,Irapuato )\",\"(Sapporo Dome,Sapporo )\",\"(Ayresome Park,Middlesbrough )\",\"(Sarria,Barcelona )\",\"(Seoul World Cup Stadium,Seoul )\",\"(Shizuoka Stadium Ecopa,Shizuoka )\",\"(Volksparkstadion,Hamburg )\",\"(Villa Park,Birmingham )\",\"(El Molinon,Gijon )\",\"(Riazor,La Coru A)\",\"(Daejeon World Cup Stadium,Daejeon )\",\"(Stade Olympique,Colombes )\",\"(Vicente Calderon,Madrid )\",\"(Tres de Marzo,Guadalajara )\",\"(Bombonera - Estadio Nemesio Diez,Toluca )\",\"(Della Favorita,Palermo )\",\"(Luis Casanova,Valencia )\",\"(Jeonju World Cup Stadium,Jeonju )\",\"(Neza,Nezahualcoyotl )\",\"(Old Trafford Stadium,Manchester )\",\"(Oita Stadium Big Eye,Oita )\",\"(Nuevo Estadio,Elche )\",\"(Jose Amalfitani,Buenos Aires )\",\"(Niigata Stadium Big Swan,Niigata )\",\"(Jose Rico Perez,Alicante )\",\"(Jose Zorrilla,Valladolid )\",\"(Olympiastadion,Berlin West )\",\"(Nazionale PNF,Rome )\",\"(Kashima Stadium,Ibaraki )\",\"(Munsu Football Stadium,Ulsan )\",\"(Miyagi Stadium,Rifu )\",\"(Kobe Wing Stadium,Kobe )\",\"(La Rosaleda,Malaga )\",\"(Jeju World Cup Stadium,Jeju )\",\"(La Romareda,Zaragoza )\",\"(Gwangju World Cup Stadium,Gwangju )\",\"(Osaka Nagai Stadium,Osaka )\",\"(Independencia,Belo Horizonte )\",\"(Incheon Football Stadium,Incheon )\",\"(Idrottsparken,Norrk Ping)\",\"(Giovanni Berta,Florence )\",\"(Orjans Vall,Halmstad )\",\"(Littorale,Bologna )\",\"(Giorgio Ascarelli,Naples )\",\"(Arosvallen,Vasteras )\",\"(Eucaliptos,Porto Alegre )\",\"(Ramon Sanchez Pizjuan,Seville )\",\"(Ryavallen,Boras )\",\"(Benito Villamarin,Seville )\",\"(Jarnvallen,Sandviken )\",\"(Stadio Benito Mussolini,Turin )\",\"(Olympia Stadium,Helsingborg )\",\"(Durival de Brito,Curitiba )\",\"(Dacia Arena,Udine )\",\"(Pocitos,Montevideo )\",\"(Cavee Verte,Le Havre )\",\"(Eyravallen,Orebro )\",\"(White City,London )\",\"(Fort Carree,Antibes )\",\"(Rimnersvallen,Udevalla )\",\"(Victor Boucquey,Lille )\",\"(Ilha do Retiro,Recife )\",\"(Velodrome Municipale,Reims )\",\"(Tunavallen,Eskilstuna )\",\"(Comunale di Cornaredo,Lugano )\",\"(Stade de la Meinau,Strasbourg )\",\"(Littorio,Trieste )\",\"(Friuli,Udine )\"],\"y\":[19,14,11,10,10,10,10,9,9,9,9,9,9,8,8,8,8,8,8,8,8,8,8,8,8,8,8,7,7,7,7,7,7,6,6,6,6,6,6,6,6,6,6,6,6,6,6,6,6,6,6,6,6,6,6,6,6,5,5,5,5,5,5,5,5,5,5,5,5,5,5,5,5,5,5,5,5,5,5,5,5,4,4,4,4,4,4,4,4,4,4,4,4,4,4,4,4,4,4,4,4,4,4,4,4,4,4,4,4,3,3,3,3,3,3,3,3,3,3,3,3,3,3,3,3,3,3,3,3,3,3,3,3,3,3,3,3,3,3,3,3,3,3,3,3,3,3,3,3,3,3,3,3,3,3,3,2,2,2,2,2,2,2,2,2,2,2,2,2,2,1,1,1,1,1,1,1,1,1,1,1,1,1],\"type\":\"bar\"}],                        {\"legend\":{\"bgcolor\":\"#F5F6F9\",\"font\":{\"color\":\"#4D5663\"}},\"paper_bgcolor\":\"#F5F6F9\",\"plot_bgcolor\":\"#F5F6F9\",\"template\":{\"data\":{\"barpolar\":[{\"marker\":{\"line\":{\"color\":\"#E5ECF6\",\"width\":0.5},\"pattern\":{\"fillmode\":\"overlay\",\"size\":10,\"solidity\":0.2}},\"type\":\"barpolar\"}],\"bar\":[{\"error_x\":{\"color\":\"#2a3f5f\"},\"error_y\":{\"color\":\"#2a3f5f\"},\"marker\":{\"line\":{\"color\":\"#E5ECF6\",\"width\":0.5},\"pattern\":{\"fillmode\":\"overlay\",\"size\":10,\"solidity\":0.2}},\"type\":\"bar\"}],\"carpet\":[{\"aaxis\":{\"endlinecolor\":\"#2a3f5f\",\"gridcolor\":\"white\",\"linecolor\":\"white\",\"minorgridcolor\":\"white\",\"startlinecolor\":\"#2a3f5f\"},\"baxis\":{\"endlinecolor\":\"#2a3f5f\",\"gridcolor\":\"white\",\"linecolor\":\"white\",\"minorgridcolor\":\"white\",\"startlinecolor\":\"#2a3f5f\"},\"type\":\"carpet\"}],\"choropleth\":[{\"colorbar\":{\"outlinewidth\":0,\"ticks\":\"\"},\"type\":\"choropleth\"}],\"contourcarpet\":[{\"colorbar\":{\"outlinewidth\":0,\"ticks\":\"\"},\"type\":\"contourcarpet\"}],\"contour\":[{\"colorbar\":{\"outlinewidth\":0,\"ticks\":\"\"},\"colorscale\":[[0.0,\"#0d0887\"],[0.1111111111111111,\"#46039f\"],[0.2222222222222222,\"#7201a8\"],[0.3333333333333333,\"#9c179e\"],[0.4444444444444444,\"#bd3786\"],[0.5555555555555556,\"#d8576b\"],[0.6666666666666666,\"#ed7953\"],[0.7777777777777778,\"#fb9f3a\"],[0.8888888888888888,\"#fdca26\"],[1.0,\"#f0f921\"]],\"type\":\"contour\"}],\"heatmapgl\":[{\"colorbar\":{\"outlinewidth\":0,\"ticks\":\"\"},\"colorscale\":[[0.0,\"#0d0887\"],[0.1111111111111111,\"#46039f\"],[0.2222222222222222,\"#7201a8\"],[0.3333333333333333,\"#9c179e\"],[0.4444444444444444,\"#bd3786\"],[0.5555555555555556,\"#d8576b\"],[0.6666666666666666,\"#ed7953\"],[0.7777777777777778,\"#fb9f3a\"],[0.8888888888888888,\"#fdca26\"],[1.0,\"#f0f921\"]],\"type\":\"heatmapgl\"}],\"heatmap\":[{\"colorbar\":{\"outlinewidth\":0,\"ticks\":\"\"},\"colorscale\":[[0.0,\"#0d0887\"],[0.1111111111111111,\"#46039f\"],[0.2222222222222222,\"#7201a8\"],[0.3333333333333333,\"#9c179e\"],[0.4444444444444444,\"#bd3786\"],[0.5555555555555556,\"#d8576b\"],[0.6666666666666666,\"#ed7953\"],[0.7777777777777778,\"#fb9f3a\"],[0.8888888888888888,\"#fdca26\"],[1.0,\"#f0f921\"]],\"type\":\"heatmap\"}],\"histogram2dcontour\":[{\"colorbar\":{\"outlinewidth\":0,\"ticks\":\"\"},\"colorscale\":[[0.0,\"#0d0887\"],[0.1111111111111111,\"#46039f\"],[0.2222222222222222,\"#7201a8\"],[0.3333333333333333,\"#9c179e\"],[0.4444444444444444,\"#bd3786\"],[0.5555555555555556,\"#d8576b\"],[0.6666666666666666,\"#ed7953\"],[0.7777777777777778,\"#fb9f3a\"],[0.8888888888888888,\"#fdca26\"],[1.0,\"#f0f921\"]],\"type\":\"histogram2dcontour\"}],\"histogram2d\":[{\"colorbar\":{\"outlinewidth\":0,\"ticks\":\"\"},\"colorscale\":[[0.0,\"#0d0887\"],[0.1111111111111111,\"#46039f\"],[0.2222222222222222,\"#7201a8\"],[0.3333333333333333,\"#9c179e\"],[0.4444444444444444,\"#bd3786\"],[0.5555555555555556,\"#d8576b\"],[0.6666666666666666,\"#ed7953\"],[0.7777777777777778,\"#fb9f3a\"],[0.8888888888888888,\"#fdca26\"],[1.0,\"#f0f921\"]],\"type\":\"histogram2d\"}],\"histogram\":[{\"marker\":{\"pattern\":{\"fillmode\":\"overlay\",\"size\":10,\"solidity\":0.2}},\"type\":\"histogram\"}],\"mesh3d\":[{\"colorbar\":{\"outlinewidth\":0,\"ticks\":\"\"},\"type\":\"mesh3d\"}],\"parcoords\":[{\"line\":{\"colorbar\":{\"outlinewidth\":0,\"ticks\":\"\"}},\"type\":\"parcoords\"}],\"pie\":[{\"automargin\":true,\"type\":\"pie\"}],\"scatter3d\":[{\"line\":{\"colorbar\":{\"outlinewidth\":0,\"ticks\":\"\"}},\"marker\":{\"colorbar\":{\"outlinewidth\":0,\"ticks\":\"\"}},\"type\":\"scatter3d\"}],\"scattercarpet\":[{\"marker\":{\"colorbar\":{\"outlinewidth\":0,\"ticks\":\"\"}},\"type\":\"scattercarpet\"}],\"scattergeo\":[{\"marker\":{\"colorbar\":{\"outlinewidth\":0,\"ticks\":\"\"}},\"type\":\"scattergeo\"}],\"scattergl\":[{\"marker\":{\"colorbar\":{\"outlinewidth\":0,\"ticks\":\"\"}},\"type\":\"scattergl\"}],\"scattermapbox\":[{\"marker\":{\"colorbar\":{\"outlinewidth\":0,\"ticks\":\"\"}},\"type\":\"scattermapbox\"}],\"scatterpolargl\":[{\"marker\":{\"colorbar\":{\"outlinewidth\":0,\"ticks\":\"\"}},\"type\":\"scatterpolargl\"}],\"scatterpolar\":[{\"marker\":{\"colorbar\":{\"outlinewidth\":0,\"ticks\":\"\"}},\"type\":\"scatterpolar\"}],\"scatter\":[{\"fillpattern\":{\"fillmode\":\"overlay\",\"size\":10,\"solidity\":0.2},\"type\":\"scatter\"}],\"scatterternary\":[{\"marker\":{\"colorbar\":{\"outlinewidth\":0,\"ticks\":\"\"}},\"type\":\"scatterternary\"}],\"surface\":[{\"colorbar\":{\"outlinewidth\":0,\"ticks\":\"\"},\"colorscale\":[[0.0,\"#0d0887\"],[0.1111111111111111,\"#46039f\"],[0.2222222222222222,\"#7201a8\"],[0.3333333333333333,\"#9c179e\"],[0.4444444444444444,\"#bd3786\"],[0.5555555555555556,\"#d8576b\"],[0.6666666666666666,\"#ed7953\"],[0.7777777777777778,\"#fb9f3a\"],[0.8888888888888888,\"#fdca26\"],[1.0,\"#f0f921\"]],\"type\":\"surface\"}],\"table\":[{\"cells\":{\"fill\":{\"color\":\"#EBF0F8\"},\"line\":{\"color\":\"white\"}},\"header\":{\"fill\":{\"color\":\"#C8D4E3\"},\"line\":{\"color\":\"white\"}},\"type\":\"table\"}]},\"layout\":{\"annotationdefaults\":{\"arrowcolor\":\"#2a3f5f\",\"arrowhead\":0,\"arrowwidth\":1},\"autotypenumbers\":\"strict\",\"coloraxis\":{\"colorbar\":{\"outlinewidth\":0,\"ticks\":\"\"}},\"colorscale\":{\"diverging\":[[0,\"#8e0152\"],[0.1,\"#c51b7d\"],[0.2,\"#de77ae\"],[0.3,\"#f1b6da\"],[0.4,\"#fde0ef\"],[0.5,\"#f7f7f7\"],[0.6,\"#e6f5d0\"],[0.7,\"#b8e186\"],[0.8,\"#7fbc41\"],[0.9,\"#4d9221\"],[1,\"#276419\"]],\"sequential\":[[0.0,\"#0d0887\"],[0.1111111111111111,\"#46039f\"],[0.2222222222222222,\"#7201a8\"],[0.3333333333333333,\"#9c179e\"],[0.4444444444444444,\"#bd3786\"],[0.5555555555555556,\"#d8576b\"],[0.6666666666666666,\"#ed7953\"],[0.7777777777777778,\"#fb9f3a\"],[0.8888888888888888,\"#fdca26\"],[1.0,\"#f0f921\"]],\"sequentialminus\":[[0.0,\"#0d0887\"],[0.1111111111111111,\"#46039f\"],[0.2222222222222222,\"#7201a8\"],[0.3333333333333333,\"#9c179e\"],[0.4444444444444444,\"#bd3786\"],[0.5555555555555556,\"#d8576b\"],[0.6666666666666666,\"#ed7953\"],[0.7777777777777778,\"#fb9f3a\"],[0.8888888888888888,\"#fdca26\"],[1.0,\"#f0f921\"]]},\"colorway\":[\"#636efa\",\"#EF553B\",\"#00cc96\",\"#ab63fa\",\"#FFA15A\",\"#19d3f3\",\"#FF6692\",\"#B6E880\",\"#FF97FF\",\"#FECB52\"],\"font\":{\"color\":\"#2a3f5f\"},\"geo\":{\"bgcolor\":\"white\",\"lakecolor\":\"white\",\"landcolor\":\"#E5ECF6\",\"showlakes\":true,\"showland\":true,\"subunitcolor\":\"white\"},\"hoverlabel\":{\"align\":\"left\"},\"hovermode\":\"closest\",\"mapbox\":{\"style\":\"light\"},\"paper_bgcolor\":\"white\",\"plot_bgcolor\":\"#E5ECF6\",\"polar\":{\"angularaxis\":{\"gridcolor\":\"white\",\"linecolor\":\"white\",\"ticks\":\"\"},\"bgcolor\":\"#E5ECF6\",\"radialaxis\":{\"gridcolor\":\"white\",\"linecolor\":\"white\",\"ticks\":\"\"}},\"scene\":{\"xaxis\":{\"backgroundcolor\":\"#E5ECF6\",\"gridcolor\":\"white\",\"gridwidth\":2,\"linecolor\":\"white\",\"showbackground\":true,\"ticks\":\"\",\"zerolinecolor\":\"white\"},\"yaxis\":{\"backgroundcolor\":\"#E5ECF6\",\"gridcolor\":\"white\",\"gridwidth\":2,\"linecolor\":\"white\",\"showbackground\":true,\"ticks\":\"\",\"zerolinecolor\":\"white\"},\"zaxis\":{\"backgroundcolor\":\"#E5ECF6\",\"gridcolor\":\"white\",\"gridwidth\":2,\"linecolor\":\"white\",\"showbackground\":true,\"ticks\":\"\",\"zerolinecolor\":\"white\"}},\"shapedefaults\":{\"line\":{\"color\":\"#2a3f5f\"}},\"ternary\":{\"aaxis\":{\"gridcolor\":\"white\",\"linecolor\":\"white\",\"ticks\":\"\"},\"baxis\":{\"gridcolor\":\"white\",\"linecolor\":\"white\",\"ticks\":\"\"},\"bgcolor\":\"#E5ECF6\",\"caxis\":{\"gridcolor\":\"white\",\"linecolor\":\"white\",\"ticks\":\"\"}},\"title\":{\"x\":0.05},\"xaxis\":{\"automargin\":true,\"gridcolor\":\"white\",\"linecolor\":\"white\",\"ticks\":\"\",\"title\":{\"standoff\":15},\"zerolinecolor\":\"white\",\"zerolinewidth\":2},\"yaxis\":{\"automargin\":true,\"gridcolor\":\"white\",\"linecolor\":\"white\",\"ticks\":\"\",\"title\":{\"standoff\":15},\"zerolinecolor\":\"white\",\"zerolinewidth\":2}}},\"title\":{\"font\":{\"color\":\"#4D5663\"},\"text\":\"Most stadium in city\"},\"xaxis\":{\"gridcolor\":\"#E1E5ED\",\"showgrid\":true,\"tickfont\":{\"color\":\"#4D5663\"},\"title\":{\"font\":{\"color\":\"#4D5663\"},\"text\":\"\"},\"zerolinecolor\":\"#E1E5ED\"},\"yaxis\":{\"gridcolor\":\"#E1E5ED\",\"showgrid\":true,\"tickfont\":{\"color\":\"#4D5663\"},\"title\":{\"font\":{\"color\":\"#4D5663\"},\"text\":\"\"},\"zerolinecolor\":\"#E1E5ED\"}},                        {\"showLink\": true, \"linkText\": \"Export to plot.ly\", \"plotlyServerURL\": \"https://plot.ly\", \"responsive\": true}                    ).then(function(){\n",
       "                            \n",
       "var gd = document.getElementById('e49be8f4-7048-44e4-97a8-cd08a5f87846');\n",
       "var x = new MutationObserver(function (mutations, observer) {{\n",
       "        var display = window.getComputedStyle(gd).display;\n",
       "        if (!display || display === 'none') {{\n",
       "            console.log([gd, 'removed!']);\n",
       "            Plotly.purge(gd);\n",
       "            observer.disconnect();\n",
       "        }}\n",
       "}});\n",
       "\n",
       "// Listen for the removal of the full notebook cells\n",
       "var notebookContainer = gd.closest('#notebook-container');\n",
       "if (notebookContainer) {{\n",
       "    x.observe(notebookContainer, {childList: true});\n",
       "}}\n",
       "\n",
       "// Listen for the clearing of the current output cell\n",
       "var outputEl = gd.closest('.output');\n",
       "if (outputEl) {{\n",
       "    x.observe(outputEl, {childList: true});\n",
       "}}\n",
       "\n",
       "                        })                };                });            </script>        </div>"
      ]
     },
     "metadata": {},
     "output_type": "display_data"
    }
   ],
   "source": [
    "# In which city the most stadium persent\n",
    "city_with_most_stadium = df1[['Stadium','City']].value_counts()\n",
    "city_with_most_stadium.iplot(kind='bar', title='Most stadium in city')"
   ]
  },
  {
   "cell_type": "markdown",
   "metadata": {},
   "source": [
    "From the above we can see that Estadio Azteca, Mexico City has most stadium"
   ]
  },
  {
   "cell_type": "code",
   "execution_count": 66,
   "metadata": {},
   "outputs": [
    {
     "data": {
      "application/vnd.plotly.v1+json": {
       "config": {
        "linkText": "Export to plot.ly",
        "plotlyServerURL": "https://plot.ly",
        "showLink": true
       },
       "data": [
        {
         "marker": {
          "color": "rgba(255, 153, 51, 0.6)",
          "line": {
           "color": "rgba(255, 153, 51, 1.0)",
           "width": 1
          }
         },
         "name": "None",
         "orientation": "v",
         "text": "",
         "type": "bar",
         "x": [
          "(Italy,1.0)",
          "(Brazil,1.0)",
          "(Argentina,1.0)",
          "(Brazil,2.0)",
          "(Argentina,2.0)",
          "(Italy,2.0)",
          "(Netherlands,2.0)",
          "(Brazil,3.0)",
          "(England,1.0)",
          "(Brazil,0.0)",
          "(Germany FR,2.0)",
          "(Brazil,4.0)",
          "(Spain,1.0)",
          "(Germany,1.0)",
          "(Uruguay,2.0)",
          "(Netherlands,0.0)",
          "(England,2.0)",
          "(Soviet Union,2.0)",
          "(Germany FR,1.0)",
          "(Belgium,1.0)",
          "(Italy,3.0)",
          "(Sweden,1.0)",
          "(France,0.0)",
          "(Italy,0.0)",
          "(Sweden,3.0)",
          "(Korea Republic,2.0)",
          "(Chile,1.0)",
          "(Germany FR,0.0)",
          "(Germany,2.0)",
          "(Sweden,2.0)",
          "(Argentina,3.0)",
          "(Spain,0.0)",
          "(Spain,2.0)",
          "(France,1.0)",
          "(Mexico,1.0)",
          "(Uruguay,1.0)",
          "(Argentina,0.0)",
          "(USA,1.0)",
          "(France,4.0)",
          "(England,0.0)",
          "(Spain,3.0)",
          "(Uruguay,0.0)",
          "(Japan,1.0)",
          "(Costa Rica,1.0)",
          "(Belgium,2.0)",
          "(England,3.0)",
          "(Germany,0.0)",
          "(Switzerland,2.0)",
          "(Poland,3.0)",
          "(France,2.0)",
          "(Poland,0.0)",
          "(Cameroon,1.0)",
          "(France,3.0)",
          "(Germany FR,4.0)",
          "(Yugoslavia,1.0)",
          "(Bulgaria,1.0)",
          "(Nigeria,1.0)",
          "(Czechoslovakia,3.0)",
          "(Sweden,0.0)",
          "(Germany FR,3.0)",
          "(Hungary,4.0)",
          "(Germany,4.0)",
          "(Saudi Arabia,0.0)",
          "(Argentina,4.0)",
          "(Portugal,2.0)",
          "(USA,0.0)",
          "(Paraguay,0.0)",
          "(Netherlands,1.0)",
          "(Argentina,6.0)",
          "(Scotland,0.0)",
          "(Austria,2.0)",
          "(Mexico,0.0)",
          "(Korea Republic,1.0)",
          "(Germany,3.0)",
          "(Japan,0.0)",
          "(Italy,4.0)",
          "(Romania,1.0)",
          "(Romania,2.0)",
          "(Portugal,3.0)",
          "(Portugal,1.0)",
          "(Portugal,0.0)",
          "(Soviet Union,3.0)",
          "(Paraguay,2.0)",
          "(Poland,1.0)",
          "(Scotland,1.0)",
          "(Peru,3.0)",
          "(Northern Ireland,1.0)",
          "(Germany FR,5.0)",
          "(South Africa,1.0)",
          "(Mexico,2.0)",
          "(Honduras,0.0)",
          "(Hungary,2.0)",
          "(Korea Republic,0.0)",
          "(Algeria,0.0)",
          "(Chile,3.0)",
          "(Belgium,3.0)",
          "(USA,3.0)",
          "(Uruguay,4.0)",
          "(Czechoslovakia,1.0)",
          "(Cameroon,2.0)",
          "(Cameroon,0.0)",
          "(Yugoslavia,0.0)",
          "(Brazil,5.0)",
          "(Colombia,2.0)",
          "(Denmark,1.0)",
          "(Yugoslavia,4.0)",
          "(Yugoslavia,3.0)",
          "(Australia,0.0)",
          "(Austria,3.0)",
          "(Switzerland,0.0)",
          "(rn\">Republic of Ireland,0.0)",
          "(Belgium,0.0)",
          "(Algeria,1.0)",
          "(rn\">Republic of Ireland,1.0)",
          "(Colombia,1.0)",
          "(South Africa,2.0)",
          "(Korea DPR,1.0)",
          "(Chile,2.0)",
          "(Mexico,3.0)",
          "(Morocco,0.0)",
          "(Paraguay,3.0)",
          "(Australia,2.0)",
          "(Zaire,0.0)",
          "(Netherlands,5.0)",
          "(Brazil,6.0)",
          "(Nigeria,2.0)",
          "(Austria,0.0)",
          "(Austria,1.0)",
          "(Paraguay,1.0)",
          "(Poland,2.0)",
          "(Soviet Union,1.0)",
          "(Romania,3.0)",
          "(Hungary,6.0)",
          "(Switzerland,4.0)",
          "(Honduras,1.0)",
          "(Greece,2.0)",
          "(Greece,0.0)",
          "(Hungary,3.0)",
          "(Denmark,2.0)",
          "(Ghana,1.0)",
          "(Ecuador,0.0)",
          "(Germany FR,6.0)",
          "(Togo,0.0)",
          "(Czech Republic,0.0)",
          "(Hungary,0.0)",
          "(England,4.0)",
          "(USA,2.0)",
          "(Soviet Union,4.0)",
          "(Saudi Arabia,2.0)",
          "(Saudi Arabia,1.0)",
          "(Trinidad and Tobago,0.0)",
          "(Yugoslavia,9.0)",
          "(Yugoslavia,5.0)",
          "(Switzerland,1.0)",
          "(Switzerland,3.0)",
          "(Russia,6.0)",
          "(Scotland,3.0)",
          "(Sweden,8.0)",
          "(rn\">Serbia and Montenegro,0.0)",
          "(Spain,6.0)",
          "(Senegal,0.0)",
          "(Scotland,5.0)",
          "(Uruguay,3.0)",
          "(Serbia,0.0)",
          "(Senegal,3.0)",
          "(Ukraine,1.0)",
          "(Turkey,7.0)",
          "(Soviet Union,0.0)",
          "(Turkey,3.0)",
          "(Uruguay,6.0)",
          "(Uruguay,7.0)",
          "(Sweden,4.0)",
          "(Soviet Union,6.0)",
          "(Uruguay,8.0)",
          "(Wales,2.0)",
          "(Tunisia,3.0)",
          "(South Africa,0.0)",
          "(Slovenia,2.0)",
          "(Tunisia,2.0)",
          "(Tunisia,1.0)",
          "(Yugoslavia,2.0)",
          "(Slovenia,1.0)",
          "(Slovenia,0.0)",
          "(Slovakia,3.0)",
          "(Slovakia,0.0)",
          "(Tunisia,0.0)",
          "(Spain,4.0)",
          "(Russia,2.0)",
          "(Jamaica,1.0)",
          "(Russia,1.0)",
          "(Cuba,3.0)",
          "(Croatia,0.0)",
          "(Croatia,1.0)",
          "(Croatia,2.0)",
          "(Ctedivore,0.0)",
          "(Ctedivore,2.0)",
          "(Ctedivore,3.0)",
          "(Cuba,2.0)",
          "(Czechoslovakia,2.0)",
          "(German DR,0.0)",
          "(Czechoslovakia,4.0)",
          "(Czechoslovakia,6.0)",
          "(Denmark,0.0)",
          "(Denmark,6.0)",
          "(Ecuador,1.0)",
          "(Ecuador,3.0)",
          "(France,6.0)",
          "(Costa Rica,2.0)",
          "(Costa Rica,0.0)",
          "(Colombia,3.0)",
          "(Colombia,0.0)",
          "(Algeria,3.0)",
          "(Angola,0.0)",
          "(Argentina,5.0)",
          "(Australia,3.0)",
          "(Austria,5.0)",
          "(Austria,7.0)",
          "(Bolivia,1.0)",
          "(Bosnia and Herzegovina,3.0)",
          "(Brazil,7.0)",
          "(Bulgaria,2.0)",
          "(Bulgaria,4.0)",
          "(Canada,0.0)",
          "(Chile,0.0)",
          "(Chile,5.0)",
          "(China PR,0.0)",
          "(France,7.0)",
          "(German DR,1.0)",
          "(Romania,0.0)",
          "(Northern Ireland,0.0)",
          "(Morocco,1.0)",
          "(Morocco,2.0)",
          "(Netherlands,3.0)",
          "(Netherlands,4.0)",
          "(New Zealand,1.0)",
          "(Nigeria,0.0)",
          "(Nigeria,3.0)",
          "(Northern Ireland,2.0)",
          "(German DR,2.0)",
          "(Norway,1.0)",
          "(Peru,0.0)",
          "(Peru,4.0)",
          "(Poland,5.0)",
          "(Portugal,4.0)",
          "(Portugal,5.0)",
          "(Portugal,7.0)",
          "(Mexico,4.0)",
          "(Korea DPR,0.0)",
          "(Japan,2.0)",
          "(Italy,7.0)",
          "(Germany,5.0)",
          "(Germany,8.0)",
          "(Germany FR,7.0)",
          "(Ghana,0.0)",
          "(Ghana,2.0)",
          "(Haiti,0.0)",
          "(Hungary,1.0)",
          "(Hungary,5.0)",
          "(Hungary,8.0)",
          "(Hungary,9.0)",
          "(Hungary,10.0)",
          "(IR Iran,0.0)",
          "(Iran,1.0)",
          "(Iraq,0.0)",
          "(Iraq,1.0)",
          "(rn\">United Arab Emirates,0.0)"
         ],
         "y": [
          22,
          20,
          18,
          18,
          15,
          15,
          15,
          14,
          13,
          12,
          12,
          12,
          10,
          10,
          10,
          9,
          9,
          9,
          9,
          8,
          8,
          8,
          7,
          7,
          7,
          7,
          7,
          7,
          7,
          6,
          6,
          6,
          6,
          6,
          6,
          6,
          6,
          6,
          6,
          6,
          6,
          5,
          5,
          5,
          5,
          5,
          5,
          5,
          5,
          5,
          5,
          5,
          5,
          5,
          5,
          5,
          5,
          4,
          4,
          4,
          4,
          4,
          4,
          4,
          4,
          4,
          4,
          4,
          4,
          4,
          4,
          4,
          4,
          4,
          4,
          4,
          3,
          3,
          3,
          3,
          3,
          3,
          3,
          3,
          3,
          3,
          3,
          3,
          3,
          3,
          3,
          3,
          3,
          3,
          3,
          3,
          3,
          3,
          3,
          3,
          3,
          3,
          3,
          3,
          3,
          3,
          3,
          3,
          3,
          3,
          3,
          2,
          2,
          2,
          2,
          2,
          2,
          2,
          2,
          2,
          2,
          2,
          2,
          2,
          2,
          2,
          2,
          2,
          2,
          2,
          2,
          2,
          2,
          2,
          2,
          2,
          2,
          2,
          2,
          2,
          2,
          2,
          2,
          2,
          2,
          2,
          2,
          2,
          1,
          1,
          1,
          1,
          1,
          1,
          1,
          1,
          1,
          1,
          1,
          1,
          1,
          1,
          1,
          1,
          1,
          1,
          1,
          1,
          1,
          1,
          1,
          1,
          1,
          1,
          1,
          1,
          1,
          1,
          1,
          1,
          1,
          1,
          1,
          1,
          1,
          1,
          1,
          1,
          1,
          1,
          1,
          1,
          1,
          1,
          1,
          1,
          1,
          1,
          1,
          1,
          1,
          1,
          1,
          1,
          1,
          1,
          1,
          1,
          1,
          1,
          1,
          1,
          1,
          1,
          1,
          1,
          1,
          1,
          1,
          1,
          1,
          1,
          1,
          1,
          1,
          1,
          1,
          1,
          1,
          1,
          1,
          1,
          1,
          1,
          1,
          1,
          1,
          1,
          1,
          1,
          1,
          1,
          1,
          1,
          1,
          1,
          1,
          1,
          1,
          1,
          1,
          1,
          1,
          1,
          1,
          1,
          1,
          1,
          1,
          1,
          1,
          1,
          1,
          1,
          1,
          1
         ]
        }
       ],
       "layout": {
        "legend": {
         "bgcolor": "#F5F6F9",
         "font": {
          "color": "#4D5663"
         }
        },
        "paper_bgcolor": "#F5F6F9",
        "plot_bgcolor": "#F5F6F9",
        "template": {
         "data": {
          "bar": [
           {
            "error_x": {
             "color": "#2a3f5f"
            },
            "error_y": {
             "color": "#2a3f5f"
            },
            "marker": {
             "line": {
              "color": "#E5ECF6",
              "width": 0.5
             },
             "pattern": {
              "fillmode": "overlay",
              "size": 10,
              "solidity": 0.2
             }
            },
            "type": "bar"
           }
          ],
          "barpolar": [
           {
            "marker": {
             "line": {
              "color": "#E5ECF6",
              "width": 0.5
             },
             "pattern": {
              "fillmode": "overlay",
              "size": 10,
              "solidity": 0.2
             }
            },
            "type": "barpolar"
           }
          ],
          "carpet": [
           {
            "aaxis": {
             "endlinecolor": "#2a3f5f",
             "gridcolor": "white",
             "linecolor": "white",
             "minorgridcolor": "white",
             "startlinecolor": "#2a3f5f"
            },
            "baxis": {
             "endlinecolor": "#2a3f5f",
             "gridcolor": "white",
             "linecolor": "white",
             "minorgridcolor": "white",
             "startlinecolor": "#2a3f5f"
            },
            "type": "carpet"
           }
          ],
          "choropleth": [
           {
            "colorbar": {
             "outlinewidth": 0,
             "ticks": ""
            },
            "type": "choropleth"
           }
          ],
          "contour": [
           {
            "colorbar": {
             "outlinewidth": 0,
             "ticks": ""
            },
            "colorscale": [
             [
              0,
              "#0d0887"
             ],
             [
              0.1111111111111111,
              "#46039f"
             ],
             [
              0.2222222222222222,
              "#7201a8"
             ],
             [
              0.3333333333333333,
              "#9c179e"
             ],
             [
              0.4444444444444444,
              "#bd3786"
             ],
             [
              0.5555555555555556,
              "#d8576b"
             ],
             [
              0.6666666666666666,
              "#ed7953"
             ],
             [
              0.7777777777777778,
              "#fb9f3a"
             ],
             [
              0.8888888888888888,
              "#fdca26"
             ],
             [
              1,
              "#f0f921"
             ]
            ],
            "type": "contour"
           }
          ],
          "contourcarpet": [
           {
            "colorbar": {
             "outlinewidth": 0,
             "ticks": ""
            },
            "type": "contourcarpet"
           }
          ],
          "heatmap": [
           {
            "colorbar": {
             "outlinewidth": 0,
             "ticks": ""
            },
            "colorscale": [
             [
              0,
              "#0d0887"
             ],
             [
              0.1111111111111111,
              "#46039f"
             ],
             [
              0.2222222222222222,
              "#7201a8"
             ],
             [
              0.3333333333333333,
              "#9c179e"
             ],
             [
              0.4444444444444444,
              "#bd3786"
             ],
             [
              0.5555555555555556,
              "#d8576b"
             ],
             [
              0.6666666666666666,
              "#ed7953"
             ],
             [
              0.7777777777777778,
              "#fb9f3a"
             ],
             [
              0.8888888888888888,
              "#fdca26"
             ],
             [
              1,
              "#f0f921"
             ]
            ],
            "type": "heatmap"
           }
          ],
          "heatmapgl": [
           {
            "colorbar": {
             "outlinewidth": 0,
             "ticks": ""
            },
            "colorscale": [
             [
              0,
              "#0d0887"
             ],
             [
              0.1111111111111111,
              "#46039f"
             ],
             [
              0.2222222222222222,
              "#7201a8"
             ],
             [
              0.3333333333333333,
              "#9c179e"
             ],
             [
              0.4444444444444444,
              "#bd3786"
             ],
             [
              0.5555555555555556,
              "#d8576b"
             ],
             [
              0.6666666666666666,
              "#ed7953"
             ],
             [
              0.7777777777777778,
              "#fb9f3a"
             ],
             [
              0.8888888888888888,
              "#fdca26"
             ],
             [
              1,
              "#f0f921"
             ]
            ],
            "type": "heatmapgl"
           }
          ],
          "histogram": [
           {
            "marker": {
             "pattern": {
              "fillmode": "overlay",
              "size": 10,
              "solidity": 0.2
             }
            },
            "type": "histogram"
           }
          ],
          "histogram2d": [
           {
            "colorbar": {
             "outlinewidth": 0,
             "ticks": ""
            },
            "colorscale": [
             [
              0,
              "#0d0887"
             ],
             [
              0.1111111111111111,
              "#46039f"
             ],
             [
              0.2222222222222222,
              "#7201a8"
             ],
             [
              0.3333333333333333,
              "#9c179e"
             ],
             [
              0.4444444444444444,
              "#bd3786"
             ],
             [
              0.5555555555555556,
              "#d8576b"
             ],
             [
              0.6666666666666666,
              "#ed7953"
             ],
             [
              0.7777777777777778,
              "#fb9f3a"
             ],
             [
              0.8888888888888888,
              "#fdca26"
             ],
             [
              1,
              "#f0f921"
             ]
            ],
            "type": "histogram2d"
           }
          ],
          "histogram2dcontour": [
           {
            "colorbar": {
             "outlinewidth": 0,
             "ticks": ""
            },
            "colorscale": [
             [
              0,
              "#0d0887"
             ],
             [
              0.1111111111111111,
              "#46039f"
             ],
             [
              0.2222222222222222,
              "#7201a8"
             ],
             [
              0.3333333333333333,
              "#9c179e"
             ],
             [
              0.4444444444444444,
              "#bd3786"
             ],
             [
              0.5555555555555556,
              "#d8576b"
             ],
             [
              0.6666666666666666,
              "#ed7953"
             ],
             [
              0.7777777777777778,
              "#fb9f3a"
             ],
             [
              0.8888888888888888,
              "#fdca26"
             ],
             [
              1,
              "#f0f921"
             ]
            ],
            "type": "histogram2dcontour"
           }
          ],
          "mesh3d": [
           {
            "colorbar": {
             "outlinewidth": 0,
             "ticks": ""
            },
            "type": "mesh3d"
           }
          ],
          "parcoords": [
           {
            "line": {
             "colorbar": {
              "outlinewidth": 0,
              "ticks": ""
             }
            },
            "type": "parcoords"
           }
          ],
          "pie": [
           {
            "automargin": true,
            "type": "pie"
           }
          ],
          "scatter": [
           {
            "fillpattern": {
             "fillmode": "overlay",
             "size": 10,
             "solidity": 0.2
            },
            "type": "scatter"
           }
          ],
          "scatter3d": [
           {
            "line": {
             "colorbar": {
              "outlinewidth": 0,
              "ticks": ""
             }
            },
            "marker": {
             "colorbar": {
              "outlinewidth": 0,
              "ticks": ""
             }
            },
            "type": "scatter3d"
           }
          ],
          "scattercarpet": [
           {
            "marker": {
             "colorbar": {
              "outlinewidth": 0,
              "ticks": ""
             }
            },
            "type": "scattercarpet"
           }
          ],
          "scattergeo": [
           {
            "marker": {
             "colorbar": {
              "outlinewidth": 0,
              "ticks": ""
             }
            },
            "type": "scattergeo"
           }
          ],
          "scattergl": [
           {
            "marker": {
             "colorbar": {
              "outlinewidth": 0,
              "ticks": ""
             }
            },
            "type": "scattergl"
           }
          ],
          "scattermapbox": [
           {
            "marker": {
             "colorbar": {
              "outlinewidth": 0,
              "ticks": ""
             }
            },
            "type": "scattermapbox"
           }
          ],
          "scatterpolar": [
           {
            "marker": {
             "colorbar": {
              "outlinewidth": 0,
              "ticks": ""
             }
            },
            "type": "scatterpolar"
           }
          ],
          "scatterpolargl": [
           {
            "marker": {
             "colorbar": {
              "outlinewidth": 0,
              "ticks": ""
             }
            },
            "type": "scatterpolargl"
           }
          ],
          "scatterternary": [
           {
            "marker": {
             "colorbar": {
              "outlinewidth": 0,
              "ticks": ""
             }
            },
            "type": "scatterternary"
           }
          ],
          "surface": [
           {
            "colorbar": {
             "outlinewidth": 0,
             "ticks": ""
            },
            "colorscale": [
             [
              0,
              "#0d0887"
             ],
             [
              0.1111111111111111,
              "#46039f"
             ],
             [
              0.2222222222222222,
              "#7201a8"
             ],
             [
              0.3333333333333333,
              "#9c179e"
             ],
             [
              0.4444444444444444,
              "#bd3786"
             ],
             [
              0.5555555555555556,
              "#d8576b"
             ],
             [
              0.6666666666666666,
              "#ed7953"
             ],
             [
              0.7777777777777778,
              "#fb9f3a"
             ],
             [
              0.8888888888888888,
              "#fdca26"
             ],
             [
              1,
              "#f0f921"
             ]
            ],
            "type": "surface"
           }
          ],
          "table": [
           {
            "cells": {
             "fill": {
              "color": "#EBF0F8"
             },
             "line": {
              "color": "white"
             }
            },
            "header": {
             "fill": {
              "color": "#C8D4E3"
             },
             "line": {
              "color": "white"
             }
            },
            "type": "table"
           }
          ]
         },
         "layout": {
          "annotationdefaults": {
           "arrowcolor": "#2a3f5f",
           "arrowhead": 0,
           "arrowwidth": 1
          },
          "autotypenumbers": "strict",
          "coloraxis": {
           "colorbar": {
            "outlinewidth": 0,
            "ticks": ""
           }
          },
          "colorscale": {
           "diverging": [
            [
             0,
             "#8e0152"
            ],
            [
             0.1,
             "#c51b7d"
            ],
            [
             0.2,
             "#de77ae"
            ],
            [
             0.3,
             "#f1b6da"
            ],
            [
             0.4,
             "#fde0ef"
            ],
            [
             0.5,
             "#f7f7f7"
            ],
            [
             0.6,
             "#e6f5d0"
            ],
            [
             0.7,
             "#b8e186"
            ],
            [
             0.8,
             "#7fbc41"
            ],
            [
             0.9,
             "#4d9221"
            ],
            [
             1,
             "#276419"
            ]
           ],
           "sequential": [
            [
             0,
             "#0d0887"
            ],
            [
             0.1111111111111111,
             "#46039f"
            ],
            [
             0.2222222222222222,
             "#7201a8"
            ],
            [
             0.3333333333333333,
             "#9c179e"
            ],
            [
             0.4444444444444444,
             "#bd3786"
            ],
            [
             0.5555555555555556,
             "#d8576b"
            ],
            [
             0.6666666666666666,
             "#ed7953"
            ],
            [
             0.7777777777777778,
             "#fb9f3a"
            ],
            [
             0.8888888888888888,
             "#fdca26"
            ],
            [
             1,
             "#f0f921"
            ]
           ],
           "sequentialminus": [
            [
             0,
             "#0d0887"
            ],
            [
             0.1111111111111111,
             "#46039f"
            ],
            [
             0.2222222222222222,
             "#7201a8"
            ],
            [
             0.3333333333333333,
             "#9c179e"
            ],
            [
             0.4444444444444444,
             "#bd3786"
            ],
            [
             0.5555555555555556,
             "#d8576b"
            ],
            [
             0.6666666666666666,
             "#ed7953"
            ],
            [
             0.7777777777777778,
             "#fb9f3a"
            ],
            [
             0.8888888888888888,
             "#fdca26"
            ],
            [
             1,
             "#f0f921"
            ]
           ]
          },
          "colorway": [
           "#636efa",
           "#EF553B",
           "#00cc96",
           "#ab63fa",
           "#FFA15A",
           "#19d3f3",
           "#FF6692",
           "#B6E880",
           "#FF97FF",
           "#FECB52"
          ],
          "font": {
           "color": "#2a3f5f"
          },
          "geo": {
           "bgcolor": "white",
           "lakecolor": "white",
           "landcolor": "#E5ECF6",
           "showlakes": true,
           "showland": true,
           "subunitcolor": "white"
          },
          "hoverlabel": {
           "align": "left"
          },
          "hovermode": "closest",
          "mapbox": {
           "style": "light"
          },
          "paper_bgcolor": "white",
          "plot_bgcolor": "#E5ECF6",
          "polar": {
           "angularaxis": {
            "gridcolor": "white",
            "linecolor": "white",
            "ticks": ""
           },
           "bgcolor": "#E5ECF6",
           "radialaxis": {
            "gridcolor": "white",
            "linecolor": "white",
            "ticks": ""
           }
          },
          "scene": {
           "xaxis": {
            "backgroundcolor": "#E5ECF6",
            "gridcolor": "white",
            "gridwidth": 2,
            "linecolor": "white",
            "showbackground": true,
            "ticks": "",
            "zerolinecolor": "white"
           },
           "yaxis": {
            "backgroundcolor": "#E5ECF6",
            "gridcolor": "white",
            "gridwidth": 2,
            "linecolor": "white",
            "showbackground": true,
            "ticks": "",
            "zerolinecolor": "white"
           },
           "zaxis": {
            "backgroundcolor": "#E5ECF6",
            "gridcolor": "white",
            "gridwidth": 2,
            "linecolor": "white",
            "showbackground": true,
            "ticks": "",
            "zerolinecolor": "white"
           }
          },
          "shapedefaults": {
           "line": {
            "color": "#2a3f5f"
           }
          },
          "ternary": {
           "aaxis": {
            "gridcolor": "white",
            "linecolor": "white",
            "ticks": ""
           },
           "baxis": {
            "gridcolor": "white",
            "linecolor": "white",
            "ticks": ""
           },
           "bgcolor": "#E5ECF6",
           "caxis": {
            "gridcolor": "white",
            "linecolor": "white",
            "ticks": ""
           }
          },
          "title": {
           "x": 0.05
          },
          "xaxis": {
           "automargin": true,
           "gridcolor": "white",
           "linecolor": "white",
           "ticks": "",
           "title": {
            "standoff": 15
           },
           "zerolinecolor": "white",
           "zerolinewidth": 2
          },
          "yaxis": {
           "automargin": true,
           "gridcolor": "white",
           "linecolor": "white",
           "ticks": "",
           "title": {
            "standoff": 15
           },
           "zerolinecolor": "white",
           "zerolinewidth": 2
          }
         }
        },
        "title": {
         "font": {
          "color": "#4D5663"
         },
         "text": "Most Goal by home team"
        },
        "xaxis": {
         "gridcolor": "#E1E5ED",
         "showgrid": true,
         "tickfont": {
          "color": "#4D5663"
         },
         "title": {
          "font": {
           "color": "#4D5663"
          },
          "text": ""
         },
         "zerolinecolor": "#E1E5ED"
        },
        "yaxis": {
         "gridcolor": "#E1E5ED",
         "showgrid": true,
         "tickfont": {
          "color": "#4D5663"
         },
         "title": {
          "font": {
           "color": "#4D5663"
          },
          "text": ""
         },
         "zerolinecolor": "#E1E5ED"
        }
       }
      },
      "text/html": [
       "<div>                            <div id=\"74db698a-55b2-4b1f-9a21-d1c00fad0e62\" class=\"plotly-graph-div\" style=\"height:525px; width:100%;\"></div>            <script type=\"text/javascript\">                require([\"plotly\"], function(Plotly) {                    window.PLOTLYENV=window.PLOTLYENV || {};\n",
       "                    window.PLOTLYENV.BASE_URL='https://plot.ly';                                    if (document.getElementById(\"74db698a-55b2-4b1f-9a21-d1c00fad0e62\")) {                    Plotly.newPlot(                        \"74db698a-55b2-4b1f-9a21-d1c00fad0e62\",                        [{\"marker\":{\"color\":\"rgba(255, 153, 51, 0.6)\",\"line\":{\"color\":\"rgba(255, 153, 51, 1.0)\",\"width\":1}},\"name\":\"None\",\"orientation\":\"v\",\"text\":\"\",\"x\":[\"(Italy,1.0)\",\"(Brazil,1.0)\",\"(Argentina,1.0)\",\"(Brazil,2.0)\",\"(Argentina,2.0)\",\"(Italy,2.0)\",\"(Netherlands,2.0)\",\"(Brazil,3.0)\",\"(England,1.0)\",\"(Brazil,0.0)\",\"(Germany FR,2.0)\",\"(Brazil,4.0)\",\"(Spain,1.0)\",\"(Germany,1.0)\",\"(Uruguay,2.0)\",\"(Netherlands,0.0)\",\"(England,2.0)\",\"(Soviet Union,2.0)\",\"(Germany FR,1.0)\",\"(Belgium,1.0)\",\"(Italy,3.0)\",\"(Sweden,1.0)\",\"(France,0.0)\",\"(Italy,0.0)\",\"(Sweden,3.0)\",\"(Korea Republic,2.0)\",\"(Chile,1.0)\",\"(Germany FR,0.0)\",\"(Germany,2.0)\",\"(Sweden,2.0)\",\"(Argentina,3.0)\",\"(Spain,0.0)\",\"(Spain,2.0)\",\"(France,1.0)\",\"(Mexico,1.0)\",\"(Uruguay,1.0)\",\"(Argentina,0.0)\",\"(USA,1.0)\",\"(France,4.0)\",\"(England,0.0)\",\"(Spain,3.0)\",\"(Uruguay,0.0)\",\"(Japan,1.0)\",\"(Costa Rica,1.0)\",\"(Belgium,2.0)\",\"(England,3.0)\",\"(Germany,0.0)\",\"(Switzerland,2.0)\",\"(Poland,3.0)\",\"(France,2.0)\",\"(Poland,0.0)\",\"(Cameroon,1.0)\",\"(France,3.0)\",\"(Germany FR,4.0)\",\"(Yugoslavia,1.0)\",\"(Bulgaria,1.0)\",\"(Nigeria,1.0)\",\"(Czechoslovakia,3.0)\",\"(Sweden,0.0)\",\"(Germany FR,3.0)\",\"(Hungary,4.0)\",\"(Germany,4.0)\",\"(Saudi Arabia,0.0)\",\"(Argentina,4.0)\",\"(Portugal,2.0)\",\"(USA,0.0)\",\"(Paraguay,0.0)\",\"(Netherlands,1.0)\",\"(Argentina,6.0)\",\"(Scotland,0.0)\",\"(Austria,2.0)\",\"(Mexico,0.0)\",\"(Korea Republic,1.0)\",\"(Germany,3.0)\",\"(Japan,0.0)\",\"(Italy,4.0)\",\"(Romania,1.0)\",\"(Romania,2.0)\",\"(Portugal,3.0)\",\"(Portugal,1.0)\",\"(Portugal,0.0)\",\"(Soviet Union,3.0)\",\"(Paraguay,2.0)\",\"(Poland,1.0)\",\"(Scotland,1.0)\",\"(Peru,3.0)\",\"(Northern Ireland,1.0)\",\"(Germany FR,5.0)\",\"(South Africa,1.0)\",\"(Mexico,2.0)\",\"(Honduras,0.0)\",\"(Hungary,2.0)\",\"(Korea Republic,0.0)\",\"(Algeria,0.0)\",\"(Chile,3.0)\",\"(Belgium,3.0)\",\"(USA,3.0)\",\"(Uruguay,4.0)\",\"(Czechoslovakia,1.0)\",\"(Cameroon,2.0)\",\"(Cameroon,0.0)\",\"(Yugoslavia,0.0)\",\"(Brazil,5.0)\",\"(Colombia,2.0)\",\"(Denmark,1.0)\",\"(Yugoslavia,4.0)\",\"(Yugoslavia,3.0)\",\"(Australia,0.0)\",\"(Austria,3.0)\",\"(Switzerland,0.0)\",\"(rn\\\">Republic of Ireland,0.0)\",\"(Belgium,0.0)\",\"(Algeria,1.0)\",\"(rn\\\">Republic of Ireland,1.0)\",\"(Colombia,1.0)\",\"(South Africa,2.0)\",\"(Korea DPR,1.0)\",\"(Chile,2.0)\",\"(Mexico,3.0)\",\"(Morocco,0.0)\",\"(Paraguay,3.0)\",\"(Australia,2.0)\",\"(Zaire,0.0)\",\"(Netherlands,5.0)\",\"(Brazil,6.0)\",\"(Nigeria,2.0)\",\"(Austria,0.0)\",\"(Austria,1.0)\",\"(Paraguay,1.0)\",\"(Poland,2.0)\",\"(Soviet Union,1.0)\",\"(Romania,3.0)\",\"(Hungary,6.0)\",\"(Switzerland,4.0)\",\"(Honduras,1.0)\",\"(Greece,2.0)\",\"(Greece,0.0)\",\"(Hungary,3.0)\",\"(Denmark,2.0)\",\"(Ghana,1.0)\",\"(Ecuador,0.0)\",\"(Germany FR,6.0)\",\"(Togo,0.0)\",\"(Czech Republic,0.0)\",\"(Hungary,0.0)\",\"(England,4.0)\",\"(USA,2.0)\",\"(Soviet Union,4.0)\",\"(Saudi Arabia,2.0)\",\"(Saudi Arabia,1.0)\",\"(Trinidad and Tobago,0.0)\",\"(Yugoslavia,9.0)\",\"(Yugoslavia,5.0)\",\"(Switzerland,1.0)\",\"(Switzerland,3.0)\",\"(Russia,6.0)\",\"(Scotland,3.0)\",\"(Sweden,8.0)\",\"(rn\\\">Serbia and Montenegro,0.0)\",\"(Spain,6.0)\",\"(Senegal,0.0)\",\"(Scotland,5.0)\",\"(Uruguay,3.0)\",\"(Serbia,0.0)\",\"(Senegal,3.0)\",\"(Ukraine,1.0)\",\"(Turkey,7.0)\",\"(Soviet Union,0.0)\",\"(Turkey,3.0)\",\"(Uruguay,6.0)\",\"(Uruguay,7.0)\",\"(Sweden,4.0)\",\"(Soviet Union,6.0)\",\"(Uruguay,8.0)\",\"(Wales,2.0)\",\"(Tunisia,3.0)\",\"(South Africa,0.0)\",\"(Slovenia,2.0)\",\"(Tunisia,2.0)\",\"(Tunisia,1.0)\",\"(Yugoslavia,2.0)\",\"(Slovenia,1.0)\",\"(Slovenia,0.0)\",\"(Slovakia,3.0)\",\"(Slovakia,0.0)\",\"(Tunisia,0.0)\",\"(Spain,4.0)\",\"(Russia,2.0)\",\"(Jamaica,1.0)\",\"(Russia,1.0)\",\"(Cuba,3.0)\",\"(Croatia,0.0)\",\"(Croatia,1.0)\",\"(Croatia,2.0)\",\"(Ctedivore,0.0)\",\"(Ctedivore,2.0)\",\"(Ctedivore,3.0)\",\"(Cuba,2.0)\",\"(Czechoslovakia,2.0)\",\"(German DR,0.0)\",\"(Czechoslovakia,4.0)\",\"(Czechoslovakia,6.0)\",\"(Denmark,0.0)\",\"(Denmark,6.0)\",\"(Ecuador,1.0)\",\"(Ecuador,3.0)\",\"(France,6.0)\",\"(Costa Rica,2.0)\",\"(Costa Rica,0.0)\",\"(Colombia,3.0)\",\"(Colombia,0.0)\",\"(Algeria,3.0)\",\"(Angola,0.0)\",\"(Argentina,5.0)\",\"(Australia,3.0)\",\"(Austria,5.0)\",\"(Austria,7.0)\",\"(Bolivia,1.0)\",\"(Bosnia and Herzegovina,3.0)\",\"(Brazil,7.0)\",\"(Bulgaria,2.0)\",\"(Bulgaria,4.0)\",\"(Canada,0.0)\",\"(Chile,0.0)\",\"(Chile,5.0)\",\"(China PR,0.0)\",\"(France,7.0)\",\"(German DR,1.0)\",\"(Romania,0.0)\",\"(Northern Ireland,0.0)\",\"(Morocco,1.0)\",\"(Morocco,2.0)\",\"(Netherlands,3.0)\",\"(Netherlands,4.0)\",\"(New Zealand,1.0)\",\"(Nigeria,0.0)\",\"(Nigeria,3.0)\",\"(Northern Ireland,2.0)\",\"(German DR,2.0)\",\"(Norway,1.0)\",\"(Peru,0.0)\",\"(Peru,4.0)\",\"(Poland,5.0)\",\"(Portugal,4.0)\",\"(Portugal,5.0)\",\"(Portugal,7.0)\",\"(Mexico,4.0)\",\"(Korea DPR,0.0)\",\"(Japan,2.0)\",\"(Italy,7.0)\",\"(Germany,5.0)\",\"(Germany,8.0)\",\"(Germany FR,7.0)\",\"(Ghana,0.0)\",\"(Ghana,2.0)\",\"(Haiti,0.0)\",\"(Hungary,1.0)\",\"(Hungary,5.0)\",\"(Hungary,8.0)\",\"(Hungary,9.0)\",\"(Hungary,10.0)\",\"(IR Iran,0.0)\",\"(Iran,1.0)\",\"(Iraq,0.0)\",\"(Iraq,1.0)\",\"(rn\\\">United Arab Emirates,0.0)\"],\"y\":[22,20,18,18,15,15,15,14,13,12,12,12,10,10,10,9,9,9,9,8,8,8,7,7,7,7,7,7,7,6,6,6,6,6,6,6,6,6,6,6,6,5,5,5,5,5,5,5,5,5,5,5,5,5,5,5,5,4,4,4,4,4,4,4,4,4,4,4,4,4,4,4,4,4,4,4,3,3,3,3,3,3,3,3,3,3,3,3,3,3,3,3,3,3,3,3,3,3,3,3,3,3,3,3,3,3,3,3,3,3,3,2,2,2,2,2,2,2,2,2,2,2,2,2,2,2,2,2,2,2,2,2,2,2,2,2,2,2,2,2,2,2,2,2,2,2,2,2,1,1,1,1,1,1,1,1,1,1,1,1,1,1,1,1,1,1,1,1,1,1,1,1,1,1,1,1,1,1,1,1,1,1,1,1,1,1,1,1,1,1,1,1,1,1,1,1,1,1,1,1,1,1,1,1,1,1,1,1,1,1,1,1,1,1,1,1,1,1,1,1,1,1,1,1,1,1,1,1,1,1,1,1,1,1,1,1,1,1,1,1,1,1,1,1,1,1,1,1,1,1,1,1,1,1,1,1,1,1,1,1,1,1,1,1,1,1],\"type\":\"bar\"}],                        {\"legend\":{\"bgcolor\":\"#F5F6F9\",\"font\":{\"color\":\"#4D5663\"}},\"paper_bgcolor\":\"#F5F6F9\",\"plot_bgcolor\":\"#F5F6F9\",\"template\":{\"data\":{\"barpolar\":[{\"marker\":{\"line\":{\"color\":\"#E5ECF6\",\"width\":0.5},\"pattern\":{\"fillmode\":\"overlay\",\"size\":10,\"solidity\":0.2}},\"type\":\"barpolar\"}],\"bar\":[{\"error_x\":{\"color\":\"#2a3f5f\"},\"error_y\":{\"color\":\"#2a3f5f\"},\"marker\":{\"line\":{\"color\":\"#E5ECF6\",\"width\":0.5},\"pattern\":{\"fillmode\":\"overlay\",\"size\":10,\"solidity\":0.2}},\"type\":\"bar\"}],\"carpet\":[{\"aaxis\":{\"endlinecolor\":\"#2a3f5f\",\"gridcolor\":\"white\",\"linecolor\":\"white\",\"minorgridcolor\":\"white\",\"startlinecolor\":\"#2a3f5f\"},\"baxis\":{\"endlinecolor\":\"#2a3f5f\",\"gridcolor\":\"white\",\"linecolor\":\"white\",\"minorgridcolor\":\"white\",\"startlinecolor\":\"#2a3f5f\"},\"type\":\"carpet\"}],\"choropleth\":[{\"colorbar\":{\"outlinewidth\":0,\"ticks\":\"\"},\"type\":\"choropleth\"}],\"contourcarpet\":[{\"colorbar\":{\"outlinewidth\":0,\"ticks\":\"\"},\"type\":\"contourcarpet\"}],\"contour\":[{\"colorbar\":{\"outlinewidth\":0,\"ticks\":\"\"},\"colorscale\":[[0.0,\"#0d0887\"],[0.1111111111111111,\"#46039f\"],[0.2222222222222222,\"#7201a8\"],[0.3333333333333333,\"#9c179e\"],[0.4444444444444444,\"#bd3786\"],[0.5555555555555556,\"#d8576b\"],[0.6666666666666666,\"#ed7953\"],[0.7777777777777778,\"#fb9f3a\"],[0.8888888888888888,\"#fdca26\"],[1.0,\"#f0f921\"]],\"type\":\"contour\"}],\"heatmapgl\":[{\"colorbar\":{\"outlinewidth\":0,\"ticks\":\"\"},\"colorscale\":[[0.0,\"#0d0887\"],[0.1111111111111111,\"#46039f\"],[0.2222222222222222,\"#7201a8\"],[0.3333333333333333,\"#9c179e\"],[0.4444444444444444,\"#bd3786\"],[0.5555555555555556,\"#d8576b\"],[0.6666666666666666,\"#ed7953\"],[0.7777777777777778,\"#fb9f3a\"],[0.8888888888888888,\"#fdca26\"],[1.0,\"#f0f921\"]],\"type\":\"heatmapgl\"}],\"heatmap\":[{\"colorbar\":{\"outlinewidth\":0,\"ticks\":\"\"},\"colorscale\":[[0.0,\"#0d0887\"],[0.1111111111111111,\"#46039f\"],[0.2222222222222222,\"#7201a8\"],[0.3333333333333333,\"#9c179e\"],[0.4444444444444444,\"#bd3786\"],[0.5555555555555556,\"#d8576b\"],[0.6666666666666666,\"#ed7953\"],[0.7777777777777778,\"#fb9f3a\"],[0.8888888888888888,\"#fdca26\"],[1.0,\"#f0f921\"]],\"type\":\"heatmap\"}],\"histogram2dcontour\":[{\"colorbar\":{\"outlinewidth\":0,\"ticks\":\"\"},\"colorscale\":[[0.0,\"#0d0887\"],[0.1111111111111111,\"#46039f\"],[0.2222222222222222,\"#7201a8\"],[0.3333333333333333,\"#9c179e\"],[0.4444444444444444,\"#bd3786\"],[0.5555555555555556,\"#d8576b\"],[0.6666666666666666,\"#ed7953\"],[0.7777777777777778,\"#fb9f3a\"],[0.8888888888888888,\"#fdca26\"],[1.0,\"#f0f921\"]],\"type\":\"histogram2dcontour\"}],\"histogram2d\":[{\"colorbar\":{\"outlinewidth\":0,\"ticks\":\"\"},\"colorscale\":[[0.0,\"#0d0887\"],[0.1111111111111111,\"#46039f\"],[0.2222222222222222,\"#7201a8\"],[0.3333333333333333,\"#9c179e\"],[0.4444444444444444,\"#bd3786\"],[0.5555555555555556,\"#d8576b\"],[0.6666666666666666,\"#ed7953\"],[0.7777777777777778,\"#fb9f3a\"],[0.8888888888888888,\"#fdca26\"],[1.0,\"#f0f921\"]],\"type\":\"histogram2d\"}],\"histogram\":[{\"marker\":{\"pattern\":{\"fillmode\":\"overlay\",\"size\":10,\"solidity\":0.2}},\"type\":\"histogram\"}],\"mesh3d\":[{\"colorbar\":{\"outlinewidth\":0,\"ticks\":\"\"},\"type\":\"mesh3d\"}],\"parcoords\":[{\"line\":{\"colorbar\":{\"outlinewidth\":0,\"ticks\":\"\"}},\"type\":\"parcoords\"}],\"pie\":[{\"automargin\":true,\"type\":\"pie\"}],\"scatter3d\":[{\"line\":{\"colorbar\":{\"outlinewidth\":0,\"ticks\":\"\"}},\"marker\":{\"colorbar\":{\"outlinewidth\":0,\"ticks\":\"\"}},\"type\":\"scatter3d\"}],\"scattercarpet\":[{\"marker\":{\"colorbar\":{\"outlinewidth\":0,\"ticks\":\"\"}},\"type\":\"scattercarpet\"}],\"scattergeo\":[{\"marker\":{\"colorbar\":{\"outlinewidth\":0,\"ticks\":\"\"}},\"type\":\"scattergeo\"}],\"scattergl\":[{\"marker\":{\"colorbar\":{\"outlinewidth\":0,\"ticks\":\"\"}},\"type\":\"scattergl\"}],\"scattermapbox\":[{\"marker\":{\"colorbar\":{\"outlinewidth\":0,\"ticks\":\"\"}},\"type\":\"scattermapbox\"}],\"scatterpolargl\":[{\"marker\":{\"colorbar\":{\"outlinewidth\":0,\"ticks\":\"\"}},\"type\":\"scatterpolargl\"}],\"scatterpolar\":[{\"marker\":{\"colorbar\":{\"outlinewidth\":0,\"ticks\":\"\"}},\"type\":\"scatterpolar\"}],\"scatter\":[{\"fillpattern\":{\"fillmode\":\"overlay\",\"size\":10,\"solidity\":0.2},\"type\":\"scatter\"}],\"scatterternary\":[{\"marker\":{\"colorbar\":{\"outlinewidth\":0,\"ticks\":\"\"}},\"type\":\"scatterternary\"}],\"surface\":[{\"colorbar\":{\"outlinewidth\":0,\"ticks\":\"\"},\"colorscale\":[[0.0,\"#0d0887\"],[0.1111111111111111,\"#46039f\"],[0.2222222222222222,\"#7201a8\"],[0.3333333333333333,\"#9c179e\"],[0.4444444444444444,\"#bd3786\"],[0.5555555555555556,\"#d8576b\"],[0.6666666666666666,\"#ed7953\"],[0.7777777777777778,\"#fb9f3a\"],[0.8888888888888888,\"#fdca26\"],[1.0,\"#f0f921\"]],\"type\":\"surface\"}],\"table\":[{\"cells\":{\"fill\":{\"color\":\"#EBF0F8\"},\"line\":{\"color\":\"white\"}},\"header\":{\"fill\":{\"color\":\"#C8D4E3\"},\"line\":{\"color\":\"white\"}},\"type\":\"table\"}]},\"layout\":{\"annotationdefaults\":{\"arrowcolor\":\"#2a3f5f\",\"arrowhead\":0,\"arrowwidth\":1},\"autotypenumbers\":\"strict\",\"coloraxis\":{\"colorbar\":{\"outlinewidth\":0,\"ticks\":\"\"}},\"colorscale\":{\"diverging\":[[0,\"#8e0152\"],[0.1,\"#c51b7d\"],[0.2,\"#de77ae\"],[0.3,\"#f1b6da\"],[0.4,\"#fde0ef\"],[0.5,\"#f7f7f7\"],[0.6,\"#e6f5d0\"],[0.7,\"#b8e186\"],[0.8,\"#7fbc41\"],[0.9,\"#4d9221\"],[1,\"#276419\"]],\"sequential\":[[0.0,\"#0d0887\"],[0.1111111111111111,\"#46039f\"],[0.2222222222222222,\"#7201a8\"],[0.3333333333333333,\"#9c179e\"],[0.4444444444444444,\"#bd3786\"],[0.5555555555555556,\"#d8576b\"],[0.6666666666666666,\"#ed7953\"],[0.7777777777777778,\"#fb9f3a\"],[0.8888888888888888,\"#fdca26\"],[1.0,\"#f0f921\"]],\"sequentialminus\":[[0.0,\"#0d0887\"],[0.1111111111111111,\"#46039f\"],[0.2222222222222222,\"#7201a8\"],[0.3333333333333333,\"#9c179e\"],[0.4444444444444444,\"#bd3786\"],[0.5555555555555556,\"#d8576b\"],[0.6666666666666666,\"#ed7953\"],[0.7777777777777778,\"#fb9f3a\"],[0.8888888888888888,\"#fdca26\"],[1.0,\"#f0f921\"]]},\"colorway\":[\"#636efa\",\"#EF553B\",\"#00cc96\",\"#ab63fa\",\"#FFA15A\",\"#19d3f3\",\"#FF6692\",\"#B6E880\",\"#FF97FF\",\"#FECB52\"],\"font\":{\"color\":\"#2a3f5f\"},\"geo\":{\"bgcolor\":\"white\",\"lakecolor\":\"white\",\"landcolor\":\"#E5ECF6\",\"showlakes\":true,\"showland\":true,\"subunitcolor\":\"white\"},\"hoverlabel\":{\"align\":\"left\"},\"hovermode\":\"closest\",\"mapbox\":{\"style\":\"light\"},\"paper_bgcolor\":\"white\",\"plot_bgcolor\":\"#E5ECF6\",\"polar\":{\"angularaxis\":{\"gridcolor\":\"white\",\"linecolor\":\"white\",\"ticks\":\"\"},\"bgcolor\":\"#E5ECF6\",\"radialaxis\":{\"gridcolor\":\"white\",\"linecolor\":\"white\",\"ticks\":\"\"}},\"scene\":{\"xaxis\":{\"backgroundcolor\":\"#E5ECF6\",\"gridcolor\":\"white\",\"gridwidth\":2,\"linecolor\":\"white\",\"showbackground\":true,\"ticks\":\"\",\"zerolinecolor\":\"white\"},\"yaxis\":{\"backgroundcolor\":\"#E5ECF6\",\"gridcolor\":\"white\",\"gridwidth\":2,\"linecolor\":\"white\",\"showbackground\":true,\"ticks\":\"\",\"zerolinecolor\":\"white\"},\"zaxis\":{\"backgroundcolor\":\"#E5ECF6\",\"gridcolor\":\"white\",\"gridwidth\":2,\"linecolor\":\"white\",\"showbackground\":true,\"ticks\":\"\",\"zerolinecolor\":\"white\"}},\"shapedefaults\":{\"line\":{\"color\":\"#2a3f5f\"}},\"ternary\":{\"aaxis\":{\"gridcolor\":\"white\",\"linecolor\":\"white\",\"ticks\":\"\"},\"baxis\":{\"gridcolor\":\"white\",\"linecolor\":\"white\",\"ticks\":\"\"},\"bgcolor\":\"#E5ECF6\",\"caxis\":{\"gridcolor\":\"white\",\"linecolor\":\"white\",\"ticks\":\"\"}},\"title\":{\"x\":0.05},\"xaxis\":{\"automargin\":true,\"gridcolor\":\"white\",\"linecolor\":\"white\",\"ticks\":\"\",\"title\":{\"standoff\":15},\"zerolinecolor\":\"white\",\"zerolinewidth\":2},\"yaxis\":{\"automargin\":true,\"gridcolor\":\"white\",\"linecolor\":\"white\",\"ticks\":\"\",\"title\":{\"standoff\":15},\"zerolinecolor\":\"white\",\"zerolinewidth\":2}}},\"title\":{\"font\":{\"color\":\"#4D5663\"},\"text\":\"Most Goal by home team\"},\"xaxis\":{\"gridcolor\":\"#E1E5ED\",\"showgrid\":true,\"tickfont\":{\"color\":\"#4D5663\"},\"title\":{\"font\":{\"color\":\"#4D5663\"},\"text\":\"\"},\"zerolinecolor\":\"#E1E5ED\"},\"yaxis\":{\"gridcolor\":\"#E1E5ED\",\"showgrid\":true,\"tickfont\":{\"color\":\"#4D5663\"},\"title\":{\"font\":{\"color\":\"#4D5663\"},\"text\":\"\"},\"zerolinecolor\":\"#E1E5ED\"}},                        {\"showLink\": true, \"linkText\": \"Export to plot.ly\", \"plotlyServerURL\": \"https://plot.ly\", \"responsive\": true}                    ).then(function(){\n",
       "                            \n",
       "var gd = document.getElementById('74db698a-55b2-4b1f-9a21-d1c00fad0e62');\n",
       "var x = new MutationObserver(function (mutations, observer) {{\n",
       "        var display = window.getComputedStyle(gd).display;\n",
       "        if (!display || display === 'none') {{\n",
       "            console.log([gd, 'removed!']);\n",
       "            Plotly.purge(gd);\n",
       "            observer.disconnect();\n",
       "        }}\n",
       "}});\n",
       "\n",
       "// Listen for the removal of the full notebook cells\n",
       "var notebookContainer = gd.closest('#notebook-container');\n",
       "if (notebookContainer) {{\n",
       "    x.observe(notebookContainer, {childList: true});\n",
       "}}\n",
       "\n",
       "// Listen for the clearing of the current output cell\n",
       "var outputEl = gd.closest('.output');\n",
       "if (outputEl) {{\n",
       "    x.observe(outputEl, {childList: true});\n",
       "}}\n",
       "\n",
       "                        })                };                });            </script>        </div>"
      ]
     },
     "metadata": {},
     "output_type": "display_data"
    }
   ],
   "source": [
    "df1[['Home Team Name','Home Team Goals']].value_counts().iplot(kind='bar', title='Most Goal by home team')"
   ]
  },
  {
   "cell_type": "markdown",
   "metadata": {},
   "source": [
    "From the above we can see that Italy played most of the matches in there home ground."
   ]
  },
  {
   "cell_type": "code",
   "execution_count": 69,
   "metadata": {},
   "outputs": [
    {
     "data": {
      "text/plain": [
       "Home Team Name            Away Team Goals\n",
       "Brazil                    0.0                35\n",
       "                          1.0                32\n",
       "Italy                     1.0                28\n",
       "England                   0.0                23\n",
       "Argentina                 0.0                23\n",
       "                                             ..\n",
       "Germany                   3.0                 1\n",
       "Germany FR                3.0                 1\n",
       "Ghana                     2.0                 1\n",
       "Peru                      2.0                 1\n",
       "rn\">United Arab Emirates  2.0                 1\n",
       "Length: 214, dtype: int64"
      ]
     },
     "execution_count": 69,
     "metadata": {},
     "output_type": "execute_result"
    }
   ],
   "source": [
    "# Which home team hit most of the goal while playing with other teams\n",
    "df1[['Home Team Name','Away Team Goals']].value_counts()"
   ]
  },
  {
   "cell_type": "code",
   "execution_count": 71,
   "metadata": {},
   "outputs": [
    {
     "data": {
      "application/vnd.plotly.v1+json": {
       "config": {
        "linkText": "Export to plot.ly",
        "plotlyServerURL": "https://plot.ly",
        "showLink": true
       },
       "data": [
        {
         "line": {
          "color": "rgba(255, 153, 51, 1.0)",
          "dash": "solid",
          "shape": "linear",
          "width": 1.3
         },
         "mode": "lines",
         "name": "None",
         "text": "",
         "type": "scatter",
         "x": [
          "(Brazil,0.0)",
          "(Brazil,1.0)",
          "(Italy,1.0)",
          "(England,0.0)",
          "(Argentina,0.0)",
          "(Argentina,1.0)",
          "(Italy,0.0)",
          "(Germany FR,0.0)",
          "(Netherlands,0.0)",
          "(France,1.0)",
          "(Germany FR,1.0)",
          "(Germany,0.0)",
          "(Spain,1.0)",
          "(Netherlands,1.0)",
          "(Uruguay,0.0)",
          "(Spain,0.0)",
          "(Sweden,1.0)",
          "(Yugoslavia,0.0)",
          "(Sweden,0.0)",
          "(Brazil,2.0)",
          "(Soviet Union,0.0)",
          "(France,0.0)",
          "(Germany FR,2.0)",
          "(Germany,2.0)",
          "(Mexico,1.0)",
          "(Germany,1.0)",
          "(Uruguay,1.0)",
          "(Belgium,1.0)",
          "(Portugal,0.0)",
          "(Portugal,1.0)",
          "(Sweden,2.0)",
          "(Chile,1.0)",
          "(Hungary,1.0)",
          "(Korea Republic,1.0)",
          "(Austria,1.0)",
          "(Belgium,0.0)",
          "(Czechoslovakia,1.0)",
          "(Uruguay,2.0)",
          "(Poland,1.0)",
          "(Poland,0.0)",
          "(Mexico,0.0)",
          "(England,1.0)",
          "(Hungary,0.0)",
          "(Paraguay,0.0)",
          "(Switzerland,1.0)",
          "(France,2.0)",
          "(Romania,1.0)",
          "(USA,1.0)",
          "(England,2.0)",
          "(Yugoslavia,1.0)",
          "(Chile,0.0)",
          "(Italy,2.0)",
          "(Korea Republic,3.0)",
          "(Argentina,2.0)",
          "(Scotland,1.0)",
          "(Japan,0.0)",
          "(Cameroon,2.0)",
          "(Soviet Union,1.0)",
          "(Belgium,2.0)",
          "(USA,2.0)",
          "(Poland,2.0)",
          "(Bulgaria,1.0)",
          "(USA,0.0)",
          "(Colombia,0.0)",
          "(Nigeria,0.0)",
          "(Netherlands,2.0)",
          "(Hungary,2.0)",
          "(Honduras,1.0)",
          "(Paraguay,2.0)",
          "(Ghana,1.0)",
          "(Algeria,1.0)",
          "(Switzerland,2.0)",
          "(Austria,0.0)",
          "(Cameroon,4.0)",
          "(Saudi Arabia,1.0)",
          "(Switzerland,0.0)",
          "(Brazil,3.0)",
          "(Costa Rica,1.0)",
          "(Uruguay,3.0)",
          "(Spain,2.0)",
          "(Austria,2.0)",
          "(Soviet Union,2.0)",
          "(Korea Republic,0.0)",
          "(Czechoslovakia,0.0)",
          "(Australia,3.0)",
          "(Argentina,3.0)",
          "(rn\">Republic of Ireland,0.0)",
          "(Ecuador,0.0)",
          "(Cameroon,1.0)",
          "(Nigeria,3.0)",
          "(Yugoslavia,2.0)",
          "(Morocco,2.0)",
          "(Turkey,0.0)",
          "(Tunisia,2.0)",
          "(Nigeria,2.0)",
          "(rn\">Republic of Ireland,1.0)",
          "(Russia,1.0)",
          "(Northern Ireland,0.0)",
          "(Tunisia,1.0)",
          "(Togo,2.0)",
          "(Peru,0.0)",
          "(Peru,1.0)",
          "(Spain,3.0)",
          "(Soviet Union,4.0)",
          "(South Africa,3.0)",
          "(Slovakia,2.0)",
          "(Scotland,2.0)",
          "(Scotland,0.0)",
          "(Saudi Arabia,3.0)",
          "(Portugal,3.0)",
          "(Romania,2.0)",
          "(South Africa,1.0)",
          "(Japan,2.0)",
          "(Czech Republic,2.0)",
          "(Australia,1.0)",
          "(Greece,2.0)",
          "(Chile,2.0)",
          "(German DR,0.0)",
          "(France,3.0)",
          "(Hungary,3.0)",
          "(Costa Rica,0.0)",
          "(Brazil,7.0)",
          "(Denmark,3.0)",
          "(Denmark,1.0)",
          "(Denmark,0.0)",
          "(Greece,1.0)",
          "(Japan,1.0)",
          "(Algeria,2.0)",
          "(Japan,4.0)",
          "(Croatia,3.0)",
          "(Cuba,1.0)",
          "(South Africa,2.0)",
          "(Cuba,3.0)",
          "(Colombia,1.0)",
          "(Colombia,2.0)",
          "(Colombia,3.0)",
          "(Ctedivore,1.0)",
          "(Ctedivore,2.0)",
          "(Ctedivore,0.0)",
          "(Costa Rica,2.0)",
          "(Spain,5.0)",
          "(Costa Rica,5.0)",
          "(Croatia,1.0)",
          "(China PR,2.0)",
          "(Croatia,2.0)",
          "(Korea DPR,3.0)",
          "(Switzerland,5.0)",
          "(Bolivia,3.0)",
          "(rn\">Serbia and Montenegro,1.0)",
          "(Algeria,3.0)",
          "(Angola,1.0)",
          "(Zaire,3.0)",
          "(Zaire,2.0)",
          "(Argentina,4.0)",
          "(Australia,0.0)",
          "(Wales,1.0)",
          "(Austria,5.0)",
          "(Bosnia and Herzegovina,1.0)",
          "(South Africa,0.0)",
          "(Brazil,5.0)",
          "(Ukraine,0.0)",
          "(USA,5.0)",
          "(USA,3.0)",
          "(Bulgaria,0.0)",
          "(Bulgaria,2.0)",
          "(Bulgaria,4.0)",
          "(Cameroon,0.0)",
          "(Canada,1.0)",
          "(Trinidad and Tobago,0.0)",
          "(Senegal,3.0)",
          "(Slovenia,3.0)",
          "(Slovenia,2.0)",
          "(Paraguay,1.0)",
          "(Norway,0.0)",
          "(Northern Ireland,3.0)",
          "(Northern Ireland,2.0)",
          "(Northern Ireland,1.0)",
          "(IR Iran,0.0)",
          "(Nigeria,4.0)",
          "(Iran,1.0)",
          "(Iraq,1.0)",
          "(Iraq,2.0)",
          "(New Zealand,1.0)",
          "(Netherlands,3.0)",
          "(Italy,3.0)",
          "(Jamaica,3.0)",
          "(Morocco,1.0)",
          "(Morocco,0.0)",
          "(Mexico,2.0)",
          "(Korea DPR,0.0)",
          "(Korea Republic,4.0)",
          "(Honduras,3.0)",
          "(Paraguay,3.0)",
          "(Honduras,2.0)",
          "(Ecuador,3.0)",
          "(Slovenia,1.0)",
          "(Czechoslovakia,2.0)",
          "(Serbia,1.0)",
          "(Korea DPR,1.0)",
          "(Senegal,1.0)",
          "(Scotland,3.0)",
          "(Saudi Arabia,4.0)",
          "(Denmark,5.0)",
          "(England,4.0)",
          "(Haiti,7.0)",
          "(Russia,0.0)",
          "(Romania,4.0)",
          "(Romania,0.0)",
          "(German DR,2.0)",
          "(Germany,3.0)",
          "(Germany FR,3.0)",
          "(Ghana,2.0)",
          "(Peru,2.0)",
          "(rn\">United Arab Emirates,2.0)"
         ],
         "y": [
          35,
          32,
          28,
          23,
          23,
          23,
          23,
          18,
          16,
          15,
          15,
          13,
          13,
          12,
          11,
          11,
          11,
          10,
          9,
          9,
          9,
          9,
          9,
          9,
          9,
          9,
          8,
          8,
          7,
          7,
          7,
          7,
          7,
          6,
          6,
          6,
          6,
          6,
          6,
          6,
          6,
          6,
          6,
          6,
          5,
          5,
          5,
          5,
          5,
          5,
          5,
          5,
          4,
          4,
          4,
          4,
          4,
          4,
          4,
          4,
          4,
          4,
          4,
          4,
          4,
          3,
          3,
          3,
          3,
          3,
          3,
          3,
          3,
          3,
          3,
          3,
          3,
          3,
          3,
          3,
          3,
          3,
          3,
          3,
          3,
          3,
          3,
          3,
          3,
          2,
          2,
          2,
          2,
          2,
          2,
          2,
          2,
          2,
          2,
          2,
          2,
          2,
          2,
          2,
          2,
          2,
          2,
          2,
          2,
          2,
          2,
          2,
          2,
          2,
          2,
          2,
          2,
          2,
          2,
          2,
          2,
          2,
          2,
          2,
          2,
          2,
          2,
          2,
          2,
          1,
          1,
          1,
          1,
          1,
          1,
          1,
          1,
          1,
          1,
          1,
          1,
          1,
          1,
          1,
          1,
          1,
          1,
          1,
          1,
          1,
          1,
          1,
          1,
          1,
          1,
          1,
          1,
          1,
          1,
          1,
          1,
          1,
          1,
          1,
          1,
          1,
          1,
          1,
          1,
          1,
          1,
          1,
          1,
          1,
          1,
          1,
          1,
          1,
          1,
          1,
          1,
          1,
          1,
          1,
          1,
          1,
          1,
          1,
          1,
          1,
          1,
          1,
          1,
          1,
          1,
          1,
          1,
          1,
          1,
          1,
          1,
          1,
          1,
          1,
          1,
          1,
          1,
          1,
          1,
          1,
          1,
          1,
          1,
          1
         ]
        }
       ],
       "layout": {
        "legend": {
         "bgcolor": "#F5F6F9",
         "font": {
          "color": "#4D5663"
         }
        },
        "paper_bgcolor": "#F5F6F9",
        "plot_bgcolor": "#F5F6F9",
        "template": {
         "data": {
          "bar": [
           {
            "error_x": {
             "color": "#2a3f5f"
            },
            "error_y": {
             "color": "#2a3f5f"
            },
            "marker": {
             "line": {
              "color": "#E5ECF6",
              "width": 0.5
             },
             "pattern": {
              "fillmode": "overlay",
              "size": 10,
              "solidity": 0.2
             }
            },
            "type": "bar"
           }
          ],
          "barpolar": [
           {
            "marker": {
             "line": {
              "color": "#E5ECF6",
              "width": 0.5
             },
             "pattern": {
              "fillmode": "overlay",
              "size": 10,
              "solidity": 0.2
             }
            },
            "type": "barpolar"
           }
          ],
          "carpet": [
           {
            "aaxis": {
             "endlinecolor": "#2a3f5f",
             "gridcolor": "white",
             "linecolor": "white",
             "minorgridcolor": "white",
             "startlinecolor": "#2a3f5f"
            },
            "baxis": {
             "endlinecolor": "#2a3f5f",
             "gridcolor": "white",
             "linecolor": "white",
             "minorgridcolor": "white",
             "startlinecolor": "#2a3f5f"
            },
            "type": "carpet"
           }
          ],
          "choropleth": [
           {
            "colorbar": {
             "outlinewidth": 0,
             "ticks": ""
            },
            "type": "choropleth"
           }
          ],
          "contour": [
           {
            "colorbar": {
             "outlinewidth": 0,
             "ticks": ""
            },
            "colorscale": [
             [
              0,
              "#0d0887"
             ],
             [
              0.1111111111111111,
              "#46039f"
             ],
             [
              0.2222222222222222,
              "#7201a8"
             ],
             [
              0.3333333333333333,
              "#9c179e"
             ],
             [
              0.4444444444444444,
              "#bd3786"
             ],
             [
              0.5555555555555556,
              "#d8576b"
             ],
             [
              0.6666666666666666,
              "#ed7953"
             ],
             [
              0.7777777777777778,
              "#fb9f3a"
             ],
             [
              0.8888888888888888,
              "#fdca26"
             ],
             [
              1,
              "#f0f921"
             ]
            ],
            "type": "contour"
           }
          ],
          "contourcarpet": [
           {
            "colorbar": {
             "outlinewidth": 0,
             "ticks": ""
            },
            "type": "contourcarpet"
           }
          ],
          "heatmap": [
           {
            "colorbar": {
             "outlinewidth": 0,
             "ticks": ""
            },
            "colorscale": [
             [
              0,
              "#0d0887"
             ],
             [
              0.1111111111111111,
              "#46039f"
             ],
             [
              0.2222222222222222,
              "#7201a8"
             ],
             [
              0.3333333333333333,
              "#9c179e"
             ],
             [
              0.4444444444444444,
              "#bd3786"
             ],
             [
              0.5555555555555556,
              "#d8576b"
             ],
             [
              0.6666666666666666,
              "#ed7953"
             ],
             [
              0.7777777777777778,
              "#fb9f3a"
             ],
             [
              0.8888888888888888,
              "#fdca26"
             ],
             [
              1,
              "#f0f921"
             ]
            ],
            "type": "heatmap"
           }
          ],
          "heatmapgl": [
           {
            "colorbar": {
             "outlinewidth": 0,
             "ticks": ""
            },
            "colorscale": [
             [
              0,
              "#0d0887"
             ],
             [
              0.1111111111111111,
              "#46039f"
             ],
             [
              0.2222222222222222,
              "#7201a8"
             ],
             [
              0.3333333333333333,
              "#9c179e"
             ],
             [
              0.4444444444444444,
              "#bd3786"
             ],
             [
              0.5555555555555556,
              "#d8576b"
             ],
             [
              0.6666666666666666,
              "#ed7953"
             ],
             [
              0.7777777777777778,
              "#fb9f3a"
             ],
             [
              0.8888888888888888,
              "#fdca26"
             ],
             [
              1,
              "#f0f921"
             ]
            ],
            "type": "heatmapgl"
           }
          ],
          "histogram": [
           {
            "marker": {
             "pattern": {
              "fillmode": "overlay",
              "size": 10,
              "solidity": 0.2
             }
            },
            "type": "histogram"
           }
          ],
          "histogram2d": [
           {
            "colorbar": {
             "outlinewidth": 0,
             "ticks": ""
            },
            "colorscale": [
             [
              0,
              "#0d0887"
             ],
             [
              0.1111111111111111,
              "#46039f"
             ],
             [
              0.2222222222222222,
              "#7201a8"
             ],
             [
              0.3333333333333333,
              "#9c179e"
             ],
             [
              0.4444444444444444,
              "#bd3786"
             ],
             [
              0.5555555555555556,
              "#d8576b"
             ],
             [
              0.6666666666666666,
              "#ed7953"
             ],
             [
              0.7777777777777778,
              "#fb9f3a"
             ],
             [
              0.8888888888888888,
              "#fdca26"
             ],
             [
              1,
              "#f0f921"
             ]
            ],
            "type": "histogram2d"
           }
          ],
          "histogram2dcontour": [
           {
            "colorbar": {
             "outlinewidth": 0,
             "ticks": ""
            },
            "colorscale": [
             [
              0,
              "#0d0887"
             ],
             [
              0.1111111111111111,
              "#46039f"
             ],
             [
              0.2222222222222222,
              "#7201a8"
             ],
             [
              0.3333333333333333,
              "#9c179e"
             ],
             [
              0.4444444444444444,
              "#bd3786"
             ],
             [
              0.5555555555555556,
              "#d8576b"
             ],
             [
              0.6666666666666666,
              "#ed7953"
             ],
             [
              0.7777777777777778,
              "#fb9f3a"
             ],
             [
              0.8888888888888888,
              "#fdca26"
             ],
             [
              1,
              "#f0f921"
             ]
            ],
            "type": "histogram2dcontour"
           }
          ],
          "mesh3d": [
           {
            "colorbar": {
             "outlinewidth": 0,
             "ticks": ""
            },
            "type": "mesh3d"
           }
          ],
          "parcoords": [
           {
            "line": {
             "colorbar": {
              "outlinewidth": 0,
              "ticks": ""
             }
            },
            "type": "parcoords"
           }
          ],
          "pie": [
           {
            "automargin": true,
            "type": "pie"
           }
          ],
          "scatter": [
           {
            "fillpattern": {
             "fillmode": "overlay",
             "size": 10,
             "solidity": 0.2
            },
            "type": "scatter"
           }
          ],
          "scatter3d": [
           {
            "line": {
             "colorbar": {
              "outlinewidth": 0,
              "ticks": ""
             }
            },
            "marker": {
             "colorbar": {
              "outlinewidth": 0,
              "ticks": ""
             }
            },
            "type": "scatter3d"
           }
          ],
          "scattercarpet": [
           {
            "marker": {
             "colorbar": {
              "outlinewidth": 0,
              "ticks": ""
             }
            },
            "type": "scattercarpet"
           }
          ],
          "scattergeo": [
           {
            "marker": {
             "colorbar": {
              "outlinewidth": 0,
              "ticks": ""
             }
            },
            "type": "scattergeo"
           }
          ],
          "scattergl": [
           {
            "marker": {
             "colorbar": {
              "outlinewidth": 0,
              "ticks": ""
             }
            },
            "type": "scattergl"
           }
          ],
          "scattermapbox": [
           {
            "marker": {
             "colorbar": {
              "outlinewidth": 0,
              "ticks": ""
             }
            },
            "type": "scattermapbox"
           }
          ],
          "scatterpolar": [
           {
            "marker": {
             "colorbar": {
              "outlinewidth": 0,
              "ticks": ""
             }
            },
            "type": "scatterpolar"
           }
          ],
          "scatterpolargl": [
           {
            "marker": {
             "colorbar": {
              "outlinewidth": 0,
              "ticks": ""
             }
            },
            "type": "scatterpolargl"
           }
          ],
          "scatterternary": [
           {
            "marker": {
             "colorbar": {
              "outlinewidth": 0,
              "ticks": ""
             }
            },
            "type": "scatterternary"
           }
          ],
          "surface": [
           {
            "colorbar": {
             "outlinewidth": 0,
             "ticks": ""
            },
            "colorscale": [
             [
              0,
              "#0d0887"
             ],
             [
              0.1111111111111111,
              "#46039f"
             ],
             [
              0.2222222222222222,
              "#7201a8"
             ],
             [
              0.3333333333333333,
              "#9c179e"
             ],
             [
              0.4444444444444444,
              "#bd3786"
             ],
             [
              0.5555555555555556,
              "#d8576b"
             ],
             [
              0.6666666666666666,
              "#ed7953"
             ],
             [
              0.7777777777777778,
              "#fb9f3a"
             ],
             [
              0.8888888888888888,
              "#fdca26"
             ],
             [
              1,
              "#f0f921"
             ]
            ],
            "type": "surface"
           }
          ],
          "table": [
           {
            "cells": {
             "fill": {
              "color": "#EBF0F8"
             },
             "line": {
              "color": "white"
             }
            },
            "header": {
             "fill": {
              "color": "#C8D4E3"
             },
             "line": {
              "color": "white"
             }
            },
            "type": "table"
           }
          ]
         },
         "layout": {
          "annotationdefaults": {
           "arrowcolor": "#2a3f5f",
           "arrowhead": 0,
           "arrowwidth": 1
          },
          "autotypenumbers": "strict",
          "coloraxis": {
           "colorbar": {
            "outlinewidth": 0,
            "ticks": ""
           }
          },
          "colorscale": {
           "diverging": [
            [
             0,
             "#8e0152"
            ],
            [
             0.1,
             "#c51b7d"
            ],
            [
             0.2,
             "#de77ae"
            ],
            [
             0.3,
             "#f1b6da"
            ],
            [
             0.4,
             "#fde0ef"
            ],
            [
             0.5,
             "#f7f7f7"
            ],
            [
             0.6,
             "#e6f5d0"
            ],
            [
             0.7,
             "#b8e186"
            ],
            [
             0.8,
             "#7fbc41"
            ],
            [
             0.9,
             "#4d9221"
            ],
            [
             1,
             "#276419"
            ]
           ],
           "sequential": [
            [
             0,
             "#0d0887"
            ],
            [
             0.1111111111111111,
             "#46039f"
            ],
            [
             0.2222222222222222,
             "#7201a8"
            ],
            [
             0.3333333333333333,
             "#9c179e"
            ],
            [
             0.4444444444444444,
             "#bd3786"
            ],
            [
             0.5555555555555556,
             "#d8576b"
            ],
            [
             0.6666666666666666,
             "#ed7953"
            ],
            [
             0.7777777777777778,
             "#fb9f3a"
            ],
            [
             0.8888888888888888,
             "#fdca26"
            ],
            [
             1,
             "#f0f921"
            ]
           ],
           "sequentialminus": [
            [
             0,
             "#0d0887"
            ],
            [
             0.1111111111111111,
             "#46039f"
            ],
            [
             0.2222222222222222,
             "#7201a8"
            ],
            [
             0.3333333333333333,
             "#9c179e"
            ],
            [
             0.4444444444444444,
             "#bd3786"
            ],
            [
             0.5555555555555556,
             "#d8576b"
            ],
            [
             0.6666666666666666,
             "#ed7953"
            ],
            [
             0.7777777777777778,
             "#fb9f3a"
            ],
            [
             0.8888888888888888,
             "#fdca26"
            ],
            [
             1,
             "#f0f921"
            ]
           ]
          },
          "colorway": [
           "#636efa",
           "#EF553B",
           "#00cc96",
           "#ab63fa",
           "#FFA15A",
           "#19d3f3",
           "#FF6692",
           "#B6E880",
           "#FF97FF",
           "#FECB52"
          ],
          "font": {
           "color": "#2a3f5f"
          },
          "geo": {
           "bgcolor": "white",
           "lakecolor": "white",
           "landcolor": "#E5ECF6",
           "showlakes": true,
           "showland": true,
           "subunitcolor": "white"
          },
          "hoverlabel": {
           "align": "left"
          },
          "hovermode": "closest",
          "mapbox": {
           "style": "light"
          },
          "paper_bgcolor": "white",
          "plot_bgcolor": "#E5ECF6",
          "polar": {
           "angularaxis": {
            "gridcolor": "white",
            "linecolor": "white",
            "ticks": ""
           },
           "bgcolor": "#E5ECF6",
           "radialaxis": {
            "gridcolor": "white",
            "linecolor": "white",
            "ticks": ""
           }
          },
          "scene": {
           "xaxis": {
            "backgroundcolor": "#E5ECF6",
            "gridcolor": "white",
            "gridwidth": 2,
            "linecolor": "white",
            "showbackground": true,
            "ticks": "",
            "zerolinecolor": "white"
           },
           "yaxis": {
            "backgroundcolor": "#E5ECF6",
            "gridcolor": "white",
            "gridwidth": 2,
            "linecolor": "white",
            "showbackground": true,
            "ticks": "",
            "zerolinecolor": "white"
           },
           "zaxis": {
            "backgroundcolor": "#E5ECF6",
            "gridcolor": "white",
            "gridwidth": 2,
            "linecolor": "white",
            "showbackground": true,
            "ticks": "",
            "zerolinecolor": "white"
           }
          },
          "shapedefaults": {
           "line": {
            "color": "#2a3f5f"
           }
          },
          "ternary": {
           "aaxis": {
            "gridcolor": "white",
            "linecolor": "white",
            "ticks": ""
           },
           "baxis": {
            "gridcolor": "white",
            "linecolor": "white",
            "ticks": ""
           },
           "bgcolor": "#E5ECF6",
           "caxis": {
            "gridcolor": "white",
            "linecolor": "white",
            "ticks": ""
           }
          },
          "title": {
           "x": 0.05
          },
          "xaxis": {
           "automargin": true,
           "gridcolor": "white",
           "linecolor": "white",
           "ticks": "",
           "title": {
            "standoff": 15
           },
           "zerolinecolor": "white",
           "zerolinewidth": 2
          },
          "yaxis": {
           "automargin": true,
           "gridcolor": "white",
           "linecolor": "white",
           "ticks": "",
           "title": {
            "standoff": 15
           },
           "zerolinecolor": "white",
           "zerolinewidth": 2
          }
         }
        },
        "title": {
         "font": {
          "color": "#4D5663"
         },
         "text": "Most goal with other team"
        },
        "xaxis": {
         "gridcolor": "#E1E5ED",
         "showgrid": true,
         "tickfont": {
          "color": "#4D5663"
         },
         "title": {
          "font": {
           "color": "#4D5663"
          },
          "text": ""
         },
         "zerolinecolor": "#E1E5ED"
        },
        "yaxis": {
         "gridcolor": "#E1E5ED",
         "showgrid": true,
         "tickfont": {
          "color": "#4D5663"
         },
         "title": {
          "font": {
           "color": "#4D5663"
          },
          "text": ""
         },
         "zerolinecolor": "#E1E5ED"
        }
       }
      },
      "text/html": [
       "<div>                            <div id=\"23029cba-5fcf-49be-87dc-4a33e56eeb54\" class=\"plotly-graph-div\" style=\"height:525px; width:100%;\"></div>            <script type=\"text/javascript\">                require([\"plotly\"], function(Plotly) {                    window.PLOTLYENV=window.PLOTLYENV || {};\n",
       "                    window.PLOTLYENV.BASE_URL='https://plot.ly';                                    if (document.getElementById(\"23029cba-5fcf-49be-87dc-4a33e56eeb54\")) {                    Plotly.newPlot(                        \"23029cba-5fcf-49be-87dc-4a33e56eeb54\",                        [{\"line\":{\"color\":\"rgba(255, 153, 51, 1.0)\",\"dash\":\"solid\",\"shape\":\"linear\",\"width\":1.3},\"mode\":\"lines\",\"name\":\"None\",\"text\":\"\",\"x\":[\"(Brazil,0.0)\",\"(Brazil,1.0)\",\"(Italy,1.0)\",\"(England,0.0)\",\"(Argentina,0.0)\",\"(Argentina,1.0)\",\"(Italy,0.0)\",\"(Germany FR,0.0)\",\"(Netherlands,0.0)\",\"(France,1.0)\",\"(Germany FR,1.0)\",\"(Germany,0.0)\",\"(Spain,1.0)\",\"(Netherlands,1.0)\",\"(Uruguay,0.0)\",\"(Spain,0.0)\",\"(Sweden,1.0)\",\"(Yugoslavia,0.0)\",\"(Sweden,0.0)\",\"(Brazil,2.0)\",\"(Soviet Union,0.0)\",\"(France,0.0)\",\"(Germany FR,2.0)\",\"(Germany,2.0)\",\"(Mexico,1.0)\",\"(Germany,1.0)\",\"(Uruguay,1.0)\",\"(Belgium,1.0)\",\"(Portugal,0.0)\",\"(Portugal,1.0)\",\"(Sweden,2.0)\",\"(Chile,1.0)\",\"(Hungary,1.0)\",\"(Korea Republic,1.0)\",\"(Austria,1.0)\",\"(Belgium,0.0)\",\"(Czechoslovakia,1.0)\",\"(Uruguay,2.0)\",\"(Poland,1.0)\",\"(Poland,0.0)\",\"(Mexico,0.0)\",\"(England,1.0)\",\"(Hungary,0.0)\",\"(Paraguay,0.0)\",\"(Switzerland,1.0)\",\"(France,2.0)\",\"(Romania,1.0)\",\"(USA,1.0)\",\"(England,2.0)\",\"(Yugoslavia,1.0)\",\"(Chile,0.0)\",\"(Italy,2.0)\",\"(Korea Republic,3.0)\",\"(Argentina,2.0)\",\"(Scotland,1.0)\",\"(Japan,0.0)\",\"(Cameroon,2.0)\",\"(Soviet Union,1.0)\",\"(Belgium,2.0)\",\"(USA,2.0)\",\"(Poland,2.0)\",\"(Bulgaria,1.0)\",\"(USA,0.0)\",\"(Colombia,0.0)\",\"(Nigeria,0.0)\",\"(Netherlands,2.0)\",\"(Hungary,2.0)\",\"(Honduras,1.0)\",\"(Paraguay,2.0)\",\"(Ghana,1.0)\",\"(Algeria,1.0)\",\"(Switzerland,2.0)\",\"(Austria,0.0)\",\"(Cameroon,4.0)\",\"(Saudi Arabia,1.0)\",\"(Switzerland,0.0)\",\"(Brazil,3.0)\",\"(Costa Rica,1.0)\",\"(Uruguay,3.0)\",\"(Spain,2.0)\",\"(Austria,2.0)\",\"(Soviet Union,2.0)\",\"(Korea Republic,0.0)\",\"(Czechoslovakia,0.0)\",\"(Australia,3.0)\",\"(Argentina,3.0)\",\"(rn\\\">Republic of Ireland,0.0)\",\"(Ecuador,0.0)\",\"(Cameroon,1.0)\",\"(Nigeria,3.0)\",\"(Yugoslavia,2.0)\",\"(Morocco,2.0)\",\"(Turkey,0.0)\",\"(Tunisia,2.0)\",\"(Nigeria,2.0)\",\"(rn\\\">Republic of Ireland,1.0)\",\"(Russia,1.0)\",\"(Northern Ireland,0.0)\",\"(Tunisia,1.0)\",\"(Togo,2.0)\",\"(Peru,0.0)\",\"(Peru,1.0)\",\"(Spain,3.0)\",\"(Soviet Union,4.0)\",\"(South Africa,3.0)\",\"(Slovakia,2.0)\",\"(Scotland,2.0)\",\"(Scotland,0.0)\",\"(Saudi Arabia,3.0)\",\"(Portugal,3.0)\",\"(Romania,2.0)\",\"(South Africa,1.0)\",\"(Japan,2.0)\",\"(Czech Republic,2.0)\",\"(Australia,1.0)\",\"(Greece,2.0)\",\"(Chile,2.0)\",\"(German DR,0.0)\",\"(France,3.0)\",\"(Hungary,3.0)\",\"(Costa Rica,0.0)\",\"(Brazil,7.0)\",\"(Denmark,3.0)\",\"(Denmark,1.0)\",\"(Denmark,0.0)\",\"(Greece,1.0)\",\"(Japan,1.0)\",\"(Algeria,2.0)\",\"(Japan,4.0)\",\"(Croatia,3.0)\",\"(Cuba,1.0)\",\"(South Africa,2.0)\",\"(Cuba,3.0)\",\"(Colombia,1.0)\",\"(Colombia,2.0)\",\"(Colombia,3.0)\",\"(Ctedivore,1.0)\",\"(Ctedivore,2.0)\",\"(Ctedivore,0.0)\",\"(Costa Rica,2.0)\",\"(Spain,5.0)\",\"(Costa Rica,5.0)\",\"(Croatia,1.0)\",\"(China PR,2.0)\",\"(Croatia,2.0)\",\"(Korea DPR,3.0)\",\"(Switzerland,5.0)\",\"(Bolivia,3.0)\",\"(rn\\\">Serbia and Montenegro,1.0)\",\"(Algeria,3.0)\",\"(Angola,1.0)\",\"(Zaire,3.0)\",\"(Zaire,2.0)\",\"(Argentina,4.0)\",\"(Australia,0.0)\",\"(Wales,1.0)\",\"(Austria,5.0)\",\"(Bosnia and Herzegovina,1.0)\",\"(South Africa,0.0)\",\"(Brazil,5.0)\",\"(Ukraine,0.0)\",\"(USA,5.0)\",\"(USA,3.0)\",\"(Bulgaria,0.0)\",\"(Bulgaria,2.0)\",\"(Bulgaria,4.0)\",\"(Cameroon,0.0)\",\"(Canada,1.0)\",\"(Trinidad and Tobago,0.0)\",\"(Senegal,3.0)\",\"(Slovenia,3.0)\",\"(Slovenia,2.0)\",\"(Paraguay,1.0)\",\"(Norway,0.0)\",\"(Northern Ireland,3.0)\",\"(Northern Ireland,2.0)\",\"(Northern Ireland,1.0)\",\"(IR Iran,0.0)\",\"(Nigeria,4.0)\",\"(Iran,1.0)\",\"(Iraq,1.0)\",\"(Iraq,2.0)\",\"(New Zealand,1.0)\",\"(Netherlands,3.0)\",\"(Italy,3.0)\",\"(Jamaica,3.0)\",\"(Morocco,1.0)\",\"(Morocco,0.0)\",\"(Mexico,2.0)\",\"(Korea DPR,0.0)\",\"(Korea Republic,4.0)\",\"(Honduras,3.0)\",\"(Paraguay,3.0)\",\"(Honduras,2.0)\",\"(Ecuador,3.0)\",\"(Slovenia,1.0)\",\"(Czechoslovakia,2.0)\",\"(Serbia,1.0)\",\"(Korea DPR,1.0)\",\"(Senegal,1.0)\",\"(Scotland,3.0)\",\"(Saudi Arabia,4.0)\",\"(Denmark,5.0)\",\"(England,4.0)\",\"(Haiti,7.0)\",\"(Russia,0.0)\",\"(Romania,4.0)\",\"(Romania,0.0)\",\"(German DR,2.0)\",\"(Germany,3.0)\",\"(Germany FR,3.0)\",\"(Ghana,2.0)\",\"(Peru,2.0)\",\"(rn\\\">United Arab Emirates,2.0)\"],\"y\":[35,32,28,23,23,23,23,18,16,15,15,13,13,12,11,11,11,10,9,9,9,9,9,9,9,9,8,8,7,7,7,7,7,6,6,6,6,6,6,6,6,6,6,6,5,5,5,5,5,5,5,5,4,4,4,4,4,4,4,4,4,4,4,4,4,3,3,3,3,3,3,3,3,3,3,3,3,3,3,3,3,3,3,3,3,3,3,3,3,2,2,2,2,2,2,2,2,2,2,2,2,2,2,2,2,2,2,2,2,2,2,2,2,2,2,2,2,2,2,2,2,2,2,2,2,2,2,2,2,1,1,1,1,1,1,1,1,1,1,1,1,1,1,1,1,1,1,1,1,1,1,1,1,1,1,1,1,1,1,1,1,1,1,1,1,1,1,1,1,1,1,1,1,1,1,1,1,1,1,1,1,1,1,1,1,1,1,1,1,1,1,1,1,1,1,1,1,1,1,1,1,1,1,1,1,1,1,1,1,1,1,1,1,1],\"type\":\"scatter\"}],                        {\"legend\":{\"bgcolor\":\"#F5F6F9\",\"font\":{\"color\":\"#4D5663\"}},\"paper_bgcolor\":\"#F5F6F9\",\"plot_bgcolor\":\"#F5F6F9\",\"template\":{\"data\":{\"barpolar\":[{\"marker\":{\"line\":{\"color\":\"#E5ECF6\",\"width\":0.5},\"pattern\":{\"fillmode\":\"overlay\",\"size\":10,\"solidity\":0.2}},\"type\":\"barpolar\"}],\"bar\":[{\"error_x\":{\"color\":\"#2a3f5f\"},\"error_y\":{\"color\":\"#2a3f5f\"},\"marker\":{\"line\":{\"color\":\"#E5ECF6\",\"width\":0.5},\"pattern\":{\"fillmode\":\"overlay\",\"size\":10,\"solidity\":0.2}},\"type\":\"bar\"}],\"carpet\":[{\"aaxis\":{\"endlinecolor\":\"#2a3f5f\",\"gridcolor\":\"white\",\"linecolor\":\"white\",\"minorgridcolor\":\"white\",\"startlinecolor\":\"#2a3f5f\"},\"baxis\":{\"endlinecolor\":\"#2a3f5f\",\"gridcolor\":\"white\",\"linecolor\":\"white\",\"minorgridcolor\":\"white\",\"startlinecolor\":\"#2a3f5f\"},\"type\":\"carpet\"}],\"choropleth\":[{\"colorbar\":{\"outlinewidth\":0,\"ticks\":\"\"},\"type\":\"choropleth\"}],\"contourcarpet\":[{\"colorbar\":{\"outlinewidth\":0,\"ticks\":\"\"},\"type\":\"contourcarpet\"}],\"contour\":[{\"colorbar\":{\"outlinewidth\":0,\"ticks\":\"\"},\"colorscale\":[[0.0,\"#0d0887\"],[0.1111111111111111,\"#46039f\"],[0.2222222222222222,\"#7201a8\"],[0.3333333333333333,\"#9c179e\"],[0.4444444444444444,\"#bd3786\"],[0.5555555555555556,\"#d8576b\"],[0.6666666666666666,\"#ed7953\"],[0.7777777777777778,\"#fb9f3a\"],[0.8888888888888888,\"#fdca26\"],[1.0,\"#f0f921\"]],\"type\":\"contour\"}],\"heatmapgl\":[{\"colorbar\":{\"outlinewidth\":0,\"ticks\":\"\"},\"colorscale\":[[0.0,\"#0d0887\"],[0.1111111111111111,\"#46039f\"],[0.2222222222222222,\"#7201a8\"],[0.3333333333333333,\"#9c179e\"],[0.4444444444444444,\"#bd3786\"],[0.5555555555555556,\"#d8576b\"],[0.6666666666666666,\"#ed7953\"],[0.7777777777777778,\"#fb9f3a\"],[0.8888888888888888,\"#fdca26\"],[1.0,\"#f0f921\"]],\"type\":\"heatmapgl\"}],\"heatmap\":[{\"colorbar\":{\"outlinewidth\":0,\"ticks\":\"\"},\"colorscale\":[[0.0,\"#0d0887\"],[0.1111111111111111,\"#46039f\"],[0.2222222222222222,\"#7201a8\"],[0.3333333333333333,\"#9c179e\"],[0.4444444444444444,\"#bd3786\"],[0.5555555555555556,\"#d8576b\"],[0.6666666666666666,\"#ed7953\"],[0.7777777777777778,\"#fb9f3a\"],[0.8888888888888888,\"#fdca26\"],[1.0,\"#f0f921\"]],\"type\":\"heatmap\"}],\"histogram2dcontour\":[{\"colorbar\":{\"outlinewidth\":0,\"ticks\":\"\"},\"colorscale\":[[0.0,\"#0d0887\"],[0.1111111111111111,\"#46039f\"],[0.2222222222222222,\"#7201a8\"],[0.3333333333333333,\"#9c179e\"],[0.4444444444444444,\"#bd3786\"],[0.5555555555555556,\"#d8576b\"],[0.6666666666666666,\"#ed7953\"],[0.7777777777777778,\"#fb9f3a\"],[0.8888888888888888,\"#fdca26\"],[1.0,\"#f0f921\"]],\"type\":\"histogram2dcontour\"}],\"histogram2d\":[{\"colorbar\":{\"outlinewidth\":0,\"ticks\":\"\"},\"colorscale\":[[0.0,\"#0d0887\"],[0.1111111111111111,\"#46039f\"],[0.2222222222222222,\"#7201a8\"],[0.3333333333333333,\"#9c179e\"],[0.4444444444444444,\"#bd3786\"],[0.5555555555555556,\"#d8576b\"],[0.6666666666666666,\"#ed7953\"],[0.7777777777777778,\"#fb9f3a\"],[0.8888888888888888,\"#fdca26\"],[1.0,\"#f0f921\"]],\"type\":\"histogram2d\"}],\"histogram\":[{\"marker\":{\"pattern\":{\"fillmode\":\"overlay\",\"size\":10,\"solidity\":0.2}},\"type\":\"histogram\"}],\"mesh3d\":[{\"colorbar\":{\"outlinewidth\":0,\"ticks\":\"\"},\"type\":\"mesh3d\"}],\"parcoords\":[{\"line\":{\"colorbar\":{\"outlinewidth\":0,\"ticks\":\"\"}},\"type\":\"parcoords\"}],\"pie\":[{\"automargin\":true,\"type\":\"pie\"}],\"scatter3d\":[{\"line\":{\"colorbar\":{\"outlinewidth\":0,\"ticks\":\"\"}},\"marker\":{\"colorbar\":{\"outlinewidth\":0,\"ticks\":\"\"}},\"type\":\"scatter3d\"}],\"scattercarpet\":[{\"marker\":{\"colorbar\":{\"outlinewidth\":0,\"ticks\":\"\"}},\"type\":\"scattercarpet\"}],\"scattergeo\":[{\"marker\":{\"colorbar\":{\"outlinewidth\":0,\"ticks\":\"\"}},\"type\":\"scattergeo\"}],\"scattergl\":[{\"marker\":{\"colorbar\":{\"outlinewidth\":0,\"ticks\":\"\"}},\"type\":\"scattergl\"}],\"scattermapbox\":[{\"marker\":{\"colorbar\":{\"outlinewidth\":0,\"ticks\":\"\"}},\"type\":\"scattermapbox\"}],\"scatterpolargl\":[{\"marker\":{\"colorbar\":{\"outlinewidth\":0,\"ticks\":\"\"}},\"type\":\"scatterpolargl\"}],\"scatterpolar\":[{\"marker\":{\"colorbar\":{\"outlinewidth\":0,\"ticks\":\"\"}},\"type\":\"scatterpolar\"}],\"scatter\":[{\"fillpattern\":{\"fillmode\":\"overlay\",\"size\":10,\"solidity\":0.2},\"type\":\"scatter\"}],\"scatterternary\":[{\"marker\":{\"colorbar\":{\"outlinewidth\":0,\"ticks\":\"\"}},\"type\":\"scatterternary\"}],\"surface\":[{\"colorbar\":{\"outlinewidth\":0,\"ticks\":\"\"},\"colorscale\":[[0.0,\"#0d0887\"],[0.1111111111111111,\"#46039f\"],[0.2222222222222222,\"#7201a8\"],[0.3333333333333333,\"#9c179e\"],[0.4444444444444444,\"#bd3786\"],[0.5555555555555556,\"#d8576b\"],[0.6666666666666666,\"#ed7953\"],[0.7777777777777778,\"#fb9f3a\"],[0.8888888888888888,\"#fdca26\"],[1.0,\"#f0f921\"]],\"type\":\"surface\"}],\"table\":[{\"cells\":{\"fill\":{\"color\":\"#EBF0F8\"},\"line\":{\"color\":\"white\"}},\"header\":{\"fill\":{\"color\":\"#C8D4E3\"},\"line\":{\"color\":\"white\"}},\"type\":\"table\"}]},\"layout\":{\"annotationdefaults\":{\"arrowcolor\":\"#2a3f5f\",\"arrowhead\":0,\"arrowwidth\":1},\"autotypenumbers\":\"strict\",\"coloraxis\":{\"colorbar\":{\"outlinewidth\":0,\"ticks\":\"\"}},\"colorscale\":{\"diverging\":[[0,\"#8e0152\"],[0.1,\"#c51b7d\"],[0.2,\"#de77ae\"],[0.3,\"#f1b6da\"],[0.4,\"#fde0ef\"],[0.5,\"#f7f7f7\"],[0.6,\"#e6f5d0\"],[0.7,\"#b8e186\"],[0.8,\"#7fbc41\"],[0.9,\"#4d9221\"],[1,\"#276419\"]],\"sequential\":[[0.0,\"#0d0887\"],[0.1111111111111111,\"#46039f\"],[0.2222222222222222,\"#7201a8\"],[0.3333333333333333,\"#9c179e\"],[0.4444444444444444,\"#bd3786\"],[0.5555555555555556,\"#d8576b\"],[0.6666666666666666,\"#ed7953\"],[0.7777777777777778,\"#fb9f3a\"],[0.8888888888888888,\"#fdca26\"],[1.0,\"#f0f921\"]],\"sequentialminus\":[[0.0,\"#0d0887\"],[0.1111111111111111,\"#46039f\"],[0.2222222222222222,\"#7201a8\"],[0.3333333333333333,\"#9c179e\"],[0.4444444444444444,\"#bd3786\"],[0.5555555555555556,\"#d8576b\"],[0.6666666666666666,\"#ed7953\"],[0.7777777777777778,\"#fb9f3a\"],[0.8888888888888888,\"#fdca26\"],[1.0,\"#f0f921\"]]},\"colorway\":[\"#636efa\",\"#EF553B\",\"#00cc96\",\"#ab63fa\",\"#FFA15A\",\"#19d3f3\",\"#FF6692\",\"#B6E880\",\"#FF97FF\",\"#FECB52\"],\"font\":{\"color\":\"#2a3f5f\"},\"geo\":{\"bgcolor\":\"white\",\"lakecolor\":\"white\",\"landcolor\":\"#E5ECF6\",\"showlakes\":true,\"showland\":true,\"subunitcolor\":\"white\"},\"hoverlabel\":{\"align\":\"left\"},\"hovermode\":\"closest\",\"mapbox\":{\"style\":\"light\"},\"paper_bgcolor\":\"white\",\"plot_bgcolor\":\"#E5ECF6\",\"polar\":{\"angularaxis\":{\"gridcolor\":\"white\",\"linecolor\":\"white\",\"ticks\":\"\"},\"bgcolor\":\"#E5ECF6\",\"radialaxis\":{\"gridcolor\":\"white\",\"linecolor\":\"white\",\"ticks\":\"\"}},\"scene\":{\"xaxis\":{\"backgroundcolor\":\"#E5ECF6\",\"gridcolor\":\"white\",\"gridwidth\":2,\"linecolor\":\"white\",\"showbackground\":true,\"ticks\":\"\",\"zerolinecolor\":\"white\"},\"yaxis\":{\"backgroundcolor\":\"#E5ECF6\",\"gridcolor\":\"white\",\"gridwidth\":2,\"linecolor\":\"white\",\"showbackground\":true,\"ticks\":\"\",\"zerolinecolor\":\"white\"},\"zaxis\":{\"backgroundcolor\":\"#E5ECF6\",\"gridcolor\":\"white\",\"gridwidth\":2,\"linecolor\":\"white\",\"showbackground\":true,\"ticks\":\"\",\"zerolinecolor\":\"white\"}},\"shapedefaults\":{\"line\":{\"color\":\"#2a3f5f\"}},\"ternary\":{\"aaxis\":{\"gridcolor\":\"white\",\"linecolor\":\"white\",\"ticks\":\"\"},\"baxis\":{\"gridcolor\":\"white\",\"linecolor\":\"white\",\"ticks\":\"\"},\"bgcolor\":\"#E5ECF6\",\"caxis\":{\"gridcolor\":\"white\",\"linecolor\":\"white\",\"ticks\":\"\"}},\"title\":{\"x\":0.05},\"xaxis\":{\"automargin\":true,\"gridcolor\":\"white\",\"linecolor\":\"white\",\"ticks\":\"\",\"title\":{\"standoff\":15},\"zerolinecolor\":\"white\",\"zerolinewidth\":2},\"yaxis\":{\"automargin\":true,\"gridcolor\":\"white\",\"linecolor\":\"white\",\"ticks\":\"\",\"title\":{\"standoff\":15},\"zerolinecolor\":\"white\",\"zerolinewidth\":2}}},\"title\":{\"font\":{\"color\":\"#4D5663\"},\"text\":\"Most goal with other team\"},\"xaxis\":{\"gridcolor\":\"#E1E5ED\",\"showgrid\":true,\"tickfont\":{\"color\":\"#4D5663\"},\"title\":{\"font\":{\"color\":\"#4D5663\"},\"text\":\"\"},\"zerolinecolor\":\"#E1E5ED\"},\"yaxis\":{\"gridcolor\":\"#E1E5ED\",\"showgrid\":true,\"tickfont\":{\"color\":\"#4D5663\"},\"title\":{\"font\":{\"color\":\"#4D5663\"},\"text\":\"\"},\"zerolinecolor\":\"#E1E5ED\"}},                        {\"showLink\": true, \"linkText\": \"Export to plot.ly\", \"plotlyServerURL\": \"https://plot.ly\", \"responsive\": true}                    ).then(function(){\n",
       "                            \n",
       "var gd = document.getElementById('23029cba-5fcf-49be-87dc-4a33e56eeb54');\n",
       "var x = new MutationObserver(function (mutations, observer) {{\n",
       "        var display = window.getComputedStyle(gd).display;\n",
       "        if (!display || display === 'none') {{\n",
       "            console.log([gd, 'removed!']);\n",
       "            Plotly.purge(gd);\n",
       "            observer.disconnect();\n",
       "        }}\n",
       "}});\n",
       "\n",
       "// Listen for the removal of the full notebook cells\n",
       "var notebookContainer = gd.closest('#notebook-container');\n",
       "if (notebookContainer) {{\n",
       "    x.observe(notebookContainer, {childList: true});\n",
       "}}\n",
       "\n",
       "// Listen for the clearing of the current output cell\n",
       "var outputEl = gd.closest('.output');\n",
       "if (outputEl) {{\n",
       "    x.observe(outputEl, {childList: true});\n",
       "}}\n",
       "\n",
       "                        })                };                });            </script>        </div>"
      ]
     },
     "metadata": {},
     "output_type": "display_data"
    }
   ],
   "source": [
    "df1[['Home Team Name','Away Team Goals']].value_counts().iplot(kind='scatter', title='Most goal with other team')"
   ]
  },
  {
   "cell_type": "markdown",
   "metadata": {},
   "source": [
    "Brazil hit most of the goal while playing with other team in there home ground."
   ]
  },
  {
   "cell_type": "code",
   "execution_count": 73,
   "metadata": {},
   "outputs": [
    {
     "data": {
      "text/plain": [
       "Home Team Goals  Away Team Goals  Away Team Name\n",
       "0.0              0.0              Argentina         6\n",
       "2.0              1.0              Mexico            6\n",
       "                                  Spain             6\n",
       "                                  Italy             5\n",
       "1.0              0.0              England           5\n",
       "                                                   ..\n",
       "                 2.0              Germany FR        1\n",
       "                                  Ecuador           1\n",
       "                                  Costa Rica        1\n",
       "                                  Belgium           1\n",
       "10.0             1.0              El Salvador       1\n",
       "Length: 558, dtype: int64"
      ]
     },
     "execution_count": 73,
     "metadata": {},
     "output_type": "execute_result"
    }
   ],
   "source": [
    "# Which team has hit most of the goal while playing with other team and visevers\n",
    "df1[['Home Team Goals','Away Team Goals','Away Team Name']].value_counts()"
   ]
  },
  {
   "cell_type": "code",
   "execution_count": 74,
   "metadata": {},
   "outputs": [
    {
     "data": {
      "application/vnd.plotly.v1+json": {
       "config": {
        "linkText": "Export to plot.ly",
        "plotlyServerURL": "https://plot.ly",
        "showLink": true
       },
       "data": [
        {
         "marker": {
          "color": "rgba(255, 153, 51, 0.6)",
          "line": {
           "color": "rgba(255, 153, 51, 1.0)",
           "width": 1
          }
         },
         "name": "None",
         "orientation": "v",
         "text": "",
         "type": "bar",
         "x": [
          "(0.0,0.0,Argentina)",
          "(2.0,1.0,Mexico)",
          "(2.0,1.0,Spain)",
          "(2.0,1.0,Italy)",
          "(1.0,0.0,England)",
          "(2.0,1.0,Colombia)",
          "(0.0,0.0,England)",
          "(2.0,1.0,England)",
          "(2.0,0.0,Chile)",
          "(1.0,0.0,Argentina)",
          "(1.0,0.0,Austria)",
          "(1.0,0.0,Belgium)",
          "(2.0,1.0,Hungary)",
          "(0.0,1.0,Spain)",
          "(3.0,1.0,Uruguay)",
          "(1.0,1.0,Argentina)",
          "(2.0,1.0,Czechoslovakia)",
          "(2.0,1.0,C te d' Ivoire)",
          "(2.0,1.0,Brazil)",
          "(2.0,1.0,Soviet Union)",
          "(0.0,1.0,France)",
          "(2.0,1.0,USA)",
          "(0.0,1.0,Germany)",
          "(2.0,1.0,Yugoslavia)",
          "(1.0,0.0,Paraguay)",
          "(0.0,0.0,Italy)",
          "(1.0,0.0,Croatia)",
          "(3.0,1.0,Brazil)",
          "(1.0,1.0,Chile)",
          "(1.0,0.0,Czechoslovakia)",
          "(1.0,1.0,Cameroon)",
          "(2.0,1.0,France)",
          "(1.0,0.0,France)",
          "(2.0,0.0,Czechoslovakia)",
          "(0.0,1.0,Uruguay)",
          "(4.0,1.0,Mexico)",
          "(2.0,0.0,Bulgaria)",
          "(1.0,0.0,Uruguay)",
          "(1.0,0.0,Scotland)",
          "(2.0,0.0,Soviet Union)",
          "(1.0,0.0,USA)",
          "(2.0,0.0,Switzerland)",
          "(1.0,0.0,Tunisia)",
          "(1.0,0.0,Switzerland)",
          "(2.0,0.0,Uruguay)",
          "(1.0,0.0,Sweden)",
          "(1.0,0.0,Spain)",
          "(0.0,2.0,Italy)",
          "(2.0,0.0,Yugoslavia)",
          "(3.0,0.0,Switzerland)",
          "(1.0,2.0,Italy)",
          "(0.0,0.0,France)",
          "(3.0,1.0,Mexico)",
          "(3.0,2.0,Argentina)",
          "(2.0,2.0,England)",
          "(1.0,1.0,Mexico)",
          "(2.0,1.0,Romania)",
          "(3.0,2.0,France)",
          "(0.0,0.0,Uruguay)",
          "(1.0,1.0,Korea Republic)",
          "(1.0,1.0,Italy)",
          "(3.0,1.0,Hungary)",
          "(1.0,1.0,USA)",
          "(2.0,1.0,Nigeria)",
          "(0.0,0.0,Poland)",
          "(0.0,0.0,Mexico)",
          "(0.0,0.0,Bulgaria)",
          "(0.0,0.0,Brazil)",
          "(1.0,1.0,rn\">Republic of Ireland)",
          "(1.0,2.0,Spain)",
          "(2.0,1.0,Scotland)",
          "(1.0,0.0,Netherlands)",
          "(3.0,2.0,Netherlands)",
          "(1.0,0.0,Mexico)",
          "(1.0,0.0,Norway)",
          "(1.0,1.0,Yugoslavia)",
          "(1.0,1.0,Wales)",
          "(1.0,0.0,Peru)",
          "(1.0,0.0,Nigeria)",
          "(1.0,2.0,Brazil)",
          "(4.0,0.0,Greece)",
          "(4.0,0.0,Mexico)",
          "(1.0,0.0,Japan)",
          "(1.0,0.0,Italy)",
          "(2.0,0.0,Canada)",
          "(4.0,0.0,Poland)",
          "(1.0,0.0,Germany FR)",
          "(1.0,2.0,Croatia)",
          "(1.0,2.0,Denmark)",
          "(2.0,0.0,El Salvador)",
          "(2.0,0.0,France)",
          "(1.0,2.0,Netherlands)",
          "(3.0,1.0,Peru)",
          "(1.0,0.0,Portugal)",
          "(1.0,1.0,Sweden)",
          "(2.0,0.0,Belgium)",
          "(1.0,0.0,Russia)",
          "(1.0,1.0,Greece)",
          "(1.0,3.0,Paraguay)",
          "(1.0,1.0,German DR)",
          "(3.0,2.0,Italy)",
          "(1.0,1.0,France)",
          "(1.0,4.0,Brazil)",
          "(1.0,1.0,Czechoslovakia)",
          "(3.0,2.0,Germany FR)",
          "(1.0,0.0,Colombia)",
          "(1.0,1.0,Bulgaria)",
          "(2.0,2.0,Northern Ireland)",
          "(1.0,1.0,Belgium)",
          "(1.0,1.0,Austria)",
          "(1.0,3.0,Mexico)",
          "(1.0,0.0,Yugoslavia)",
          "(1.0,1.0,Netherlands)",
          "(3.0,1.0,Czechoslovakia)",
          "(1.0,1.0,Northern Ireland)",
          "(1.0,1.0,Paraguay)",
          "(3.0,1.0,France)",
          "(1.0,7.0,Germany)",
          "(3.0,1.0,Germany FR)",
          "(2.0,0.0,Australia)",
          "(1.0,1.0,Spain)",
          "(1.0,3.0,Spain)",
          "(4.0,0.0,Bolivia)",
          "(3.0,1.0,USA)",
          "(4.0,1.0,Belgium)",
          "(1.0,0.0,Algeria)",
          "(4.0,1.0,Chile)",
          "(1.0,0.0,Cameroon)",
          "(0.0,1.0,Croatia)",
          "(2.0,1.0,Morocco)",
          "(0.0,1.0,Denmark)",
          "(0.0,1.0,England)",
          "(0.0,1.0,Germany FR)",
          "(0.0,1.0,Mexico)",
          "(2.0,1.0,Ecuador)",
          "(0.0,2.0,France)",
          "(0.0,1.0,Turkey)",
          "(0.0,1.0,Yugoslavia)",
          "(3.0,0.0,Belgium)",
          "(3.0,0.0,Bulgaria)",
          "(0.0,2.0,Colombia)",
          "(3.0,0.0,Cameroon)",
          "(2.0,3.0,Netherlands)",
          "(0.0,1.0,Brazil)",
          "(0.0,1.0,Belgium)",
          "(6.0,1.0,Bulgaria)",
          "(0.0,0.0,Sweden)",
          "(0.0,0.0,Spain)",
          "(0.0,0.0,Soviet Union)",
          "(0.0,0.0,Portugal)",
          "(2.0,1.0,Sweden)",
          "(2.0,1.0,Switzerland)",
          "(2.0,2.0,Sweden)",
          "(2.0,2.0,Belgium)",
          "(2.0,2.0,Saudi Arabia)",
          "(0.0,0.0,Costa Rica)",
          "(0.0,0.0,Cameroon)",
          "(2.0,2.0,Korea Republic)",
          "(2.0,2.0,Mexico)",
          "(2.0,1.0,Argentina)",
          "(0.0,1.0,Poland)",
          "(4.0,2.0,Sweden)",
          "(2.0,0.0,Tunisia)",
          "(0.0,3.0,Spain)",
          "(0.0,2.0,Germany FR)",
          "(0.0,3.0,Netherlands)",
          "(2.0,0.0,Korea Republic)",
          "(2.0,0.0,Mexico)",
          "(3.0,0.0,Mexico)",
          "(3.0,0.0,Morocco)",
          "(2.0,0.0,Nigeria)",
          "(0.0,3.0,France)",
          "(2.0,0.0,Poland)",
          "(0.0,3.0,Brazil)",
          "(4.0,1.0,Italy)",
          "(1.0,0.0,Bulgaria)",
          "(2.0,0.0,rn\">Trinidad and Tobago)",
          "(3.0,0.0,Paraguay)",
          "(0.0,2.0,Netherlands)",
          "(3.0,1.0,Japan)",
          "(3.0,0.0,Peru)",
          "(3.0,1.0,Germany)",
          "(3.0,0.0,Korea DPR)",
          "(3.0,1.0,Haiti)",
          "(3.0,1.0,Northern Ireland)",
          "(3.0,1.0,Netherlands)",
          "(3.0,0.0,New Zealand)",
          "(2.0,2.0,Paraguay)",
          "(3.0,1.0,IR Iran)",
          "(3.0,1.0,Paraguay)",
          "(2.0,2.0,Yugoslavia)",
          "(2.0,2.0,Portugal)",
          "(2.0,2.0,USA)",
          "(2.0,2.0,Switzerland)",
          "(3.0,0.0,Poland)",
          "(3.0,1.0,Korea Republic)",
          "(3.0,0.0,IR Iran)",
          "(2.0,2.0,South Africa)",
          "(3.0,1.0,Iran)",
          "(2.0,2.0,Scotland)",
          "(3.0,0.0,Netherlands)",
          "(2.0,2.0,Spain)",
          "(2.0,3.0,Italy)",
          "(3.0,1.0,England)",
          "(2.0,4.0,Algeria)",
          "(3.0,0.0,Chile)",
          "(3.0,0.0,China PR)",
          "(3.0,0.0,Ukraine)",
          "(3.0,0.0,Uruguay)",
          "(3.0,1.0,Argentina)",
          "(3.0,1.0,Australia)",
          "(3.0,0.0,Austria)",
          "(3.0,1.0,Belgium)",
          "(3.0,0.0,Costa Rica)",
          "(3.0,0.0,El Salvador)",
          "(2.0,5.0,France)",
          "(2.0,5.0,Brazil)",
          "(3.0,0.0,South Africa)",
          "(3.0,0.0,Honduras)",
          "(2.0,3.0,Turkey)",
          "(3.0,1.0,Bulgaria)",
          "(3.0,1.0,C te d' Ivoire)",
          "(2.0,3.0,Spain)",
          "(3.0,0.0,Ghana)",
          "(3.0,0.0,Greece)",
          "(3.0,1.0,Chile)",
          "(2.0,3.0,Nigeria)",
          "(3.0,1.0,Croatia)",
          "(2.0,3.0,Germany)",
          "(2.0,3.0,Brazil)",
          "(2.0,3.0,Argentina)",
          "(0.0,0.0,Algeria)",
          "(3.0,2.0,Switzerland)",
          "(3.0,1.0,Poland)",
          "(5.0,0.0,Korea Republic)",
          "(5.0,2.0,USA)",
          "(5.0,2.0,Sweden)",
          "(5.0,2.0,New Zealand)",
          "(5.0,2.0,France)",
          "(5.0,2.0,Bulgaria)",
          "(5.0,2.0,Belgium)",
          "(5.0,1.0,rn\">United Arab Emirates)",
          "(5.0,1.0,Sweden)",
          "(5.0,1.0,Peru)",
          "(5.0,1.0,Austria)",
          "(5.0,0.0,Switzerland)",
          "(5.0,0.0,Mexico)",
          "(5.0,0.0,Jamaica)",
          "(6.0,0.0,Dutch East Indies)",
          "(5.0,0.0,Czechoslovakia)",
          "(5.0,0.0,Colombia)",
          "(4.0,4.0,Colombia)",
          "(4.0,4.0,Belgium)",
          "(4.0,3.0,Germany FR)",
          "(4.0,2.0,Uruguay)",
          "(4.0,2.0,Peru)",
          "(4.0,2.0,Hungary)",
          "(4.0,2.0,Germany FR)",
          "(4.0,2.0,Germany)",
          "(4.0,2.0,England)",
          "(4.0,2.0,Egypt)",
          "(5.0,3.0,Korea DPR)",
          "(6.0,0.0,Hungary)",
          "(3.0,1.0,Portugal)",
          "(7.0,0.0,Korea Republic)",
          "(9.0,0.0,Zaire)",
          "(9.0,0.0,Korea Republic)",
          "(8.0,3.0,Germany FR)",
          "(8.0,0.0,Saudi Arabia)",
          "(8.0,0.0,Cuba)",
          "(8.0,0.0,Bolivia)",
          "(7.0,5.0,Switzerland)",
          "(7.0,3.0,Paraguay)",
          "(7.0,2.0,Turkey)",
          "(7.0,1.0,USA)",
          "(7.0,1.0,Sweden)",
          "(7.0,0.0,Scotland)",
          "(7.0,0.0,Korea DPR)",
          "(6.0,0.0,Mexico)",
          "(6.0,5.0,Poland)",
          "(6.0,3.0,Mexico)",
          "(6.0,3.0,Germany FR)",
          "(6.0,1.0,Yugoslavia)",
          "(6.0,1.0,Uruguay)",
          "(6.0,1.0,USA)",
          "(6.0,1.0,Spain)",
          "(6.0,1.0,Cameroon)",
          "(6.0,1.0,Austria)",
          "(6.0,1.0,Argentina)",
          "(6.0,0.0,rn\">Serbia and Montenegro)",
          "(6.0,0.0,Peru)",
          "(4.0,2.0,Costa Rica)",
          "(4.0,2.0,Chile)",
          "(4.0,2.0,Brazil)",
          "(3.0,2.0,Denmark)",
          "(3.0,3.0,Romania)",
          "(3.0,3.0,France)",
          "(3.0,2.0,rn\">Serbia and Montenegro)",
          "(3.0,2.0,Sweden)",
          "(3.0,2.0,Scotland)",
          "(3.0,2.0,Russia)",
          "(3.0,2.0,Romania)",
          "(3.0,2.0,Portugal)",
          "(3.0,2.0,Mexico)",
          "(3.0,2.0,Korea Republic)",
          "(3.0,2.0,Hungary)",
          "(3.0,2.0,England)",
          "(3.0,2.0,Chile)",
          "(4.0,2.0,Belgium)",
          "(3.0,2.0,Cameroon)",
          "(3.0,2.0,Bulgaria)",
          "(3.0,2.0,Brazil)",
          "(3.0,2.0,Belgium)",
          "(3.0,2.0,Austria)",
          "(3.0,1.0,Yugoslavia)",
          "(3.0,1.0,Tunisia)",
          "(3.0,1.0,Switzerland)",
          "(3.0,1.0,Spain)",
          "(3.0,1.0,Slovenia)",
          "(3.0,1.0,Scotland)",
          "(3.0,1.0,Russia)",
          "(3.0,3.0,Uruguay)",
          "(3.0,3.0,Yugoslavia)",
          "(3.0,4.0,Belgium)",
          "(4.0,0.0,Argentina)",
          "(4.0,2.0,Argentina)",
          "(4.0,1.0,rn\">United Arab Emirates)",
          "(4.0,1.0,Yugoslavia)",
          "(4.0,1.0,Turkey)",
          "(4.0,1.0,Scotland)",
          "(4.0,1.0,Northern Ireland)",
          "(4.0,1.0,Kuwait)",
          "(4.0,1.0,Korea Republic)",
          "(4.0,1.0,Iran)",
          "(4.0,1.0,Hungary)",
          "(4.0,1.0,Haiti)",
          "(4.0,1.0,England)",
          "(4.0,1.0,Czechoslovakia)",
          "(4.0,1.0,Costa Rica)",
          "(4.0,0.0,Uruguay)",
          "(4.0,0.0,Ukraine)",
          "(4.0,0.0,Saudi Arabia)",
          "(4.0,0.0,Romania)",
          "(4.0,0.0,Portugal)",
          "(4.0,0.0,Northern Ireland)",
          "(4.0,0.0,New Zealand)",
          "(4.0,0.0,El Salvador)",
          "(4.0,0.0,China PR)",
          "(4.0,0.0,Bulgaria)",
          "(4.0,0.0,Australia)",
          "(2.0,2.0,Norway)",
          "(2.0,0.0,Honduras)",
          "(2.0,2.0,Netherlands)",
          "(0.0,3.0,Czech Republic)",
          "(0.0,4.0,Soviet Union)",
          "(0.0,4.0,Germany)",
          "(0.0,4.0,Croatia)",
          "(0.0,3.0,rn\">Republic of Ireland)",
          "(0.0,3.0,Uruguay)",
          "(0.0,3.0,Switzerland)",
          "(0.0,3.0,Morocco)",
          "(0.0,3.0,Germany FR)",
          "(0.0,3.0,Germany)",
          "(0.0,3.0,England)",
          "(0.0,3.0,Croatia)",
          "(0.0,7.0,Poland)",
          "(0.0,3.0,C te d' Ivoire)",
          "(0.0,2.0,USA)",
          "(0.0,2.0,Switzerland)",
          "(0.0,2.0,Scotland)",
          "(0.0,2.0,Romania)",
          "(0.0,2.0,Paraguay)",
          "(0.0,2.0,Nigeria)",
          "(0.0,2.0,Mexico)",
          "(0.0,2.0,Japan)",
          "(0.0,2.0,Ghana)",
          "(0.0,4.0,Ukraine)",
          "(1.0,0.0,Australia)",
          "(0.0,2.0,England)",
          "(1.0,0.0,Kuwait)",
          "(1.0,0.0,rn\">Republic of Ireland)",
          "(1.0,0.0,rn\">Bosnia and Herzegovina)",
          "(1.0,0.0,Wales)",
          "(1.0,0.0,Turkey)",
          "(1.0,0.0,Soviet Union)",
          "(1.0,0.0,Slovenia)",
          "(1.0,0.0,Saudi Arabia)",
          "(1.0,0.0,Romania)",
          "(1.0,0.0,Poland)",
          "(1.0,0.0,Morocco)",
          "(1.0,0.0,Korea Republic)",
          "(1.0,0.0,Bolivia)",
          "(1.0,0.0,Iraq)",
          "(1.0,0.0,Iran)",
          "(1.0,0.0,IR Iran)",
          "(1.0,0.0,Hungary)",
          "(1.0,0.0,German DR)",
          "(1.0,0.0,El Salvador)",
          "(1.0,0.0,Egypt)",
          "(1.0,0.0,Ecuador)",
          "(1.0,0.0,Costa Rica)",
          "(1.0,0.0,Chile)",
          "(0.0,2.0,Germany)",
          "(0.0,2.0,Ecuador)",
          "(2.0,2.0,Ghana)",
          "(0.0,0.0,Morocco)",
          "(0.0,0.0,Tunisia)",
          "(0.0,0.0,Switzerland)",
          "(0.0,0.0,Romania)",
          "(0.0,0.0,Peru)",
          "(0.0,0.0,Paraguay)",
          "(0.0,0.0,Norway)",
          "(0.0,0.0,Northern Ireland)",
          "(0.0,0.0,Nigeria)",
          "(0.0,0.0,New Zealand)",
          "(0.0,0.0,Netherlands)",
          "(0.0,0.0,Korea Republic)",
          "(0.0,0.0,Wales)",
          "(0.0,0.0,Japan)",
          "(0.0,0.0,Israel)",
          "(0.0,0.0,Honduras)",
          "(0.0,0.0,Greece)",
          "(0.0,0.0,Egypt)",
          "(0.0,0.0,Czechoslovakia)",
          "(0.0,0.0,Croatia)",
          "(0.0,0.0,Chile)",
          "(0.0,0.0,Bolivia)",
          "(0.0,0.0,Belgium)",
          "(0.0,0.0,Ukraine)",
          "(0.0,0.0,Yugoslavia)",
          "(0.0,2.0,Costa Rica)",
          "(0.0,1.0,Senegal)",
          "(0.0,2.0,Chile)",
          "(0.0,2.0,Bulgaria)",
          "(0.0,2.0,Brazil)",
          "(0.0,2.0,Austria)",
          "(0.0,2.0,Argentina)",
          "(0.0,1.0,rn\">Republic of Ireland)",
          "(0.0,1.0,Switzerland)",
          "(0.0,1.0,Soviet Union)",
          "(0.0,1.0,Slovenia)",
          "(0.0,1.0,Serbia)",
          "(0.0,1.0,Saudi Arabia)",
          "(0.0,1.0,Argentina)",
          "(0.0,1.0,Romania)",
          "(0.0,1.0,Portugal)",
          "(0.0,1.0,Netherlands)",
          "(0.0,1.0,Korea Republic)",
          "(0.0,1.0,Ghana)",
          "(0.0,1.0,Czechoslovakia)",
          "(0.0,1.0,Costa Rica)",
          "(0.0,1.0,Chile)",
          "(0.0,1.0,Cameroon)",
          "(0.0,1.0,Austria)",
          "(1.0,1.0,Angola)",
          "(1.0,1.0,Australia)",
          "(1.0,1.0,Brazil)",
          "(2.0,0.0,Ghana)",
          "(2.0,0.0,USA)",
          "(2.0,0.0,Sweden)",
          "(2.0,0.0,Russia)",
          "(2.0,0.0,Paraguay)",
          "(2.0,0.0,Italy)",
          "(2.0,0.0,Israel)",
          "(2.0,0.0,Iran)",
          "(2.0,0.0,IR Iran)",
          "(0.0,0.0,Angola)",
          "(2.0,0.0,Greece)",
          "(2.0,0.0,Germany FR)",
          "(2.0,1.0,Algeria)",
          "(2.0,0.0,Ecuador)",
          "(2.0,0.0,Denmark)",
          "(2.0,0.0,Brazil)",
          "(2.0,0.0,Austria)",
          "(1.0,5.0,Spain)",
          "(1.0,5.0,Netherlands)",
          "(1.0,5.0,Czechoslovakia)",
          "(1.0,4.0,Switzerland)",
          "(1.0,4.0,Netherlands)",
          "(1.0,4.0,Denmark)",
          "(2.0,0.0,rn\">Republic of Ireland)",
          "(2.0,1.0,Austria)",
          "(1.0,1.0,Colombia)",
          "(2.0,1.0,Serbia)",
          "(2.0,2.0,Czechoslovakia)",
          "(2.0,2.0,Chile)",
          "(2.0,2.0,Austria)",
          "(2.0,2.0,Australia)",
          "(2.0,1.0,rn\">Republic of Ireland)",
          "(2.0,1.0,rn\">Bosnia and Herzegovina)",
          "(2.0,1.0,Uruguay)",
          "(2.0,1.0,Turkey)",
          "(2.0,1.0,Togo)",
          "(2.0,1.0,Slovakia)",
          "(2.0,1.0,Saudi Arabia)",
          "(2.0,1.0,Chile)",
          "(2.0,1.0,Portugal)",
          "(2.0,1.0,Norway)",
          "(2.0,1.0,Netherlands)",
          "(2.0,1.0,Korea Republic)",
          "(2.0,1.0,Korea DPR)",
          "(2.0,1.0,Japan)",
          "(2.0,1.0,Ghana)",
          "(2.0,1.0,Germany)",
          "(2.0,1.0,Denmark)",
          "(2.0,1.0,Croatia)",
          "(1.0,4.0,Colombia)",
          "(1.0,3.0,Sweden)",
          "(1.0,3.0,Romania)",
          "(1.0,1.0,Morocco)",
          "(1.0,1.0,Switzerland)",
          "(1.0,1.0,Soviet Union)",
          "(1.0,1.0,Slovakia)",
          "(1.0,1.0,Senegal)",
          "(1.0,1.0,Scotland)",
          "(1.0,1.0,Russia)",
          "(1.0,1.0,Romania)",
          "(1.0,1.0,Peru)",
          "(1.0,1.0,Norway)",
          "(1.0,1.0,New Zealand)",
          "(1.0,1.0,Kuwait)",
          "(1.0,3.0,Morocco)",
          "(1.0,1.0,Israel)",
          "(1.0,1.0,IR Iran)",
          "(1.0,1.0,Hungary)",
          "(1.0,1.0,Honduras)",
          "(1.0,1.0,Ghana)",
          "(1.0,1.0,Germany FR)",
          "(1.0,1.0,Germany)",
          "(1.0,1.0,England)",
          "(1.0,1.0,Egypt)",
          "(1.0,1.0,Denmark)",
          "(1.0,1.0,Tunisia)",
          "(1.0,1.0,Turkey)",
          "(1.0,1.0,Uruguay)",
          "(1.0,2.0,Algeria)",
          "(1.0,3.0,Japan)",
          "(1.0,3.0,Germany FR)",
          "(1.0,3.0,France)",
          "(1.0,3.0,Croatia)",
          "(1.0,3.0,Costa Rica)",
          "(1.0,3.0,Brazil)",
          "(1.0,2.0,Yugoslavia)",
          "(1.0,2.0,USA)",
          "(1.0,2.0,South Africa)",
          "(1.0,2.0,Senegal)",
          "(1.0,2.0,Scotland)",
          "(1.0,2.0,Poland)",
          "(1.0,2.0,Norway)",
          "(1.0,2.0,Mexico)",
          "(1.0,2.0,Jamaica)",
          "(1.0,2.0,Iran)",
          "(1.0,2.0,Ghana)",
          "(1.0,2.0,Germany FR)",
          "(1.0,2.0,Ecuador)",
          "(1.0,2.0,Costa Rica)",
          "(1.0,2.0,Belgium)",
          "(10.0,1.0,El Salvador)"
         ],
         "y": [
          6,
          6,
          6,
          5,
          5,
          5,
          5,
          5,
          5,
          5,
          5,
          5,
          5,
          4,
          4,
          4,
          4,
          4,
          4,
          4,
          4,
          4,
          4,
          4,
          4,
          4,
          3,
          3,
          3,
          3,
          3,
          3,
          3,
          3,
          3,
          3,
          3,
          3,
          3,
          3,
          3,
          3,
          3,
          3,
          3,
          3,
          3,
          3,
          3,
          3,
          3,
          3,
          3,
          3,
          3,
          3,
          3,
          3,
          3,
          3,
          3,
          3,
          3,
          3,
          3,
          3,
          3,
          3,
          3,
          3,
          3,
          2,
          2,
          2,
          2,
          2,
          2,
          2,
          2,
          2,
          2,
          2,
          2,
          2,
          2,
          2,
          2,
          2,
          2,
          2,
          2,
          2,
          2,
          2,
          2,
          2,
          2,
          2,
          2,
          2,
          2,
          2,
          2,
          2,
          2,
          2,
          2,
          2,
          2,
          2,
          2,
          2,
          2,
          2,
          2,
          2,
          2,
          2,
          2,
          2,
          2,
          2,
          2,
          2,
          2,
          2,
          2,
          2,
          2,
          2,
          2,
          2,
          2,
          2,
          2,
          2,
          2,
          2,
          2,
          2,
          2,
          2,
          2,
          2,
          2,
          2,
          2,
          2,
          2,
          2,
          2,
          2,
          2,
          2,
          2,
          2,
          2,
          2,
          2,
          2,
          2,
          2,
          2,
          2,
          2,
          2,
          2,
          2,
          2,
          2,
          2,
          2,
          2,
          2,
          2,
          2,
          2,
          2,
          2,
          1,
          1,
          1,
          1,
          1,
          1,
          1,
          1,
          1,
          1,
          1,
          1,
          1,
          1,
          1,
          1,
          1,
          1,
          1,
          1,
          1,
          1,
          1,
          1,
          1,
          1,
          1,
          1,
          1,
          1,
          1,
          1,
          1,
          1,
          1,
          1,
          1,
          1,
          1,
          1,
          1,
          1,
          1,
          1,
          1,
          1,
          1,
          1,
          1,
          1,
          1,
          1,
          1,
          1,
          1,
          1,
          1,
          1,
          1,
          1,
          1,
          1,
          1,
          1,
          1,
          1,
          1,
          1,
          1,
          1,
          1,
          1,
          1,
          1,
          1,
          1,
          1,
          1,
          1,
          1,
          1,
          1,
          1,
          1,
          1,
          1,
          1,
          1,
          1,
          1,
          1,
          1,
          1,
          1,
          1,
          1,
          1,
          1,
          1,
          1,
          1,
          1,
          1,
          1,
          1,
          1,
          1,
          1,
          1,
          1,
          1,
          1,
          1,
          1,
          1,
          1,
          1,
          1,
          1,
          1,
          1,
          1,
          1,
          1,
          1,
          1,
          1,
          1,
          1,
          1,
          1,
          1,
          1,
          1,
          1,
          1,
          1,
          1,
          1,
          1,
          1,
          1,
          1,
          1,
          1,
          1,
          1,
          1,
          1,
          1,
          1,
          1,
          1,
          1,
          1,
          1,
          1,
          1,
          1,
          1,
          1,
          1,
          1,
          1,
          1,
          1,
          1,
          1,
          1,
          1,
          1,
          1,
          1,
          1,
          1,
          1,
          1,
          1,
          1,
          1,
          1,
          1,
          1,
          1,
          1,
          1,
          1,
          1,
          1,
          1,
          1,
          1,
          1,
          1,
          1,
          1,
          1,
          1,
          1,
          1,
          1,
          1,
          1,
          1,
          1,
          1,
          1,
          1,
          1,
          1,
          1,
          1,
          1,
          1,
          1,
          1,
          1,
          1,
          1,
          1,
          1,
          1,
          1,
          1,
          1,
          1,
          1,
          1,
          1,
          1,
          1,
          1,
          1,
          1,
          1,
          1,
          1,
          1,
          1,
          1,
          1,
          1,
          1,
          1,
          1,
          1,
          1,
          1,
          1,
          1,
          1,
          1,
          1,
          1,
          1,
          1,
          1,
          1,
          1,
          1,
          1,
          1,
          1,
          1,
          1,
          1,
          1,
          1,
          1,
          1,
          1,
          1,
          1,
          1,
          1,
          1,
          1,
          1,
          1,
          1,
          1,
          1,
          1,
          1,
          1,
          1,
          1,
          1,
          1,
          1,
          1,
          1,
          1,
          1,
          1,
          1,
          1,
          1,
          1,
          1,
          1,
          1,
          1,
          1,
          1,
          1,
          1,
          1,
          1,
          1,
          1,
          1,
          1,
          1,
          1,
          1,
          1,
          1,
          1,
          1,
          1,
          1,
          1,
          1,
          1,
          1,
          1,
          1,
          1,
          1,
          1,
          1,
          1,
          1,
          1,
          1,
          1,
          1,
          1,
          1,
          1,
          1,
          1,
          1,
          1,
          1,
          1,
          1,
          1,
          1,
          1,
          1,
          1,
          1,
          1,
          1,
          1,
          1,
          1,
          1,
          1,
          1,
          1,
          1,
          1,
          1,
          1,
          1,
          1,
          1,
          1,
          1,
          1,
          1,
          1,
          1,
          1,
          1,
          1
         ]
        }
       ],
       "layout": {
        "legend": {
         "bgcolor": "#F5F6F9",
         "font": {
          "color": "#4D5663"
         }
        },
        "paper_bgcolor": "#F5F6F9",
        "plot_bgcolor": "#F5F6F9",
        "template": {
         "data": {
          "bar": [
           {
            "error_x": {
             "color": "#2a3f5f"
            },
            "error_y": {
             "color": "#2a3f5f"
            },
            "marker": {
             "line": {
              "color": "#E5ECF6",
              "width": 0.5
             },
             "pattern": {
              "fillmode": "overlay",
              "size": 10,
              "solidity": 0.2
             }
            },
            "type": "bar"
           }
          ],
          "barpolar": [
           {
            "marker": {
             "line": {
              "color": "#E5ECF6",
              "width": 0.5
             },
             "pattern": {
              "fillmode": "overlay",
              "size": 10,
              "solidity": 0.2
             }
            },
            "type": "barpolar"
           }
          ],
          "carpet": [
           {
            "aaxis": {
             "endlinecolor": "#2a3f5f",
             "gridcolor": "white",
             "linecolor": "white",
             "minorgridcolor": "white",
             "startlinecolor": "#2a3f5f"
            },
            "baxis": {
             "endlinecolor": "#2a3f5f",
             "gridcolor": "white",
             "linecolor": "white",
             "minorgridcolor": "white",
             "startlinecolor": "#2a3f5f"
            },
            "type": "carpet"
           }
          ],
          "choropleth": [
           {
            "colorbar": {
             "outlinewidth": 0,
             "ticks": ""
            },
            "type": "choropleth"
           }
          ],
          "contour": [
           {
            "colorbar": {
             "outlinewidth": 0,
             "ticks": ""
            },
            "colorscale": [
             [
              0,
              "#0d0887"
             ],
             [
              0.1111111111111111,
              "#46039f"
             ],
             [
              0.2222222222222222,
              "#7201a8"
             ],
             [
              0.3333333333333333,
              "#9c179e"
             ],
             [
              0.4444444444444444,
              "#bd3786"
             ],
             [
              0.5555555555555556,
              "#d8576b"
             ],
             [
              0.6666666666666666,
              "#ed7953"
             ],
             [
              0.7777777777777778,
              "#fb9f3a"
             ],
             [
              0.8888888888888888,
              "#fdca26"
             ],
             [
              1,
              "#f0f921"
             ]
            ],
            "type": "contour"
           }
          ],
          "contourcarpet": [
           {
            "colorbar": {
             "outlinewidth": 0,
             "ticks": ""
            },
            "type": "contourcarpet"
           }
          ],
          "heatmap": [
           {
            "colorbar": {
             "outlinewidth": 0,
             "ticks": ""
            },
            "colorscale": [
             [
              0,
              "#0d0887"
             ],
             [
              0.1111111111111111,
              "#46039f"
             ],
             [
              0.2222222222222222,
              "#7201a8"
             ],
             [
              0.3333333333333333,
              "#9c179e"
             ],
             [
              0.4444444444444444,
              "#bd3786"
             ],
             [
              0.5555555555555556,
              "#d8576b"
             ],
             [
              0.6666666666666666,
              "#ed7953"
             ],
             [
              0.7777777777777778,
              "#fb9f3a"
             ],
             [
              0.8888888888888888,
              "#fdca26"
             ],
             [
              1,
              "#f0f921"
             ]
            ],
            "type": "heatmap"
           }
          ],
          "heatmapgl": [
           {
            "colorbar": {
             "outlinewidth": 0,
             "ticks": ""
            },
            "colorscale": [
             [
              0,
              "#0d0887"
             ],
             [
              0.1111111111111111,
              "#46039f"
             ],
             [
              0.2222222222222222,
              "#7201a8"
             ],
             [
              0.3333333333333333,
              "#9c179e"
             ],
             [
              0.4444444444444444,
              "#bd3786"
             ],
             [
              0.5555555555555556,
              "#d8576b"
             ],
             [
              0.6666666666666666,
              "#ed7953"
             ],
             [
              0.7777777777777778,
              "#fb9f3a"
             ],
             [
              0.8888888888888888,
              "#fdca26"
             ],
             [
              1,
              "#f0f921"
             ]
            ],
            "type": "heatmapgl"
           }
          ],
          "histogram": [
           {
            "marker": {
             "pattern": {
              "fillmode": "overlay",
              "size": 10,
              "solidity": 0.2
             }
            },
            "type": "histogram"
           }
          ],
          "histogram2d": [
           {
            "colorbar": {
             "outlinewidth": 0,
             "ticks": ""
            },
            "colorscale": [
             [
              0,
              "#0d0887"
             ],
             [
              0.1111111111111111,
              "#46039f"
             ],
             [
              0.2222222222222222,
              "#7201a8"
             ],
             [
              0.3333333333333333,
              "#9c179e"
             ],
             [
              0.4444444444444444,
              "#bd3786"
             ],
             [
              0.5555555555555556,
              "#d8576b"
             ],
             [
              0.6666666666666666,
              "#ed7953"
             ],
             [
              0.7777777777777778,
              "#fb9f3a"
             ],
             [
              0.8888888888888888,
              "#fdca26"
             ],
             [
              1,
              "#f0f921"
             ]
            ],
            "type": "histogram2d"
           }
          ],
          "histogram2dcontour": [
           {
            "colorbar": {
             "outlinewidth": 0,
             "ticks": ""
            },
            "colorscale": [
             [
              0,
              "#0d0887"
             ],
             [
              0.1111111111111111,
              "#46039f"
             ],
             [
              0.2222222222222222,
              "#7201a8"
             ],
             [
              0.3333333333333333,
              "#9c179e"
             ],
             [
              0.4444444444444444,
              "#bd3786"
             ],
             [
              0.5555555555555556,
              "#d8576b"
             ],
             [
              0.6666666666666666,
              "#ed7953"
             ],
             [
              0.7777777777777778,
              "#fb9f3a"
             ],
             [
              0.8888888888888888,
              "#fdca26"
             ],
             [
              1,
              "#f0f921"
             ]
            ],
            "type": "histogram2dcontour"
           }
          ],
          "mesh3d": [
           {
            "colorbar": {
             "outlinewidth": 0,
             "ticks": ""
            },
            "type": "mesh3d"
           }
          ],
          "parcoords": [
           {
            "line": {
             "colorbar": {
              "outlinewidth": 0,
              "ticks": ""
             }
            },
            "type": "parcoords"
           }
          ],
          "pie": [
           {
            "automargin": true,
            "type": "pie"
           }
          ],
          "scatter": [
           {
            "fillpattern": {
             "fillmode": "overlay",
             "size": 10,
             "solidity": 0.2
            },
            "type": "scatter"
           }
          ],
          "scatter3d": [
           {
            "line": {
             "colorbar": {
              "outlinewidth": 0,
              "ticks": ""
             }
            },
            "marker": {
             "colorbar": {
              "outlinewidth": 0,
              "ticks": ""
             }
            },
            "type": "scatter3d"
           }
          ],
          "scattercarpet": [
           {
            "marker": {
             "colorbar": {
              "outlinewidth": 0,
              "ticks": ""
             }
            },
            "type": "scattercarpet"
           }
          ],
          "scattergeo": [
           {
            "marker": {
             "colorbar": {
              "outlinewidth": 0,
              "ticks": ""
             }
            },
            "type": "scattergeo"
           }
          ],
          "scattergl": [
           {
            "marker": {
             "colorbar": {
              "outlinewidth": 0,
              "ticks": ""
             }
            },
            "type": "scattergl"
           }
          ],
          "scattermapbox": [
           {
            "marker": {
             "colorbar": {
              "outlinewidth": 0,
              "ticks": ""
             }
            },
            "type": "scattermapbox"
           }
          ],
          "scatterpolar": [
           {
            "marker": {
             "colorbar": {
              "outlinewidth": 0,
              "ticks": ""
             }
            },
            "type": "scatterpolar"
           }
          ],
          "scatterpolargl": [
           {
            "marker": {
             "colorbar": {
              "outlinewidth": 0,
              "ticks": ""
             }
            },
            "type": "scatterpolargl"
           }
          ],
          "scatterternary": [
           {
            "marker": {
             "colorbar": {
              "outlinewidth": 0,
              "ticks": ""
             }
            },
            "type": "scatterternary"
           }
          ],
          "surface": [
           {
            "colorbar": {
             "outlinewidth": 0,
             "ticks": ""
            },
            "colorscale": [
             [
              0,
              "#0d0887"
             ],
             [
              0.1111111111111111,
              "#46039f"
             ],
             [
              0.2222222222222222,
              "#7201a8"
             ],
             [
              0.3333333333333333,
              "#9c179e"
             ],
             [
              0.4444444444444444,
              "#bd3786"
             ],
             [
              0.5555555555555556,
              "#d8576b"
             ],
             [
              0.6666666666666666,
              "#ed7953"
             ],
             [
              0.7777777777777778,
              "#fb9f3a"
             ],
             [
              0.8888888888888888,
              "#fdca26"
             ],
             [
              1,
              "#f0f921"
             ]
            ],
            "type": "surface"
           }
          ],
          "table": [
           {
            "cells": {
             "fill": {
              "color": "#EBF0F8"
             },
             "line": {
              "color": "white"
             }
            },
            "header": {
             "fill": {
              "color": "#C8D4E3"
             },
             "line": {
              "color": "white"
             }
            },
            "type": "table"
           }
          ]
         },
         "layout": {
          "annotationdefaults": {
           "arrowcolor": "#2a3f5f",
           "arrowhead": 0,
           "arrowwidth": 1
          },
          "autotypenumbers": "strict",
          "coloraxis": {
           "colorbar": {
            "outlinewidth": 0,
            "ticks": ""
           }
          },
          "colorscale": {
           "diverging": [
            [
             0,
             "#8e0152"
            ],
            [
             0.1,
             "#c51b7d"
            ],
            [
             0.2,
             "#de77ae"
            ],
            [
             0.3,
             "#f1b6da"
            ],
            [
             0.4,
             "#fde0ef"
            ],
            [
             0.5,
             "#f7f7f7"
            ],
            [
             0.6,
             "#e6f5d0"
            ],
            [
             0.7,
             "#b8e186"
            ],
            [
             0.8,
             "#7fbc41"
            ],
            [
             0.9,
             "#4d9221"
            ],
            [
             1,
             "#276419"
            ]
           ],
           "sequential": [
            [
             0,
             "#0d0887"
            ],
            [
             0.1111111111111111,
             "#46039f"
            ],
            [
             0.2222222222222222,
             "#7201a8"
            ],
            [
             0.3333333333333333,
             "#9c179e"
            ],
            [
             0.4444444444444444,
             "#bd3786"
            ],
            [
             0.5555555555555556,
             "#d8576b"
            ],
            [
             0.6666666666666666,
             "#ed7953"
            ],
            [
             0.7777777777777778,
             "#fb9f3a"
            ],
            [
             0.8888888888888888,
             "#fdca26"
            ],
            [
             1,
             "#f0f921"
            ]
           ],
           "sequentialminus": [
            [
             0,
             "#0d0887"
            ],
            [
             0.1111111111111111,
             "#46039f"
            ],
            [
             0.2222222222222222,
             "#7201a8"
            ],
            [
             0.3333333333333333,
             "#9c179e"
            ],
            [
             0.4444444444444444,
             "#bd3786"
            ],
            [
             0.5555555555555556,
             "#d8576b"
            ],
            [
             0.6666666666666666,
             "#ed7953"
            ],
            [
             0.7777777777777778,
             "#fb9f3a"
            ],
            [
             0.8888888888888888,
             "#fdca26"
            ],
            [
             1,
             "#f0f921"
            ]
           ]
          },
          "colorway": [
           "#636efa",
           "#EF553B",
           "#00cc96",
           "#ab63fa",
           "#FFA15A",
           "#19d3f3",
           "#FF6692",
           "#B6E880",
           "#FF97FF",
           "#FECB52"
          ],
          "font": {
           "color": "#2a3f5f"
          },
          "geo": {
           "bgcolor": "white",
           "lakecolor": "white",
           "landcolor": "#E5ECF6",
           "showlakes": true,
           "showland": true,
           "subunitcolor": "white"
          },
          "hoverlabel": {
           "align": "left"
          },
          "hovermode": "closest",
          "mapbox": {
           "style": "light"
          },
          "paper_bgcolor": "white",
          "plot_bgcolor": "#E5ECF6",
          "polar": {
           "angularaxis": {
            "gridcolor": "white",
            "linecolor": "white",
            "ticks": ""
           },
           "bgcolor": "#E5ECF6",
           "radialaxis": {
            "gridcolor": "white",
            "linecolor": "white",
            "ticks": ""
           }
          },
          "scene": {
           "xaxis": {
            "backgroundcolor": "#E5ECF6",
            "gridcolor": "white",
            "gridwidth": 2,
            "linecolor": "white",
            "showbackground": true,
            "ticks": "",
            "zerolinecolor": "white"
           },
           "yaxis": {
            "backgroundcolor": "#E5ECF6",
            "gridcolor": "white",
            "gridwidth": 2,
            "linecolor": "white",
            "showbackground": true,
            "ticks": "",
            "zerolinecolor": "white"
           },
           "zaxis": {
            "backgroundcolor": "#E5ECF6",
            "gridcolor": "white",
            "gridwidth": 2,
            "linecolor": "white",
            "showbackground": true,
            "ticks": "",
            "zerolinecolor": "white"
           }
          },
          "shapedefaults": {
           "line": {
            "color": "#2a3f5f"
           }
          },
          "ternary": {
           "aaxis": {
            "gridcolor": "white",
            "linecolor": "white",
            "ticks": ""
           },
           "baxis": {
            "gridcolor": "white",
            "linecolor": "white",
            "ticks": ""
           },
           "bgcolor": "#E5ECF6",
           "caxis": {
            "gridcolor": "white",
            "linecolor": "white",
            "ticks": ""
           }
          },
          "title": {
           "x": 0.05
          },
          "xaxis": {
           "automargin": true,
           "gridcolor": "white",
           "linecolor": "white",
           "ticks": "",
           "title": {
            "standoff": 15
           },
           "zerolinecolor": "white",
           "zerolinewidth": 2
          },
          "yaxis": {
           "automargin": true,
           "gridcolor": "white",
           "linecolor": "white",
           "ticks": "",
           "title": {
            "standoff": 15
           },
           "zerolinecolor": "white",
           "zerolinewidth": 2
          }
         }
        },
        "title": {
         "font": {
          "color": "#4D5663"
         }
        },
        "xaxis": {
         "gridcolor": "#E1E5ED",
         "showgrid": true,
         "tickfont": {
          "color": "#4D5663"
         },
         "title": {
          "font": {
           "color": "#4D5663"
          },
          "text": ""
         },
         "zerolinecolor": "#E1E5ED"
        },
        "yaxis": {
         "gridcolor": "#E1E5ED",
         "showgrid": true,
         "tickfont": {
          "color": "#4D5663"
         },
         "title": {
          "font": {
           "color": "#4D5663"
          },
          "text": ""
         },
         "zerolinecolor": "#E1E5ED"
        }
       }
      },
      "text/html": [
       "<div>                            <div id=\"5b34b593-c632-4ba6-a90c-5ff8543d97d1\" class=\"plotly-graph-div\" style=\"height:525px; width:100%;\"></div>            <script type=\"text/javascript\">                require([\"plotly\"], function(Plotly) {                    window.PLOTLYENV=window.PLOTLYENV || {};\n",
       "                    window.PLOTLYENV.BASE_URL='https://plot.ly';                                    if (document.getElementById(\"5b34b593-c632-4ba6-a90c-5ff8543d97d1\")) {                    Plotly.newPlot(                        \"5b34b593-c632-4ba6-a90c-5ff8543d97d1\",                        [{\"marker\":{\"color\":\"rgba(255, 153, 51, 0.6)\",\"line\":{\"color\":\"rgba(255, 153, 51, 1.0)\",\"width\":1}},\"name\":\"None\",\"orientation\":\"v\",\"text\":\"\",\"x\":[\"(0.0,0.0,Argentina)\",\"(2.0,1.0,Mexico)\",\"(2.0,1.0,Spain)\",\"(2.0,1.0,Italy)\",\"(1.0,0.0,England)\",\"(2.0,1.0,Colombia)\",\"(0.0,0.0,England)\",\"(2.0,1.0,England)\",\"(2.0,0.0,Chile)\",\"(1.0,0.0,Argentina)\",\"(1.0,0.0,Austria)\",\"(1.0,0.0,Belgium)\",\"(2.0,1.0,Hungary)\",\"(0.0,1.0,Spain)\",\"(3.0,1.0,Uruguay)\",\"(1.0,1.0,Argentina)\",\"(2.0,1.0,Czechoslovakia)\",\"(2.0,1.0,C te d' Ivoire)\",\"(2.0,1.0,Brazil)\",\"(2.0,1.0,Soviet Union)\",\"(0.0,1.0,France)\",\"(2.0,1.0,USA)\",\"(0.0,1.0,Germany)\",\"(2.0,1.0,Yugoslavia)\",\"(1.0,0.0,Paraguay)\",\"(0.0,0.0,Italy)\",\"(1.0,0.0,Croatia)\",\"(3.0,1.0,Brazil)\",\"(1.0,1.0,Chile)\",\"(1.0,0.0,Czechoslovakia)\",\"(1.0,1.0,Cameroon)\",\"(2.0,1.0,France)\",\"(1.0,0.0,France)\",\"(2.0,0.0,Czechoslovakia)\",\"(0.0,1.0,Uruguay)\",\"(4.0,1.0,Mexico)\",\"(2.0,0.0,Bulgaria)\",\"(1.0,0.0,Uruguay)\",\"(1.0,0.0,Scotland)\",\"(2.0,0.0,Soviet Union)\",\"(1.0,0.0,USA)\",\"(2.0,0.0,Switzerland)\",\"(1.0,0.0,Tunisia)\",\"(1.0,0.0,Switzerland)\",\"(2.0,0.0,Uruguay)\",\"(1.0,0.0,Sweden)\",\"(1.0,0.0,Spain)\",\"(0.0,2.0,Italy)\",\"(2.0,0.0,Yugoslavia)\",\"(3.0,0.0,Switzerland)\",\"(1.0,2.0,Italy)\",\"(0.0,0.0,France)\",\"(3.0,1.0,Mexico)\",\"(3.0,2.0,Argentina)\",\"(2.0,2.0,England)\",\"(1.0,1.0,Mexico)\",\"(2.0,1.0,Romania)\",\"(3.0,2.0,France)\",\"(0.0,0.0,Uruguay)\",\"(1.0,1.0,Korea Republic)\",\"(1.0,1.0,Italy)\",\"(3.0,1.0,Hungary)\",\"(1.0,1.0,USA)\",\"(2.0,1.0,Nigeria)\",\"(0.0,0.0,Poland)\",\"(0.0,0.0,Mexico)\",\"(0.0,0.0,Bulgaria)\",\"(0.0,0.0,Brazil)\",\"(1.0,1.0,rn\\\">Republic of Ireland)\",\"(1.0,2.0,Spain)\",\"(2.0,1.0,Scotland)\",\"(1.0,0.0,Netherlands)\",\"(3.0,2.0,Netherlands)\",\"(1.0,0.0,Mexico)\",\"(1.0,0.0,Norway)\",\"(1.0,1.0,Yugoslavia)\",\"(1.0,1.0,Wales)\",\"(1.0,0.0,Peru)\",\"(1.0,0.0,Nigeria)\",\"(1.0,2.0,Brazil)\",\"(4.0,0.0,Greece)\",\"(4.0,0.0,Mexico)\",\"(1.0,0.0,Japan)\",\"(1.0,0.0,Italy)\",\"(2.0,0.0,Canada)\",\"(4.0,0.0,Poland)\",\"(1.0,0.0,Germany FR)\",\"(1.0,2.0,Croatia)\",\"(1.0,2.0,Denmark)\",\"(2.0,0.0,El Salvador)\",\"(2.0,0.0,France)\",\"(1.0,2.0,Netherlands)\",\"(3.0,1.0,Peru)\",\"(1.0,0.0,Portugal)\",\"(1.0,1.0,Sweden)\",\"(2.0,0.0,Belgium)\",\"(1.0,0.0,Russia)\",\"(1.0,1.0,Greece)\",\"(1.0,3.0,Paraguay)\",\"(1.0,1.0,German DR)\",\"(3.0,2.0,Italy)\",\"(1.0,1.0,France)\",\"(1.0,4.0,Brazil)\",\"(1.0,1.0,Czechoslovakia)\",\"(3.0,2.0,Germany FR)\",\"(1.0,0.0,Colombia)\",\"(1.0,1.0,Bulgaria)\",\"(2.0,2.0,Northern Ireland)\",\"(1.0,1.0,Belgium)\",\"(1.0,1.0,Austria)\",\"(1.0,3.0,Mexico)\",\"(1.0,0.0,Yugoslavia)\",\"(1.0,1.0,Netherlands)\",\"(3.0,1.0,Czechoslovakia)\",\"(1.0,1.0,Northern Ireland)\",\"(1.0,1.0,Paraguay)\",\"(3.0,1.0,France)\",\"(1.0,7.0,Germany)\",\"(3.0,1.0,Germany FR)\",\"(2.0,0.0,Australia)\",\"(1.0,1.0,Spain)\",\"(1.0,3.0,Spain)\",\"(4.0,0.0,Bolivia)\",\"(3.0,1.0,USA)\",\"(4.0,1.0,Belgium)\",\"(1.0,0.0,Algeria)\",\"(4.0,1.0,Chile)\",\"(1.0,0.0,Cameroon)\",\"(0.0,1.0,Croatia)\",\"(2.0,1.0,Morocco)\",\"(0.0,1.0,Denmark)\",\"(0.0,1.0,England)\",\"(0.0,1.0,Germany FR)\",\"(0.0,1.0,Mexico)\",\"(2.0,1.0,Ecuador)\",\"(0.0,2.0,France)\",\"(0.0,1.0,Turkey)\",\"(0.0,1.0,Yugoslavia)\",\"(3.0,0.0,Belgium)\",\"(3.0,0.0,Bulgaria)\",\"(0.0,2.0,Colombia)\",\"(3.0,0.0,Cameroon)\",\"(2.0,3.0,Netherlands)\",\"(0.0,1.0,Brazil)\",\"(0.0,1.0,Belgium)\",\"(6.0,1.0,Bulgaria)\",\"(0.0,0.0,Sweden)\",\"(0.0,0.0,Spain)\",\"(0.0,0.0,Soviet Union)\",\"(0.0,0.0,Portugal)\",\"(2.0,1.0,Sweden)\",\"(2.0,1.0,Switzerland)\",\"(2.0,2.0,Sweden)\",\"(2.0,2.0,Belgium)\",\"(2.0,2.0,Saudi Arabia)\",\"(0.0,0.0,Costa Rica)\",\"(0.0,0.0,Cameroon)\",\"(2.0,2.0,Korea Republic)\",\"(2.0,2.0,Mexico)\",\"(2.0,1.0,Argentina)\",\"(0.0,1.0,Poland)\",\"(4.0,2.0,Sweden)\",\"(2.0,0.0,Tunisia)\",\"(0.0,3.0,Spain)\",\"(0.0,2.0,Germany FR)\",\"(0.0,3.0,Netherlands)\",\"(2.0,0.0,Korea Republic)\",\"(2.0,0.0,Mexico)\",\"(3.0,0.0,Mexico)\",\"(3.0,0.0,Morocco)\",\"(2.0,0.0,Nigeria)\",\"(0.0,3.0,France)\",\"(2.0,0.0,Poland)\",\"(0.0,3.0,Brazil)\",\"(4.0,1.0,Italy)\",\"(1.0,0.0,Bulgaria)\",\"(2.0,0.0,rn\\\">Trinidad and Tobago)\",\"(3.0,0.0,Paraguay)\",\"(0.0,2.0,Netherlands)\",\"(3.0,1.0,Japan)\",\"(3.0,0.0,Peru)\",\"(3.0,1.0,Germany)\",\"(3.0,0.0,Korea DPR)\",\"(3.0,1.0,Haiti)\",\"(3.0,1.0,Northern Ireland)\",\"(3.0,1.0,Netherlands)\",\"(3.0,0.0,New Zealand)\",\"(2.0,2.0,Paraguay)\",\"(3.0,1.0,IR Iran)\",\"(3.0,1.0,Paraguay)\",\"(2.0,2.0,Yugoslavia)\",\"(2.0,2.0,Portugal)\",\"(2.0,2.0,USA)\",\"(2.0,2.0,Switzerland)\",\"(3.0,0.0,Poland)\",\"(3.0,1.0,Korea Republic)\",\"(3.0,0.0,IR Iran)\",\"(2.0,2.0,South Africa)\",\"(3.0,1.0,Iran)\",\"(2.0,2.0,Scotland)\",\"(3.0,0.0,Netherlands)\",\"(2.0,2.0,Spain)\",\"(2.0,3.0,Italy)\",\"(3.0,1.0,England)\",\"(2.0,4.0,Algeria)\",\"(3.0,0.0,Chile)\",\"(3.0,0.0,China PR)\",\"(3.0,0.0,Ukraine)\",\"(3.0,0.0,Uruguay)\",\"(3.0,1.0,Argentina)\",\"(3.0,1.0,Australia)\",\"(3.0,0.0,Austria)\",\"(3.0,1.0,Belgium)\",\"(3.0,0.0,Costa Rica)\",\"(3.0,0.0,El Salvador)\",\"(2.0,5.0,France)\",\"(2.0,5.0,Brazil)\",\"(3.0,0.0,South Africa)\",\"(3.0,0.0,Honduras)\",\"(2.0,3.0,Turkey)\",\"(3.0,1.0,Bulgaria)\",\"(3.0,1.0,C te d' Ivoire)\",\"(2.0,3.0,Spain)\",\"(3.0,0.0,Ghana)\",\"(3.0,0.0,Greece)\",\"(3.0,1.0,Chile)\",\"(2.0,3.0,Nigeria)\",\"(3.0,1.0,Croatia)\",\"(2.0,3.0,Germany)\",\"(2.0,3.0,Brazil)\",\"(2.0,3.0,Argentina)\",\"(0.0,0.0,Algeria)\",\"(3.0,2.0,Switzerland)\",\"(3.0,1.0,Poland)\",\"(5.0,0.0,Korea Republic)\",\"(5.0,2.0,USA)\",\"(5.0,2.0,Sweden)\",\"(5.0,2.0,New Zealand)\",\"(5.0,2.0,France)\",\"(5.0,2.0,Bulgaria)\",\"(5.0,2.0,Belgium)\",\"(5.0,1.0,rn\\\">United Arab Emirates)\",\"(5.0,1.0,Sweden)\",\"(5.0,1.0,Peru)\",\"(5.0,1.0,Austria)\",\"(5.0,0.0,Switzerland)\",\"(5.0,0.0,Mexico)\",\"(5.0,0.0,Jamaica)\",\"(6.0,0.0,Dutch East Indies)\",\"(5.0,0.0,Czechoslovakia)\",\"(5.0,0.0,Colombia)\",\"(4.0,4.0,Colombia)\",\"(4.0,4.0,Belgium)\",\"(4.0,3.0,Germany FR)\",\"(4.0,2.0,Uruguay)\",\"(4.0,2.0,Peru)\",\"(4.0,2.0,Hungary)\",\"(4.0,2.0,Germany FR)\",\"(4.0,2.0,Germany)\",\"(4.0,2.0,England)\",\"(4.0,2.0,Egypt)\",\"(5.0,3.0,Korea DPR)\",\"(6.0,0.0,Hungary)\",\"(3.0,1.0,Portugal)\",\"(7.0,0.0,Korea Republic)\",\"(9.0,0.0,Zaire)\",\"(9.0,0.0,Korea Republic)\",\"(8.0,3.0,Germany FR)\",\"(8.0,0.0,Saudi Arabia)\",\"(8.0,0.0,Cuba)\",\"(8.0,0.0,Bolivia)\",\"(7.0,5.0,Switzerland)\",\"(7.0,3.0,Paraguay)\",\"(7.0,2.0,Turkey)\",\"(7.0,1.0,USA)\",\"(7.0,1.0,Sweden)\",\"(7.0,0.0,Scotland)\",\"(7.0,0.0,Korea DPR)\",\"(6.0,0.0,Mexico)\",\"(6.0,5.0,Poland)\",\"(6.0,3.0,Mexico)\",\"(6.0,3.0,Germany FR)\",\"(6.0,1.0,Yugoslavia)\",\"(6.0,1.0,Uruguay)\",\"(6.0,1.0,USA)\",\"(6.0,1.0,Spain)\",\"(6.0,1.0,Cameroon)\",\"(6.0,1.0,Austria)\",\"(6.0,1.0,Argentina)\",\"(6.0,0.0,rn\\\">Serbia and Montenegro)\",\"(6.0,0.0,Peru)\",\"(4.0,2.0,Costa Rica)\",\"(4.0,2.0,Chile)\",\"(4.0,2.0,Brazil)\",\"(3.0,2.0,Denmark)\",\"(3.0,3.0,Romania)\",\"(3.0,3.0,France)\",\"(3.0,2.0,rn\\\">Serbia and Montenegro)\",\"(3.0,2.0,Sweden)\",\"(3.0,2.0,Scotland)\",\"(3.0,2.0,Russia)\",\"(3.0,2.0,Romania)\",\"(3.0,2.0,Portugal)\",\"(3.0,2.0,Mexico)\",\"(3.0,2.0,Korea Republic)\",\"(3.0,2.0,Hungary)\",\"(3.0,2.0,England)\",\"(3.0,2.0,Chile)\",\"(4.0,2.0,Belgium)\",\"(3.0,2.0,Cameroon)\",\"(3.0,2.0,Bulgaria)\",\"(3.0,2.0,Brazil)\",\"(3.0,2.0,Belgium)\",\"(3.0,2.0,Austria)\",\"(3.0,1.0,Yugoslavia)\",\"(3.0,1.0,Tunisia)\",\"(3.0,1.0,Switzerland)\",\"(3.0,1.0,Spain)\",\"(3.0,1.0,Slovenia)\",\"(3.0,1.0,Scotland)\",\"(3.0,1.0,Russia)\",\"(3.0,3.0,Uruguay)\",\"(3.0,3.0,Yugoslavia)\",\"(3.0,4.0,Belgium)\",\"(4.0,0.0,Argentina)\",\"(4.0,2.0,Argentina)\",\"(4.0,1.0,rn\\\">United Arab Emirates)\",\"(4.0,1.0,Yugoslavia)\",\"(4.0,1.0,Turkey)\",\"(4.0,1.0,Scotland)\",\"(4.0,1.0,Northern Ireland)\",\"(4.0,1.0,Kuwait)\",\"(4.0,1.0,Korea Republic)\",\"(4.0,1.0,Iran)\",\"(4.0,1.0,Hungary)\",\"(4.0,1.0,Haiti)\",\"(4.0,1.0,England)\",\"(4.0,1.0,Czechoslovakia)\",\"(4.0,1.0,Costa Rica)\",\"(4.0,0.0,Uruguay)\",\"(4.0,0.0,Ukraine)\",\"(4.0,0.0,Saudi Arabia)\",\"(4.0,0.0,Romania)\",\"(4.0,0.0,Portugal)\",\"(4.0,0.0,Northern Ireland)\",\"(4.0,0.0,New Zealand)\",\"(4.0,0.0,El Salvador)\",\"(4.0,0.0,China PR)\",\"(4.0,0.0,Bulgaria)\",\"(4.0,0.0,Australia)\",\"(2.0,2.0,Norway)\",\"(2.0,0.0,Honduras)\",\"(2.0,2.0,Netherlands)\",\"(0.0,3.0,Czech Republic)\",\"(0.0,4.0,Soviet Union)\",\"(0.0,4.0,Germany)\",\"(0.0,4.0,Croatia)\",\"(0.0,3.0,rn\\\">Republic of Ireland)\",\"(0.0,3.0,Uruguay)\",\"(0.0,3.0,Switzerland)\",\"(0.0,3.0,Morocco)\",\"(0.0,3.0,Germany FR)\",\"(0.0,3.0,Germany)\",\"(0.0,3.0,England)\",\"(0.0,3.0,Croatia)\",\"(0.0,7.0,Poland)\",\"(0.0,3.0,C te d' Ivoire)\",\"(0.0,2.0,USA)\",\"(0.0,2.0,Switzerland)\",\"(0.0,2.0,Scotland)\",\"(0.0,2.0,Romania)\",\"(0.0,2.0,Paraguay)\",\"(0.0,2.0,Nigeria)\",\"(0.0,2.0,Mexico)\",\"(0.0,2.0,Japan)\",\"(0.0,2.0,Ghana)\",\"(0.0,4.0,Ukraine)\",\"(1.0,0.0,Australia)\",\"(0.0,2.0,England)\",\"(1.0,0.0,Kuwait)\",\"(1.0,0.0,rn\\\">Republic of Ireland)\",\"(1.0,0.0,rn\\\">Bosnia and Herzegovina)\",\"(1.0,0.0,Wales)\",\"(1.0,0.0,Turkey)\",\"(1.0,0.0,Soviet Union)\",\"(1.0,0.0,Slovenia)\",\"(1.0,0.0,Saudi Arabia)\",\"(1.0,0.0,Romania)\",\"(1.0,0.0,Poland)\",\"(1.0,0.0,Morocco)\",\"(1.0,0.0,Korea Republic)\",\"(1.0,0.0,Bolivia)\",\"(1.0,0.0,Iraq)\",\"(1.0,0.0,Iran)\",\"(1.0,0.0,IR Iran)\",\"(1.0,0.0,Hungary)\",\"(1.0,0.0,German DR)\",\"(1.0,0.0,El Salvador)\",\"(1.0,0.0,Egypt)\",\"(1.0,0.0,Ecuador)\",\"(1.0,0.0,Costa Rica)\",\"(1.0,0.0,Chile)\",\"(0.0,2.0,Germany)\",\"(0.0,2.0,Ecuador)\",\"(2.0,2.0,Ghana)\",\"(0.0,0.0,Morocco)\",\"(0.0,0.0,Tunisia)\",\"(0.0,0.0,Switzerland)\",\"(0.0,0.0,Romania)\",\"(0.0,0.0,Peru)\",\"(0.0,0.0,Paraguay)\",\"(0.0,0.0,Norway)\",\"(0.0,0.0,Northern Ireland)\",\"(0.0,0.0,Nigeria)\",\"(0.0,0.0,New Zealand)\",\"(0.0,0.0,Netherlands)\",\"(0.0,0.0,Korea Republic)\",\"(0.0,0.0,Wales)\",\"(0.0,0.0,Japan)\",\"(0.0,0.0,Israel)\",\"(0.0,0.0,Honduras)\",\"(0.0,0.0,Greece)\",\"(0.0,0.0,Egypt)\",\"(0.0,0.0,Czechoslovakia)\",\"(0.0,0.0,Croatia)\",\"(0.0,0.0,Chile)\",\"(0.0,0.0,Bolivia)\",\"(0.0,0.0,Belgium)\",\"(0.0,0.0,Ukraine)\",\"(0.0,0.0,Yugoslavia)\",\"(0.0,2.0,Costa Rica)\",\"(0.0,1.0,Senegal)\",\"(0.0,2.0,Chile)\",\"(0.0,2.0,Bulgaria)\",\"(0.0,2.0,Brazil)\",\"(0.0,2.0,Austria)\",\"(0.0,2.0,Argentina)\",\"(0.0,1.0,rn\\\">Republic of Ireland)\",\"(0.0,1.0,Switzerland)\",\"(0.0,1.0,Soviet Union)\",\"(0.0,1.0,Slovenia)\",\"(0.0,1.0,Serbia)\",\"(0.0,1.0,Saudi Arabia)\",\"(0.0,1.0,Argentina)\",\"(0.0,1.0,Romania)\",\"(0.0,1.0,Portugal)\",\"(0.0,1.0,Netherlands)\",\"(0.0,1.0,Korea Republic)\",\"(0.0,1.0,Ghana)\",\"(0.0,1.0,Czechoslovakia)\",\"(0.0,1.0,Costa Rica)\",\"(0.0,1.0,Chile)\",\"(0.0,1.0,Cameroon)\",\"(0.0,1.0,Austria)\",\"(1.0,1.0,Angola)\",\"(1.0,1.0,Australia)\",\"(1.0,1.0,Brazil)\",\"(2.0,0.0,Ghana)\",\"(2.0,0.0,USA)\",\"(2.0,0.0,Sweden)\",\"(2.0,0.0,Russia)\",\"(2.0,0.0,Paraguay)\",\"(2.0,0.0,Italy)\",\"(2.0,0.0,Israel)\",\"(2.0,0.0,Iran)\",\"(2.0,0.0,IR Iran)\",\"(0.0,0.0,Angola)\",\"(2.0,0.0,Greece)\",\"(2.0,0.0,Germany FR)\",\"(2.0,1.0,Algeria)\",\"(2.0,0.0,Ecuador)\",\"(2.0,0.0,Denmark)\",\"(2.0,0.0,Brazil)\",\"(2.0,0.0,Austria)\",\"(1.0,5.0,Spain)\",\"(1.0,5.0,Netherlands)\",\"(1.0,5.0,Czechoslovakia)\",\"(1.0,4.0,Switzerland)\",\"(1.0,4.0,Netherlands)\",\"(1.0,4.0,Denmark)\",\"(2.0,0.0,rn\\\">Republic of Ireland)\",\"(2.0,1.0,Austria)\",\"(1.0,1.0,Colombia)\",\"(2.0,1.0,Serbia)\",\"(2.0,2.0,Czechoslovakia)\",\"(2.0,2.0,Chile)\",\"(2.0,2.0,Austria)\",\"(2.0,2.0,Australia)\",\"(2.0,1.0,rn\\\">Republic of Ireland)\",\"(2.0,1.0,rn\\\">Bosnia and Herzegovina)\",\"(2.0,1.0,Uruguay)\",\"(2.0,1.0,Turkey)\",\"(2.0,1.0,Togo)\",\"(2.0,1.0,Slovakia)\",\"(2.0,1.0,Saudi Arabia)\",\"(2.0,1.0,Chile)\",\"(2.0,1.0,Portugal)\",\"(2.0,1.0,Norway)\",\"(2.0,1.0,Netherlands)\",\"(2.0,1.0,Korea Republic)\",\"(2.0,1.0,Korea DPR)\",\"(2.0,1.0,Japan)\",\"(2.0,1.0,Ghana)\",\"(2.0,1.0,Germany)\",\"(2.0,1.0,Denmark)\",\"(2.0,1.0,Croatia)\",\"(1.0,4.0,Colombia)\",\"(1.0,3.0,Sweden)\",\"(1.0,3.0,Romania)\",\"(1.0,1.0,Morocco)\",\"(1.0,1.0,Switzerland)\",\"(1.0,1.0,Soviet Union)\",\"(1.0,1.0,Slovakia)\",\"(1.0,1.0,Senegal)\",\"(1.0,1.0,Scotland)\",\"(1.0,1.0,Russia)\",\"(1.0,1.0,Romania)\",\"(1.0,1.0,Peru)\",\"(1.0,1.0,Norway)\",\"(1.0,1.0,New Zealand)\",\"(1.0,1.0,Kuwait)\",\"(1.0,3.0,Morocco)\",\"(1.0,1.0,Israel)\",\"(1.0,1.0,IR Iran)\",\"(1.0,1.0,Hungary)\",\"(1.0,1.0,Honduras)\",\"(1.0,1.0,Ghana)\",\"(1.0,1.0,Germany FR)\",\"(1.0,1.0,Germany)\",\"(1.0,1.0,England)\",\"(1.0,1.0,Egypt)\",\"(1.0,1.0,Denmark)\",\"(1.0,1.0,Tunisia)\",\"(1.0,1.0,Turkey)\",\"(1.0,1.0,Uruguay)\",\"(1.0,2.0,Algeria)\",\"(1.0,3.0,Japan)\",\"(1.0,3.0,Germany FR)\",\"(1.0,3.0,France)\",\"(1.0,3.0,Croatia)\",\"(1.0,3.0,Costa Rica)\",\"(1.0,3.0,Brazil)\",\"(1.0,2.0,Yugoslavia)\",\"(1.0,2.0,USA)\",\"(1.0,2.0,South Africa)\",\"(1.0,2.0,Senegal)\",\"(1.0,2.0,Scotland)\",\"(1.0,2.0,Poland)\",\"(1.0,2.0,Norway)\",\"(1.0,2.0,Mexico)\",\"(1.0,2.0,Jamaica)\",\"(1.0,2.0,Iran)\",\"(1.0,2.0,Ghana)\",\"(1.0,2.0,Germany FR)\",\"(1.0,2.0,Ecuador)\",\"(1.0,2.0,Costa Rica)\",\"(1.0,2.0,Belgium)\",\"(10.0,1.0,El Salvador)\"],\"y\":[6,6,6,5,5,5,5,5,5,5,5,5,5,4,4,4,4,4,4,4,4,4,4,4,4,4,3,3,3,3,3,3,3,3,3,3,3,3,3,3,3,3,3,3,3,3,3,3,3,3,3,3,3,3,3,3,3,3,3,3,3,3,3,3,3,3,3,3,3,3,3,2,2,2,2,2,2,2,2,2,2,2,2,2,2,2,2,2,2,2,2,2,2,2,2,2,2,2,2,2,2,2,2,2,2,2,2,2,2,2,2,2,2,2,2,2,2,2,2,2,2,2,2,2,2,2,2,2,2,2,2,2,2,2,2,2,2,2,2,2,2,2,2,2,2,2,2,2,2,2,2,2,2,2,2,2,2,2,2,2,2,2,2,2,2,2,2,2,2,2,2,2,2,2,2,2,2,2,2,1,1,1,1,1,1,1,1,1,1,1,1,1,1,1,1,1,1,1,1,1,1,1,1,1,1,1,1,1,1,1,1,1,1,1,1,1,1,1,1,1,1,1,1,1,1,1,1,1,1,1,1,1,1,1,1,1,1,1,1,1,1,1,1,1,1,1,1,1,1,1,1,1,1,1,1,1,1,1,1,1,1,1,1,1,1,1,1,1,1,1,1,1,1,1,1,1,1,1,1,1,1,1,1,1,1,1,1,1,1,1,1,1,1,1,1,1,1,1,1,1,1,1,1,1,1,1,1,1,1,1,1,1,1,1,1,1,1,1,1,1,1,1,1,1,1,1,1,1,1,1,1,1,1,1,1,1,1,1,1,1,1,1,1,1,1,1,1,1,1,1,1,1,1,1,1,1,1,1,1,1,1,1,1,1,1,1,1,1,1,1,1,1,1,1,1,1,1,1,1,1,1,1,1,1,1,1,1,1,1,1,1,1,1,1,1,1,1,1,1,1,1,1,1,1,1,1,1,1,1,1,1,1,1,1,1,1,1,1,1,1,1,1,1,1,1,1,1,1,1,1,1,1,1,1,1,1,1,1,1,1,1,1,1,1,1,1,1,1,1,1,1,1,1,1,1,1,1,1,1,1,1,1,1,1,1,1,1,1,1,1,1,1,1,1,1,1,1,1,1,1,1,1,1,1,1,1,1,1,1,1,1,1,1,1,1,1,1,1,1,1,1,1,1,1,1,1,1,1,1,1,1,1,1,1,1,1,1,1,1,1,1,1,1,1,1,1,1,1,1,1,1,1,1,1,1,1,1,1,1,1,1,1,1,1,1,1,1,1,1,1,1,1,1,1,1,1,1,1],\"type\":\"bar\"}],                        {\"legend\":{\"bgcolor\":\"#F5F6F9\",\"font\":{\"color\":\"#4D5663\"}},\"paper_bgcolor\":\"#F5F6F9\",\"plot_bgcolor\":\"#F5F6F9\",\"template\":{\"data\":{\"barpolar\":[{\"marker\":{\"line\":{\"color\":\"#E5ECF6\",\"width\":0.5},\"pattern\":{\"fillmode\":\"overlay\",\"size\":10,\"solidity\":0.2}},\"type\":\"barpolar\"}],\"bar\":[{\"error_x\":{\"color\":\"#2a3f5f\"},\"error_y\":{\"color\":\"#2a3f5f\"},\"marker\":{\"line\":{\"color\":\"#E5ECF6\",\"width\":0.5},\"pattern\":{\"fillmode\":\"overlay\",\"size\":10,\"solidity\":0.2}},\"type\":\"bar\"}],\"carpet\":[{\"aaxis\":{\"endlinecolor\":\"#2a3f5f\",\"gridcolor\":\"white\",\"linecolor\":\"white\",\"minorgridcolor\":\"white\",\"startlinecolor\":\"#2a3f5f\"},\"baxis\":{\"endlinecolor\":\"#2a3f5f\",\"gridcolor\":\"white\",\"linecolor\":\"white\",\"minorgridcolor\":\"white\",\"startlinecolor\":\"#2a3f5f\"},\"type\":\"carpet\"}],\"choropleth\":[{\"colorbar\":{\"outlinewidth\":0,\"ticks\":\"\"},\"type\":\"choropleth\"}],\"contourcarpet\":[{\"colorbar\":{\"outlinewidth\":0,\"ticks\":\"\"},\"type\":\"contourcarpet\"}],\"contour\":[{\"colorbar\":{\"outlinewidth\":0,\"ticks\":\"\"},\"colorscale\":[[0.0,\"#0d0887\"],[0.1111111111111111,\"#46039f\"],[0.2222222222222222,\"#7201a8\"],[0.3333333333333333,\"#9c179e\"],[0.4444444444444444,\"#bd3786\"],[0.5555555555555556,\"#d8576b\"],[0.6666666666666666,\"#ed7953\"],[0.7777777777777778,\"#fb9f3a\"],[0.8888888888888888,\"#fdca26\"],[1.0,\"#f0f921\"]],\"type\":\"contour\"}],\"heatmapgl\":[{\"colorbar\":{\"outlinewidth\":0,\"ticks\":\"\"},\"colorscale\":[[0.0,\"#0d0887\"],[0.1111111111111111,\"#46039f\"],[0.2222222222222222,\"#7201a8\"],[0.3333333333333333,\"#9c179e\"],[0.4444444444444444,\"#bd3786\"],[0.5555555555555556,\"#d8576b\"],[0.6666666666666666,\"#ed7953\"],[0.7777777777777778,\"#fb9f3a\"],[0.8888888888888888,\"#fdca26\"],[1.0,\"#f0f921\"]],\"type\":\"heatmapgl\"}],\"heatmap\":[{\"colorbar\":{\"outlinewidth\":0,\"ticks\":\"\"},\"colorscale\":[[0.0,\"#0d0887\"],[0.1111111111111111,\"#46039f\"],[0.2222222222222222,\"#7201a8\"],[0.3333333333333333,\"#9c179e\"],[0.4444444444444444,\"#bd3786\"],[0.5555555555555556,\"#d8576b\"],[0.6666666666666666,\"#ed7953\"],[0.7777777777777778,\"#fb9f3a\"],[0.8888888888888888,\"#fdca26\"],[1.0,\"#f0f921\"]],\"type\":\"heatmap\"}],\"histogram2dcontour\":[{\"colorbar\":{\"outlinewidth\":0,\"ticks\":\"\"},\"colorscale\":[[0.0,\"#0d0887\"],[0.1111111111111111,\"#46039f\"],[0.2222222222222222,\"#7201a8\"],[0.3333333333333333,\"#9c179e\"],[0.4444444444444444,\"#bd3786\"],[0.5555555555555556,\"#d8576b\"],[0.6666666666666666,\"#ed7953\"],[0.7777777777777778,\"#fb9f3a\"],[0.8888888888888888,\"#fdca26\"],[1.0,\"#f0f921\"]],\"type\":\"histogram2dcontour\"}],\"histogram2d\":[{\"colorbar\":{\"outlinewidth\":0,\"ticks\":\"\"},\"colorscale\":[[0.0,\"#0d0887\"],[0.1111111111111111,\"#46039f\"],[0.2222222222222222,\"#7201a8\"],[0.3333333333333333,\"#9c179e\"],[0.4444444444444444,\"#bd3786\"],[0.5555555555555556,\"#d8576b\"],[0.6666666666666666,\"#ed7953\"],[0.7777777777777778,\"#fb9f3a\"],[0.8888888888888888,\"#fdca26\"],[1.0,\"#f0f921\"]],\"type\":\"histogram2d\"}],\"histogram\":[{\"marker\":{\"pattern\":{\"fillmode\":\"overlay\",\"size\":10,\"solidity\":0.2}},\"type\":\"histogram\"}],\"mesh3d\":[{\"colorbar\":{\"outlinewidth\":0,\"ticks\":\"\"},\"type\":\"mesh3d\"}],\"parcoords\":[{\"line\":{\"colorbar\":{\"outlinewidth\":0,\"ticks\":\"\"}},\"type\":\"parcoords\"}],\"pie\":[{\"automargin\":true,\"type\":\"pie\"}],\"scatter3d\":[{\"line\":{\"colorbar\":{\"outlinewidth\":0,\"ticks\":\"\"}},\"marker\":{\"colorbar\":{\"outlinewidth\":0,\"ticks\":\"\"}},\"type\":\"scatter3d\"}],\"scattercarpet\":[{\"marker\":{\"colorbar\":{\"outlinewidth\":0,\"ticks\":\"\"}},\"type\":\"scattercarpet\"}],\"scattergeo\":[{\"marker\":{\"colorbar\":{\"outlinewidth\":0,\"ticks\":\"\"}},\"type\":\"scattergeo\"}],\"scattergl\":[{\"marker\":{\"colorbar\":{\"outlinewidth\":0,\"ticks\":\"\"}},\"type\":\"scattergl\"}],\"scattermapbox\":[{\"marker\":{\"colorbar\":{\"outlinewidth\":0,\"ticks\":\"\"}},\"type\":\"scattermapbox\"}],\"scatterpolargl\":[{\"marker\":{\"colorbar\":{\"outlinewidth\":0,\"ticks\":\"\"}},\"type\":\"scatterpolargl\"}],\"scatterpolar\":[{\"marker\":{\"colorbar\":{\"outlinewidth\":0,\"ticks\":\"\"}},\"type\":\"scatterpolar\"}],\"scatter\":[{\"fillpattern\":{\"fillmode\":\"overlay\",\"size\":10,\"solidity\":0.2},\"type\":\"scatter\"}],\"scatterternary\":[{\"marker\":{\"colorbar\":{\"outlinewidth\":0,\"ticks\":\"\"}},\"type\":\"scatterternary\"}],\"surface\":[{\"colorbar\":{\"outlinewidth\":0,\"ticks\":\"\"},\"colorscale\":[[0.0,\"#0d0887\"],[0.1111111111111111,\"#46039f\"],[0.2222222222222222,\"#7201a8\"],[0.3333333333333333,\"#9c179e\"],[0.4444444444444444,\"#bd3786\"],[0.5555555555555556,\"#d8576b\"],[0.6666666666666666,\"#ed7953\"],[0.7777777777777778,\"#fb9f3a\"],[0.8888888888888888,\"#fdca26\"],[1.0,\"#f0f921\"]],\"type\":\"surface\"}],\"table\":[{\"cells\":{\"fill\":{\"color\":\"#EBF0F8\"},\"line\":{\"color\":\"white\"}},\"header\":{\"fill\":{\"color\":\"#C8D4E3\"},\"line\":{\"color\":\"white\"}},\"type\":\"table\"}]},\"layout\":{\"annotationdefaults\":{\"arrowcolor\":\"#2a3f5f\",\"arrowhead\":0,\"arrowwidth\":1},\"autotypenumbers\":\"strict\",\"coloraxis\":{\"colorbar\":{\"outlinewidth\":0,\"ticks\":\"\"}},\"colorscale\":{\"diverging\":[[0,\"#8e0152\"],[0.1,\"#c51b7d\"],[0.2,\"#de77ae\"],[0.3,\"#f1b6da\"],[0.4,\"#fde0ef\"],[0.5,\"#f7f7f7\"],[0.6,\"#e6f5d0\"],[0.7,\"#b8e186\"],[0.8,\"#7fbc41\"],[0.9,\"#4d9221\"],[1,\"#276419\"]],\"sequential\":[[0.0,\"#0d0887\"],[0.1111111111111111,\"#46039f\"],[0.2222222222222222,\"#7201a8\"],[0.3333333333333333,\"#9c179e\"],[0.4444444444444444,\"#bd3786\"],[0.5555555555555556,\"#d8576b\"],[0.6666666666666666,\"#ed7953\"],[0.7777777777777778,\"#fb9f3a\"],[0.8888888888888888,\"#fdca26\"],[1.0,\"#f0f921\"]],\"sequentialminus\":[[0.0,\"#0d0887\"],[0.1111111111111111,\"#46039f\"],[0.2222222222222222,\"#7201a8\"],[0.3333333333333333,\"#9c179e\"],[0.4444444444444444,\"#bd3786\"],[0.5555555555555556,\"#d8576b\"],[0.6666666666666666,\"#ed7953\"],[0.7777777777777778,\"#fb9f3a\"],[0.8888888888888888,\"#fdca26\"],[1.0,\"#f0f921\"]]},\"colorway\":[\"#636efa\",\"#EF553B\",\"#00cc96\",\"#ab63fa\",\"#FFA15A\",\"#19d3f3\",\"#FF6692\",\"#B6E880\",\"#FF97FF\",\"#FECB52\"],\"font\":{\"color\":\"#2a3f5f\"},\"geo\":{\"bgcolor\":\"white\",\"lakecolor\":\"white\",\"landcolor\":\"#E5ECF6\",\"showlakes\":true,\"showland\":true,\"subunitcolor\":\"white\"},\"hoverlabel\":{\"align\":\"left\"},\"hovermode\":\"closest\",\"mapbox\":{\"style\":\"light\"},\"paper_bgcolor\":\"white\",\"plot_bgcolor\":\"#E5ECF6\",\"polar\":{\"angularaxis\":{\"gridcolor\":\"white\",\"linecolor\":\"white\",\"ticks\":\"\"},\"bgcolor\":\"#E5ECF6\",\"radialaxis\":{\"gridcolor\":\"white\",\"linecolor\":\"white\",\"ticks\":\"\"}},\"scene\":{\"xaxis\":{\"backgroundcolor\":\"#E5ECF6\",\"gridcolor\":\"white\",\"gridwidth\":2,\"linecolor\":\"white\",\"showbackground\":true,\"ticks\":\"\",\"zerolinecolor\":\"white\"},\"yaxis\":{\"backgroundcolor\":\"#E5ECF6\",\"gridcolor\":\"white\",\"gridwidth\":2,\"linecolor\":\"white\",\"showbackground\":true,\"ticks\":\"\",\"zerolinecolor\":\"white\"},\"zaxis\":{\"backgroundcolor\":\"#E5ECF6\",\"gridcolor\":\"white\",\"gridwidth\":2,\"linecolor\":\"white\",\"showbackground\":true,\"ticks\":\"\",\"zerolinecolor\":\"white\"}},\"shapedefaults\":{\"line\":{\"color\":\"#2a3f5f\"}},\"ternary\":{\"aaxis\":{\"gridcolor\":\"white\",\"linecolor\":\"white\",\"ticks\":\"\"},\"baxis\":{\"gridcolor\":\"white\",\"linecolor\":\"white\",\"ticks\":\"\"},\"bgcolor\":\"#E5ECF6\",\"caxis\":{\"gridcolor\":\"white\",\"linecolor\":\"white\",\"ticks\":\"\"}},\"title\":{\"x\":0.05},\"xaxis\":{\"automargin\":true,\"gridcolor\":\"white\",\"linecolor\":\"white\",\"ticks\":\"\",\"title\":{\"standoff\":15},\"zerolinecolor\":\"white\",\"zerolinewidth\":2},\"yaxis\":{\"automargin\":true,\"gridcolor\":\"white\",\"linecolor\":\"white\",\"ticks\":\"\",\"title\":{\"standoff\":15},\"zerolinecolor\":\"white\",\"zerolinewidth\":2}}},\"title\":{\"font\":{\"color\":\"#4D5663\"}},\"xaxis\":{\"gridcolor\":\"#E1E5ED\",\"showgrid\":true,\"tickfont\":{\"color\":\"#4D5663\"},\"title\":{\"font\":{\"color\":\"#4D5663\"},\"text\":\"\"},\"zerolinecolor\":\"#E1E5ED\"},\"yaxis\":{\"gridcolor\":\"#E1E5ED\",\"showgrid\":true,\"tickfont\":{\"color\":\"#4D5663\"},\"title\":{\"font\":{\"color\":\"#4D5663\"},\"text\":\"\"},\"zerolinecolor\":\"#E1E5ED\"}},                        {\"showLink\": true, \"linkText\": \"Export to plot.ly\", \"plotlyServerURL\": \"https://plot.ly\", \"responsive\": true}                    ).then(function(){\n",
       "                            \n",
       "var gd = document.getElementById('5b34b593-c632-4ba6-a90c-5ff8543d97d1');\n",
       "var x = new MutationObserver(function (mutations, observer) {{\n",
       "        var display = window.getComputedStyle(gd).display;\n",
       "        if (!display || display === 'none') {{\n",
       "            console.log([gd, 'removed!']);\n",
       "            Plotly.purge(gd);\n",
       "            observer.disconnect();\n",
       "        }}\n",
       "}});\n",
       "\n",
       "// Listen for the removal of the full notebook cells\n",
       "var notebookContainer = gd.closest('#notebook-container');\n",
       "if (notebookContainer) {{\n",
       "    x.observe(notebookContainer, {childList: true});\n",
       "}}\n",
       "\n",
       "// Listen for the clearing of the current output cell\n",
       "var outputEl = gd.closest('.output');\n",
       "if (outputEl) {{\n",
       "    x.observe(outputEl, {childList: true});\n",
       "}}\n",
       "\n",
       "                        })                };                });            </script>        </div>"
      ]
     },
     "metadata": {},
     "output_type": "display_data"
    }
   ],
   "source": [
    "df1[['Home Team Goals','Away Team Goals','Away Team Name']].value_counts().iplot(kind='bar')"
   ]
  },
  {
   "cell_type": "markdown",
   "metadata": {},
   "source": [
    "Argentina has the height count"
   ]
  },
  {
   "cell_type": "code",
   "execution_count": 81,
   "metadata": {},
   "outputs": [
    {
     "data": {
      "application/vnd.plotly.v1+json": {
       "config": {
        "linkText": "Export to plot.ly",
        "plotlyServerURL": "https://plot.ly",
        "showLink": true
       },
       "data": [
        {
         "marker": {
          "color": "rgba(255, 153, 51, 0.6)",
          "line": {
           "color": "rgba(255, 153, 51, 1.0)",
           "width": 1
          }
         },
         "name": "Win conditions",
         "orientation": "v",
         "text": "",
         "type": "bar",
         "x": [
          " ",
          "Italy win after extra time ",
          "Argentina win after extra time ",
          "Belgium win after extra time ",
          "Win on Golden Goal ",
          "England win after extra time ",
          "Brazil win on penalties (3 - 2) ",
          "Netherlands win on penalties (4 - 3) ",
          "Argentina win on penalties (2 - 4) ",
          "Germany win after extra time ",
          "France win after extra time ",
          "France win on penalties (3 - 4) ",
          "Costa Rica win on penalties (5 - 3) ",
          " win on penalties (5 - 4) ",
          "Germany FR win on penalties (4 - 1) ",
          "Brazil win after extra time ",
          "Czechoslovakia win after extra time ",
          "Hungary win after extra time ",
          "Spain win after extra time ",
          "Uruguay win on penalties (4 - 2) ",
          "Paraguay win on penalties (5 - 3) ",
          "Ghana win after extra time ",
          "Italy win on penalties (5 - 3) ",
          "Portugal win on penalties (1 - 3) ",
          "Germany win on penalties (4 - 2) ",
          "Ukraine win on penalties (0 - 3) ",
          "Korea Republic win on penalties (3 - 5) ",
          "Northern Ireland win after extra time ",
          "Spain win on penalties (3 - 2) ",
          "Brazil win on penalties (4 - 2) ",
          "Argentina win on penalties (4 - 3) ",
          "Germany FR win after extra time ",
          "Sweden win on penalties (4 - 5) ",
          "Bulgaria win on penalties (1 - 3) ",
          " win on penalties (4 - 3) ",
          "Austria win after extra time ",
          " win on penalties (2 - 3) ",
          "Yugoslavia win after extra time ",
          "Republic of Ireland win on penalties (5 - 4) ",
          "Cameroon win after extra time ",
          "Uruguay win after extra time ",
          "Belgium win on penalties (4 - 5) ",
          " win on penalties (3 - 4) "
         ],
         "y": [
          787,
          5,
          4,
          3,
          3,
          3,
          3,
          2,
          2,
          2,
          2,
          2,
          2,
          1,
          1,
          1,
          1,
          1,
          1,
          1,
          1,
          1,
          1,
          1,
          1,
          1,
          1,
          1,
          1,
          1,
          1,
          1,
          1,
          1,
          1,
          1,
          1,
          1,
          1,
          1,
          1,
          1,
          1
         ]
        }
       ],
       "layout": {
        "legend": {
         "bgcolor": "#F5F6F9",
         "font": {
          "color": "#4D5663"
         }
        },
        "paper_bgcolor": "#F5F6F9",
        "plot_bgcolor": "#F5F6F9",
        "template": {
         "data": {
          "bar": [
           {
            "error_x": {
             "color": "#2a3f5f"
            },
            "error_y": {
             "color": "#2a3f5f"
            },
            "marker": {
             "line": {
              "color": "#E5ECF6",
              "width": 0.5
             },
             "pattern": {
              "fillmode": "overlay",
              "size": 10,
              "solidity": 0.2
             }
            },
            "type": "bar"
           }
          ],
          "barpolar": [
           {
            "marker": {
             "line": {
              "color": "#E5ECF6",
              "width": 0.5
             },
             "pattern": {
              "fillmode": "overlay",
              "size": 10,
              "solidity": 0.2
             }
            },
            "type": "barpolar"
           }
          ],
          "carpet": [
           {
            "aaxis": {
             "endlinecolor": "#2a3f5f",
             "gridcolor": "white",
             "linecolor": "white",
             "minorgridcolor": "white",
             "startlinecolor": "#2a3f5f"
            },
            "baxis": {
             "endlinecolor": "#2a3f5f",
             "gridcolor": "white",
             "linecolor": "white",
             "minorgridcolor": "white",
             "startlinecolor": "#2a3f5f"
            },
            "type": "carpet"
           }
          ],
          "choropleth": [
           {
            "colorbar": {
             "outlinewidth": 0,
             "ticks": ""
            },
            "type": "choropleth"
           }
          ],
          "contour": [
           {
            "colorbar": {
             "outlinewidth": 0,
             "ticks": ""
            },
            "colorscale": [
             [
              0,
              "#0d0887"
             ],
             [
              0.1111111111111111,
              "#46039f"
             ],
             [
              0.2222222222222222,
              "#7201a8"
             ],
             [
              0.3333333333333333,
              "#9c179e"
             ],
             [
              0.4444444444444444,
              "#bd3786"
             ],
             [
              0.5555555555555556,
              "#d8576b"
             ],
             [
              0.6666666666666666,
              "#ed7953"
             ],
             [
              0.7777777777777778,
              "#fb9f3a"
             ],
             [
              0.8888888888888888,
              "#fdca26"
             ],
             [
              1,
              "#f0f921"
             ]
            ],
            "type": "contour"
           }
          ],
          "contourcarpet": [
           {
            "colorbar": {
             "outlinewidth": 0,
             "ticks": ""
            },
            "type": "contourcarpet"
           }
          ],
          "heatmap": [
           {
            "colorbar": {
             "outlinewidth": 0,
             "ticks": ""
            },
            "colorscale": [
             [
              0,
              "#0d0887"
             ],
             [
              0.1111111111111111,
              "#46039f"
             ],
             [
              0.2222222222222222,
              "#7201a8"
             ],
             [
              0.3333333333333333,
              "#9c179e"
             ],
             [
              0.4444444444444444,
              "#bd3786"
             ],
             [
              0.5555555555555556,
              "#d8576b"
             ],
             [
              0.6666666666666666,
              "#ed7953"
             ],
             [
              0.7777777777777778,
              "#fb9f3a"
             ],
             [
              0.8888888888888888,
              "#fdca26"
             ],
             [
              1,
              "#f0f921"
             ]
            ],
            "type": "heatmap"
           }
          ],
          "heatmapgl": [
           {
            "colorbar": {
             "outlinewidth": 0,
             "ticks": ""
            },
            "colorscale": [
             [
              0,
              "#0d0887"
             ],
             [
              0.1111111111111111,
              "#46039f"
             ],
             [
              0.2222222222222222,
              "#7201a8"
             ],
             [
              0.3333333333333333,
              "#9c179e"
             ],
             [
              0.4444444444444444,
              "#bd3786"
             ],
             [
              0.5555555555555556,
              "#d8576b"
             ],
             [
              0.6666666666666666,
              "#ed7953"
             ],
             [
              0.7777777777777778,
              "#fb9f3a"
             ],
             [
              0.8888888888888888,
              "#fdca26"
             ],
             [
              1,
              "#f0f921"
             ]
            ],
            "type": "heatmapgl"
           }
          ],
          "histogram": [
           {
            "marker": {
             "pattern": {
              "fillmode": "overlay",
              "size": 10,
              "solidity": 0.2
             }
            },
            "type": "histogram"
           }
          ],
          "histogram2d": [
           {
            "colorbar": {
             "outlinewidth": 0,
             "ticks": ""
            },
            "colorscale": [
             [
              0,
              "#0d0887"
             ],
             [
              0.1111111111111111,
              "#46039f"
             ],
             [
              0.2222222222222222,
              "#7201a8"
             ],
             [
              0.3333333333333333,
              "#9c179e"
             ],
             [
              0.4444444444444444,
              "#bd3786"
             ],
             [
              0.5555555555555556,
              "#d8576b"
             ],
             [
              0.6666666666666666,
              "#ed7953"
             ],
             [
              0.7777777777777778,
              "#fb9f3a"
             ],
             [
              0.8888888888888888,
              "#fdca26"
             ],
             [
              1,
              "#f0f921"
             ]
            ],
            "type": "histogram2d"
           }
          ],
          "histogram2dcontour": [
           {
            "colorbar": {
             "outlinewidth": 0,
             "ticks": ""
            },
            "colorscale": [
             [
              0,
              "#0d0887"
             ],
             [
              0.1111111111111111,
              "#46039f"
             ],
             [
              0.2222222222222222,
              "#7201a8"
             ],
             [
              0.3333333333333333,
              "#9c179e"
             ],
             [
              0.4444444444444444,
              "#bd3786"
             ],
             [
              0.5555555555555556,
              "#d8576b"
             ],
             [
              0.6666666666666666,
              "#ed7953"
             ],
             [
              0.7777777777777778,
              "#fb9f3a"
             ],
             [
              0.8888888888888888,
              "#fdca26"
             ],
             [
              1,
              "#f0f921"
             ]
            ],
            "type": "histogram2dcontour"
           }
          ],
          "mesh3d": [
           {
            "colorbar": {
             "outlinewidth": 0,
             "ticks": ""
            },
            "type": "mesh3d"
           }
          ],
          "parcoords": [
           {
            "line": {
             "colorbar": {
              "outlinewidth": 0,
              "ticks": ""
             }
            },
            "type": "parcoords"
           }
          ],
          "pie": [
           {
            "automargin": true,
            "type": "pie"
           }
          ],
          "scatter": [
           {
            "fillpattern": {
             "fillmode": "overlay",
             "size": 10,
             "solidity": 0.2
            },
            "type": "scatter"
           }
          ],
          "scatter3d": [
           {
            "line": {
             "colorbar": {
              "outlinewidth": 0,
              "ticks": ""
             }
            },
            "marker": {
             "colorbar": {
              "outlinewidth": 0,
              "ticks": ""
             }
            },
            "type": "scatter3d"
           }
          ],
          "scattercarpet": [
           {
            "marker": {
             "colorbar": {
              "outlinewidth": 0,
              "ticks": ""
             }
            },
            "type": "scattercarpet"
           }
          ],
          "scattergeo": [
           {
            "marker": {
             "colorbar": {
              "outlinewidth": 0,
              "ticks": ""
             }
            },
            "type": "scattergeo"
           }
          ],
          "scattergl": [
           {
            "marker": {
             "colorbar": {
              "outlinewidth": 0,
              "ticks": ""
             }
            },
            "type": "scattergl"
           }
          ],
          "scattermapbox": [
           {
            "marker": {
             "colorbar": {
              "outlinewidth": 0,
              "ticks": ""
             }
            },
            "type": "scattermapbox"
           }
          ],
          "scatterpolar": [
           {
            "marker": {
             "colorbar": {
              "outlinewidth": 0,
              "ticks": ""
             }
            },
            "type": "scatterpolar"
           }
          ],
          "scatterpolargl": [
           {
            "marker": {
             "colorbar": {
              "outlinewidth": 0,
              "ticks": ""
             }
            },
            "type": "scatterpolargl"
           }
          ],
          "scatterternary": [
           {
            "marker": {
             "colorbar": {
              "outlinewidth": 0,
              "ticks": ""
             }
            },
            "type": "scatterternary"
           }
          ],
          "surface": [
           {
            "colorbar": {
             "outlinewidth": 0,
             "ticks": ""
            },
            "colorscale": [
             [
              0,
              "#0d0887"
             ],
             [
              0.1111111111111111,
              "#46039f"
             ],
             [
              0.2222222222222222,
              "#7201a8"
             ],
             [
              0.3333333333333333,
              "#9c179e"
             ],
             [
              0.4444444444444444,
              "#bd3786"
             ],
             [
              0.5555555555555556,
              "#d8576b"
             ],
             [
              0.6666666666666666,
              "#ed7953"
             ],
             [
              0.7777777777777778,
              "#fb9f3a"
             ],
             [
              0.8888888888888888,
              "#fdca26"
             ],
             [
              1,
              "#f0f921"
             ]
            ],
            "type": "surface"
           }
          ],
          "table": [
           {
            "cells": {
             "fill": {
              "color": "#EBF0F8"
             },
             "line": {
              "color": "white"
             }
            },
            "header": {
             "fill": {
              "color": "#C8D4E3"
             },
             "line": {
              "color": "white"
             }
            },
            "type": "table"
           }
          ]
         },
         "layout": {
          "annotationdefaults": {
           "arrowcolor": "#2a3f5f",
           "arrowhead": 0,
           "arrowwidth": 1
          },
          "autotypenumbers": "strict",
          "coloraxis": {
           "colorbar": {
            "outlinewidth": 0,
            "ticks": ""
           }
          },
          "colorscale": {
           "diverging": [
            [
             0,
             "#8e0152"
            ],
            [
             0.1,
             "#c51b7d"
            ],
            [
             0.2,
             "#de77ae"
            ],
            [
             0.3,
             "#f1b6da"
            ],
            [
             0.4,
             "#fde0ef"
            ],
            [
             0.5,
             "#f7f7f7"
            ],
            [
             0.6,
             "#e6f5d0"
            ],
            [
             0.7,
             "#b8e186"
            ],
            [
             0.8,
             "#7fbc41"
            ],
            [
             0.9,
             "#4d9221"
            ],
            [
             1,
             "#276419"
            ]
           ],
           "sequential": [
            [
             0,
             "#0d0887"
            ],
            [
             0.1111111111111111,
             "#46039f"
            ],
            [
             0.2222222222222222,
             "#7201a8"
            ],
            [
             0.3333333333333333,
             "#9c179e"
            ],
            [
             0.4444444444444444,
             "#bd3786"
            ],
            [
             0.5555555555555556,
             "#d8576b"
            ],
            [
             0.6666666666666666,
             "#ed7953"
            ],
            [
             0.7777777777777778,
             "#fb9f3a"
            ],
            [
             0.8888888888888888,
             "#fdca26"
            ],
            [
             1,
             "#f0f921"
            ]
           ],
           "sequentialminus": [
            [
             0,
             "#0d0887"
            ],
            [
             0.1111111111111111,
             "#46039f"
            ],
            [
             0.2222222222222222,
             "#7201a8"
            ],
            [
             0.3333333333333333,
             "#9c179e"
            ],
            [
             0.4444444444444444,
             "#bd3786"
            ],
            [
             0.5555555555555556,
             "#d8576b"
            ],
            [
             0.6666666666666666,
             "#ed7953"
            ],
            [
             0.7777777777777778,
             "#fb9f3a"
            ],
            [
             0.8888888888888888,
             "#fdca26"
            ],
            [
             1,
             "#f0f921"
            ]
           ]
          },
          "colorway": [
           "#636efa",
           "#EF553B",
           "#00cc96",
           "#ab63fa",
           "#FFA15A",
           "#19d3f3",
           "#FF6692",
           "#B6E880",
           "#FF97FF",
           "#FECB52"
          ],
          "font": {
           "color": "#2a3f5f"
          },
          "geo": {
           "bgcolor": "white",
           "lakecolor": "white",
           "landcolor": "#E5ECF6",
           "showlakes": true,
           "showland": true,
           "subunitcolor": "white"
          },
          "hoverlabel": {
           "align": "left"
          },
          "hovermode": "closest",
          "mapbox": {
           "style": "light"
          },
          "paper_bgcolor": "white",
          "plot_bgcolor": "#E5ECF6",
          "polar": {
           "angularaxis": {
            "gridcolor": "white",
            "linecolor": "white",
            "ticks": ""
           },
           "bgcolor": "#E5ECF6",
           "radialaxis": {
            "gridcolor": "white",
            "linecolor": "white",
            "ticks": ""
           }
          },
          "scene": {
           "xaxis": {
            "backgroundcolor": "#E5ECF6",
            "gridcolor": "white",
            "gridwidth": 2,
            "linecolor": "white",
            "showbackground": true,
            "ticks": "",
            "zerolinecolor": "white"
           },
           "yaxis": {
            "backgroundcolor": "#E5ECF6",
            "gridcolor": "white",
            "gridwidth": 2,
            "linecolor": "white",
            "showbackground": true,
            "ticks": "",
            "zerolinecolor": "white"
           },
           "zaxis": {
            "backgroundcolor": "#E5ECF6",
            "gridcolor": "white",
            "gridwidth": 2,
            "linecolor": "white",
            "showbackground": true,
            "ticks": "",
            "zerolinecolor": "white"
           }
          },
          "shapedefaults": {
           "line": {
            "color": "#2a3f5f"
           }
          },
          "ternary": {
           "aaxis": {
            "gridcolor": "white",
            "linecolor": "white",
            "ticks": ""
           },
           "baxis": {
            "gridcolor": "white",
            "linecolor": "white",
            "ticks": ""
           },
           "bgcolor": "#E5ECF6",
           "caxis": {
            "gridcolor": "white",
            "linecolor": "white",
            "ticks": ""
           }
          },
          "title": {
           "x": 0.05
          },
          "xaxis": {
           "automargin": true,
           "gridcolor": "white",
           "linecolor": "white",
           "ticks": "",
           "title": {
            "standoff": 15
           },
           "zerolinecolor": "white",
           "zerolinewidth": 2
          },
          "yaxis": {
           "automargin": true,
           "gridcolor": "white",
           "linecolor": "white",
           "ticks": "",
           "title": {
            "standoff": 15
           },
           "zerolinecolor": "white",
           "zerolinewidth": 2
          }
         }
        },
        "title": {
         "font": {
          "color": "#4D5663"
         },
         "text": "Winning condition"
        },
        "xaxis": {
         "gridcolor": "#E1E5ED",
         "showgrid": true,
         "tickfont": {
          "color": "#4D5663"
         },
         "title": {
          "font": {
           "color": "#4D5663"
          },
          "text": ""
         },
         "zerolinecolor": "#E1E5ED"
        },
        "yaxis": {
         "gridcolor": "#E1E5ED",
         "showgrid": true,
         "tickfont": {
          "color": "#4D5663"
         },
         "title": {
          "font": {
           "color": "#4D5663"
          },
          "text": ""
         },
         "zerolinecolor": "#E1E5ED"
        }
       }
      },
      "text/html": [
       "<div>                            <div id=\"3e47cef2-a584-433f-a09c-dcdcf55f555e\" class=\"plotly-graph-div\" style=\"height:525px; width:100%;\"></div>            <script type=\"text/javascript\">                require([\"plotly\"], function(Plotly) {                    window.PLOTLYENV=window.PLOTLYENV || {};\n",
       "                    window.PLOTLYENV.BASE_URL='https://plot.ly';                                    if (document.getElementById(\"3e47cef2-a584-433f-a09c-dcdcf55f555e\")) {                    Plotly.newPlot(                        \"3e47cef2-a584-433f-a09c-dcdcf55f555e\",                        [{\"marker\":{\"color\":\"rgba(255, 153, 51, 0.6)\",\"line\":{\"color\":\"rgba(255, 153, 51, 1.0)\",\"width\":1}},\"name\":\"Win conditions\",\"orientation\":\"v\",\"text\":\"\",\"x\":[\" \",\"Italy win after extra time \",\"Argentina win after extra time \",\"Belgium win after extra time \",\"Win on Golden Goal \",\"England win after extra time \",\"Brazil win on penalties (3 - 2) \",\"Netherlands win on penalties (4 - 3) \",\"Argentina win on penalties (2 - 4) \",\"Germany win after extra time \",\"France win after extra time \",\"France win on penalties (3 - 4) \",\"Costa Rica win on penalties (5 - 3) \",\" win on penalties (5 - 4) \",\"Germany FR win on penalties (4 - 1) \",\"Brazil win after extra time \",\"Czechoslovakia win after extra time \",\"Hungary win after extra time \",\"Spain win after extra time \",\"Uruguay win on penalties (4 - 2) \",\"Paraguay win on penalties (5 - 3) \",\"Ghana win after extra time \",\"Italy win on penalties (5 - 3) \",\"Portugal win on penalties (1 - 3) \",\"Germany win on penalties (4 - 2) \",\"Ukraine win on penalties (0 - 3) \",\"Korea Republic win on penalties (3 - 5) \",\"Northern Ireland win after extra time \",\"Spain win on penalties (3 - 2) \",\"Brazil win on penalties (4 - 2) \",\"Argentina win on penalties (4 - 3) \",\"Germany FR win after extra time \",\"Sweden win on penalties (4 - 5) \",\"Bulgaria win on penalties (1 - 3) \",\" win on penalties (4 - 3) \",\"Austria win after extra time \",\" win on penalties (2 - 3) \",\"Yugoslavia win after extra time \",\"Republic of Ireland win on penalties (5 - 4) \",\"Cameroon win after extra time \",\"Uruguay win after extra time \",\"Belgium win on penalties (4 - 5) \",\" win on penalties (3 - 4) \"],\"y\":[787,5,4,3,3,3,3,2,2,2,2,2,2,1,1,1,1,1,1,1,1,1,1,1,1,1,1,1,1,1,1,1,1,1,1,1,1,1,1,1,1,1,1],\"type\":\"bar\"}],                        {\"legend\":{\"bgcolor\":\"#F5F6F9\",\"font\":{\"color\":\"#4D5663\"}},\"paper_bgcolor\":\"#F5F6F9\",\"plot_bgcolor\":\"#F5F6F9\",\"template\":{\"data\":{\"barpolar\":[{\"marker\":{\"line\":{\"color\":\"#E5ECF6\",\"width\":0.5},\"pattern\":{\"fillmode\":\"overlay\",\"size\":10,\"solidity\":0.2}},\"type\":\"barpolar\"}],\"bar\":[{\"error_x\":{\"color\":\"#2a3f5f\"},\"error_y\":{\"color\":\"#2a3f5f\"},\"marker\":{\"line\":{\"color\":\"#E5ECF6\",\"width\":0.5},\"pattern\":{\"fillmode\":\"overlay\",\"size\":10,\"solidity\":0.2}},\"type\":\"bar\"}],\"carpet\":[{\"aaxis\":{\"endlinecolor\":\"#2a3f5f\",\"gridcolor\":\"white\",\"linecolor\":\"white\",\"minorgridcolor\":\"white\",\"startlinecolor\":\"#2a3f5f\"},\"baxis\":{\"endlinecolor\":\"#2a3f5f\",\"gridcolor\":\"white\",\"linecolor\":\"white\",\"minorgridcolor\":\"white\",\"startlinecolor\":\"#2a3f5f\"},\"type\":\"carpet\"}],\"choropleth\":[{\"colorbar\":{\"outlinewidth\":0,\"ticks\":\"\"},\"type\":\"choropleth\"}],\"contourcarpet\":[{\"colorbar\":{\"outlinewidth\":0,\"ticks\":\"\"},\"type\":\"contourcarpet\"}],\"contour\":[{\"colorbar\":{\"outlinewidth\":0,\"ticks\":\"\"},\"colorscale\":[[0.0,\"#0d0887\"],[0.1111111111111111,\"#46039f\"],[0.2222222222222222,\"#7201a8\"],[0.3333333333333333,\"#9c179e\"],[0.4444444444444444,\"#bd3786\"],[0.5555555555555556,\"#d8576b\"],[0.6666666666666666,\"#ed7953\"],[0.7777777777777778,\"#fb9f3a\"],[0.8888888888888888,\"#fdca26\"],[1.0,\"#f0f921\"]],\"type\":\"contour\"}],\"heatmapgl\":[{\"colorbar\":{\"outlinewidth\":0,\"ticks\":\"\"},\"colorscale\":[[0.0,\"#0d0887\"],[0.1111111111111111,\"#46039f\"],[0.2222222222222222,\"#7201a8\"],[0.3333333333333333,\"#9c179e\"],[0.4444444444444444,\"#bd3786\"],[0.5555555555555556,\"#d8576b\"],[0.6666666666666666,\"#ed7953\"],[0.7777777777777778,\"#fb9f3a\"],[0.8888888888888888,\"#fdca26\"],[1.0,\"#f0f921\"]],\"type\":\"heatmapgl\"}],\"heatmap\":[{\"colorbar\":{\"outlinewidth\":0,\"ticks\":\"\"},\"colorscale\":[[0.0,\"#0d0887\"],[0.1111111111111111,\"#46039f\"],[0.2222222222222222,\"#7201a8\"],[0.3333333333333333,\"#9c179e\"],[0.4444444444444444,\"#bd3786\"],[0.5555555555555556,\"#d8576b\"],[0.6666666666666666,\"#ed7953\"],[0.7777777777777778,\"#fb9f3a\"],[0.8888888888888888,\"#fdca26\"],[1.0,\"#f0f921\"]],\"type\":\"heatmap\"}],\"histogram2dcontour\":[{\"colorbar\":{\"outlinewidth\":0,\"ticks\":\"\"},\"colorscale\":[[0.0,\"#0d0887\"],[0.1111111111111111,\"#46039f\"],[0.2222222222222222,\"#7201a8\"],[0.3333333333333333,\"#9c179e\"],[0.4444444444444444,\"#bd3786\"],[0.5555555555555556,\"#d8576b\"],[0.6666666666666666,\"#ed7953\"],[0.7777777777777778,\"#fb9f3a\"],[0.8888888888888888,\"#fdca26\"],[1.0,\"#f0f921\"]],\"type\":\"histogram2dcontour\"}],\"histogram2d\":[{\"colorbar\":{\"outlinewidth\":0,\"ticks\":\"\"},\"colorscale\":[[0.0,\"#0d0887\"],[0.1111111111111111,\"#46039f\"],[0.2222222222222222,\"#7201a8\"],[0.3333333333333333,\"#9c179e\"],[0.4444444444444444,\"#bd3786\"],[0.5555555555555556,\"#d8576b\"],[0.6666666666666666,\"#ed7953\"],[0.7777777777777778,\"#fb9f3a\"],[0.8888888888888888,\"#fdca26\"],[1.0,\"#f0f921\"]],\"type\":\"histogram2d\"}],\"histogram\":[{\"marker\":{\"pattern\":{\"fillmode\":\"overlay\",\"size\":10,\"solidity\":0.2}},\"type\":\"histogram\"}],\"mesh3d\":[{\"colorbar\":{\"outlinewidth\":0,\"ticks\":\"\"},\"type\":\"mesh3d\"}],\"parcoords\":[{\"line\":{\"colorbar\":{\"outlinewidth\":0,\"ticks\":\"\"}},\"type\":\"parcoords\"}],\"pie\":[{\"automargin\":true,\"type\":\"pie\"}],\"scatter3d\":[{\"line\":{\"colorbar\":{\"outlinewidth\":0,\"ticks\":\"\"}},\"marker\":{\"colorbar\":{\"outlinewidth\":0,\"ticks\":\"\"}},\"type\":\"scatter3d\"}],\"scattercarpet\":[{\"marker\":{\"colorbar\":{\"outlinewidth\":0,\"ticks\":\"\"}},\"type\":\"scattercarpet\"}],\"scattergeo\":[{\"marker\":{\"colorbar\":{\"outlinewidth\":0,\"ticks\":\"\"}},\"type\":\"scattergeo\"}],\"scattergl\":[{\"marker\":{\"colorbar\":{\"outlinewidth\":0,\"ticks\":\"\"}},\"type\":\"scattergl\"}],\"scattermapbox\":[{\"marker\":{\"colorbar\":{\"outlinewidth\":0,\"ticks\":\"\"}},\"type\":\"scattermapbox\"}],\"scatterpolargl\":[{\"marker\":{\"colorbar\":{\"outlinewidth\":0,\"ticks\":\"\"}},\"type\":\"scatterpolargl\"}],\"scatterpolar\":[{\"marker\":{\"colorbar\":{\"outlinewidth\":0,\"ticks\":\"\"}},\"type\":\"scatterpolar\"}],\"scatter\":[{\"fillpattern\":{\"fillmode\":\"overlay\",\"size\":10,\"solidity\":0.2},\"type\":\"scatter\"}],\"scatterternary\":[{\"marker\":{\"colorbar\":{\"outlinewidth\":0,\"ticks\":\"\"}},\"type\":\"scatterternary\"}],\"surface\":[{\"colorbar\":{\"outlinewidth\":0,\"ticks\":\"\"},\"colorscale\":[[0.0,\"#0d0887\"],[0.1111111111111111,\"#46039f\"],[0.2222222222222222,\"#7201a8\"],[0.3333333333333333,\"#9c179e\"],[0.4444444444444444,\"#bd3786\"],[0.5555555555555556,\"#d8576b\"],[0.6666666666666666,\"#ed7953\"],[0.7777777777777778,\"#fb9f3a\"],[0.8888888888888888,\"#fdca26\"],[1.0,\"#f0f921\"]],\"type\":\"surface\"}],\"table\":[{\"cells\":{\"fill\":{\"color\":\"#EBF0F8\"},\"line\":{\"color\":\"white\"}},\"header\":{\"fill\":{\"color\":\"#C8D4E3\"},\"line\":{\"color\":\"white\"}},\"type\":\"table\"}]},\"layout\":{\"annotationdefaults\":{\"arrowcolor\":\"#2a3f5f\",\"arrowhead\":0,\"arrowwidth\":1},\"autotypenumbers\":\"strict\",\"coloraxis\":{\"colorbar\":{\"outlinewidth\":0,\"ticks\":\"\"}},\"colorscale\":{\"diverging\":[[0,\"#8e0152\"],[0.1,\"#c51b7d\"],[0.2,\"#de77ae\"],[0.3,\"#f1b6da\"],[0.4,\"#fde0ef\"],[0.5,\"#f7f7f7\"],[0.6,\"#e6f5d0\"],[0.7,\"#b8e186\"],[0.8,\"#7fbc41\"],[0.9,\"#4d9221\"],[1,\"#276419\"]],\"sequential\":[[0.0,\"#0d0887\"],[0.1111111111111111,\"#46039f\"],[0.2222222222222222,\"#7201a8\"],[0.3333333333333333,\"#9c179e\"],[0.4444444444444444,\"#bd3786\"],[0.5555555555555556,\"#d8576b\"],[0.6666666666666666,\"#ed7953\"],[0.7777777777777778,\"#fb9f3a\"],[0.8888888888888888,\"#fdca26\"],[1.0,\"#f0f921\"]],\"sequentialminus\":[[0.0,\"#0d0887\"],[0.1111111111111111,\"#46039f\"],[0.2222222222222222,\"#7201a8\"],[0.3333333333333333,\"#9c179e\"],[0.4444444444444444,\"#bd3786\"],[0.5555555555555556,\"#d8576b\"],[0.6666666666666666,\"#ed7953\"],[0.7777777777777778,\"#fb9f3a\"],[0.8888888888888888,\"#fdca26\"],[1.0,\"#f0f921\"]]},\"colorway\":[\"#636efa\",\"#EF553B\",\"#00cc96\",\"#ab63fa\",\"#FFA15A\",\"#19d3f3\",\"#FF6692\",\"#B6E880\",\"#FF97FF\",\"#FECB52\"],\"font\":{\"color\":\"#2a3f5f\"},\"geo\":{\"bgcolor\":\"white\",\"lakecolor\":\"white\",\"landcolor\":\"#E5ECF6\",\"showlakes\":true,\"showland\":true,\"subunitcolor\":\"white\"},\"hoverlabel\":{\"align\":\"left\"},\"hovermode\":\"closest\",\"mapbox\":{\"style\":\"light\"},\"paper_bgcolor\":\"white\",\"plot_bgcolor\":\"#E5ECF6\",\"polar\":{\"angularaxis\":{\"gridcolor\":\"white\",\"linecolor\":\"white\",\"ticks\":\"\"},\"bgcolor\":\"#E5ECF6\",\"radialaxis\":{\"gridcolor\":\"white\",\"linecolor\":\"white\",\"ticks\":\"\"}},\"scene\":{\"xaxis\":{\"backgroundcolor\":\"#E5ECF6\",\"gridcolor\":\"white\",\"gridwidth\":2,\"linecolor\":\"white\",\"showbackground\":true,\"ticks\":\"\",\"zerolinecolor\":\"white\"},\"yaxis\":{\"backgroundcolor\":\"#E5ECF6\",\"gridcolor\":\"white\",\"gridwidth\":2,\"linecolor\":\"white\",\"showbackground\":true,\"ticks\":\"\",\"zerolinecolor\":\"white\"},\"zaxis\":{\"backgroundcolor\":\"#E5ECF6\",\"gridcolor\":\"white\",\"gridwidth\":2,\"linecolor\":\"white\",\"showbackground\":true,\"ticks\":\"\",\"zerolinecolor\":\"white\"}},\"shapedefaults\":{\"line\":{\"color\":\"#2a3f5f\"}},\"ternary\":{\"aaxis\":{\"gridcolor\":\"white\",\"linecolor\":\"white\",\"ticks\":\"\"},\"baxis\":{\"gridcolor\":\"white\",\"linecolor\":\"white\",\"ticks\":\"\"},\"bgcolor\":\"#E5ECF6\",\"caxis\":{\"gridcolor\":\"white\",\"linecolor\":\"white\",\"ticks\":\"\"}},\"title\":{\"x\":0.05},\"xaxis\":{\"automargin\":true,\"gridcolor\":\"white\",\"linecolor\":\"white\",\"ticks\":\"\",\"title\":{\"standoff\":15},\"zerolinecolor\":\"white\",\"zerolinewidth\":2},\"yaxis\":{\"automargin\":true,\"gridcolor\":\"white\",\"linecolor\":\"white\",\"ticks\":\"\",\"title\":{\"standoff\":15},\"zerolinecolor\":\"white\",\"zerolinewidth\":2}}},\"title\":{\"font\":{\"color\":\"#4D5663\"},\"text\":\"Winning condition\"},\"xaxis\":{\"gridcolor\":\"#E1E5ED\",\"showgrid\":true,\"tickfont\":{\"color\":\"#4D5663\"},\"title\":{\"font\":{\"color\":\"#4D5663\"},\"text\":\"\"},\"zerolinecolor\":\"#E1E5ED\"},\"yaxis\":{\"gridcolor\":\"#E1E5ED\",\"showgrid\":true,\"tickfont\":{\"color\":\"#4D5663\"},\"title\":{\"font\":{\"color\":\"#4D5663\"},\"text\":\"\"},\"zerolinecolor\":\"#E1E5ED\"}},                        {\"showLink\": true, \"linkText\": \"Export to plot.ly\", \"plotlyServerURL\": \"https://plot.ly\", \"responsive\": true}                    ).then(function(){\n",
       "                            \n",
       "var gd = document.getElementById('3e47cef2-a584-433f-a09c-dcdcf55f555e');\n",
       "var x = new MutationObserver(function (mutations, observer) {{\n",
       "        var display = window.getComputedStyle(gd).display;\n",
       "        if (!display || display === 'none') {{\n",
       "            console.log([gd, 'removed!']);\n",
       "            Plotly.purge(gd);\n",
       "            observer.disconnect();\n",
       "        }}\n",
       "}});\n",
       "\n",
       "// Listen for the removal of the full notebook cells\n",
       "var notebookContainer = gd.closest('#notebook-container');\n",
       "if (notebookContainer) {{\n",
       "    x.observe(notebookContainer, {childList: true});\n",
       "}}\n",
       "\n",
       "// Listen for the clearing of the current output cell\n",
       "var outputEl = gd.closest('.output');\n",
       "if (outputEl) {{\n",
       "    x.observe(outputEl, {childList: true});\n",
       "}}\n",
       "\n",
       "                        })                };                });            </script>        </div>"
      ]
     },
     "metadata": {},
     "output_type": "display_data"
    }
   ],
   "source": [
    "# What is the most winning condition \n",
    "df1['Win conditions'].value_counts().iplot(kind='bar', title='Winning condition')"
   ]
  },
  {
   "cell_type": "markdown",
   "metadata": {},
   "source": [
    "Italy win most of the time after extra time"
   ]
  },
  {
   "cell_type": "code",
   "execution_count": 84,
   "metadata": {},
   "outputs": [
    {
     "data": {
      "application/vnd.plotly.v1+json": {
       "config": {
        "linkText": "Export to plot.ly",
        "plotlyServerURL": "https://plot.ly",
        "showLink": true
       },
       "data": [
        {
         "line": {
          "color": "rgba(255, 153, 51, 1.0)",
          "dash": "solid",
          "shape": "linear",
          "width": 1.3
         },
         "mode": "lines",
         "name": "None",
         "text": "",
         "type": "scatter",
         "x": [
          "(Parc des Princes,45500.0)",
          "(La Beaujoire,35500.0)",
          "(Stade du Parc Lescure,31800.0)",
          "(Stade de Gerland,39100.0)",
          "(Stade Vlodrome,55000.0)",
          "(Stade Municipal,33500.0)",
          "(Gottlieb-Daimler-Stadion,52000.0)",
          "(FIFA World Cup Stadium, Munich,66000.0)",
          "(Stade Geoffroy Guichard,30600.0)",
          "(La Mosson,29800.0)",
          "(FIFA World Cup Stadium, Cologne,45000.0)",
          "(FIFA World Cup Stadium, Frankfurt,48000.0)",
          "(FIFA World Cup Stadium, Gelsenkirchen,52000.0)",
          "(FIFA World Cup Stadium, Hanover,43000.0)",
          "(FIFA World Cup Stadium, Dortmund,65000.0)",
          "(Stade Felix Bollaert,38100.0)",
          "(Olympiastadion,72000.0)",
          "(Franken-Stadion,41000.0)",
          "(Fritz-Walter-Stadion,46000.0)",
          "(Zentralstadion,43000.0)",
          "(Stade de France,77000.0)",
          "(Stade de France,80000.0)",
          "(FIFA World Cup Stadium, Hamburg,50000.0)",
          "(Stadio Olimpico,73303.0)",
          "(Estadio Castelao,60342.0)",
          "(Della Favorita,33288.0)",
          "(Waldstadion,62000.0)",
          "(Estadio do Maracana,74738.0)",
          "(Cape Town Stadium,64100.0)",
          "(Camp Nou,65000.0)",
          "(Estadio do Maracana,74240.0)",
          "(Rose Bowl,91856.0)",
          "(Stanford Stadium,83401.0)",
          "(Rose Bowl,93869.0)",
          "(Stadio delle Alpi,62628.0)",
          "(Cotton Bowl,63998.0)",
          "(Estadio Castelao,58817.0)",
          "(Neckarstadion,70100.0)",
          "(Foxboro Stadium,54453.0)",
          "(Santiago Bernabeu,75000.0)",
          "(Soccer City Stadium,84490.0)",
          "(Estadio Azteca,114600.0)",
          "(Estadio Azteca,114580.0)",
          "(Estadio do Maracana,73804.0)",
          "(El Molinon,42000.0)",
          "(Jalisco,45000.0)",
          "(Luis Casanova,49562.0)",
          "(Arena de Sao Paulo,63267.0)",
          "(La Romareda,25000.0)",
          "(Westfalenstadion,53700.0)",
          "(Estadio Nacional,68551.0)",
          "(Estadio Nacional,68034.0)",
          "(Arena Fonte Nova,51179.0)",
          "(Arena Fonte Nova,51227.0)",
          "(Estadio Nacional,67882.0)",
          "(Arena Pernambuco,41242.0)",
          "(Estadio Mineirao,58141.0)",
          "(Estadio Mineirao,57714.0)",
          "(Arena de Sao Paulo,63255.0)",
          "(Sarria,44000.0)",
          "(Vicente Calderon,37000.0)",
          "(Tres de Marzo,28000.0)",
          "(Parque Central,18306.0)",
          "(Parc des Princes,20025.0)",
          "(Port Elizabeth Stadium,34872.0)",
          "(Port Elizabeth Stadium,36893.0)",
          "(Port Elizabeth Stadium,37034.0)",
          "(Orjans Vall,10647.0)",
          "(Olympiastadion,81100.0)",
          "(Olympiastadion,78200.0)",
          "(Parque Central,18346.0)",
          "(Olympiastadion,77100.0)",
          "(Parque Central,9249.0)",
          "(Olympiastadion,69000.0)",
          "(Olympiastadion,53000.0)",
          "(Olympiastadion,28300.0)",
          "(Port Elizabeth Stadium,38294.0)",
          "(Parkstadion,68348.0)",
          "(Olympiastadion,25900.0)",
          "(Olympiastadion,25300.0)",
          "(Olympiastadion,17400.0)",
          "(Parkstadion,56548.0)",
          "(Parkstadion,31700.0)",
          "(Olympia Stadium,25000.0)",
          "(Olympia Stadium,16418.0)",
          "(Old Trafford Stadium,29886.0)",
          "(Old Trafford Stadium,25438.0)",
          "(Port Elizabeth Stadium,40186.0)",
          "(Old Trafford Stadium,24129.0)",
          "(Port Elizabeth Stadium,36254.0)",
          "(Parque Central,23409.0)",
          "(Parc des Princes,20000.0)",
          "(Parque Central,24059.0)",
          "(Pacaembu,44802.0)",
          "(Pacaembu,42032.0)",
          "(Pacaembu,36502.0)",
          "(Peter Mokaba Stadium,30325.0)",
          "(Pacaembu,25811.0)",
          "(Pacaembu,11227.0)",
          "(Peter Mokaba Stadium,34850.0)",
          "(Peter Mokaba Stadium,35370.0)",
          "(Pacaembu,7987.0)",
          "(Peter Mokaba Stadium,38891.0)",
          "(Osaka Nagai Stadium,45213.0)",
          "(Pocitos,2549.0)",
          "(Osaka Nagai Stadium,44864.0)",
          "(Pocitos,4444.0)",
          "(Pontiac Silverdome,61428.0)",
          "(Oita Stadium Big Eye,39747.0)",
          "(Parc des Princes,27152.0)",
          "(Osaka Nagai Stadium,44233.0)",
          "(Pontiac Silverdome,71528.0)",
          "(Pontiac Silverdome,73425.0)",
          "(Parkstadion,54254.0)",
          "(Pontiac Silverdome,77217.0)",
          "(Port Elizabeth Stadium,30597.0)",
          "(Orjans Vall,14174.0)",
          "(Port Elizabeth Stadium,31513.0)",
          "(Parkstadion,36200.0)",
          "(Nou Camp - Estadio Len,36540.0)",
          "(Oita Stadium Big Eye,39700.0)",
          "(Mbombela Stadium,38229.0)",
          "(Malmo Stadion,31156.0)",
          "(Marc Antonio Bentegodi,32790.0)",
          "(Marc Antonio Bentegodi,33759.0)",
          "(Marc Antonio Bentegodi,35500.0)",
          "(Marc Antonio Bentegodi,35950.0)",
          "(Mbombela Stadium,32664.0)",
          "(Mbombela Stadium,34763.0)",
          "(Mbombela Stadium,37836.0)",
          "(Miyagi Stadium,45610.0)",
          "(Nacional,65440.0)",
          "(Miyagi Stadium,45666.0)",
          "(Miyagi Stadium,45777.0)",
          "(Munsu Football Stadium,30157.0)",
          "(Munsu Football Stadium,33842.0)",
          "(Munsu Football Stadium,37337.0)",
          "(Nacional,59828.0)",
          "(Nacional,63324.0)",
          "(Nacional,64922.0)",
          "(Malmo Stadion,21990.0)",
          "(Malmo Stadion,20055.0)",
          "(Malmo Stadion,6196.0)",
          "(Luis Dosal,26851.0)",
          "(Littorale,23000.0)",
          "(Littorio,9000.0)",
          "(Loftus Versfeld Stadium,35827.0)",
          "(Loftus Versfeld Stadium,36742.0)",
          "(Loftus Versfeld Stadium,38074.0)",
          "(Loftus Versfeld Stadium,38833.0)",
          "(Loftus Versfeld Stadium,41958.0)",
          "(Loftus Versfeld Stadium,42658.0)",
          "(Luigi Ferraris,21000.0)",
          "(Luigi Ferraris,30223.0)",
          "(Luigi Ferraris,30867.0)",
          "(Luigi Ferraris,31818.0)",
          "(Luigi Ferraris,31823.0)",
          "(Luis Casanova,48000.0)",
          "(Luis Dosal,9624.0)",
          "(Luis Dosal,9890.0)",
          "(Luis Dosal,13433.0)",
          "(Nacional,65006.0)",
          "(Nacional,66057.0)",
          "(Oita Stadium Big Eye,39291.0)",
          "(Nuevo Estadio,15000.0)",
          "(Nou Camp - Estadio Len,13537.0)",
          "(Nou Camp - Estadio Len,13765.0)",
          "(Nou Camp - Estadio Len,17875.0)",
          "(Nou Camp - Estadio Len,23357.0)",
          "(Nou Camp - Estadio Len,31420.0)",
          "(Nou Camp - Estadio Len,32277.0)",
          "(RFK Stadium,52395.0)",
          "(Nou Camp - Estadio Len,65500.0)",
          "(Nuevo Estadio,23000.0)",
          "(Nacional,66697.0)",
          "(Nuevo Estadio,37000.0)",
          "(Nya Ullevi,23182.0)",
          "(Nya Ullevi,25923.0)",
          "(Nya Ullevi,32483.0)",
          "(Nya Ullevi,40895.0)",
          "(Nya Ullevi,49348.0)",
          "(Nya Ullevi,49471.0)",
          "(Nya Ullevi,50928.0)",
          "(Nou Camp - Estadio Len,12942.0)",
          "(Nou Camp - Estadio Len,12710.0)",
          "(Nou Camp - Estadio Len,12299.0)",
          "(Niigata Stadium Big Swan,40582.0)",
          "(Nacional,67224.0)",
          "(Nacional,68679.0)",
          "(Nacional,76594.0)",
          "(Nazionale PNF,15000.0)",
          "(Nazionale PNF,25000.0)",
          "(Nazionale PNF,55000.0)",
          "(Neckarstadion,32700.0)",
          "(Neckarstadion,44955.0)",
          "(Neza,18000.0)",
          "(Neza,20000.0)",
          "(Neza,26500.0)",
          "(Niedersachsenstadion,13400.0)",
          "(Niedersachsenstadion,39400.0)",
          "(Niedersachsenstadion,55100.0)",
          "(Niedersachsenstadion,59863.0)",
          "(Niigata Stadium Big Swan,32239.0)",
          "(Niigata Stadium Big Swan,33679.0)",
          "(RFK Stadium,50535.0)",
          "(Renato Dall Ara,30791.0)",
          "(RFK Stadium,52535.0)",
          "(Stade de France,76000.0)",
          "(Stade du Parc Lescure,12000.0)",
          "(Stade du Parc Lescure,18141.0)",
          "(Stade du Parc Lescure,22021.0)",
          "(Stadio Benito Mussolini,12000.0)",
          "(Stadio Benito Mussolini,16000.0)",
          "(Stadio Olimpico,73423.0)",
          "(Stadio Olimpico,73603.0)",
          "(Stadio San Nicola,37307.0)",
          "(Stadio San Nicola,38687.0)",
          "(Stadio San Nicola,42907.0)",
          "(Stadio San Nicola,47673.0)",
          "(Stadio San Nicola,51426.0)",
          "(Stadio delle Alpi,58007.0)",
          "(Stadio delle Alpi,61381.0)",
          "(Stadio delle Alpi,62502.0)",
          "(Stanford Stadium,74914.0)",
          "(Stanford Stadium,81061.0)",
          "(Stade de la Meinau,13452.0)",
          "(Stade Vlodrome,54000.0)",
          "(Soccer City Stadium,84455.0)",
          "(Stade Vlodrome,33000.0)",
          "(Soldier Field,63089.0)",
          "(Soldier Field,63113.0)",
          "(Soldier Field,63117.0)",
          "(Soldier Field,63160.0)",
          "(St. Jakob,14000.0)",
          "(St. Jakob,28000.0)",
          "(St. Jakob,30000.0)",
          "(St. Jakob,34000.0)",
          "(St. Jakob,56000.0)",
          "(St. Jakob,58000.0)",
          "(Stade Felix Bollaert,31800.0)",
          "(Stade Municipal,7000.0)",
          "(Stade Municipal,8000.0)",
          "(Stade Olympique,30454.0)",
          "(Stade Olympique,45000.0)",
          "(Stade Olympique,58455.0)",
          "(Stade Vlodrome,19000.0)",
          "(Stanford Stadium,83500.0)",
          "(Stanford Stadium,84147.0)",
          "(Suwon World Cup Stadium,33681.0)",
          "(Suwon World Cup Stadium,37306.0)",
          "(Wankdorf Stadium,28000.0)",
          "(Wankdorf Stadium,40000.0)",
          "(Wankdorf Stadium,43500.0)",
          "(Wankdorf Stadium,62500.0)",
          "(Wembley Stadium,61112.0)",
          "(Wembley Stadium,69237.0)",
          "(Wembley Stadium,87148.0)",
          "(Wembley Stadium,87696.0)",
          "(Wembley Stadium,90584.0)",
          "(Wembley Stadium,92570.0)",
          "(Wembley Stadium,94493.0)",
          "(Wembley Stadium,96924.0)",
          "(Wembley Stadium,98270.0)",
          "(Westfalenstadion,27000.0)",
          "(Westfalenstadion,53300.0)",
          "(White City,45662.0)",
          "(Zentralstadion,38000.0)",
          "(Wankdorf Stadium,20500.0)",
          "(Waldstadion,58000.0)",
          "(Waldstadion,56000.0)",
          "(Tunavallen,13103.0)",
          "(Suwon World Cup Stadium,38524.0)",
          "(Suwon World Cup Stadium,38926.0)",
          "(Tecnologico,20200.0)",
          "(Tecnologico,22700.0)",
          "(Tecnologico,23000.0)",
          "(Tecnologico,23980.0)",
          "(Tres de Marzo,22000.0)",
          "(Velodrome Municipale,9000.0)",
          "(Volksparkstadion,60200.0)",
          "(Vicente Calderon,20000.0)",
          "(Victor Boucquey,15000.0)",
          "(Villa Park,42187.0)",
          "(Villa Park,42738.0)",
          "(Villa Park,46587.0)",
          "(Volksparkstadion,17000.0)",
          "(Volksparkstadion,53300.0)",
          "(Soldier Field,60246.0)",
          "(Soccer City Stadium,84377.0)",
          "(RFK Stadium,52959.0)",
          "(Rheinstadion,67800.0)",
          "(Riazor,19000.0)",
          "(Riazor,25000.0)",
          "(Rimnersvallen,17788.0)",
          "(Roker Park Ground,16027.0)",
          "(Roker Park Ground,26844.0)",
          "(Roker Park Ground,27199.0)",
          "(Roker Park Ground,27793.0)",
          "(Rose Bowl,90469.0)",
          "(Rose Bowl,91500.0)",
          "(Rose Bowl,93194.0)",
          "(Rose Bowl,94194.0)",
          "(Royal Bafokeng Sports Palace,23871.0)",
          "(Royal Bafokeng Sports Palace,27967.0)",
          "(Royal Bafokeng Sports Palace,33425.0)",
          "(Royal Bafokeng Sports Palace,34812.0)",
          "(Royal Bafokeng Sports Palace,34976.0)",
          "(Royal Bafokeng Sports Palace,38646.0)",
          "(Riazor,11000.0)",
          "(Rheinstadion,67385.0)",
          "(Soccer City Stadium,84017.0)",
          "(Rheinstadion,41300.0)",
          "(RFK Stadium,53121.0)",
          "(Ramon Sanchez Pizjuan,68000.0)",
          "(Ramon Sanchez Pizjuan,70000.0)",
          "(Rasunda Stadium,2823.0)",
          "(Rasunda Stadium,15150.0)",
          "(Rasunda Stadium,27100.0)",
          "(Rasunda Stadium,30287.0)",
          "(Rasunda Stadium,31900.0)",
          "(Rasunda Stadium,34107.0)",
          "(Rasunda Stadium,38850.0)",
          "(Rasunda Stadium,49737.0)",
          "(Renato Dall Ara,27833.0)",
          "(La Rosaleda,45000.0)",
          "(Renato Dall Ara,32257.0)",
          "(Renato Dall Ara,34520.0)",
          "(Rheinstadion,23800.0)",
          "(Rheinstadion,28300.0)",
          "(Ryavallen,15872.0)",
          "(Ryavallen,21239.0)",
          "(Saitama Stadium 2002,52328.0)",
          "(Saitama Stadium 2002,52721.0)",
          "(Sant Elia,35238.0)",
          "(Sant Elia,35267.0)",
          "(Santiago Bernabeu,90000.0)",
          "(Santiago Bernabeu,90089.0)",
          "(Sapporo Dome,31081.0)",
          "(Sapporo Dome,32218.0)",
          "(Sapporo Dome,35927.0)",
          "(Sarria,43000.0)",
          "(Seoul World Cup Stadium,43605.0)",
          "(Seoul World Cup Stadium,62561.0)",
          "(Seoul World Cup Stadium,65256.0)",
          "(Shizuoka Stadium Ecopa,46640.0)",
          "(Shizuoka Stadium Ecopa,47085.0)",
          "(Shizuoka Stadium Ecopa,47436.0)",
          "(Soccer City Stadium,82174.0)",
          "(Soccer City Stadium,83391.0)",
          "(Soccer City Stadium,83465.0)",
          "(Sant Elia,34959.0)",
          "(San Siro,35000.0)",
          "(San Siro,33000.0)",
          "(San Martin,33431.0)",
          "(Saitama Stadium 2002,55256.0)",
          "(Saitama Stadium 2002,61058.0)",
          "(San Mames,39700.0)",
          "(San Mames,41123.0)",
          "(San Mames,44172.0)",
          "(San Martin,28125.0)",
          "(San Martin,31278.0)",
          "(San Martin,35130.0)",
          "(San Siro,3000.0)",
          "(San Martin,35288.0)",
          "(San Martin,39586.0)",
          "(San Paolo,50026.0)",
          "(San Paolo,52733.0)",
          "(San Paolo,55205.0)",
          "(San Paolo,55759.0)",
          "(San Paolo,59978.0)",
          "(Littorale,14000.0)",
          "(Arena Amazonia,39800.0)",
          "(La Rosaleda,36000.0)",
          "(Durival de Brito,7903.0)",
          "(El Molinon,41000.0)",
          "(El Monumental - Estadio Monumental Antonio Vespuci,66695.0)",
          "(El Monumental - Estadio Monumental Antonio Vespuci,67433.0)",
          "(El Monumental - Estadio Monumental Antonio Vespuci,67547.0)",
          "(El Monumental - Estadio Monumental Antonio Vespuci,67579.0)",
          "(El Monumental - Estadio Monumental Antonio Vespuci,69659.0)",
          "(El Monumental - Estadio Monumental Antonio Vespuci,71483.0)",
          "(El Monumental - Estadio Monumental Antonio Vespuci,71615.0)",
          "(El Monumental - Estadio Monumental Antonio Vespuci,71666.0)",
          "(El Monumental - Estadio Monumental Antonio Vespuci,71712.0)",
          "(Ellis Park Stadium,45573.0)",
          "(Ellis Park Stadium,53412.0)",
          "(Ellis Park Stadium,54096.0)",
          "(Ellis Park Stadium,54331.0)",
          "(Ellis Park Stadium,54386.0)",
          "(Ellis Park Stadium,55359.0)",
          "(Ellis Park Stadium,55686.0)",
          "(Durival de Brito,9511.0)",
          "(Durban Stadium,62712.0)",
          "(Estadio Azteca,89979.0)",
          "(Durban Stadium,62660.0)",
          "(Cuauhtemoc,29968.0)",
          "(Cuauhtemoc,32000.0)",
          "(Cuauhtemoc,45000.0)",
          "(Dacia Arena,32733.0)",
          "(Dacia Arena,35713.0)",
          "(Daegu World Cup Stadium,43500.0)",
          "(Daegu World Cup Stadium,47226.0)",
          "(Daegu World Cup Stadium,60778.0)",
          "(Daegu World Cup Stadium,63483.0)",
          "(Daejeon World Cup Stadium,26482.0)",
          "(Daejeon World Cup Stadium,31024.0)",
          "(Daejeon World Cup Stadium,38588.0)",
          "(Durban Stadium,60960.0)",
          "(Durban Stadium,61874.0)",
          "(Durban Stadium,61962.0)",
          "(Durban Stadium,62010.0)",
          "(Durban Stadium,62453.0)",
          "(Estadio Azteca,26085.0)",
          "(Estadio Azteca,92205.0)",
          "(Estadio Irapuato,13800.0)",
          "(Estadio Centenario,12000.0)",
          "(Estadio Centenario,41459.0)",
          "(Estadio Centenario,42100.0)",
          "(Estadio Centenario,57735.0)",
          "(Estadio Centenario,68346.0)",
          "(Estadio Centenario,70022.0)",
          "(Estadio Centenario,72886.0)",
          "(Estadio Centenario,79867.0)",
          "(Estadio Corregidora,30000.0)",
          "(Estadio Corregidora,30500.0)",
          "(Estadio Corregidora,36000.0)",
          "(Estadio Corregidora,38500.0)",
          "(Estadio El Teniente-Codelco,5700.0)",
          "(Estadio El Teniente-Codelco,7134.0)",
          "(Estadio El Teniente-Codelco,7442.0)",
          "(Estadio El Teniente-Codelco,7938.0)",
          "(Estadio El Teniente-Codelco,7945.0)",
          "(Estadio El Teniente-Codelco,9794.0)",
          "(Estadio Centenario,25466.0)",
          "(Estadio Centenario,2000.0)",
          "(Estadio Azteca,95261.0)",
          "(Estadio Castelao,59621.0)",
          "(Estadio Azteca,96000.0)",
          "(Estadio Azteca,98728.0)",
          "(Estadio Azteca,102444.0)",
          "(Estadio Azteca,103058.0)",
          "(Estadio Azteca,103763.0)",
          "(Estadio Azteca,104403.0)",
          "(Estadio Azteca,107160.0)",
          "(Estadio Azteca,107412.0)",
          "(Estadio Azteca,108192.0)",
          "(Estadio Azteca,110000.0)",
          "(Estadio Azteca,114500.0)",
          "(Estadio Beira-Rio,42732.0)",
          "(Estadio Beira-Rio,42877.0)",
          "(Estadio Beira-Rio,43012.0)",
          "(Estadio Beira-Rio,43285.0)",
          "(Estadio Castelao,58679.0)",
          "(Estadio Castelao,59095.0)",
          "(Cuauhtemoc,26000.0)",
          "(Cuauhtemoc,21000.0)",
          "(Cuauhtemoc,20654.0)",
          "(Arena de Sao Paulo,62103.0)",
          "(Arena de Sao Paulo,62996.0)",
          "(Arosvallen,9591.0)",
          "(Arosvallen,12217.0)",
          "(Arroyito - Estadio Dr. Lisandro de la Torre,9624.0)",
          "(Arroyito - Estadio Dr. Lisandro de la Torre,17396.0)",
          "(Arroyito - Estadio Dr. Lisandro de la Torre,22651.0)",
          "(Arroyito - Estadio Dr. Lisandro de la Torre,37091.0)",
          "(Arroyito - Estadio Dr. Lisandro de la Torre,37315.0)",
          "(Arroyito - Estadio Dr. Lisandro de la Torre,37326.0)",
          "(Ayresome Park,13792.0)",
          "(Ayresome Park,17829.0)",
          "(Ayresome Park,23006.0)",
          "(Benito Villamarin,43000.0)",
          "(Benito Villamarin,47379.0)",
          "(Bombonera - Estadio Nemesio Diez,16000.0)",
          "(Bombonera - Estadio Nemesio Diez,20000.0)",
          "(Bombonera - Estadio Nemesio Diez,24000.0)",
          "(Arena de Sao Paulo,62575.0)",
          "(Arena de Sao Paulo,61397.0)",
          "(Cuauhtemoc,20000.0)",
          "(Arena da Baixada,39375.0)",
          "(Arena Amazonia,40123.0)",
          "(Arena Amazonia,40322.0)",
          "(Arena Fonte Nova,48011.0)",
          "(Arena Fonte Nova,48173.0)",
          "(Arena Fonte Nova,51003.0)",
          "(Arena Fonte Nova,51081.0)",
          "(Arena Pantanal,37603.0)",
          "(Arena Pantanal,40275.0)",
          "(Arena Pantanal,40340.0)",
          "(Arena Pantanal,40499.0)",
          "(Arena Pernambuco,40267.0)",
          "(Arena Pernambuco,40285.0)",
          "(Arena Pernambuco,41212.0)",
          "(Arena Pernambuco,41876.0)",
          "(Arena da Baixada,39081.0)",
          "(Arena da Baixada,39224.0)",
          "(Arena da Baixada,39311.0)",
          "(Busan Asiad Main Stadium,25186.0)",
          "(Busan Asiad Main Stadium,38289.0)",
          "(Busan Asiad Main Stadium,48760.0)",
          "(Camp Nou,45000.0)",
          "(Charmilles,17000.0)",
          "(Charmilles,19000.0)",
          "(Citrus Bowl,60578.0)",
          "(Citrus Bowl,60790.0)",
          "(Citrus Bowl,61219.0)",
          "(Citrus Bowl,61355.0)",
          "(Citrus Bowl,62387.0)",
          "(Comunale,33266.0)",
          "(Comunale,34857.0)",
          "(Comunale,38962.0)",
          "(Comunale,38971.0)",
          "(Comunale di Cornaredo,24000.0)",
          "(Cotton Bowl,44132.0)",
          "(Cotton Bowl,56247.0)",
          "(Cotton Bowl,60277.0)",
          "(Cotton Bowl,63500.0)",
          "(Cuauhtemoc,18163.0)",
          "(Charmilles,13470.0)",
          "(Charmilles,4000.0)",
          "(Cavee Verte,11000.0)",
          "(Carlos Dittborn,7167.0)",
          "(Camp Nou,50000.0)",
          "(Camp Nou,95000.0)",
          "(Cape Town Stadium,62479.0)",
          "(Cape Town Stadium,62869.0)",
          "(Cape Town Stadium,62955.0)",
          "(Cape Town Stadium,63093.0)",
          "(Cape Town Stadium,63644.0)",
          "(Carlos Dittborn,7908.0)",
          "(Carlos Tartiere,22500.0)",
          "(Carlos Dittborn,8040.0)",
          "(Carlos Dittborn,8829.0)",
          "(Carlos Dittborn,9622.0)",
          "(Carlos Dittborn,9973.0)",
          "(Carlos Dittborn,17268.0)",
          "(Carlos Tartiere,16000.0)",
          "(Carlos Tartiere,22000.0)",
          "(Estadio El Teniente-Codelco,11690.0)",
          "(Estadio Irapuato,14200.0)",
          "(La Rosaleda,19000.0)",
          "(Hardturm,26000.0)",
          "(Hillsborough,32028.0)",
          "(Hillsborough,32127.0)",
          "(Hillsborough,36127.0)",
          "(Hillsborough,40007.0)",
          "(Idrottsparken,11665.0)",
          "(Idrottsparken,11800.0)",
          "(Idrottsparken,16518.0)",
          "(Ilha do Retiro,8501.0)",
          "(Incheon Football Stadium,42299.0)",
          "(Incheon Football Stadium,48100.0)",
          "(Incheon Football Stadium,50239.0)",
          "(Independencia,5284.0)",
          "(Independencia,7336.0)",
          "(Independencia,10151.0)",
          "(International Stadium Yokohama,65320.0)",
          "(International Stadium Yokohama,65862.0)",
          "(International Stadium Yokohama,66108.0)",
          "(Hardturm,32000.0)",
          "(Hardturm,25000.0)",
          "(Jalisco,35748.0)",
          "(Hardturm,17000.0)",
          "(Giovanni Berta,35000.0)",
          "(Giovanni Berta,43000.0)",
          "(Giuseppe Meazza,71169.0)",
          "(Giuseppe Meazza,72510.0)",
          "(Giuseppe Meazza,73347.0)",
          "(Giuseppe Meazza,73780.0)",
          "(Giuseppe Meazza,74559.0)",
          "(Giuseppe Meazza,74765.0)",
          "(Goodison Park,38273.0)",
          "(Goodison Park,40248.0)",
          "(Goodison Park,47308.0)",
          "(Goodison Park,51387.0)",
          "(Goodison Park,58479.0)",
          "(Gwangju World Cup Stadium,27217.0)",
          "(Gwangju World Cup Stadium,28598.0)",
          "(Gwangju World Cup Stadium,42114.0)",
          "(Hardturm,13000.0)",
          "(International Stadium Yokohama,69029.0)",
          "(Jalisco,48000.0)",
          "(Estadio Irapuato,16500.0)",
          "(Jose Amalfitani,42132.0)",
          "(Jose Rico Perez,32093.0)",
          "(Jose Rico Perez,32500.0)",
          "(Jose Zorrilla,25000.0)",
          "(Arena Amazonia,39982.0)",
          "(Jose Zorrilla,30043.0)",
          "(Kashima Stadium,34050.0)",
          "(Kashima Stadium,35854.0)",
          "(Kashima Stadium,36472.0)",
          "(Kobe Wing Stadium,30957.0)",
          "(Kobe Wing Stadium,36194.0)",
          "(Kobe Wing Stadium,40440.0)",
          "(La Pontaise,16000.0)",
          "(La Pontaise,24637.0)",
          "(La Pontaise,35000.0)",
          "(La Pontaise,43000.0)",
          "(La Pontaise,45000.0)",
          "(La Romareda,15000.0)",
          "(Jose Rico Perez,28000.0)",
          "(Jose Amalfitani,41424.0)",
          "(Jalisco,49292.0)",
          "(Jose Amalfitani,40841.0)",
          "(Jalisco,50560.0)",
          "(Jalisco,50804.0)",
          "(Jalisco,51000.0)",
          "(Jalisco,51261.0)",
          "(Jalisco,52897.0)",
          "(Jalisco,54233.0)",
          "(Jalisco,56818.0)",
          "(Jalisco,65000.0)",
          "(Jalisco,66843.0)",
          "(Jarnvallen,13300.0)",
          "(Jarnvallen,15343.0)",
          "(Jeju World Cup Stadium,25176.0)",
          "(Jeju World Cup Stadium,30176.0)",
          "(Jeju World Cup Stadium,36750.0)",
          "(Jeonju World Cup Stadium,24000.0)",
          "(Jeonju World Cup Stadium,31000.0)",
          "(Jeonju World Cup Stadium,36380.0)",
          "(Giovanni Berta,8000.0)",
          "(Giorgio Ascarelli,9000.0)",
          "(Giorgio Ascarelli,7000.0)",
          "(Estadio Ol�mpico Chateau Carreras,25050.0)",
          "(Estadio Ol�mpico Chateau Carreras,35258.0)",
          "(Estadio Ol�mpico Chateau Carreras,37927.0)",
          "(Estadio Ol�mpico Chateau Carreras,38318.0)",
          "(Estadio Ol�mpico Chateau Carreras,40750.0)",
          "(Estadio Ol�mpico Universitario,45000.0)",
          "(Estadio Ol�mpico Universitario,60000.0)",
          "(Estadio Ol�mpico Universitario,65000.0)",
          "(Estadio Ol�mpico Universitario,70000.0)",
          "(Estadio Sausalito,5890.0)",
          "(Estadio Sausalito,10484.0)",
          "(Estadio Sausalito,10648.0)",
          "(Estadio Sausalito,11875.0)",
          "(Estadio Sausalito,12700.0)",
          "(Estadio Sausalito,14903.0)",
          "(Estadio Sausalito,17736.0)",
          "(Estadio Sausalito,18715.0)",
          "(Estadio Universitario,19800.0)",
          "(Estadio Ol�mpico Chateau Carreras,30667.0)",
          "(Estadio Ol�mpico Chateau Carreras,21262.0)",
          "(Giants Stadium,76322.0)",
          "(Estadio Ol�mpico Chateau Carreras,7938.0)",
          "(Estadio Jos Mara Minella,23127.0)",
          "(Estadio Jos Mara Minella,26533.0)",
          "(Estadio Jos Mara Minella,32569.0)",
          "(Estadio Jos Mara Minella,34771.0)",
          "(Estadio Jos Mara Minella,35221.0)",
          "(Estadio Jos Mara Minella,42373.0)",
          "(Estadio Mineirao,56800.0)",
          "(Estadio Mineirao,57174.0)",
          "(Estadio Mineirao,57698.0)",
          "(Estadio Mineirao,57823.0)",
          "(Estadio Municipal de Bala�dos,20000.0)",
          "(Estadio Municipal de Bala�dos,25000.0)",
          "(Estadio Municipal de Bala�dos,33000.0)",
          "(Estadio Nacional,67540.0)",
          "(Estadio Nacional,68351.0)",
          "(Estadio Nacional,68748.0)",
          "(Estadio Nacional,69112.0)",
          "(Estadio Universitario,19900.0)",
          "(Estadio Universitario,19915.0)",
          "(Estadio Universitario,41700.0)",
          "(Estadio das Dunas,39216.0)",
          "(Foxboro Stadium,53001.0)",
          "(Foxboro Stadium,53400.0)",
          "(Foxboro Stadium,54367.0)",
          "(Foxboro Stadium,54456.0)",
          "(Free State Stadium,26643.0)",
          "(Free State Stadium,28042.0)",
          "(Free State Stadium,30620.0)",
          "(Free State Stadium,31593.0)",
          "(Free State Stadium,39415.0)",
          "(Free State Stadium,40510.0)",
          "(Friuli,29039.0)",
          "(Giants Stadium,71030.0)",
          "(Giants Stadium,72000.0)",
          "(Giants Stadium,72404.0)",
          "(Giants Stadium,74110.0)",
          "(Giants Stadium,74624.0)",
          "(Giants Stadium,75338.0)",
          "(Fort Carree,7000.0)",
          "(FIFA World Cup Stadium, Hamburg,49480.0)",
          "(FIFA World Cup Stadium, Dortmund,62959.0)",
          "(Estdio Jornalista Mrio Filho,29703.0)",
          "(Estadio das Dunas,39485.0)",
          "(Estadio das Dunas,39706.0)",
          "(Estadio das Dunas,39760.0)",
          "(Estadio do Maracana,73749.0)",
          "(Estadio do Maracana,73819.0)",
          "(Estadio do Maracana,74101.0)",
          "(Estdio Jornalista Mrio Filho,19790.0)",
          "(Estdio Jornalista Mrio Filho,74462.0)",
          "(Eyravallen,13554.0)",
          "(Estdio Jornalista Mrio Filho,81649.0)",
          "(Estdio Jornalista Mrio Filho,138886.0)",
          "(Estdio Jornalista Mrio Filho,142429.0)",
          "(Estdio Jornalista Mrio Filho,152772.0)",
          "(Estdio Jornalista Mrio Filho,173850.0)",
          "(Eucaliptos,3580.0)",
          "(Eucaliptos,11078.0)",
          "(Jose Zorrilla,28000.0)"
         ],
         "y": [
          6,
          6,
          6,
          6,
          6,
          6,
          6,
          6,
          6,
          6,
          5,
          5,
          5,
          5,
          5,
          5,
          5,
          5,
          5,
          4,
          4,
          4,
          4,
          4,
          3,
          3,
          3,
          3,
          3,
          2,
          2,
          2,
          2,
          2,
          2,
          2,
          2,
          2,
          2,
          2,
          2,
          2,
          2,
          2,
          2,
          2,
          2,
          2,
          2,
          2,
          2,
          2,
          2,
          2,
          2,
          2,
          2,
          2,
          2,
          2,
          2,
          2,
          2,
          1,
          1,
          1,
          1,
          1,
          1,
          1,
          1,
          1,
          1,
          1,
          1,
          1,
          1,
          1,
          1,
          1,
          1,
          1,
          1,
          1,
          1,
          1,
          1,
          1,
          1,
          1,
          1,
          1,
          1,
          1,
          1,
          1,
          1,
          1,
          1,
          1,
          1,
          1,
          1,
          1,
          1,
          1,
          1,
          1,
          1,
          1,
          1,
          1,
          1,
          1,
          1,
          1,
          1,
          1,
          1,
          1,
          1,
          1,
          1,
          1,
          1,
          1,
          1,
          1,
          1,
          1,
          1,
          1,
          1,
          1,
          1,
          1,
          1,
          1,
          1,
          1,
          1,
          1,
          1,
          1,
          1,
          1,
          1,
          1,
          1,
          1,
          1,
          1,
          1,
          1,
          1,
          1,
          1,
          1,
          1,
          1,
          1,
          1,
          1,
          1,
          1,
          1,
          1,
          1,
          1,
          1,
          1,
          1,
          1,
          1,
          1,
          1,
          1,
          1,
          1,
          1,
          1,
          1,
          1,
          1,
          1,
          1,
          1,
          1,
          1,
          1,
          1,
          1,
          1,
          1,
          1,
          1,
          1,
          1,
          1,
          1,
          1,
          1,
          1,
          1,
          1,
          1,
          1,
          1,
          1,
          1,
          1,
          1,
          1,
          1,
          1,
          1,
          1,
          1,
          1,
          1,
          1,
          1,
          1,
          1,
          1,
          1,
          1,
          1,
          1,
          1,
          1,
          1,
          1,
          1,
          1,
          1,
          1,
          1,
          1,
          1,
          1,
          1,
          1,
          1,
          1,
          1,
          1,
          1,
          1,
          1,
          1,
          1,
          1,
          1,
          1,
          1,
          1,
          1,
          1,
          1,
          1,
          1,
          1,
          1,
          1,
          1,
          1,
          1,
          1,
          1,
          1,
          1,
          1,
          1,
          1,
          1,
          1,
          1,
          1,
          1,
          1,
          1,
          1,
          1,
          1,
          1,
          1,
          1,
          1,
          1,
          1,
          1,
          1,
          1,
          1,
          1,
          1,
          1,
          1,
          1,
          1,
          1,
          1,
          1,
          1,
          1,
          1,
          1,
          1,
          1,
          1,
          1,
          1,
          1,
          1,
          1,
          1,
          1,
          1,
          1,
          1,
          1,
          1,
          1,
          1,
          1,
          1,
          1,
          1,
          1,
          1,
          1,
          1,
          1,
          1,
          1,
          1,
          1,
          1,
          1,
          1,
          1,
          1,
          1,
          1,
          1,
          1,
          1,
          1,
          1,
          1,
          1,
          1,
          1,
          1,
          1,
          1,
          1,
          1,
          1,
          1,
          1,
          1,
          1,
          1,
          1,
          1,
          1,
          1,
          1,
          1,
          1,
          1,
          1,
          1,
          1,
          1,
          1,
          1,
          1,
          1,
          1,
          1,
          1,
          1,
          1,
          1,
          1,
          1,
          1,
          1,
          1,
          1,
          1,
          1,
          1,
          1,
          1,
          1,
          1,
          1,
          1,
          1,
          1,
          1,
          1,
          1,
          1,
          1,
          1,
          1,
          1,
          1,
          1,
          1,
          1,
          1,
          1,
          1,
          1,
          1,
          1,
          1,
          1,
          1,
          1,
          1,
          1,
          1,
          1,
          1,
          1,
          1,
          1,
          1,
          1,
          1,
          1,
          1,
          1,
          1,
          1,
          1,
          1,
          1,
          1,
          1,
          1,
          1,
          1,
          1,
          1,
          1,
          1,
          1,
          1,
          1,
          1,
          1,
          1,
          1,
          1,
          1,
          1,
          1,
          1,
          1,
          1,
          1,
          1,
          1,
          1,
          1,
          1,
          1,
          1,
          1,
          1,
          1,
          1,
          1,
          1,
          1,
          1,
          1,
          1,
          1,
          1,
          1,
          1,
          1,
          1,
          1,
          1,
          1,
          1,
          1,
          1,
          1,
          1,
          1,
          1,
          1,
          1,
          1,
          1,
          1,
          1,
          1,
          1,
          1,
          1,
          1,
          1,
          1,
          1,
          1,
          1,
          1,
          1,
          1,
          1,
          1,
          1,
          1,
          1,
          1,
          1,
          1,
          1,
          1,
          1,
          1,
          1,
          1,
          1,
          1,
          1,
          1,
          1,
          1,
          1,
          1,
          1,
          1,
          1,
          1,
          1,
          1,
          1,
          1,
          1,
          1,
          1,
          1,
          1,
          1,
          1,
          1,
          1,
          1,
          1,
          1,
          1,
          1,
          1,
          1,
          1,
          1,
          1,
          1,
          1,
          1,
          1,
          1,
          1,
          1,
          1,
          1,
          1,
          1,
          1,
          1,
          1,
          1,
          1,
          1,
          1,
          1,
          1,
          1,
          1,
          1,
          1,
          1,
          1,
          1,
          1,
          1,
          1,
          1,
          1,
          1,
          1,
          1,
          1,
          1,
          1,
          1,
          1,
          1,
          1,
          1,
          1,
          1,
          1,
          1,
          1,
          1,
          1,
          1,
          1,
          1,
          1,
          1,
          1,
          1,
          1,
          1,
          1,
          1,
          1,
          1,
          1,
          1,
          1,
          1,
          1,
          1,
          1,
          1,
          1,
          1,
          1,
          1,
          1,
          1,
          1,
          1,
          1,
          1,
          1,
          1,
          1,
          1,
          1,
          1,
          1,
          1,
          1,
          1,
          1,
          1,
          1,
          1,
          1,
          1,
          1,
          1,
          1,
          1,
          1,
          1,
          1,
          1,
          1,
          1,
          1,
          1,
          1,
          1,
          1,
          1,
          1,
          1,
          1,
          1,
          1,
          1,
          1,
          1,
          1,
          1,
          1,
          1,
          1,
          1,
          1,
          1,
          1,
          1,
          1,
          1,
          1,
          1
         ]
        }
       ],
       "layout": {
        "legend": {
         "bgcolor": "#F5F6F9",
         "font": {
          "color": "#4D5663"
         }
        },
        "paper_bgcolor": "#F5F6F9",
        "plot_bgcolor": "#F5F6F9",
        "template": {
         "data": {
          "bar": [
           {
            "error_x": {
             "color": "#2a3f5f"
            },
            "error_y": {
             "color": "#2a3f5f"
            },
            "marker": {
             "line": {
              "color": "#E5ECF6",
              "width": 0.5
             },
             "pattern": {
              "fillmode": "overlay",
              "size": 10,
              "solidity": 0.2
             }
            },
            "type": "bar"
           }
          ],
          "barpolar": [
           {
            "marker": {
             "line": {
              "color": "#E5ECF6",
              "width": 0.5
             },
             "pattern": {
              "fillmode": "overlay",
              "size": 10,
              "solidity": 0.2
             }
            },
            "type": "barpolar"
           }
          ],
          "carpet": [
           {
            "aaxis": {
             "endlinecolor": "#2a3f5f",
             "gridcolor": "white",
             "linecolor": "white",
             "minorgridcolor": "white",
             "startlinecolor": "#2a3f5f"
            },
            "baxis": {
             "endlinecolor": "#2a3f5f",
             "gridcolor": "white",
             "linecolor": "white",
             "minorgridcolor": "white",
             "startlinecolor": "#2a3f5f"
            },
            "type": "carpet"
           }
          ],
          "choropleth": [
           {
            "colorbar": {
             "outlinewidth": 0,
             "ticks": ""
            },
            "type": "choropleth"
           }
          ],
          "contour": [
           {
            "colorbar": {
             "outlinewidth": 0,
             "ticks": ""
            },
            "colorscale": [
             [
              0,
              "#0d0887"
             ],
             [
              0.1111111111111111,
              "#46039f"
             ],
             [
              0.2222222222222222,
              "#7201a8"
             ],
             [
              0.3333333333333333,
              "#9c179e"
             ],
             [
              0.4444444444444444,
              "#bd3786"
             ],
             [
              0.5555555555555556,
              "#d8576b"
             ],
             [
              0.6666666666666666,
              "#ed7953"
             ],
             [
              0.7777777777777778,
              "#fb9f3a"
             ],
             [
              0.8888888888888888,
              "#fdca26"
             ],
             [
              1,
              "#f0f921"
             ]
            ],
            "type": "contour"
           }
          ],
          "contourcarpet": [
           {
            "colorbar": {
             "outlinewidth": 0,
             "ticks": ""
            },
            "type": "contourcarpet"
           }
          ],
          "heatmap": [
           {
            "colorbar": {
             "outlinewidth": 0,
             "ticks": ""
            },
            "colorscale": [
             [
              0,
              "#0d0887"
             ],
             [
              0.1111111111111111,
              "#46039f"
             ],
             [
              0.2222222222222222,
              "#7201a8"
             ],
             [
              0.3333333333333333,
              "#9c179e"
             ],
             [
              0.4444444444444444,
              "#bd3786"
             ],
             [
              0.5555555555555556,
              "#d8576b"
             ],
             [
              0.6666666666666666,
              "#ed7953"
             ],
             [
              0.7777777777777778,
              "#fb9f3a"
             ],
             [
              0.8888888888888888,
              "#fdca26"
             ],
             [
              1,
              "#f0f921"
             ]
            ],
            "type": "heatmap"
           }
          ],
          "heatmapgl": [
           {
            "colorbar": {
             "outlinewidth": 0,
             "ticks": ""
            },
            "colorscale": [
             [
              0,
              "#0d0887"
             ],
             [
              0.1111111111111111,
              "#46039f"
             ],
             [
              0.2222222222222222,
              "#7201a8"
             ],
             [
              0.3333333333333333,
              "#9c179e"
             ],
             [
              0.4444444444444444,
              "#bd3786"
             ],
             [
              0.5555555555555556,
              "#d8576b"
             ],
             [
              0.6666666666666666,
              "#ed7953"
             ],
             [
              0.7777777777777778,
              "#fb9f3a"
             ],
             [
              0.8888888888888888,
              "#fdca26"
             ],
             [
              1,
              "#f0f921"
             ]
            ],
            "type": "heatmapgl"
           }
          ],
          "histogram": [
           {
            "marker": {
             "pattern": {
              "fillmode": "overlay",
              "size": 10,
              "solidity": 0.2
             }
            },
            "type": "histogram"
           }
          ],
          "histogram2d": [
           {
            "colorbar": {
             "outlinewidth": 0,
             "ticks": ""
            },
            "colorscale": [
             [
              0,
              "#0d0887"
             ],
             [
              0.1111111111111111,
              "#46039f"
             ],
             [
              0.2222222222222222,
              "#7201a8"
             ],
             [
              0.3333333333333333,
              "#9c179e"
             ],
             [
              0.4444444444444444,
              "#bd3786"
             ],
             [
              0.5555555555555556,
              "#d8576b"
             ],
             [
              0.6666666666666666,
              "#ed7953"
             ],
             [
              0.7777777777777778,
              "#fb9f3a"
             ],
             [
              0.8888888888888888,
              "#fdca26"
             ],
             [
              1,
              "#f0f921"
             ]
            ],
            "type": "histogram2d"
           }
          ],
          "histogram2dcontour": [
           {
            "colorbar": {
             "outlinewidth": 0,
             "ticks": ""
            },
            "colorscale": [
             [
              0,
              "#0d0887"
             ],
             [
              0.1111111111111111,
              "#46039f"
             ],
             [
              0.2222222222222222,
              "#7201a8"
             ],
             [
              0.3333333333333333,
              "#9c179e"
             ],
             [
              0.4444444444444444,
              "#bd3786"
             ],
             [
              0.5555555555555556,
              "#d8576b"
             ],
             [
              0.6666666666666666,
              "#ed7953"
             ],
             [
              0.7777777777777778,
              "#fb9f3a"
             ],
             [
              0.8888888888888888,
              "#fdca26"
             ],
             [
              1,
              "#f0f921"
             ]
            ],
            "type": "histogram2dcontour"
           }
          ],
          "mesh3d": [
           {
            "colorbar": {
             "outlinewidth": 0,
             "ticks": ""
            },
            "type": "mesh3d"
           }
          ],
          "parcoords": [
           {
            "line": {
             "colorbar": {
              "outlinewidth": 0,
              "ticks": ""
             }
            },
            "type": "parcoords"
           }
          ],
          "pie": [
           {
            "automargin": true,
            "type": "pie"
           }
          ],
          "scatter": [
           {
            "fillpattern": {
             "fillmode": "overlay",
             "size": 10,
             "solidity": 0.2
            },
            "type": "scatter"
           }
          ],
          "scatter3d": [
           {
            "line": {
             "colorbar": {
              "outlinewidth": 0,
              "ticks": ""
             }
            },
            "marker": {
             "colorbar": {
              "outlinewidth": 0,
              "ticks": ""
             }
            },
            "type": "scatter3d"
           }
          ],
          "scattercarpet": [
           {
            "marker": {
             "colorbar": {
              "outlinewidth": 0,
              "ticks": ""
             }
            },
            "type": "scattercarpet"
           }
          ],
          "scattergeo": [
           {
            "marker": {
             "colorbar": {
              "outlinewidth": 0,
              "ticks": ""
             }
            },
            "type": "scattergeo"
           }
          ],
          "scattergl": [
           {
            "marker": {
             "colorbar": {
              "outlinewidth": 0,
              "ticks": ""
             }
            },
            "type": "scattergl"
           }
          ],
          "scattermapbox": [
           {
            "marker": {
             "colorbar": {
              "outlinewidth": 0,
              "ticks": ""
             }
            },
            "type": "scattermapbox"
           }
          ],
          "scatterpolar": [
           {
            "marker": {
             "colorbar": {
              "outlinewidth": 0,
              "ticks": ""
             }
            },
            "type": "scatterpolar"
           }
          ],
          "scatterpolargl": [
           {
            "marker": {
             "colorbar": {
              "outlinewidth": 0,
              "ticks": ""
             }
            },
            "type": "scatterpolargl"
           }
          ],
          "scatterternary": [
           {
            "marker": {
             "colorbar": {
              "outlinewidth": 0,
              "ticks": ""
             }
            },
            "type": "scatterternary"
           }
          ],
          "surface": [
           {
            "colorbar": {
             "outlinewidth": 0,
             "ticks": ""
            },
            "colorscale": [
             [
              0,
              "#0d0887"
             ],
             [
              0.1111111111111111,
              "#46039f"
             ],
             [
              0.2222222222222222,
              "#7201a8"
             ],
             [
              0.3333333333333333,
              "#9c179e"
             ],
             [
              0.4444444444444444,
              "#bd3786"
             ],
             [
              0.5555555555555556,
              "#d8576b"
             ],
             [
              0.6666666666666666,
              "#ed7953"
             ],
             [
              0.7777777777777778,
              "#fb9f3a"
             ],
             [
              0.8888888888888888,
              "#fdca26"
             ],
             [
              1,
              "#f0f921"
             ]
            ],
            "type": "surface"
           }
          ],
          "table": [
           {
            "cells": {
             "fill": {
              "color": "#EBF0F8"
             },
             "line": {
              "color": "white"
             }
            },
            "header": {
             "fill": {
              "color": "#C8D4E3"
             },
             "line": {
              "color": "white"
             }
            },
            "type": "table"
           }
          ]
         },
         "layout": {
          "annotationdefaults": {
           "arrowcolor": "#2a3f5f",
           "arrowhead": 0,
           "arrowwidth": 1
          },
          "autotypenumbers": "strict",
          "coloraxis": {
           "colorbar": {
            "outlinewidth": 0,
            "ticks": ""
           }
          },
          "colorscale": {
           "diverging": [
            [
             0,
             "#8e0152"
            ],
            [
             0.1,
             "#c51b7d"
            ],
            [
             0.2,
             "#de77ae"
            ],
            [
             0.3,
             "#f1b6da"
            ],
            [
             0.4,
             "#fde0ef"
            ],
            [
             0.5,
             "#f7f7f7"
            ],
            [
             0.6,
             "#e6f5d0"
            ],
            [
             0.7,
             "#b8e186"
            ],
            [
             0.8,
             "#7fbc41"
            ],
            [
             0.9,
             "#4d9221"
            ],
            [
             1,
             "#276419"
            ]
           ],
           "sequential": [
            [
             0,
             "#0d0887"
            ],
            [
             0.1111111111111111,
             "#46039f"
            ],
            [
             0.2222222222222222,
             "#7201a8"
            ],
            [
             0.3333333333333333,
             "#9c179e"
            ],
            [
             0.4444444444444444,
             "#bd3786"
            ],
            [
             0.5555555555555556,
             "#d8576b"
            ],
            [
             0.6666666666666666,
             "#ed7953"
            ],
            [
             0.7777777777777778,
             "#fb9f3a"
            ],
            [
             0.8888888888888888,
             "#fdca26"
            ],
            [
             1,
             "#f0f921"
            ]
           ],
           "sequentialminus": [
            [
             0,
             "#0d0887"
            ],
            [
             0.1111111111111111,
             "#46039f"
            ],
            [
             0.2222222222222222,
             "#7201a8"
            ],
            [
             0.3333333333333333,
             "#9c179e"
            ],
            [
             0.4444444444444444,
             "#bd3786"
            ],
            [
             0.5555555555555556,
             "#d8576b"
            ],
            [
             0.6666666666666666,
             "#ed7953"
            ],
            [
             0.7777777777777778,
             "#fb9f3a"
            ],
            [
             0.8888888888888888,
             "#fdca26"
            ],
            [
             1,
             "#f0f921"
            ]
           ]
          },
          "colorway": [
           "#636efa",
           "#EF553B",
           "#00cc96",
           "#ab63fa",
           "#FFA15A",
           "#19d3f3",
           "#FF6692",
           "#B6E880",
           "#FF97FF",
           "#FECB52"
          ],
          "font": {
           "color": "#2a3f5f"
          },
          "geo": {
           "bgcolor": "white",
           "lakecolor": "white",
           "landcolor": "#E5ECF6",
           "showlakes": true,
           "showland": true,
           "subunitcolor": "white"
          },
          "hoverlabel": {
           "align": "left"
          },
          "hovermode": "closest",
          "mapbox": {
           "style": "light"
          },
          "paper_bgcolor": "white",
          "plot_bgcolor": "#E5ECF6",
          "polar": {
           "angularaxis": {
            "gridcolor": "white",
            "linecolor": "white",
            "ticks": ""
           },
           "bgcolor": "#E5ECF6",
           "radialaxis": {
            "gridcolor": "white",
            "linecolor": "white",
            "ticks": ""
           }
          },
          "scene": {
           "xaxis": {
            "backgroundcolor": "#E5ECF6",
            "gridcolor": "white",
            "gridwidth": 2,
            "linecolor": "white",
            "showbackground": true,
            "ticks": "",
            "zerolinecolor": "white"
           },
           "yaxis": {
            "backgroundcolor": "#E5ECF6",
            "gridcolor": "white",
            "gridwidth": 2,
            "linecolor": "white",
            "showbackground": true,
            "ticks": "",
            "zerolinecolor": "white"
           },
           "zaxis": {
            "backgroundcolor": "#E5ECF6",
            "gridcolor": "white",
            "gridwidth": 2,
            "linecolor": "white",
            "showbackground": true,
            "ticks": "",
            "zerolinecolor": "white"
           }
          },
          "shapedefaults": {
           "line": {
            "color": "#2a3f5f"
           }
          },
          "ternary": {
           "aaxis": {
            "gridcolor": "white",
            "linecolor": "white",
            "ticks": ""
           },
           "baxis": {
            "gridcolor": "white",
            "linecolor": "white",
            "ticks": ""
           },
           "bgcolor": "#E5ECF6",
           "caxis": {
            "gridcolor": "white",
            "linecolor": "white",
            "ticks": ""
           }
          },
          "title": {
           "x": 0.05
          },
          "xaxis": {
           "automargin": true,
           "gridcolor": "white",
           "linecolor": "white",
           "ticks": "",
           "title": {
            "standoff": 15
           },
           "zerolinecolor": "white",
           "zerolinewidth": 2
          },
          "yaxis": {
           "automargin": true,
           "gridcolor": "white",
           "linecolor": "white",
           "ticks": "",
           "title": {
            "standoff": 15
           },
           "zerolinecolor": "white",
           "zerolinewidth": 2
          }
         }
        },
        "title": {
         "font": {
          "color": "#4D5663"
         },
         "text": "Most attendence"
        },
        "xaxis": {
         "gridcolor": "#E1E5ED",
         "showgrid": true,
         "tickfont": {
          "color": "#4D5663"
         },
         "title": {
          "font": {
           "color": "#4D5663"
          },
          "text": ""
         },
         "zerolinecolor": "#E1E5ED"
        },
        "yaxis": {
         "gridcolor": "#E1E5ED",
         "showgrid": true,
         "tickfont": {
          "color": "#4D5663"
         },
         "title": {
          "font": {
           "color": "#4D5663"
          },
          "text": ""
         },
         "zerolinecolor": "#E1E5ED"
        }
       }
      },
      "text/html": [
       "<div>                            <div id=\"8dcd923a-c161-4959-9db0-1f97e709d3a2\" class=\"plotly-graph-div\" style=\"height:525px; width:100%;\"></div>            <script type=\"text/javascript\">                require([\"plotly\"], function(Plotly) {                    window.PLOTLYENV=window.PLOTLYENV || {};\n",
       "                    window.PLOTLYENV.BASE_URL='https://plot.ly';                                    if (document.getElementById(\"8dcd923a-c161-4959-9db0-1f97e709d3a2\")) {                    Plotly.newPlot(                        \"8dcd923a-c161-4959-9db0-1f97e709d3a2\",                        [{\"line\":{\"color\":\"rgba(255, 153, 51, 1.0)\",\"dash\":\"solid\",\"shape\":\"linear\",\"width\":1.3},\"mode\":\"lines\",\"name\":\"None\",\"text\":\"\",\"x\":[\"(Parc des Princes,45500.0)\",\"(La Beaujoire,35500.0)\",\"(Stade du Parc Lescure,31800.0)\",\"(Stade de Gerland,39100.0)\",\"(Stade Vlodrome,55000.0)\",\"(Stade Municipal,33500.0)\",\"(Gottlieb-Daimler-Stadion,52000.0)\",\"(FIFA World Cup Stadium, Munich,66000.0)\",\"(Stade Geoffroy Guichard,30600.0)\",\"(La Mosson,29800.0)\",\"(FIFA World Cup Stadium, Cologne,45000.0)\",\"(FIFA World Cup Stadium, Frankfurt,48000.0)\",\"(FIFA World Cup Stadium, Gelsenkirchen,52000.0)\",\"(FIFA World Cup Stadium, Hanover,43000.0)\",\"(FIFA World Cup Stadium, Dortmund,65000.0)\",\"(Stade Felix Bollaert,38100.0)\",\"(Olympiastadion,72000.0)\",\"(Franken-Stadion,41000.0)\",\"(Fritz-Walter-Stadion,46000.0)\",\"(Zentralstadion,43000.0)\",\"(Stade de France,77000.0)\",\"(Stade de France,80000.0)\",\"(FIFA World Cup Stadium, Hamburg,50000.0)\",\"(Stadio Olimpico,73303.0)\",\"(Estadio Castelao,60342.0)\",\"(Della Favorita,33288.0)\",\"(Waldstadion,62000.0)\",\"(Estadio do Maracana,74738.0)\",\"(Cape Town Stadium,64100.0)\",\"(Camp Nou,65000.0)\",\"(Estadio do Maracana,74240.0)\",\"(Rose Bowl,91856.0)\",\"(Stanford Stadium,83401.0)\",\"(Rose Bowl,93869.0)\",\"(Stadio delle Alpi,62628.0)\",\"(Cotton Bowl,63998.0)\",\"(Estadio Castelao,58817.0)\",\"(Neckarstadion,70100.0)\",\"(Foxboro Stadium,54453.0)\",\"(Santiago Bernabeu,75000.0)\",\"(Soccer City Stadium,84490.0)\",\"(Estadio Azteca,114600.0)\",\"(Estadio Azteca,114580.0)\",\"(Estadio do Maracana,73804.0)\",\"(El Molinon,42000.0)\",\"(Jalisco,45000.0)\",\"(Luis Casanova,49562.0)\",\"(Arena de Sao Paulo,63267.0)\",\"(La Romareda,25000.0)\",\"(Westfalenstadion,53700.0)\",\"(Estadio Nacional,68551.0)\",\"(Estadio Nacional,68034.0)\",\"(Arena Fonte Nova,51179.0)\",\"(Arena Fonte Nova,51227.0)\",\"(Estadio Nacional,67882.0)\",\"(Arena Pernambuco,41242.0)\",\"(Estadio Mineirao,58141.0)\",\"(Estadio Mineirao,57714.0)\",\"(Arena de Sao Paulo,63255.0)\",\"(Sarria,44000.0)\",\"(Vicente Calderon,37000.0)\",\"(Tres de Marzo,28000.0)\",\"(Parque Central,18306.0)\",\"(Parc des Princes,20025.0)\",\"(Port Elizabeth Stadium,34872.0)\",\"(Port Elizabeth Stadium,36893.0)\",\"(Port Elizabeth Stadium,37034.0)\",\"(Orjans Vall,10647.0)\",\"(Olympiastadion,81100.0)\",\"(Olympiastadion,78200.0)\",\"(Parque Central,18346.0)\",\"(Olympiastadion,77100.0)\",\"(Parque Central,9249.0)\",\"(Olympiastadion,69000.0)\",\"(Olympiastadion,53000.0)\",\"(Olympiastadion,28300.0)\",\"(Port Elizabeth Stadium,38294.0)\",\"(Parkstadion,68348.0)\",\"(Olympiastadion,25900.0)\",\"(Olympiastadion,25300.0)\",\"(Olympiastadion,17400.0)\",\"(Parkstadion,56548.0)\",\"(Parkstadion,31700.0)\",\"(Olympia Stadium,25000.0)\",\"(Olympia Stadium,16418.0)\",\"(Old Trafford Stadium,29886.0)\",\"(Old Trafford Stadium,25438.0)\",\"(Port Elizabeth Stadium,40186.0)\",\"(Old Trafford Stadium,24129.0)\",\"(Port Elizabeth Stadium,36254.0)\",\"(Parque Central,23409.0)\",\"(Parc des Princes,20000.0)\",\"(Parque Central,24059.0)\",\"(Pacaembu,44802.0)\",\"(Pacaembu,42032.0)\",\"(Pacaembu,36502.0)\",\"(Peter Mokaba Stadium,30325.0)\",\"(Pacaembu,25811.0)\",\"(Pacaembu,11227.0)\",\"(Peter Mokaba Stadium,34850.0)\",\"(Peter Mokaba Stadium,35370.0)\",\"(Pacaembu,7987.0)\",\"(Peter Mokaba Stadium,38891.0)\",\"(Osaka Nagai Stadium,45213.0)\",\"(Pocitos,2549.0)\",\"(Osaka Nagai Stadium,44864.0)\",\"(Pocitos,4444.0)\",\"(Pontiac Silverdome,61428.0)\",\"(Oita Stadium Big Eye,39747.0)\",\"(Parc des Princes,27152.0)\",\"(Osaka Nagai Stadium,44233.0)\",\"(Pontiac Silverdome,71528.0)\",\"(Pontiac Silverdome,73425.0)\",\"(Parkstadion,54254.0)\",\"(Pontiac Silverdome,77217.0)\",\"(Port Elizabeth Stadium,30597.0)\",\"(Orjans Vall,14174.0)\",\"(Port Elizabeth Stadium,31513.0)\",\"(Parkstadion,36200.0)\",\"(Nou Camp - Estadio Len,36540.0)\",\"(Oita Stadium Big Eye,39700.0)\",\"(Mbombela Stadium,38229.0)\",\"(Malmo Stadion,31156.0)\",\"(Marc Antonio Bentegodi,32790.0)\",\"(Marc Antonio Bentegodi,33759.0)\",\"(Marc Antonio Bentegodi,35500.0)\",\"(Marc Antonio Bentegodi,35950.0)\",\"(Mbombela Stadium,32664.0)\",\"(Mbombela Stadium,34763.0)\",\"(Mbombela Stadium,37836.0)\",\"(Miyagi Stadium,45610.0)\",\"(Nacional,65440.0)\",\"(Miyagi Stadium,45666.0)\",\"(Miyagi Stadium,45777.0)\",\"(Munsu Football Stadium,30157.0)\",\"(Munsu Football Stadium,33842.0)\",\"(Munsu Football Stadium,37337.0)\",\"(Nacional,59828.0)\",\"(Nacional,63324.0)\",\"(Nacional,64922.0)\",\"(Malmo Stadion,21990.0)\",\"(Malmo Stadion,20055.0)\",\"(Malmo Stadion,6196.0)\",\"(Luis Dosal,26851.0)\",\"(Littorale,23000.0)\",\"(Littorio,9000.0)\",\"(Loftus Versfeld Stadium,35827.0)\",\"(Loftus Versfeld Stadium,36742.0)\",\"(Loftus Versfeld Stadium,38074.0)\",\"(Loftus Versfeld Stadium,38833.0)\",\"(Loftus Versfeld Stadium,41958.0)\",\"(Loftus Versfeld Stadium,42658.0)\",\"(Luigi Ferraris,21000.0)\",\"(Luigi Ferraris,30223.0)\",\"(Luigi Ferraris,30867.0)\",\"(Luigi Ferraris,31818.0)\",\"(Luigi Ferraris,31823.0)\",\"(Luis Casanova,48000.0)\",\"(Luis Dosal,9624.0)\",\"(Luis Dosal,9890.0)\",\"(Luis Dosal,13433.0)\",\"(Nacional,65006.0)\",\"(Nacional,66057.0)\",\"(Oita Stadium Big Eye,39291.0)\",\"(Nuevo Estadio,15000.0)\",\"(Nou Camp - Estadio Len,13537.0)\",\"(Nou Camp - Estadio Len,13765.0)\",\"(Nou Camp - Estadio Len,17875.0)\",\"(Nou Camp - Estadio Len,23357.0)\",\"(Nou Camp - Estadio Len,31420.0)\",\"(Nou Camp - Estadio Len,32277.0)\",\"(RFK Stadium,52395.0)\",\"(Nou Camp - Estadio Len,65500.0)\",\"(Nuevo Estadio,23000.0)\",\"(Nacional,66697.0)\",\"(Nuevo Estadio,37000.0)\",\"(Nya Ullevi,23182.0)\",\"(Nya Ullevi,25923.0)\",\"(Nya Ullevi,32483.0)\",\"(Nya Ullevi,40895.0)\",\"(Nya Ullevi,49348.0)\",\"(Nya Ullevi,49471.0)\",\"(Nya Ullevi,50928.0)\",\"(Nou Camp - Estadio Len,12942.0)\",\"(Nou Camp - Estadio Len,12710.0)\",\"(Nou Camp - Estadio Len,12299.0)\",\"(Niigata Stadium Big Swan,40582.0)\",\"(Nacional,67224.0)\",\"(Nacional,68679.0)\",\"(Nacional,76594.0)\",\"(Nazionale PNF,15000.0)\",\"(Nazionale PNF,25000.0)\",\"(Nazionale PNF,55000.0)\",\"(Neckarstadion,32700.0)\",\"(Neckarstadion,44955.0)\",\"(Neza,18000.0)\",\"(Neza,20000.0)\",\"(Neza,26500.0)\",\"(Niedersachsenstadion,13400.0)\",\"(Niedersachsenstadion,39400.0)\",\"(Niedersachsenstadion,55100.0)\",\"(Niedersachsenstadion,59863.0)\",\"(Niigata Stadium Big Swan,32239.0)\",\"(Niigata Stadium Big Swan,33679.0)\",\"(RFK Stadium,50535.0)\",\"(Renato Dall Ara,30791.0)\",\"(RFK Stadium,52535.0)\",\"(Stade de France,76000.0)\",\"(Stade du Parc Lescure,12000.0)\",\"(Stade du Parc Lescure,18141.0)\",\"(Stade du Parc Lescure,22021.0)\",\"(Stadio Benito Mussolini,12000.0)\",\"(Stadio Benito Mussolini,16000.0)\",\"(Stadio Olimpico,73423.0)\",\"(Stadio Olimpico,73603.0)\",\"(Stadio San Nicola,37307.0)\",\"(Stadio San Nicola,38687.0)\",\"(Stadio San Nicola,42907.0)\",\"(Stadio San Nicola,47673.0)\",\"(Stadio San Nicola,51426.0)\",\"(Stadio delle Alpi,58007.0)\",\"(Stadio delle Alpi,61381.0)\",\"(Stadio delle Alpi,62502.0)\",\"(Stanford Stadium,74914.0)\",\"(Stanford Stadium,81061.0)\",\"(Stade de la Meinau,13452.0)\",\"(Stade Vlodrome,54000.0)\",\"(Soccer City Stadium,84455.0)\",\"(Stade Vlodrome,33000.0)\",\"(Soldier Field,63089.0)\",\"(Soldier Field,63113.0)\",\"(Soldier Field,63117.0)\",\"(Soldier Field,63160.0)\",\"(St. Jakob,14000.0)\",\"(St. Jakob,28000.0)\",\"(St. Jakob,30000.0)\",\"(St. Jakob,34000.0)\",\"(St. Jakob,56000.0)\",\"(St. Jakob,58000.0)\",\"(Stade Felix Bollaert,31800.0)\",\"(Stade Municipal,7000.0)\",\"(Stade Municipal,8000.0)\",\"(Stade Olympique,30454.0)\",\"(Stade Olympique,45000.0)\",\"(Stade Olympique,58455.0)\",\"(Stade Vlodrome,19000.0)\",\"(Stanford Stadium,83500.0)\",\"(Stanford Stadium,84147.0)\",\"(Suwon World Cup Stadium,33681.0)\",\"(Suwon World Cup Stadium,37306.0)\",\"(Wankdorf Stadium,28000.0)\",\"(Wankdorf Stadium,40000.0)\",\"(Wankdorf Stadium,43500.0)\",\"(Wankdorf Stadium,62500.0)\",\"(Wembley Stadium,61112.0)\",\"(Wembley Stadium,69237.0)\",\"(Wembley Stadium,87148.0)\",\"(Wembley Stadium,87696.0)\",\"(Wembley Stadium,90584.0)\",\"(Wembley Stadium,92570.0)\",\"(Wembley Stadium,94493.0)\",\"(Wembley Stadium,96924.0)\",\"(Wembley Stadium,98270.0)\",\"(Westfalenstadion,27000.0)\",\"(Westfalenstadion,53300.0)\",\"(White City,45662.0)\",\"(Zentralstadion,38000.0)\",\"(Wankdorf Stadium,20500.0)\",\"(Waldstadion,58000.0)\",\"(Waldstadion,56000.0)\",\"(Tunavallen,13103.0)\",\"(Suwon World Cup Stadium,38524.0)\",\"(Suwon World Cup Stadium,38926.0)\",\"(Tecnologico,20200.0)\",\"(Tecnologico,22700.0)\",\"(Tecnologico,23000.0)\",\"(Tecnologico,23980.0)\",\"(Tres de Marzo,22000.0)\",\"(Velodrome Municipale,9000.0)\",\"(Volksparkstadion,60200.0)\",\"(Vicente Calderon,20000.0)\",\"(Victor Boucquey,15000.0)\",\"(Villa Park,42187.0)\",\"(Villa Park,42738.0)\",\"(Villa Park,46587.0)\",\"(Volksparkstadion,17000.0)\",\"(Volksparkstadion,53300.0)\",\"(Soldier Field,60246.0)\",\"(Soccer City Stadium,84377.0)\",\"(RFK Stadium,52959.0)\",\"(Rheinstadion,67800.0)\",\"(Riazor,19000.0)\",\"(Riazor,25000.0)\",\"(Rimnersvallen,17788.0)\",\"(Roker Park Ground,16027.0)\",\"(Roker Park Ground,26844.0)\",\"(Roker Park Ground,27199.0)\",\"(Roker Park Ground,27793.0)\",\"(Rose Bowl,90469.0)\",\"(Rose Bowl,91500.0)\",\"(Rose Bowl,93194.0)\",\"(Rose Bowl,94194.0)\",\"(Royal Bafokeng Sports Palace,23871.0)\",\"(Royal Bafokeng Sports Palace,27967.0)\",\"(Royal Bafokeng Sports Palace,33425.0)\",\"(Royal Bafokeng Sports Palace,34812.0)\",\"(Royal Bafokeng Sports Palace,34976.0)\",\"(Royal Bafokeng Sports Palace,38646.0)\",\"(Riazor,11000.0)\",\"(Rheinstadion,67385.0)\",\"(Soccer City Stadium,84017.0)\",\"(Rheinstadion,41300.0)\",\"(RFK Stadium,53121.0)\",\"(Ramon Sanchez Pizjuan,68000.0)\",\"(Ramon Sanchez Pizjuan,70000.0)\",\"(Rasunda Stadium,2823.0)\",\"(Rasunda Stadium,15150.0)\",\"(Rasunda Stadium,27100.0)\",\"(Rasunda Stadium,30287.0)\",\"(Rasunda Stadium,31900.0)\",\"(Rasunda Stadium,34107.0)\",\"(Rasunda Stadium,38850.0)\",\"(Rasunda Stadium,49737.0)\",\"(Renato Dall Ara,27833.0)\",\"(La Rosaleda,45000.0)\",\"(Renato Dall Ara,32257.0)\",\"(Renato Dall Ara,34520.0)\",\"(Rheinstadion,23800.0)\",\"(Rheinstadion,28300.0)\",\"(Ryavallen,15872.0)\",\"(Ryavallen,21239.0)\",\"(Saitama Stadium 2002,52328.0)\",\"(Saitama Stadium 2002,52721.0)\",\"(Sant Elia,35238.0)\",\"(Sant Elia,35267.0)\",\"(Santiago Bernabeu,90000.0)\",\"(Santiago Bernabeu,90089.0)\",\"(Sapporo Dome,31081.0)\",\"(Sapporo Dome,32218.0)\",\"(Sapporo Dome,35927.0)\",\"(Sarria,43000.0)\",\"(Seoul World Cup Stadium,43605.0)\",\"(Seoul World Cup Stadium,62561.0)\",\"(Seoul World Cup Stadium,65256.0)\",\"(Shizuoka Stadium Ecopa,46640.0)\",\"(Shizuoka Stadium Ecopa,47085.0)\",\"(Shizuoka Stadium Ecopa,47436.0)\",\"(Soccer City Stadium,82174.0)\",\"(Soccer City Stadium,83391.0)\",\"(Soccer City Stadium,83465.0)\",\"(Sant Elia,34959.0)\",\"(San Siro,35000.0)\",\"(San Siro,33000.0)\",\"(San Martin,33431.0)\",\"(Saitama Stadium 2002,55256.0)\",\"(Saitama Stadium 2002,61058.0)\",\"(San Mames,39700.0)\",\"(San Mames,41123.0)\",\"(San Mames,44172.0)\",\"(San Martin,28125.0)\",\"(San Martin,31278.0)\",\"(San Martin,35130.0)\",\"(San Siro,3000.0)\",\"(San Martin,35288.0)\",\"(San Martin,39586.0)\",\"(San Paolo,50026.0)\",\"(San Paolo,52733.0)\",\"(San Paolo,55205.0)\",\"(San Paolo,55759.0)\",\"(San Paolo,59978.0)\",\"(Littorale,14000.0)\",\"(Arena Amazonia,39800.0)\",\"(La Rosaleda,36000.0)\",\"(Durival de Brito,7903.0)\",\"(El Molinon,41000.0)\",\"(El Monumental - Estadio Monumental Antonio Vespuci,66695.0)\",\"(El Monumental - Estadio Monumental Antonio Vespuci,67433.0)\",\"(El Monumental - Estadio Monumental Antonio Vespuci,67547.0)\",\"(El Monumental - Estadio Monumental Antonio Vespuci,67579.0)\",\"(El Monumental - Estadio Monumental Antonio Vespuci,69659.0)\",\"(El Monumental - Estadio Monumental Antonio Vespuci,71483.0)\",\"(El Monumental - Estadio Monumental Antonio Vespuci,71615.0)\",\"(El Monumental - Estadio Monumental Antonio Vespuci,71666.0)\",\"(El Monumental - Estadio Monumental Antonio Vespuci,71712.0)\",\"(Ellis Park Stadium,45573.0)\",\"(Ellis Park Stadium,53412.0)\",\"(Ellis Park Stadium,54096.0)\",\"(Ellis Park Stadium,54331.0)\",\"(Ellis Park Stadium,54386.0)\",\"(Ellis Park Stadium,55359.0)\",\"(Ellis Park Stadium,55686.0)\",\"(Durival de Brito,9511.0)\",\"(Durban Stadium,62712.0)\",\"(Estadio Azteca,89979.0)\",\"(Durban Stadium,62660.0)\",\"(Cuauhtemoc,29968.0)\",\"(Cuauhtemoc,32000.0)\",\"(Cuauhtemoc,45000.0)\",\"(Dacia Arena,32733.0)\",\"(Dacia Arena,35713.0)\",\"(Daegu World Cup Stadium,43500.0)\",\"(Daegu World Cup Stadium,47226.0)\",\"(Daegu World Cup Stadium,60778.0)\",\"(Daegu World Cup Stadium,63483.0)\",\"(Daejeon World Cup Stadium,26482.0)\",\"(Daejeon World Cup Stadium,31024.0)\",\"(Daejeon World Cup Stadium,38588.0)\",\"(Durban Stadium,60960.0)\",\"(Durban Stadium,61874.0)\",\"(Durban Stadium,61962.0)\",\"(Durban Stadium,62010.0)\",\"(Durban Stadium,62453.0)\",\"(Estadio Azteca,26085.0)\",\"(Estadio Azteca,92205.0)\",\"(Estadio Irapuato,13800.0)\",\"(Estadio Centenario,12000.0)\",\"(Estadio Centenario,41459.0)\",\"(Estadio Centenario,42100.0)\",\"(Estadio Centenario,57735.0)\",\"(Estadio Centenario,68346.0)\",\"(Estadio Centenario,70022.0)\",\"(Estadio Centenario,72886.0)\",\"(Estadio Centenario,79867.0)\",\"(Estadio Corregidora,30000.0)\",\"(Estadio Corregidora,30500.0)\",\"(Estadio Corregidora,36000.0)\",\"(Estadio Corregidora,38500.0)\",\"(Estadio El Teniente-Codelco,5700.0)\",\"(Estadio El Teniente-Codelco,7134.0)\",\"(Estadio El Teniente-Codelco,7442.0)\",\"(Estadio El Teniente-Codelco,7938.0)\",\"(Estadio El Teniente-Codelco,7945.0)\",\"(Estadio El Teniente-Codelco,9794.0)\",\"(Estadio Centenario,25466.0)\",\"(Estadio Centenario,2000.0)\",\"(Estadio Azteca,95261.0)\",\"(Estadio Castelao,59621.0)\",\"(Estadio Azteca,96000.0)\",\"(Estadio Azteca,98728.0)\",\"(Estadio Azteca,102444.0)\",\"(Estadio Azteca,103058.0)\",\"(Estadio Azteca,103763.0)\",\"(Estadio Azteca,104403.0)\",\"(Estadio Azteca,107160.0)\",\"(Estadio Azteca,107412.0)\",\"(Estadio Azteca,108192.0)\",\"(Estadio Azteca,110000.0)\",\"(Estadio Azteca,114500.0)\",\"(Estadio Beira-Rio,42732.0)\",\"(Estadio Beira-Rio,42877.0)\",\"(Estadio Beira-Rio,43012.0)\",\"(Estadio Beira-Rio,43285.0)\",\"(Estadio Castelao,58679.0)\",\"(Estadio Castelao,59095.0)\",\"(Cuauhtemoc,26000.0)\",\"(Cuauhtemoc,21000.0)\",\"(Cuauhtemoc,20654.0)\",\"(Arena de Sao Paulo,62103.0)\",\"(Arena de Sao Paulo,62996.0)\",\"(Arosvallen,9591.0)\",\"(Arosvallen,12217.0)\",\"(Arroyito - Estadio Dr. Lisandro de la Torre,9624.0)\",\"(Arroyito - Estadio Dr. Lisandro de la Torre,17396.0)\",\"(Arroyito - Estadio Dr. Lisandro de la Torre,22651.0)\",\"(Arroyito - Estadio Dr. Lisandro de la Torre,37091.0)\",\"(Arroyito - Estadio Dr. Lisandro de la Torre,37315.0)\",\"(Arroyito - Estadio Dr. Lisandro de la Torre,37326.0)\",\"(Ayresome Park,13792.0)\",\"(Ayresome Park,17829.0)\",\"(Ayresome Park,23006.0)\",\"(Benito Villamarin,43000.0)\",\"(Benito Villamarin,47379.0)\",\"(Bombonera - Estadio Nemesio Diez,16000.0)\",\"(Bombonera - Estadio Nemesio Diez,20000.0)\",\"(Bombonera - Estadio Nemesio Diez,24000.0)\",\"(Arena de Sao Paulo,62575.0)\",\"(Arena de Sao Paulo,61397.0)\",\"(Cuauhtemoc,20000.0)\",\"(Arena da Baixada,39375.0)\",\"(Arena Amazonia,40123.0)\",\"(Arena Amazonia,40322.0)\",\"(Arena Fonte Nova,48011.0)\",\"(Arena Fonte Nova,48173.0)\",\"(Arena Fonte Nova,51003.0)\",\"(Arena Fonte Nova,51081.0)\",\"(Arena Pantanal,37603.0)\",\"(Arena Pantanal,40275.0)\",\"(Arena Pantanal,40340.0)\",\"(Arena Pantanal,40499.0)\",\"(Arena Pernambuco,40267.0)\",\"(Arena Pernambuco,40285.0)\",\"(Arena Pernambuco,41212.0)\",\"(Arena Pernambuco,41876.0)\",\"(Arena da Baixada,39081.0)\",\"(Arena da Baixada,39224.0)\",\"(Arena da Baixada,39311.0)\",\"(Busan Asiad Main Stadium,25186.0)\",\"(Busan Asiad Main Stadium,38289.0)\",\"(Busan Asiad Main Stadium,48760.0)\",\"(Camp Nou,45000.0)\",\"(Charmilles,17000.0)\",\"(Charmilles,19000.0)\",\"(Citrus Bowl,60578.0)\",\"(Citrus Bowl,60790.0)\",\"(Citrus Bowl,61219.0)\",\"(Citrus Bowl,61355.0)\",\"(Citrus Bowl,62387.0)\",\"(Comunale,33266.0)\",\"(Comunale,34857.0)\",\"(Comunale,38962.0)\",\"(Comunale,38971.0)\",\"(Comunale di Cornaredo,24000.0)\",\"(Cotton Bowl,44132.0)\",\"(Cotton Bowl,56247.0)\",\"(Cotton Bowl,60277.0)\",\"(Cotton Bowl,63500.0)\",\"(Cuauhtemoc,18163.0)\",\"(Charmilles,13470.0)\",\"(Charmilles,4000.0)\",\"(Cavee Verte,11000.0)\",\"(Carlos Dittborn,7167.0)\",\"(Camp Nou,50000.0)\",\"(Camp Nou,95000.0)\",\"(Cape Town Stadium,62479.0)\",\"(Cape Town Stadium,62869.0)\",\"(Cape Town Stadium,62955.0)\",\"(Cape Town Stadium,63093.0)\",\"(Cape Town Stadium,63644.0)\",\"(Carlos Dittborn,7908.0)\",\"(Carlos Tartiere,22500.0)\",\"(Carlos Dittborn,8040.0)\",\"(Carlos Dittborn,8829.0)\",\"(Carlos Dittborn,9622.0)\",\"(Carlos Dittborn,9973.0)\",\"(Carlos Dittborn,17268.0)\",\"(Carlos Tartiere,16000.0)\",\"(Carlos Tartiere,22000.0)\",\"(Estadio El Teniente-Codelco,11690.0)\",\"(Estadio Irapuato,14200.0)\",\"(La Rosaleda,19000.0)\",\"(Hardturm,26000.0)\",\"(Hillsborough,32028.0)\",\"(Hillsborough,32127.0)\",\"(Hillsborough,36127.0)\",\"(Hillsborough,40007.0)\",\"(Idrottsparken,11665.0)\",\"(Idrottsparken,11800.0)\",\"(Idrottsparken,16518.0)\",\"(Ilha do Retiro,8501.0)\",\"(Incheon Football Stadium,42299.0)\",\"(Incheon Football Stadium,48100.0)\",\"(Incheon Football Stadium,50239.0)\",\"(Independencia,5284.0)\",\"(Independencia,7336.0)\",\"(Independencia,10151.0)\",\"(International Stadium Yokohama,65320.0)\",\"(International Stadium Yokohama,65862.0)\",\"(International Stadium Yokohama,66108.0)\",\"(Hardturm,32000.0)\",\"(Hardturm,25000.0)\",\"(Jalisco,35748.0)\",\"(Hardturm,17000.0)\",\"(Giovanni Berta,35000.0)\",\"(Giovanni Berta,43000.0)\",\"(Giuseppe Meazza,71169.0)\",\"(Giuseppe Meazza,72510.0)\",\"(Giuseppe Meazza,73347.0)\",\"(Giuseppe Meazza,73780.0)\",\"(Giuseppe Meazza,74559.0)\",\"(Giuseppe Meazza,74765.0)\",\"(Goodison Park,38273.0)\",\"(Goodison Park,40248.0)\",\"(Goodison Park,47308.0)\",\"(Goodison Park,51387.0)\",\"(Goodison Park,58479.0)\",\"(Gwangju World Cup Stadium,27217.0)\",\"(Gwangju World Cup Stadium,28598.0)\",\"(Gwangju World Cup Stadium,42114.0)\",\"(Hardturm,13000.0)\",\"(International Stadium Yokohama,69029.0)\",\"(Jalisco,48000.0)\",\"(Estadio Irapuato,16500.0)\",\"(Jose Amalfitani,42132.0)\",\"(Jose Rico Perez,32093.0)\",\"(Jose Rico Perez,32500.0)\",\"(Jose Zorrilla,25000.0)\",\"(Arena Amazonia,39982.0)\",\"(Jose Zorrilla,30043.0)\",\"(Kashima Stadium,34050.0)\",\"(Kashima Stadium,35854.0)\",\"(Kashima Stadium,36472.0)\",\"(Kobe Wing Stadium,30957.0)\",\"(Kobe Wing Stadium,36194.0)\",\"(Kobe Wing Stadium,40440.0)\",\"(La Pontaise,16000.0)\",\"(La Pontaise,24637.0)\",\"(La Pontaise,35000.0)\",\"(La Pontaise,43000.0)\",\"(La Pontaise,45000.0)\",\"(La Romareda,15000.0)\",\"(Jose Rico Perez,28000.0)\",\"(Jose Amalfitani,41424.0)\",\"(Jalisco,49292.0)\",\"(Jose Amalfitani,40841.0)\",\"(Jalisco,50560.0)\",\"(Jalisco,50804.0)\",\"(Jalisco,51000.0)\",\"(Jalisco,51261.0)\",\"(Jalisco,52897.0)\",\"(Jalisco,54233.0)\",\"(Jalisco,56818.0)\",\"(Jalisco,65000.0)\",\"(Jalisco,66843.0)\",\"(Jarnvallen,13300.0)\",\"(Jarnvallen,15343.0)\",\"(Jeju World Cup Stadium,25176.0)\",\"(Jeju World Cup Stadium,30176.0)\",\"(Jeju World Cup Stadium,36750.0)\",\"(Jeonju World Cup Stadium,24000.0)\",\"(Jeonju World Cup Stadium,31000.0)\",\"(Jeonju World Cup Stadium,36380.0)\",\"(Giovanni Berta,8000.0)\",\"(Giorgio Ascarelli,9000.0)\",\"(Giorgio Ascarelli,7000.0)\",\"(Estadio Ol\\ufffdmpico Chateau Carreras,25050.0)\",\"(Estadio Ol\\ufffdmpico Chateau Carreras,35258.0)\",\"(Estadio Ol\\ufffdmpico Chateau Carreras,37927.0)\",\"(Estadio Ol\\ufffdmpico Chateau Carreras,38318.0)\",\"(Estadio Ol\\ufffdmpico Chateau Carreras,40750.0)\",\"(Estadio Ol\\ufffdmpico Universitario,45000.0)\",\"(Estadio Ol\\ufffdmpico Universitario,60000.0)\",\"(Estadio Ol\\ufffdmpico Universitario,65000.0)\",\"(Estadio Ol\\ufffdmpico Universitario,70000.0)\",\"(Estadio Sausalito,5890.0)\",\"(Estadio Sausalito,10484.0)\",\"(Estadio Sausalito,10648.0)\",\"(Estadio Sausalito,11875.0)\",\"(Estadio Sausalito,12700.0)\",\"(Estadio Sausalito,14903.0)\",\"(Estadio Sausalito,17736.0)\",\"(Estadio Sausalito,18715.0)\",\"(Estadio Universitario,19800.0)\",\"(Estadio Ol\\ufffdmpico Chateau Carreras,30667.0)\",\"(Estadio Ol\\ufffdmpico Chateau Carreras,21262.0)\",\"(Giants Stadium,76322.0)\",\"(Estadio Ol\\ufffdmpico Chateau Carreras,7938.0)\",\"(Estadio Jos Mara Minella,23127.0)\",\"(Estadio Jos Mara Minella,26533.0)\",\"(Estadio Jos Mara Minella,32569.0)\",\"(Estadio Jos Mara Minella,34771.0)\",\"(Estadio Jos Mara Minella,35221.0)\",\"(Estadio Jos Mara Minella,42373.0)\",\"(Estadio Mineirao,56800.0)\",\"(Estadio Mineirao,57174.0)\",\"(Estadio Mineirao,57698.0)\",\"(Estadio Mineirao,57823.0)\",\"(Estadio Municipal de Bala\\ufffddos,20000.0)\",\"(Estadio Municipal de Bala\\ufffddos,25000.0)\",\"(Estadio Municipal de Bala\\ufffddos,33000.0)\",\"(Estadio Nacional,67540.0)\",\"(Estadio Nacional,68351.0)\",\"(Estadio Nacional,68748.0)\",\"(Estadio Nacional,69112.0)\",\"(Estadio Universitario,19900.0)\",\"(Estadio Universitario,19915.0)\",\"(Estadio Universitario,41700.0)\",\"(Estadio das Dunas,39216.0)\",\"(Foxboro Stadium,53001.0)\",\"(Foxboro Stadium,53400.0)\",\"(Foxboro Stadium,54367.0)\",\"(Foxboro Stadium,54456.0)\",\"(Free State Stadium,26643.0)\",\"(Free State Stadium,28042.0)\",\"(Free State Stadium,30620.0)\",\"(Free State Stadium,31593.0)\",\"(Free State Stadium,39415.0)\",\"(Free State Stadium,40510.0)\",\"(Friuli,29039.0)\",\"(Giants Stadium,71030.0)\",\"(Giants Stadium,72000.0)\",\"(Giants Stadium,72404.0)\",\"(Giants Stadium,74110.0)\",\"(Giants Stadium,74624.0)\",\"(Giants Stadium,75338.0)\",\"(Fort Carree,7000.0)\",\"(FIFA World Cup Stadium, Hamburg,49480.0)\",\"(FIFA World Cup Stadium, Dortmund,62959.0)\",\"(Estdio Jornalista Mrio Filho,29703.0)\",\"(Estadio das Dunas,39485.0)\",\"(Estadio das Dunas,39706.0)\",\"(Estadio das Dunas,39760.0)\",\"(Estadio do Maracana,73749.0)\",\"(Estadio do Maracana,73819.0)\",\"(Estadio do Maracana,74101.0)\",\"(Estdio Jornalista Mrio Filho,19790.0)\",\"(Estdio Jornalista Mrio Filho,74462.0)\",\"(Eyravallen,13554.0)\",\"(Estdio Jornalista Mrio Filho,81649.0)\",\"(Estdio Jornalista Mrio Filho,138886.0)\",\"(Estdio Jornalista Mrio Filho,142429.0)\",\"(Estdio Jornalista Mrio Filho,152772.0)\",\"(Estdio Jornalista Mrio Filho,173850.0)\",\"(Eucaliptos,3580.0)\",\"(Eucaliptos,11078.0)\",\"(Jose Zorrilla,28000.0)\"],\"y\":[6,6,6,6,6,6,6,6,6,6,5,5,5,5,5,5,5,5,5,4,4,4,4,4,3,3,3,3,3,2,2,2,2,2,2,2,2,2,2,2,2,2,2,2,2,2,2,2,2,2,2,2,2,2,2,2,2,2,2,2,2,2,2,1,1,1,1,1,1,1,1,1,1,1,1,1,1,1,1,1,1,1,1,1,1,1,1,1,1,1,1,1,1,1,1,1,1,1,1,1,1,1,1,1,1,1,1,1,1,1,1,1,1,1,1,1,1,1,1,1,1,1,1,1,1,1,1,1,1,1,1,1,1,1,1,1,1,1,1,1,1,1,1,1,1,1,1,1,1,1,1,1,1,1,1,1,1,1,1,1,1,1,1,1,1,1,1,1,1,1,1,1,1,1,1,1,1,1,1,1,1,1,1,1,1,1,1,1,1,1,1,1,1,1,1,1,1,1,1,1,1,1,1,1,1,1,1,1,1,1,1,1,1,1,1,1,1,1,1,1,1,1,1,1,1,1,1,1,1,1,1,1,1,1,1,1,1,1,1,1,1,1,1,1,1,1,1,1,1,1,1,1,1,1,1,1,1,1,1,1,1,1,1,1,1,1,1,1,1,1,1,1,1,1,1,1,1,1,1,1,1,1,1,1,1,1,1,1,1,1,1,1,1,1,1,1,1,1,1,1,1,1,1,1,1,1,1,1,1,1,1,1,1,1,1,1,1,1,1,1,1,1,1,1,1,1,1,1,1,1,1,1,1,1,1,1,1,1,1,1,1,1,1,1,1,1,1,1,1,1,1,1,1,1,1,1,1,1,1,1,1,1,1,1,1,1,1,1,1,1,1,1,1,1,1,1,1,1,1,1,1,1,1,1,1,1,1,1,1,1,1,1,1,1,1,1,1,1,1,1,1,1,1,1,1,1,1,1,1,1,1,1,1,1,1,1,1,1,1,1,1,1,1,1,1,1,1,1,1,1,1,1,1,1,1,1,1,1,1,1,1,1,1,1,1,1,1,1,1,1,1,1,1,1,1,1,1,1,1,1,1,1,1,1,1,1,1,1,1,1,1,1,1,1,1,1,1,1,1,1,1,1,1,1,1,1,1,1,1,1,1,1,1,1,1,1,1,1,1,1,1,1,1,1,1,1,1,1,1,1,1,1,1,1,1,1,1,1,1,1,1,1,1,1,1,1,1,1,1,1,1,1,1,1,1,1,1,1,1,1,1,1,1,1,1,1,1,1,1,1,1,1,1,1,1,1,1,1,1,1,1,1,1,1,1,1,1,1,1,1,1,1,1,1,1,1,1,1,1,1,1,1,1,1,1,1,1,1,1,1,1,1,1,1,1,1,1,1,1,1,1,1,1,1,1,1,1,1,1,1,1,1,1,1,1,1,1,1,1,1,1,1,1,1,1,1,1,1,1,1,1,1,1,1,1,1,1,1,1,1,1,1,1,1,1,1,1,1,1,1,1,1,1,1,1,1,1,1,1,1,1,1,1,1,1,1,1,1,1,1,1,1,1,1,1,1,1,1,1,1,1,1,1,1,1,1,1,1,1,1,1,1,1,1,1,1,1,1,1,1,1,1,1,1,1],\"type\":\"scatter\"}],                        {\"legend\":{\"bgcolor\":\"#F5F6F9\",\"font\":{\"color\":\"#4D5663\"}},\"paper_bgcolor\":\"#F5F6F9\",\"plot_bgcolor\":\"#F5F6F9\",\"template\":{\"data\":{\"barpolar\":[{\"marker\":{\"line\":{\"color\":\"#E5ECF6\",\"width\":0.5},\"pattern\":{\"fillmode\":\"overlay\",\"size\":10,\"solidity\":0.2}},\"type\":\"barpolar\"}],\"bar\":[{\"error_x\":{\"color\":\"#2a3f5f\"},\"error_y\":{\"color\":\"#2a3f5f\"},\"marker\":{\"line\":{\"color\":\"#E5ECF6\",\"width\":0.5},\"pattern\":{\"fillmode\":\"overlay\",\"size\":10,\"solidity\":0.2}},\"type\":\"bar\"}],\"carpet\":[{\"aaxis\":{\"endlinecolor\":\"#2a3f5f\",\"gridcolor\":\"white\",\"linecolor\":\"white\",\"minorgridcolor\":\"white\",\"startlinecolor\":\"#2a3f5f\"},\"baxis\":{\"endlinecolor\":\"#2a3f5f\",\"gridcolor\":\"white\",\"linecolor\":\"white\",\"minorgridcolor\":\"white\",\"startlinecolor\":\"#2a3f5f\"},\"type\":\"carpet\"}],\"choropleth\":[{\"colorbar\":{\"outlinewidth\":0,\"ticks\":\"\"},\"type\":\"choropleth\"}],\"contourcarpet\":[{\"colorbar\":{\"outlinewidth\":0,\"ticks\":\"\"},\"type\":\"contourcarpet\"}],\"contour\":[{\"colorbar\":{\"outlinewidth\":0,\"ticks\":\"\"},\"colorscale\":[[0.0,\"#0d0887\"],[0.1111111111111111,\"#46039f\"],[0.2222222222222222,\"#7201a8\"],[0.3333333333333333,\"#9c179e\"],[0.4444444444444444,\"#bd3786\"],[0.5555555555555556,\"#d8576b\"],[0.6666666666666666,\"#ed7953\"],[0.7777777777777778,\"#fb9f3a\"],[0.8888888888888888,\"#fdca26\"],[1.0,\"#f0f921\"]],\"type\":\"contour\"}],\"heatmapgl\":[{\"colorbar\":{\"outlinewidth\":0,\"ticks\":\"\"},\"colorscale\":[[0.0,\"#0d0887\"],[0.1111111111111111,\"#46039f\"],[0.2222222222222222,\"#7201a8\"],[0.3333333333333333,\"#9c179e\"],[0.4444444444444444,\"#bd3786\"],[0.5555555555555556,\"#d8576b\"],[0.6666666666666666,\"#ed7953\"],[0.7777777777777778,\"#fb9f3a\"],[0.8888888888888888,\"#fdca26\"],[1.0,\"#f0f921\"]],\"type\":\"heatmapgl\"}],\"heatmap\":[{\"colorbar\":{\"outlinewidth\":0,\"ticks\":\"\"},\"colorscale\":[[0.0,\"#0d0887\"],[0.1111111111111111,\"#46039f\"],[0.2222222222222222,\"#7201a8\"],[0.3333333333333333,\"#9c179e\"],[0.4444444444444444,\"#bd3786\"],[0.5555555555555556,\"#d8576b\"],[0.6666666666666666,\"#ed7953\"],[0.7777777777777778,\"#fb9f3a\"],[0.8888888888888888,\"#fdca26\"],[1.0,\"#f0f921\"]],\"type\":\"heatmap\"}],\"histogram2dcontour\":[{\"colorbar\":{\"outlinewidth\":0,\"ticks\":\"\"},\"colorscale\":[[0.0,\"#0d0887\"],[0.1111111111111111,\"#46039f\"],[0.2222222222222222,\"#7201a8\"],[0.3333333333333333,\"#9c179e\"],[0.4444444444444444,\"#bd3786\"],[0.5555555555555556,\"#d8576b\"],[0.6666666666666666,\"#ed7953\"],[0.7777777777777778,\"#fb9f3a\"],[0.8888888888888888,\"#fdca26\"],[1.0,\"#f0f921\"]],\"type\":\"histogram2dcontour\"}],\"histogram2d\":[{\"colorbar\":{\"outlinewidth\":0,\"ticks\":\"\"},\"colorscale\":[[0.0,\"#0d0887\"],[0.1111111111111111,\"#46039f\"],[0.2222222222222222,\"#7201a8\"],[0.3333333333333333,\"#9c179e\"],[0.4444444444444444,\"#bd3786\"],[0.5555555555555556,\"#d8576b\"],[0.6666666666666666,\"#ed7953\"],[0.7777777777777778,\"#fb9f3a\"],[0.8888888888888888,\"#fdca26\"],[1.0,\"#f0f921\"]],\"type\":\"histogram2d\"}],\"histogram\":[{\"marker\":{\"pattern\":{\"fillmode\":\"overlay\",\"size\":10,\"solidity\":0.2}},\"type\":\"histogram\"}],\"mesh3d\":[{\"colorbar\":{\"outlinewidth\":0,\"ticks\":\"\"},\"type\":\"mesh3d\"}],\"parcoords\":[{\"line\":{\"colorbar\":{\"outlinewidth\":0,\"ticks\":\"\"}},\"type\":\"parcoords\"}],\"pie\":[{\"automargin\":true,\"type\":\"pie\"}],\"scatter3d\":[{\"line\":{\"colorbar\":{\"outlinewidth\":0,\"ticks\":\"\"}},\"marker\":{\"colorbar\":{\"outlinewidth\":0,\"ticks\":\"\"}},\"type\":\"scatter3d\"}],\"scattercarpet\":[{\"marker\":{\"colorbar\":{\"outlinewidth\":0,\"ticks\":\"\"}},\"type\":\"scattercarpet\"}],\"scattergeo\":[{\"marker\":{\"colorbar\":{\"outlinewidth\":0,\"ticks\":\"\"}},\"type\":\"scattergeo\"}],\"scattergl\":[{\"marker\":{\"colorbar\":{\"outlinewidth\":0,\"ticks\":\"\"}},\"type\":\"scattergl\"}],\"scattermapbox\":[{\"marker\":{\"colorbar\":{\"outlinewidth\":0,\"ticks\":\"\"}},\"type\":\"scattermapbox\"}],\"scatterpolargl\":[{\"marker\":{\"colorbar\":{\"outlinewidth\":0,\"ticks\":\"\"}},\"type\":\"scatterpolargl\"}],\"scatterpolar\":[{\"marker\":{\"colorbar\":{\"outlinewidth\":0,\"ticks\":\"\"}},\"type\":\"scatterpolar\"}],\"scatter\":[{\"fillpattern\":{\"fillmode\":\"overlay\",\"size\":10,\"solidity\":0.2},\"type\":\"scatter\"}],\"scatterternary\":[{\"marker\":{\"colorbar\":{\"outlinewidth\":0,\"ticks\":\"\"}},\"type\":\"scatterternary\"}],\"surface\":[{\"colorbar\":{\"outlinewidth\":0,\"ticks\":\"\"},\"colorscale\":[[0.0,\"#0d0887\"],[0.1111111111111111,\"#46039f\"],[0.2222222222222222,\"#7201a8\"],[0.3333333333333333,\"#9c179e\"],[0.4444444444444444,\"#bd3786\"],[0.5555555555555556,\"#d8576b\"],[0.6666666666666666,\"#ed7953\"],[0.7777777777777778,\"#fb9f3a\"],[0.8888888888888888,\"#fdca26\"],[1.0,\"#f0f921\"]],\"type\":\"surface\"}],\"table\":[{\"cells\":{\"fill\":{\"color\":\"#EBF0F8\"},\"line\":{\"color\":\"white\"}},\"header\":{\"fill\":{\"color\":\"#C8D4E3\"},\"line\":{\"color\":\"white\"}},\"type\":\"table\"}]},\"layout\":{\"annotationdefaults\":{\"arrowcolor\":\"#2a3f5f\",\"arrowhead\":0,\"arrowwidth\":1},\"autotypenumbers\":\"strict\",\"coloraxis\":{\"colorbar\":{\"outlinewidth\":0,\"ticks\":\"\"}},\"colorscale\":{\"diverging\":[[0,\"#8e0152\"],[0.1,\"#c51b7d\"],[0.2,\"#de77ae\"],[0.3,\"#f1b6da\"],[0.4,\"#fde0ef\"],[0.5,\"#f7f7f7\"],[0.6,\"#e6f5d0\"],[0.7,\"#b8e186\"],[0.8,\"#7fbc41\"],[0.9,\"#4d9221\"],[1,\"#276419\"]],\"sequential\":[[0.0,\"#0d0887\"],[0.1111111111111111,\"#46039f\"],[0.2222222222222222,\"#7201a8\"],[0.3333333333333333,\"#9c179e\"],[0.4444444444444444,\"#bd3786\"],[0.5555555555555556,\"#d8576b\"],[0.6666666666666666,\"#ed7953\"],[0.7777777777777778,\"#fb9f3a\"],[0.8888888888888888,\"#fdca26\"],[1.0,\"#f0f921\"]],\"sequentialminus\":[[0.0,\"#0d0887\"],[0.1111111111111111,\"#46039f\"],[0.2222222222222222,\"#7201a8\"],[0.3333333333333333,\"#9c179e\"],[0.4444444444444444,\"#bd3786\"],[0.5555555555555556,\"#d8576b\"],[0.6666666666666666,\"#ed7953\"],[0.7777777777777778,\"#fb9f3a\"],[0.8888888888888888,\"#fdca26\"],[1.0,\"#f0f921\"]]},\"colorway\":[\"#636efa\",\"#EF553B\",\"#00cc96\",\"#ab63fa\",\"#FFA15A\",\"#19d3f3\",\"#FF6692\",\"#B6E880\",\"#FF97FF\",\"#FECB52\"],\"font\":{\"color\":\"#2a3f5f\"},\"geo\":{\"bgcolor\":\"white\",\"lakecolor\":\"white\",\"landcolor\":\"#E5ECF6\",\"showlakes\":true,\"showland\":true,\"subunitcolor\":\"white\"},\"hoverlabel\":{\"align\":\"left\"},\"hovermode\":\"closest\",\"mapbox\":{\"style\":\"light\"},\"paper_bgcolor\":\"white\",\"plot_bgcolor\":\"#E5ECF6\",\"polar\":{\"angularaxis\":{\"gridcolor\":\"white\",\"linecolor\":\"white\",\"ticks\":\"\"},\"bgcolor\":\"#E5ECF6\",\"radialaxis\":{\"gridcolor\":\"white\",\"linecolor\":\"white\",\"ticks\":\"\"}},\"scene\":{\"xaxis\":{\"backgroundcolor\":\"#E5ECF6\",\"gridcolor\":\"white\",\"gridwidth\":2,\"linecolor\":\"white\",\"showbackground\":true,\"ticks\":\"\",\"zerolinecolor\":\"white\"},\"yaxis\":{\"backgroundcolor\":\"#E5ECF6\",\"gridcolor\":\"white\",\"gridwidth\":2,\"linecolor\":\"white\",\"showbackground\":true,\"ticks\":\"\",\"zerolinecolor\":\"white\"},\"zaxis\":{\"backgroundcolor\":\"#E5ECF6\",\"gridcolor\":\"white\",\"gridwidth\":2,\"linecolor\":\"white\",\"showbackground\":true,\"ticks\":\"\",\"zerolinecolor\":\"white\"}},\"shapedefaults\":{\"line\":{\"color\":\"#2a3f5f\"}},\"ternary\":{\"aaxis\":{\"gridcolor\":\"white\",\"linecolor\":\"white\",\"ticks\":\"\"},\"baxis\":{\"gridcolor\":\"white\",\"linecolor\":\"white\",\"ticks\":\"\"},\"bgcolor\":\"#E5ECF6\",\"caxis\":{\"gridcolor\":\"white\",\"linecolor\":\"white\",\"ticks\":\"\"}},\"title\":{\"x\":0.05},\"xaxis\":{\"automargin\":true,\"gridcolor\":\"white\",\"linecolor\":\"white\",\"ticks\":\"\",\"title\":{\"standoff\":15},\"zerolinecolor\":\"white\",\"zerolinewidth\":2},\"yaxis\":{\"automargin\":true,\"gridcolor\":\"white\",\"linecolor\":\"white\",\"ticks\":\"\",\"title\":{\"standoff\":15},\"zerolinecolor\":\"white\",\"zerolinewidth\":2}}},\"title\":{\"font\":{\"color\":\"#4D5663\"},\"text\":\"Most attendence\"},\"xaxis\":{\"gridcolor\":\"#E1E5ED\",\"showgrid\":true,\"tickfont\":{\"color\":\"#4D5663\"},\"title\":{\"font\":{\"color\":\"#4D5663\"},\"text\":\"\"},\"zerolinecolor\":\"#E1E5ED\"},\"yaxis\":{\"gridcolor\":\"#E1E5ED\",\"showgrid\":true,\"tickfont\":{\"color\":\"#4D5663\"},\"title\":{\"font\":{\"color\":\"#4D5663\"},\"text\":\"\"},\"zerolinecolor\":\"#E1E5ED\"}},                        {\"showLink\": true, \"linkText\": \"Export to plot.ly\", \"plotlyServerURL\": \"https://plot.ly\", \"responsive\": true}                    ).then(function(){\n",
       "                            \n",
       "var gd = document.getElementById('8dcd923a-c161-4959-9db0-1f97e709d3a2');\n",
       "var x = new MutationObserver(function (mutations, observer) {{\n",
       "        var display = window.getComputedStyle(gd).display;\n",
       "        if (!display || display === 'none') {{\n",
       "            console.log([gd, 'removed!']);\n",
       "            Plotly.purge(gd);\n",
       "            observer.disconnect();\n",
       "        }}\n",
       "}});\n",
       "\n",
       "// Listen for the removal of the full notebook cells\n",
       "var notebookContainer = gd.closest('#notebook-container');\n",
       "if (notebookContainer) {{\n",
       "    x.observe(notebookContainer, {childList: true});\n",
       "}}\n",
       "\n",
       "// Listen for the clearing of the current output cell\n",
       "var outputEl = gd.closest('.output');\n",
       "if (outputEl) {{\n",
       "    x.observe(outputEl, {childList: true});\n",
       "}}\n",
       "\n",
       "                        })                };                });            </script>        </div>"
      ]
     },
     "metadata": {},
     "output_type": "display_data"
    }
   ],
   "source": [
    "df1.head()\n",
    "# in which stadium the attendence was very high\n",
    "df1[['Stadium','Attendance']].value_counts().iplot(kind='line', title='Most attendence')"
   ]
  },
  {
   "cell_type": "markdown",
   "metadata": {},
   "source": [
    "We can see that Parc des Princees was the stadium and the count was 45500"
   ]
  },
  {
   "cell_type": "code",
   "execution_count": 95,
   "metadata": {},
   "outputs": [
    {
     "data": {
      "application/vnd.plotly.v1+json": {
       "config": {
        "linkText": "Export to plot.ly",
        "plotlyServerURL": "https://plot.ly",
        "showLink": true
       },
       "data": [
        {
         "marker": {
          "color": "rgba(255, 153, 51, 0.6)",
          "line": {
           "color": "rgba(255, 153, 51, 1.0)",
           "width": 1
          }
         },
         "name": "None",
         "orientation": "v",
         "text": "",
         "type": "bar",
         "x": [
          "(Brazil,0.0)",
          "(Italy,0.0)",
          "(Brazil,1.0)",
          "(Italy,1.0)",
          "(Argentina,1.0)",
          "(Argentina,0.0)",
          "(Netherlands,0.0)",
          "(Germany,0.0)",
          "(Spain,0.0)",
          "(England,0.0)",
          "(Germany FR,0.0)",
          "(Germany FR,1.0)",
          "(France,0.0)",
          "(England,1.0)",
          "(Sweden,0.0)",
          "(Uruguay,0.0)",
          "(Brazil,2.0)",
          "(Argentina,2.0)",
          "(Uruguay,1.0)",
          "(Sweden,1.0)",
          "(Korea Republic,0.0)",
          "(Belgium,0.0)",
          "(USA,0.0)",
          "(Poland,0.0)",
          "(Yugoslavia,0.0)",
          "(Soviet Union,0.0)",
          "(Cameroon,0.0)",
          "(Chile,0.0)",
          "(France,1.0)",
          "(Belgium,1.0)",
          "(Mexico,1.0)",
          "(Mexico,0.0)",
          "(Japan,0.0)",
          "(Spain,1.0)",
          "(Soviet Union,1.0)",
          "(Switzerland,0.0)",
          "(Netherlands,1.0)",
          "(Scotland,0.0)",
          "(Hungary,1.0)",
          "(Austria,0.0)",
          "(Portugal,1.0)",
          "(Portugal,0.0)",
          "(Saudi Arabia,0.0)",
          "(Netherlands,2.0)",
          "(Paraguay,1.0)",
          "(Romania,0.0)",
          "(Nigeria,1.0)",
          "(Korea Republic,1.0)",
          "(Poland,2.0)",
          "(Algeria,0.0)",
          "(Paraguay,0.0)",
          "(Australia,0.0)",
          "(Austria,1.0)",
          "(Czechoslovakia,1.0)",
          "(Yugoslavia,2.0)",
          "(Costa Rica,0.0)",
          "(rn\">Republic of Ireland,0.0)",
          "(Switzerland,1.0)",
          "(Bulgaria,0.0)",
          "(Brazil,3.0)",
          "(Colombia,1.0)",
          "(Denmark,1.0)",
          "(Germany FR,2.0)",
          "(Portugal,2.0)",
          "(France,2.0)",
          "(Czechoslovakia,0.0)",
          "(Honduras,0.0)",
          "(Germany,2.0)",
          "(Germany,1.0)",
          "(Northern Ireland,0.0)",
          "(Germany,3.0)",
          "(Chile,1.0)",
          "(Japan,1.0)",
          "(Italy,2.0)",
          "(Yugoslavia,1.0)",
          "(Cameroon,1.0)",
          "(Bulgaria,1.0)",
          "(Uruguay,2.0)",
          "(Poland,1.0)",
          "(Morocco,0.0)",
          "(USA,1.0)",
          "(Peru,0.0)",
          "(Nigeria,0.0)",
          "(Chile,2.0)",
          "(Ecuador,0.0)",
          "(Colombia,0.0)",
          "(South Africa,0.0)",
          "(Spain,2.0)",
          "(Sweden,2.0)",
          "(France,3.0)",
          "(German DR,0.0)",
          "(Germany FR,3.0)",
          "(Romania,1.0)",
          "(South Africa,1.0)",
          "(Hungary,2.0)",
          "(Hungary,0.0)",
          "(Hungary,3.0)",
          "(Hungary,4.0)",
          "(Scotland,1.0)",
          "(Tunisia,0.0)",
          "(Tunisia,1.0)",
          "(Togo,0.0)",
          "(Soviet Union,3.0)",
          "(Switzerland,2.0)",
          "(USA,2.0)",
          "(Sweden,4.0)",
          "(Zaire,0.0)",
          "(Russia,0.0)",
          "(Uruguay,4.0)",
          "(Korea DPR,0.0)",
          "(Cuba,0.0)",
          "(Greece,0.0)",
          "(Croatia,0.0)",
          "(Iraq,0.0)",
          "(Italy,3.0)",
          "(Ctedivore,0.0)",
          "(Costa Rica,1.0)",
          "(Czech Republic,0.0)",
          "(Greece,1.0)",
          "(Denmark,0.0)",
          "(Ghana,0.0)",
          "(Argentina,3.0)",
          "(Czechoslovakia,3.0)",
          "(Ctedivore,1.0)",
          "(Denmark,2.0)",
          "(Trinidad and Tobago,0.0)",
          "(Croatia,1.0)",
          "(Ecuador,1.0)",
          "(Turkey,2.0)",
          "(Turkey,4.0)",
          "(Northern Ireland,1.0)",
          "(Canada,0.0)",
          "(China PR,0.0)",
          "(Wales,0.0)",
          "(rn\">Serbia and Montenegro,0.0)",
          "(Angola,0.0)",
          "(Yugoslavia,6.0)",
          "(Australia,1.0)",
          "(Austria,4.0)",
          "(Austria,5.0)",
          "(Belgium,2.0)",
          "(England,2.0)",
          "(Uruguay,3.0)",
          "(Bolivia,0.0)",
          "(Bosnia and Herzegovina,1.0)",
          "(Brazil,4.0)",
          "(Ukraine,0.0)",
          "(USA,3.0)",
          "(Spain,3.0)",
          "(Germany FR,4.0)",
          "(England,3.0)",
          "(Mexico,2.0)",
          "(IR Iran,0.0)",
          "(Romania,2.0)",
          "(Iran,0.0)",
          "(Jamaica,1.0)",
          "(Algeria,3.0)",
          "(Korea DPR,1.0)",
          "(Morocco,1.0)",
          "(Germany,4.0)",
          "(Peru,3.0)",
          "(Peru,1.0)",
          "(Netherlands,3.0)",
          "(Paraguay,2.0)",
          "(New Zealand,0.0)",
          "(Nigeria,2.0)",
          "(Russia,3.0)",
          "(Honduras,1.0)",
          "(Saudi Arabia,2.0)",
          "(Haiti,0.0)",
          "(Scotland,3.0)",
          "(Senegal,0.0)",
          "(Senegal,3.0)",
          "(Serbia,0.0)",
          "(Slovakia,0.0)",
          "(Slovakia,1.0)",
          "(Slovenia,0.0)",
          "(Slovenia,1.0)",
          "(Slovenia,2.0)",
          "(Ghana,2.0)",
          "(Ghana,1.0)",
          "(Soviet Union,2.0)",
          "(Norway,0.0)",
          "(rn\">United Arab Emirates,0.0)"
         ],
         "y": [
          39,
          28,
          26,
          24,
          22,
          20,
          20,
          19,
          19,
          18,
          18,
          17,
          16,
          15,
          13,
          12,
          12,
          10,
          10,
          9,
          9,
          9,
          9,
          8,
          8,
          8,
          8,
          8,
          8,
          8,
          8,
          7,
          7,
          7,
          7,
          6,
          6,
          6,
          6,
          6,
          6,
          6,
          5,
          5,
          5,
          5,
          5,
          5,
          5,
          5,
          5,
          5,
          5,
          5,
          5,
          5,
          5,
          4,
          4,
          4,
          4,
          4,
          4,
          4,
          4,
          4,
          4,
          4,
          4,
          4,
          4,
          3,
          3,
          3,
          3,
          3,
          3,
          3,
          3,
          3,
          3,
          3,
          3,
          3,
          3,
          3,
          3,
          3,
          3,
          3,
          3,
          3,
          3,
          3,
          3,
          3,
          3,
          3,
          2,
          2,
          2,
          2,
          2,
          2,
          2,
          2,
          2,
          2,
          2,
          2,
          2,
          2,
          2,
          2,
          2,
          2,
          2,
          2,
          2,
          2,
          2,
          2,
          1,
          1,
          1,
          1,
          1,
          1,
          1,
          1,
          1,
          1,
          1,
          1,
          1,
          1,
          1,
          1,
          1,
          1,
          1,
          1,
          1,
          1,
          1,
          1,
          1,
          1,
          1,
          1,
          1,
          1,
          1,
          1,
          1,
          1,
          1,
          1,
          1,
          1,
          1,
          1,
          1,
          1,
          1,
          1,
          1,
          1,
          1,
          1,
          1,
          1,
          1,
          1,
          1,
          1,
          1,
          1,
          1,
          1,
          1,
          1,
          1,
          1
         ]
        }
       ],
       "layout": {
        "legend": {
         "bgcolor": "#F5F6F9",
         "font": {
          "color": "#4D5663"
         }
        },
        "paper_bgcolor": "#F5F6F9",
        "plot_bgcolor": "#F5F6F9",
        "template": {
         "data": {
          "bar": [
           {
            "error_x": {
             "color": "#2a3f5f"
            },
            "error_y": {
             "color": "#2a3f5f"
            },
            "marker": {
             "line": {
              "color": "#E5ECF6",
              "width": 0.5
             },
             "pattern": {
              "fillmode": "overlay",
              "size": 10,
              "solidity": 0.2
             }
            },
            "type": "bar"
           }
          ],
          "barpolar": [
           {
            "marker": {
             "line": {
              "color": "#E5ECF6",
              "width": 0.5
             },
             "pattern": {
              "fillmode": "overlay",
              "size": 10,
              "solidity": 0.2
             }
            },
            "type": "barpolar"
           }
          ],
          "carpet": [
           {
            "aaxis": {
             "endlinecolor": "#2a3f5f",
             "gridcolor": "white",
             "linecolor": "white",
             "minorgridcolor": "white",
             "startlinecolor": "#2a3f5f"
            },
            "baxis": {
             "endlinecolor": "#2a3f5f",
             "gridcolor": "white",
             "linecolor": "white",
             "minorgridcolor": "white",
             "startlinecolor": "#2a3f5f"
            },
            "type": "carpet"
           }
          ],
          "choropleth": [
           {
            "colorbar": {
             "outlinewidth": 0,
             "ticks": ""
            },
            "type": "choropleth"
           }
          ],
          "contour": [
           {
            "colorbar": {
             "outlinewidth": 0,
             "ticks": ""
            },
            "colorscale": [
             [
              0,
              "#0d0887"
             ],
             [
              0.1111111111111111,
              "#46039f"
             ],
             [
              0.2222222222222222,
              "#7201a8"
             ],
             [
              0.3333333333333333,
              "#9c179e"
             ],
             [
              0.4444444444444444,
              "#bd3786"
             ],
             [
              0.5555555555555556,
              "#d8576b"
             ],
             [
              0.6666666666666666,
              "#ed7953"
             ],
             [
              0.7777777777777778,
              "#fb9f3a"
             ],
             [
              0.8888888888888888,
              "#fdca26"
             ],
             [
              1,
              "#f0f921"
             ]
            ],
            "type": "contour"
           }
          ],
          "contourcarpet": [
           {
            "colorbar": {
             "outlinewidth": 0,
             "ticks": ""
            },
            "type": "contourcarpet"
           }
          ],
          "heatmap": [
           {
            "colorbar": {
             "outlinewidth": 0,
             "ticks": ""
            },
            "colorscale": [
             [
              0,
              "#0d0887"
             ],
             [
              0.1111111111111111,
              "#46039f"
             ],
             [
              0.2222222222222222,
              "#7201a8"
             ],
             [
              0.3333333333333333,
              "#9c179e"
             ],
             [
              0.4444444444444444,
              "#bd3786"
             ],
             [
              0.5555555555555556,
              "#d8576b"
             ],
             [
              0.6666666666666666,
              "#ed7953"
             ],
             [
              0.7777777777777778,
              "#fb9f3a"
             ],
             [
              0.8888888888888888,
              "#fdca26"
             ],
             [
              1,
              "#f0f921"
             ]
            ],
            "type": "heatmap"
           }
          ],
          "heatmapgl": [
           {
            "colorbar": {
             "outlinewidth": 0,
             "ticks": ""
            },
            "colorscale": [
             [
              0,
              "#0d0887"
             ],
             [
              0.1111111111111111,
              "#46039f"
             ],
             [
              0.2222222222222222,
              "#7201a8"
             ],
             [
              0.3333333333333333,
              "#9c179e"
             ],
             [
              0.4444444444444444,
              "#bd3786"
             ],
             [
              0.5555555555555556,
              "#d8576b"
             ],
             [
              0.6666666666666666,
              "#ed7953"
             ],
             [
              0.7777777777777778,
              "#fb9f3a"
             ],
             [
              0.8888888888888888,
              "#fdca26"
             ],
             [
              1,
              "#f0f921"
             ]
            ],
            "type": "heatmapgl"
           }
          ],
          "histogram": [
           {
            "marker": {
             "pattern": {
              "fillmode": "overlay",
              "size": 10,
              "solidity": 0.2
             }
            },
            "type": "histogram"
           }
          ],
          "histogram2d": [
           {
            "colorbar": {
             "outlinewidth": 0,
             "ticks": ""
            },
            "colorscale": [
             [
              0,
              "#0d0887"
             ],
             [
              0.1111111111111111,
              "#46039f"
             ],
             [
              0.2222222222222222,
              "#7201a8"
             ],
             [
              0.3333333333333333,
              "#9c179e"
             ],
             [
              0.4444444444444444,
              "#bd3786"
             ],
             [
              0.5555555555555556,
              "#d8576b"
             ],
             [
              0.6666666666666666,
              "#ed7953"
             ],
             [
              0.7777777777777778,
              "#fb9f3a"
             ],
             [
              0.8888888888888888,
              "#fdca26"
             ],
             [
              1,
              "#f0f921"
             ]
            ],
            "type": "histogram2d"
           }
          ],
          "histogram2dcontour": [
           {
            "colorbar": {
             "outlinewidth": 0,
             "ticks": ""
            },
            "colorscale": [
             [
              0,
              "#0d0887"
             ],
             [
              0.1111111111111111,
              "#46039f"
             ],
             [
              0.2222222222222222,
              "#7201a8"
             ],
             [
              0.3333333333333333,
              "#9c179e"
             ],
             [
              0.4444444444444444,
              "#bd3786"
             ],
             [
              0.5555555555555556,
              "#d8576b"
             ],
             [
              0.6666666666666666,
              "#ed7953"
             ],
             [
              0.7777777777777778,
              "#fb9f3a"
             ],
             [
              0.8888888888888888,
              "#fdca26"
             ],
             [
              1,
              "#f0f921"
             ]
            ],
            "type": "histogram2dcontour"
           }
          ],
          "mesh3d": [
           {
            "colorbar": {
             "outlinewidth": 0,
             "ticks": ""
            },
            "type": "mesh3d"
           }
          ],
          "parcoords": [
           {
            "line": {
             "colorbar": {
              "outlinewidth": 0,
              "ticks": ""
             }
            },
            "type": "parcoords"
           }
          ],
          "pie": [
           {
            "automargin": true,
            "type": "pie"
           }
          ],
          "scatter": [
           {
            "fillpattern": {
             "fillmode": "overlay",
             "size": 10,
             "solidity": 0.2
            },
            "type": "scatter"
           }
          ],
          "scatter3d": [
           {
            "line": {
             "colorbar": {
              "outlinewidth": 0,
              "ticks": ""
             }
            },
            "marker": {
             "colorbar": {
              "outlinewidth": 0,
              "ticks": ""
             }
            },
            "type": "scatter3d"
           }
          ],
          "scattercarpet": [
           {
            "marker": {
             "colorbar": {
              "outlinewidth": 0,
              "ticks": ""
             }
            },
            "type": "scattercarpet"
           }
          ],
          "scattergeo": [
           {
            "marker": {
             "colorbar": {
              "outlinewidth": 0,
              "ticks": ""
             }
            },
            "type": "scattergeo"
           }
          ],
          "scattergl": [
           {
            "marker": {
             "colorbar": {
              "outlinewidth": 0,
              "ticks": ""
             }
            },
            "type": "scattergl"
           }
          ],
          "scattermapbox": [
           {
            "marker": {
             "colorbar": {
              "outlinewidth": 0,
              "ticks": ""
             }
            },
            "type": "scattermapbox"
           }
          ],
          "scatterpolar": [
           {
            "marker": {
             "colorbar": {
              "outlinewidth": 0,
              "ticks": ""
             }
            },
            "type": "scatterpolar"
           }
          ],
          "scatterpolargl": [
           {
            "marker": {
             "colorbar": {
              "outlinewidth": 0,
              "ticks": ""
             }
            },
            "type": "scatterpolargl"
           }
          ],
          "scatterternary": [
           {
            "marker": {
             "colorbar": {
              "outlinewidth": 0,
              "ticks": ""
             }
            },
            "type": "scatterternary"
           }
          ],
          "surface": [
           {
            "colorbar": {
             "outlinewidth": 0,
             "ticks": ""
            },
            "colorscale": [
             [
              0,
              "#0d0887"
             ],
             [
              0.1111111111111111,
              "#46039f"
             ],
             [
              0.2222222222222222,
              "#7201a8"
             ],
             [
              0.3333333333333333,
              "#9c179e"
             ],
             [
              0.4444444444444444,
              "#bd3786"
             ],
             [
              0.5555555555555556,
              "#d8576b"
             ],
             [
              0.6666666666666666,
              "#ed7953"
             ],
             [
              0.7777777777777778,
              "#fb9f3a"
             ],
             [
              0.8888888888888888,
              "#fdca26"
             ],
             [
              1,
              "#f0f921"
             ]
            ],
            "type": "surface"
           }
          ],
          "table": [
           {
            "cells": {
             "fill": {
              "color": "#EBF0F8"
             },
             "line": {
              "color": "white"
             }
            },
            "header": {
             "fill": {
              "color": "#C8D4E3"
             },
             "line": {
              "color": "white"
             }
            },
            "type": "table"
           }
          ]
         },
         "layout": {
          "annotationdefaults": {
           "arrowcolor": "#2a3f5f",
           "arrowhead": 0,
           "arrowwidth": 1
          },
          "autotypenumbers": "strict",
          "coloraxis": {
           "colorbar": {
            "outlinewidth": 0,
            "ticks": ""
           }
          },
          "colorscale": {
           "diverging": [
            [
             0,
             "#8e0152"
            ],
            [
             0.1,
             "#c51b7d"
            ],
            [
             0.2,
             "#de77ae"
            ],
            [
             0.3,
             "#f1b6da"
            ],
            [
             0.4,
             "#fde0ef"
            ],
            [
             0.5,
             "#f7f7f7"
            ],
            [
             0.6,
             "#e6f5d0"
            ],
            [
             0.7,
             "#b8e186"
            ],
            [
             0.8,
             "#7fbc41"
            ],
            [
             0.9,
             "#4d9221"
            ],
            [
             1,
             "#276419"
            ]
           ],
           "sequential": [
            [
             0,
             "#0d0887"
            ],
            [
             0.1111111111111111,
             "#46039f"
            ],
            [
             0.2222222222222222,
             "#7201a8"
            ],
            [
             0.3333333333333333,
             "#9c179e"
            ],
            [
             0.4444444444444444,
             "#bd3786"
            ],
            [
             0.5555555555555556,
             "#d8576b"
            ],
            [
             0.6666666666666666,
             "#ed7953"
            ],
            [
             0.7777777777777778,
             "#fb9f3a"
            ],
            [
             0.8888888888888888,
             "#fdca26"
            ],
            [
             1,
             "#f0f921"
            ]
           ],
           "sequentialminus": [
            [
             0,
             "#0d0887"
            ],
            [
             0.1111111111111111,
             "#46039f"
            ],
            [
             0.2222222222222222,
             "#7201a8"
            ],
            [
             0.3333333333333333,
             "#9c179e"
            ],
            [
             0.4444444444444444,
             "#bd3786"
            ],
            [
             0.5555555555555556,
             "#d8576b"
            ],
            [
             0.6666666666666666,
             "#ed7953"
            ],
            [
             0.7777777777777778,
             "#fb9f3a"
            ],
            [
             0.8888888888888888,
             "#fdca26"
            ],
            [
             1,
             "#f0f921"
            ]
           ]
          },
          "colorway": [
           "#636efa",
           "#EF553B",
           "#00cc96",
           "#ab63fa",
           "#FFA15A",
           "#19d3f3",
           "#FF6692",
           "#B6E880",
           "#FF97FF",
           "#FECB52"
          ],
          "font": {
           "color": "#2a3f5f"
          },
          "geo": {
           "bgcolor": "white",
           "lakecolor": "white",
           "landcolor": "#E5ECF6",
           "showlakes": true,
           "showland": true,
           "subunitcolor": "white"
          },
          "hoverlabel": {
           "align": "left"
          },
          "hovermode": "closest",
          "mapbox": {
           "style": "light"
          },
          "paper_bgcolor": "white",
          "plot_bgcolor": "#E5ECF6",
          "polar": {
           "angularaxis": {
            "gridcolor": "white",
            "linecolor": "white",
            "ticks": ""
           },
           "bgcolor": "#E5ECF6",
           "radialaxis": {
            "gridcolor": "white",
            "linecolor": "white",
            "ticks": ""
           }
          },
          "scene": {
           "xaxis": {
            "backgroundcolor": "#E5ECF6",
            "gridcolor": "white",
            "gridwidth": 2,
            "linecolor": "white",
            "showbackground": true,
            "ticks": "",
            "zerolinecolor": "white"
           },
           "yaxis": {
            "backgroundcolor": "#E5ECF6",
            "gridcolor": "white",
            "gridwidth": 2,
            "linecolor": "white",
            "showbackground": true,
            "ticks": "",
            "zerolinecolor": "white"
           },
           "zaxis": {
            "backgroundcolor": "#E5ECF6",
            "gridcolor": "white",
            "gridwidth": 2,
            "linecolor": "white",
            "showbackground": true,
            "ticks": "",
            "zerolinecolor": "white"
           }
          },
          "shapedefaults": {
           "line": {
            "color": "#2a3f5f"
           }
          },
          "ternary": {
           "aaxis": {
            "gridcolor": "white",
            "linecolor": "white",
            "ticks": ""
           },
           "baxis": {
            "gridcolor": "white",
            "linecolor": "white",
            "ticks": ""
           },
           "bgcolor": "#E5ECF6",
           "caxis": {
            "gridcolor": "white",
            "linecolor": "white",
            "ticks": ""
           }
          },
          "title": {
           "x": 0.05
          },
          "xaxis": {
           "automargin": true,
           "gridcolor": "white",
           "linecolor": "white",
           "ticks": "",
           "title": {
            "standoff": 15
           },
           "zerolinecolor": "white",
           "zerolinewidth": 2
          },
          "yaxis": {
           "automargin": true,
           "gridcolor": "white",
           "linecolor": "white",
           "ticks": "",
           "title": {
            "standoff": 15
           },
           "zerolinecolor": "white",
           "zerolinewidth": 2
          }
         }
        },
        "title": {
         "font": {
          "color": "#4D5663"
         },
         "text": "Goal in half time"
        },
        "xaxis": {
         "gridcolor": "#E1E5ED",
         "showgrid": true,
         "tickfont": {
          "color": "#4D5663"
         },
         "title": {
          "font": {
           "color": "#4D5663"
          },
          "text": ""
         },
         "zerolinecolor": "#E1E5ED"
        },
        "yaxis": {
         "gridcolor": "#E1E5ED",
         "showgrid": true,
         "tickfont": {
          "color": "#4D5663"
         },
         "title": {
          "font": {
           "color": "#4D5663"
          },
          "text": ""
         },
         "zerolinecolor": "#E1E5ED"
        }
       }
      },
      "text/html": [
       "<div>                            <div id=\"5c319bf4-70ca-47e8-bf98-796daaf97ca1\" class=\"plotly-graph-div\" style=\"height:525px; width:100%;\"></div>            <script type=\"text/javascript\">                require([\"plotly\"], function(Plotly) {                    window.PLOTLYENV=window.PLOTLYENV || {};\n",
       "                    window.PLOTLYENV.BASE_URL='https://plot.ly';                                    if (document.getElementById(\"5c319bf4-70ca-47e8-bf98-796daaf97ca1\")) {                    Plotly.newPlot(                        \"5c319bf4-70ca-47e8-bf98-796daaf97ca1\",                        [{\"marker\":{\"color\":\"rgba(255, 153, 51, 0.6)\",\"line\":{\"color\":\"rgba(255, 153, 51, 1.0)\",\"width\":1}},\"name\":\"None\",\"orientation\":\"v\",\"text\":\"\",\"x\":[\"(Brazil,0.0)\",\"(Italy,0.0)\",\"(Brazil,1.0)\",\"(Italy,1.0)\",\"(Argentina,1.0)\",\"(Argentina,0.0)\",\"(Netherlands,0.0)\",\"(Germany,0.0)\",\"(Spain,0.0)\",\"(England,0.0)\",\"(Germany FR,0.0)\",\"(Germany FR,1.0)\",\"(France,0.0)\",\"(England,1.0)\",\"(Sweden,0.0)\",\"(Uruguay,0.0)\",\"(Brazil,2.0)\",\"(Argentina,2.0)\",\"(Uruguay,1.0)\",\"(Sweden,1.0)\",\"(Korea Republic,0.0)\",\"(Belgium,0.0)\",\"(USA,0.0)\",\"(Poland,0.0)\",\"(Yugoslavia,0.0)\",\"(Soviet Union,0.0)\",\"(Cameroon,0.0)\",\"(Chile,0.0)\",\"(France,1.0)\",\"(Belgium,1.0)\",\"(Mexico,1.0)\",\"(Mexico,0.0)\",\"(Japan,0.0)\",\"(Spain,1.0)\",\"(Soviet Union,1.0)\",\"(Switzerland,0.0)\",\"(Netherlands,1.0)\",\"(Scotland,0.0)\",\"(Hungary,1.0)\",\"(Austria,0.0)\",\"(Portugal,1.0)\",\"(Portugal,0.0)\",\"(Saudi Arabia,0.0)\",\"(Netherlands,2.0)\",\"(Paraguay,1.0)\",\"(Romania,0.0)\",\"(Nigeria,1.0)\",\"(Korea Republic,1.0)\",\"(Poland,2.0)\",\"(Algeria,0.0)\",\"(Paraguay,0.0)\",\"(Australia,0.0)\",\"(Austria,1.0)\",\"(Czechoslovakia,1.0)\",\"(Yugoslavia,2.0)\",\"(Costa Rica,0.0)\",\"(rn\\\">Republic of Ireland,0.0)\",\"(Switzerland,1.0)\",\"(Bulgaria,0.0)\",\"(Brazil,3.0)\",\"(Colombia,1.0)\",\"(Denmark,1.0)\",\"(Germany FR,2.0)\",\"(Portugal,2.0)\",\"(France,2.0)\",\"(Czechoslovakia,0.0)\",\"(Honduras,0.0)\",\"(Germany,2.0)\",\"(Germany,1.0)\",\"(Northern Ireland,0.0)\",\"(Germany,3.0)\",\"(Chile,1.0)\",\"(Japan,1.0)\",\"(Italy,2.0)\",\"(Yugoslavia,1.0)\",\"(Cameroon,1.0)\",\"(Bulgaria,1.0)\",\"(Uruguay,2.0)\",\"(Poland,1.0)\",\"(Morocco,0.0)\",\"(USA,1.0)\",\"(Peru,0.0)\",\"(Nigeria,0.0)\",\"(Chile,2.0)\",\"(Ecuador,0.0)\",\"(Colombia,0.0)\",\"(South Africa,0.0)\",\"(Spain,2.0)\",\"(Sweden,2.0)\",\"(France,3.0)\",\"(German DR,0.0)\",\"(Germany FR,3.0)\",\"(Romania,1.0)\",\"(South Africa,1.0)\",\"(Hungary,2.0)\",\"(Hungary,0.0)\",\"(Hungary,3.0)\",\"(Hungary,4.0)\",\"(Scotland,1.0)\",\"(Tunisia,0.0)\",\"(Tunisia,1.0)\",\"(Togo,0.0)\",\"(Soviet Union,3.0)\",\"(Switzerland,2.0)\",\"(USA,2.0)\",\"(Sweden,4.0)\",\"(Zaire,0.0)\",\"(Russia,0.0)\",\"(Uruguay,4.0)\",\"(Korea DPR,0.0)\",\"(Cuba,0.0)\",\"(Greece,0.0)\",\"(Croatia,0.0)\",\"(Iraq,0.0)\",\"(Italy,3.0)\",\"(Ctedivore,0.0)\",\"(Costa Rica,1.0)\",\"(Czech Republic,0.0)\",\"(Greece,1.0)\",\"(Denmark,0.0)\",\"(Ghana,0.0)\",\"(Argentina,3.0)\",\"(Czechoslovakia,3.0)\",\"(Ctedivore,1.0)\",\"(Denmark,2.0)\",\"(Trinidad and Tobago,0.0)\",\"(Croatia,1.0)\",\"(Ecuador,1.0)\",\"(Turkey,2.0)\",\"(Turkey,4.0)\",\"(Northern Ireland,1.0)\",\"(Canada,0.0)\",\"(China PR,0.0)\",\"(Wales,0.0)\",\"(rn\\\">Serbia and Montenegro,0.0)\",\"(Angola,0.0)\",\"(Yugoslavia,6.0)\",\"(Australia,1.0)\",\"(Austria,4.0)\",\"(Austria,5.0)\",\"(Belgium,2.0)\",\"(England,2.0)\",\"(Uruguay,3.0)\",\"(Bolivia,0.0)\",\"(Bosnia and Herzegovina,1.0)\",\"(Brazil,4.0)\",\"(Ukraine,0.0)\",\"(USA,3.0)\",\"(Spain,3.0)\",\"(Germany FR,4.0)\",\"(England,3.0)\",\"(Mexico,2.0)\",\"(IR Iran,0.0)\",\"(Romania,2.0)\",\"(Iran,0.0)\",\"(Jamaica,1.0)\",\"(Algeria,3.0)\",\"(Korea DPR,1.0)\",\"(Morocco,1.0)\",\"(Germany,4.0)\",\"(Peru,3.0)\",\"(Peru,1.0)\",\"(Netherlands,3.0)\",\"(Paraguay,2.0)\",\"(New Zealand,0.0)\",\"(Nigeria,2.0)\",\"(Russia,3.0)\",\"(Honduras,1.0)\",\"(Saudi Arabia,2.0)\",\"(Haiti,0.0)\",\"(Scotland,3.0)\",\"(Senegal,0.0)\",\"(Senegal,3.0)\",\"(Serbia,0.0)\",\"(Slovakia,0.0)\",\"(Slovakia,1.0)\",\"(Slovenia,0.0)\",\"(Slovenia,1.0)\",\"(Slovenia,2.0)\",\"(Ghana,2.0)\",\"(Ghana,1.0)\",\"(Soviet Union,2.0)\",\"(Norway,0.0)\",\"(rn\\\">United Arab Emirates,0.0)\"],\"y\":[39,28,26,24,22,20,20,19,19,18,18,17,16,15,13,12,12,10,10,9,9,9,9,8,8,8,8,8,8,8,8,7,7,7,7,6,6,6,6,6,6,6,5,5,5,5,5,5,5,5,5,5,5,5,5,5,5,4,4,4,4,4,4,4,4,4,4,4,4,4,4,3,3,3,3,3,3,3,3,3,3,3,3,3,3,3,3,3,3,3,3,3,3,3,3,3,3,3,2,2,2,2,2,2,2,2,2,2,2,2,2,2,2,2,2,2,2,2,2,2,2,2,1,1,1,1,1,1,1,1,1,1,1,1,1,1,1,1,1,1,1,1,1,1,1,1,1,1,1,1,1,1,1,1,1,1,1,1,1,1,1,1,1,1,1,1,1,1,1,1,1,1,1,1,1,1,1,1,1,1,1,1,1,1],\"type\":\"bar\"}],                        {\"legend\":{\"bgcolor\":\"#F5F6F9\",\"font\":{\"color\":\"#4D5663\"}},\"paper_bgcolor\":\"#F5F6F9\",\"plot_bgcolor\":\"#F5F6F9\",\"template\":{\"data\":{\"barpolar\":[{\"marker\":{\"line\":{\"color\":\"#E5ECF6\",\"width\":0.5},\"pattern\":{\"fillmode\":\"overlay\",\"size\":10,\"solidity\":0.2}},\"type\":\"barpolar\"}],\"bar\":[{\"error_x\":{\"color\":\"#2a3f5f\"},\"error_y\":{\"color\":\"#2a3f5f\"},\"marker\":{\"line\":{\"color\":\"#E5ECF6\",\"width\":0.5},\"pattern\":{\"fillmode\":\"overlay\",\"size\":10,\"solidity\":0.2}},\"type\":\"bar\"}],\"carpet\":[{\"aaxis\":{\"endlinecolor\":\"#2a3f5f\",\"gridcolor\":\"white\",\"linecolor\":\"white\",\"minorgridcolor\":\"white\",\"startlinecolor\":\"#2a3f5f\"},\"baxis\":{\"endlinecolor\":\"#2a3f5f\",\"gridcolor\":\"white\",\"linecolor\":\"white\",\"minorgridcolor\":\"white\",\"startlinecolor\":\"#2a3f5f\"},\"type\":\"carpet\"}],\"choropleth\":[{\"colorbar\":{\"outlinewidth\":0,\"ticks\":\"\"},\"type\":\"choropleth\"}],\"contourcarpet\":[{\"colorbar\":{\"outlinewidth\":0,\"ticks\":\"\"},\"type\":\"contourcarpet\"}],\"contour\":[{\"colorbar\":{\"outlinewidth\":0,\"ticks\":\"\"},\"colorscale\":[[0.0,\"#0d0887\"],[0.1111111111111111,\"#46039f\"],[0.2222222222222222,\"#7201a8\"],[0.3333333333333333,\"#9c179e\"],[0.4444444444444444,\"#bd3786\"],[0.5555555555555556,\"#d8576b\"],[0.6666666666666666,\"#ed7953\"],[0.7777777777777778,\"#fb9f3a\"],[0.8888888888888888,\"#fdca26\"],[1.0,\"#f0f921\"]],\"type\":\"contour\"}],\"heatmapgl\":[{\"colorbar\":{\"outlinewidth\":0,\"ticks\":\"\"},\"colorscale\":[[0.0,\"#0d0887\"],[0.1111111111111111,\"#46039f\"],[0.2222222222222222,\"#7201a8\"],[0.3333333333333333,\"#9c179e\"],[0.4444444444444444,\"#bd3786\"],[0.5555555555555556,\"#d8576b\"],[0.6666666666666666,\"#ed7953\"],[0.7777777777777778,\"#fb9f3a\"],[0.8888888888888888,\"#fdca26\"],[1.0,\"#f0f921\"]],\"type\":\"heatmapgl\"}],\"heatmap\":[{\"colorbar\":{\"outlinewidth\":0,\"ticks\":\"\"},\"colorscale\":[[0.0,\"#0d0887\"],[0.1111111111111111,\"#46039f\"],[0.2222222222222222,\"#7201a8\"],[0.3333333333333333,\"#9c179e\"],[0.4444444444444444,\"#bd3786\"],[0.5555555555555556,\"#d8576b\"],[0.6666666666666666,\"#ed7953\"],[0.7777777777777778,\"#fb9f3a\"],[0.8888888888888888,\"#fdca26\"],[1.0,\"#f0f921\"]],\"type\":\"heatmap\"}],\"histogram2dcontour\":[{\"colorbar\":{\"outlinewidth\":0,\"ticks\":\"\"},\"colorscale\":[[0.0,\"#0d0887\"],[0.1111111111111111,\"#46039f\"],[0.2222222222222222,\"#7201a8\"],[0.3333333333333333,\"#9c179e\"],[0.4444444444444444,\"#bd3786\"],[0.5555555555555556,\"#d8576b\"],[0.6666666666666666,\"#ed7953\"],[0.7777777777777778,\"#fb9f3a\"],[0.8888888888888888,\"#fdca26\"],[1.0,\"#f0f921\"]],\"type\":\"histogram2dcontour\"}],\"histogram2d\":[{\"colorbar\":{\"outlinewidth\":0,\"ticks\":\"\"},\"colorscale\":[[0.0,\"#0d0887\"],[0.1111111111111111,\"#46039f\"],[0.2222222222222222,\"#7201a8\"],[0.3333333333333333,\"#9c179e\"],[0.4444444444444444,\"#bd3786\"],[0.5555555555555556,\"#d8576b\"],[0.6666666666666666,\"#ed7953\"],[0.7777777777777778,\"#fb9f3a\"],[0.8888888888888888,\"#fdca26\"],[1.0,\"#f0f921\"]],\"type\":\"histogram2d\"}],\"histogram\":[{\"marker\":{\"pattern\":{\"fillmode\":\"overlay\",\"size\":10,\"solidity\":0.2}},\"type\":\"histogram\"}],\"mesh3d\":[{\"colorbar\":{\"outlinewidth\":0,\"ticks\":\"\"},\"type\":\"mesh3d\"}],\"parcoords\":[{\"line\":{\"colorbar\":{\"outlinewidth\":0,\"ticks\":\"\"}},\"type\":\"parcoords\"}],\"pie\":[{\"automargin\":true,\"type\":\"pie\"}],\"scatter3d\":[{\"line\":{\"colorbar\":{\"outlinewidth\":0,\"ticks\":\"\"}},\"marker\":{\"colorbar\":{\"outlinewidth\":0,\"ticks\":\"\"}},\"type\":\"scatter3d\"}],\"scattercarpet\":[{\"marker\":{\"colorbar\":{\"outlinewidth\":0,\"ticks\":\"\"}},\"type\":\"scattercarpet\"}],\"scattergeo\":[{\"marker\":{\"colorbar\":{\"outlinewidth\":0,\"ticks\":\"\"}},\"type\":\"scattergeo\"}],\"scattergl\":[{\"marker\":{\"colorbar\":{\"outlinewidth\":0,\"ticks\":\"\"}},\"type\":\"scattergl\"}],\"scattermapbox\":[{\"marker\":{\"colorbar\":{\"outlinewidth\":0,\"ticks\":\"\"}},\"type\":\"scattermapbox\"}],\"scatterpolargl\":[{\"marker\":{\"colorbar\":{\"outlinewidth\":0,\"ticks\":\"\"}},\"type\":\"scatterpolargl\"}],\"scatterpolar\":[{\"marker\":{\"colorbar\":{\"outlinewidth\":0,\"ticks\":\"\"}},\"type\":\"scatterpolar\"}],\"scatter\":[{\"fillpattern\":{\"fillmode\":\"overlay\",\"size\":10,\"solidity\":0.2},\"type\":\"scatter\"}],\"scatterternary\":[{\"marker\":{\"colorbar\":{\"outlinewidth\":0,\"ticks\":\"\"}},\"type\":\"scatterternary\"}],\"surface\":[{\"colorbar\":{\"outlinewidth\":0,\"ticks\":\"\"},\"colorscale\":[[0.0,\"#0d0887\"],[0.1111111111111111,\"#46039f\"],[0.2222222222222222,\"#7201a8\"],[0.3333333333333333,\"#9c179e\"],[0.4444444444444444,\"#bd3786\"],[0.5555555555555556,\"#d8576b\"],[0.6666666666666666,\"#ed7953\"],[0.7777777777777778,\"#fb9f3a\"],[0.8888888888888888,\"#fdca26\"],[1.0,\"#f0f921\"]],\"type\":\"surface\"}],\"table\":[{\"cells\":{\"fill\":{\"color\":\"#EBF0F8\"},\"line\":{\"color\":\"white\"}},\"header\":{\"fill\":{\"color\":\"#C8D4E3\"},\"line\":{\"color\":\"white\"}},\"type\":\"table\"}]},\"layout\":{\"annotationdefaults\":{\"arrowcolor\":\"#2a3f5f\",\"arrowhead\":0,\"arrowwidth\":1},\"autotypenumbers\":\"strict\",\"coloraxis\":{\"colorbar\":{\"outlinewidth\":0,\"ticks\":\"\"}},\"colorscale\":{\"diverging\":[[0,\"#8e0152\"],[0.1,\"#c51b7d\"],[0.2,\"#de77ae\"],[0.3,\"#f1b6da\"],[0.4,\"#fde0ef\"],[0.5,\"#f7f7f7\"],[0.6,\"#e6f5d0\"],[0.7,\"#b8e186\"],[0.8,\"#7fbc41\"],[0.9,\"#4d9221\"],[1,\"#276419\"]],\"sequential\":[[0.0,\"#0d0887\"],[0.1111111111111111,\"#46039f\"],[0.2222222222222222,\"#7201a8\"],[0.3333333333333333,\"#9c179e\"],[0.4444444444444444,\"#bd3786\"],[0.5555555555555556,\"#d8576b\"],[0.6666666666666666,\"#ed7953\"],[0.7777777777777778,\"#fb9f3a\"],[0.8888888888888888,\"#fdca26\"],[1.0,\"#f0f921\"]],\"sequentialminus\":[[0.0,\"#0d0887\"],[0.1111111111111111,\"#46039f\"],[0.2222222222222222,\"#7201a8\"],[0.3333333333333333,\"#9c179e\"],[0.4444444444444444,\"#bd3786\"],[0.5555555555555556,\"#d8576b\"],[0.6666666666666666,\"#ed7953\"],[0.7777777777777778,\"#fb9f3a\"],[0.8888888888888888,\"#fdca26\"],[1.0,\"#f0f921\"]]},\"colorway\":[\"#636efa\",\"#EF553B\",\"#00cc96\",\"#ab63fa\",\"#FFA15A\",\"#19d3f3\",\"#FF6692\",\"#B6E880\",\"#FF97FF\",\"#FECB52\"],\"font\":{\"color\":\"#2a3f5f\"},\"geo\":{\"bgcolor\":\"white\",\"lakecolor\":\"white\",\"landcolor\":\"#E5ECF6\",\"showlakes\":true,\"showland\":true,\"subunitcolor\":\"white\"},\"hoverlabel\":{\"align\":\"left\"},\"hovermode\":\"closest\",\"mapbox\":{\"style\":\"light\"},\"paper_bgcolor\":\"white\",\"plot_bgcolor\":\"#E5ECF6\",\"polar\":{\"angularaxis\":{\"gridcolor\":\"white\",\"linecolor\":\"white\",\"ticks\":\"\"},\"bgcolor\":\"#E5ECF6\",\"radialaxis\":{\"gridcolor\":\"white\",\"linecolor\":\"white\",\"ticks\":\"\"}},\"scene\":{\"xaxis\":{\"backgroundcolor\":\"#E5ECF6\",\"gridcolor\":\"white\",\"gridwidth\":2,\"linecolor\":\"white\",\"showbackground\":true,\"ticks\":\"\",\"zerolinecolor\":\"white\"},\"yaxis\":{\"backgroundcolor\":\"#E5ECF6\",\"gridcolor\":\"white\",\"gridwidth\":2,\"linecolor\":\"white\",\"showbackground\":true,\"ticks\":\"\",\"zerolinecolor\":\"white\"},\"zaxis\":{\"backgroundcolor\":\"#E5ECF6\",\"gridcolor\":\"white\",\"gridwidth\":2,\"linecolor\":\"white\",\"showbackground\":true,\"ticks\":\"\",\"zerolinecolor\":\"white\"}},\"shapedefaults\":{\"line\":{\"color\":\"#2a3f5f\"}},\"ternary\":{\"aaxis\":{\"gridcolor\":\"white\",\"linecolor\":\"white\",\"ticks\":\"\"},\"baxis\":{\"gridcolor\":\"white\",\"linecolor\":\"white\",\"ticks\":\"\"},\"bgcolor\":\"#E5ECF6\",\"caxis\":{\"gridcolor\":\"white\",\"linecolor\":\"white\",\"ticks\":\"\"}},\"title\":{\"x\":0.05},\"xaxis\":{\"automargin\":true,\"gridcolor\":\"white\",\"linecolor\":\"white\",\"ticks\":\"\",\"title\":{\"standoff\":15},\"zerolinecolor\":\"white\",\"zerolinewidth\":2},\"yaxis\":{\"automargin\":true,\"gridcolor\":\"white\",\"linecolor\":\"white\",\"ticks\":\"\",\"title\":{\"standoff\":15},\"zerolinecolor\":\"white\",\"zerolinewidth\":2}}},\"title\":{\"font\":{\"color\":\"#4D5663\"},\"text\":\"Goal in half time\"},\"xaxis\":{\"gridcolor\":\"#E1E5ED\",\"showgrid\":true,\"tickfont\":{\"color\":\"#4D5663\"},\"title\":{\"font\":{\"color\":\"#4D5663\"},\"text\":\"\"},\"zerolinecolor\":\"#E1E5ED\"},\"yaxis\":{\"gridcolor\":\"#E1E5ED\",\"showgrid\":true,\"tickfont\":{\"color\":\"#4D5663\"},\"title\":{\"font\":{\"color\":\"#4D5663\"},\"text\":\"\"},\"zerolinecolor\":\"#E1E5ED\"}},                        {\"showLink\": true, \"linkText\": \"Export to plot.ly\", \"plotlyServerURL\": \"https://plot.ly\", \"responsive\": true}                    ).then(function(){\n",
       "                            \n",
       "var gd = document.getElementById('5c319bf4-70ca-47e8-bf98-796daaf97ca1');\n",
       "var x = new MutationObserver(function (mutations, observer) {{\n",
       "        var display = window.getComputedStyle(gd).display;\n",
       "        if (!display || display === 'none') {{\n",
       "            console.log([gd, 'removed!']);\n",
       "            Plotly.purge(gd);\n",
       "            observer.disconnect();\n",
       "        }}\n",
       "}});\n",
       "\n",
       "// Listen for the removal of the full notebook cells\n",
       "var notebookContainer = gd.closest('#notebook-container');\n",
       "if (notebookContainer) {{\n",
       "    x.observe(notebookContainer, {childList: true});\n",
       "}}\n",
       "\n",
       "// Listen for the clearing of the current output cell\n",
       "var outputEl = gd.closest('.output');\n",
       "if (outputEl) {{\n",
       "    x.observe(outputEl, {childList: true});\n",
       "}}\n",
       "\n",
       "                        })                };                });            </script>        </div>"
      ]
     },
     "metadata": {},
     "output_type": "display_data"
    }
   ],
   "source": [
    "\n",
    "# What is the count of half team goal \n",
    "df1[['Home Team Name','Half-time Home Goals']].value_counts().iplot(kind='bar',title='Goal in half time')"
   ]
  },
  {
   "cell_type": "markdown",
   "metadata": {},
   "source": [
    "We see that Brazil hit most goal in half time"
   ]
  },
  {
   "cell_type": "code",
   "execution_count": 96,
   "metadata": {},
   "outputs": [
    {
     "data": {
      "application/vnd.plotly.v1+json": {
       "config": {
        "linkText": "Export to plot.ly",
        "plotlyServerURL": "https://plot.ly",
        "showLink": true
       },
       "data": [
        {
         "marker": {
          "color": "rgba(255, 153, 51, 0.6)",
          "line": {
           "color": "rgba(255, 153, 51, 1.0)",
           "width": 1
          }
         },
         "name": "None",
         "orientation": "v",
         "text": "",
         "type": "bar",
         "x": [
          "(Mexico,0.0)",
          "(Argentina,0.0)",
          "(Belgium,0.0)",
          "(England,0.0)",
          "(Uruguay,0.0)",
          "(France,0.0)",
          "(Bulgaria,0.0)",
          "(Korea Republic,0.0)",
          "(Italy,0.0)",
          "(Spain,0.0)",
          "(Austria,0.0)",
          "(Chile,0.0)",
          "(Yugoslavia,0.0)",
          "(Brazil,0.0)",
          "(Switzerland,0.0)",
          "(Czechoslovakia,0.0)",
          "(France,1.0)",
          "(Netherlands,1.0)",
          "(USA,0.0)",
          "(Cameroon,0.0)",
          "(Sweden,0.0)",
          "(Poland,0.0)",
          "(Italy,1.0)",
          "(Brazil,1.0)",
          "(Paraguay,0.0)",
          "(Germany FR,0.0)",
          "(Spain,1.0)",
          "(Colombia,0.0)",
          "(Soviet Union,0.0)",
          "(Peru,0.0)",
          "(Hungary,0.0)",
          "(Costa Rica,0.0)",
          "(Ghana,0.0)",
          "(Switzerland,1.0)",
          "(Netherlands,0.0)",
          "(USA,1.0)",
          "(Greece,0.0)",
          "(Croatia,0.0)",
          "(Scotland,1.0)",
          "(Portugal,0.0)",
          "(Romania,0.0)",
          "(Uruguay,1.0)",
          "(England,1.0)",
          "(Sweden,1.0)",
          "(El Salvador,0.0)",
          "(Norway,0.0)",
          "(Germany,0.0)",
          "(Tunisia,0.0)",
          "(Chile,1.0)",
          "(Yugoslavia,1.0)",
          "(rn\">Republic of Ireland,0.0)",
          "(Germany FR,1.0)",
          "(Czechoslovakia,1.0)",
          "(Scotland,0.0)",
          "(Spain,2.0)",
          "(Hungary,1.0)",
          "(Romania,1.0)",
          "(IR Iran,0.0)",
          "(Croatia,1.0)",
          "(Bolivia,0.0)",
          "(Paraguay,1.0)",
          "(Morocco,0.0)",
          "(Denmark,1.0)",
          "(Northern Ireland,1.0)",
          "(Nigeria,1.0)",
          "(Nigeria,0.0)",
          "(New Zealand,0.0)",
          "(Mexico,1.0)",
          "(Turkey,1.0)",
          "(Russia,0.0)",
          "(Saudi Arabia,0.0)",
          "(Japan,0.0)",
          "(Algeria,0.0)",
          "(Belgium,1.0)",
          "(C te d' Ivoire,0.0)",
          "(Australia,0.0)",
          "(Colombia,1.0)",
          "(Bulgaria,1.0)",
          "(Germany,1.0)",
          "(Argentina,1.0)",
          "(Ecuador,1.0)",
          "(Portugal,1.0)",
          "(Kuwait,0.0)",
          "(Egypt,0.0)",
          "(Honduras,0.0)",
          "(Morocco,1.0)",
          "(Austria,1.0)",
          "(Netherlands,2.0)",
          "(Poland,1.0)",
          "(Northern Ireland,0.0)",
          "(Denmark,0.0)",
          "(Australia,1.0)",
          "(Germany FR,2.0)",
          "(Saudi Arabia,1.0)",
          "(Slovenia,0.0)",
          "(Turkey,0.0)",
          "(Ukraine,0.0)",
          "(Israel,0.0)",
          "(Korea DPR,0.0)",
          "(Soviet Union,1.0)",
          "(Iran,1.0)",
          "(Sweden,2.0)",
          "(Senegal,0.0)",
          "(Slovakia,0.0)",
          "(Peru,1.0)",
          "(Brazil,2.0)",
          "(rn\">Trinidad and Tobago,0.0)",
          "(Angola,0.0)",
          "(Belgium,2.0)",
          "(Argentina,2.0)",
          "(Russia,1.0)",
          "(rn\">Republic of Ireland,1.0)",
          "(rn\">Bosnia and Herzegovina,0.0)",
          "(Canada,0.0)",
          "(Korea Republic,1.0)",
          "(Germany,5.0)",
          "(Germany,2.0)",
          "(Iran,0.0)",
          "(German DR,0.0)",
          "(Tunisia,1.0)",
          "(Wales,0.0)",
          "(Japan,1.0)",
          "(Wales,1.0)",
          "(South Africa,0.0)",
          "(Ecuador,0.0)",
          "(Czechoslovakia,2.0)",
          "(Haiti,0.0)",
          "(Costa Rica,1.0)",
          "(China PR,0.0)",
          "(Switzerland,2.0)",
          "(rn\">Serbia and Montenegro,0.0)",
          "(Togo,1.0)",
          "(Yugoslavia,2.0)",
          "(Ukraine,2.0)",
          "(Zaire,0.0)",
          "(rn\">United Arab Emirates,0.0)",
          "(Soviet Union,2.0)",
          "(Turkey,3.0)",
          "(rn\">Serbia and Montenegro,2.0)",
          "(Switzerland,4.0)",
          "(Japan,2.0)",
          "(South Africa,2.0)",
          "(Czech Republic,2.0)",
          "(France,3.0)",
          "(France,2.0)",
          "(England,3.0)",
          "(England,2.0)",
          "(Egypt,2.0)",
          "(Dutch East Indies,0.0)",
          "(Denmark,2.0)",
          "(Cuba,0.0)",
          "(Ghana,1.0)",
          "(Croatia,2.0)",
          "(Chile,2.0)",
          "(Cameroon,1.0)",
          "(C te d' Ivoire,2.0)",
          "(C te d' Ivoire,1.0)",
          "(Brazil,3.0)",
          "(Algeria,3.0)",
          "(German DR,1.0)",
          "(Honduras,1.0)",
          "(Serbia,1.0)",
          "(New Zealand,1.0)",
          "(Serbia,0.0)",
          "(Senegal,1.0)",
          "(Scotland,2.0)",
          "(Romania,2.0)",
          "(Poland,5.0)",
          "(Paraguay,2.0)",
          "(Norway,1.0)",
          "(Morocco,2.0)",
          "(Hungary,2.0)",
          "(Mexico,2.0)",
          "(Korea DPR,3.0)",
          "(Algeria,1.0)",
          "(Jamaica,1.0)",
          "(Jamaica,0.0)",
          "(Italy,2.0)",
          "(Iraq,0.0)",
          "(rn\">United Arab Emirates,1.0)"
         ],
         "y": [
          33,
          21,
          19,
          19,
          18,
          16,
          15,
          15,
          14,
          14,
          13,
          13,
          13,
          13,
          13,
          12,
          12,
          12,
          12,
          11,
          11,
          11,
          11,
          10,
          10,
          10,
          10,
          9,
          9,
          8,
          8,
          8,
          7,
          7,
          7,
          7,
          7,
          7,
          7,
          7,
          6,
          6,
          6,
          6,
          6,
          6,
          6,
          6,
          6,
          6,
          6,
          6,
          6,
          6,
          5,
          5,
          5,
          5,
          5,
          5,
          5,
          5,
          5,
          5,
          5,
          5,
          4,
          4,
          4,
          4,
          4,
          4,
          4,
          4,
          4,
          4,
          4,
          4,
          4,
          4,
          4,
          3,
          3,
          3,
          3,
          3,
          3,
          3,
          3,
          3,
          3,
          3,
          3,
          3,
          3,
          3,
          3,
          3,
          3,
          3,
          3,
          2,
          2,
          2,
          2,
          2,
          2,
          2,
          2,
          2,
          2,
          2,
          2,
          2,
          2,
          2,
          2,
          2,
          2,
          2,
          2,
          2,
          2,
          2,
          2,
          2,
          2,
          2,
          2,
          1,
          1,
          1,
          1,
          1,
          1,
          1,
          1,
          1,
          1,
          1,
          1,
          1,
          1,
          1,
          1,
          1,
          1,
          1,
          1,
          1,
          1,
          1,
          1,
          1,
          1,
          1,
          1,
          1,
          1,
          1,
          1,
          1,
          1,
          1,
          1,
          1,
          1,
          1,
          1,
          1,
          1,
          1,
          1,
          1,
          1,
          1,
          1,
          1,
          1,
          1
         ]
        }
       ],
       "layout": {
        "legend": {
         "bgcolor": "#F5F6F9",
         "font": {
          "color": "#4D5663"
         }
        },
        "paper_bgcolor": "#F5F6F9",
        "plot_bgcolor": "#F5F6F9",
        "template": {
         "data": {
          "bar": [
           {
            "error_x": {
             "color": "#2a3f5f"
            },
            "error_y": {
             "color": "#2a3f5f"
            },
            "marker": {
             "line": {
              "color": "#E5ECF6",
              "width": 0.5
             },
             "pattern": {
              "fillmode": "overlay",
              "size": 10,
              "solidity": 0.2
             }
            },
            "type": "bar"
           }
          ],
          "barpolar": [
           {
            "marker": {
             "line": {
              "color": "#E5ECF6",
              "width": 0.5
             },
             "pattern": {
              "fillmode": "overlay",
              "size": 10,
              "solidity": 0.2
             }
            },
            "type": "barpolar"
           }
          ],
          "carpet": [
           {
            "aaxis": {
             "endlinecolor": "#2a3f5f",
             "gridcolor": "white",
             "linecolor": "white",
             "minorgridcolor": "white",
             "startlinecolor": "#2a3f5f"
            },
            "baxis": {
             "endlinecolor": "#2a3f5f",
             "gridcolor": "white",
             "linecolor": "white",
             "minorgridcolor": "white",
             "startlinecolor": "#2a3f5f"
            },
            "type": "carpet"
           }
          ],
          "choropleth": [
           {
            "colorbar": {
             "outlinewidth": 0,
             "ticks": ""
            },
            "type": "choropleth"
           }
          ],
          "contour": [
           {
            "colorbar": {
             "outlinewidth": 0,
             "ticks": ""
            },
            "colorscale": [
             [
              0,
              "#0d0887"
             ],
             [
              0.1111111111111111,
              "#46039f"
             ],
             [
              0.2222222222222222,
              "#7201a8"
             ],
             [
              0.3333333333333333,
              "#9c179e"
             ],
             [
              0.4444444444444444,
              "#bd3786"
             ],
             [
              0.5555555555555556,
              "#d8576b"
             ],
             [
              0.6666666666666666,
              "#ed7953"
             ],
             [
              0.7777777777777778,
              "#fb9f3a"
             ],
             [
              0.8888888888888888,
              "#fdca26"
             ],
             [
              1,
              "#f0f921"
             ]
            ],
            "type": "contour"
           }
          ],
          "contourcarpet": [
           {
            "colorbar": {
             "outlinewidth": 0,
             "ticks": ""
            },
            "type": "contourcarpet"
           }
          ],
          "heatmap": [
           {
            "colorbar": {
             "outlinewidth": 0,
             "ticks": ""
            },
            "colorscale": [
             [
              0,
              "#0d0887"
             ],
             [
              0.1111111111111111,
              "#46039f"
             ],
             [
              0.2222222222222222,
              "#7201a8"
             ],
             [
              0.3333333333333333,
              "#9c179e"
             ],
             [
              0.4444444444444444,
              "#bd3786"
             ],
             [
              0.5555555555555556,
              "#d8576b"
             ],
             [
              0.6666666666666666,
              "#ed7953"
             ],
             [
              0.7777777777777778,
              "#fb9f3a"
             ],
             [
              0.8888888888888888,
              "#fdca26"
             ],
             [
              1,
              "#f0f921"
             ]
            ],
            "type": "heatmap"
           }
          ],
          "heatmapgl": [
           {
            "colorbar": {
             "outlinewidth": 0,
             "ticks": ""
            },
            "colorscale": [
             [
              0,
              "#0d0887"
             ],
             [
              0.1111111111111111,
              "#46039f"
             ],
             [
              0.2222222222222222,
              "#7201a8"
             ],
             [
              0.3333333333333333,
              "#9c179e"
             ],
             [
              0.4444444444444444,
              "#bd3786"
             ],
             [
              0.5555555555555556,
              "#d8576b"
             ],
             [
              0.6666666666666666,
              "#ed7953"
             ],
             [
              0.7777777777777778,
              "#fb9f3a"
             ],
             [
              0.8888888888888888,
              "#fdca26"
             ],
             [
              1,
              "#f0f921"
             ]
            ],
            "type": "heatmapgl"
           }
          ],
          "histogram": [
           {
            "marker": {
             "pattern": {
              "fillmode": "overlay",
              "size": 10,
              "solidity": 0.2
             }
            },
            "type": "histogram"
           }
          ],
          "histogram2d": [
           {
            "colorbar": {
             "outlinewidth": 0,
             "ticks": ""
            },
            "colorscale": [
             [
              0,
              "#0d0887"
             ],
             [
              0.1111111111111111,
              "#46039f"
             ],
             [
              0.2222222222222222,
              "#7201a8"
             ],
             [
              0.3333333333333333,
              "#9c179e"
             ],
             [
              0.4444444444444444,
              "#bd3786"
             ],
             [
              0.5555555555555556,
              "#d8576b"
             ],
             [
              0.6666666666666666,
              "#ed7953"
             ],
             [
              0.7777777777777778,
              "#fb9f3a"
             ],
             [
              0.8888888888888888,
              "#fdca26"
             ],
             [
              1,
              "#f0f921"
             ]
            ],
            "type": "histogram2d"
           }
          ],
          "histogram2dcontour": [
           {
            "colorbar": {
             "outlinewidth": 0,
             "ticks": ""
            },
            "colorscale": [
             [
              0,
              "#0d0887"
             ],
             [
              0.1111111111111111,
              "#46039f"
             ],
             [
              0.2222222222222222,
              "#7201a8"
             ],
             [
              0.3333333333333333,
              "#9c179e"
             ],
             [
              0.4444444444444444,
              "#bd3786"
             ],
             [
              0.5555555555555556,
              "#d8576b"
             ],
             [
              0.6666666666666666,
              "#ed7953"
             ],
             [
              0.7777777777777778,
              "#fb9f3a"
             ],
             [
              0.8888888888888888,
              "#fdca26"
             ],
             [
              1,
              "#f0f921"
             ]
            ],
            "type": "histogram2dcontour"
           }
          ],
          "mesh3d": [
           {
            "colorbar": {
             "outlinewidth": 0,
             "ticks": ""
            },
            "type": "mesh3d"
           }
          ],
          "parcoords": [
           {
            "line": {
             "colorbar": {
              "outlinewidth": 0,
              "ticks": ""
             }
            },
            "type": "parcoords"
           }
          ],
          "pie": [
           {
            "automargin": true,
            "type": "pie"
           }
          ],
          "scatter": [
           {
            "fillpattern": {
             "fillmode": "overlay",
             "size": 10,
             "solidity": 0.2
            },
            "type": "scatter"
           }
          ],
          "scatter3d": [
           {
            "line": {
             "colorbar": {
              "outlinewidth": 0,
              "ticks": ""
             }
            },
            "marker": {
             "colorbar": {
              "outlinewidth": 0,
              "ticks": ""
             }
            },
            "type": "scatter3d"
           }
          ],
          "scattercarpet": [
           {
            "marker": {
             "colorbar": {
              "outlinewidth": 0,
              "ticks": ""
             }
            },
            "type": "scattercarpet"
           }
          ],
          "scattergeo": [
           {
            "marker": {
             "colorbar": {
              "outlinewidth": 0,
              "ticks": ""
             }
            },
            "type": "scattergeo"
           }
          ],
          "scattergl": [
           {
            "marker": {
             "colorbar": {
              "outlinewidth": 0,
              "ticks": ""
             }
            },
            "type": "scattergl"
           }
          ],
          "scattermapbox": [
           {
            "marker": {
             "colorbar": {
              "outlinewidth": 0,
              "ticks": ""
             }
            },
            "type": "scattermapbox"
           }
          ],
          "scatterpolar": [
           {
            "marker": {
             "colorbar": {
              "outlinewidth": 0,
              "ticks": ""
             }
            },
            "type": "scatterpolar"
           }
          ],
          "scatterpolargl": [
           {
            "marker": {
             "colorbar": {
              "outlinewidth": 0,
              "ticks": ""
             }
            },
            "type": "scatterpolargl"
           }
          ],
          "scatterternary": [
           {
            "marker": {
             "colorbar": {
              "outlinewidth": 0,
              "ticks": ""
             }
            },
            "type": "scatterternary"
           }
          ],
          "surface": [
           {
            "colorbar": {
             "outlinewidth": 0,
             "ticks": ""
            },
            "colorscale": [
             [
              0,
              "#0d0887"
             ],
             [
              0.1111111111111111,
              "#46039f"
             ],
             [
              0.2222222222222222,
              "#7201a8"
             ],
             [
              0.3333333333333333,
              "#9c179e"
             ],
             [
              0.4444444444444444,
              "#bd3786"
             ],
             [
              0.5555555555555556,
              "#d8576b"
             ],
             [
              0.6666666666666666,
              "#ed7953"
             ],
             [
              0.7777777777777778,
              "#fb9f3a"
             ],
             [
              0.8888888888888888,
              "#fdca26"
             ],
             [
              1,
              "#f0f921"
             ]
            ],
            "type": "surface"
           }
          ],
          "table": [
           {
            "cells": {
             "fill": {
              "color": "#EBF0F8"
             },
             "line": {
              "color": "white"
             }
            },
            "header": {
             "fill": {
              "color": "#C8D4E3"
             },
             "line": {
              "color": "white"
             }
            },
            "type": "table"
           }
          ]
         },
         "layout": {
          "annotationdefaults": {
           "arrowcolor": "#2a3f5f",
           "arrowhead": 0,
           "arrowwidth": 1
          },
          "autotypenumbers": "strict",
          "coloraxis": {
           "colorbar": {
            "outlinewidth": 0,
            "ticks": ""
           }
          },
          "colorscale": {
           "diverging": [
            [
             0,
             "#8e0152"
            ],
            [
             0.1,
             "#c51b7d"
            ],
            [
             0.2,
             "#de77ae"
            ],
            [
             0.3,
             "#f1b6da"
            ],
            [
             0.4,
             "#fde0ef"
            ],
            [
             0.5,
             "#f7f7f7"
            ],
            [
             0.6,
             "#e6f5d0"
            ],
            [
             0.7,
             "#b8e186"
            ],
            [
             0.8,
             "#7fbc41"
            ],
            [
             0.9,
             "#4d9221"
            ],
            [
             1,
             "#276419"
            ]
           ],
           "sequential": [
            [
             0,
             "#0d0887"
            ],
            [
             0.1111111111111111,
             "#46039f"
            ],
            [
             0.2222222222222222,
             "#7201a8"
            ],
            [
             0.3333333333333333,
             "#9c179e"
            ],
            [
             0.4444444444444444,
             "#bd3786"
            ],
            [
             0.5555555555555556,
             "#d8576b"
            ],
            [
             0.6666666666666666,
             "#ed7953"
            ],
            [
             0.7777777777777778,
             "#fb9f3a"
            ],
            [
             0.8888888888888888,
             "#fdca26"
            ],
            [
             1,
             "#f0f921"
            ]
           ],
           "sequentialminus": [
            [
             0,
             "#0d0887"
            ],
            [
             0.1111111111111111,
             "#46039f"
            ],
            [
             0.2222222222222222,
             "#7201a8"
            ],
            [
             0.3333333333333333,
             "#9c179e"
            ],
            [
             0.4444444444444444,
             "#bd3786"
            ],
            [
             0.5555555555555556,
             "#d8576b"
            ],
            [
             0.6666666666666666,
             "#ed7953"
            ],
            [
             0.7777777777777778,
             "#fb9f3a"
            ],
            [
             0.8888888888888888,
             "#fdca26"
            ],
            [
             1,
             "#f0f921"
            ]
           ]
          },
          "colorway": [
           "#636efa",
           "#EF553B",
           "#00cc96",
           "#ab63fa",
           "#FFA15A",
           "#19d3f3",
           "#FF6692",
           "#B6E880",
           "#FF97FF",
           "#FECB52"
          ],
          "font": {
           "color": "#2a3f5f"
          },
          "geo": {
           "bgcolor": "white",
           "lakecolor": "white",
           "landcolor": "#E5ECF6",
           "showlakes": true,
           "showland": true,
           "subunitcolor": "white"
          },
          "hoverlabel": {
           "align": "left"
          },
          "hovermode": "closest",
          "mapbox": {
           "style": "light"
          },
          "paper_bgcolor": "white",
          "plot_bgcolor": "#E5ECF6",
          "polar": {
           "angularaxis": {
            "gridcolor": "white",
            "linecolor": "white",
            "ticks": ""
           },
           "bgcolor": "#E5ECF6",
           "radialaxis": {
            "gridcolor": "white",
            "linecolor": "white",
            "ticks": ""
           }
          },
          "scene": {
           "xaxis": {
            "backgroundcolor": "#E5ECF6",
            "gridcolor": "white",
            "gridwidth": 2,
            "linecolor": "white",
            "showbackground": true,
            "ticks": "",
            "zerolinecolor": "white"
           },
           "yaxis": {
            "backgroundcolor": "#E5ECF6",
            "gridcolor": "white",
            "gridwidth": 2,
            "linecolor": "white",
            "showbackground": true,
            "ticks": "",
            "zerolinecolor": "white"
           },
           "zaxis": {
            "backgroundcolor": "#E5ECF6",
            "gridcolor": "white",
            "gridwidth": 2,
            "linecolor": "white",
            "showbackground": true,
            "ticks": "",
            "zerolinecolor": "white"
           }
          },
          "shapedefaults": {
           "line": {
            "color": "#2a3f5f"
           }
          },
          "ternary": {
           "aaxis": {
            "gridcolor": "white",
            "linecolor": "white",
            "ticks": ""
           },
           "baxis": {
            "gridcolor": "white",
            "linecolor": "white",
            "ticks": ""
           },
           "bgcolor": "#E5ECF6",
           "caxis": {
            "gridcolor": "white",
            "linecolor": "white",
            "ticks": ""
           }
          },
          "title": {
           "x": 0.05
          },
          "xaxis": {
           "automargin": true,
           "gridcolor": "white",
           "linecolor": "white",
           "ticks": "",
           "title": {
            "standoff": 15
           },
           "zerolinecolor": "white",
           "zerolinewidth": 2
          },
          "yaxis": {
           "automargin": true,
           "gridcolor": "white",
           "linecolor": "white",
           "ticks": "",
           "title": {
            "standoff": 15
           },
           "zerolinecolor": "white",
           "zerolinewidth": 2
          }
         }
        },
        "title": {
         "font": {
          "color": "#4D5663"
         },
         "text": "Goal in half time"
        },
        "xaxis": {
         "gridcolor": "#E1E5ED",
         "showgrid": true,
         "tickfont": {
          "color": "#4D5663"
         },
         "title": {
          "font": {
           "color": "#4D5663"
          },
          "text": ""
         },
         "zerolinecolor": "#E1E5ED"
        },
        "yaxis": {
         "gridcolor": "#E1E5ED",
         "showgrid": true,
         "tickfont": {
          "color": "#4D5663"
         },
         "title": {
          "font": {
           "color": "#4D5663"
          },
          "text": ""
         },
         "zerolinecolor": "#E1E5ED"
        }
       }
      },
      "text/html": [
       "<div>                            <div id=\"d30a99bf-50d2-460b-b449-011a56b3cc27\" class=\"plotly-graph-div\" style=\"height:525px; width:100%;\"></div>            <script type=\"text/javascript\">                require([\"plotly\"], function(Plotly) {                    window.PLOTLYENV=window.PLOTLYENV || {};\n",
       "                    window.PLOTLYENV.BASE_URL='https://plot.ly';                                    if (document.getElementById(\"d30a99bf-50d2-460b-b449-011a56b3cc27\")) {                    Plotly.newPlot(                        \"d30a99bf-50d2-460b-b449-011a56b3cc27\",                        [{\"marker\":{\"color\":\"rgba(255, 153, 51, 0.6)\",\"line\":{\"color\":\"rgba(255, 153, 51, 1.0)\",\"width\":1}},\"name\":\"None\",\"orientation\":\"v\",\"text\":\"\",\"x\":[\"(Mexico,0.0)\",\"(Argentina,0.0)\",\"(Belgium,0.0)\",\"(England,0.0)\",\"(Uruguay,0.0)\",\"(France,0.0)\",\"(Bulgaria,0.0)\",\"(Korea Republic,0.0)\",\"(Italy,0.0)\",\"(Spain,0.0)\",\"(Austria,0.0)\",\"(Chile,0.0)\",\"(Yugoslavia,0.0)\",\"(Brazil,0.0)\",\"(Switzerland,0.0)\",\"(Czechoslovakia,0.0)\",\"(France,1.0)\",\"(Netherlands,1.0)\",\"(USA,0.0)\",\"(Cameroon,0.0)\",\"(Sweden,0.0)\",\"(Poland,0.0)\",\"(Italy,1.0)\",\"(Brazil,1.0)\",\"(Paraguay,0.0)\",\"(Germany FR,0.0)\",\"(Spain,1.0)\",\"(Colombia,0.0)\",\"(Soviet Union,0.0)\",\"(Peru,0.0)\",\"(Hungary,0.0)\",\"(Costa Rica,0.0)\",\"(Ghana,0.0)\",\"(Switzerland,1.0)\",\"(Netherlands,0.0)\",\"(USA,1.0)\",\"(Greece,0.0)\",\"(Croatia,0.0)\",\"(Scotland,1.0)\",\"(Portugal,0.0)\",\"(Romania,0.0)\",\"(Uruguay,1.0)\",\"(England,1.0)\",\"(Sweden,1.0)\",\"(El Salvador,0.0)\",\"(Norway,0.0)\",\"(Germany,0.0)\",\"(Tunisia,0.0)\",\"(Chile,1.0)\",\"(Yugoslavia,1.0)\",\"(rn\\\">Republic of Ireland,0.0)\",\"(Germany FR,1.0)\",\"(Czechoslovakia,1.0)\",\"(Scotland,0.0)\",\"(Spain,2.0)\",\"(Hungary,1.0)\",\"(Romania,1.0)\",\"(IR Iran,0.0)\",\"(Croatia,1.0)\",\"(Bolivia,0.0)\",\"(Paraguay,1.0)\",\"(Morocco,0.0)\",\"(Denmark,1.0)\",\"(Northern Ireland,1.0)\",\"(Nigeria,1.0)\",\"(Nigeria,0.0)\",\"(New Zealand,0.0)\",\"(Mexico,1.0)\",\"(Turkey,1.0)\",\"(Russia,0.0)\",\"(Saudi Arabia,0.0)\",\"(Japan,0.0)\",\"(Algeria,0.0)\",\"(Belgium,1.0)\",\"(C te d' Ivoire,0.0)\",\"(Australia,0.0)\",\"(Colombia,1.0)\",\"(Bulgaria,1.0)\",\"(Germany,1.0)\",\"(Argentina,1.0)\",\"(Ecuador,1.0)\",\"(Portugal,1.0)\",\"(Kuwait,0.0)\",\"(Egypt,0.0)\",\"(Honduras,0.0)\",\"(Morocco,1.0)\",\"(Austria,1.0)\",\"(Netherlands,2.0)\",\"(Poland,1.0)\",\"(Northern Ireland,0.0)\",\"(Denmark,0.0)\",\"(Australia,1.0)\",\"(Germany FR,2.0)\",\"(Saudi Arabia,1.0)\",\"(Slovenia,0.0)\",\"(Turkey,0.0)\",\"(Ukraine,0.0)\",\"(Israel,0.0)\",\"(Korea DPR,0.0)\",\"(Soviet Union,1.0)\",\"(Iran,1.0)\",\"(Sweden,2.0)\",\"(Senegal,0.0)\",\"(Slovakia,0.0)\",\"(Peru,1.0)\",\"(Brazil,2.0)\",\"(rn\\\">Trinidad and Tobago,0.0)\",\"(Angola,0.0)\",\"(Belgium,2.0)\",\"(Argentina,2.0)\",\"(Russia,1.0)\",\"(rn\\\">Republic of Ireland,1.0)\",\"(rn\\\">Bosnia and Herzegovina,0.0)\",\"(Canada,0.0)\",\"(Korea Republic,1.0)\",\"(Germany,5.0)\",\"(Germany,2.0)\",\"(Iran,0.0)\",\"(German DR,0.0)\",\"(Tunisia,1.0)\",\"(Wales,0.0)\",\"(Japan,1.0)\",\"(Wales,1.0)\",\"(South Africa,0.0)\",\"(Ecuador,0.0)\",\"(Czechoslovakia,2.0)\",\"(Haiti,0.0)\",\"(Costa Rica,1.0)\",\"(China PR,0.0)\",\"(Switzerland,2.0)\",\"(rn\\\">Serbia and Montenegro,0.0)\",\"(Togo,1.0)\",\"(Yugoslavia,2.0)\",\"(Ukraine,2.0)\",\"(Zaire,0.0)\",\"(rn\\\">United Arab Emirates,0.0)\",\"(Soviet Union,2.0)\",\"(Turkey,3.0)\",\"(rn\\\">Serbia and Montenegro,2.0)\",\"(Switzerland,4.0)\",\"(Japan,2.0)\",\"(South Africa,2.0)\",\"(Czech Republic,2.0)\",\"(France,3.0)\",\"(France,2.0)\",\"(England,3.0)\",\"(England,2.0)\",\"(Egypt,2.0)\",\"(Dutch East Indies,0.0)\",\"(Denmark,2.0)\",\"(Cuba,0.0)\",\"(Ghana,1.0)\",\"(Croatia,2.0)\",\"(Chile,2.0)\",\"(Cameroon,1.0)\",\"(C te d' Ivoire,2.0)\",\"(C te d' Ivoire,1.0)\",\"(Brazil,3.0)\",\"(Algeria,3.0)\",\"(German DR,1.0)\",\"(Honduras,1.0)\",\"(Serbia,1.0)\",\"(New Zealand,1.0)\",\"(Serbia,0.0)\",\"(Senegal,1.0)\",\"(Scotland,2.0)\",\"(Romania,2.0)\",\"(Poland,5.0)\",\"(Paraguay,2.0)\",\"(Norway,1.0)\",\"(Morocco,2.0)\",\"(Hungary,2.0)\",\"(Mexico,2.0)\",\"(Korea DPR,3.0)\",\"(Algeria,1.0)\",\"(Jamaica,1.0)\",\"(Jamaica,0.0)\",\"(Italy,2.0)\",\"(Iraq,0.0)\",\"(rn\\\">United Arab Emirates,1.0)\"],\"y\":[33,21,19,19,18,16,15,15,14,14,13,13,13,13,13,12,12,12,12,11,11,11,11,10,10,10,10,9,9,8,8,8,7,7,7,7,7,7,7,7,6,6,6,6,6,6,6,6,6,6,6,6,6,6,5,5,5,5,5,5,5,5,5,5,5,5,4,4,4,4,4,4,4,4,4,4,4,4,4,4,4,3,3,3,3,3,3,3,3,3,3,3,3,3,3,3,3,3,3,3,3,2,2,2,2,2,2,2,2,2,2,2,2,2,2,2,2,2,2,2,2,2,2,2,2,2,2,2,2,1,1,1,1,1,1,1,1,1,1,1,1,1,1,1,1,1,1,1,1,1,1,1,1,1,1,1,1,1,1,1,1,1,1,1,1,1,1,1,1,1,1,1,1,1,1,1,1,1,1,1],\"type\":\"bar\"}],                        {\"legend\":{\"bgcolor\":\"#F5F6F9\",\"font\":{\"color\":\"#4D5663\"}},\"paper_bgcolor\":\"#F5F6F9\",\"plot_bgcolor\":\"#F5F6F9\",\"template\":{\"data\":{\"barpolar\":[{\"marker\":{\"line\":{\"color\":\"#E5ECF6\",\"width\":0.5},\"pattern\":{\"fillmode\":\"overlay\",\"size\":10,\"solidity\":0.2}},\"type\":\"barpolar\"}],\"bar\":[{\"error_x\":{\"color\":\"#2a3f5f\"},\"error_y\":{\"color\":\"#2a3f5f\"},\"marker\":{\"line\":{\"color\":\"#E5ECF6\",\"width\":0.5},\"pattern\":{\"fillmode\":\"overlay\",\"size\":10,\"solidity\":0.2}},\"type\":\"bar\"}],\"carpet\":[{\"aaxis\":{\"endlinecolor\":\"#2a3f5f\",\"gridcolor\":\"white\",\"linecolor\":\"white\",\"minorgridcolor\":\"white\",\"startlinecolor\":\"#2a3f5f\"},\"baxis\":{\"endlinecolor\":\"#2a3f5f\",\"gridcolor\":\"white\",\"linecolor\":\"white\",\"minorgridcolor\":\"white\",\"startlinecolor\":\"#2a3f5f\"},\"type\":\"carpet\"}],\"choropleth\":[{\"colorbar\":{\"outlinewidth\":0,\"ticks\":\"\"},\"type\":\"choropleth\"}],\"contourcarpet\":[{\"colorbar\":{\"outlinewidth\":0,\"ticks\":\"\"},\"type\":\"contourcarpet\"}],\"contour\":[{\"colorbar\":{\"outlinewidth\":0,\"ticks\":\"\"},\"colorscale\":[[0.0,\"#0d0887\"],[0.1111111111111111,\"#46039f\"],[0.2222222222222222,\"#7201a8\"],[0.3333333333333333,\"#9c179e\"],[0.4444444444444444,\"#bd3786\"],[0.5555555555555556,\"#d8576b\"],[0.6666666666666666,\"#ed7953\"],[0.7777777777777778,\"#fb9f3a\"],[0.8888888888888888,\"#fdca26\"],[1.0,\"#f0f921\"]],\"type\":\"contour\"}],\"heatmapgl\":[{\"colorbar\":{\"outlinewidth\":0,\"ticks\":\"\"},\"colorscale\":[[0.0,\"#0d0887\"],[0.1111111111111111,\"#46039f\"],[0.2222222222222222,\"#7201a8\"],[0.3333333333333333,\"#9c179e\"],[0.4444444444444444,\"#bd3786\"],[0.5555555555555556,\"#d8576b\"],[0.6666666666666666,\"#ed7953\"],[0.7777777777777778,\"#fb9f3a\"],[0.8888888888888888,\"#fdca26\"],[1.0,\"#f0f921\"]],\"type\":\"heatmapgl\"}],\"heatmap\":[{\"colorbar\":{\"outlinewidth\":0,\"ticks\":\"\"},\"colorscale\":[[0.0,\"#0d0887\"],[0.1111111111111111,\"#46039f\"],[0.2222222222222222,\"#7201a8\"],[0.3333333333333333,\"#9c179e\"],[0.4444444444444444,\"#bd3786\"],[0.5555555555555556,\"#d8576b\"],[0.6666666666666666,\"#ed7953\"],[0.7777777777777778,\"#fb9f3a\"],[0.8888888888888888,\"#fdca26\"],[1.0,\"#f0f921\"]],\"type\":\"heatmap\"}],\"histogram2dcontour\":[{\"colorbar\":{\"outlinewidth\":0,\"ticks\":\"\"},\"colorscale\":[[0.0,\"#0d0887\"],[0.1111111111111111,\"#46039f\"],[0.2222222222222222,\"#7201a8\"],[0.3333333333333333,\"#9c179e\"],[0.4444444444444444,\"#bd3786\"],[0.5555555555555556,\"#d8576b\"],[0.6666666666666666,\"#ed7953\"],[0.7777777777777778,\"#fb9f3a\"],[0.8888888888888888,\"#fdca26\"],[1.0,\"#f0f921\"]],\"type\":\"histogram2dcontour\"}],\"histogram2d\":[{\"colorbar\":{\"outlinewidth\":0,\"ticks\":\"\"},\"colorscale\":[[0.0,\"#0d0887\"],[0.1111111111111111,\"#46039f\"],[0.2222222222222222,\"#7201a8\"],[0.3333333333333333,\"#9c179e\"],[0.4444444444444444,\"#bd3786\"],[0.5555555555555556,\"#d8576b\"],[0.6666666666666666,\"#ed7953\"],[0.7777777777777778,\"#fb9f3a\"],[0.8888888888888888,\"#fdca26\"],[1.0,\"#f0f921\"]],\"type\":\"histogram2d\"}],\"histogram\":[{\"marker\":{\"pattern\":{\"fillmode\":\"overlay\",\"size\":10,\"solidity\":0.2}},\"type\":\"histogram\"}],\"mesh3d\":[{\"colorbar\":{\"outlinewidth\":0,\"ticks\":\"\"},\"type\":\"mesh3d\"}],\"parcoords\":[{\"line\":{\"colorbar\":{\"outlinewidth\":0,\"ticks\":\"\"}},\"type\":\"parcoords\"}],\"pie\":[{\"automargin\":true,\"type\":\"pie\"}],\"scatter3d\":[{\"line\":{\"colorbar\":{\"outlinewidth\":0,\"ticks\":\"\"}},\"marker\":{\"colorbar\":{\"outlinewidth\":0,\"ticks\":\"\"}},\"type\":\"scatter3d\"}],\"scattercarpet\":[{\"marker\":{\"colorbar\":{\"outlinewidth\":0,\"ticks\":\"\"}},\"type\":\"scattercarpet\"}],\"scattergeo\":[{\"marker\":{\"colorbar\":{\"outlinewidth\":0,\"ticks\":\"\"}},\"type\":\"scattergeo\"}],\"scattergl\":[{\"marker\":{\"colorbar\":{\"outlinewidth\":0,\"ticks\":\"\"}},\"type\":\"scattergl\"}],\"scattermapbox\":[{\"marker\":{\"colorbar\":{\"outlinewidth\":0,\"ticks\":\"\"}},\"type\":\"scattermapbox\"}],\"scatterpolargl\":[{\"marker\":{\"colorbar\":{\"outlinewidth\":0,\"ticks\":\"\"}},\"type\":\"scatterpolargl\"}],\"scatterpolar\":[{\"marker\":{\"colorbar\":{\"outlinewidth\":0,\"ticks\":\"\"}},\"type\":\"scatterpolar\"}],\"scatter\":[{\"fillpattern\":{\"fillmode\":\"overlay\",\"size\":10,\"solidity\":0.2},\"type\":\"scatter\"}],\"scatterternary\":[{\"marker\":{\"colorbar\":{\"outlinewidth\":0,\"ticks\":\"\"}},\"type\":\"scatterternary\"}],\"surface\":[{\"colorbar\":{\"outlinewidth\":0,\"ticks\":\"\"},\"colorscale\":[[0.0,\"#0d0887\"],[0.1111111111111111,\"#46039f\"],[0.2222222222222222,\"#7201a8\"],[0.3333333333333333,\"#9c179e\"],[0.4444444444444444,\"#bd3786\"],[0.5555555555555556,\"#d8576b\"],[0.6666666666666666,\"#ed7953\"],[0.7777777777777778,\"#fb9f3a\"],[0.8888888888888888,\"#fdca26\"],[1.0,\"#f0f921\"]],\"type\":\"surface\"}],\"table\":[{\"cells\":{\"fill\":{\"color\":\"#EBF0F8\"},\"line\":{\"color\":\"white\"}},\"header\":{\"fill\":{\"color\":\"#C8D4E3\"},\"line\":{\"color\":\"white\"}},\"type\":\"table\"}]},\"layout\":{\"annotationdefaults\":{\"arrowcolor\":\"#2a3f5f\",\"arrowhead\":0,\"arrowwidth\":1},\"autotypenumbers\":\"strict\",\"coloraxis\":{\"colorbar\":{\"outlinewidth\":0,\"ticks\":\"\"}},\"colorscale\":{\"diverging\":[[0,\"#8e0152\"],[0.1,\"#c51b7d\"],[0.2,\"#de77ae\"],[0.3,\"#f1b6da\"],[0.4,\"#fde0ef\"],[0.5,\"#f7f7f7\"],[0.6,\"#e6f5d0\"],[0.7,\"#b8e186\"],[0.8,\"#7fbc41\"],[0.9,\"#4d9221\"],[1,\"#276419\"]],\"sequential\":[[0.0,\"#0d0887\"],[0.1111111111111111,\"#46039f\"],[0.2222222222222222,\"#7201a8\"],[0.3333333333333333,\"#9c179e\"],[0.4444444444444444,\"#bd3786\"],[0.5555555555555556,\"#d8576b\"],[0.6666666666666666,\"#ed7953\"],[0.7777777777777778,\"#fb9f3a\"],[0.8888888888888888,\"#fdca26\"],[1.0,\"#f0f921\"]],\"sequentialminus\":[[0.0,\"#0d0887\"],[0.1111111111111111,\"#46039f\"],[0.2222222222222222,\"#7201a8\"],[0.3333333333333333,\"#9c179e\"],[0.4444444444444444,\"#bd3786\"],[0.5555555555555556,\"#d8576b\"],[0.6666666666666666,\"#ed7953\"],[0.7777777777777778,\"#fb9f3a\"],[0.8888888888888888,\"#fdca26\"],[1.0,\"#f0f921\"]]},\"colorway\":[\"#636efa\",\"#EF553B\",\"#00cc96\",\"#ab63fa\",\"#FFA15A\",\"#19d3f3\",\"#FF6692\",\"#B6E880\",\"#FF97FF\",\"#FECB52\"],\"font\":{\"color\":\"#2a3f5f\"},\"geo\":{\"bgcolor\":\"white\",\"lakecolor\":\"white\",\"landcolor\":\"#E5ECF6\",\"showlakes\":true,\"showland\":true,\"subunitcolor\":\"white\"},\"hoverlabel\":{\"align\":\"left\"},\"hovermode\":\"closest\",\"mapbox\":{\"style\":\"light\"},\"paper_bgcolor\":\"white\",\"plot_bgcolor\":\"#E5ECF6\",\"polar\":{\"angularaxis\":{\"gridcolor\":\"white\",\"linecolor\":\"white\",\"ticks\":\"\"},\"bgcolor\":\"#E5ECF6\",\"radialaxis\":{\"gridcolor\":\"white\",\"linecolor\":\"white\",\"ticks\":\"\"}},\"scene\":{\"xaxis\":{\"backgroundcolor\":\"#E5ECF6\",\"gridcolor\":\"white\",\"gridwidth\":2,\"linecolor\":\"white\",\"showbackground\":true,\"ticks\":\"\",\"zerolinecolor\":\"white\"},\"yaxis\":{\"backgroundcolor\":\"#E5ECF6\",\"gridcolor\":\"white\",\"gridwidth\":2,\"linecolor\":\"white\",\"showbackground\":true,\"ticks\":\"\",\"zerolinecolor\":\"white\"},\"zaxis\":{\"backgroundcolor\":\"#E5ECF6\",\"gridcolor\":\"white\",\"gridwidth\":2,\"linecolor\":\"white\",\"showbackground\":true,\"ticks\":\"\",\"zerolinecolor\":\"white\"}},\"shapedefaults\":{\"line\":{\"color\":\"#2a3f5f\"}},\"ternary\":{\"aaxis\":{\"gridcolor\":\"white\",\"linecolor\":\"white\",\"ticks\":\"\"},\"baxis\":{\"gridcolor\":\"white\",\"linecolor\":\"white\",\"ticks\":\"\"},\"bgcolor\":\"#E5ECF6\",\"caxis\":{\"gridcolor\":\"white\",\"linecolor\":\"white\",\"ticks\":\"\"}},\"title\":{\"x\":0.05},\"xaxis\":{\"automargin\":true,\"gridcolor\":\"white\",\"linecolor\":\"white\",\"ticks\":\"\",\"title\":{\"standoff\":15},\"zerolinecolor\":\"white\",\"zerolinewidth\":2},\"yaxis\":{\"automargin\":true,\"gridcolor\":\"white\",\"linecolor\":\"white\",\"ticks\":\"\",\"title\":{\"standoff\":15},\"zerolinecolor\":\"white\",\"zerolinewidth\":2}}},\"title\":{\"font\":{\"color\":\"#4D5663\"},\"text\":\"Goal in half time\"},\"xaxis\":{\"gridcolor\":\"#E1E5ED\",\"showgrid\":true,\"tickfont\":{\"color\":\"#4D5663\"},\"title\":{\"font\":{\"color\":\"#4D5663\"},\"text\":\"\"},\"zerolinecolor\":\"#E1E5ED\"},\"yaxis\":{\"gridcolor\":\"#E1E5ED\",\"showgrid\":true,\"tickfont\":{\"color\":\"#4D5663\"},\"title\":{\"font\":{\"color\":\"#4D5663\"},\"text\":\"\"},\"zerolinecolor\":\"#E1E5ED\"}},                        {\"showLink\": true, \"linkText\": \"Export to plot.ly\", \"plotlyServerURL\": \"https://plot.ly\", \"responsive\": true}                    ).then(function(){\n",
       "                            \n",
       "var gd = document.getElementById('d30a99bf-50d2-460b-b449-011a56b3cc27');\n",
       "var x = new MutationObserver(function (mutations, observer) {{\n",
       "        var display = window.getComputedStyle(gd).display;\n",
       "        if (!display || display === 'none') {{\n",
       "            console.log([gd, 'removed!']);\n",
       "            Plotly.purge(gd);\n",
       "            observer.disconnect();\n",
       "        }}\n",
       "}});\n",
       "\n",
       "// Listen for the removal of the full notebook cells\n",
       "var notebookContainer = gd.closest('#notebook-container');\n",
       "if (notebookContainer) {{\n",
       "    x.observe(notebookContainer, {childList: true});\n",
       "}}\n",
       "\n",
       "// Listen for the clearing of the current output cell\n",
       "var outputEl = gd.closest('.output');\n",
       "if (outputEl) {{\n",
       "    x.observe(outputEl, {childList: true});\n",
       "}}\n",
       "\n",
       "                        })                };                });            </script>        </div>"
      ]
     },
     "metadata": {},
     "output_type": "display_data"
    }
   ],
   "source": [
    "df1[['Away Team Name','Half-time Away Goals']].value_counts().iplot(kind='bar',title='Goal in half time')"
   ]
  },
  {
   "cell_type": "markdown",
   "metadata": {},
   "source": [
    "Mexico hit most goal in half time"
   ]
  },
  {
   "cell_type": "markdown",
   "metadata": {},
   "source": [
    "## Summary \n",
    "\n",
    "From all the above plots we can observe that its a clear comparision between the stadiumns, groups, teams half time."
   ]
  },
  {
   "cell_type": "code",
   "execution_count": 97,
   "metadata": {},
   "outputs": [
    {
     "data": {
      "text/html": [
       "<div>\n",
       "<style scoped>\n",
       "    .dataframe tbody tr th:only-of-type {\n",
       "        vertical-align: middle;\n",
       "    }\n",
       "\n",
       "    .dataframe tbody tr th {\n",
       "        vertical-align: top;\n",
       "    }\n",
       "\n",
       "    .dataframe thead th {\n",
       "        text-align: right;\n",
       "    }\n",
       "</style>\n",
       "<table border=\"1\" class=\"dataframe\">\n",
       "  <thead>\n",
       "    <tr style=\"text-align: right;\">\n",
       "      <th></th>\n",
       "      <th>RoundID</th>\n",
       "      <th>MatchID</th>\n",
       "      <th>Team Initials</th>\n",
       "      <th>Coach Name</th>\n",
       "      <th>Line-up</th>\n",
       "      <th>Shirt Number</th>\n",
       "      <th>Player Name</th>\n",
       "      <th>Position</th>\n",
       "      <th>Event</th>\n",
       "    </tr>\n",
       "  </thead>\n",
       "  <tbody>\n",
       "    <tr>\n",
       "      <th>0</th>\n",
       "      <td>201</td>\n",
       "      <td>1096</td>\n",
       "      <td>FRA</td>\n",
       "      <td>CAUDRON Raoul (FRA)</td>\n",
       "      <td>S</td>\n",
       "      <td>0</td>\n",
       "      <td>Alex THEPOT</td>\n",
       "      <td>GK</td>\n",
       "      <td>NaN</td>\n",
       "    </tr>\n",
       "    <tr>\n",
       "      <th>1</th>\n",
       "      <td>201</td>\n",
       "      <td>1096</td>\n",
       "      <td>MEX</td>\n",
       "      <td>LUQUE Juan (MEX)</td>\n",
       "      <td>S</td>\n",
       "      <td>0</td>\n",
       "      <td>Oscar BONFIGLIO</td>\n",
       "      <td>GK</td>\n",
       "      <td>NaN</td>\n",
       "    </tr>\n",
       "    <tr>\n",
       "      <th>2</th>\n",
       "      <td>201</td>\n",
       "      <td>1096</td>\n",
       "      <td>FRA</td>\n",
       "      <td>CAUDRON Raoul (FRA)</td>\n",
       "      <td>S</td>\n",
       "      <td>0</td>\n",
       "      <td>Marcel LANGILLER</td>\n",
       "      <td>NaN</td>\n",
       "      <td>G40'</td>\n",
       "    </tr>\n",
       "    <tr>\n",
       "      <th>3</th>\n",
       "      <td>201</td>\n",
       "      <td>1096</td>\n",
       "      <td>MEX</td>\n",
       "      <td>LUQUE Juan (MEX)</td>\n",
       "      <td>S</td>\n",
       "      <td>0</td>\n",
       "      <td>Juan CARRENO</td>\n",
       "      <td>NaN</td>\n",
       "      <td>G70'</td>\n",
       "    </tr>\n",
       "    <tr>\n",
       "      <th>4</th>\n",
       "      <td>201</td>\n",
       "      <td>1096</td>\n",
       "      <td>FRA</td>\n",
       "      <td>CAUDRON Raoul (FRA)</td>\n",
       "      <td>S</td>\n",
       "      <td>0</td>\n",
       "      <td>Ernest LIBERATI</td>\n",
       "      <td>NaN</td>\n",
       "      <td>NaN</td>\n",
       "    </tr>\n",
       "  </tbody>\n",
       "</table>\n",
       "</div>"
      ],
      "text/plain": [
       "   RoundID  MatchID Team Initials           Coach Name Line-up  Shirt Number  \\\n",
       "0      201     1096           FRA  CAUDRON Raoul (FRA)       S             0   \n",
       "1      201     1096           MEX     LUQUE Juan (MEX)       S             0   \n",
       "2      201     1096           FRA  CAUDRON Raoul (FRA)       S             0   \n",
       "3      201     1096           MEX     LUQUE Juan (MEX)       S             0   \n",
       "4      201     1096           FRA  CAUDRON Raoul (FRA)       S             0   \n",
       "\n",
       "        Player Name Position Event  \n",
       "0       Alex THEPOT       GK   NaN  \n",
       "1   Oscar BONFIGLIO       GK   NaN  \n",
       "2  Marcel LANGILLER      NaN  G40'  \n",
       "3      Juan CARRENO      NaN  G70'  \n",
       "4   Ernest LIBERATI      NaN   NaN  "
      ]
     },
     "execution_count": 97,
     "metadata": {},
     "output_type": "execute_result"
    }
   ],
   "source": [
    "df2.head()"
   ]
  },
  {
   "cell_type": "code",
   "execution_count": 98,
   "metadata": {},
   "outputs": [
    {
     "name": "stdout",
     "output_type": "stream",
     "text": [
      "<class 'pandas.core.frame.DataFrame'>\n",
      "RangeIndex: 37784 entries, 0 to 37783\n",
      "Data columns (total 9 columns):\n",
      " #   Column         Non-Null Count  Dtype \n",
      "---  ------         --------------  ----- \n",
      " 0   RoundID        37784 non-null  int64 \n",
      " 1   MatchID        37784 non-null  int64 \n",
      " 2   Team Initials  37784 non-null  object\n",
      " 3   Coach Name     37784 non-null  object\n",
      " 4   Line-up        37784 non-null  object\n",
      " 5   Shirt Number   37784 non-null  int64 \n",
      " 6   Player Name    37784 non-null  object\n",
      " 7   Position       4143 non-null   object\n",
      " 8   Event          9069 non-null   object\n",
      "dtypes: int64(3), object(6)\n",
      "memory usage: 2.6+ MB\n"
     ]
    }
   ],
   "source": [
    "df2.info()"
   ]
  },
  {
   "cell_type": "code",
   "execution_count": 99,
   "metadata": {},
   "outputs": [
    {
     "data": {
      "text/plain": [
       "RoundID              0\n",
       "MatchID              0\n",
       "Team Initials        0\n",
       "Coach Name           0\n",
       "Line-up              0\n",
       "Shirt Number         0\n",
       "Player Name          0\n",
       "Position         33641\n",
       "Event            28715\n",
       "dtype: int64"
      ]
     },
     "execution_count": 99,
     "metadata": {},
     "output_type": "execute_result"
    }
   ],
   "source": [
    "df2.isnull().sum()"
   ]
  },
  {
   "cell_type": "code",
   "execution_count": 100,
   "metadata": {},
   "outputs": [],
   "source": [
    "# Percentage of missing value\n",
    "percentage = df2.isnull().sum()/len(df2) * 100"
   ]
  },
  {
   "cell_type": "code",
   "execution_count": 101,
   "metadata": {},
   "outputs": [
    {
     "data": {
      "text/plain": [
       "RoundID           0.000000\n",
       "MatchID           0.000000\n",
       "Team Initials     0.000000\n",
       "Coach Name        0.000000\n",
       "Line-up           0.000000\n",
       "Shirt Number      0.000000\n",
       "Player Name       0.000000\n",
       "Position         89.035041\n",
       "Event            75.997777\n",
       "dtype: float64"
      ]
     },
     "execution_count": 101,
     "metadata": {},
     "output_type": "execute_result"
    }
   ],
   "source": [
    "percentage"
   ]
  },
  {
   "cell_type": "code",
   "execution_count": 102,
   "metadata": {},
   "outputs": [],
   "source": [
    "# Let's drop the missing values\n",
    "df2.dropna(inplace=True)"
   ]
  },
  {
   "cell_type": "code",
   "execution_count": 103,
   "metadata": {},
   "outputs": [],
   "source": [
    "df2.drop_duplicates(inplace=True)"
   ]
  },
  {
   "cell_type": "code",
   "execution_count": 104,
   "metadata": {},
   "outputs": [
    {
     "data": {
      "text/plain": [
       "(555, 9)"
      ]
     },
     "execution_count": 104,
     "metadata": {},
     "output_type": "execute_result"
    }
   ],
   "source": [
    "df2.shape"
   ]
  },
  {
   "cell_type": "code",
   "execution_count": 105,
   "metadata": {},
   "outputs": [
    {
     "data": {
      "text/html": [
       "<div>\n",
       "<style scoped>\n",
       "    .dataframe tbody tr th:only-of-type {\n",
       "        vertical-align: middle;\n",
       "    }\n",
       "\n",
       "    .dataframe tbody tr th {\n",
       "        vertical-align: top;\n",
       "    }\n",
       "\n",
       "    .dataframe thead th {\n",
       "        text-align: right;\n",
       "    }\n",
       "</style>\n",
       "<table border=\"1\" class=\"dataframe\">\n",
       "  <thead>\n",
       "    <tr style=\"text-align: right;\">\n",
       "      <th></th>\n",
       "      <th>RoundID</th>\n",
       "      <th>MatchID</th>\n",
       "      <th>Team Initials</th>\n",
       "      <th>Coach Name</th>\n",
       "      <th>Line-up</th>\n",
       "      <th>Shirt Number</th>\n",
       "      <th>Player Name</th>\n",
       "      <th>Position</th>\n",
       "      <th>Event</th>\n",
       "    </tr>\n",
       "  </thead>\n",
       "  <tbody>\n",
       "    <tr>\n",
       "      <th>35</th>\n",
       "      <td>201</td>\n",
       "      <td>1090</td>\n",
       "      <td>USA</td>\n",
       "      <td>MILLAR Bob (USA)</td>\n",
       "      <td>S</td>\n",
       "      <td>0</td>\n",
       "      <td>Tom FLORIE</td>\n",
       "      <td>C</td>\n",
       "      <td>G45'</td>\n",
       "    </tr>\n",
       "    <tr>\n",
       "      <th>74</th>\n",
       "      <td>201</td>\n",
       "      <td>1093</td>\n",
       "      <td>BRA</td>\n",
       "      <td>DE CARVALHO Pindaro (BRA)</td>\n",
       "      <td>S</td>\n",
       "      <td>0</td>\n",
       "      <td>PREGUINHO</td>\n",
       "      <td>C</td>\n",
       "      <td>G62'</td>\n",
       "    </tr>\n",
       "    <tr>\n",
       "      <th>113</th>\n",
       "      <td>201</td>\n",
       "      <td>1098</td>\n",
       "      <td>PER</td>\n",
       "      <td>BRU Francisco (ESP)</td>\n",
       "      <td>S</td>\n",
       "      <td>0</td>\n",
       "      <td>Placido GALINDO</td>\n",
       "      <td>C</td>\n",
       "      <td>R70'</td>\n",
       "    </tr>\n",
       "    <tr>\n",
       "      <th>415</th>\n",
       "      <td>201</td>\n",
       "      <td>1091</td>\n",
       "      <td>BRA</td>\n",
       "      <td>DE CARVALHO Pindaro (BRA)</td>\n",
       "      <td>S</td>\n",
       "      <td>0</td>\n",
       "      <td>PREGUINHO</td>\n",
       "      <td>C</td>\n",
       "      <td>G67' G83'</td>\n",
       "    </tr>\n",
       "    <tr>\n",
       "      <th>468</th>\n",
       "      <td>201</td>\n",
       "      <td>1089</td>\n",
       "      <td>PAR</td>\n",
       "      <td>DURAND LAGUNA Jose (ARG)</td>\n",
       "      <td>S</td>\n",
       "      <td>0</td>\n",
       "      <td>Luis VARGAS PENA</td>\n",
       "      <td>C</td>\n",
       "      <td>G40'</td>\n",
       "    </tr>\n",
       "  </tbody>\n",
       "</table>\n",
       "</div>"
      ],
      "text/plain": [
       "     RoundID  MatchID Team Initials                 Coach Name Line-up  \\\n",
       "35       201     1090           USA           MILLAR Bob (USA)       S   \n",
       "74       201     1093           BRA  DE CARVALHO Pindaro (BRA)       S   \n",
       "113      201     1098           PER        BRU Francisco (ESP)       S   \n",
       "415      201     1091           BRA  DE CARVALHO Pindaro (BRA)       S   \n",
       "468      201     1089           PAR   DURAND LAGUNA Jose (ARG)       S   \n",
       "\n",
       "     Shirt Number       Player Name Position      Event  \n",
       "35              0        Tom FLORIE        C       G45'  \n",
       "74              0         PREGUINHO        C       G62'  \n",
       "113             0   Placido GALINDO        C       R70'  \n",
       "415             0         PREGUINHO        C  G67' G83'  \n",
       "468             0  Luis VARGAS PENA        C       G40'  "
      ]
     },
     "execution_count": 105,
     "metadata": {},
     "output_type": "execute_result"
    }
   ],
   "source": [
    "df2.head()"
   ]
  },
  {
   "cell_type": "code",
   "execution_count": 106,
   "metadata": {},
   "outputs": [],
   "source": [
    "df2.reset_index(inplace=True)"
   ]
  },
  {
   "cell_type": "code",
   "execution_count": 107,
   "metadata": {},
   "outputs": [
    {
     "data": {
      "text/html": [
       "<div>\n",
       "<style scoped>\n",
       "    .dataframe tbody tr th:only-of-type {\n",
       "        vertical-align: middle;\n",
       "    }\n",
       "\n",
       "    .dataframe tbody tr th {\n",
       "        vertical-align: top;\n",
       "    }\n",
       "\n",
       "    .dataframe thead th {\n",
       "        text-align: right;\n",
       "    }\n",
       "</style>\n",
       "<table border=\"1\" class=\"dataframe\">\n",
       "  <thead>\n",
       "    <tr style=\"text-align: right;\">\n",
       "      <th></th>\n",
       "      <th>index</th>\n",
       "      <th>RoundID</th>\n",
       "      <th>MatchID</th>\n",
       "      <th>Team Initials</th>\n",
       "      <th>Coach Name</th>\n",
       "      <th>Line-up</th>\n",
       "      <th>Shirt Number</th>\n",
       "      <th>Player Name</th>\n",
       "      <th>Position</th>\n",
       "      <th>Event</th>\n",
       "    </tr>\n",
       "  </thead>\n",
       "  <tbody>\n",
       "    <tr>\n",
       "      <th>0</th>\n",
       "      <td>35</td>\n",
       "      <td>201</td>\n",
       "      <td>1090</td>\n",
       "      <td>USA</td>\n",
       "      <td>MILLAR Bob (USA)</td>\n",
       "      <td>S</td>\n",
       "      <td>0</td>\n",
       "      <td>Tom FLORIE</td>\n",
       "      <td>C</td>\n",
       "      <td>G45'</td>\n",
       "    </tr>\n",
       "    <tr>\n",
       "      <th>1</th>\n",
       "      <td>74</td>\n",
       "      <td>201</td>\n",
       "      <td>1093</td>\n",
       "      <td>BRA</td>\n",
       "      <td>DE CARVALHO Pindaro (BRA)</td>\n",
       "      <td>S</td>\n",
       "      <td>0</td>\n",
       "      <td>PREGUINHO</td>\n",
       "      <td>C</td>\n",
       "      <td>G62'</td>\n",
       "    </tr>\n",
       "    <tr>\n",
       "      <th>2</th>\n",
       "      <td>113</td>\n",
       "      <td>201</td>\n",
       "      <td>1098</td>\n",
       "      <td>PER</td>\n",
       "      <td>BRU Francisco (ESP)</td>\n",
       "      <td>S</td>\n",
       "      <td>0</td>\n",
       "      <td>Placido GALINDO</td>\n",
       "      <td>C</td>\n",
       "      <td>R70'</td>\n",
       "    </tr>\n",
       "    <tr>\n",
       "      <th>3</th>\n",
       "      <td>415</td>\n",
       "      <td>201</td>\n",
       "      <td>1091</td>\n",
       "      <td>BRA</td>\n",
       "      <td>DE CARVALHO Pindaro (BRA)</td>\n",
       "      <td>S</td>\n",
       "      <td>0</td>\n",
       "      <td>PREGUINHO</td>\n",
       "      <td>C</td>\n",
       "      <td>G67' G83'</td>\n",
       "    </tr>\n",
       "    <tr>\n",
       "      <th>4</th>\n",
       "      <td>468</td>\n",
       "      <td>201</td>\n",
       "      <td>1089</td>\n",
       "      <td>PAR</td>\n",
       "      <td>DURAND LAGUNA Jose (ARG)</td>\n",
       "      <td>S</td>\n",
       "      <td>0</td>\n",
       "      <td>Luis VARGAS PENA</td>\n",
       "      <td>C</td>\n",
       "      <td>G40'</td>\n",
       "    </tr>\n",
       "  </tbody>\n",
       "</table>\n",
       "</div>"
      ],
      "text/plain": [
       "   index  RoundID  MatchID Team Initials                 Coach Name Line-up  \\\n",
       "0     35      201     1090           USA           MILLAR Bob (USA)       S   \n",
       "1     74      201     1093           BRA  DE CARVALHO Pindaro (BRA)       S   \n",
       "2    113      201     1098           PER        BRU Francisco (ESP)       S   \n",
       "3    415      201     1091           BRA  DE CARVALHO Pindaro (BRA)       S   \n",
       "4    468      201     1089           PAR   DURAND LAGUNA Jose (ARG)       S   \n",
       "\n",
       "   Shirt Number       Player Name Position      Event  \n",
       "0             0        Tom FLORIE        C       G45'  \n",
       "1             0         PREGUINHO        C       G62'  \n",
       "2             0   Placido GALINDO        C       R70'  \n",
       "3             0         PREGUINHO        C  G67' G83'  \n",
       "4             0  Luis VARGAS PENA        C       G40'  "
      ]
     },
     "execution_count": 107,
     "metadata": {},
     "output_type": "execute_result"
    }
   ],
   "source": [
    "df2.head()"
   ]
  },
  {
   "cell_type": "code",
   "execution_count": 115,
   "metadata": {},
   "outputs": [
    {
     "data": {
      "application/vnd.plotly.v1+json": {
       "config": {
        "linkText": "Export to plot.ly",
        "plotlyServerURL": "https://plot.ly",
        "showLink": true
       },
       "data": [
        {
         "marker": {
          "color": "rgba(255, 153, 51, 0.6)",
          "line": {
           "color": "rgba(255, 153, 51, 1.0)",
           "width": 1
          }
         },
         "name": "None",
         "orientation": "v",
         "text": "",
         "type": "bar",
         "x": [
          "(Karl-Heinz RUMMENIGGE,11)",
          "(Diego MARADONA,10)",
          "(V. PERSIE,9)",
          "(Jan CEULEMANS,11)",
          "(R. MARQUEZ,4)",
          "(Uwe SEELER,9)",
          "(ZIDANE,10)",
          "(Dragan STOJKOVIC,10)",
          "(Tomas BOY,10)",
          "(M B HONG,20)",
          "(DROGBA,11)",
          "(Zvonimir BOBAN,10)",
          "(Lothar MATTHAEUS,10)",
          "(Kazimierz DEYNA,12)",
          "(BECKHAM,7)",
          "(Gyorgy SAROSI,0)",
          "(HAKAN SUKUR,9)",
          "(HASEBE,17)",
          "(FIGO,7)",
          "(Johan CRUYFF,14)",
          "(Michel PLATINI,10)",
          "(HAGI,10)",
          "(Daniel PASSARELLA,15)",
          "(Hans SCHAEFER,11)",
          "(Roberto PERFUMO,14)",
          "(HIERRO,6)",
          "(Juergen KLINSMANN,18)",
          "(KARAGOUNIS,10)",
          "(Gheorghe HAGI,10)",
          "(Didier DESCHAMPS,7)",
          "(CAFU,2)",
          "(STAUNTON,5)",
          "(Alberto GARCIA ASPE,8)",
          "(Francisco VALDES,8)",
          "(Ferenc PUSKAS,10)",
          "(Alan SHEARER,9)",
          "(T SILVA,3)",
          "(Emilio BUTRAGUENO,9)",
          "(Zlatko VUJOVIC,11)",
          "(LAUDRUP M.,10)",
          "(RUIZ B.,10)",
          "(JEDINAK,15)",
          "(RAI,10)",
          "(REYNA,10)",
          "(RONALDO,7)",
          "(MESSI,10)",
          "(MATTH�US,10)",
          "(BOUAZIZI,13)",
          "(WILMOTS,7)",
          "(Bryan ROBSON,7)",
          "(V. BRONCKHORST,5)",
          "(A. VALENCIA,16)",
          "(Francois OMAM-BIYIK,7)",
          "(PREGUINHO,0)",
          "(Fritz WALTER,16)",
          "(SORIN,3)",
          "(Ivan HASEK,4)",
          "(PAK Seung Zin,8)",
          "(Jean Marie PFAFF,1)",
          "(RAUL,7)",
          "(MIYAMOTO,5)",
          "(A. GYAN,3)",
          "(Paolo MALDINI,3)",
          "(Jonas THERN,9)",
          "(GERRARD,4)",
          "(Gustavo PENA,3)",
          "(Juan AGUERO,7)",
          "(Riccardo CARAPELLESE,0)",
          "(RUSTU ,1)",
          "(J C KOO,13)",
          "(Ernst OCWIRK,5)",
          "(AKW�,10)",
          "(S. APPIAH,10)",
          "(SOCRATES,8)",
          "(Georges GRUN,13)",
          "(Gamal ABDELHAMID,10)",
          "(Milan GALIC,10)",
          "(SHEVCHENKO,7)",
          "(RADEBE,19)",
          "(GOMES,9)",
          "(Kidumu MANTANTU,10)",
          "(ETO'O,9)",
          "(LAHM,16)",
          "(Arturo VAZQUEZ,5)",
          "(Thomas DOOLEY,5)",
          "(Daniel PASSARELLA,19)",
          "(Nery PUMPIDO,18)",
          "(Majed ABDULLAH,9)",
          "(Thomas NKONO,16)",
          "(VALDERRAMA,10)",
          "(DEMPSEY,8)",
          "(UCHE,5)",
          "(Borislav MIHAYLOV,1)",
          "(D. GODIN,3)",
          "(Oscar RUGGERI,6)",
          "(CARLOS ALBERTO,4)",
          "(MARIN L.,3)",
          "(Toni POLSTER,19)",
          "(Nils LIEDHOLM,4)",
          "(CISSE,6)",
          "(CILLESSEN,1)",
          "(Terry BUTCHER,6)",
          "(N. KOVAC,10)",
          "(Diego SIMEONE,8)",
          "(LEONIDAS,0)",
          "(NELSEN,6)",
          "(LUGANO,2)",
          "(MILOSEVIC,9)",
          "(BORUC,1)",
          "(Johann HORVATH,0)",
          "(MASCHERANO,14)",
          "(TOMASSON,9)",
          "(VERON,11)",
          "(Driss BAMOUS,8)",
          "(Aleksandre CHIVADZE,3)",
          "(Dragan DZAJIC,11)",
          "(Lucas RADEBE,19)",
          "(NEILL,2)",
          "(RAMOS,15)",
          "(Nery PUMPIDO,1)",
          "(Nelson TAPIA,1)",
          "(R. CENI,12)",
          "(Nikita SIMONYAN,9)",
          "(R MARQUEZ,4)",
          "(O. PEREZ,1)",
          "(NAVAS K.,1)",
          "(Placido GALINDO,0)",
          "(Piet SCHRIJVERS,1)",
          "(P.MONTERO,4)",
          "(Mustapha EL HADAOUI,10)",
          "(PAGLIUCA,1)",
          "(Mordechai SPIEGLER,10)",
          "(Oleg BLOKHIN,11)",
          "(PARK Chang Sun,10)",
          "(PAULETA,9)",
          "(PLETIKOSA,1)",
          "(Paul McGRATH,7)",
          "(Obdulio VARELA,5)",
          "(Obdulio VARELA,0)",
          "(Paul VAN HIMST,10)",
          "(Pedro ROCHA,8)",
          "(NADAL,20)",
          "(OSPINA,1)",
          "(Pedro SOTO,22)",
          "(OMER,12)",
          "(Mohamed ABDELJAWAD,13)",
          "(Peter SCHMEICHEL,1)",
          "(Nasser DRID,1)",
          "(SELLIMI,11)",
          "(RICARDO,1)",
          "(VILLAR,1)",
          "(Tassos MITROPOULOS,10)",
          "(Temime LAKHZAMI,7)",
          "(Thomas NKONO,1)",
          "(Tibor NYILASI,8)",
          "(Tom FLORIE,0)",
          "(Tomas FERNANDEZ,0)",
          "(Toni POLSTER,9)",
          "(Tony MEOLA,1)",
          "(Tore KELLER,0)",
          "(Trifon IVANOV,3)",
          "(Tubilandu NDIMBI,12)",
          "(VALLADARES,18)",
          "(VERTONGHEN,5)",
          "(VIEIRA,4)",
          "(VOGEL,6)",
          "(RICARDO GOMES,3)",
          "(VORM,22)",
          "(WALDIR PERES,1)",
          "(WILSON PIAZZA,5)",
          "(Wilner NAZAIRE,14)",
          "(Wladyslaw ZMUDA,9)",
          "(Y.GOLMOHAMMADI,4)",
          "(YAHIA,4)",
          "(YEPES,3)",
          "(YOBO,2)",
          "(YOO S. C.,6)",
          "(YORKE,19)",
          "(ZARRA,0)",
          "(ZUBIZARRETA,1)",
          "(Zbigniew BONIEK,20)",
          "(TAVARELLI,22)",
          "(TAHAR,4)",
          "(S�RENSEN,1)",
          "(Steve SUMNER,10)",
          "(ROBINSON,1)",
          "(Rajko MITIC,0)",
          "(Ramon MARADIAGA,6)",
          "(Ramon QUIROGA,21)",
          "(Raul MAGANA,1)",
          "(Robert SARA,2)",
          "(Roger FLORES,3)",
          "(Ronald KOEMAN,4)",
          "(Ruben DIAZ,15)",
          "(Ruben NAVARRO,15)",
          "(Ruud GULLIT,10)",
          "(Ruud KROL,5)",
          "(SCHNEIDER,19)",
          "(SCIFO,10)",
          "(SONG,4)",
          "(SONGO'O,22)",
          "(SPAHI?,4)",
          "(STEKELENBURG,1)",
          "(STEWART,8)",
          "(SUKER,9)",
          "(Salvador MARIONA,3)",
          "(Sam McILROY,8)",
          "(Sepp MAIER,1)",
          "(Sergio GOYCOCHEA,12)",
          "(Stanislav SEMAN,1)",
          "(Stefan DOBAY,0)",
          "(Stephen KESHI,4)",
          "(Stephen TATAW,14)",
          "(Stere ADAMACHE,21)",
          "(Mircea LUCESCU,11)",
          "(A. DIARRA,18)",
          "(Miguel BRINDISI,6)",
          "(Dmitri KHARIN,16)",
          "(Enzo FRANCESCOLI,9)",
          "(Egisto PANDOLFINI,8)",
          "(EVRA,13)",
          "(ENYEAMA,1)",
          "(EDUARDO,1)",
          "(EDINHO,4)",
          "(Davor SUKER,9)",
          "(Carlos ROA,1)",
          "(David SEAMAN,1)",
          "(DUNGA,8)",
          "(DOMORAUD,17)",
          "(DIDA,1)",
          "(D. LUGANO,2)",
          "(Cesar LOPEZ FRETES,0)",
          "(Enzo SCIFO,14)",
          "(Eric GERETS,2)",
          "(Erich OBERMAYER,3)",
          "(F. AMIN,6)",
          "(F. MUSLERA,1)",
          "(F.CARINI,1)",
          "(FAHAD KHAMEES,7)",
          "(FORLAN,10)",
          "(FREI,9)",
          "(FRIEDEL,1)",
          "(Fernando ALVEZ,1)",
          "(Fernando ALVEZ,12)",
          "(Francisco ZULUAGA,3)",
          "(Franco BARESI,6)",
          "(Franky VAN DER ELST,6)",
          "(G TORRADO,6)",
          "(GALASEK,4)",
          "(Carlos VALDERRAMA,10)",
          "(Carlos BORJA,6)",
          "(Michael WINDISCHMANN,5)",
          "(Andy TOWNSEND,7)",
          "(BATISTUTA,9)",
          "(BALLACK,13)",
          "(BAK,6)",
          "(BADRA,2)",
          "(Antonio RATTIN,10)",
          "(Antal NAGY,8)",
          "(Alexander HORVATH,5)",
          "(CHOI In Young,1)",
          "(Ahmed SHOBEIR,1)",
          "(ALJABER ,9)",
          "(AL-DEAYEA,1)",
          "(AGUINAGA,10)",
          "(ABBONDANZIERI,1)",
          "(ABALO,3)",
          "(BENAGLIO,1)",
          "(BETO,22)",
          "(BOCANEGRA,3)",
          "(BOUGUERRA,2)",
          "(BUFFON,1)",
          "(Berti VOGTS,2)",
          "(Bo LARSSON,7)",
          "(Boris GAGANELOV,15)",
          "(Bruce RIOCH,6)",
          "(Bruce WILSON,3)",
          "(C BLANCO,10)",
          "(C. MORA,12)",
          "(CAMPOS,1)",
          "(CANNAVARO,5)",
          "(CEH A.,8)",
          "(CEVALLOS,1)",
          "(CHILAVERT,1)",
          "(GAMARRA,4)",
          "(GLYKOS,12)",
          "(GUEVARRA,20)",
          "(KOREN,8)",
          "(Luis UBINA,4)",
          "(Lefter KUCUKANDONYADIS,11)",
          "(LEE Woonjae,22)",
          "(Khalil AZMI,1)",
          "(Kazadi MUAMBA,1)",
          "(KRUL,23)",
          "(KOMPANY,4)",
          "(Gaetano SCIREA,6)",
          "(KIM B. J.,1)",
          "(KHUNE,16)",
          "(KHALIL MOHAMED,3)",
          "(KAWAGUCHI,23)",
          "(KATSOURANIS,21)",
          "(KARNEZIS,1)",
          "(Luis VARGAS PENA,0)",
          "(M Y MA,9)",
          "(M. AYOVI,15)",
          "(MAJDAN,12)",
          "(MALDINI,5)",
          "(MARCHETTI,12)",
          "(MARINHO PERES,3)",
          "(MARIO COLUNA,10)",
          "(MENSAH,5)",
          "(MIYAMOTO,17)",
          "(MJALLBY,4)",
          "(MONDRAGON,22)",
          "(MORIOKA,4)",
          "(MUCHA,1)",
          "(Marco PASCOLO,1)",
          "(Martin O NEILL,8)",
          "(Masami IHARA,4)",
          "(KANU,4)",
          "(KAHN,1)",
          "(Juergen CROY,1)",
          "(I. CASILLAS,1)",
          "(Giampiero BONIPERTI,19)",
          "(Giuseppe MEAZZA,0)",
          "(Graeme SOUNESS,4)",
          "(Guillermo SUBIABRE,0)",
          "(H. YONG JO,10)",
          "(HALLICHE,5)",
          "(HAMMOUDI RAAD,1)",
          "(HAMSIK,17)",
          "(HEINTZE,5)",
          "(HISLOP,1)",
          "(Hector CHUMPITAZ,4)",
          "(Horacio CASARIN,0)",
          "(Horacio TROCHE,2)",
          "(Hristo BONEV,8)",
          "(I. HURTADO,3)",
          "(Juan Manuel ASENSI,4)",
          "(Ivan ZAMORANO,9)",
          "(J. NEKOUNAM,6)",
          "(JISUNG,7)",
          "(JOSEPHS,1)",
          "(JO�O RICARDO,1)",
          "(JULIO CESAR,12)",
          "(Jan JONGBLOED,8)",
          "(Jean Paul BERTRAND DEMANES,21)",
          "(Jorge BARRIOS,8)",
          "(Jorge TORO,8)",
          "(Jose Antonio CAMACHO,3)",
          "(Jose REYES,1)",
          "(Jozsef BOZSIK,5)",
          "(Juan MASNIK,3)",
          "(Klaus LINDENBERGER,1)"
         ],
         "y": [
          8,
          7,
          5,
          5,
          5,
          5,
          5,
          4,
          4,
          4,
          4,
          4,
          4,
          4,
          4,
          4,
          4,
          4,
          4,
          4,
          4,
          3,
          3,
          3,
          3,
          3,
          3,
          3,
          3,
          3,
          3,
          3,
          3,
          3,
          3,
          3,
          3,
          3,
          3,
          3,
          3,
          3,
          3,
          3,
          3,
          3,
          3,
          3,
          3,
          3,
          3,
          2,
          2,
          2,
          2,
          2,
          2,
          2,
          2,
          2,
          2,
          2,
          2,
          2,
          2,
          2,
          2,
          2,
          2,
          2,
          2,
          2,
          2,
          2,
          2,
          2,
          2,
          2,
          2,
          2,
          2,
          2,
          2,
          2,
          2,
          2,
          2,
          2,
          2,
          2,
          2,
          2,
          2,
          2,
          2,
          2,
          2,
          2,
          2,
          2,
          2,
          2,
          2,
          2,
          2,
          2,
          2,
          2,
          2,
          2,
          2,
          2,
          2,
          2,
          2,
          2,
          2,
          1,
          1,
          1,
          1,
          1,
          1,
          1,
          1,
          1,
          1,
          1,
          1,
          1,
          1,
          1,
          1,
          1,
          1,
          1,
          1,
          1,
          1,
          1,
          1,
          1,
          1,
          1,
          1,
          1,
          1,
          1,
          1,
          1,
          1,
          1,
          1,
          1,
          1,
          1,
          1,
          1,
          1,
          1,
          1,
          1,
          1,
          1,
          1,
          1,
          1,
          1,
          1,
          1,
          1,
          1,
          1,
          1,
          1,
          1,
          1,
          1,
          1,
          1,
          1,
          1,
          1,
          1,
          1,
          1,
          1,
          1,
          1,
          1,
          1,
          1,
          1,
          1,
          1,
          1,
          1,
          1,
          1,
          1,
          1,
          1,
          1,
          1,
          1,
          1,
          1,
          1,
          1,
          1,
          1,
          1,
          1,
          1,
          1,
          1,
          1,
          1,
          1,
          1,
          1,
          1,
          1,
          1,
          1,
          1,
          1,
          1,
          1,
          1,
          1,
          1,
          1,
          1,
          1,
          1,
          1,
          1,
          1,
          1,
          1,
          1,
          1,
          1,
          1,
          1,
          1,
          1,
          1,
          1,
          1,
          1,
          1,
          1,
          1,
          1,
          1,
          1,
          1,
          1,
          1,
          1,
          1,
          1,
          1,
          1,
          1,
          1,
          1,
          1,
          1,
          1,
          1,
          1,
          1,
          1,
          1,
          1,
          1,
          1,
          1,
          1,
          1,
          1,
          1,
          1,
          1,
          1,
          1,
          1,
          1,
          1,
          1,
          1,
          1,
          1,
          1,
          1,
          1,
          1,
          1,
          1,
          1,
          1,
          1,
          1,
          1,
          1,
          1,
          1,
          1,
          1,
          1,
          1,
          1,
          1,
          1,
          1,
          1,
          1,
          1,
          1,
          1,
          1,
          1,
          1,
          1,
          1,
          1,
          1,
          1,
          1,
          1,
          1,
          1,
          1,
          1,
          1,
          1,
          1,
          1,
          1,
          1,
          1,
          1,
          1,
          1,
          1,
          1,
          1,
          1,
          1,
          1,
          1
         ]
        }
       ],
       "layout": {
        "legend": {
         "bgcolor": "#F5F6F9",
         "font": {
          "color": "#4D5663"
         }
        },
        "paper_bgcolor": "#F5F6F9",
        "plot_bgcolor": "#F5F6F9",
        "template": {
         "data": {
          "bar": [
           {
            "error_x": {
             "color": "#2a3f5f"
            },
            "error_y": {
             "color": "#2a3f5f"
            },
            "marker": {
             "line": {
              "color": "#E5ECF6",
              "width": 0.5
             },
             "pattern": {
              "fillmode": "overlay",
              "size": 10,
              "solidity": 0.2
             }
            },
            "type": "bar"
           }
          ],
          "barpolar": [
           {
            "marker": {
             "line": {
              "color": "#E5ECF6",
              "width": 0.5
             },
             "pattern": {
              "fillmode": "overlay",
              "size": 10,
              "solidity": 0.2
             }
            },
            "type": "barpolar"
           }
          ],
          "carpet": [
           {
            "aaxis": {
             "endlinecolor": "#2a3f5f",
             "gridcolor": "white",
             "linecolor": "white",
             "minorgridcolor": "white",
             "startlinecolor": "#2a3f5f"
            },
            "baxis": {
             "endlinecolor": "#2a3f5f",
             "gridcolor": "white",
             "linecolor": "white",
             "minorgridcolor": "white",
             "startlinecolor": "#2a3f5f"
            },
            "type": "carpet"
           }
          ],
          "choropleth": [
           {
            "colorbar": {
             "outlinewidth": 0,
             "ticks": ""
            },
            "type": "choropleth"
           }
          ],
          "contour": [
           {
            "colorbar": {
             "outlinewidth": 0,
             "ticks": ""
            },
            "colorscale": [
             [
              0,
              "#0d0887"
             ],
             [
              0.1111111111111111,
              "#46039f"
             ],
             [
              0.2222222222222222,
              "#7201a8"
             ],
             [
              0.3333333333333333,
              "#9c179e"
             ],
             [
              0.4444444444444444,
              "#bd3786"
             ],
             [
              0.5555555555555556,
              "#d8576b"
             ],
             [
              0.6666666666666666,
              "#ed7953"
             ],
             [
              0.7777777777777778,
              "#fb9f3a"
             ],
             [
              0.8888888888888888,
              "#fdca26"
             ],
             [
              1,
              "#f0f921"
             ]
            ],
            "type": "contour"
           }
          ],
          "contourcarpet": [
           {
            "colorbar": {
             "outlinewidth": 0,
             "ticks": ""
            },
            "type": "contourcarpet"
           }
          ],
          "heatmap": [
           {
            "colorbar": {
             "outlinewidth": 0,
             "ticks": ""
            },
            "colorscale": [
             [
              0,
              "#0d0887"
             ],
             [
              0.1111111111111111,
              "#46039f"
             ],
             [
              0.2222222222222222,
              "#7201a8"
             ],
             [
              0.3333333333333333,
              "#9c179e"
             ],
             [
              0.4444444444444444,
              "#bd3786"
             ],
             [
              0.5555555555555556,
              "#d8576b"
             ],
             [
              0.6666666666666666,
              "#ed7953"
             ],
             [
              0.7777777777777778,
              "#fb9f3a"
             ],
             [
              0.8888888888888888,
              "#fdca26"
             ],
             [
              1,
              "#f0f921"
             ]
            ],
            "type": "heatmap"
           }
          ],
          "heatmapgl": [
           {
            "colorbar": {
             "outlinewidth": 0,
             "ticks": ""
            },
            "colorscale": [
             [
              0,
              "#0d0887"
             ],
             [
              0.1111111111111111,
              "#46039f"
             ],
             [
              0.2222222222222222,
              "#7201a8"
             ],
             [
              0.3333333333333333,
              "#9c179e"
             ],
             [
              0.4444444444444444,
              "#bd3786"
             ],
             [
              0.5555555555555556,
              "#d8576b"
             ],
             [
              0.6666666666666666,
              "#ed7953"
             ],
             [
              0.7777777777777778,
              "#fb9f3a"
             ],
             [
              0.8888888888888888,
              "#fdca26"
             ],
             [
              1,
              "#f0f921"
             ]
            ],
            "type": "heatmapgl"
           }
          ],
          "histogram": [
           {
            "marker": {
             "pattern": {
              "fillmode": "overlay",
              "size": 10,
              "solidity": 0.2
             }
            },
            "type": "histogram"
           }
          ],
          "histogram2d": [
           {
            "colorbar": {
             "outlinewidth": 0,
             "ticks": ""
            },
            "colorscale": [
             [
              0,
              "#0d0887"
             ],
             [
              0.1111111111111111,
              "#46039f"
             ],
             [
              0.2222222222222222,
              "#7201a8"
             ],
             [
              0.3333333333333333,
              "#9c179e"
             ],
             [
              0.4444444444444444,
              "#bd3786"
             ],
             [
              0.5555555555555556,
              "#d8576b"
             ],
             [
              0.6666666666666666,
              "#ed7953"
             ],
             [
              0.7777777777777778,
              "#fb9f3a"
             ],
             [
              0.8888888888888888,
              "#fdca26"
             ],
             [
              1,
              "#f0f921"
             ]
            ],
            "type": "histogram2d"
           }
          ],
          "histogram2dcontour": [
           {
            "colorbar": {
             "outlinewidth": 0,
             "ticks": ""
            },
            "colorscale": [
             [
              0,
              "#0d0887"
             ],
             [
              0.1111111111111111,
              "#46039f"
             ],
             [
              0.2222222222222222,
              "#7201a8"
             ],
             [
              0.3333333333333333,
              "#9c179e"
             ],
             [
              0.4444444444444444,
              "#bd3786"
             ],
             [
              0.5555555555555556,
              "#d8576b"
             ],
             [
              0.6666666666666666,
              "#ed7953"
             ],
             [
              0.7777777777777778,
              "#fb9f3a"
             ],
             [
              0.8888888888888888,
              "#fdca26"
             ],
             [
              1,
              "#f0f921"
             ]
            ],
            "type": "histogram2dcontour"
           }
          ],
          "mesh3d": [
           {
            "colorbar": {
             "outlinewidth": 0,
             "ticks": ""
            },
            "type": "mesh3d"
           }
          ],
          "parcoords": [
           {
            "line": {
             "colorbar": {
              "outlinewidth": 0,
              "ticks": ""
             }
            },
            "type": "parcoords"
           }
          ],
          "pie": [
           {
            "automargin": true,
            "type": "pie"
           }
          ],
          "scatter": [
           {
            "fillpattern": {
             "fillmode": "overlay",
             "size": 10,
             "solidity": 0.2
            },
            "type": "scatter"
           }
          ],
          "scatter3d": [
           {
            "line": {
             "colorbar": {
              "outlinewidth": 0,
              "ticks": ""
             }
            },
            "marker": {
             "colorbar": {
              "outlinewidth": 0,
              "ticks": ""
             }
            },
            "type": "scatter3d"
           }
          ],
          "scattercarpet": [
           {
            "marker": {
             "colorbar": {
              "outlinewidth": 0,
              "ticks": ""
             }
            },
            "type": "scattercarpet"
           }
          ],
          "scattergeo": [
           {
            "marker": {
             "colorbar": {
              "outlinewidth": 0,
              "ticks": ""
             }
            },
            "type": "scattergeo"
           }
          ],
          "scattergl": [
           {
            "marker": {
             "colorbar": {
              "outlinewidth": 0,
              "ticks": ""
             }
            },
            "type": "scattergl"
           }
          ],
          "scattermapbox": [
           {
            "marker": {
             "colorbar": {
              "outlinewidth": 0,
              "ticks": ""
             }
            },
            "type": "scattermapbox"
           }
          ],
          "scatterpolar": [
           {
            "marker": {
             "colorbar": {
              "outlinewidth": 0,
              "ticks": ""
             }
            },
            "type": "scatterpolar"
           }
          ],
          "scatterpolargl": [
           {
            "marker": {
             "colorbar": {
              "outlinewidth": 0,
              "ticks": ""
             }
            },
            "type": "scatterpolargl"
           }
          ],
          "scatterternary": [
           {
            "marker": {
             "colorbar": {
              "outlinewidth": 0,
              "ticks": ""
             }
            },
            "type": "scatterternary"
           }
          ],
          "surface": [
           {
            "colorbar": {
             "outlinewidth": 0,
             "ticks": ""
            },
            "colorscale": [
             [
              0,
              "#0d0887"
             ],
             [
              0.1111111111111111,
              "#46039f"
             ],
             [
              0.2222222222222222,
              "#7201a8"
             ],
             [
              0.3333333333333333,
              "#9c179e"
             ],
             [
              0.4444444444444444,
              "#bd3786"
             ],
             [
              0.5555555555555556,
              "#d8576b"
             ],
             [
              0.6666666666666666,
              "#ed7953"
             ],
             [
              0.7777777777777778,
              "#fb9f3a"
             ],
             [
              0.8888888888888888,
              "#fdca26"
             ],
             [
              1,
              "#f0f921"
             ]
            ],
            "type": "surface"
           }
          ],
          "table": [
           {
            "cells": {
             "fill": {
              "color": "#EBF0F8"
             },
             "line": {
              "color": "white"
             }
            },
            "header": {
             "fill": {
              "color": "#C8D4E3"
             },
             "line": {
              "color": "white"
             }
            },
            "type": "table"
           }
          ]
         },
         "layout": {
          "annotationdefaults": {
           "arrowcolor": "#2a3f5f",
           "arrowhead": 0,
           "arrowwidth": 1
          },
          "autotypenumbers": "strict",
          "coloraxis": {
           "colorbar": {
            "outlinewidth": 0,
            "ticks": ""
           }
          },
          "colorscale": {
           "diverging": [
            [
             0,
             "#8e0152"
            ],
            [
             0.1,
             "#c51b7d"
            ],
            [
             0.2,
             "#de77ae"
            ],
            [
             0.3,
             "#f1b6da"
            ],
            [
             0.4,
             "#fde0ef"
            ],
            [
             0.5,
             "#f7f7f7"
            ],
            [
             0.6,
             "#e6f5d0"
            ],
            [
             0.7,
             "#b8e186"
            ],
            [
             0.8,
             "#7fbc41"
            ],
            [
             0.9,
             "#4d9221"
            ],
            [
             1,
             "#276419"
            ]
           ],
           "sequential": [
            [
             0,
             "#0d0887"
            ],
            [
             0.1111111111111111,
             "#46039f"
            ],
            [
             0.2222222222222222,
             "#7201a8"
            ],
            [
             0.3333333333333333,
             "#9c179e"
            ],
            [
             0.4444444444444444,
             "#bd3786"
            ],
            [
             0.5555555555555556,
             "#d8576b"
            ],
            [
             0.6666666666666666,
             "#ed7953"
            ],
            [
             0.7777777777777778,
             "#fb9f3a"
            ],
            [
             0.8888888888888888,
             "#fdca26"
            ],
            [
             1,
             "#f0f921"
            ]
           ],
           "sequentialminus": [
            [
             0,
             "#0d0887"
            ],
            [
             0.1111111111111111,
             "#46039f"
            ],
            [
             0.2222222222222222,
             "#7201a8"
            ],
            [
             0.3333333333333333,
             "#9c179e"
            ],
            [
             0.4444444444444444,
             "#bd3786"
            ],
            [
             0.5555555555555556,
             "#d8576b"
            ],
            [
             0.6666666666666666,
             "#ed7953"
            ],
            [
             0.7777777777777778,
             "#fb9f3a"
            ],
            [
             0.8888888888888888,
             "#fdca26"
            ],
            [
             1,
             "#f0f921"
            ]
           ]
          },
          "colorway": [
           "#636efa",
           "#EF553B",
           "#00cc96",
           "#ab63fa",
           "#FFA15A",
           "#19d3f3",
           "#FF6692",
           "#B6E880",
           "#FF97FF",
           "#FECB52"
          ],
          "font": {
           "color": "#2a3f5f"
          },
          "geo": {
           "bgcolor": "white",
           "lakecolor": "white",
           "landcolor": "#E5ECF6",
           "showlakes": true,
           "showland": true,
           "subunitcolor": "white"
          },
          "hoverlabel": {
           "align": "left"
          },
          "hovermode": "closest",
          "mapbox": {
           "style": "light"
          },
          "paper_bgcolor": "white",
          "plot_bgcolor": "#E5ECF6",
          "polar": {
           "angularaxis": {
            "gridcolor": "white",
            "linecolor": "white",
            "ticks": ""
           },
           "bgcolor": "#E5ECF6",
           "radialaxis": {
            "gridcolor": "white",
            "linecolor": "white",
            "ticks": ""
           }
          },
          "scene": {
           "xaxis": {
            "backgroundcolor": "#E5ECF6",
            "gridcolor": "white",
            "gridwidth": 2,
            "linecolor": "white",
            "showbackground": true,
            "ticks": "",
            "zerolinecolor": "white"
           },
           "yaxis": {
            "backgroundcolor": "#E5ECF6",
            "gridcolor": "white",
            "gridwidth": 2,
            "linecolor": "white",
            "showbackground": true,
            "ticks": "",
            "zerolinecolor": "white"
           },
           "zaxis": {
            "backgroundcolor": "#E5ECF6",
            "gridcolor": "white",
            "gridwidth": 2,
            "linecolor": "white",
            "showbackground": true,
            "ticks": "",
            "zerolinecolor": "white"
           }
          },
          "shapedefaults": {
           "line": {
            "color": "#2a3f5f"
           }
          },
          "ternary": {
           "aaxis": {
            "gridcolor": "white",
            "linecolor": "white",
            "ticks": ""
           },
           "baxis": {
            "gridcolor": "white",
            "linecolor": "white",
            "ticks": ""
           },
           "bgcolor": "#E5ECF6",
           "caxis": {
            "gridcolor": "white",
            "linecolor": "white",
            "ticks": ""
           }
          },
          "title": {
           "x": 0.05
          },
          "xaxis": {
           "automargin": true,
           "gridcolor": "white",
           "linecolor": "white",
           "ticks": "",
           "title": {
            "standoff": 15
           },
           "zerolinecolor": "white",
           "zerolinewidth": 2
          },
          "yaxis": {
           "automargin": true,
           "gridcolor": "white",
           "linecolor": "white",
           "ticks": "",
           "title": {
            "standoff": 15
           },
           "zerolinecolor": "white",
           "zerolinewidth": 2
          }
         }
        },
        "title": {
         "font": {
          "color": "#4D5663"
         }
        },
        "xaxis": {
         "gridcolor": "#E1E5ED",
         "showgrid": true,
         "tickfont": {
          "color": "#4D5663"
         },
         "title": {
          "font": {
           "color": "#4D5663"
          },
          "text": ""
         },
         "zerolinecolor": "#E1E5ED"
        },
        "yaxis": {
         "gridcolor": "#E1E5ED",
         "showgrid": true,
         "tickfont": {
          "color": "#4D5663"
         },
         "title": {
          "font": {
           "color": "#4D5663"
          },
          "text": ""
         },
         "zerolinecolor": "#E1E5ED"
        }
       }
      },
      "text/html": [
       "<div>                            <div id=\"4dcb7985-9b75-48a3-8498-7c646bc558c0\" class=\"plotly-graph-div\" style=\"height:525px; width:100%;\"></div>            <script type=\"text/javascript\">                require([\"plotly\"], function(Plotly) {                    window.PLOTLYENV=window.PLOTLYENV || {};\n",
       "                    window.PLOTLYENV.BASE_URL='https://plot.ly';                                    if (document.getElementById(\"4dcb7985-9b75-48a3-8498-7c646bc558c0\")) {                    Plotly.newPlot(                        \"4dcb7985-9b75-48a3-8498-7c646bc558c0\",                        [{\"marker\":{\"color\":\"rgba(255, 153, 51, 0.6)\",\"line\":{\"color\":\"rgba(255, 153, 51, 1.0)\",\"width\":1}},\"name\":\"None\",\"orientation\":\"v\",\"text\":\"\",\"x\":[\"(Karl-Heinz RUMMENIGGE,11)\",\"(Diego MARADONA,10)\",\"(V. PERSIE,9)\",\"(Jan CEULEMANS,11)\",\"(R. MARQUEZ,4)\",\"(Uwe SEELER,9)\",\"(ZIDANE,10)\",\"(Dragan STOJKOVIC,10)\",\"(Tomas BOY,10)\",\"(M B HONG,20)\",\"(DROGBA,11)\",\"(Zvonimir BOBAN,10)\",\"(Lothar MATTHAEUS,10)\",\"(Kazimierz DEYNA,12)\",\"(BECKHAM,7)\",\"(Gyorgy SAROSI,0)\",\"(HAKAN SUKUR,9)\",\"(HASEBE,17)\",\"(FIGO,7)\",\"(Johan CRUYFF,14)\",\"(Michel PLATINI,10)\",\"(HAGI,10)\",\"(Daniel PASSARELLA,15)\",\"(Hans SCHAEFER,11)\",\"(Roberto PERFUMO,14)\",\"(HIERRO,6)\",\"(Juergen KLINSMANN,18)\",\"(KARAGOUNIS,10)\",\"(Gheorghe HAGI,10)\",\"(Didier DESCHAMPS,7)\",\"(CAFU,2)\",\"(STAUNTON,5)\",\"(Alberto GARCIA ASPE,8)\",\"(Francisco VALDES,8)\",\"(Ferenc PUSKAS,10)\",\"(Alan SHEARER,9)\",\"(T SILVA,3)\",\"(Emilio BUTRAGUENO,9)\",\"(Zlatko VUJOVIC,11)\",\"(LAUDRUP M.,10)\",\"(RUIZ B.,10)\",\"(JEDINAK,15)\",\"(RAI,10)\",\"(REYNA,10)\",\"(RONALDO,7)\",\"(MESSI,10)\",\"(MATTH\\ufffdUS,10)\",\"(BOUAZIZI,13)\",\"(WILMOTS,7)\",\"(Bryan ROBSON,7)\",\"(V. BRONCKHORST,5)\",\"(A. VALENCIA,16)\",\"(Francois OMAM-BIYIK,7)\",\"(PREGUINHO,0)\",\"(Fritz WALTER,16)\",\"(SORIN,3)\",\"(Ivan HASEK,4)\",\"(PAK Seung Zin,8)\",\"(Jean Marie PFAFF,1)\",\"(RAUL,7)\",\"(MIYAMOTO,5)\",\"(A. GYAN,3)\",\"(Paolo MALDINI,3)\",\"(Jonas THERN,9)\",\"(GERRARD,4)\",\"(Gustavo PENA,3)\",\"(Juan AGUERO,7)\",\"(Riccardo CARAPELLESE,0)\",\"(RUSTU ,1)\",\"(J C KOO,13)\",\"(Ernst OCWIRK,5)\",\"(AKW\\ufffd,10)\",\"(S. APPIAH,10)\",\"(SOCRATES,8)\",\"(Georges GRUN,13)\",\"(Gamal ABDELHAMID,10)\",\"(Milan GALIC,10)\",\"(SHEVCHENKO,7)\",\"(RADEBE,19)\",\"(GOMES,9)\",\"(Kidumu MANTANTU,10)\",\"(ETO'O,9)\",\"(LAHM,16)\",\"(Arturo VAZQUEZ,5)\",\"(Thomas DOOLEY,5)\",\"(Daniel PASSARELLA,19)\",\"(Nery PUMPIDO,18)\",\"(Majed ABDULLAH,9)\",\"(Thomas NKONO,16)\",\"(VALDERRAMA,10)\",\"(DEMPSEY,8)\",\"(UCHE,5)\",\"(Borislav MIHAYLOV,1)\",\"(D. GODIN,3)\",\"(Oscar RUGGERI,6)\",\"(CARLOS ALBERTO,4)\",\"(MARIN L.,3)\",\"(Toni POLSTER,19)\",\"(Nils LIEDHOLM,4)\",\"(CISSE,6)\",\"(CILLESSEN,1)\",\"(Terry BUTCHER,6)\",\"(N. KOVAC,10)\",\"(Diego SIMEONE,8)\",\"(LEONIDAS,0)\",\"(NELSEN,6)\",\"(LUGANO,2)\",\"(MILOSEVIC,9)\",\"(BORUC,1)\",\"(Johann HORVATH,0)\",\"(MASCHERANO,14)\",\"(TOMASSON,9)\",\"(VERON,11)\",\"(Driss BAMOUS,8)\",\"(Aleksandre CHIVADZE,3)\",\"(Dragan DZAJIC,11)\",\"(Lucas RADEBE,19)\",\"(NEILL,2)\",\"(RAMOS,15)\",\"(Nery PUMPIDO,1)\",\"(Nelson TAPIA,1)\",\"(R. CENI,12)\",\"(Nikita SIMONYAN,9)\",\"(R MARQUEZ,4)\",\"(O. PEREZ,1)\",\"(NAVAS K.,1)\",\"(Placido GALINDO,0)\",\"(Piet SCHRIJVERS,1)\",\"(P.MONTERO,4)\",\"(Mustapha EL HADAOUI,10)\",\"(PAGLIUCA,1)\",\"(Mordechai SPIEGLER,10)\",\"(Oleg BLOKHIN,11)\",\"(PARK Chang Sun,10)\",\"(PAULETA,9)\",\"(PLETIKOSA,1)\",\"(Paul McGRATH,7)\",\"(Obdulio VARELA,5)\",\"(Obdulio VARELA,0)\",\"(Paul VAN HIMST,10)\",\"(Pedro ROCHA,8)\",\"(NADAL,20)\",\"(OSPINA,1)\",\"(Pedro SOTO,22)\",\"(OMER,12)\",\"(Mohamed ABDELJAWAD,13)\",\"(Peter SCHMEICHEL,1)\",\"(Nasser DRID,1)\",\"(SELLIMI,11)\",\"(RICARDO,1)\",\"(VILLAR,1)\",\"(Tassos MITROPOULOS,10)\",\"(Temime LAKHZAMI,7)\",\"(Thomas NKONO,1)\",\"(Tibor NYILASI,8)\",\"(Tom FLORIE,0)\",\"(Tomas FERNANDEZ,0)\",\"(Toni POLSTER,9)\",\"(Tony MEOLA,1)\",\"(Tore KELLER,0)\",\"(Trifon IVANOV,3)\",\"(Tubilandu NDIMBI,12)\",\"(VALLADARES,18)\",\"(VERTONGHEN,5)\",\"(VIEIRA,4)\",\"(VOGEL,6)\",\"(RICARDO GOMES,3)\",\"(VORM,22)\",\"(WALDIR PERES,1)\",\"(WILSON PIAZZA,5)\",\"(Wilner NAZAIRE,14)\",\"(Wladyslaw ZMUDA,9)\",\"(Y.GOLMOHAMMADI,4)\",\"(YAHIA,4)\",\"(YEPES,3)\",\"(YOBO,2)\",\"(YOO S. C.,6)\",\"(YORKE,19)\",\"(ZARRA,0)\",\"(ZUBIZARRETA,1)\",\"(Zbigniew BONIEK,20)\",\"(TAVARELLI,22)\",\"(TAHAR,4)\",\"(S\\ufffdRENSEN,1)\",\"(Steve SUMNER,10)\",\"(ROBINSON,1)\",\"(Rajko MITIC,0)\",\"(Ramon MARADIAGA,6)\",\"(Ramon QUIROGA,21)\",\"(Raul MAGANA,1)\",\"(Robert SARA,2)\",\"(Roger FLORES,3)\",\"(Ronald KOEMAN,4)\",\"(Ruben DIAZ,15)\",\"(Ruben NAVARRO,15)\",\"(Ruud GULLIT,10)\",\"(Ruud KROL,5)\",\"(SCHNEIDER,19)\",\"(SCIFO,10)\",\"(SONG,4)\",\"(SONGO'O,22)\",\"(SPAHI?,4)\",\"(STEKELENBURG,1)\",\"(STEWART,8)\",\"(SUKER,9)\",\"(Salvador MARIONA,3)\",\"(Sam McILROY,8)\",\"(Sepp MAIER,1)\",\"(Sergio GOYCOCHEA,12)\",\"(Stanislav SEMAN,1)\",\"(Stefan DOBAY,0)\",\"(Stephen KESHI,4)\",\"(Stephen TATAW,14)\",\"(Stere ADAMACHE,21)\",\"(Mircea LUCESCU,11)\",\"(A. DIARRA,18)\",\"(Miguel BRINDISI,6)\",\"(Dmitri KHARIN,16)\",\"(Enzo FRANCESCOLI,9)\",\"(Egisto PANDOLFINI,8)\",\"(EVRA,13)\",\"(ENYEAMA,1)\",\"(EDUARDO,1)\",\"(EDINHO,4)\",\"(Davor SUKER,9)\",\"(Carlos ROA,1)\",\"(David SEAMAN,1)\",\"(DUNGA,8)\",\"(DOMORAUD,17)\",\"(DIDA,1)\",\"(D. LUGANO,2)\",\"(Cesar LOPEZ FRETES,0)\",\"(Enzo SCIFO,14)\",\"(Eric GERETS,2)\",\"(Erich OBERMAYER,3)\",\"(F. AMIN,6)\",\"(F. MUSLERA,1)\",\"(F.CARINI,1)\",\"(FAHAD KHAMEES,7)\",\"(FORLAN,10)\",\"(FREI,9)\",\"(FRIEDEL,1)\",\"(Fernando ALVEZ,1)\",\"(Fernando ALVEZ,12)\",\"(Francisco ZULUAGA,3)\",\"(Franco BARESI,6)\",\"(Franky VAN DER ELST,6)\",\"(G TORRADO,6)\",\"(GALASEK,4)\",\"(Carlos VALDERRAMA,10)\",\"(Carlos BORJA,6)\",\"(Michael WINDISCHMANN,5)\",\"(Andy TOWNSEND,7)\",\"(BATISTUTA,9)\",\"(BALLACK,13)\",\"(BAK,6)\",\"(BADRA,2)\",\"(Antonio RATTIN,10)\",\"(Antal NAGY,8)\",\"(Alexander HORVATH,5)\",\"(CHOI In Young,1)\",\"(Ahmed SHOBEIR,1)\",\"(ALJABER ,9)\",\"(AL-DEAYEA,1)\",\"(AGUINAGA,10)\",\"(ABBONDANZIERI,1)\",\"(ABALO,3)\",\"(BENAGLIO,1)\",\"(BETO,22)\",\"(BOCANEGRA,3)\",\"(BOUGUERRA,2)\",\"(BUFFON,1)\",\"(Berti VOGTS,2)\",\"(Bo LARSSON,7)\",\"(Boris GAGANELOV,15)\",\"(Bruce RIOCH,6)\",\"(Bruce WILSON,3)\",\"(C BLANCO,10)\",\"(C. MORA,12)\",\"(CAMPOS,1)\",\"(CANNAVARO,5)\",\"(CEH A.,8)\",\"(CEVALLOS,1)\",\"(CHILAVERT,1)\",\"(GAMARRA,4)\",\"(GLYKOS,12)\",\"(GUEVARRA,20)\",\"(KOREN,8)\",\"(Luis UBINA,4)\",\"(Lefter KUCUKANDONYADIS,11)\",\"(LEE Woonjae,22)\",\"(Khalil AZMI,1)\",\"(Kazadi MUAMBA,1)\",\"(KRUL,23)\",\"(KOMPANY,4)\",\"(Gaetano SCIREA,6)\",\"(KIM B. J.,1)\",\"(KHUNE,16)\",\"(KHALIL MOHAMED,3)\",\"(KAWAGUCHI,23)\",\"(KATSOURANIS,21)\",\"(KARNEZIS,1)\",\"(Luis VARGAS PENA,0)\",\"(M Y MA,9)\",\"(M. AYOVI,15)\",\"(MAJDAN,12)\",\"(MALDINI,5)\",\"(MARCHETTI,12)\",\"(MARINHO PERES,3)\",\"(MARIO COLUNA,10)\",\"(MENSAH,5)\",\"(MIYAMOTO,17)\",\"(MJALLBY,4)\",\"(MONDRAGON,22)\",\"(MORIOKA,4)\",\"(MUCHA,1)\",\"(Marco PASCOLO,1)\",\"(Martin O NEILL,8)\",\"(Masami IHARA,4)\",\"(KANU,4)\",\"(KAHN,1)\",\"(Juergen CROY,1)\",\"(I. CASILLAS,1)\",\"(Giampiero BONIPERTI,19)\",\"(Giuseppe MEAZZA,0)\",\"(Graeme SOUNESS,4)\",\"(Guillermo SUBIABRE,0)\",\"(H. YONG JO,10)\",\"(HALLICHE,5)\",\"(HAMMOUDI RAAD,1)\",\"(HAMSIK,17)\",\"(HEINTZE,5)\",\"(HISLOP,1)\",\"(Hector CHUMPITAZ,4)\",\"(Horacio CASARIN,0)\",\"(Horacio TROCHE,2)\",\"(Hristo BONEV,8)\",\"(I. HURTADO,3)\",\"(Juan Manuel ASENSI,4)\",\"(Ivan ZAMORANO,9)\",\"(J. NEKOUNAM,6)\",\"(JISUNG,7)\",\"(JOSEPHS,1)\",\"(JO\\ufffdO RICARDO,1)\",\"(JULIO CESAR,12)\",\"(Jan JONGBLOED,8)\",\"(Jean Paul BERTRAND DEMANES,21)\",\"(Jorge BARRIOS,8)\",\"(Jorge TORO,8)\",\"(Jose Antonio CAMACHO,3)\",\"(Jose REYES,1)\",\"(Jozsef BOZSIK,5)\",\"(Juan MASNIK,3)\",\"(Klaus LINDENBERGER,1)\"],\"y\":[8,7,5,5,5,5,5,4,4,4,4,4,4,4,4,4,4,4,4,4,4,3,3,3,3,3,3,3,3,3,3,3,3,3,3,3,3,3,3,3,3,3,3,3,3,3,3,3,3,3,3,2,2,2,2,2,2,2,2,2,2,2,2,2,2,2,2,2,2,2,2,2,2,2,2,2,2,2,2,2,2,2,2,2,2,2,2,2,2,2,2,2,2,2,2,2,2,2,2,2,2,2,2,2,2,2,2,2,2,2,2,2,2,2,2,2,2,1,1,1,1,1,1,1,1,1,1,1,1,1,1,1,1,1,1,1,1,1,1,1,1,1,1,1,1,1,1,1,1,1,1,1,1,1,1,1,1,1,1,1,1,1,1,1,1,1,1,1,1,1,1,1,1,1,1,1,1,1,1,1,1,1,1,1,1,1,1,1,1,1,1,1,1,1,1,1,1,1,1,1,1,1,1,1,1,1,1,1,1,1,1,1,1,1,1,1,1,1,1,1,1,1,1,1,1,1,1,1,1,1,1,1,1,1,1,1,1,1,1,1,1,1,1,1,1,1,1,1,1,1,1,1,1,1,1,1,1,1,1,1,1,1,1,1,1,1,1,1,1,1,1,1,1,1,1,1,1,1,1,1,1,1,1,1,1,1,1,1,1,1,1,1,1,1,1,1,1,1,1,1,1,1,1,1,1,1,1,1,1,1,1,1,1,1,1,1,1,1,1,1,1,1,1,1,1,1,1,1,1,1,1,1,1,1,1,1,1,1,1,1,1,1,1,1,1,1,1,1,1,1,1,1,1,1],\"type\":\"bar\"}],                        {\"legend\":{\"bgcolor\":\"#F5F6F9\",\"font\":{\"color\":\"#4D5663\"}},\"paper_bgcolor\":\"#F5F6F9\",\"plot_bgcolor\":\"#F5F6F9\",\"template\":{\"data\":{\"barpolar\":[{\"marker\":{\"line\":{\"color\":\"#E5ECF6\",\"width\":0.5},\"pattern\":{\"fillmode\":\"overlay\",\"size\":10,\"solidity\":0.2}},\"type\":\"barpolar\"}],\"bar\":[{\"error_x\":{\"color\":\"#2a3f5f\"},\"error_y\":{\"color\":\"#2a3f5f\"},\"marker\":{\"line\":{\"color\":\"#E5ECF6\",\"width\":0.5},\"pattern\":{\"fillmode\":\"overlay\",\"size\":10,\"solidity\":0.2}},\"type\":\"bar\"}],\"carpet\":[{\"aaxis\":{\"endlinecolor\":\"#2a3f5f\",\"gridcolor\":\"white\",\"linecolor\":\"white\",\"minorgridcolor\":\"white\",\"startlinecolor\":\"#2a3f5f\"},\"baxis\":{\"endlinecolor\":\"#2a3f5f\",\"gridcolor\":\"white\",\"linecolor\":\"white\",\"minorgridcolor\":\"white\",\"startlinecolor\":\"#2a3f5f\"},\"type\":\"carpet\"}],\"choropleth\":[{\"colorbar\":{\"outlinewidth\":0,\"ticks\":\"\"},\"type\":\"choropleth\"}],\"contourcarpet\":[{\"colorbar\":{\"outlinewidth\":0,\"ticks\":\"\"},\"type\":\"contourcarpet\"}],\"contour\":[{\"colorbar\":{\"outlinewidth\":0,\"ticks\":\"\"},\"colorscale\":[[0.0,\"#0d0887\"],[0.1111111111111111,\"#46039f\"],[0.2222222222222222,\"#7201a8\"],[0.3333333333333333,\"#9c179e\"],[0.4444444444444444,\"#bd3786\"],[0.5555555555555556,\"#d8576b\"],[0.6666666666666666,\"#ed7953\"],[0.7777777777777778,\"#fb9f3a\"],[0.8888888888888888,\"#fdca26\"],[1.0,\"#f0f921\"]],\"type\":\"contour\"}],\"heatmapgl\":[{\"colorbar\":{\"outlinewidth\":0,\"ticks\":\"\"},\"colorscale\":[[0.0,\"#0d0887\"],[0.1111111111111111,\"#46039f\"],[0.2222222222222222,\"#7201a8\"],[0.3333333333333333,\"#9c179e\"],[0.4444444444444444,\"#bd3786\"],[0.5555555555555556,\"#d8576b\"],[0.6666666666666666,\"#ed7953\"],[0.7777777777777778,\"#fb9f3a\"],[0.8888888888888888,\"#fdca26\"],[1.0,\"#f0f921\"]],\"type\":\"heatmapgl\"}],\"heatmap\":[{\"colorbar\":{\"outlinewidth\":0,\"ticks\":\"\"},\"colorscale\":[[0.0,\"#0d0887\"],[0.1111111111111111,\"#46039f\"],[0.2222222222222222,\"#7201a8\"],[0.3333333333333333,\"#9c179e\"],[0.4444444444444444,\"#bd3786\"],[0.5555555555555556,\"#d8576b\"],[0.6666666666666666,\"#ed7953\"],[0.7777777777777778,\"#fb9f3a\"],[0.8888888888888888,\"#fdca26\"],[1.0,\"#f0f921\"]],\"type\":\"heatmap\"}],\"histogram2dcontour\":[{\"colorbar\":{\"outlinewidth\":0,\"ticks\":\"\"},\"colorscale\":[[0.0,\"#0d0887\"],[0.1111111111111111,\"#46039f\"],[0.2222222222222222,\"#7201a8\"],[0.3333333333333333,\"#9c179e\"],[0.4444444444444444,\"#bd3786\"],[0.5555555555555556,\"#d8576b\"],[0.6666666666666666,\"#ed7953\"],[0.7777777777777778,\"#fb9f3a\"],[0.8888888888888888,\"#fdca26\"],[1.0,\"#f0f921\"]],\"type\":\"histogram2dcontour\"}],\"histogram2d\":[{\"colorbar\":{\"outlinewidth\":0,\"ticks\":\"\"},\"colorscale\":[[0.0,\"#0d0887\"],[0.1111111111111111,\"#46039f\"],[0.2222222222222222,\"#7201a8\"],[0.3333333333333333,\"#9c179e\"],[0.4444444444444444,\"#bd3786\"],[0.5555555555555556,\"#d8576b\"],[0.6666666666666666,\"#ed7953\"],[0.7777777777777778,\"#fb9f3a\"],[0.8888888888888888,\"#fdca26\"],[1.0,\"#f0f921\"]],\"type\":\"histogram2d\"}],\"histogram\":[{\"marker\":{\"pattern\":{\"fillmode\":\"overlay\",\"size\":10,\"solidity\":0.2}},\"type\":\"histogram\"}],\"mesh3d\":[{\"colorbar\":{\"outlinewidth\":0,\"ticks\":\"\"},\"type\":\"mesh3d\"}],\"parcoords\":[{\"line\":{\"colorbar\":{\"outlinewidth\":0,\"ticks\":\"\"}},\"type\":\"parcoords\"}],\"pie\":[{\"automargin\":true,\"type\":\"pie\"}],\"scatter3d\":[{\"line\":{\"colorbar\":{\"outlinewidth\":0,\"ticks\":\"\"}},\"marker\":{\"colorbar\":{\"outlinewidth\":0,\"ticks\":\"\"}},\"type\":\"scatter3d\"}],\"scattercarpet\":[{\"marker\":{\"colorbar\":{\"outlinewidth\":0,\"ticks\":\"\"}},\"type\":\"scattercarpet\"}],\"scattergeo\":[{\"marker\":{\"colorbar\":{\"outlinewidth\":0,\"ticks\":\"\"}},\"type\":\"scattergeo\"}],\"scattergl\":[{\"marker\":{\"colorbar\":{\"outlinewidth\":0,\"ticks\":\"\"}},\"type\":\"scattergl\"}],\"scattermapbox\":[{\"marker\":{\"colorbar\":{\"outlinewidth\":0,\"ticks\":\"\"}},\"type\":\"scattermapbox\"}],\"scatterpolargl\":[{\"marker\":{\"colorbar\":{\"outlinewidth\":0,\"ticks\":\"\"}},\"type\":\"scatterpolargl\"}],\"scatterpolar\":[{\"marker\":{\"colorbar\":{\"outlinewidth\":0,\"ticks\":\"\"}},\"type\":\"scatterpolar\"}],\"scatter\":[{\"fillpattern\":{\"fillmode\":\"overlay\",\"size\":10,\"solidity\":0.2},\"type\":\"scatter\"}],\"scatterternary\":[{\"marker\":{\"colorbar\":{\"outlinewidth\":0,\"ticks\":\"\"}},\"type\":\"scatterternary\"}],\"surface\":[{\"colorbar\":{\"outlinewidth\":0,\"ticks\":\"\"},\"colorscale\":[[0.0,\"#0d0887\"],[0.1111111111111111,\"#46039f\"],[0.2222222222222222,\"#7201a8\"],[0.3333333333333333,\"#9c179e\"],[0.4444444444444444,\"#bd3786\"],[0.5555555555555556,\"#d8576b\"],[0.6666666666666666,\"#ed7953\"],[0.7777777777777778,\"#fb9f3a\"],[0.8888888888888888,\"#fdca26\"],[1.0,\"#f0f921\"]],\"type\":\"surface\"}],\"table\":[{\"cells\":{\"fill\":{\"color\":\"#EBF0F8\"},\"line\":{\"color\":\"white\"}},\"header\":{\"fill\":{\"color\":\"#C8D4E3\"},\"line\":{\"color\":\"white\"}},\"type\":\"table\"}]},\"layout\":{\"annotationdefaults\":{\"arrowcolor\":\"#2a3f5f\",\"arrowhead\":0,\"arrowwidth\":1},\"autotypenumbers\":\"strict\",\"coloraxis\":{\"colorbar\":{\"outlinewidth\":0,\"ticks\":\"\"}},\"colorscale\":{\"diverging\":[[0,\"#8e0152\"],[0.1,\"#c51b7d\"],[0.2,\"#de77ae\"],[0.3,\"#f1b6da\"],[0.4,\"#fde0ef\"],[0.5,\"#f7f7f7\"],[0.6,\"#e6f5d0\"],[0.7,\"#b8e186\"],[0.8,\"#7fbc41\"],[0.9,\"#4d9221\"],[1,\"#276419\"]],\"sequential\":[[0.0,\"#0d0887\"],[0.1111111111111111,\"#46039f\"],[0.2222222222222222,\"#7201a8\"],[0.3333333333333333,\"#9c179e\"],[0.4444444444444444,\"#bd3786\"],[0.5555555555555556,\"#d8576b\"],[0.6666666666666666,\"#ed7953\"],[0.7777777777777778,\"#fb9f3a\"],[0.8888888888888888,\"#fdca26\"],[1.0,\"#f0f921\"]],\"sequentialminus\":[[0.0,\"#0d0887\"],[0.1111111111111111,\"#46039f\"],[0.2222222222222222,\"#7201a8\"],[0.3333333333333333,\"#9c179e\"],[0.4444444444444444,\"#bd3786\"],[0.5555555555555556,\"#d8576b\"],[0.6666666666666666,\"#ed7953\"],[0.7777777777777778,\"#fb9f3a\"],[0.8888888888888888,\"#fdca26\"],[1.0,\"#f0f921\"]]},\"colorway\":[\"#636efa\",\"#EF553B\",\"#00cc96\",\"#ab63fa\",\"#FFA15A\",\"#19d3f3\",\"#FF6692\",\"#B6E880\",\"#FF97FF\",\"#FECB52\"],\"font\":{\"color\":\"#2a3f5f\"},\"geo\":{\"bgcolor\":\"white\",\"lakecolor\":\"white\",\"landcolor\":\"#E5ECF6\",\"showlakes\":true,\"showland\":true,\"subunitcolor\":\"white\"},\"hoverlabel\":{\"align\":\"left\"},\"hovermode\":\"closest\",\"mapbox\":{\"style\":\"light\"},\"paper_bgcolor\":\"white\",\"plot_bgcolor\":\"#E5ECF6\",\"polar\":{\"angularaxis\":{\"gridcolor\":\"white\",\"linecolor\":\"white\",\"ticks\":\"\"},\"bgcolor\":\"#E5ECF6\",\"radialaxis\":{\"gridcolor\":\"white\",\"linecolor\":\"white\",\"ticks\":\"\"}},\"scene\":{\"xaxis\":{\"backgroundcolor\":\"#E5ECF6\",\"gridcolor\":\"white\",\"gridwidth\":2,\"linecolor\":\"white\",\"showbackground\":true,\"ticks\":\"\",\"zerolinecolor\":\"white\"},\"yaxis\":{\"backgroundcolor\":\"#E5ECF6\",\"gridcolor\":\"white\",\"gridwidth\":2,\"linecolor\":\"white\",\"showbackground\":true,\"ticks\":\"\",\"zerolinecolor\":\"white\"},\"zaxis\":{\"backgroundcolor\":\"#E5ECF6\",\"gridcolor\":\"white\",\"gridwidth\":2,\"linecolor\":\"white\",\"showbackground\":true,\"ticks\":\"\",\"zerolinecolor\":\"white\"}},\"shapedefaults\":{\"line\":{\"color\":\"#2a3f5f\"}},\"ternary\":{\"aaxis\":{\"gridcolor\":\"white\",\"linecolor\":\"white\",\"ticks\":\"\"},\"baxis\":{\"gridcolor\":\"white\",\"linecolor\":\"white\",\"ticks\":\"\"},\"bgcolor\":\"#E5ECF6\",\"caxis\":{\"gridcolor\":\"white\",\"linecolor\":\"white\",\"ticks\":\"\"}},\"title\":{\"x\":0.05},\"xaxis\":{\"automargin\":true,\"gridcolor\":\"white\",\"linecolor\":\"white\",\"ticks\":\"\",\"title\":{\"standoff\":15},\"zerolinecolor\":\"white\",\"zerolinewidth\":2},\"yaxis\":{\"automargin\":true,\"gridcolor\":\"white\",\"linecolor\":\"white\",\"ticks\":\"\",\"title\":{\"standoff\":15},\"zerolinecolor\":\"white\",\"zerolinewidth\":2}}},\"title\":{\"font\":{\"color\":\"#4D5663\"}},\"xaxis\":{\"gridcolor\":\"#E1E5ED\",\"showgrid\":true,\"tickfont\":{\"color\":\"#4D5663\"},\"title\":{\"font\":{\"color\":\"#4D5663\"},\"text\":\"\"},\"zerolinecolor\":\"#E1E5ED\"},\"yaxis\":{\"gridcolor\":\"#E1E5ED\",\"showgrid\":true,\"tickfont\":{\"color\":\"#4D5663\"},\"title\":{\"font\":{\"color\":\"#4D5663\"},\"text\":\"\"},\"zerolinecolor\":\"#E1E5ED\"}},                        {\"showLink\": true, \"linkText\": \"Export to plot.ly\", \"plotlyServerURL\": \"https://plot.ly\", \"responsive\": true}                    ).then(function(){\n",
       "                            \n",
       "var gd = document.getElementById('4dcb7985-9b75-48a3-8498-7c646bc558c0');\n",
       "var x = new MutationObserver(function (mutations, observer) {{\n",
       "        var display = window.getComputedStyle(gd).display;\n",
       "        if (!display || display === 'none') {{\n",
       "            console.log([gd, 'removed!']);\n",
       "            Plotly.purge(gd);\n",
       "            observer.disconnect();\n",
       "        }}\n",
       "}});\n",
       "\n",
       "// Listen for the removal of the full notebook cells\n",
       "var notebookContainer = gd.closest('#notebook-container');\n",
       "if (notebookContainer) {{\n",
       "    x.observe(notebookContainer, {childList: true});\n",
       "}}\n",
       "\n",
       "// Listen for the clearing of the current output cell\n",
       "var outputEl = gd.closest('.output');\n",
       "if (outputEl) {{\n",
       "    x.observe(outputEl, {childList: true});\n",
       "}}\n",
       "\n",
       "                        })                };                });            </script>        </div>"
      ]
     },
     "metadata": {},
     "output_type": "display_data"
    }
   ],
   "source": [
    "# Let's check the team player name with shirt number \n",
    "df2[['Player Name','Shirt Number']].value_counts().iplot(kind='bar')"
   ]
  },
  {
   "cell_type": "markdown",
   "metadata": {},
   "source": [
    "From the above we can see that number on there tshirt"
   ]
  },
  {
   "cell_type": "code",
   "execution_count": 122,
   "metadata": {},
   "outputs": [
    {
     "data": {
      "application/vnd.plotly.v1+json": {
       "config": {
        "linkText": "Export to plot.ly",
        "plotlyServerURL": "https://plot.ly",
        "showLink": true
       },
       "data": [
        {
         "marker": {
          "color": "rgba(255, 153, 51, 0.6)",
          "line": {
           "color": "rgba(255, 153, 51, 1.0)",
           "width": 1
          }
         },
         "name": "Team Initials",
         "orientation": "v",
         "text": "",
         "type": "bar",
         "x": [
          "ARG",
          "BRA",
          "MEX",
          "FRG",
          "NED",
          "BEL",
          "URU",
          "ENG",
          "FRA",
          "ESP",
          "ITA",
          "POR",
          "USA",
          "YUG",
          "KOR",
          "GER",
          "CMR",
          "HUN",
          "AUT",
          "POL",
          "JPN",
          "CRO",
          "ROU",
          "DEN",
          "PAR",
          "TUR",
          "CHI",
          "GRE",
          "COL",
          "ECU",
          "CRC",
          "SWE",
          "RSA",
          "NGA",
          "KSA",
          "TUN",
          "IRL",
          "CIV",
          "MAR",
          "BUL",
          "GHA",
          "TCH",
          "AUS",
          "ALG",
          "PER",
          "SUI",
          "URS",
          "ZAI",
          "HON",
          "PRK",
          "NZL",
          "EGY",
          "ANG",
          "SVN",
          "SEN",
          "SVK",
          "IRN",
          "TRI",
          "SCG",
          "UKR",
          "NIR",
          "IRQ",
          "SCO",
          "SLV",
          "RUS",
          "BOL",
          "CHN",
          "UAE",
          "CAN",
          "TOG",
          "HAI",
          "CZE",
          "GDR",
          "ISR",
          "CUB",
          "BIH"
         ],
         "y": [
          38,
          26,
          24,
          24,
          22,
          19,
          19,
          16,
          16,
          15,
          14,
          14,
          13,
          12,
          12,
          11,
          10,
          10,
          10,
          10,
          10,
          9,
          9,
          8,
          8,
          8,
          7,
          7,
          7,
          7,
          7,
          7,
          6,
          6,
          6,
          6,
          5,
          5,
          5,
          5,
          5,
          4,
          4,
          4,
          4,
          4,
          4,
          4,
          3,
          3,
          3,
          3,
          3,
          2,
          2,
          2,
          2,
          2,
          2,
          2,
          2,
          2,
          2,
          2,
          1,
          1,
          1,
          1,
          1,
          1,
          1,
          1,
          1,
          1,
          1,
          1
         ]
        }
       ],
       "layout": {
        "legend": {
         "bgcolor": "#F5F6F9",
         "font": {
          "color": "#4D5663"
         }
        },
        "paper_bgcolor": "#F5F6F9",
        "plot_bgcolor": "#F5F6F9",
        "template": {
         "data": {
          "bar": [
           {
            "error_x": {
             "color": "#2a3f5f"
            },
            "error_y": {
             "color": "#2a3f5f"
            },
            "marker": {
             "line": {
              "color": "#E5ECF6",
              "width": 0.5
             },
             "pattern": {
              "fillmode": "overlay",
              "size": 10,
              "solidity": 0.2
             }
            },
            "type": "bar"
           }
          ],
          "barpolar": [
           {
            "marker": {
             "line": {
              "color": "#E5ECF6",
              "width": 0.5
             },
             "pattern": {
              "fillmode": "overlay",
              "size": 10,
              "solidity": 0.2
             }
            },
            "type": "barpolar"
           }
          ],
          "carpet": [
           {
            "aaxis": {
             "endlinecolor": "#2a3f5f",
             "gridcolor": "white",
             "linecolor": "white",
             "minorgridcolor": "white",
             "startlinecolor": "#2a3f5f"
            },
            "baxis": {
             "endlinecolor": "#2a3f5f",
             "gridcolor": "white",
             "linecolor": "white",
             "minorgridcolor": "white",
             "startlinecolor": "#2a3f5f"
            },
            "type": "carpet"
           }
          ],
          "choropleth": [
           {
            "colorbar": {
             "outlinewidth": 0,
             "ticks": ""
            },
            "type": "choropleth"
           }
          ],
          "contour": [
           {
            "colorbar": {
             "outlinewidth": 0,
             "ticks": ""
            },
            "colorscale": [
             [
              0,
              "#0d0887"
             ],
             [
              0.1111111111111111,
              "#46039f"
             ],
             [
              0.2222222222222222,
              "#7201a8"
             ],
             [
              0.3333333333333333,
              "#9c179e"
             ],
             [
              0.4444444444444444,
              "#bd3786"
             ],
             [
              0.5555555555555556,
              "#d8576b"
             ],
             [
              0.6666666666666666,
              "#ed7953"
             ],
             [
              0.7777777777777778,
              "#fb9f3a"
             ],
             [
              0.8888888888888888,
              "#fdca26"
             ],
             [
              1,
              "#f0f921"
             ]
            ],
            "type": "contour"
           }
          ],
          "contourcarpet": [
           {
            "colorbar": {
             "outlinewidth": 0,
             "ticks": ""
            },
            "type": "contourcarpet"
           }
          ],
          "heatmap": [
           {
            "colorbar": {
             "outlinewidth": 0,
             "ticks": ""
            },
            "colorscale": [
             [
              0,
              "#0d0887"
             ],
             [
              0.1111111111111111,
              "#46039f"
             ],
             [
              0.2222222222222222,
              "#7201a8"
             ],
             [
              0.3333333333333333,
              "#9c179e"
             ],
             [
              0.4444444444444444,
              "#bd3786"
             ],
             [
              0.5555555555555556,
              "#d8576b"
             ],
             [
              0.6666666666666666,
              "#ed7953"
             ],
             [
              0.7777777777777778,
              "#fb9f3a"
             ],
             [
              0.8888888888888888,
              "#fdca26"
             ],
             [
              1,
              "#f0f921"
             ]
            ],
            "type": "heatmap"
           }
          ],
          "heatmapgl": [
           {
            "colorbar": {
             "outlinewidth": 0,
             "ticks": ""
            },
            "colorscale": [
             [
              0,
              "#0d0887"
             ],
             [
              0.1111111111111111,
              "#46039f"
             ],
             [
              0.2222222222222222,
              "#7201a8"
             ],
             [
              0.3333333333333333,
              "#9c179e"
             ],
             [
              0.4444444444444444,
              "#bd3786"
             ],
             [
              0.5555555555555556,
              "#d8576b"
             ],
             [
              0.6666666666666666,
              "#ed7953"
             ],
             [
              0.7777777777777778,
              "#fb9f3a"
             ],
             [
              0.8888888888888888,
              "#fdca26"
             ],
             [
              1,
              "#f0f921"
             ]
            ],
            "type": "heatmapgl"
           }
          ],
          "histogram": [
           {
            "marker": {
             "pattern": {
              "fillmode": "overlay",
              "size": 10,
              "solidity": 0.2
             }
            },
            "type": "histogram"
           }
          ],
          "histogram2d": [
           {
            "colorbar": {
             "outlinewidth": 0,
             "ticks": ""
            },
            "colorscale": [
             [
              0,
              "#0d0887"
             ],
             [
              0.1111111111111111,
              "#46039f"
             ],
             [
              0.2222222222222222,
              "#7201a8"
             ],
             [
              0.3333333333333333,
              "#9c179e"
             ],
             [
              0.4444444444444444,
              "#bd3786"
             ],
             [
              0.5555555555555556,
              "#d8576b"
             ],
             [
              0.6666666666666666,
              "#ed7953"
             ],
             [
              0.7777777777777778,
              "#fb9f3a"
             ],
             [
              0.8888888888888888,
              "#fdca26"
             ],
             [
              1,
              "#f0f921"
             ]
            ],
            "type": "histogram2d"
           }
          ],
          "histogram2dcontour": [
           {
            "colorbar": {
             "outlinewidth": 0,
             "ticks": ""
            },
            "colorscale": [
             [
              0,
              "#0d0887"
             ],
             [
              0.1111111111111111,
              "#46039f"
             ],
             [
              0.2222222222222222,
              "#7201a8"
             ],
             [
              0.3333333333333333,
              "#9c179e"
             ],
             [
              0.4444444444444444,
              "#bd3786"
             ],
             [
              0.5555555555555556,
              "#d8576b"
             ],
             [
              0.6666666666666666,
              "#ed7953"
             ],
             [
              0.7777777777777778,
              "#fb9f3a"
             ],
             [
              0.8888888888888888,
              "#fdca26"
             ],
             [
              1,
              "#f0f921"
             ]
            ],
            "type": "histogram2dcontour"
           }
          ],
          "mesh3d": [
           {
            "colorbar": {
             "outlinewidth": 0,
             "ticks": ""
            },
            "type": "mesh3d"
           }
          ],
          "parcoords": [
           {
            "line": {
             "colorbar": {
              "outlinewidth": 0,
              "ticks": ""
             }
            },
            "type": "parcoords"
           }
          ],
          "pie": [
           {
            "automargin": true,
            "type": "pie"
           }
          ],
          "scatter": [
           {
            "fillpattern": {
             "fillmode": "overlay",
             "size": 10,
             "solidity": 0.2
            },
            "type": "scatter"
           }
          ],
          "scatter3d": [
           {
            "line": {
             "colorbar": {
              "outlinewidth": 0,
              "ticks": ""
             }
            },
            "marker": {
             "colorbar": {
              "outlinewidth": 0,
              "ticks": ""
             }
            },
            "type": "scatter3d"
           }
          ],
          "scattercarpet": [
           {
            "marker": {
             "colorbar": {
              "outlinewidth": 0,
              "ticks": ""
             }
            },
            "type": "scattercarpet"
           }
          ],
          "scattergeo": [
           {
            "marker": {
             "colorbar": {
              "outlinewidth": 0,
              "ticks": ""
             }
            },
            "type": "scattergeo"
           }
          ],
          "scattergl": [
           {
            "marker": {
             "colorbar": {
              "outlinewidth": 0,
              "ticks": ""
             }
            },
            "type": "scattergl"
           }
          ],
          "scattermapbox": [
           {
            "marker": {
             "colorbar": {
              "outlinewidth": 0,
              "ticks": ""
             }
            },
            "type": "scattermapbox"
           }
          ],
          "scatterpolar": [
           {
            "marker": {
             "colorbar": {
              "outlinewidth": 0,
              "ticks": ""
             }
            },
            "type": "scatterpolar"
           }
          ],
          "scatterpolargl": [
           {
            "marker": {
             "colorbar": {
              "outlinewidth": 0,
              "ticks": ""
             }
            },
            "type": "scatterpolargl"
           }
          ],
          "scatterternary": [
           {
            "marker": {
             "colorbar": {
              "outlinewidth": 0,
              "ticks": ""
             }
            },
            "type": "scatterternary"
           }
          ],
          "surface": [
           {
            "colorbar": {
             "outlinewidth": 0,
             "ticks": ""
            },
            "colorscale": [
             [
              0,
              "#0d0887"
             ],
             [
              0.1111111111111111,
              "#46039f"
             ],
             [
              0.2222222222222222,
              "#7201a8"
             ],
             [
              0.3333333333333333,
              "#9c179e"
             ],
             [
              0.4444444444444444,
              "#bd3786"
             ],
             [
              0.5555555555555556,
              "#d8576b"
             ],
             [
              0.6666666666666666,
              "#ed7953"
             ],
             [
              0.7777777777777778,
              "#fb9f3a"
             ],
             [
              0.8888888888888888,
              "#fdca26"
             ],
             [
              1,
              "#f0f921"
             ]
            ],
            "type": "surface"
           }
          ],
          "table": [
           {
            "cells": {
             "fill": {
              "color": "#EBF0F8"
             },
             "line": {
              "color": "white"
             }
            },
            "header": {
             "fill": {
              "color": "#C8D4E3"
             },
             "line": {
              "color": "white"
             }
            },
            "type": "table"
           }
          ]
         },
         "layout": {
          "annotationdefaults": {
           "arrowcolor": "#2a3f5f",
           "arrowhead": 0,
           "arrowwidth": 1
          },
          "autotypenumbers": "strict",
          "coloraxis": {
           "colorbar": {
            "outlinewidth": 0,
            "ticks": ""
           }
          },
          "colorscale": {
           "diverging": [
            [
             0,
             "#8e0152"
            ],
            [
             0.1,
             "#c51b7d"
            ],
            [
             0.2,
             "#de77ae"
            ],
            [
             0.3,
             "#f1b6da"
            ],
            [
             0.4,
             "#fde0ef"
            ],
            [
             0.5,
             "#f7f7f7"
            ],
            [
             0.6,
             "#e6f5d0"
            ],
            [
             0.7,
             "#b8e186"
            ],
            [
             0.8,
             "#7fbc41"
            ],
            [
             0.9,
             "#4d9221"
            ],
            [
             1,
             "#276419"
            ]
           ],
           "sequential": [
            [
             0,
             "#0d0887"
            ],
            [
             0.1111111111111111,
             "#46039f"
            ],
            [
             0.2222222222222222,
             "#7201a8"
            ],
            [
             0.3333333333333333,
             "#9c179e"
            ],
            [
             0.4444444444444444,
             "#bd3786"
            ],
            [
             0.5555555555555556,
             "#d8576b"
            ],
            [
             0.6666666666666666,
             "#ed7953"
            ],
            [
             0.7777777777777778,
             "#fb9f3a"
            ],
            [
             0.8888888888888888,
             "#fdca26"
            ],
            [
             1,
             "#f0f921"
            ]
           ],
           "sequentialminus": [
            [
             0,
             "#0d0887"
            ],
            [
             0.1111111111111111,
             "#46039f"
            ],
            [
             0.2222222222222222,
             "#7201a8"
            ],
            [
             0.3333333333333333,
             "#9c179e"
            ],
            [
             0.4444444444444444,
             "#bd3786"
            ],
            [
             0.5555555555555556,
             "#d8576b"
            ],
            [
             0.6666666666666666,
             "#ed7953"
            ],
            [
             0.7777777777777778,
             "#fb9f3a"
            ],
            [
             0.8888888888888888,
             "#fdca26"
            ],
            [
             1,
             "#f0f921"
            ]
           ]
          },
          "colorway": [
           "#636efa",
           "#EF553B",
           "#00cc96",
           "#ab63fa",
           "#FFA15A",
           "#19d3f3",
           "#FF6692",
           "#B6E880",
           "#FF97FF",
           "#FECB52"
          ],
          "font": {
           "color": "#2a3f5f"
          },
          "geo": {
           "bgcolor": "white",
           "lakecolor": "white",
           "landcolor": "#E5ECF6",
           "showlakes": true,
           "showland": true,
           "subunitcolor": "white"
          },
          "hoverlabel": {
           "align": "left"
          },
          "hovermode": "closest",
          "mapbox": {
           "style": "light"
          },
          "paper_bgcolor": "white",
          "plot_bgcolor": "#E5ECF6",
          "polar": {
           "angularaxis": {
            "gridcolor": "white",
            "linecolor": "white",
            "ticks": ""
           },
           "bgcolor": "#E5ECF6",
           "radialaxis": {
            "gridcolor": "white",
            "linecolor": "white",
            "ticks": ""
           }
          },
          "scene": {
           "xaxis": {
            "backgroundcolor": "#E5ECF6",
            "gridcolor": "white",
            "gridwidth": 2,
            "linecolor": "white",
            "showbackground": true,
            "ticks": "",
            "zerolinecolor": "white"
           },
           "yaxis": {
            "backgroundcolor": "#E5ECF6",
            "gridcolor": "white",
            "gridwidth": 2,
            "linecolor": "white",
            "showbackground": true,
            "ticks": "",
            "zerolinecolor": "white"
           },
           "zaxis": {
            "backgroundcolor": "#E5ECF6",
            "gridcolor": "white",
            "gridwidth": 2,
            "linecolor": "white",
            "showbackground": true,
            "ticks": "",
            "zerolinecolor": "white"
           }
          },
          "shapedefaults": {
           "line": {
            "color": "#2a3f5f"
           }
          },
          "ternary": {
           "aaxis": {
            "gridcolor": "white",
            "linecolor": "white",
            "ticks": ""
           },
           "baxis": {
            "gridcolor": "white",
            "linecolor": "white",
            "ticks": ""
           },
           "bgcolor": "#E5ECF6",
           "caxis": {
            "gridcolor": "white",
            "linecolor": "white",
            "ticks": ""
           }
          },
          "title": {
           "x": 0.05
          },
          "xaxis": {
           "automargin": true,
           "gridcolor": "white",
           "linecolor": "white",
           "ticks": "",
           "title": {
            "standoff": 15
           },
           "zerolinecolor": "white",
           "zerolinewidth": 2
          },
          "yaxis": {
           "automargin": true,
           "gridcolor": "white",
           "linecolor": "white",
           "ticks": "",
           "title": {
            "standoff": 15
           },
           "zerolinecolor": "white",
           "zerolinewidth": 2
          }
         }
        },
        "title": {
         "font": {
          "color": "#4D5663"
         }
        },
        "xaxis": {
         "gridcolor": "#E1E5ED",
         "showgrid": true,
         "tickfont": {
          "color": "#4D5663"
         },
         "title": {
          "font": {
           "color": "#4D5663"
          },
          "text": ""
         },
         "zerolinecolor": "#E1E5ED"
        },
        "yaxis": {
         "gridcolor": "#E1E5ED",
         "showgrid": true,
         "tickfont": {
          "color": "#4D5663"
         },
         "title": {
          "font": {
           "color": "#4D5663"
          },
          "text": ""
         },
         "zerolinecolor": "#E1E5ED"
        }
       }
      },
      "text/html": [
       "<div>                            <div id=\"644fdd5f-1488-4b6e-b49b-ad81c47f0b34\" class=\"plotly-graph-div\" style=\"height:525px; width:100%;\"></div>            <script type=\"text/javascript\">                require([\"plotly\"], function(Plotly) {                    window.PLOTLYENV=window.PLOTLYENV || {};\n",
       "                    window.PLOTLYENV.BASE_URL='https://plot.ly';                                    if (document.getElementById(\"644fdd5f-1488-4b6e-b49b-ad81c47f0b34\")) {                    Plotly.newPlot(                        \"644fdd5f-1488-4b6e-b49b-ad81c47f0b34\",                        [{\"marker\":{\"color\":\"rgba(255, 153, 51, 0.6)\",\"line\":{\"color\":\"rgba(255, 153, 51, 1.0)\",\"width\":1}},\"name\":\"Team Initials\",\"orientation\":\"v\",\"text\":\"\",\"x\":[\"ARG\",\"BRA\",\"MEX\",\"FRG\",\"NED\",\"BEL\",\"URU\",\"ENG\",\"FRA\",\"ESP\",\"ITA\",\"POR\",\"USA\",\"YUG\",\"KOR\",\"GER\",\"CMR\",\"HUN\",\"AUT\",\"POL\",\"JPN\",\"CRO\",\"ROU\",\"DEN\",\"PAR\",\"TUR\",\"CHI\",\"GRE\",\"COL\",\"ECU\",\"CRC\",\"SWE\",\"RSA\",\"NGA\",\"KSA\",\"TUN\",\"IRL\",\"CIV\",\"MAR\",\"BUL\",\"GHA\",\"TCH\",\"AUS\",\"ALG\",\"PER\",\"SUI\",\"URS\",\"ZAI\",\"HON\",\"PRK\",\"NZL\",\"EGY\",\"ANG\",\"SVN\",\"SEN\",\"SVK\",\"IRN\",\"TRI\",\"SCG\",\"UKR\",\"NIR\",\"IRQ\",\"SCO\",\"SLV\",\"RUS\",\"BOL\",\"CHN\",\"UAE\",\"CAN\",\"TOG\",\"HAI\",\"CZE\",\"GDR\",\"ISR\",\"CUB\",\"BIH\"],\"y\":[38,26,24,24,22,19,19,16,16,15,14,14,13,12,12,11,10,10,10,10,10,9,9,8,8,8,7,7,7,7,7,7,6,6,6,6,5,5,5,5,5,4,4,4,4,4,4,4,3,3,3,3,3,2,2,2,2,2,2,2,2,2,2,2,1,1,1,1,1,1,1,1,1,1,1,1],\"type\":\"bar\"}],                        {\"legend\":{\"bgcolor\":\"#F5F6F9\",\"font\":{\"color\":\"#4D5663\"}},\"paper_bgcolor\":\"#F5F6F9\",\"plot_bgcolor\":\"#F5F6F9\",\"template\":{\"data\":{\"barpolar\":[{\"marker\":{\"line\":{\"color\":\"#E5ECF6\",\"width\":0.5},\"pattern\":{\"fillmode\":\"overlay\",\"size\":10,\"solidity\":0.2}},\"type\":\"barpolar\"}],\"bar\":[{\"error_x\":{\"color\":\"#2a3f5f\"},\"error_y\":{\"color\":\"#2a3f5f\"},\"marker\":{\"line\":{\"color\":\"#E5ECF6\",\"width\":0.5},\"pattern\":{\"fillmode\":\"overlay\",\"size\":10,\"solidity\":0.2}},\"type\":\"bar\"}],\"carpet\":[{\"aaxis\":{\"endlinecolor\":\"#2a3f5f\",\"gridcolor\":\"white\",\"linecolor\":\"white\",\"minorgridcolor\":\"white\",\"startlinecolor\":\"#2a3f5f\"},\"baxis\":{\"endlinecolor\":\"#2a3f5f\",\"gridcolor\":\"white\",\"linecolor\":\"white\",\"minorgridcolor\":\"white\",\"startlinecolor\":\"#2a3f5f\"},\"type\":\"carpet\"}],\"choropleth\":[{\"colorbar\":{\"outlinewidth\":0,\"ticks\":\"\"},\"type\":\"choropleth\"}],\"contourcarpet\":[{\"colorbar\":{\"outlinewidth\":0,\"ticks\":\"\"},\"type\":\"contourcarpet\"}],\"contour\":[{\"colorbar\":{\"outlinewidth\":0,\"ticks\":\"\"},\"colorscale\":[[0.0,\"#0d0887\"],[0.1111111111111111,\"#46039f\"],[0.2222222222222222,\"#7201a8\"],[0.3333333333333333,\"#9c179e\"],[0.4444444444444444,\"#bd3786\"],[0.5555555555555556,\"#d8576b\"],[0.6666666666666666,\"#ed7953\"],[0.7777777777777778,\"#fb9f3a\"],[0.8888888888888888,\"#fdca26\"],[1.0,\"#f0f921\"]],\"type\":\"contour\"}],\"heatmapgl\":[{\"colorbar\":{\"outlinewidth\":0,\"ticks\":\"\"},\"colorscale\":[[0.0,\"#0d0887\"],[0.1111111111111111,\"#46039f\"],[0.2222222222222222,\"#7201a8\"],[0.3333333333333333,\"#9c179e\"],[0.4444444444444444,\"#bd3786\"],[0.5555555555555556,\"#d8576b\"],[0.6666666666666666,\"#ed7953\"],[0.7777777777777778,\"#fb9f3a\"],[0.8888888888888888,\"#fdca26\"],[1.0,\"#f0f921\"]],\"type\":\"heatmapgl\"}],\"heatmap\":[{\"colorbar\":{\"outlinewidth\":0,\"ticks\":\"\"},\"colorscale\":[[0.0,\"#0d0887\"],[0.1111111111111111,\"#46039f\"],[0.2222222222222222,\"#7201a8\"],[0.3333333333333333,\"#9c179e\"],[0.4444444444444444,\"#bd3786\"],[0.5555555555555556,\"#d8576b\"],[0.6666666666666666,\"#ed7953\"],[0.7777777777777778,\"#fb9f3a\"],[0.8888888888888888,\"#fdca26\"],[1.0,\"#f0f921\"]],\"type\":\"heatmap\"}],\"histogram2dcontour\":[{\"colorbar\":{\"outlinewidth\":0,\"ticks\":\"\"},\"colorscale\":[[0.0,\"#0d0887\"],[0.1111111111111111,\"#46039f\"],[0.2222222222222222,\"#7201a8\"],[0.3333333333333333,\"#9c179e\"],[0.4444444444444444,\"#bd3786\"],[0.5555555555555556,\"#d8576b\"],[0.6666666666666666,\"#ed7953\"],[0.7777777777777778,\"#fb9f3a\"],[0.8888888888888888,\"#fdca26\"],[1.0,\"#f0f921\"]],\"type\":\"histogram2dcontour\"}],\"histogram2d\":[{\"colorbar\":{\"outlinewidth\":0,\"ticks\":\"\"},\"colorscale\":[[0.0,\"#0d0887\"],[0.1111111111111111,\"#46039f\"],[0.2222222222222222,\"#7201a8\"],[0.3333333333333333,\"#9c179e\"],[0.4444444444444444,\"#bd3786\"],[0.5555555555555556,\"#d8576b\"],[0.6666666666666666,\"#ed7953\"],[0.7777777777777778,\"#fb9f3a\"],[0.8888888888888888,\"#fdca26\"],[1.0,\"#f0f921\"]],\"type\":\"histogram2d\"}],\"histogram\":[{\"marker\":{\"pattern\":{\"fillmode\":\"overlay\",\"size\":10,\"solidity\":0.2}},\"type\":\"histogram\"}],\"mesh3d\":[{\"colorbar\":{\"outlinewidth\":0,\"ticks\":\"\"},\"type\":\"mesh3d\"}],\"parcoords\":[{\"line\":{\"colorbar\":{\"outlinewidth\":0,\"ticks\":\"\"}},\"type\":\"parcoords\"}],\"pie\":[{\"automargin\":true,\"type\":\"pie\"}],\"scatter3d\":[{\"line\":{\"colorbar\":{\"outlinewidth\":0,\"ticks\":\"\"}},\"marker\":{\"colorbar\":{\"outlinewidth\":0,\"ticks\":\"\"}},\"type\":\"scatter3d\"}],\"scattercarpet\":[{\"marker\":{\"colorbar\":{\"outlinewidth\":0,\"ticks\":\"\"}},\"type\":\"scattercarpet\"}],\"scattergeo\":[{\"marker\":{\"colorbar\":{\"outlinewidth\":0,\"ticks\":\"\"}},\"type\":\"scattergeo\"}],\"scattergl\":[{\"marker\":{\"colorbar\":{\"outlinewidth\":0,\"ticks\":\"\"}},\"type\":\"scattergl\"}],\"scattermapbox\":[{\"marker\":{\"colorbar\":{\"outlinewidth\":0,\"ticks\":\"\"}},\"type\":\"scattermapbox\"}],\"scatterpolargl\":[{\"marker\":{\"colorbar\":{\"outlinewidth\":0,\"ticks\":\"\"}},\"type\":\"scatterpolargl\"}],\"scatterpolar\":[{\"marker\":{\"colorbar\":{\"outlinewidth\":0,\"ticks\":\"\"}},\"type\":\"scatterpolar\"}],\"scatter\":[{\"fillpattern\":{\"fillmode\":\"overlay\",\"size\":10,\"solidity\":0.2},\"type\":\"scatter\"}],\"scatterternary\":[{\"marker\":{\"colorbar\":{\"outlinewidth\":0,\"ticks\":\"\"}},\"type\":\"scatterternary\"}],\"surface\":[{\"colorbar\":{\"outlinewidth\":0,\"ticks\":\"\"},\"colorscale\":[[0.0,\"#0d0887\"],[0.1111111111111111,\"#46039f\"],[0.2222222222222222,\"#7201a8\"],[0.3333333333333333,\"#9c179e\"],[0.4444444444444444,\"#bd3786\"],[0.5555555555555556,\"#d8576b\"],[0.6666666666666666,\"#ed7953\"],[0.7777777777777778,\"#fb9f3a\"],[0.8888888888888888,\"#fdca26\"],[1.0,\"#f0f921\"]],\"type\":\"surface\"}],\"table\":[{\"cells\":{\"fill\":{\"color\":\"#EBF0F8\"},\"line\":{\"color\":\"white\"}},\"header\":{\"fill\":{\"color\":\"#C8D4E3\"},\"line\":{\"color\":\"white\"}},\"type\":\"table\"}]},\"layout\":{\"annotationdefaults\":{\"arrowcolor\":\"#2a3f5f\",\"arrowhead\":0,\"arrowwidth\":1},\"autotypenumbers\":\"strict\",\"coloraxis\":{\"colorbar\":{\"outlinewidth\":0,\"ticks\":\"\"}},\"colorscale\":{\"diverging\":[[0,\"#8e0152\"],[0.1,\"#c51b7d\"],[0.2,\"#de77ae\"],[0.3,\"#f1b6da\"],[0.4,\"#fde0ef\"],[0.5,\"#f7f7f7\"],[0.6,\"#e6f5d0\"],[0.7,\"#b8e186\"],[0.8,\"#7fbc41\"],[0.9,\"#4d9221\"],[1,\"#276419\"]],\"sequential\":[[0.0,\"#0d0887\"],[0.1111111111111111,\"#46039f\"],[0.2222222222222222,\"#7201a8\"],[0.3333333333333333,\"#9c179e\"],[0.4444444444444444,\"#bd3786\"],[0.5555555555555556,\"#d8576b\"],[0.6666666666666666,\"#ed7953\"],[0.7777777777777778,\"#fb9f3a\"],[0.8888888888888888,\"#fdca26\"],[1.0,\"#f0f921\"]],\"sequentialminus\":[[0.0,\"#0d0887\"],[0.1111111111111111,\"#46039f\"],[0.2222222222222222,\"#7201a8\"],[0.3333333333333333,\"#9c179e\"],[0.4444444444444444,\"#bd3786\"],[0.5555555555555556,\"#d8576b\"],[0.6666666666666666,\"#ed7953\"],[0.7777777777777778,\"#fb9f3a\"],[0.8888888888888888,\"#fdca26\"],[1.0,\"#f0f921\"]]},\"colorway\":[\"#636efa\",\"#EF553B\",\"#00cc96\",\"#ab63fa\",\"#FFA15A\",\"#19d3f3\",\"#FF6692\",\"#B6E880\",\"#FF97FF\",\"#FECB52\"],\"font\":{\"color\":\"#2a3f5f\"},\"geo\":{\"bgcolor\":\"white\",\"lakecolor\":\"white\",\"landcolor\":\"#E5ECF6\",\"showlakes\":true,\"showland\":true,\"subunitcolor\":\"white\"},\"hoverlabel\":{\"align\":\"left\"},\"hovermode\":\"closest\",\"mapbox\":{\"style\":\"light\"},\"paper_bgcolor\":\"white\",\"plot_bgcolor\":\"#E5ECF6\",\"polar\":{\"angularaxis\":{\"gridcolor\":\"white\",\"linecolor\":\"white\",\"ticks\":\"\"},\"bgcolor\":\"#E5ECF6\",\"radialaxis\":{\"gridcolor\":\"white\",\"linecolor\":\"white\",\"ticks\":\"\"}},\"scene\":{\"xaxis\":{\"backgroundcolor\":\"#E5ECF6\",\"gridcolor\":\"white\",\"gridwidth\":2,\"linecolor\":\"white\",\"showbackground\":true,\"ticks\":\"\",\"zerolinecolor\":\"white\"},\"yaxis\":{\"backgroundcolor\":\"#E5ECF6\",\"gridcolor\":\"white\",\"gridwidth\":2,\"linecolor\":\"white\",\"showbackground\":true,\"ticks\":\"\",\"zerolinecolor\":\"white\"},\"zaxis\":{\"backgroundcolor\":\"#E5ECF6\",\"gridcolor\":\"white\",\"gridwidth\":2,\"linecolor\":\"white\",\"showbackground\":true,\"ticks\":\"\",\"zerolinecolor\":\"white\"}},\"shapedefaults\":{\"line\":{\"color\":\"#2a3f5f\"}},\"ternary\":{\"aaxis\":{\"gridcolor\":\"white\",\"linecolor\":\"white\",\"ticks\":\"\"},\"baxis\":{\"gridcolor\":\"white\",\"linecolor\":\"white\",\"ticks\":\"\"},\"bgcolor\":\"#E5ECF6\",\"caxis\":{\"gridcolor\":\"white\",\"linecolor\":\"white\",\"ticks\":\"\"}},\"title\":{\"x\":0.05},\"xaxis\":{\"automargin\":true,\"gridcolor\":\"white\",\"linecolor\":\"white\",\"ticks\":\"\",\"title\":{\"standoff\":15},\"zerolinecolor\":\"white\",\"zerolinewidth\":2},\"yaxis\":{\"automargin\":true,\"gridcolor\":\"white\",\"linecolor\":\"white\",\"ticks\":\"\",\"title\":{\"standoff\":15},\"zerolinecolor\":\"white\",\"zerolinewidth\":2}}},\"title\":{\"font\":{\"color\":\"#4D5663\"}},\"xaxis\":{\"gridcolor\":\"#E1E5ED\",\"showgrid\":true,\"tickfont\":{\"color\":\"#4D5663\"},\"title\":{\"font\":{\"color\":\"#4D5663\"},\"text\":\"\"},\"zerolinecolor\":\"#E1E5ED\"},\"yaxis\":{\"gridcolor\":\"#E1E5ED\",\"showgrid\":true,\"tickfont\":{\"color\":\"#4D5663\"},\"title\":{\"font\":{\"color\":\"#4D5663\"},\"text\":\"\"},\"zerolinecolor\":\"#E1E5ED\"}},                        {\"showLink\": true, \"linkText\": \"Export to plot.ly\", \"plotlyServerURL\": \"https://plot.ly\", \"responsive\": true}                    ).then(function(){\n",
       "                            \n",
       "var gd = document.getElementById('644fdd5f-1488-4b6e-b49b-ad81c47f0b34');\n",
       "var x = new MutationObserver(function (mutations, observer) {{\n",
       "        var display = window.getComputedStyle(gd).display;\n",
       "        if (!display || display === 'none') {{\n",
       "            console.log([gd, 'removed!']);\n",
       "            Plotly.purge(gd);\n",
       "            observer.disconnect();\n",
       "        }}\n",
       "}});\n",
       "\n",
       "// Listen for the removal of the full notebook cells\n",
       "var notebookContainer = gd.closest('#notebook-container');\n",
       "if (notebookContainer) {{\n",
       "    x.observe(notebookContainer, {childList: true});\n",
       "}}\n",
       "\n",
       "// Listen for the clearing of the current output cell\n",
       "var outputEl = gd.closest('.output');\n",
       "if (outputEl) {{\n",
       "    x.observe(outputEl, {childList: true});\n",
       "}}\n",
       "\n",
       "                        })                };                });            </script>        </div>"
      ]
     },
     "metadata": {},
     "output_type": "display_data"
    }
   ],
   "source": [
    "df2['Team Initials'].value_counts().iplot(kind = 'bar')"
   ]
  },
  {
   "cell_type": "markdown",
   "metadata": {},
   "source": [
    "Most of the time team Initials have change for ARG"
   ]
  },
  {
   "cell_type": "markdown",
   "metadata": {},
   "source": [
    "## Summary: \n",
    "\n",
    "We can only see the height team initial change , tshirt number "
   ]
  },
  {
   "cell_type": "markdown",
   "metadata": {},
   "source": [
    "## Data Frme 3"
   ]
  },
  {
   "cell_type": "code",
   "execution_count": 123,
   "metadata": {},
   "outputs": [
    {
     "data": {
      "text/html": [
       "<div>\n",
       "<style scoped>\n",
       "    .dataframe tbody tr th:only-of-type {\n",
       "        vertical-align: middle;\n",
       "    }\n",
       "\n",
       "    .dataframe tbody tr th {\n",
       "        vertical-align: top;\n",
       "    }\n",
       "\n",
       "    .dataframe thead th {\n",
       "        text-align: right;\n",
       "    }\n",
       "</style>\n",
       "<table border=\"1\" class=\"dataframe\">\n",
       "  <thead>\n",
       "    <tr style=\"text-align: right;\">\n",
       "      <th></th>\n",
       "      <th>Year</th>\n",
       "      <th>Country</th>\n",
       "      <th>Winner</th>\n",
       "      <th>Runners-Up</th>\n",
       "      <th>Third</th>\n",
       "      <th>Fourth</th>\n",
       "      <th>GoalsScored</th>\n",
       "      <th>QualifiedTeams</th>\n",
       "      <th>MatchesPlayed</th>\n",
       "      <th>Attendance</th>\n",
       "    </tr>\n",
       "  </thead>\n",
       "  <tbody>\n",
       "    <tr>\n",
       "      <th>0</th>\n",
       "      <td>1930</td>\n",
       "      <td>Uruguay</td>\n",
       "      <td>Uruguay</td>\n",
       "      <td>Argentina</td>\n",
       "      <td>USA</td>\n",
       "      <td>Yugoslavia</td>\n",
       "      <td>70</td>\n",
       "      <td>13</td>\n",
       "      <td>18</td>\n",
       "      <td>590.549</td>\n",
       "    </tr>\n",
       "    <tr>\n",
       "      <th>1</th>\n",
       "      <td>1934</td>\n",
       "      <td>Italy</td>\n",
       "      <td>Italy</td>\n",
       "      <td>Czechoslovakia</td>\n",
       "      <td>Germany</td>\n",
       "      <td>Austria</td>\n",
       "      <td>70</td>\n",
       "      <td>16</td>\n",
       "      <td>17</td>\n",
       "      <td>363.000</td>\n",
       "    </tr>\n",
       "    <tr>\n",
       "      <th>2</th>\n",
       "      <td>1938</td>\n",
       "      <td>France</td>\n",
       "      <td>Italy</td>\n",
       "      <td>Hungary</td>\n",
       "      <td>Brazil</td>\n",
       "      <td>Sweden</td>\n",
       "      <td>84</td>\n",
       "      <td>15</td>\n",
       "      <td>18</td>\n",
       "      <td>375.700</td>\n",
       "    </tr>\n",
       "    <tr>\n",
       "      <th>3</th>\n",
       "      <td>1950</td>\n",
       "      <td>Brazil</td>\n",
       "      <td>Uruguay</td>\n",
       "      <td>Brazil</td>\n",
       "      <td>Sweden</td>\n",
       "      <td>Spain</td>\n",
       "      <td>88</td>\n",
       "      <td>13</td>\n",
       "      <td>22</td>\n",
       "      <td>1.045.246</td>\n",
       "    </tr>\n",
       "    <tr>\n",
       "      <th>4</th>\n",
       "      <td>1954</td>\n",
       "      <td>Switzerland</td>\n",
       "      <td>Germany FR</td>\n",
       "      <td>Hungary</td>\n",
       "      <td>Austria</td>\n",
       "      <td>Uruguay</td>\n",
       "      <td>140</td>\n",
       "      <td>16</td>\n",
       "      <td>26</td>\n",
       "      <td>768.607</td>\n",
       "    </tr>\n",
       "  </tbody>\n",
       "</table>\n",
       "</div>"
      ],
      "text/plain": [
       "   Year      Country      Winner      Runners-Up    Third      Fourth  \\\n",
       "0  1930      Uruguay     Uruguay       Argentina      USA  Yugoslavia   \n",
       "1  1934        Italy       Italy  Czechoslovakia  Germany     Austria   \n",
       "2  1938       France       Italy         Hungary   Brazil      Sweden   \n",
       "3  1950       Brazil     Uruguay          Brazil   Sweden       Spain   \n",
       "4  1954  Switzerland  Germany FR         Hungary  Austria     Uruguay   \n",
       "\n",
       "   GoalsScored  QualifiedTeams  MatchesPlayed Attendance  \n",
       "0           70              13             18    590.549  \n",
       "1           70              16             17    363.000  \n",
       "2           84              15             18    375.700  \n",
       "3           88              13             22  1.045.246  \n",
       "4          140              16             26    768.607  "
      ]
     },
     "execution_count": 123,
     "metadata": {},
     "output_type": "execute_result"
    }
   ],
   "source": [
    "df3.head()"
   ]
  },
  {
   "cell_type": "code",
   "execution_count": 130,
   "metadata": {},
   "outputs": [
    {
     "data": {
      "text/html": [
       "<div>\n",
       "<style scoped>\n",
       "    .dataframe tbody tr th:only-of-type {\n",
       "        vertical-align: middle;\n",
       "    }\n",
       "\n",
       "    .dataframe tbody tr th {\n",
       "        vertical-align: top;\n",
       "    }\n",
       "\n",
       "    .dataframe thead th {\n",
       "        text-align: right;\n",
       "    }\n",
       "</style>\n",
       "<table border=\"1\" class=\"dataframe\">\n",
       "  <thead>\n",
       "    <tr style=\"text-align: right;\">\n",
       "      <th></th>\n",
       "      <th>Year</th>\n",
       "      <th>Country</th>\n",
       "      <th>Winner</th>\n",
       "    </tr>\n",
       "  </thead>\n",
       "  <tbody>\n",
       "    <tr>\n",
       "      <th>0</th>\n",
       "      <td>1930</td>\n",
       "      <td>Uruguay</td>\n",
       "      <td>Uruguay</td>\n",
       "    </tr>\n",
       "    <tr>\n",
       "      <th>1</th>\n",
       "      <td>1934</td>\n",
       "      <td>Italy</td>\n",
       "      <td>Italy</td>\n",
       "    </tr>\n",
       "    <tr>\n",
       "      <th>2</th>\n",
       "      <td>1938</td>\n",
       "      <td>France</td>\n",
       "      <td>Italy</td>\n",
       "    </tr>\n",
       "    <tr>\n",
       "      <th>3</th>\n",
       "      <td>1950</td>\n",
       "      <td>Brazil</td>\n",
       "      <td>Uruguay</td>\n",
       "    </tr>\n",
       "    <tr>\n",
       "      <th>4</th>\n",
       "      <td>1954</td>\n",
       "      <td>Switzerland</td>\n",
       "      <td>Germany FR</td>\n",
       "    </tr>\n",
       "    <tr>\n",
       "      <th>5</th>\n",
       "      <td>1958</td>\n",
       "      <td>Sweden</td>\n",
       "      <td>Brazil</td>\n",
       "    </tr>\n",
       "    <tr>\n",
       "      <th>6</th>\n",
       "      <td>1962</td>\n",
       "      <td>Chile</td>\n",
       "      <td>Brazil</td>\n",
       "    </tr>\n",
       "    <tr>\n",
       "      <th>7</th>\n",
       "      <td>1966</td>\n",
       "      <td>England</td>\n",
       "      <td>England</td>\n",
       "    </tr>\n",
       "    <tr>\n",
       "      <th>8</th>\n",
       "      <td>1970</td>\n",
       "      <td>Mexico</td>\n",
       "      <td>Brazil</td>\n",
       "    </tr>\n",
       "    <tr>\n",
       "      <th>9</th>\n",
       "      <td>1974</td>\n",
       "      <td>Germany</td>\n",
       "      <td>Germany FR</td>\n",
       "    </tr>\n",
       "    <tr>\n",
       "      <th>10</th>\n",
       "      <td>1978</td>\n",
       "      <td>Argentina</td>\n",
       "      <td>Argentina</td>\n",
       "    </tr>\n",
       "    <tr>\n",
       "      <th>11</th>\n",
       "      <td>1982</td>\n",
       "      <td>Spain</td>\n",
       "      <td>Italy</td>\n",
       "    </tr>\n",
       "    <tr>\n",
       "      <th>12</th>\n",
       "      <td>1986</td>\n",
       "      <td>Mexico</td>\n",
       "      <td>Argentina</td>\n",
       "    </tr>\n",
       "    <tr>\n",
       "      <th>13</th>\n",
       "      <td>1990</td>\n",
       "      <td>Italy</td>\n",
       "      <td>Germany FR</td>\n",
       "    </tr>\n",
       "    <tr>\n",
       "      <th>14</th>\n",
       "      <td>1994</td>\n",
       "      <td>USA</td>\n",
       "      <td>Brazil</td>\n",
       "    </tr>\n",
       "    <tr>\n",
       "      <th>15</th>\n",
       "      <td>1998</td>\n",
       "      <td>France</td>\n",
       "      <td>France</td>\n",
       "    </tr>\n",
       "    <tr>\n",
       "      <th>16</th>\n",
       "      <td>2002</td>\n",
       "      <td>Korea/Japan</td>\n",
       "      <td>Brazil</td>\n",
       "    </tr>\n",
       "    <tr>\n",
       "      <th>17</th>\n",
       "      <td>2006</td>\n",
       "      <td>Germany</td>\n",
       "      <td>Italy</td>\n",
       "    </tr>\n",
       "    <tr>\n",
       "      <th>18</th>\n",
       "      <td>2010</td>\n",
       "      <td>South Africa</td>\n",
       "      <td>Spain</td>\n",
       "    </tr>\n",
       "    <tr>\n",
       "      <th>19</th>\n",
       "      <td>2014</td>\n",
       "      <td>Brazil</td>\n",
       "      <td>Germany</td>\n",
       "    </tr>\n",
       "  </tbody>\n",
       "</table>\n",
       "</div>"
      ],
      "text/plain": [
       "    Year       Country      Winner\n",
       "0   1930       Uruguay     Uruguay\n",
       "1   1934         Italy       Italy\n",
       "2   1938        France       Italy\n",
       "3   1950        Brazil     Uruguay\n",
       "4   1954   Switzerland  Germany FR\n",
       "5   1958        Sweden      Brazil\n",
       "6   1962         Chile      Brazil\n",
       "7   1966       England     England\n",
       "8   1970        Mexico      Brazil\n",
       "9   1974       Germany  Germany FR\n",
       "10  1978     Argentina   Argentina\n",
       "11  1982         Spain       Italy\n",
       "12  1986        Mexico   Argentina\n",
       "13  1990         Italy  Germany FR\n",
       "14  1994           USA      Brazil\n",
       "15  1998        France      France\n",
       "16  2002   Korea/Japan      Brazil\n",
       "17  2006       Germany       Italy\n",
       "18  2010  South Africa       Spain\n",
       "19  2014        Brazil     Germany"
      ]
     },
     "execution_count": 130,
     "metadata": {},
     "output_type": "execute_result"
    }
   ],
   "source": [
    "df3[['Year','Country','Winner']]"
   ]
  },
  {
   "cell_type": "code",
   "execution_count": 136,
   "metadata": {},
   "outputs": [
    {
     "data": {
      "application/vnd.plotly.v1+json": {
       "config": {
        "plotlyServerURL": "https://plot.ly"
       },
       "data": [
        {
         "alignmentgroup": "True",
         "hovertemplate": "Country=Uruguay<br>Winner=%{x}<br>count=%{y}<extra></extra>",
         "legendgroup": "Uruguay",
         "marker": {
          "color": "#636efa",
          "pattern": {
           "shape": ""
          }
         },
         "name": "Uruguay",
         "offsetgroup": "Uruguay",
         "orientation": "v",
         "showlegend": true,
         "textposition": "auto",
         "type": "bar",
         "x": [
          "Uruguay"
         ],
         "xaxis": "x",
         "y": [
          1
         ],
         "yaxis": "y"
        },
        {
         "alignmentgroup": "True",
         "hovertemplate": "Country=Italy<br>Winner=%{x}<br>count=%{y}<extra></extra>",
         "legendgroup": "Italy",
         "marker": {
          "color": "#EF553B",
          "pattern": {
           "shape": ""
          }
         },
         "name": "Italy",
         "offsetgroup": "Italy",
         "orientation": "v",
         "showlegend": true,
         "textposition": "auto",
         "type": "bar",
         "x": [
          "Italy",
          "Germany FR"
         ],
         "xaxis": "x",
         "y": [
          1,
          1
         ],
         "yaxis": "y"
        },
        {
         "alignmentgroup": "True",
         "hovertemplate": "Country=France<br>Winner=%{x}<br>count=%{y}<extra></extra>",
         "legendgroup": "France",
         "marker": {
          "color": "#00cc96",
          "pattern": {
           "shape": ""
          }
         },
         "name": "France",
         "offsetgroup": "France",
         "orientation": "v",
         "showlegend": true,
         "textposition": "auto",
         "type": "bar",
         "x": [
          "Italy",
          "France"
         ],
         "xaxis": "x",
         "y": [
          1,
          1
         ],
         "yaxis": "y"
        },
        {
         "alignmentgroup": "True",
         "hovertemplate": "Country=Brazil<br>Winner=%{x}<br>count=%{y}<extra></extra>",
         "legendgroup": "Brazil",
         "marker": {
          "color": "#ab63fa",
          "pattern": {
           "shape": ""
          }
         },
         "name": "Brazil",
         "offsetgroup": "Brazil",
         "orientation": "v",
         "showlegend": true,
         "textposition": "auto",
         "type": "bar",
         "x": [
          "Uruguay",
          "Germany"
         ],
         "xaxis": "x",
         "y": [
          1,
          1
         ],
         "yaxis": "y"
        },
        {
         "alignmentgroup": "True",
         "hovertemplate": "Country=Switzerland<br>Winner=%{x}<br>count=%{y}<extra></extra>",
         "legendgroup": "Switzerland",
         "marker": {
          "color": "#FFA15A",
          "pattern": {
           "shape": ""
          }
         },
         "name": "Switzerland",
         "offsetgroup": "Switzerland",
         "orientation": "v",
         "showlegend": true,
         "textposition": "auto",
         "type": "bar",
         "x": [
          "Germany FR"
         ],
         "xaxis": "x",
         "y": [
          1
         ],
         "yaxis": "y"
        },
        {
         "alignmentgroup": "True",
         "hovertemplate": "Country=Sweden<br>Winner=%{x}<br>count=%{y}<extra></extra>",
         "legendgroup": "Sweden",
         "marker": {
          "color": "#19d3f3",
          "pattern": {
           "shape": ""
          }
         },
         "name": "Sweden",
         "offsetgroup": "Sweden",
         "orientation": "v",
         "showlegend": true,
         "textposition": "auto",
         "type": "bar",
         "x": [
          "Brazil"
         ],
         "xaxis": "x",
         "y": [
          1
         ],
         "yaxis": "y"
        },
        {
         "alignmentgroup": "True",
         "hovertemplate": "Country=Chile<br>Winner=%{x}<br>count=%{y}<extra></extra>",
         "legendgroup": "Chile",
         "marker": {
          "color": "#FF6692",
          "pattern": {
           "shape": ""
          }
         },
         "name": "Chile",
         "offsetgroup": "Chile",
         "orientation": "v",
         "showlegend": true,
         "textposition": "auto",
         "type": "bar",
         "x": [
          "Brazil"
         ],
         "xaxis": "x",
         "y": [
          1
         ],
         "yaxis": "y"
        },
        {
         "alignmentgroup": "True",
         "hovertemplate": "Country=England<br>Winner=%{x}<br>count=%{y}<extra></extra>",
         "legendgroup": "England",
         "marker": {
          "color": "#B6E880",
          "pattern": {
           "shape": ""
          }
         },
         "name": "England",
         "offsetgroup": "England",
         "orientation": "v",
         "showlegend": true,
         "textposition": "auto",
         "type": "bar",
         "x": [
          "England"
         ],
         "xaxis": "x",
         "y": [
          1
         ],
         "yaxis": "y"
        },
        {
         "alignmentgroup": "True",
         "hovertemplate": "Country=Mexico<br>Winner=%{x}<br>count=%{y}<extra></extra>",
         "legendgroup": "Mexico",
         "marker": {
          "color": "#FF97FF",
          "pattern": {
           "shape": ""
          }
         },
         "name": "Mexico",
         "offsetgroup": "Mexico",
         "orientation": "v",
         "showlegend": true,
         "textposition": "auto",
         "type": "bar",
         "x": [
          "Brazil",
          "Argentina"
         ],
         "xaxis": "x",
         "y": [
          1,
          1
         ],
         "yaxis": "y"
        },
        {
         "alignmentgroup": "True",
         "hovertemplate": "Country=Germany<br>Winner=%{x}<br>count=%{y}<extra></extra>",
         "legendgroup": "Germany",
         "marker": {
          "color": "#FECB52",
          "pattern": {
           "shape": ""
          }
         },
         "name": "Germany",
         "offsetgroup": "Germany",
         "orientation": "v",
         "showlegend": true,
         "textposition": "auto",
         "type": "bar",
         "x": [
          "Germany FR",
          "Italy"
         ],
         "xaxis": "x",
         "y": [
          1,
          1
         ],
         "yaxis": "y"
        },
        {
         "alignmentgroup": "True",
         "hovertemplate": "Country=Argentina<br>Winner=%{x}<br>count=%{y}<extra></extra>",
         "legendgroup": "Argentina",
         "marker": {
          "color": "#636efa",
          "pattern": {
           "shape": ""
          }
         },
         "name": "Argentina",
         "offsetgroup": "Argentina",
         "orientation": "v",
         "showlegend": true,
         "textposition": "auto",
         "type": "bar",
         "x": [
          "Argentina"
         ],
         "xaxis": "x",
         "y": [
          1
         ],
         "yaxis": "y"
        },
        {
         "alignmentgroup": "True",
         "hovertemplate": "Country=Spain<br>Winner=%{x}<br>count=%{y}<extra></extra>",
         "legendgroup": "Spain",
         "marker": {
          "color": "#EF553B",
          "pattern": {
           "shape": ""
          }
         },
         "name": "Spain",
         "offsetgroup": "Spain",
         "orientation": "v",
         "showlegend": true,
         "textposition": "auto",
         "type": "bar",
         "x": [
          "Italy"
         ],
         "xaxis": "x",
         "y": [
          1
         ],
         "yaxis": "y"
        },
        {
         "alignmentgroup": "True",
         "hovertemplate": "Country=USA<br>Winner=%{x}<br>count=%{y}<extra></extra>",
         "legendgroup": "USA",
         "marker": {
          "color": "#00cc96",
          "pattern": {
           "shape": ""
          }
         },
         "name": "USA",
         "offsetgroup": "USA",
         "orientation": "v",
         "showlegend": true,
         "textposition": "auto",
         "type": "bar",
         "x": [
          "Brazil"
         ],
         "xaxis": "x",
         "y": [
          1
         ],
         "yaxis": "y"
        },
        {
         "alignmentgroup": "True",
         "hovertemplate": "Country=Korea/Japan<br>Winner=%{x}<br>count=%{y}<extra></extra>",
         "legendgroup": "Korea/Japan",
         "marker": {
          "color": "#ab63fa",
          "pattern": {
           "shape": ""
          }
         },
         "name": "Korea/Japan",
         "offsetgroup": "Korea/Japan",
         "orientation": "v",
         "showlegend": true,
         "textposition": "auto",
         "type": "bar",
         "x": [
          "Brazil"
         ],
         "xaxis": "x",
         "y": [
          1
         ],
         "yaxis": "y"
        },
        {
         "alignmentgroup": "True",
         "hovertemplate": "Country=South Africa<br>Winner=%{x}<br>count=%{y}<extra></extra>",
         "legendgroup": "South Africa",
         "marker": {
          "color": "#FFA15A",
          "pattern": {
           "shape": ""
          }
         },
         "name": "South Africa",
         "offsetgroup": "South Africa",
         "orientation": "v",
         "showlegend": true,
         "textposition": "auto",
         "type": "bar",
         "x": [
          "Spain"
         ],
         "xaxis": "x",
         "y": [
          1
         ],
         "yaxis": "y"
        }
       ],
       "layout": {
        "barmode": "relative",
        "legend": {
         "title": {
          "text": "Country"
         },
         "tracegroupgap": 0
        },
        "margin": {
         "t": 60
        },
        "template": {
         "data": {
          "bar": [
           {
            "error_x": {
             "color": "#2a3f5f"
            },
            "error_y": {
             "color": "#2a3f5f"
            },
            "marker": {
             "line": {
              "color": "#E5ECF6",
              "width": 0.5
             },
             "pattern": {
              "fillmode": "overlay",
              "size": 10,
              "solidity": 0.2
             }
            },
            "type": "bar"
           }
          ],
          "barpolar": [
           {
            "marker": {
             "line": {
              "color": "#E5ECF6",
              "width": 0.5
             },
             "pattern": {
              "fillmode": "overlay",
              "size": 10,
              "solidity": 0.2
             }
            },
            "type": "barpolar"
           }
          ],
          "carpet": [
           {
            "aaxis": {
             "endlinecolor": "#2a3f5f",
             "gridcolor": "white",
             "linecolor": "white",
             "minorgridcolor": "white",
             "startlinecolor": "#2a3f5f"
            },
            "baxis": {
             "endlinecolor": "#2a3f5f",
             "gridcolor": "white",
             "linecolor": "white",
             "minorgridcolor": "white",
             "startlinecolor": "#2a3f5f"
            },
            "type": "carpet"
           }
          ],
          "choropleth": [
           {
            "colorbar": {
             "outlinewidth": 0,
             "ticks": ""
            },
            "type": "choropleth"
           }
          ],
          "contour": [
           {
            "colorbar": {
             "outlinewidth": 0,
             "ticks": ""
            },
            "colorscale": [
             [
              0,
              "#0d0887"
             ],
             [
              0.1111111111111111,
              "#46039f"
             ],
             [
              0.2222222222222222,
              "#7201a8"
             ],
             [
              0.3333333333333333,
              "#9c179e"
             ],
             [
              0.4444444444444444,
              "#bd3786"
             ],
             [
              0.5555555555555556,
              "#d8576b"
             ],
             [
              0.6666666666666666,
              "#ed7953"
             ],
             [
              0.7777777777777778,
              "#fb9f3a"
             ],
             [
              0.8888888888888888,
              "#fdca26"
             ],
             [
              1,
              "#f0f921"
             ]
            ],
            "type": "contour"
           }
          ],
          "contourcarpet": [
           {
            "colorbar": {
             "outlinewidth": 0,
             "ticks": ""
            },
            "type": "contourcarpet"
           }
          ],
          "heatmap": [
           {
            "colorbar": {
             "outlinewidth": 0,
             "ticks": ""
            },
            "colorscale": [
             [
              0,
              "#0d0887"
             ],
             [
              0.1111111111111111,
              "#46039f"
             ],
             [
              0.2222222222222222,
              "#7201a8"
             ],
             [
              0.3333333333333333,
              "#9c179e"
             ],
             [
              0.4444444444444444,
              "#bd3786"
             ],
             [
              0.5555555555555556,
              "#d8576b"
             ],
             [
              0.6666666666666666,
              "#ed7953"
             ],
             [
              0.7777777777777778,
              "#fb9f3a"
             ],
             [
              0.8888888888888888,
              "#fdca26"
             ],
             [
              1,
              "#f0f921"
             ]
            ],
            "type": "heatmap"
           }
          ],
          "heatmapgl": [
           {
            "colorbar": {
             "outlinewidth": 0,
             "ticks": ""
            },
            "colorscale": [
             [
              0,
              "#0d0887"
             ],
             [
              0.1111111111111111,
              "#46039f"
             ],
             [
              0.2222222222222222,
              "#7201a8"
             ],
             [
              0.3333333333333333,
              "#9c179e"
             ],
             [
              0.4444444444444444,
              "#bd3786"
             ],
             [
              0.5555555555555556,
              "#d8576b"
             ],
             [
              0.6666666666666666,
              "#ed7953"
             ],
             [
              0.7777777777777778,
              "#fb9f3a"
             ],
             [
              0.8888888888888888,
              "#fdca26"
             ],
             [
              1,
              "#f0f921"
             ]
            ],
            "type": "heatmapgl"
           }
          ],
          "histogram": [
           {
            "marker": {
             "pattern": {
              "fillmode": "overlay",
              "size": 10,
              "solidity": 0.2
             }
            },
            "type": "histogram"
           }
          ],
          "histogram2d": [
           {
            "colorbar": {
             "outlinewidth": 0,
             "ticks": ""
            },
            "colorscale": [
             [
              0,
              "#0d0887"
             ],
             [
              0.1111111111111111,
              "#46039f"
             ],
             [
              0.2222222222222222,
              "#7201a8"
             ],
             [
              0.3333333333333333,
              "#9c179e"
             ],
             [
              0.4444444444444444,
              "#bd3786"
             ],
             [
              0.5555555555555556,
              "#d8576b"
             ],
             [
              0.6666666666666666,
              "#ed7953"
             ],
             [
              0.7777777777777778,
              "#fb9f3a"
             ],
             [
              0.8888888888888888,
              "#fdca26"
             ],
             [
              1,
              "#f0f921"
             ]
            ],
            "type": "histogram2d"
           }
          ],
          "histogram2dcontour": [
           {
            "colorbar": {
             "outlinewidth": 0,
             "ticks": ""
            },
            "colorscale": [
             [
              0,
              "#0d0887"
             ],
             [
              0.1111111111111111,
              "#46039f"
             ],
             [
              0.2222222222222222,
              "#7201a8"
             ],
             [
              0.3333333333333333,
              "#9c179e"
             ],
             [
              0.4444444444444444,
              "#bd3786"
             ],
             [
              0.5555555555555556,
              "#d8576b"
             ],
             [
              0.6666666666666666,
              "#ed7953"
             ],
             [
              0.7777777777777778,
              "#fb9f3a"
             ],
             [
              0.8888888888888888,
              "#fdca26"
             ],
             [
              1,
              "#f0f921"
             ]
            ],
            "type": "histogram2dcontour"
           }
          ],
          "mesh3d": [
           {
            "colorbar": {
             "outlinewidth": 0,
             "ticks": ""
            },
            "type": "mesh3d"
           }
          ],
          "parcoords": [
           {
            "line": {
             "colorbar": {
              "outlinewidth": 0,
              "ticks": ""
             }
            },
            "type": "parcoords"
           }
          ],
          "pie": [
           {
            "automargin": true,
            "type": "pie"
           }
          ],
          "scatter": [
           {
            "fillpattern": {
             "fillmode": "overlay",
             "size": 10,
             "solidity": 0.2
            },
            "type": "scatter"
           }
          ],
          "scatter3d": [
           {
            "line": {
             "colorbar": {
              "outlinewidth": 0,
              "ticks": ""
             }
            },
            "marker": {
             "colorbar": {
              "outlinewidth": 0,
              "ticks": ""
             }
            },
            "type": "scatter3d"
           }
          ],
          "scattercarpet": [
           {
            "marker": {
             "colorbar": {
              "outlinewidth": 0,
              "ticks": ""
             }
            },
            "type": "scattercarpet"
           }
          ],
          "scattergeo": [
           {
            "marker": {
             "colorbar": {
              "outlinewidth": 0,
              "ticks": ""
             }
            },
            "type": "scattergeo"
           }
          ],
          "scattergl": [
           {
            "marker": {
             "colorbar": {
              "outlinewidth": 0,
              "ticks": ""
             }
            },
            "type": "scattergl"
           }
          ],
          "scattermapbox": [
           {
            "marker": {
             "colorbar": {
              "outlinewidth": 0,
              "ticks": ""
             }
            },
            "type": "scattermapbox"
           }
          ],
          "scatterpolar": [
           {
            "marker": {
             "colorbar": {
              "outlinewidth": 0,
              "ticks": ""
             }
            },
            "type": "scatterpolar"
           }
          ],
          "scatterpolargl": [
           {
            "marker": {
             "colorbar": {
              "outlinewidth": 0,
              "ticks": ""
             }
            },
            "type": "scatterpolargl"
           }
          ],
          "scatterternary": [
           {
            "marker": {
             "colorbar": {
              "outlinewidth": 0,
              "ticks": ""
             }
            },
            "type": "scatterternary"
           }
          ],
          "surface": [
           {
            "colorbar": {
             "outlinewidth": 0,
             "ticks": ""
            },
            "colorscale": [
             [
              0,
              "#0d0887"
             ],
             [
              0.1111111111111111,
              "#46039f"
             ],
             [
              0.2222222222222222,
              "#7201a8"
             ],
             [
              0.3333333333333333,
              "#9c179e"
             ],
             [
              0.4444444444444444,
              "#bd3786"
             ],
             [
              0.5555555555555556,
              "#d8576b"
             ],
             [
              0.6666666666666666,
              "#ed7953"
             ],
             [
              0.7777777777777778,
              "#fb9f3a"
             ],
             [
              0.8888888888888888,
              "#fdca26"
             ],
             [
              1,
              "#f0f921"
             ]
            ],
            "type": "surface"
           }
          ],
          "table": [
           {
            "cells": {
             "fill": {
              "color": "#EBF0F8"
             },
             "line": {
              "color": "white"
             }
            },
            "header": {
             "fill": {
              "color": "#C8D4E3"
             },
             "line": {
              "color": "white"
             }
            },
            "type": "table"
           }
          ]
         },
         "layout": {
          "annotationdefaults": {
           "arrowcolor": "#2a3f5f",
           "arrowhead": 0,
           "arrowwidth": 1
          },
          "autotypenumbers": "strict",
          "coloraxis": {
           "colorbar": {
            "outlinewidth": 0,
            "ticks": ""
           }
          },
          "colorscale": {
           "diverging": [
            [
             0,
             "#8e0152"
            ],
            [
             0.1,
             "#c51b7d"
            ],
            [
             0.2,
             "#de77ae"
            ],
            [
             0.3,
             "#f1b6da"
            ],
            [
             0.4,
             "#fde0ef"
            ],
            [
             0.5,
             "#f7f7f7"
            ],
            [
             0.6,
             "#e6f5d0"
            ],
            [
             0.7,
             "#b8e186"
            ],
            [
             0.8,
             "#7fbc41"
            ],
            [
             0.9,
             "#4d9221"
            ],
            [
             1,
             "#276419"
            ]
           ],
           "sequential": [
            [
             0,
             "#0d0887"
            ],
            [
             0.1111111111111111,
             "#46039f"
            ],
            [
             0.2222222222222222,
             "#7201a8"
            ],
            [
             0.3333333333333333,
             "#9c179e"
            ],
            [
             0.4444444444444444,
             "#bd3786"
            ],
            [
             0.5555555555555556,
             "#d8576b"
            ],
            [
             0.6666666666666666,
             "#ed7953"
            ],
            [
             0.7777777777777778,
             "#fb9f3a"
            ],
            [
             0.8888888888888888,
             "#fdca26"
            ],
            [
             1,
             "#f0f921"
            ]
           ],
           "sequentialminus": [
            [
             0,
             "#0d0887"
            ],
            [
             0.1111111111111111,
             "#46039f"
            ],
            [
             0.2222222222222222,
             "#7201a8"
            ],
            [
             0.3333333333333333,
             "#9c179e"
            ],
            [
             0.4444444444444444,
             "#bd3786"
            ],
            [
             0.5555555555555556,
             "#d8576b"
            ],
            [
             0.6666666666666666,
             "#ed7953"
            ],
            [
             0.7777777777777778,
             "#fb9f3a"
            ],
            [
             0.8888888888888888,
             "#fdca26"
            ],
            [
             1,
             "#f0f921"
            ]
           ]
          },
          "colorway": [
           "#636efa",
           "#EF553B",
           "#00cc96",
           "#ab63fa",
           "#FFA15A",
           "#19d3f3",
           "#FF6692",
           "#B6E880",
           "#FF97FF",
           "#FECB52"
          ],
          "font": {
           "color": "#2a3f5f"
          },
          "geo": {
           "bgcolor": "white",
           "lakecolor": "white",
           "landcolor": "#E5ECF6",
           "showlakes": true,
           "showland": true,
           "subunitcolor": "white"
          },
          "hoverlabel": {
           "align": "left"
          },
          "hovermode": "closest",
          "mapbox": {
           "style": "light"
          },
          "paper_bgcolor": "white",
          "plot_bgcolor": "#E5ECF6",
          "polar": {
           "angularaxis": {
            "gridcolor": "white",
            "linecolor": "white",
            "ticks": ""
           },
           "bgcolor": "#E5ECF6",
           "radialaxis": {
            "gridcolor": "white",
            "linecolor": "white",
            "ticks": ""
           }
          },
          "scene": {
           "xaxis": {
            "backgroundcolor": "#E5ECF6",
            "gridcolor": "white",
            "gridwidth": 2,
            "linecolor": "white",
            "showbackground": true,
            "ticks": "",
            "zerolinecolor": "white"
           },
           "yaxis": {
            "backgroundcolor": "#E5ECF6",
            "gridcolor": "white",
            "gridwidth": 2,
            "linecolor": "white",
            "showbackground": true,
            "ticks": "",
            "zerolinecolor": "white"
           },
           "zaxis": {
            "backgroundcolor": "#E5ECF6",
            "gridcolor": "white",
            "gridwidth": 2,
            "linecolor": "white",
            "showbackground": true,
            "ticks": "",
            "zerolinecolor": "white"
           }
          },
          "shapedefaults": {
           "line": {
            "color": "#2a3f5f"
           }
          },
          "ternary": {
           "aaxis": {
            "gridcolor": "white",
            "linecolor": "white",
            "ticks": ""
           },
           "baxis": {
            "gridcolor": "white",
            "linecolor": "white",
            "ticks": ""
           },
           "bgcolor": "#E5ECF6",
           "caxis": {
            "gridcolor": "white",
            "linecolor": "white",
            "ticks": ""
           }
          },
          "title": {
           "x": 0.05
          },
          "xaxis": {
           "automargin": true,
           "gridcolor": "white",
           "linecolor": "white",
           "ticks": "",
           "title": {
            "standoff": 15
           },
           "zerolinecolor": "white",
           "zerolinewidth": 2
          },
          "yaxis": {
           "automargin": true,
           "gridcolor": "white",
           "linecolor": "white",
           "ticks": "",
           "title": {
            "standoff": 15
           },
           "zerolinecolor": "white",
           "zerolinewidth": 2
          }
         }
        },
        "xaxis": {
         "anchor": "y",
         "domain": [
          0,
          1
         ],
         "title": {
          "text": "Winner"
         }
        },
        "yaxis": {
         "anchor": "x",
         "domain": [
          0,
          1
         ],
         "title": {
          "text": "count"
         }
        }
       }
      },
      "text/html": [
       "<div>                            <div id=\"033527ed-331e-442f-9be4-65b07db488da\" class=\"plotly-graph-div\" style=\"height:525px; width:100%;\"></div>            <script type=\"text/javascript\">                require([\"plotly\"], function(Plotly) {                    window.PLOTLYENV=window.PLOTLYENV || {};                                    if (document.getElementById(\"033527ed-331e-442f-9be4-65b07db488da\")) {                    Plotly.newPlot(                        \"033527ed-331e-442f-9be4-65b07db488da\",                        [{\"alignmentgroup\":\"True\",\"hovertemplate\":\"Country=Uruguay<br>Winner=%{x}<br>count=%{y}<extra></extra>\",\"legendgroup\":\"Uruguay\",\"marker\":{\"color\":\"#636efa\",\"pattern\":{\"shape\":\"\"}},\"name\":\"Uruguay\",\"offsetgroup\":\"Uruguay\",\"orientation\":\"v\",\"showlegend\":true,\"textposition\":\"auto\",\"x\":[\"Uruguay\"],\"xaxis\":\"x\",\"y\":[1],\"yaxis\":\"y\",\"type\":\"bar\"},{\"alignmentgroup\":\"True\",\"hovertemplate\":\"Country=Italy<br>Winner=%{x}<br>count=%{y}<extra></extra>\",\"legendgroup\":\"Italy\",\"marker\":{\"color\":\"#EF553B\",\"pattern\":{\"shape\":\"\"}},\"name\":\"Italy\",\"offsetgroup\":\"Italy\",\"orientation\":\"v\",\"showlegend\":true,\"textposition\":\"auto\",\"x\":[\"Italy\",\"Germany FR\"],\"xaxis\":\"x\",\"y\":[1,1],\"yaxis\":\"y\",\"type\":\"bar\"},{\"alignmentgroup\":\"True\",\"hovertemplate\":\"Country=France<br>Winner=%{x}<br>count=%{y}<extra></extra>\",\"legendgroup\":\"France\",\"marker\":{\"color\":\"#00cc96\",\"pattern\":{\"shape\":\"\"}},\"name\":\"France\",\"offsetgroup\":\"France\",\"orientation\":\"v\",\"showlegend\":true,\"textposition\":\"auto\",\"x\":[\"Italy\",\"France\"],\"xaxis\":\"x\",\"y\":[1,1],\"yaxis\":\"y\",\"type\":\"bar\"},{\"alignmentgroup\":\"True\",\"hovertemplate\":\"Country=Brazil<br>Winner=%{x}<br>count=%{y}<extra></extra>\",\"legendgroup\":\"Brazil\",\"marker\":{\"color\":\"#ab63fa\",\"pattern\":{\"shape\":\"\"}},\"name\":\"Brazil\",\"offsetgroup\":\"Brazil\",\"orientation\":\"v\",\"showlegend\":true,\"textposition\":\"auto\",\"x\":[\"Uruguay\",\"Germany\"],\"xaxis\":\"x\",\"y\":[1,1],\"yaxis\":\"y\",\"type\":\"bar\"},{\"alignmentgroup\":\"True\",\"hovertemplate\":\"Country=Switzerland<br>Winner=%{x}<br>count=%{y}<extra></extra>\",\"legendgroup\":\"Switzerland\",\"marker\":{\"color\":\"#FFA15A\",\"pattern\":{\"shape\":\"\"}},\"name\":\"Switzerland\",\"offsetgroup\":\"Switzerland\",\"orientation\":\"v\",\"showlegend\":true,\"textposition\":\"auto\",\"x\":[\"Germany FR\"],\"xaxis\":\"x\",\"y\":[1],\"yaxis\":\"y\",\"type\":\"bar\"},{\"alignmentgroup\":\"True\",\"hovertemplate\":\"Country=Sweden<br>Winner=%{x}<br>count=%{y}<extra></extra>\",\"legendgroup\":\"Sweden\",\"marker\":{\"color\":\"#19d3f3\",\"pattern\":{\"shape\":\"\"}},\"name\":\"Sweden\",\"offsetgroup\":\"Sweden\",\"orientation\":\"v\",\"showlegend\":true,\"textposition\":\"auto\",\"x\":[\"Brazil\"],\"xaxis\":\"x\",\"y\":[1],\"yaxis\":\"y\",\"type\":\"bar\"},{\"alignmentgroup\":\"True\",\"hovertemplate\":\"Country=Chile<br>Winner=%{x}<br>count=%{y}<extra></extra>\",\"legendgroup\":\"Chile\",\"marker\":{\"color\":\"#FF6692\",\"pattern\":{\"shape\":\"\"}},\"name\":\"Chile\",\"offsetgroup\":\"Chile\",\"orientation\":\"v\",\"showlegend\":true,\"textposition\":\"auto\",\"x\":[\"Brazil\"],\"xaxis\":\"x\",\"y\":[1],\"yaxis\":\"y\",\"type\":\"bar\"},{\"alignmentgroup\":\"True\",\"hovertemplate\":\"Country=England<br>Winner=%{x}<br>count=%{y}<extra></extra>\",\"legendgroup\":\"England\",\"marker\":{\"color\":\"#B6E880\",\"pattern\":{\"shape\":\"\"}},\"name\":\"England\",\"offsetgroup\":\"England\",\"orientation\":\"v\",\"showlegend\":true,\"textposition\":\"auto\",\"x\":[\"England\"],\"xaxis\":\"x\",\"y\":[1],\"yaxis\":\"y\",\"type\":\"bar\"},{\"alignmentgroup\":\"True\",\"hovertemplate\":\"Country=Mexico<br>Winner=%{x}<br>count=%{y}<extra></extra>\",\"legendgroup\":\"Mexico\",\"marker\":{\"color\":\"#FF97FF\",\"pattern\":{\"shape\":\"\"}},\"name\":\"Mexico\",\"offsetgroup\":\"Mexico\",\"orientation\":\"v\",\"showlegend\":true,\"textposition\":\"auto\",\"x\":[\"Brazil\",\"Argentina\"],\"xaxis\":\"x\",\"y\":[1,1],\"yaxis\":\"y\",\"type\":\"bar\"},{\"alignmentgroup\":\"True\",\"hovertemplate\":\"Country=Germany<br>Winner=%{x}<br>count=%{y}<extra></extra>\",\"legendgroup\":\"Germany\",\"marker\":{\"color\":\"#FECB52\",\"pattern\":{\"shape\":\"\"}},\"name\":\"Germany\",\"offsetgroup\":\"Germany\",\"orientation\":\"v\",\"showlegend\":true,\"textposition\":\"auto\",\"x\":[\"Germany FR\",\"Italy\"],\"xaxis\":\"x\",\"y\":[1,1],\"yaxis\":\"y\",\"type\":\"bar\"},{\"alignmentgroup\":\"True\",\"hovertemplate\":\"Country=Argentina<br>Winner=%{x}<br>count=%{y}<extra></extra>\",\"legendgroup\":\"Argentina\",\"marker\":{\"color\":\"#636efa\",\"pattern\":{\"shape\":\"\"}},\"name\":\"Argentina\",\"offsetgroup\":\"Argentina\",\"orientation\":\"v\",\"showlegend\":true,\"textposition\":\"auto\",\"x\":[\"Argentina\"],\"xaxis\":\"x\",\"y\":[1],\"yaxis\":\"y\",\"type\":\"bar\"},{\"alignmentgroup\":\"True\",\"hovertemplate\":\"Country=Spain<br>Winner=%{x}<br>count=%{y}<extra></extra>\",\"legendgroup\":\"Spain\",\"marker\":{\"color\":\"#EF553B\",\"pattern\":{\"shape\":\"\"}},\"name\":\"Spain\",\"offsetgroup\":\"Spain\",\"orientation\":\"v\",\"showlegend\":true,\"textposition\":\"auto\",\"x\":[\"Italy\"],\"xaxis\":\"x\",\"y\":[1],\"yaxis\":\"y\",\"type\":\"bar\"},{\"alignmentgroup\":\"True\",\"hovertemplate\":\"Country=USA<br>Winner=%{x}<br>count=%{y}<extra></extra>\",\"legendgroup\":\"USA\",\"marker\":{\"color\":\"#00cc96\",\"pattern\":{\"shape\":\"\"}},\"name\":\"USA\",\"offsetgroup\":\"USA\",\"orientation\":\"v\",\"showlegend\":true,\"textposition\":\"auto\",\"x\":[\"Brazil\"],\"xaxis\":\"x\",\"y\":[1],\"yaxis\":\"y\",\"type\":\"bar\"},{\"alignmentgroup\":\"True\",\"hovertemplate\":\"Country=Korea/Japan<br>Winner=%{x}<br>count=%{y}<extra></extra>\",\"legendgroup\":\"Korea/Japan\",\"marker\":{\"color\":\"#ab63fa\",\"pattern\":{\"shape\":\"\"}},\"name\":\"Korea/Japan\",\"offsetgroup\":\"Korea/Japan\",\"orientation\":\"v\",\"showlegend\":true,\"textposition\":\"auto\",\"x\":[\"Brazil\"],\"xaxis\":\"x\",\"y\":[1],\"yaxis\":\"y\",\"type\":\"bar\"},{\"alignmentgroup\":\"True\",\"hovertemplate\":\"Country=South Africa<br>Winner=%{x}<br>count=%{y}<extra></extra>\",\"legendgroup\":\"South Africa\",\"marker\":{\"color\":\"#FFA15A\",\"pattern\":{\"shape\":\"\"}},\"name\":\"South Africa\",\"offsetgroup\":\"South Africa\",\"orientation\":\"v\",\"showlegend\":true,\"textposition\":\"auto\",\"x\":[\"Spain\"],\"xaxis\":\"x\",\"y\":[1],\"yaxis\":\"y\",\"type\":\"bar\"}],                        {\"template\":{\"data\":{\"histogram2dcontour\":[{\"type\":\"histogram2dcontour\",\"colorbar\":{\"outlinewidth\":0,\"ticks\":\"\"},\"colorscale\":[[0.0,\"#0d0887\"],[0.1111111111111111,\"#46039f\"],[0.2222222222222222,\"#7201a8\"],[0.3333333333333333,\"#9c179e\"],[0.4444444444444444,\"#bd3786\"],[0.5555555555555556,\"#d8576b\"],[0.6666666666666666,\"#ed7953\"],[0.7777777777777778,\"#fb9f3a\"],[0.8888888888888888,\"#fdca26\"],[1.0,\"#f0f921\"]]}],\"choropleth\":[{\"type\":\"choropleth\",\"colorbar\":{\"outlinewidth\":0,\"ticks\":\"\"}}],\"histogram2d\":[{\"type\":\"histogram2d\",\"colorbar\":{\"outlinewidth\":0,\"ticks\":\"\"},\"colorscale\":[[0.0,\"#0d0887\"],[0.1111111111111111,\"#46039f\"],[0.2222222222222222,\"#7201a8\"],[0.3333333333333333,\"#9c179e\"],[0.4444444444444444,\"#bd3786\"],[0.5555555555555556,\"#d8576b\"],[0.6666666666666666,\"#ed7953\"],[0.7777777777777778,\"#fb9f3a\"],[0.8888888888888888,\"#fdca26\"],[1.0,\"#f0f921\"]]}],\"heatmap\":[{\"type\":\"heatmap\",\"colorbar\":{\"outlinewidth\":0,\"ticks\":\"\"},\"colorscale\":[[0.0,\"#0d0887\"],[0.1111111111111111,\"#46039f\"],[0.2222222222222222,\"#7201a8\"],[0.3333333333333333,\"#9c179e\"],[0.4444444444444444,\"#bd3786\"],[0.5555555555555556,\"#d8576b\"],[0.6666666666666666,\"#ed7953\"],[0.7777777777777778,\"#fb9f3a\"],[0.8888888888888888,\"#fdca26\"],[1.0,\"#f0f921\"]]}],\"heatmapgl\":[{\"type\":\"heatmapgl\",\"colorbar\":{\"outlinewidth\":0,\"ticks\":\"\"},\"colorscale\":[[0.0,\"#0d0887\"],[0.1111111111111111,\"#46039f\"],[0.2222222222222222,\"#7201a8\"],[0.3333333333333333,\"#9c179e\"],[0.4444444444444444,\"#bd3786\"],[0.5555555555555556,\"#d8576b\"],[0.6666666666666666,\"#ed7953\"],[0.7777777777777778,\"#fb9f3a\"],[0.8888888888888888,\"#fdca26\"],[1.0,\"#f0f921\"]]}],\"contourcarpet\":[{\"type\":\"contourcarpet\",\"colorbar\":{\"outlinewidth\":0,\"ticks\":\"\"}}],\"contour\":[{\"type\":\"contour\",\"colorbar\":{\"outlinewidth\":0,\"ticks\":\"\"},\"colorscale\":[[0.0,\"#0d0887\"],[0.1111111111111111,\"#46039f\"],[0.2222222222222222,\"#7201a8\"],[0.3333333333333333,\"#9c179e\"],[0.4444444444444444,\"#bd3786\"],[0.5555555555555556,\"#d8576b\"],[0.6666666666666666,\"#ed7953\"],[0.7777777777777778,\"#fb9f3a\"],[0.8888888888888888,\"#fdca26\"],[1.0,\"#f0f921\"]]}],\"surface\":[{\"type\":\"surface\",\"colorbar\":{\"outlinewidth\":0,\"ticks\":\"\"},\"colorscale\":[[0.0,\"#0d0887\"],[0.1111111111111111,\"#46039f\"],[0.2222222222222222,\"#7201a8\"],[0.3333333333333333,\"#9c179e\"],[0.4444444444444444,\"#bd3786\"],[0.5555555555555556,\"#d8576b\"],[0.6666666666666666,\"#ed7953\"],[0.7777777777777778,\"#fb9f3a\"],[0.8888888888888888,\"#fdca26\"],[1.0,\"#f0f921\"]]}],\"mesh3d\":[{\"type\":\"mesh3d\",\"colorbar\":{\"outlinewidth\":0,\"ticks\":\"\"}}],\"scatter\":[{\"fillpattern\":{\"fillmode\":\"overlay\",\"size\":10,\"solidity\":0.2},\"type\":\"scatter\"}],\"parcoords\":[{\"type\":\"parcoords\",\"line\":{\"colorbar\":{\"outlinewidth\":0,\"ticks\":\"\"}}}],\"scatterpolargl\":[{\"type\":\"scatterpolargl\",\"marker\":{\"colorbar\":{\"outlinewidth\":0,\"ticks\":\"\"}}}],\"bar\":[{\"error_x\":{\"color\":\"#2a3f5f\"},\"error_y\":{\"color\":\"#2a3f5f\"},\"marker\":{\"line\":{\"color\":\"#E5ECF6\",\"width\":0.5},\"pattern\":{\"fillmode\":\"overlay\",\"size\":10,\"solidity\":0.2}},\"type\":\"bar\"}],\"scattergeo\":[{\"type\":\"scattergeo\",\"marker\":{\"colorbar\":{\"outlinewidth\":0,\"ticks\":\"\"}}}],\"scatterpolar\":[{\"type\":\"scatterpolar\",\"marker\":{\"colorbar\":{\"outlinewidth\":0,\"ticks\":\"\"}}}],\"histogram\":[{\"marker\":{\"pattern\":{\"fillmode\":\"overlay\",\"size\":10,\"solidity\":0.2}},\"type\":\"histogram\"}],\"scattergl\":[{\"type\":\"scattergl\",\"marker\":{\"colorbar\":{\"outlinewidth\":0,\"ticks\":\"\"}}}],\"scatter3d\":[{\"type\":\"scatter3d\",\"line\":{\"colorbar\":{\"outlinewidth\":0,\"ticks\":\"\"}},\"marker\":{\"colorbar\":{\"outlinewidth\":0,\"ticks\":\"\"}}}],\"scattermapbox\":[{\"type\":\"scattermapbox\",\"marker\":{\"colorbar\":{\"outlinewidth\":0,\"ticks\":\"\"}}}],\"scatterternary\":[{\"type\":\"scatterternary\",\"marker\":{\"colorbar\":{\"outlinewidth\":0,\"ticks\":\"\"}}}],\"scattercarpet\":[{\"type\":\"scattercarpet\",\"marker\":{\"colorbar\":{\"outlinewidth\":0,\"ticks\":\"\"}}}],\"carpet\":[{\"aaxis\":{\"endlinecolor\":\"#2a3f5f\",\"gridcolor\":\"white\",\"linecolor\":\"white\",\"minorgridcolor\":\"white\",\"startlinecolor\":\"#2a3f5f\"},\"baxis\":{\"endlinecolor\":\"#2a3f5f\",\"gridcolor\":\"white\",\"linecolor\":\"white\",\"minorgridcolor\":\"white\",\"startlinecolor\":\"#2a3f5f\"},\"type\":\"carpet\"}],\"table\":[{\"cells\":{\"fill\":{\"color\":\"#EBF0F8\"},\"line\":{\"color\":\"white\"}},\"header\":{\"fill\":{\"color\":\"#C8D4E3\"},\"line\":{\"color\":\"white\"}},\"type\":\"table\"}],\"barpolar\":[{\"marker\":{\"line\":{\"color\":\"#E5ECF6\",\"width\":0.5},\"pattern\":{\"fillmode\":\"overlay\",\"size\":10,\"solidity\":0.2}},\"type\":\"barpolar\"}],\"pie\":[{\"automargin\":true,\"type\":\"pie\"}]},\"layout\":{\"autotypenumbers\":\"strict\",\"colorway\":[\"#636efa\",\"#EF553B\",\"#00cc96\",\"#ab63fa\",\"#FFA15A\",\"#19d3f3\",\"#FF6692\",\"#B6E880\",\"#FF97FF\",\"#FECB52\"],\"font\":{\"color\":\"#2a3f5f\"},\"hovermode\":\"closest\",\"hoverlabel\":{\"align\":\"left\"},\"paper_bgcolor\":\"white\",\"plot_bgcolor\":\"#E5ECF6\",\"polar\":{\"bgcolor\":\"#E5ECF6\",\"angularaxis\":{\"gridcolor\":\"white\",\"linecolor\":\"white\",\"ticks\":\"\"},\"radialaxis\":{\"gridcolor\":\"white\",\"linecolor\":\"white\",\"ticks\":\"\"}},\"ternary\":{\"bgcolor\":\"#E5ECF6\",\"aaxis\":{\"gridcolor\":\"white\",\"linecolor\":\"white\",\"ticks\":\"\"},\"baxis\":{\"gridcolor\":\"white\",\"linecolor\":\"white\",\"ticks\":\"\"},\"caxis\":{\"gridcolor\":\"white\",\"linecolor\":\"white\",\"ticks\":\"\"}},\"coloraxis\":{\"colorbar\":{\"outlinewidth\":0,\"ticks\":\"\"}},\"colorscale\":{\"sequential\":[[0.0,\"#0d0887\"],[0.1111111111111111,\"#46039f\"],[0.2222222222222222,\"#7201a8\"],[0.3333333333333333,\"#9c179e\"],[0.4444444444444444,\"#bd3786\"],[0.5555555555555556,\"#d8576b\"],[0.6666666666666666,\"#ed7953\"],[0.7777777777777778,\"#fb9f3a\"],[0.8888888888888888,\"#fdca26\"],[1.0,\"#f0f921\"]],\"sequentialminus\":[[0.0,\"#0d0887\"],[0.1111111111111111,\"#46039f\"],[0.2222222222222222,\"#7201a8\"],[0.3333333333333333,\"#9c179e\"],[0.4444444444444444,\"#bd3786\"],[0.5555555555555556,\"#d8576b\"],[0.6666666666666666,\"#ed7953\"],[0.7777777777777778,\"#fb9f3a\"],[0.8888888888888888,\"#fdca26\"],[1.0,\"#f0f921\"]],\"diverging\":[[0,\"#8e0152\"],[0.1,\"#c51b7d\"],[0.2,\"#de77ae\"],[0.3,\"#f1b6da\"],[0.4,\"#fde0ef\"],[0.5,\"#f7f7f7\"],[0.6,\"#e6f5d0\"],[0.7,\"#b8e186\"],[0.8,\"#7fbc41\"],[0.9,\"#4d9221\"],[1,\"#276419\"]]},\"xaxis\":{\"gridcolor\":\"white\",\"linecolor\":\"white\",\"ticks\":\"\",\"title\":{\"standoff\":15},\"zerolinecolor\":\"white\",\"automargin\":true,\"zerolinewidth\":2},\"yaxis\":{\"gridcolor\":\"white\",\"linecolor\":\"white\",\"ticks\":\"\",\"title\":{\"standoff\":15},\"zerolinecolor\":\"white\",\"automargin\":true,\"zerolinewidth\":2},\"scene\":{\"xaxis\":{\"backgroundcolor\":\"#E5ECF6\",\"gridcolor\":\"white\",\"linecolor\":\"white\",\"showbackground\":true,\"ticks\":\"\",\"zerolinecolor\":\"white\",\"gridwidth\":2},\"yaxis\":{\"backgroundcolor\":\"#E5ECF6\",\"gridcolor\":\"white\",\"linecolor\":\"white\",\"showbackground\":true,\"ticks\":\"\",\"zerolinecolor\":\"white\",\"gridwidth\":2},\"zaxis\":{\"backgroundcolor\":\"#E5ECF6\",\"gridcolor\":\"white\",\"linecolor\":\"white\",\"showbackground\":true,\"ticks\":\"\",\"zerolinecolor\":\"white\",\"gridwidth\":2}},\"shapedefaults\":{\"line\":{\"color\":\"#2a3f5f\"}},\"annotationdefaults\":{\"arrowcolor\":\"#2a3f5f\",\"arrowhead\":0,\"arrowwidth\":1},\"geo\":{\"bgcolor\":\"white\",\"landcolor\":\"#E5ECF6\",\"subunitcolor\":\"white\",\"showland\":true,\"showlakes\":true,\"lakecolor\":\"white\"},\"title\":{\"x\":0.05},\"mapbox\":{\"style\":\"light\"}}},\"xaxis\":{\"anchor\":\"y\",\"domain\":[0.0,1.0],\"title\":{\"text\":\"Winner\"}},\"yaxis\":{\"anchor\":\"x\",\"domain\":[0.0,1.0],\"title\":{\"text\":\"count\"}},\"legend\":{\"title\":{\"text\":\"Country\"},\"tracegroupgap\":0},\"margin\":{\"t\":60},\"barmode\":\"relative\"},                        {\"responsive\": true}                    ).then(function(){\n",
       "                            \n",
       "var gd = document.getElementById('033527ed-331e-442f-9be4-65b07db488da');\n",
       "var x = new MutationObserver(function (mutations, observer) {{\n",
       "        var display = window.getComputedStyle(gd).display;\n",
       "        if (!display || display === 'none') {{\n",
       "            console.log([gd, 'removed!']);\n",
       "            Plotly.purge(gd);\n",
       "            observer.disconnect();\n",
       "        }}\n",
       "}});\n",
       "\n",
       "// Listen for the removal of the full notebook cells\n",
       "var notebookContainer = gd.closest('#notebook-container');\n",
       "if (notebookContainer) {{\n",
       "    x.observe(notebookContainer, {childList: true});\n",
       "}}\n",
       "\n",
       "// Listen for the clearing of the current output cell\n",
       "var outputEl = gd.closest('.output');\n",
       "if (outputEl) {{\n",
       "    x.observe(outputEl, {childList: true});\n",
       "}}\n",
       "\n",
       "                        })                };                });            </script>        </div>"
      ]
     },
     "metadata": {},
     "output_type": "display_data"
    }
   ],
   "source": [
    "# Based on the year which team was the winner\n",
    "fig = px.bar(df3, x='Winner',color='Country')\n",
    "fig.show()"
   ]
  },
  {
   "cell_type": "markdown",
   "metadata": {},
   "source": [
    "From the above we can see that Brazil won most of the match with different countries such as Sweden,Chile,Mexico, and soon"
   ]
  },
  {
   "cell_type": "code",
   "execution_count": 142,
   "metadata": {},
   "outputs": [
    {
     "data": {
      "application/vnd.plotly.v1+json": {
       "config": {
        "linkText": "Export to plot.ly",
        "plotlyServerURL": "https://plot.ly",
        "showLink": true
       },
       "data": [
        {
         "marker": {
          "color": "rgba(255, 153, 51, 0.6)",
          "line": {
           "color": "rgba(255, 153, 51, 1.0)",
           "width": 1
          }
         },
         "name": "Runners-Up",
         "orientation": "v",
         "text": "",
         "type": "bar",
         "x": [
          0,
          1,
          2,
          3,
          4,
          5,
          6,
          7,
          8,
          9,
          10,
          11,
          12,
          13,
          14,
          15,
          16,
          17,
          18,
          19
         ],
         "y": [
          "Argentina",
          "Czechoslovakia",
          "Hungary",
          "Brazil",
          "Hungary",
          "Sweden",
          "Czechoslovakia",
          "Germany FR",
          "Italy",
          "Netherlands",
          "Netherlands",
          "Germany FR",
          "Germany FR",
          "Argentina",
          "Italy",
          "Brazil",
          "Germany",
          "France",
          "Netherlands",
          "Argentina"
         ]
        }
       ],
       "layout": {
        "legend": {
         "bgcolor": "#F5F6F9",
         "font": {
          "color": "#4D5663"
         }
        },
        "paper_bgcolor": "#F5F6F9",
        "plot_bgcolor": "#F5F6F9",
        "template": {
         "data": {
          "bar": [
           {
            "error_x": {
             "color": "#2a3f5f"
            },
            "error_y": {
             "color": "#2a3f5f"
            },
            "marker": {
             "line": {
              "color": "#E5ECF6",
              "width": 0.5
             },
             "pattern": {
              "fillmode": "overlay",
              "size": 10,
              "solidity": 0.2
             }
            },
            "type": "bar"
           }
          ],
          "barpolar": [
           {
            "marker": {
             "line": {
              "color": "#E5ECF6",
              "width": 0.5
             },
             "pattern": {
              "fillmode": "overlay",
              "size": 10,
              "solidity": 0.2
             }
            },
            "type": "barpolar"
           }
          ],
          "carpet": [
           {
            "aaxis": {
             "endlinecolor": "#2a3f5f",
             "gridcolor": "white",
             "linecolor": "white",
             "minorgridcolor": "white",
             "startlinecolor": "#2a3f5f"
            },
            "baxis": {
             "endlinecolor": "#2a3f5f",
             "gridcolor": "white",
             "linecolor": "white",
             "minorgridcolor": "white",
             "startlinecolor": "#2a3f5f"
            },
            "type": "carpet"
           }
          ],
          "choropleth": [
           {
            "colorbar": {
             "outlinewidth": 0,
             "ticks": ""
            },
            "type": "choropleth"
           }
          ],
          "contour": [
           {
            "colorbar": {
             "outlinewidth": 0,
             "ticks": ""
            },
            "colorscale": [
             [
              0,
              "#0d0887"
             ],
             [
              0.1111111111111111,
              "#46039f"
             ],
             [
              0.2222222222222222,
              "#7201a8"
             ],
             [
              0.3333333333333333,
              "#9c179e"
             ],
             [
              0.4444444444444444,
              "#bd3786"
             ],
             [
              0.5555555555555556,
              "#d8576b"
             ],
             [
              0.6666666666666666,
              "#ed7953"
             ],
             [
              0.7777777777777778,
              "#fb9f3a"
             ],
             [
              0.8888888888888888,
              "#fdca26"
             ],
             [
              1,
              "#f0f921"
             ]
            ],
            "type": "contour"
           }
          ],
          "contourcarpet": [
           {
            "colorbar": {
             "outlinewidth": 0,
             "ticks": ""
            },
            "type": "contourcarpet"
           }
          ],
          "heatmap": [
           {
            "colorbar": {
             "outlinewidth": 0,
             "ticks": ""
            },
            "colorscale": [
             [
              0,
              "#0d0887"
             ],
             [
              0.1111111111111111,
              "#46039f"
             ],
             [
              0.2222222222222222,
              "#7201a8"
             ],
             [
              0.3333333333333333,
              "#9c179e"
             ],
             [
              0.4444444444444444,
              "#bd3786"
             ],
             [
              0.5555555555555556,
              "#d8576b"
             ],
             [
              0.6666666666666666,
              "#ed7953"
             ],
             [
              0.7777777777777778,
              "#fb9f3a"
             ],
             [
              0.8888888888888888,
              "#fdca26"
             ],
             [
              1,
              "#f0f921"
             ]
            ],
            "type": "heatmap"
           }
          ],
          "heatmapgl": [
           {
            "colorbar": {
             "outlinewidth": 0,
             "ticks": ""
            },
            "colorscale": [
             [
              0,
              "#0d0887"
             ],
             [
              0.1111111111111111,
              "#46039f"
             ],
             [
              0.2222222222222222,
              "#7201a8"
             ],
             [
              0.3333333333333333,
              "#9c179e"
             ],
             [
              0.4444444444444444,
              "#bd3786"
             ],
             [
              0.5555555555555556,
              "#d8576b"
             ],
             [
              0.6666666666666666,
              "#ed7953"
             ],
             [
              0.7777777777777778,
              "#fb9f3a"
             ],
             [
              0.8888888888888888,
              "#fdca26"
             ],
             [
              1,
              "#f0f921"
             ]
            ],
            "type": "heatmapgl"
           }
          ],
          "histogram": [
           {
            "marker": {
             "pattern": {
              "fillmode": "overlay",
              "size": 10,
              "solidity": 0.2
             }
            },
            "type": "histogram"
           }
          ],
          "histogram2d": [
           {
            "colorbar": {
             "outlinewidth": 0,
             "ticks": ""
            },
            "colorscale": [
             [
              0,
              "#0d0887"
             ],
             [
              0.1111111111111111,
              "#46039f"
             ],
             [
              0.2222222222222222,
              "#7201a8"
             ],
             [
              0.3333333333333333,
              "#9c179e"
             ],
             [
              0.4444444444444444,
              "#bd3786"
             ],
             [
              0.5555555555555556,
              "#d8576b"
             ],
             [
              0.6666666666666666,
              "#ed7953"
             ],
             [
              0.7777777777777778,
              "#fb9f3a"
             ],
             [
              0.8888888888888888,
              "#fdca26"
             ],
             [
              1,
              "#f0f921"
             ]
            ],
            "type": "histogram2d"
           }
          ],
          "histogram2dcontour": [
           {
            "colorbar": {
             "outlinewidth": 0,
             "ticks": ""
            },
            "colorscale": [
             [
              0,
              "#0d0887"
             ],
             [
              0.1111111111111111,
              "#46039f"
             ],
             [
              0.2222222222222222,
              "#7201a8"
             ],
             [
              0.3333333333333333,
              "#9c179e"
             ],
             [
              0.4444444444444444,
              "#bd3786"
             ],
             [
              0.5555555555555556,
              "#d8576b"
             ],
             [
              0.6666666666666666,
              "#ed7953"
             ],
             [
              0.7777777777777778,
              "#fb9f3a"
             ],
             [
              0.8888888888888888,
              "#fdca26"
             ],
             [
              1,
              "#f0f921"
             ]
            ],
            "type": "histogram2dcontour"
           }
          ],
          "mesh3d": [
           {
            "colorbar": {
             "outlinewidth": 0,
             "ticks": ""
            },
            "type": "mesh3d"
           }
          ],
          "parcoords": [
           {
            "line": {
             "colorbar": {
              "outlinewidth": 0,
              "ticks": ""
             }
            },
            "type": "parcoords"
           }
          ],
          "pie": [
           {
            "automargin": true,
            "type": "pie"
           }
          ],
          "scatter": [
           {
            "fillpattern": {
             "fillmode": "overlay",
             "size": 10,
             "solidity": 0.2
            },
            "type": "scatter"
           }
          ],
          "scatter3d": [
           {
            "line": {
             "colorbar": {
              "outlinewidth": 0,
              "ticks": ""
             }
            },
            "marker": {
             "colorbar": {
              "outlinewidth": 0,
              "ticks": ""
             }
            },
            "type": "scatter3d"
           }
          ],
          "scattercarpet": [
           {
            "marker": {
             "colorbar": {
              "outlinewidth": 0,
              "ticks": ""
             }
            },
            "type": "scattercarpet"
           }
          ],
          "scattergeo": [
           {
            "marker": {
             "colorbar": {
              "outlinewidth": 0,
              "ticks": ""
             }
            },
            "type": "scattergeo"
           }
          ],
          "scattergl": [
           {
            "marker": {
             "colorbar": {
              "outlinewidth": 0,
              "ticks": ""
             }
            },
            "type": "scattergl"
           }
          ],
          "scattermapbox": [
           {
            "marker": {
             "colorbar": {
              "outlinewidth": 0,
              "ticks": ""
             }
            },
            "type": "scattermapbox"
           }
          ],
          "scatterpolar": [
           {
            "marker": {
             "colorbar": {
              "outlinewidth": 0,
              "ticks": ""
             }
            },
            "type": "scatterpolar"
           }
          ],
          "scatterpolargl": [
           {
            "marker": {
             "colorbar": {
              "outlinewidth": 0,
              "ticks": ""
             }
            },
            "type": "scatterpolargl"
           }
          ],
          "scatterternary": [
           {
            "marker": {
             "colorbar": {
              "outlinewidth": 0,
              "ticks": ""
             }
            },
            "type": "scatterternary"
           }
          ],
          "surface": [
           {
            "colorbar": {
             "outlinewidth": 0,
             "ticks": ""
            },
            "colorscale": [
             [
              0,
              "#0d0887"
             ],
             [
              0.1111111111111111,
              "#46039f"
             ],
             [
              0.2222222222222222,
              "#7201a8"
             ],
             [
              0.3333333333333333,
              "#9c179e"
             ],
             [
              0.4444444444444444,
              "#bd3786"
             ],
             [
              0.5555555555555556,
              "#d8576b"
             ],
             [
              0.6666666666666666,
              "#ed7953"
             ],
             [
              0.7777777777777778,
              "#fb9f3a"
             ],
             [
              0.8888888888888888,
              "#fdca26"
             ],
             [
              1,
              "#f0f921"
             ]
            ],
            "type": "surface"
           }
          ],
          "table": [
           {
            "cells": {
             "fill": {
              "color": "#EBF0F8"
             },
             "line": {
              "color": "white"
             }
            },
            "header": {
             "fill": {
              "color": "#C8D4E3"
             },
             "line": {
              "color": "white"
             }
            },
            "type": "table"
           }
          ]
         },
         "layout": {
          "annotationdefaults": {
           "arrowcolor": "#2a3f5f",
           "arrowhead": 0,
           "arrowwidth": 1
          },
          "autotypenumbers": "strict",
          "coloraxis": {
           "colorbar": {
            "outlinewidth": 0,
            "ticks": ""
           }
          },
          "colorscale": {
           "diverging": [
            [
             0,
             "#8e0152"
            ],
            [
             0.1,
             "#c51b7d"
            ],
            [
             0.2,
             "#de77ae"
            ],
            [
             0.3,
             "#f1b6da"
            ],
            [
             0.4,
             "#fde0ef"
            ],
            [
             0.5,
             "#f7f7f7"
            ],
            [
             0.6,
             "#e6f5d0"
            ],
            [
             0.7,
             "#b8e186"
            ],
            [
             0.8,
             "#7fbc41"
            ],
            [
             0.9,
             "#4d9221"
            ],
            [
             1,
             "#276419"
            ]
           ],
           "sequential": [
            [
             0,
             "#0d0887"
            ],
            [
             0.1111111111111111,
             "#46039f"
            ],
            [
             0.2222222222222222,
             "#7201a8"
            ],
            [
             0.3333333333333333,
             "#9c179e"
            ],
            [
             0.4444444444444444,
             "#bd3786"
            ],
            [
             0.5555555555555556,
             "#d8576b"
            ],
            [
             0.6666666666666666,
             "#ed7953"
            ],
            [
             0.7777777777777778,
             "#fb9f3a"
            ],
            [
             0.8888888888888888,
             "#fdca26"
            ],
            [
             1,
             "#f0f921"
            ]
           ],
           "sequentialminus": [
            [
             0,
             "#0d0887"
            ],
            [
             0.1111111111111111,
             "#46039f"
            ],
            [
             0.2222222222222222,
             "#7201a8"
            ],
            [
             0.3333333333333333,
             "#9c179e"
            ],
            [
             0.4444444444444444,
             "#bd3786"
            ],
            [
             0.5555555555555556,
             "#d8576b"
            ],
            [
             0.6666666666666666,
             "#ed7953"
            ],
            [
             0.7777777777777778,
             "#fb9f3a"
            ],
            [
             0.8888888888888888,
             "#fdca26"
            ],
            [
             1,
             "#f0f921"
            ]
           ]
          },
          "colorway": [
           "#636efa",
           "#EF553B",
           "#00cc96",
           "#ab63fa",
           "#FFA15A",
           "#19d3f3",
           "#FF6692",
           "#B6E880",
           "#FF97FF",
           "#FECB52"
          ],
          "font": {
           "color": "#2a3f5f"
          },
          "geo": {
           "bgcolor": "white",
           "lakecolor": "white",
           "landcolor": "#E5ECF6",
           "showlakes": true,
           "showland": true,
           "subunitcolor": "white"
          },
          "hoverlabel": {
           "align": "left"
          },
          "hovermode": "closest",
          "mapbox": {
           "style": "light"
          },
          "paper_bgcolor": "white",
          "plot_bgcolor": "#E5ECF6",
          "polar": {
           "angularaxis": {
            "gridcolor": "white",
            "linecolor": "white",
            "ticks": ""
           },
           "bgcolor": "#E5ECF6",
           "radialaxis": {
            "gridcolor": "white",
            "linecolor": "white",
            "ticks": ""
           }
          },
          "scene": {
           "xaxis": {
            "backgroundcolor": "#E5ECF6",
            "gridcolor": "white",
            "gridwidth": 2,
            "linecolor": "white",
            "showbackground": true,
            "ticks": "",
            "zerolinecolor": "white"
           },
           "yaxis": {
            "backgroundcolor": "#E5ECF6",
            "gridcolor": "white",
            "gridwidth": 2,
            "linecolor": "white",
            "showbackground": true,
            "ticks": "",
            "zerolinecolor": "white"
           },
           "zaxis": {
            "backgroundcolor": "#E5ECF6",
            "gridcolor": "white",
            "gridwidth": 2,
            "linecolor": "white",
            "showbackground": true,
            "ticks": "",
            "zerolinecolor": "white"
           }
          },
          "shapedefaults": {
           "line": {
            "color": "#2a3f5f"
           }
          },
          "ternary": {
           "aaxis": {
            "gridcolor": "white",
            "linecolor": "white",
            "ticks": ""
           },
           "baxis": {
            "gridcolor": "white",
            "linecolor": "white",
            "ticks": ""
           },
           "bgcolor": "#E5ECF6",
           "caxis": {
            "gridcolor": "white",
            "linecolor": "white",
            "ticks": ""
           }
          },
          "title": {
           "x": 0.05
          },
          "xaxis": {
           "automargin": true,
           "gridcolor": "white",
           "linecolor": "white",
           "ticks": "",
           "title": {
            "standoff": 15
           },
           "zerolinecolor": "white",
           "zerolinewidth": 2
          },
          "yaxis": {
           "automargin": true,
           "gridcolor": "white",
           "linecolor": "white",
           "ticks": "",
           "title": {
            "standoff": 15
           },
           "zerolinecolor": "white",
           "zerolinewidth": 2
          }
         }
        },
        "title": {
         "font": {
          "color": "#4D5663"
         }
        },
        "xaxis": {
         "gridcolor": "#E1E5ED",
         "showgrid": true,
         "tickfont": {
          "color": "#4D5663"
         },
         "title": {
          "font": {
           "color": "#4D5663"
          },
          "text": ""
         },
         "zerolinecolor": "#E1E5ED"
        },
        "yaxis": {
         "gridcolor": "#E1E5ED",
         "showgrid": true,
         "tickfont": {
          "color": "#4D5663"
         },
         "title": {
          "font": {
           "color": "#4D5663"
          },
          "text": ""
         },
         "zerolinecolor": "#E1E5ED"
        }
       }
      },
      "text/html": [
       "<div>                            <div id=\"40fa8662-96c7-46b7-b801-957df36c0a6a\" class=\"plotly-graph-div\" style=\"height:525px; width:100%;\"></div>            <script type=\"text/javascript\">                require([\"plotly\"], function(Plotly) {                    window.PLOTLYENV=window.PLOTLYENV || {};\n",
       "                    window.PLOTLYENV.BASE_URL='https://plot.ly';                                    if (document.getElementById(\"40fa8662-96c7-46b7-b801-957df36c0a6a\")) {                    Plotly.newPlot(                        \"40fa8662-96c7-46b7-b801-957df36c0a6a\",                        [{\"marker\":{\"color\":\"rgba(255, 153, 51, 0.6)\",\"line\":{\"color\":\"rgba(255, 153, 51, 1.0)\",\"width\":1}},\"name\":\"Runners-Up\",\"orientation\":\"v\",\"text\":\"\",\"x\":[0,1,2,3,4,5,6,7,8,9,10,11,12,13,14,15,16,17,18,19],\"y\":[\"Argentina\",\"Czechoslovakia\",\"Hungary\",\"Brazil\",\"Hungary\",\"Sweden\",\"Czechoslovakia\",\"Germany FR\",\"Italy\",\"Netherlands\",\"Netherlands\",\"Germany FR\",\"Germany FR\",\"Argentina\",\"Italy\",\"Brazil\",\"Germany\",\"France\",\"Netherlands\",\"Argentina\"],\"type\":\"bar\"}],                        {\"legend\":{\"bgcolor\":\"#F5F6F9\",\"font\":{\"color\":\"#4D5663\"}},\"paper_bgcolor\":\"#F5F6F9\",\"plot_bgcolor\":\"#F5F6F9\",\"template\":{\"data\":{\"barpolar\":[{\"marker\":{\"line\":{\"color\":\"#E5ECF6\",\"width\":0.5},\"pattern\":{\"fillmode\":\"overlay\",\"size\":10,\"solidity\":0.2}},\"type\":\"barpolar\"}],\"bar\":[{\"error_x\":{\"color\":\"#2a3f5f\"},\"error_y\":{\"color\":\"#2a3f5f\"},\"marker\":{\"line\":{\"color\":\"#E5ECF6\",\"width\":0.5},\"pattern\":{\"fillmode\":\"overlay\",\"size\":10,\"solidity\":0.2}},\"type\":\"bar\"}],\"carpet\":[{\"aaxis\":{\"endlinecolor\":\"#2a3f5f\",\"gridcolor\":\"white\",\"linecolor\":\"white\",\"minorgridcolor\":\"white\",\"startlinecolor\":\"#2a3f5f\"},\"baxis\":{\"endlinecolor\":\"#2a3f5f\",\"gridcolor\":\"white\",\"linecolor\":\"white\",\"minorgridcolor\":\"white\",\"startlinecolor\":\"#2a3f5f\"},\"type\":\"carpet\"}],\"choropleth\":[{\"colorbar\":{\"outlinewidth\":0,\"ticks\":\"\"},\"type\":\"choropleth\"}],\"contourcarpet\":[{\"colorbar\":{\"outlinewidth\":0,\"ticks\":\"\"},\"type\":\"contourcarpet\"}],\"contour\":[{\"colorbar\":{\"outlinewidth\":0,\"ticks\":\"\"},\"colorscale\":[[0.0,\"#0d0887\"],[0.1111111111111111,\"#46039f\"],[0.2222222222222222,\"#7201a8\"],[0.3333333333333333,\"#9c179e\"],[0.4444444444444444,\"#bd3786\"],[0.5555555555555556,\"#d8576b\"],[0.6666666666666666,\"#ed7953\"],[0.7777777777777778,\"#fb9f3a\"],[0.8888888888888888,\"#fdca26\"],[1.0,\"#f0f921\"]],\"type\":\"contour\"}],\"heatmapgl\":[{\"colorbar\":{\"outlinewidth\":0,\"ticks\":\"\"},\"colorscale\":[[0.0,\"#0d0887\"],[0.1111111111111111,\"#46039f\"],[0.2222222222222222,\"#7201a8\"],[0.3333333333333333,\"#9c179e\"],[0.4444444444444444,\"#bd3786\"],[0.5555555555555556,\"#d8576b\"],[0.6666666666666666,\"#ed7953\"],[0.7777777777777778,\"#fb9f3a\"],[0.8888888888888888,\"#fdca26\"],[1.0,\"#f0f921\"]],\"type\":\"heatmapgl\"}],\"heatmap\":[{\"colorbar\":{\"outlinewidth\":0,\"ticks\":\"\"},\"colorscale\":[[0.0,\"#0d0887\"],[0.1111111111111111,\"#46039f\"],[0.2222222222222222,\"#7201a8\"],[0.3333333333333333,\"#9c179e\"],[0.4444444444444444,\"#bd3786\"],[0.5555555555555556,\"#d8576b\"],[0.6666666666666666,\"#ed7953\"],[0.7777777777777778,\"#fb9f3a\"],[0.8888888888888888,\"#fdca26\"],[1.0,\"#f0f921\"]],\"type\":\"heatmap\"}],\"histogram2dcontour\":[{\"colorbar\":{\"outlinewidth\":0,\"ticks\":\"\"},\"colorscale\":[[0.0,\"#0d0887\"],[0.1111111111111111,\"#46039f\"],[0.2222222222222222,\"#7201a8\"],[0.3333333333333333,\"#9c179e\"],[0.4444444444444444,\"#bd3786\"],[0.5555555555555556,\"#d8576b\"],[0.6666666666666666,\"#ed7953\"],[0.7777777777777778,\"#fb9f3a\"],[0.8888888888888888,\"#fdca26\"],[1.0,\"#f0f921\"]],\"type\":\"histogram2dcontour\"}],\"histogram2d\":[{\"colorbar\":{\"outlinewidth\":0,\"ticks\":\"\"},\"colorscale\":[[0.0,\"#0d0887\"],[0.1111111111111111,\"#46039f\"],[0.2222222222222222,\"#7201a8\"],[0.3333333333333333,\"#9c179e\"],[0.4444444444444444,\"#bd3786\"],[0.5555555555555556,\"#d8576b\"],[0.6666666666666666,\"#ed7953\"],[0.7777777777777778,\"#fb9f3a\"],[0.8888888888888888,\"#fdca26\"],[1.0,\"#f0f921\"]],\"type\":\"histogram2d\"}],\"histogram\":[{\"marker\":{\"pattern\":{\"fillmode\":\"overlay\",\"size\":10,\"solidity\":0.2}},\"type\":\"histogram\"}],\"mesh3d\":[{\"colorbar\":{\"outlinewidth\":0,\"ticks\":\"\"},\"type\":\"mesh3d\"}],\"parcoords\":[{\"line\":{\"colorbar\":{\"outlinewidth\":0,\"ticks\":\"\"}},\"type\":\"parcoords\"}],\"pie\":[{\"automargin\":true,\"type\":\"pie\"}],\"scatter3d\":[{\"line\":{\"colorbar\":{\"outlinewidth\":0,\"ticks\":\"\"}},\"marker\":{\"colorbar\":{\"outlinewidth\":0,\"ticks\":\"\"}},\"type\":\"scatter3d\"}],\"scattercarpet\":[{\"marker\":{\"colorbar\":{\"outlinewidth\":0,\"ticks\":\"\"}},\"type\":\"scattercarpet\"}],\"scattergeo\":[{\"marker\":{\"colorbar\":{\"outlinewidth\":0,\"ticks\":\"\"}},\"type\":\"scattergeo\"}],\"scattergl\":[{\"marker\":{\"colorbar\":{\"outlinewidth\":0,\"ticks\":\"\"}},\"type\":\"scattergl\"}],\"scattermapbox\":[{\"marker\":{\"colorbar\":{\"outlinewidth\":0,\"ticks\":\"\"}},\"type\":\"scattermapbox\"}],\"scatterpolargl\":[{\"marker\":{\"colorbar\":{\"outlinewidth\":0,\"ticks\":\"\"}},\"type\":\"scatterpolargl\"}],\"scatterpolar\":[{\"marker\":{\"colorbar\":{\"outlinewidth\":0,\"ticks\":\"\"}},\"type\":\"scatterpolar\"}],\"scatter\":[{\"fillpattern\":{\"fillmode\":\"overlay\",\"size\":10,\"solidity\":0.2},\"type\":\"scatter\"}],\"scatterternary\":[{\"marker\":{\"colorbar\":{\"outlinewidth\":0,\"ticks\":\"\"}},\"type\":\"scatterternary\"}],\"surface\":[{\"colorbar\":{\"outlinewidth\":0,\"ticks\":\"\"},\"colorscale\":[[0.0,\"#0d0887\"],[0.1111111111111111,\"#46039f\"],[0.2222222222222222,\"#7201a8\"],[0.3333333333333333,\"#9c179e\"],[0.4444444444444444,\"#bd3786\"],[0.5555555555555556,\"#d8576b\"],[0.6666666666666666,\"#ed7953\"],[0.7777777777777778,\"#fb9f3a\"],[0.8888888888888888,\"#fdca26\"],[1.0,\"#f0f921\"]],\"type\":\"surface\"}],\"table\":[{\"cells\":{\"fill\":{\"color\":\"#EBF0F8\"},\"line\":{\"color\":\"white\"}},\"header\":{\"fill\":{\"color\":\"#C8D4E3\"},\"line\":{\"color\":\"white\"}},\"type\":\"table\"}]},\"layout\":{\"annotationdefaults\":{\"arrowcolor\":\"#2a3f5f\",\"arrowhead\":0,\"arrowwidth\":1},\"autotypenumbers\":\"strict\",\"coloraxis\":{\"colorbar\":{\"outlinewidth\":0,\"ticks\":\"\"}},\"colorscale\":{\"diverging\":[[0,\"#8e0152\"],[0.1,\"#c51b7d\"],[0.2,\"#de77ae\"],[0.3,\"#f1b6da\"],[0.4,\"#fde0ef\"],[0.5,\"#f7f7f7\"],[0.6,\"#e6f5d0\"],[0.7,\"#b8e186\"],[0.8,\"#7fbc41\"],[0.9,\"#4d9221\"],[1,\"#276419\"]],\"sequential\":[[0.0,\"#0d0887\"],[0.1111111111111111,\"#46039f\"],[0.2222222222222222,\"#7201a8\"],[0.3333333333333333,\"#9c179e\"],[0.4444444444444444,\"#bd3786\"],[0.5555555555555556,\"#d8576b\"],[0.6666666666666666,\"#ed7953\"],[0.7777777777777778,\"#fb9f3a\"],[0.8888888888888888,\"#fdca26\"],[1.0,\"#f0f921\"]],\"sequentialminus\":[[0.0,\"#0d0887\"],[0.1111111111111111,\"#46039f\"],[0.2222222222222222,\"#7201a8\"],[0.3333333333333333,\"#9c179e\"],[0.4444444444444444,\"#bd3786\"],[0.5555555555555556,\"#d8576b\"],[0.6666666666666666,\"#ed7953\"],[0.7777777777777778,\"#fb9f3a\"],[0.8888888888888888,\"#fdca26\"],[1.0,\"#f0f921\"]]},\"colorway\":[\"#636efa\",\"#EF553B\",\"#00cc96\",\"#ab63fa\",\"#FFA15A\",\"#19d3f3\",\"#FF6692\",\"#B6E880\",\"#FF97FF\",\"#FECB52\"],\"font\":{\"color\":\"#2a3f5f\"},\"geo\":{\"bgcolor\":\"white\",\"lakecolor\":\"white\",\"landcolor\":\"#E5ECF6\",\"showlakes\":true,\"showland\":true,\"subunitcolor\":\"white\"},\"hoverlabel\":{\"align\":\"left\"},\"hovermode\":\"closest\",\"mapbox\":{\"style\":\"light\"},\"paper_bgcolor\":\"white\",\"plot_bgcolor\":\"#E5ECF6\",\"polar\":{\"angularaxis\":{\"gridcolor\":\"white\",\"linecolor\":\"white\",\"ticks\":\"\"},\"bgcolor\":\"#E5ECF6\",\"radialaxis\":{\"gridcolor\":\"white\",\"linecolor\":\"white\",\"ticks\":\"\"}},\"scene\":{\"xaxis\":{\"backgroundcolor\":\"#E5ECF6\",\"gridcolor\":\"white\",\"gridwidth\":2,\"linecolor\":\"white\",\"showbackground\":true,\"ticks\":\"\",\"zerolinecolor\":\"white\"},\"yaxis\":{\"backgroundcolor\":\"#E5ECF6\",\"gridcolor\":\"white\",\"gridwidth\":2,\"linecolor\":\"white\",\"showbackground\":true,\"ticks\":\"\",\"zerolinecolor\":\"white\"},\"zaxis\":{\"backgroundcolor\":\"#E5ECF6\",\"gridcolor\":\"white\",\"gridwidth\":2,\"linecolor\":\"white\",\"showbackground\":true,\"ticks\":\"\",\"zerolinecolor\":\"white\"}},\"shapedefaults\":{\"line\":{\"color\":\"#2a3f5f\"}},\"ternary\":{\"aaxis\":{\"gridcolor\":\"white\",\"linecolor\":\"white\",\"ticks\":\"\"},\"baxis\":{\"gridcolor\":\"white\",\"linecolor\":\"white\",\"ticks\":\"\"},\"bgcolor\":\"#E5ECF6\",\"caxis\":{\"gridcolor\":\"white\",\"linecolor\":\"white\",\"ticks\":\"\"}},\"title\":{\"x\":0.05},\"xaxis\":{\"automargin\":true,\"gridcolor\":\"white\",\"linecolor\":\"white\",\"ticks\":\"\",\"title\":{\"standoff\":15},\"zerolinecolor\":\"white\",\"zerolinewidth\":2},\"yaxis\":{\"automargin\":true,\"gridcolor\":\"white\",\"linecolor\":\"white\",\"ticks\":\"\",\"title\":{\"standoff\":15},\"zerolinecolor\":\"white\",\"zerolinewidth\":2}}},\"title\":{\"font\":{\"color\":\"#4D5663\"}},\"xaxis\":{\"gridcolor\":\"#E1E5ED\",\"showgrid\":true,\"tickfont\":{\"color\":\"#4D5663\"},\"title\":{\"font\":{\"color\":\"#4D5663\"},\"text\":\"\"},\"zerolinecolor\":\"#E1E5ED\"},\"yaxis\":{\"gridcolor\":\"#E1E5ED\",\"showgrid\":true,\"tickfont\":{\"color\":\"#4D5663\"},\"title\":{\"font\":{\"color\":\"#4D5663\"},\"text\":\"\"},\"zerolinecolor\":\"#E1E5ED\"}},                        {\"showLink\": true, \"linkText\": \"Export to plot.ly\", \"plotlyServerURL\": \"https://plot.ly\", \"responsive\": true}                    ).then(function(){\n",
       "                            \n",
       "var gd = document.getElementById('40fa8662-96c7-46b7-b801-957df36c0a6a');\n",
       "var x = new MutationObserver(function (mutations, observer) {{\n",
       "        var display = window.getComputedStyle(gd).display;\n",
       "        if (!display || display === 'none') {{\n",
       "            console.log([gd, 'removed!']);\n",
       "            Plotly.purge(gd);\n",
       "            observer.disconnect();\n",
       "        }}\n",
       "}});\n",
       "\n",
       "// Listen for the removal of the full notebook cells\n",
       "var notebookContainer = gd.closest('#notebook-container');\n",
       "if (notebookContainer) {{\n",
       "    x.observe(notebookContainer, {childList: true});\n",
       "}}\n",
       "\n",
       "// Listen for the clearing of the current output cell\n",
       "var outputEl = gd.closest('.output');\n",
       "if (outputEl) {{\n",
       "    x.observe(outputEl, {childList: true});\n",
       "}}\n",
       "\n",
       "                        })                };                });            </script>        </div>"
      ]
     },
     "metadata": {},
     "output_type": "display_data"
    }
   ],
   "source": [
    "# Based on the year which team was the winner\n",
    "df3[['Runners-Up']].iplot(kind='bar')"
   ]
  },
  {
   "cell_type": "markdown",
   "metadata": {},
   "source": [
    "From the above we can see that France was runner for the most sof the time"
   ]
  },
  {
   "cell_type": "code",
   "execution_count": 144,
   "metadata": {},
   "outputs": [
    {
     "data": {
      "text/html": [
       "<div>\n",
       "<style scoped>\n",
       "    .dataframe tbody tr th:only-of-type {\n",
       "        vertical-align: middle;\n",
       "    }\n",
       "\n",
       "    .dataframe tbody tr th {\n",
       "        vertical-align: top;\n",
       "    }\n",
       "\n",
       "    .dataframe thead th {\n",
       "        text-align: right;\n",
       "    }\n",
       "</style>\n",
       "<table border=\"1\" class=\"dataframe\">\n",
       "  <thead>\n",
       "    <tr style=\"text-align: right;\">\n",
       "      <th></th>\n",
       "      <th>Year</th>\n",
       "      <th>Country</th>\n",
       "      <th>Winner</th>\n",
       "      <th>Runners-Up</th>\n",
       "      <th>Third</th>\n",
       "      <th>Fourth</th>\n",
       "      <th>GoalsScored</th>\n",
       "      <th>QualifiedTeams</th>\n",
       "      <th>MatchesPlayed</th>\n",
       "      <th>Attendance</th>\n",
       "    </tr>\n",
       "  </thead>\n",
       "  <tbody>\n",
       "    <tr>\n",
       "      <th>0</th>\n",
       "      <td>1930</td>\n",
       "      <td>Uruguay</td>\n",
       "      <td>Uruguay</td>\n",
       "      <td>Argentina</td>\n",
       "      <td>USA</td>\n",
       "      <td>Yugoslavia</td>\n",
       "      <td>70</td>\n",
       "      <td>13</td>\n",
       "      <td>18</td>\n",
       "      <td>590.549</td>\n",
       "    </tr>\n",
       "    <tr>\n",
       "      <th>1</th>\n",
       "      <td>1934</td>\n",
       "      <td>Italy</td>\n",
       "      <td>Italy</td>\n",
       "      <td>Czechoslovakia</td>\n",
       "      <td>Germany</td>\n",
       "      <td>Austria</td>\n",
       "      <td>70</td>\n",
       "      <td>16</td>\n",
       "      <td>17</td>\n",
       "      <td>363.000</td>\n",
       "    </tr>\n",
       "    <tr>\n",
       "      <th>2</th>\n",
       "      <td>1938</td>\n",
       "      <td>France</td>\n",
       "      <td>Italy</td>\n",
       "      <td>Hungary</td>\n",
       "      <td>Brazil</td>\n",
       "      <td>Sweden</td>\n",
       "      <td>84</td>\n",
       "      <td>15</td>\n",
       "      <td>18</td>\n",
       "      <td>375.700</td>\n",
       "    </tr>\n",
       "    <tr>\n",
       "      <th>3</th>\n",
       "      <td>1950</td>\n",
       "      <td>Brazil</td>\n",
       "      <td>Uruguay</td>\n",
       "      <td>Brazil</td>\n",
       "      <td>Sweden</td>\n",
       "      <td>Spain</td>\n",
       "      <td>88</td>\n",
       "      <td>13</td>\n",
       "      <td>22</td>\n",
       "      <td>1.045.246</td>\n",
       "    </tr>\n",
       "    <tr>\n",
       "      <th>4</th>\n",
       "      <td>1954</td>\n",
       "      <td>Switzerland</td>\n",
       "      <td>Germany FR</td>\n",
       "      <td>Hungary</td>\n",
       "      <td>Austria</td>\n",
       "      <td>Uruguay</td>\n",
       "      <td>140</td>\n",
       "      <td>16</td>\n",
       "      <td>26</td>\n",
       "      <td>768.607</td>\n",
       "    </tr>\n",
       "  </tbody>\n",
       "</table>\n",
       "</div>"
      ],
      "text/plain": [
       "   Year      Country      Winner      Runners-Up    Third      Fourth  \\\n",
       "0  1930      Uruguay     Uruguay       Argentina      USA  Yugoslavia   \n",
       "1  1934        Italy       Italy  Czechoslovakia  Germany     Austria   \n",
       "2  1938       France       Italy         Hungary   Brazil      Sweden   \n",
       "3  1950       Brazil     Uruguay          Brazil   Sweden       Spain   \n",
       "4  1954  Switzerland  Germany FR         Hungary  Austria     Uruguay   \n",
       "\n",
       "   GoalsScored  QualifiedTeams  MatchesPlayed Attendance  \n",
       "0           70              13             18    590.549  \n",
       "1           70              16             17    363.000  \n",
       "2           84              15             18    375.700  \n",
       "3           88              13             22  1.045.246  \n",
       "4          140              16             26    768.607  "
      ]
     },
     "execution_count": 144,
     "metadata": {},
     "output_type": "execute_result"
    }
   ],
   "source": [
    "df3.head()"
   ]
  },
  {
   "cell_type": "code",
   "execution_count": 150,
   "metadata": {},
   "outputs": [
    {
     "data": {
      "application/vnd.plotly.v1+json": {
       "config": {
        "plotlyServerURL": "https://plot.ly"
       },
       "data": [
        {
         "hovertemplate": "Country=Uruguay<br>Year=%{x}<br>GoalsScored=%{y}<extra></extra>",
         "legendgroup": "Uruguay",
         "marker": {
          "color": "#636efa",
          "symbol": "circle"
         },
         "mode": "markers",
         "name": "Uruguay",
         "orientation": "v",
         "showlegend": true,
         "type": "scatter",
         "x": [
          1930
         ],
         "xaxis": "x",
         "y": [
          70
         ],
         "yaxis": "y"
        },
        {
         "hovertemplate": "Country=Italy<br>Year=%{x}<br>GoalsScored=%{y}<extra></extra>",
         "legendgroup": "Italy",
         "marker": {
          "color": "#EF553B",
          "symbol": "circle"
         },
         "mode": "markers",
         "name": "Italy",
         "orientation": "v",
         "showlegend": true,
         "type": "scatter",
         "x": [
          1934,
          1990
         ],
         "xaxis": "x",
         "y": [
          70,
          115
         ],
         "yaxis": "y"
        },
        {
         "hovertemplate": "Country=France<br>Year=%{x}<br>GoalsScored=%{y}<extra></extra>",
         "legendgroup": "France",
         "marker": {
          "color": "#00cc96",
          "symbol": "circle"
         },
         "mode": "markers",
         "name": "France",
         "orientation": "v",
         "showlegend": true,
         "type": "scatter",
         "x": [
          1938,
          1998
         ],
         "xaxis": "x",
         "y": [
          84,
          171
         ],
         "yaxis": "y"
        },
        {
         "hovertemplate": "Country=Brazil<br>Year=%{x}<br>GoalsScored=%{y}<extra></extra>",
         "legendgroup": "Brazil",
         "marker": {
          "color": "#ab63fa",
          "symbol": "circle"
         },
         "mode": "markers",
         "name": "Brazil",
         "orientation": "v",
         "showlegend": true,
         "type": "scatter",
         "x": [
          1950,
          2014
         ],
         "xaxis": "x",
         "y": [
          88,
          171
         ],
         "yaxis": "y"
        },
        {
         "hovertemplate": "Country=Switzerland<br>Year=%{x}<br>GoalsScored=%{y}<extra></extra>",
         "legendgroup": "Switzerland",
         "marker": {
          "color": "#FFA15A",
          "symbol": "circle"
         },
         "mode": "markers",
         "name": "Switzerland",
         "orientation": "v",
         "showlegend": true,
         "type": "scatter",
         "x": [
          1954
         ],
         "xaxis": "x",
         "y": [
          140
         ],
         "yaxis": "y"
        },
        {
         "hovertemplate": "Country=Sweden<br>Year=%{x}<br>GoalsScored=%{y}<extra></extra>",
         "legendgroup": "Sweden",
         "marker": {
          "color": "#19d3f3",
          "symbol": "circle"
         },
         "mode": "markers",
         "name": "Sweden",
         "orientation": "v",
         "showlegend": true,
         "type": "scatter",
         "x": [
          1958
         ],
         "xaxis": "x",
         "y": [
          126
         ],
         "yaxis": "y"
        },
        {
         "hovertemplate": "Country=Chile<br>Year=%{x}<br>GoalsScored=%{y}<extra></extra>",
         "legendgroup": "Chile",
         "marker": {
          "color": "#FF6692",
          "symbol": "circle"
         },
         "mode": "markers",
         "name": "Chile",
         "orientation": "v",
         "showlegend": true,
         "type": "scatter",
         "x": [
          1962
         ],
         "xaxis": "x",
         "y": [
          89
         ],
         "yaxis": "y"
        },
        {
         "hovertemplate": "Country=England<br>Year=%{x}<br>GoalsScored=%{y}<extra></extra>",
         "legendgroup": "England",
         "marker": {
          "color": "#B6E880",
          "symbol": "circle"
         },
         "mode": "markers",
         "name": "England",
         "orientation": "v",
         "showlegend": true,
         "type": "scatter",
         "x": [
          1966
         ],
         "xaxis": "x",
         "y": [
          89
         ],
         "yaxis": "y"
        },
        {
         "hovertemplate": "Country=Mexico<br>Year=%{x}<br>GoalsScored=%{y}<extra></extra>",
         "legendgroup": "Mexico",
         "marker": {
          "color": "#FF97FF",
          "symbol": "circle"
         },
         "mode": "markers",
         "name": "Mexico",
         "orientation": "v",
         "showlegend": true,
         "type": "scatter",
         "x": [
          1970,
          1986
         ],
         "xaxis": "x",
         "y": [
          95,
          132
         ],
         "yaxis": "y"
        },
        {
         "hovertemplate": "Country=Germany<br>Year=%{x}<br>GoalsScored=%{y}<extra></extra>",
         "legendgroup": "Germany",
         "marker": {
          "color": "#FECB52",
          "symbol": "circle"
         },
         "mode": "markers",
         "name": "Germany",
         "orientation": "v",
         "showlegend": true,
         "type": "scatter",
         "x": [
          1974,
          2006
         ],
         "xaxis": "x",
         "y": [
          97,
          147
         ],
         "yaxis": "y"
        },
        {
         "hovertemplate": "Country=Argentina<br>Year=%{x}<br>GoalsScored=%{y}<extra></extra>",
         "legendgroup": "Argentina",
         "marker": {
          "color": "#636efa",
          "symbol": "circle"
         },
         "mode": "markers",
         "name": "Argentina",
         "orientation": "v",
         "showlegend": true,
         "type": "scatter",
         "x": [
          1978
         ],
         "xaxis": "x",
         "y": [
          102
         ],
         "yaxis": "y"
        },
        {
         "hovertemplate": "Country=Spain<br>Year=%{x}<br>GoalsScored=%{y}<extra></extra>",
         "legendgroup": "Spain",
         "marker": {
          "color": "#EF553B",
          "symbol": "circle"
         },
         "mode": "markers",
         "name": "Spain",
         "orientation": "v",
         "showlegend": true,
         "type": "scatter",
         "x": [
          1982
         ],
         "xaxis": "x",
         "y": [
          146
         ],
         "yaxis": "y"
        },
        {
         "hovertemplate": "Country=USA<br>Year=%{x}<br>GoalsScored=%{y}<extra></extra>",
         "legendgroup": "USA",
         "marker": {
          "color": "#00cc96",
          "symbol": "circle"
         },
         "mode": "markers",
         "name": "USA",
         "orientation": "v",
         "showlegend": true,
         "type": "scatter",
         "x": [
          1994
         ],
         "xaxis": "x",
         "y": [
          141
         ],
         "yaxis": "y"
        },
        {
         "hovertemplate": "Country=Korea/Japan<br>Year=%{x}<br>GoalsScored=%{y}<extra></extra>",
         "legendgroup": "Korea/Japan",
         "marker": {
          "color": "#ab63fa",
          "symbol": "circle"
         },
         "mode": "markers",
         "name": "Korea/Japan",
         "orientation": "v",
         "showlegend": true,
         "type": "scatter",
         "x": [
          2002
         ],
         "xaxis": "x",
         "y": [
          161
         ],
         "yaxis": "y"
        },
        {
         "hovertemplate": "Country=South Africa<br>Year=%{x}<br>GoalsScored=%{y}<extra></extra>",
         "legendgroup": "South Africa",
         "marker": {
          "color": "#FFA15A",
          "symbol": "circle"
         },
         "mode": "markers",
         "name": "South Africa",
         "orientation": "v",
         "showlegend": true,
         "type": "scatter",
         "x": [
          2010
         ],
         "xaxis": "x",
         "y": [
          145
         ],
         "yaxis": "y"
        }
       ],
       "layout": {
        "legend": {
         "title": {
          "text": "Country"
         },
         "tracegroupgap": 0
        },
        "margin": {
         "t": 60
        },
        "template": {
         "data": {
          "bar": [
           {
            "error_x": {
             "color": "#2a3f5f"
            },
            "error_y": {
             "color": "#2a3f5f"
            },
            "marker": {
             "line": {
              "color": "#E5ECF6",
              "width": 0.5
             },
             "pattern": {
              "fillmode": "overlay",
              "size": 10,
              "solidity": 0.2
             }
            },
            "type": "bar"
           }
          ],
          "barpolar": [
           {
            "marker": {
             "line": {
              "color": "#E5ECF6",
              "width": 0.5
             },
             "pattern": {
              "fillmode": "overlay",
              "size": 10,
              "solidity": 0.2
             }
            },
            "type": "barpolar"
           }
          ],
          "carpet": [
           {
            "aaxis": {
             "endlinecolor": "#2a3f5f",
             "gridcolor": "white",
             "linecolor": "white",
             "minorgridcolor": "white",
             "startlinecolor": "#2a3f5f"
            },
            "baxis": {
             "endlinecolor": "#2a3f5f",
             "gridcolor": "white",
             "linecolor": "white",
             "minorgridcolor": "white",
             "startlinecolor": "#2a3f5f"
            },
            "type": "carpet"
           }
          ],
          "choropleth": [
           {
            "colorbar": {
             "outlinewidth": 0,
             "ticks": ""
            },
            "type": "choropleth"
           }
          ],
          "contour": [
           {
            "colorbar": {
             "outlinewidth": 0,
             "ticks": ""
            },
            "colorscale": [
             [
              0,
              "#0d0887"
             ],
             [
              0.1111111111111111,
              "#46039f"
             ],
             [
              0.2222222222222222,
              "#7201a8"
             ],
             [
              0.3333333333333333,
              "#9c179e"
             ],
             [
              0.4444444444444444,
              "#bd3786"
             ],
             [
              0.5555555555555556,
              "#d8576b"
             ],
             [
              0.6666666666666666,
              "#ed7953"
             ],
             [
              0.7777777777777778,
              "#fb9f3a"
             ],
             [
              0.8888888888888888,
              "#fdca26"
             ],
             [
              1,
              "#f0f921"
             ]
            ],
            "type": "contour"
           }
          ],
          "contourcarpet": [
           {
            "colorbar": {
             "outlinewidth": 0,
             "ticks": ""
            },
            "type": "contourcarpet"
           }
          ],
          "heatmap": [
           {
            "colorbar": {
             "outlinewidth": 0,
             "ticks": ""
            },
            "colorscale": [
             [
              0,
              "#0d0887"
             ],
             [
              0.1111111111111111,
              "#46039f"
             ],
             [
              0.2222222222222222,
              "#7201a8"
             ],
             [
              0.3333333333333333,
              "#9c179e"
             ],
             [
              0.4444444444444444,
              "#bd3786"
             ],
             [
              0.5555555555555556,
              "#d8576b"
             ],
             [
              0.6666666666666666,
              "#ed7953"
             ],
             [
              0.7777777777777778,
              "#fb9f3a"
             ],
             [
              0.8888888888888888,
              "#fdca26"
             ],
             [
              1,
              "#f0f921"
             ]
            ],
            "type": "heatmap"
           }
          ],
          "heatmapgl": [
           {
            "colorbar": {
             "outlinewidth": 0,
             "ticks": ""
            },
            "colorscale": [
             [
              0,
              "#0d0887"
             ],
             [
              0.1111111111111111,
              "#46039f"
             ],
             [
              0.2222222222222222,
              "#7201a8"
             ],
             [
              0.3333333333333333,
              "#9c179e"
             ],
             [
              0.4444444444444444,
              "#bd3786"
             ],
             [
              0.5555555555555556,
              "#d8576b"
             ],
             [
              0.6666666666666666,
              "#ed7953"
             ],
             [
              0.7777777777777778,
              "#fb9f3a"
             ],
             [
              0.8888888888888888,
              "#fdca26"
             ],
             [
              1,
              "#f0f921"
             ]
            ],
            "type": "heatmapgl"
           }
          ],
          "histogram": [
           {
            "marker": {
             "pattern": {
              "fillmode": "overlay",
              "size": 10,
              "solidity": 0.2
             }
            },
            "type": "histogram"
           }
          ],
          "histogram2d": [
           {
            "colorbar": {
             "outlinewidth": 0,
             "ticks": ""
            },
            "colorscale": [
             [
              0,
              "#0d0887"
             ],
             [
              0.1111111111111111,
              "#46039f"
             ],
             [
              0.2222222222222222,
              "#7201a8"
             ],
             [
              0.3333333333333333,
              "#9c179e"
             ],
             [
              0.4444444444444444,
              "#bd3786"
             ],
             [
              0.5555555555555556,
              "#d8576b"
             ],
             [
              0.6666666666666666,
              "#ed7953"
             ],
             [
              0.7777777777777778,
              "#fb9f3a"
             ],
             [
              0.8888888888888888,
              "#fdca26"
             ],
             [
              1,
              "#f0f921"
             ]
            ],
            "type": "histogram2d"
           }
          ],
          "histogram2dcontour": [
           {
            "colorbar": {
             "outlinewidth": 0,
             "ticks": ""
            },
            "colorscale": [
             [
              0,
              "#0d0887"
             ],
             [
              0.1111111111111111,
              "#46039f"
             ],
             [
              0.2222222222222222,
              "#7201a8"
             ],
             [
              0.3333333333333333,
              "#9c179e"
             ],
             [
              0.4444444444444444,
              "#bd3786"
             ],
             [
              0.5555555555555556,
              "#d8576b"
             ],
             [
              0.6666666666666666,
              "#ed7953"
             ],
             [
              0.7777777777777778,
              "#fb9f3a"
             ],
             [
              0.8888888888888888,
              "#fdca26"
             ],
             [
              1,
              "#f0f921"
             ]
            ],
            "type": "histogram2dcontour"
           }
          ],
          "mesh3d": [
           {
            "colorbar": {
             "outlinewidth": 0,
             "ticks": ""
            },
            "type": "mesh3d"
           }
          ],
          "parcoords": [
           {
            "line": {
             "colorbar": {
              "outlinewidth": 0,
              "ticks": ""
             }
            },
            "type": "parcoords"
           }
          ],
          "pie": [
           {
            "automargin": true,
            "type": "pie"
           }
          ],
          "scatter": [
           {
            "fillpattern": {
             "fillmode": "overlay",
             "size": 10,
             "solidity": 0.2
            },
            "type": "scatter"
           }
          ],
          "scatter3d": [
           {
            "line": {
             "colorbar": {
              "outlinewidth": 0,
              "ticks": ""
             }
            },
            "marker": {
             "colorbar": {
              "outlinewidth": 0,
              "ticks": ""
             }
            },
            "type": "scatter3d"
           }
          ],
          "scattercarpet": [
           {
            "marker": {
             "colorbar": {
              "outlinewidth": 0,
              "ticks": ""
             }
            },
            "type": "scattercarpet"
           }
          ],
          "scattergeo": [
           {
            "marker": {
             "colorbar": {
              "outlinewidth": 0,
              "ticks": ""
             }
            },
            "type": "scattergeo"
           }
          ],
          "scattergl": [
           {
            "marker": {
             "colorbar": {
              "outlinewidth": 0,
              "ticks": ""
             }
            },
            "type": "scattergl"
           }
          ],
          "scattermapbox": [
           {
            "marker": {
             "colorbar": {
              "outlinewidth": 0,
              "ticks": ""
             }
            },
            "type": "scattermapbox"
           }
          ],
          "scatterpolar": [
           {
            "marker": {
             "colorbar": {
              "outlinewidth": 0,
              "ticks": ""
             }
            },
            "type": "scatterpolar"
           }
          ],
          "scatterpolargl": [
           {
            "marker": {
             "colorbar": {
              "outlinewidth": 0,
              "ticks": ""
             }
            },
            "type": "scatterpolargl"
           }
          ],
          "scatterternary": [
           {
            "marker": {
             "colorbar": {
              "outlinewidth": 0,
              "ticks": ""
             }
            },
            "type": "scatterternary"
           }
          ],
          "surface": [
           {
            "colorbar": {
             "outlinewidth": 0,
             "ticks": ""
            },
            "colorscale": [
             [
              0,
              "#0d0887"
             ],
             [
              0.1111111111111111,
              "#46039f"
             ],
             [
              0.2222222222222222,
              "#7201a8"
             ],
             [
              0.3333333333333333,
              "#9c179e"
             ],
             [
              0.4444444444444444,
              "#bd3786"
             ],
             [
              0.5555555555555556,
              "#d8576b"
             ],
             [
              0.6666666666666666,
              "#ed7953"
             ],
             [
              0.7777777777777778,
              "#fb9f3a"
             ],
             [
              0.8888888888888888,
              "#fdca26"
             ],
             [
              1,
              "#f0f921"
             ]
            ],
            "type": "surface"
           }
          ],
          "table": [
           {
            "cells": {
             "fill": {
              "color": "#EBF0F8"
             },
             "line": {
              "color": "white"
             }
            },
            "header": {
             "fill": {
              "color": "#C8D4E3"
             },
             "line": {
              "color": "white"
             }
            },
            "type": "table"
           }
          ]
         },
         "layout": {
          "annotationdefaults": {
           "arrowcolor": "#2a3f5f",
           "arrowhead": 0,
           "arrowwidth": 1
          },
          "autotypenumbers": "strict",
          "coloraxis": {
           "colorbar": {
            "outlinewidth": 0,
            "ticks": ""
           }
          },
          "colorscale": {
           "diverging": [
            [
             0,
             "#8e0152"
            ],
            [
             0.1,
             "#c51b7d"
            ],
            [
             0.2,
             "#de77ae"
            ],
            [
             0.3,
             "#f1b6da"
            ],
            [
             0.4,
             "#fde0ef"
            ],
            [
             0.5,
             "#f7f7f7"
            ],
            [
             0.6,
             "#e6f5d0"
            ],
            [
             0.7,
             "#b8e186"
            ],
            [
             0.8,
             "#7fbc41"
            ],
            [
             0.9,
             "#4d9221"
            ],
            [
             1,
             "#276419"
            ]
           ],
           "sequential": [
            [
             0,
             "#0d0887"
            ],
            [
             0.1111111111111111,
             "#46039f"
            ],
            [
             0.2222222222222222,
             "#7201a8"
            ],
            [
             0.3333333333333333,
             "#9c179e"
            ],
            [
             0.4444444444444444,
             "#bd3786"
            ],
            [
             0.5555555555555556,
             "#d8576b"
            ],
            [
             0.6666666666666666,
             "#ed7953"
            ],
            [
             0.7777777777777778,
             "#fb9f3a"
            ],
            [
             0.8888888888888888,
             "#fdca26"
            ],
            [
             1,
             "#f0f921"
            ]
           ],
           "sequentialminus": [
            [
             0,
             "#0d0887"
            ],
            [
             0.1111111111111111,
             "#46039f"
            ],
            [
             0.2222222222222222,
             "#7201a8"
            ],
            [
             0.3333333333333333,
             "#9c179e"
            ],
            [
             0.4444444444444444,
             "#bd3786"
            ],
            [
             0.5555555555555556,
             "#d8576b"
            ],
            [
             0.6666666666666666,
             "#ed7953"
            ],
            [
             0.7777777777777778,
             "#fb9f3a"
            ],
            [
             0.8888888888888888,
             "#fdca26"
            ],
            [
             1,
             "#f0f921"
            ]
           ]
          },
          "colorway": [
           "#636efa",
           "#EF553B",
           "#00cc96",
           "#ab63fa",
           "#FFA15A",
           "#19d3f3",
           "#FF6692",
           "#B6E880",
           "#FF97FF",
           "#FECB52"
          ],
          "font": {
           "color": "#2a3f5f"
          },
          "geo": {
           "bgcolor": "white",
           "lakecolor": "white",
           "landcolor": "#E5ECF6",
           "showlakes": true,
           "showland": true,
           "subunitcolor": "white"
          },
          "hoverlabel": {
           "align": "left"
          },
          "hovermode": "closest",
          "mapbox": {
           "style": "light"
          },
          "paper_bgcolor": "white",
          "plot_bgcolor": "#E5ECF6",
          "polar": {
           "angularaxis": {
            "gridcolor": "white",
            "linecolor": "white",
            "ticks": ""
           },
           "bgcolor": "#E5ECF6",
           "radialaxis": {
            "gridcolor": "white",
            "linecolor": "white",
            "ticks": ""
           }
          },
          "scene": {
           "xaxis": {
            "backgroundcolor": "#E5ECF6",
            "gridcolor": "white",
            "gridwidth": 2,
            "linecolor": "white",
            "showbackground": true,
            "ticks": "",
            "zerolinecolor": "white"
           },
           "yaxis": {
            "backgroundcolor": "#E5ECF6",
            "gridcolor": "white",
            "gridwidth": 2,
            "linecolor": "white",
            "showbackground": true,
            "ticks": "",
            "zerolinecolor": "white"
           },
           "zaxis": {
            "backgroundcolor": "#E5ECF6",
            "gridcolor": "white",
            "gridwidth": 2,
            "linecolor": "white",
            "showbackground": true,
            "ticks": "",
            "zerolinecolor": "white"
           }
          },
          "shapedefaults": {
           "line": {
            "color": "#2a3f5f"
           }
          },
          "ternary": {
           "aaxis": {
            "gridcolor": "white",
            "linecolor": "white",
            "ticks": ""
           },
           "baxis": {
            "gridcolor": "white",
            "linecolor": "white",
            "ticks": ""
           },
           "bgcolor": "#E5ECF6",
           "caxis": {
            "gridcolor": "white",
            "linecolor": "white",
            "ticks": ""
           }
          },
          "title": {
           "x": 0.05
          },
          "xaxis": {
           "automargin": true,
           "gridcolor": "white",
           "linecolor": "white",
           "ticks": "",
           "title": {
            "standoff": 15
           },
           "zerolinecolor": "white",
           "zerolinewidth": 2
          },
          "yaxis": {
           "automargin": true,
           "gridcolor": "white",
           "linecolor": "white",
           "ticks": "",
           "title": {
            "standoff": 15
           },
           "zerolinecolor": "white",
           "zerolinewidth": 2
          }
         }
        },
        "xaxis": {
         "anchor": "y",
         "domain": [
          0,
          1
         ],
         "title": {
          "text": "Year"
         }
        },
        "yaxis": {
         "anchor": "x",
         "domain": [
          0,
          1
         ],
         "title": {
          "text": "GoalsScored"
         }
        }
       }
      },
      "text/html": [
       "<div>                            <div id=\"2386a3d9-ed98-4f50-ac70-2a6f93dbd932\" class=\"plotly-graph-div\" style=\"height:525px; width:100%;\"></div>            <script type=\"text/javascript\">                require([\"plotly\"], function(Plotly) {                    window.PLOTLYENV=window.PLOTLYENV || {};                                    if (document.getElementById(\"2386a3d9-ed98-4f50-ac70-2a6f93dbd932\")) {                    Plotly.newPlot(                        \"2386a3d9-ed98-4f50-ac70-2a6f93dbd932\",                        [{\"hovertemplate\":\"Country=Uruguay<br>Year=%{x}<br>GoalsScored=%{y}<extra></extra>\",\"legendgroup\":\"Uruguay\",\"marker\":{\"color\":\"#636efa\",\"symbol\":\"circle\"},\"mode\":\"markers\",\"name\":\"Uruguay\",\"orientation\":\"v\",\"showlegend\":true,\"x\":[1930],\"xaxis\":\"x\",\"y\":[70],\"yaxis\":\"y\",\"type\":\"scatter\"},{\"hovertemplate\":\"Country=Italy<br>Year=%{x}<br>GoalsScored=%{y}<extra></extra>\",\"legendgroup\":\"Italy\",\"marker\":{\"color\":\"#EF553B\",\"symbol\":\"circle\"},\"mode\":\"markers\",\"name\":\"Italy\",\"orientation\":\"v\",\"showlegend\":true,\"x\":[1934,1990],\"xaxis\":\"x\",\"y\":[70,115],\"yaxis\":\"y\",\"type\":\"scatter\"},{\"hovertemplate\":\"Country=France<br>Year=%{x}<br>GoalsScored=%{y}<extra></extra>\",\"legendgroup\":\"France\",\"marker\":{\"color\":\"#00cc96\",\"symbol\":\"circle\"},\"mode\":\"markers\",\"name\":\"France\",\"orientation\":\"v\",\"showlegend\":true,\"x\":[1938,1998],\"xaxis\":\"x\",\"y\":[84,171],\"yaxis\":\"y\",\"type\":\"scatter\"},{\"hovertemplate\":\"Country=Brazil<br>Year=%{x}<br>GoalsScored=%{y}<extra></extra>\",\"legendgroup\":\"Brazil\",\"marker\":{\"color\":\"#ab63fa\",\"symbol\":\"circle\"},\"mode\":\"markers\",\"name\":\"Brazil\",\"orientation\":\"v\",\"showlegend\":true,\"x\":[1950,2014],\"xaxis\":\"x\",\"y\":[88,171],\"yaxis\":\"y\",\"type\":\"scatter\"},{\"hovertemplate\":\"Country=Switzerland<br>Year=%{x}<br>GoalsScored=%{y}<extra></extra>\",\"legendgroup\":\"Switzerland\",\"marker\":{\"color\":\"#FFA15A\",\"symbol\":\"circle\"},\"mode\":\"markers\",\"name\":\"Switzerland\",\"orientation\":\"v\",\"showlegend\":true,\"x\":[1954],\"xaxis\":\"x\",\"y\":[140],\"yaxis\":\"y\",\"type\":\"scatter\"},{\"hovertemplate\":\"Country=Sweden<br>Year=%{x}<br>GoalsScored=%{y}<extra></extra>\",\"legendgroup\":\"Sweden\",\"marker\":{\"color\":\"#19d3f3\",\"symbol\":\"circle\"},\"mode\":\"markers\",\"name\":\"Sweden\",\"orientation\":\"v\",\"showlegend\":true,\"x\":[1958],\"xaxis\":\"x\",\"y\":[126],\"yaxis\":\"y\",\"type\":\"scatter\"},{\"hovertemplate\":\"Country=Chile<br>Year=%{x}<br>GoalsScored=%{y}<extra></extra>\",\"legendgroup\":\"Chile\",\"marker\":{\"color\":\"#FF6692\",\"symbol\":\"circle\"},\"mode\":\"markers\",\"name\":\"Chile\",\"orientation\":\"v\",\"showlegend\":true,\"x\":[1962],\"xaxis\":\"x\",\"y\":[89],\"yaxis\":\"y\",\"type\":\"scatter\"},{\"hovertemplate\":\"Country=England<br>Year=%{x}<br>GoalsScored=%{y}<extra></extra>\",\"legendgroup\":\"England\",\"marker\":{\"color\":\"#B6E880\",\"symbol\":\"circle\"},\"mode\":\"markers\",\"name\":\"England\",\"orientation\":\"v\",\"showlegend\":true,\"x\":[1966],\"xaxis\":\"x\",\"y\":[89],\"yaxis\":\"y\",\"type\":\"scatter\"},{\"hovertemplate\":\"Country=Mexico<br>Year=%{x}<br>GoalsScored=%{y}<extra></extra>\",\"legendgroup\":\"Mexico\",\"marker\":{\"color\":\"#FF97FF\",\"symbol\":\"circle\"},\"mode\":\"markers\",\"name\":\"Mexico\",\"orientation\":\"v\",\"showlegend\":true,\"x\":[1970,1986],\"xaxis\":\"x\",\"y\":[95,132],\"yaxis\":\"y\",\"type\":\"scatter\"},{\"hovertemplate\":\"Country=Germany<br>Year=%{x}<br>GoalsScored=%{y}<extra></extra>\",\"legendgroup\":\"Germany\",\"marker\":{\"color\":\"#FECB52\",\"symbol\":\"circle\"},\"mode\":\"markers\",\"name\":\"Germany\",\"orientation\":\"v\",\"showlegend\":true,\"x\":[1974,2006],\"xaxis\":\"x\",\"y\":[97,147],\"yaxis\":\"y\",\"type\":\"scatter\"},{\"hovertemplate\":\"Country=Argentina<br>Year=%{x}<br>GoalsScored=%{y}<extra></extra>\",\"legendgroup\":\"Argentina\",\"marker\":{\"color\":\"#636efa\",\"symbol\":\"circle\"},\"mode\":\"markers\",\"name\":\"Argentina\",\"orientation\":\"v\",\"showlegend\":true,\"x\":[1978],\"xaxis\":\"x\",\"y\":[102],\"yaxis\":\"y\",\"type\":\"scatter\"},{\"hovertemplate\":\"Country=Spain<br>Year=%{x}<br>GoalsScored=%{y}<extra></extra>\",\"legendgroup\":\"Spain\",\"marker\":{\"color\":\"#EF553B\",\"symbol\":\"circle\"},\"mode\":\"markers\",\"name\":\"Spain\",\"orientation\":\"v\",\"showlegend\":true,\"x\":[1982],\"xaxis\":\"x\",\"y\":[146],\"yaxis\":\"y\",\"type\":\"scatter\"},{\"hovertemplate\":\"Country=USA<br>Year=%{x}<br>GoalsScored=%{y}<extra></extra>\",\"legendgroup\":\"USA\",\"marker\":{\"color\":\"#00cc96\",\"symbol\":\"circle\"},\"mode\":\"markers\",\"name\":\"USA\",\"orientation\":\"v\",\"showlegend\":true,\"x\":[1994],\"xaxis\":\"x\",\"y\":[141],\"yaxis\":\"y\",\"type\":\"scatter\"},{\"hovertemplate\":\"Country=Korea/Japan<br>Year=%{x}<br>GoalsScored=%{y}<extra></extra>\",\"legendgroup\":\"Korea/Japan\",\"marker\":{\"color\":\"#ab63fa\",\"symbol\":\"circle\"},\"mode\":\"markers\",\"name\":\"Korea/Japan\",\"orientation\":\"v\",\"showlegend\":true,\"x\":[2002],\"xaxis\":\"x\",\"y\":[161],\"yaxis\":\"y\",\"type\":\"scatter\"},{\"hovertemplate\":\"Country=South Africa<br>Year=%{x}<br>GoalsScored=%{y}<extra></extra>\",\"legendgroup\":\"South Africa\",\"marker\":{\"color\":\"#FFA15A\",\"symbol\":\"circle\"},\"mode\":\"markers\",\"name\":\"South Africa\",\"orientation\":\"v\",\"showlegend\":true,\"x\":[2010],\"xaxis\":\"x\",\"y\":[145],\"yaxis\":\"y\",\"type\":\"scatter\"}],                        {\"template\":{\"data\":{\"histogram2dcontour\":[{\"type\":\"histogram2dcontour\",\"colorbar\":{\"outlinewidth\":0,\"ticks\":\"\"},\"colorscale\":[[0.0,\"#0d0887\"],[0.1111111111111111,\"#46039f\"],[0.2222222222222222,\"#7201a8\"],[0.3333333333333333,\"#9c179e\"],[0.4444444444444444,\"#bd3786\"],[0.5555555555555556,\"#d8576b\"],[0.6666666666666666,\"#ed7953\"],[0.7777777777777778,\"#fb9f3a\"],[0.8888888888888888,\"#fdca26\"],[1.0,\"#f0f921\"]]}],\"choropleth\":[{\"type\":\"choropleth\",\"colorbar\":{\"outlinewidth\":0,\"ticks\":\"\"}}],\"histogram2d\":[{\"type\":\"histogram2d\",\"colorbar\":{\"outlinewidth\":0,\"ticks\":\"\"},\"colorscale\":[[0.0,\"#0d0887\"],[0.1111111111111111,\"#46039f\"],[0.2222222222222222,\"#7201a8\"],[0.3333333333333333,\"#9c179e\"],[0.4444444444444444,\"#bd3786\"],[0.5555555555555556,\"#d8576b\"],[0.6666666666666666,\"#ed7953\"],[0.7777777777777778,\"#fb9f3a\"],[0.8888888888888888,\"#fdca26\"],[1.0,\"#f0f921\"]]}],\"heatmap\":[{\"type\":\"heatmap\",\"colorbar\":{\"outlinewidth\":0,\"ticks\":\"\"},\"colorscale\":[[0.0,\"#0d0887\"],[0.1111111111111111,\"#46039f\"],[0.2222222222222222,\"#7201a8\"],[0.3333333333333333,\"#9c179e\"],[0.4444444444444444,\"#bd3786\"],[0.5555555555555556,\"#d8576b\"],[0.6666666666666666,\"#ed7953\"],[0.7777777777777778,\"#fb9f3a\"],[0.8888888888888888,\"#fdca26\"],[1.0,\"#f0f921\"]]}],\"heatmapgl\":[{\"type\":\"heatmapgl\",\"colorbar\":{\"outlinewidth\":0,\"ticks\":\"\"},\"colorscale\":[[0.0,\"#0d0887\"],[0.1111111111111111,\"#46039f\"],[0.2222222222222222,\"#7201a8\"],[0.3333333333333333,\"#9c179e\"],[0.4444444444444444,\"#bd3786\"],[0.5555555555555556,\"#d8576b\"],[0.6666666666666666,\"#ed7953\"],[0.7777777777777778,\"#fb9f3a\"],[0.8888888888888888,\"#fdca26\"],[1.0,\"#f0f921\"]]}],\"contourcarpet\":[{\"type\":\"contourcarpet\",\"colorbar\":{\"outlinewidth\":0,\"ticks\":\"\"}}],\"contour\":[{\"type\":\"contour\",\"colorbar\":{\"outlinewidth\":0,\"ticks\":\"\"},\"colorscale\":[[0.0,\"#0d0887\"],[0.1111111111111111,\"#46039f\"],[0.2222222222222222,\"#7201a8\"],[0.3333333333333333,\"#9c179e\"],[0.4444444444444444,\"#bd3786\"],[0.5555555555555556,\"#d8576b\"],[0.6666666666666666,\"#ed7953\"],[0.7777777777777778,\"#fb9f3a\"],[0.8888888888888888,\"#fdca26\"],[1.0,\"#f0f921\"]]}],\"surface\":[{\"type\":\"surface\",\"colorbar\":{\"outlinewidth\":0,\"ticks\":\"\"},\"colorscale\":[[0.0,\"#0d0887\"],[0.1111111111111111,\"#46039f\"],[0.2222222222222222,\"#7201a8\"],[0.3333333333333333,\"#9c179e\"],[0.4444444444444444,\"#bd3786\"],[0.5555555555555556,\"#d8576b\"],[0.6666666666666666,\"#ed7953\"],[0.7777777777777778,\"#fb9f3a\"],[0.8888888888888888,\"#fdca26\"],[1.0,\"#f0f921\"]]}],\"mesh3d\":[{\"type\":\"mesh3d\",\"colorbar\":{\"outlinewidth\":0,\"ticks\":\"\"}}],\"scatter\":[{\"fillpattern\":{\"fillmode\":\"overlay\",\"size\":10,\"solidity\":0.2},\"type\":\"scatter\"}],\"parcoords\":[{\"type\":\"parcoords\",\"line\":{\"colorbar\":{\"outlinewidth\":0,\"ticks\":\"\"}}}],\"scatterpolargl\":[{\"type\":\"scatterpolargl\",\"marker\":{\"colorbar\":{\"outlinewidth\":0,\"ticks\":\"\"}}}],\"bar\":[{\"error_x\":{\"color\":\"#2a3f5f\"},\"error_y\":{\"color\":\"#2a3f5f\"},\"marker\":{\"line\":{\"color\":\"#E5ECF6\",\"width\":0.5},\"pattern\":{\"fillmode\":\"overlay\",\"size\":10,\"solidity\":0.2}},\"type\":\"bar\"}],\"scattergeo\":[{\"type\":\"scattergeo\",\"marker\":{\"colorbar\":{\"outlinewidth\":0,\"ticks\":\"\"}}}],\"scatterpolar\":[{\"type\":\"scatterpolar\",\"marker\":{\"colorbar\":{\"outlinewidth\":0,\"ticks\":\"\"}}}],\"histogram\":[{\"marker\":{\"pattern\":{\"fillmode\":\"overlay\",\"size\":10,\"solidity\":0.2}},\"type\":\"histogram\"}],\"scattergl\":[{\"type\":\"scattergl\",\"marker\":{\"colorbar\":{\"outlinewidth\":0,\"ticks\":\"\"}}}],\"scatter3d\":[{\"type\":\"scatter3d\",\"line\":{\"colorbar\":{\"outlinewidth\":0,\"ticks\":\"\"}},\"marker\":{\"colorbar\":{\"outlinewidth\":0,\"ticks\":\"\"}}}],\"scattermapbox\":[{\"type\":\"scattermapbox\",\"marker\":{\"colorbar\":{\"outlinewidth\":0,\"ticks\":\"\"}}}],\"scatterternary\":[{\"type\":\"scatterternary\",\"marker\":{\"colorbar\":{\"outlinewidth\":0,\"ticks\":\"\"}}}],\"scattercarpet\":[{\"type\":\"scattercarpet\",\"marker\":{\"colorbar\":{\"outlinewidth\":0,\"ticks\":\"\"}}}],\"carpet\":[{\"aaxis\":{\"endlinecolor\":\"#2a3f5f\",\"gridcolor\":\"white\",\"linecolor\":\"white\",\"minorgridcolor\":\"white\",\"startlinecolor\":\"#2a3f5f\"},\"baxis\":{\"endlinecolor\":\"#2a3f5f\",\"gridcolor\":\"white\",\"linecolor\":\"white\",\"minorgridcolor\":\"white\",\"startlinecolor\":\"#2a3f5f\"},\"type\":\"carpet\"}],\"table\":[{\"cells\":{\"fill\":{\"color\":\"#EBF0F8\"},\"line\":{\"color\":\"white\"}},\"header\":{\"fill\":{\"color\":\"#C8D4E3\"},\"line\":{\"color\":\"white\"}},\"type\":\"table\"}],\"barpolar\":[{\"marker\":{\"line\":{\"color\":\"#E5ECF6\",\"width\":0.5},\"pattern\":{\"fillmode\":\"overlay\",\"size\":10,\"solidity\":0.2}},\"type\":\"barpolar\"}],\"pie\":[{\"automargin\":true,\"type\":\"pie\"}]},\"layout\":{\"autotypenumbers\":\"strict\",\"colorway\":[\"#636efa\",\"#EF553B\",\"#00cc96\",\"#ab63fa\",\"#FFA15A\",\"#19d3f3\",\"#FF6692\",\"#B6E880\",\"#FF97FF\",\"#FECB52\"],\"font\":{\"color\":\"#2a3f5f\"},\"hovermode\":\"closest\",\"hoverlabel\":{\"align\":\"left\"},\"paper_bgcolor\":\"white\",\"plot_bgcolor\":\"#E5ECF6\",\"polar\":{\"bgcolor\":\"#E5ECF6\",\"angularaxis\":{\"gridcolor\":\"white\",\"linecolor\":\"white\",\"ticks\":\"\"},\"radialaxis\":{\"gridcolor\":\"white\",\"linecolor\":\"white\",\"ticks\":\"\"}},\"ternary\":{\"bgcolor\":\"#E5ECF6\",\"aaxis\":{\"gridcolor\":\"white\",\"linecolor\":\"white\",\"ticks\":\"\"},\"baxis\":{\"gridcolor\":\"white\",\"linecolor\":\"white\",\"ticks\":\"\"},\"caxis\":{\"gridcolor\":\"white\",\"linecolor\":\"white\",\"ticks\":\"\"}},\"coloraxis\":{\"colorbar\":{\"outlinewidth\":0,\"ticks\":\"\"}},\"colorscale\":{\"sequential\":[[0.0,\"#0d0887\"],[0.1111111111111111,\"#46039f\"],[0.2222222222222222,\"#7201a8\"],[0.3333333333333333,\"#9c179e\"],[0.4444444444444444,\"#bd3786\"],[0.5555555555555556,\"#d8576b\"],[0.6666666666666666,\"#ed7953\"],[0.7777777777777778,\"#fb9f3a\"],[0.8888888888888888,\"#fdca26\"],[1.0,\"#f0f921\"]],\"sequentialminus\":[[0.0,\"#0d0887\"],[0.1111111111111111,\"#46039f\"],[0.2222222222222222,\"#7201a8\"],[0.3333333333333333,\"#9c179e\"],[0.4444444444444444,\"#bd3786\"],[0.5555555555555556,\"#d8576b\"],[0.6666666666666666,\"#ed7953\"],[0.7777777777777778,\"#fb9f3a\"],[0.8888888888888888,\"#fdca26\"],[1.0,\"#f0f921\"]],\"diverging\":[[0,\"#8e0152\"],[0.1,\"#c51b7d\"],[0.2,\"#de77ae\"],[0.3,\"#f1b6da\"],[0.4,\"#fde0ef\"],[0.5,\"#f7f7f7\"],[0.6,\"#e6f5d0\"],[0.7,\"#b8e186\"],[0.8,\"#7fbc41\"],[0.9,\"#4d9221\"],[1,\"#276419\"]]},\"xaxis\":{\"gridcolor\":\"white\",\"linecolor\":\"white\",\"ticks\":\"\",\"title\":{\"standoff\":15},\"zerolinecolor\":\"white\",\"automargin\":true,\"zerolinewidth\":2},\"yaxis\":{\"gridcolor\":\"white\",\"linecolor\":\"white\",\"ticks\":\"\",\"title\":{\"standoff\":15},\"zerolinecolor\":\"white\",\"automargin\":true,\"zerolinewidth\":2},\"scene\":{\"xaxis\":{\"backgroundcolor\":\"#E5ECF6\",\"gridcolor\":\"white\",\"linecolor\":\"white\",\"showbackground\":true,\"ticks\":\"\",\"zerolinecolor\":\"white\",\"gridwidth\":2},\"yaxis\":{\"backgroundcolor\":\"#E5ECF6\",\"gridcolor\":\"white\",\"linecolor\":\"white\",\"showbackground\":true,\"ticks\":\"\",\"zerolinecolor\":\"white\",\"gridwidth\":2},\"zaxis\":{\"backgroundcolor\":\"#E5ECF6\",\"gridcolor\":\"white\",\"linecolor\":\"white\",\"showbackground\":true,\"ticks\":\"\",\"zerolinecolor\":\"white\",\"gridwidth\":2}},\"shapedefaults\":{\"line\":{\"color\":\"#2a3f5f\"}},\"annotationdefaults\":{\"arrowcolor\":\"#2a3f5f\",\"arrowhead\":0,\"arrowwidth\":1},\"geo\":{\"bgcolor\":\"white\",\"landcolor\":\"#E5ECF6\",\"subunitcolor\":\"white\",\"showland\":true,\"showlakes\":true,\"lakecolor\":\"white\"},\"title\":{\"x\":0.05},\"mapbox\":{\"style\":\"light\"}}},\"xaxis\":{\"anchor\":\"y\",\"domain\":[0.0,1.0],\"title\":{\"text\":\"Year\"}},\"yaxis\":{\"anchor\":\"x\",\"domain\":[0.0,1.0],\"title\":{\"text\":\"GoalsScored\"}},\"legend\":{\"title\":{\"text\":\"Country\"},\"tracegroupgap\":0},\"margin\":{\"t\":60}},                        {\"responsive\": true}                    ).then(function(){\n",
       "                            \n",
       "var gd = document.getElementById('2386a3d9-ed98-4f50-ac70-2a6f93dbd932');\n",
       "var x = new MutationObserver(function (mutations, observer) {{\n",
       "        var display = window.getComputedStyle(gd).display;\n",
       "        if (!display || display === 'none') {{\n",
       "            console.log([gd, 'removed!']);\n",
       "            Plotly.purge(gd);\n",
       "            observer.disconnect();\n",
       "        }}\n",
       "}});\n",
       "\n",
       "// Listen for the removal of the full notebook cells\n",
       "var notebookContainer = gd.closest('#notebook-container');\n",
       "if (notebookContainer) {{\n",
       "    x.observe(notebookContainer, {childList: true});\n",
       "}}\n",
       "\n",
       "// Listen for the clearing of the current output cell\n",
       "var outputEl = gd.closest('.output');\n",
       "if (outputEl) {{\n",
       "    x.observe(outputEl, {childList: true});\n",
       "}}\n",
       "\n",
       "                        })                };                });            </script>        </div>"
      ]
     },
     "metadata": {},
     "output_type": "display_data"
    }
   ],
   "source": [
    "# in which year height goal was scored by which country\n",
    "px.scatter(df3, x='Year',y='GoalsScored', color='Country')"
   ]
  },
  {
   "cell_type": "markdown",
   "metadata": {},
   "source": [
    "France Scored the height gaol in the year 2000"
   ]
  },
  {
   "cell_type": "code",
   "execution_count": 151,
   "metadata": {},
   "outputs": [
    {
     "data": {
      "application/vnd.plotly.v1+json": {
       "config": {
        "plotlyServerURL": "https://plot.ly"
       },
       "data": [
        {
         "hovertemplate": "Country=Uruguay<br>Year=%{x}<br>QualifiedTeams=%{y}<extra></extra>",
         "legendgroup": "Uruguay",
         "marker": {
          "color": "#636efa",
          "symbol": "circle"
         },
         "mode": "markers",
         "name": "Uruguay",
         "orientation": "v",
         "showlegend": true,
         "type": "scatter",
         "x": [
          1930
         ],
         "xaxis": "x",
         "y": [
          13
         ],
         "yaxis": "y"
        },
        {
         "hovertemplate": "Country=Italy<br>Year=%{x}<br>QualifiedTeams=%{y}<extra></extra>",
         "legendgroup": "Italy",
         "marker": {
          "color": "#EF553B",
          "symbol": "circle"
         },
         "mode": "markers",
         "name": "Italy",
         "orientation": "v",
         "showlegend": true,
         "type": "scatter",
         "x": [
          1934,
          1990
         ],
         "xaxis": "x",
         "y": [
          16,
          24
         ],
         "yaxis": "y"
        },
        {
         "hovertemplate": "Country=France<br>Year=%{x}<br>QualifiedTeams=%{y}<extra></extra>",
         "legendgroup": "France",
         "marker": {
          "color": "#00cc96",
          "symbol": "circle"
         },
         "mode": "markers",
         "name": "France",
         "orientation": "v",
         "showlegend": true,
         "type": "scatter",
         "x": [
          1938,
          1998
         ],
         "xaxis": "x",
         "y": [
          15,
          32
         ],
         "yaxis": "y"
        },
        {
         "hovertemplate": "Country=Brazil<br>Year=%{x}<br>QualifiedTeams=%{y}<extra></extra>",
         "legendgroup": "Brazil",
         "marker": {
          "color": "#ab63fa",
          "symbol": "circle"
         },
         "mode": "markers",
         "name": "Brazil",
         "orientation": "v",
         "showlegend": true,
         "type": "scatter",
         "x": [
          1950,
          2014
         ],
         "xaxis": "x",
         "y": [
          13,
          32
         ],
         "yaxis": "y"
        },
        {
         "hovertemplate": "Country=Switzerland<br>Year=%{x}<br>QualifiedTeams=%{y}<extra></extra>",
         "legendgroup": "Switzerland",
         "marker": {
          "color": "#FFA15A",
          "symbol": "circle"
         },
         "mode": "markers",
         "name": "Switzerland",
         "orientation": "v",
         "showlegend": true,
         "type": "scatter",
         "x": [
          1954
         ],
         "xaxis": "x",
         "y": [
          16
         ],
         "yaxis": "y"
        },
        {
         "hovertemplate": "Country=Sweden<br>Year=%{x}<br>QualifiedTeams=%{y}<extra></extra>",
         "legendgroup": "Sweden",
         "marker": {
          "color": "#19d3f3",
          "symbol": "circle"
         },
         "mode": "markers",
         "name": "Sweden",
         "orientation": "v",
         "showlegend": true,
         "type": "scatter",
         "x": [
          1958
         ],
         "xaxis": "x",
         "y": [
          16
         ],
         "yaxis": "y"
        },
        {
         "hovertemplate": "Country=Chile<br>Year=%{x}<br>QualifiedTeams=%{y}<extra></extra>",
         "legendgroup": "Chile",
         "marker": {
          "color": "#FF6692",
          "symbol": "circle"
         },
         "mode": "markers",
         "name": "Chile",
         "orientation": "v",
         "showlegend": true,
         "type": "scatter",
         "x": [
          1962
         ],
         "xaxis": "x",
         "y": [
          16
         ],
         "yaxis": "y"
        },
        {
         "hovertemplate": "Country=England<br>Year=%{x}<br>QualifiedTeams=%{y}<extra></extra>",
         "legendgroup": "England",
         "marker": {
          "color": "#B6E880",
          "symbol": "circle"
         },
         "mode": "markers",
         "name": "England",
         "orientation": "v",
         "showlegend": true,
         "type": "scatter",
         "x": [
          1966
         ],
         "xaxis": "x",
         "y": [
          16
         ],
         "yaxis": "y"
        },
        {
         "hovertemplate": "Country=Mexico<br>Year=%{x}<br>QualifiedTeams=%{y}<extra></extra>",
         "legendgroup": "Mexico",
         "marker": {
          "color": "#FF97FF",
          "symbol": "circle"
         },
         "mode": "markers",
         "name": "Mexico",
         "orientation": "v",
         "showlegend": true,
         "type": "scatter",
         "x": [
          1970,
          1986
         ],
         "xaxis": "x",
         "y": [
          16,
          24
         ],
         "yaxis": "y"
        },
        {
         "hovertemplate": "Country=Germany<br>Year=%{x}<br>QualifiedTeams=%{y}<extra></extra>",
         "legendgroup": "Germany",
         "marker": {
          "color": "#FECB52",
          "symbol": "circle"
         },
         "mode": "markers",
         "name": "Germany",
         "orientation": "v",
         "showlegend": true,
         "type": "scatter",
         "x": [
          1974,
          2006
         ],
         "xaxis": "x",
         "y": [
          16,
          32
         ],
         "yaxis": "y"
        },
        {
         "hovertemplate": "Country=Argentina<br>Year=%{x}<br>QualifiedTeams=%{y}<extra></extra>",
         "legendgroup": "Argentina",
         "marker": {
          "color": "#636efa",
          "symbol": "circle"
         },
         "mode": "markers",
         "name": "Argentina",
         "orientation": "v",
         "showlegend": true,
         "type": "scatter",
         "x": [
          1978
         ],
         "xaxis": "x",
         "y": [
          16
         ],
         "yaxis": "y"
        },
        {
         "hovertemplate": "Country=Spain<br>Year=%{x}<br>QualifiedTeams=%{y}<extra></extra>",
         "legendgroup": "Spain",
         "marker": {
          "color": "#EF553B",
          "symbol": "circle"
         },
         "mode": "markers",
         "name": "Spain",
         "orientation": "v",
         "showlegend": true,
         "type": "scatter",
         "x": [
          1982
         ],
         "xaxis": "x",
         "y": [
          24
         ],
         "yaxis": "y"
        },
        {
         "hovertemplate": "Country=USA<br>Year=%{x}<br>QualifiedTeams=%{y}<extra></extra>",
         "legendgroup": "USA",
         "marker": {
          "color": "#00cc96",
          "symbol": "circle"
         },
         "mode": "markers",
         "name": "USA",
         "orientation": "v",
         "showlegend": true,
         "type": "scatter",
         "x": [
          1994
         ],
         "xaxis": "x",
         "y": [
          24
         ],
         "yaxis": "y"
        },
        {
         "hovertemplate": "Country=Korea/Japan<br>Year=%{x}<br>QualifiedTeams=%{y}<extra></extra>",
         "legendgroup": "Korea/Japan",
         "marker": {
          "color": "#ab63fa",
          "symbol": "circle"
         },
         "mode": "markers",
         "name": "Korea/Japan",
         "orientation": "v",
         "showlegend": true,
         "type": "scatter",
         "x": [
          2002
         ],
         "xaxis": "x",
         "y": [
          32
         ],
         "yaxis": "y"
        },
        {
         "hovertemplate": "Country=South Africa<br>Year=%{x}<br>QualifiedTeams=%{y}<extra></extra>",
         "legendgroup": "South Africa",
         "marker": {
          "color": "#FFA15A",
          "symbol": "circle"
         },
         "mode": "markers",
         "name": "South Africa",
         "orientation": "v",
         "showlegend": true,
         "type": "scatter",
         "x": [
          2010
         ],
         "xaxis": "x",
         "y": [
          32
         ],
         "yaxis": "y"
        }
       ],
       "layout": {
        "legend": {
         "title": {
          "text": "Country"
         },
         "tracegroupgap": 0
        },
        "margin": {
         "t": 60
        },
        "template": {
         "data": {
          "bar": [
           {
            "error_x": {
             "color": "#2a3f5f"
            },
            "error_y": {
             "color": "#2a3f5f"
            },
            "marker": {
             "line": {
              "color": "#E5ECF6",
              "width": 0.5
             },
             "pattern": {
              "fillmode": "overlay",
              "size": 10,
              "solidity": 0.2
             }
            },
            "type": "bar"
           }
          ],
          "barpolar": [
           {
            "marker": {
             "line": {
              "color": "#E5ECF6",
              "width": 0.5
             },
             "pattern": {
              "fillmode": "overlay",
              "size": 10,
              "solidity": 0.2
             }
            },
            "type": "barpolar"
           }
          ],
          "carpet": [
           {
            "aaxis": {
             "endlinecolor": "#2a3f5f",
             "gridcolor": "white",
             "linecolor": "white",
             "minorgridcolor": "white",
             "startlinecolor": "#2a3f5f"
            },
            "baxis": {
             "endlinecolor": "#2a3f5f",
             "gridcolor": "white",
             "linecolor": "white",
             "minorgridcolor": "white",
             "startlinecolor": "#2a3f5f"
            },
            "type": "carpet"
           }
          ],
          "choropleth": [
           {
            "colorbar": {
             "outlinewidth": 0,
             "ticks": ""
            },
            "type": "choropleth"
           }
          ],
          "contour": [
           {
            "colorbar": {
             "outlinewidth": 0,
             "ticks": ""
            },
            "colorscale": [
             [
              0,
              "#0d0887"
             ],
             [
              0.1111111111111111,
              "#46039f"
             ],
             [
              0.2222222222222222,
              "#7201a8"
             ],
             [
              0.3333333333333333,
              "#9c179e"
             ],
             [
              0.4444444444444444,
              "#bd3786"
             ],
             [
              0.5555555555555556,
              "#d8576b"
             ],
             [
              0.6666666666666666,
              "#ed7953"
             ],
             [
              0.7777777777777778,
              "#fb9f3a"
             ],
             [
              0.8888888888888888,
              "#fdca26"
             ],
             [
              1,
              "#f0f921"
             ]
            ],
            "type": "contour"
           }
          ],
          "contourcarpet": [
           {
            "colorbar": {
             "outlinewidth": 0,
             "ticks": ""
            },
            "type": "contourcarpet"
           }
          ],
          "heatmap": [
           {
            "colorbar": {
             "outlinewidth": 0,
             "ticks": ""
            },
            "colorscale": [
             [
              0,
              "#0d0887"
             ],
             [
              0.1111111111111111,
              "#46039f"
             ],
             [
              0.2222222222222222,
              "#7201a8"
             ],
             [
              0.3333333333333333,
              "#9c179e"
             ],
             [
              0.4444444444444444,
              "#bd3786"
             ],
             [
              0.5555555555555556,
              "#d8576b"
             ],
             [
              0.6666666666666666,
              "#ed7953"
             ],
             [
              0.7777777777777778,
              "#fb9f3a"
             ],
             [
              0.8888888888888888,
              "#fdca26"
             ],
             [
              1,
              "#f0f921"
             ]
            ],
            "type": "heatmap"
           }
          ],
          "heatmapgl": [
           {
            "colorbar": {
             "outlinewidth": 0,
             "ticks": ""
            },
            "colorscale": [
             [
              0,
              "#0d0887"
             ],
             [
              0.1111111111111111,
              "#46039f"
             ],
             [
              0.2222222222222222,
              "#7201a8"
             ],
             [
              0.3333333333333333,
              "#9c179e"
             ],
             [
              0.4444444444444444,
              "#bd3786"
             ],
             [
              0.5555555555555556,
              "#d8576b"
             ],
             [
              0.6666666666666666,
              "#ed7953"
             ],
             [
              0.7777777777777778,
              "#fb9f3a"
             ],
             [
              0.8888888888888888,
              "#fdca26"
             ],
             [
              1,
              "#f0f921"
             ]
            ],
            "type": "heatmapgl"
           }
          ],
          "histogram": [
           {
            "marker": {
             "pattern": {
              "fillmode": "overlay",
              "size": 10,
              "solidity": 0.2
             }
            },
            "type": "histogram"
           }
          ],
          "histogram2d": [
           {
            "colorbar": {
             "outlinewidth": 0,
             "ticks": ""
            },
            "colorscale": [
             [
              0,
              "#0d0887"
             ],
             [
              0.1111111111111111,
              "#46039f"
             ],
             [
              0.2222222222222222,
              "#7201a8"
             ],
             [
              0.3333333333333333,
              "#9c179e"
             ],
             [
              0.4444444444444444,
              "#bd3786"
             ],
             [
              0.5555555555555556,
              "#d8576b"
             ],
             [
              0.6666666666666666,
              "#ed7953"
             ],
             [
              0.7777777777777778,
              "#fb9f3a"
             ],
             [
              0.8888888888888888,
              "#fdca26"
             ],
             [
              1,
              "#f0f921"
             ]
            ],
            "type": "histogram2d"
           }
          ],
          "histogram2dcontour": [
           {
            "colorbar": {
             "outlinewidth": 0,
             "ticks": ""
            },
            "colorscale": [
             [
              0,
              "#0d0887"
             ],
             [
              0.1111111111111111,
              "#46039f"
             ],
             [
              0.2222222222222222,
              "#7201a8"
             ],
             [
              0.3333333333333333,
              "#9c179e"
             ],
             [
              0.4444444444444444,
              "#bd3786"
             ],
             [
              0.5555555555555556,
              "#d8576b"
             ],
             [
              0.6666666666666666,
              "#ed7953"
             ],
             [
              0.7777777777777778,
              "#fb9f3a"
             ],
             [
              0.8888888888888888,
              "#fdca26"
             ],
             [
              1,
              "#f0f921"
             ]
            ],
            "type": "histogram2dcontour"
           }
          ],
          "mesh3d": [
           {
            "colorbar": {
             "outlinewidth": 0,
             "ticks": ""
            },
            "type": "mesh3d"
           }
          ],
          "parcoords": [
           {
            "line": {
             "colorbar": {
              "outlinewidth": 0,
              "ticks": ""
             }
            },
            "type": "parcoords"
           }
          ],
          "pie": [
           {
            "automargin": true,
            "type": "pie"
           }
          ],
          "scatter": [
           {
            "fillpattern": {
             "fillmode": "overlay",
             "size": 10,
             "solidity": 0.2
            },
            "type": "scatter"
           }
          ],
          "scatter3d": [
           {
            "line": {
             "colorbar": {
              "outlinewidth": 0,
              "ticks": ""
             }
            },
            "marker": {
             "colorbar": {
              "outlinewidth": 0,
              "ticks": ""
             }
            },
            "type": "scatter3d"
           }
          ],
          "scattercarpet": [
           {
            "marker": {
             "colorbar": {
              "outlinewidth": 0,
              "ticks": ""
             }
            },
            "type": "scattercarpet"
           }
          ],
          "scattergeo": [
           {
            "marker": {
             "colorbar": {
              "outlinewidth": 0,
              "ticks": ""
             }
            },
            "type": "scattergeo"
           }
          ],
          "scattergl": [
           {
            "marker": {
             "colorbar": {
              "outlinewidth": 0,
              "ticks": ""
             }
            },
            "type": "scattergl"
           }
          ],
          "scattermapbox": [
           {
            "marker": {
             "colorbar": {
              "outlinewidth": 0,
              "ticks": ""
             }
            },
            "type": "scattermapbox"
           }
          ],
          "scatterpolar": [
           {
            "marker": {
             "colorbar": {
              "outlinewidth": 0,
              "ticks": ""
             }
            },
            "type": "scatterpolar"
           }
          ],
          "scatterpolargl": [
           {
            "marker": {
             "colorbar": {
              "outlinewidth": 0,
              "ticks": ""
             }
            },
            "type": "scatterpolargl"
           }
          ],
          "scatterternary": [
           {
            "marker": {
             "colorbar": {
              "outlinewidth": 0,
              "ticks": ""
             }
            },
            "type": "scatterternary"
           }
          ],
          "surface": [
           {
            "colorbar": {
             "outlinewidth": 0,
             "ticks": ""
            },
            "colorscale": [
             [
              0,
              "#0d0887"
             ],
             [
              0.1111111111111111,
              "#46039f"
             ],
             [
              0.2222222222222222,
              "#7201a8"
             ],
             [
              0.3333333333333333,
              "#9c179e"
             ],
             [
              0.4444444444444444,
              "#bd3786"
             ],
             [
              0.5555555555555556,
              "#d8576b"
             ],
             [
              0.6666666666666666,
              "#ed7953"
             ],
             [
              0.7777777777777778,
              "#fb9f3a"
             ],
             [
              0.8888888888888888,
              "#fdca26"
             ],
             [
              1,
              "#f0f921"
             ]
            ],
            "type": "surface"
           }
          ],
          "table": [
           {
            "cells": {
             "fill": {
              "color": "#EBF0F8"
             },
             "line": {
              "color": "white"
             }
            },
            "header": {
             "fill": {
              "color": "#C8D4E3"
             },
             "line": {
              "color": "white"
             }
            },
            "type": "table"
           }
          ]
         },
         "layout": {
          "annotationdefaults": {
           "arrowcolor": "#2a3f5f",
           "arrowhead": 0,
           "arrowwidth": 1
          },
          "autotypenumbers": "strict",
          "coloraxis": {
           "colorbar": {
            "outlinewidth": 0,
            "ticks": ""
           }
          },
          "colorscale": {
           "diverging": [
            [
             0,
             "#8e0152"
            ],
            [
             0.1,
             "#c51b7d"
            ],
            [
             0.2,
             "#de77ae"
            ],
            [
             0.3,
             "#f1b6da"
            ],
            [
             0.4,
             "#fde0ef"
            ],
            [
             0.5,
             "#f7f7f7"
            ],
            [
             0.6,
             "#e6f5d0"
            ],
            [
             0.7,
             "#b8e186"
            ],
            [
             0.8,
             "#7fbc41"
            ],
            [
             0.9,
             "#4d9221"
            ],
            [
             1,
             "#276419"
            ]
           ],
           "sequential": [
            [
             0,
             "#0d0887"
            ],
            [
             0.1111111111111111,
             "#46039f"
            ],
            [
             0.2222222222222222,
             "#7201a8"
            ],
            [
             0.3333333333333333,
             "#9c179e"
            ],
            [
             0.4444444444444444,
             "#bd3786"
            ],
            [
             0.5555555555555556,
             "#d8576b"
            ],
            [
             0.6666666666666666,
             "#ed7953"
            ],
            [
             0.7777777777777778,
             "#fb9f3a"
            ],
            [
             0.8888888888888888,
             "#fdca26"
            ],
            [
             1,
             "#f0f921"
            ]
           ],
           "sequentialminus": [
            [
             0,
             "#0d0887"
            ],
            [
             0.1111111111111111,
             "#46039f"
            ],
            [
             0.2222222222222222,
             "#7201a8"
            ],
            [
             0.3333333333333333,
             "#9c179e"
            ],
            [
             0.4444444444444444,
             "#bd3786"
            ],
            [
             0.5555555555555556,
             "#d8576b"
            ],
            [
             0.6666666666666666,
             "#ed7953"
            ],
            [
             0.7777777777777778,
             "#fb9f3a"
            ],
            [
             0.8888888888888888,
             "#fdca26"
            ],
            [
             1,
             "#f0f921"
            ]
           ]
          },
          "colorway": [
           "#636efa",
           "#EF553B",
           "#00cc96",
           "#ab63fa",
           "#FFA15A",
           "#19d3f3",
           "#FF6692",
           "#B6E880",
           "#FF97FF",
           "#FECB52"
          ],
          "font": {
           "color": "#2a3f5f"
          },
          "geo": {
           "bgcolor": "white",
           "lakecolor": "white",
           "landcolor": "#E5ECF6",
           "showlakes": true,
           "showland": true,
           "subunitcolor": "white"
          },
          "hoverlabel": {
           "align": "left"
          },
          "hovermode": "closest",
          "mapbox": {
           "style": "light"
          },
          "paper_bgcolor": "white",
          "plot_bgcolor": "#E5ECF6",
          "polar": {
           "angularaxis": {
            "gridcolor": "white",
            "linecolor": "white",
            "ticks": ""
           },
           "bgcolor": "#E5ECF6",
           "radialaxis": {
            "gridcolor": "white",
            "linecolor": "white",
            "ticks": ""
           }
          },
          "scene": {
           "xaxis": {
            "backgroundcolor": "#E5ECF6",
            "gridcolor": "white",
            "gridwidth": 2,
            "linecolor": "white",
            "showbackground": true,
            "ticks": "",
            "zerolinecolor": "white"
           },
           "yaxis": {
            "backgroundcolor": "#E5ECF6",
            "gridcolor": "white",
            "gridwidth": 2,
            "linecolor": "white",
            "showbackground": true,
            "ticks": "",
            "zerolinecolor": "white"
           },
           "zaxis": {
            "backgroundcolor": "#E5ECF6",
            "gridcolor": "white",
            "gridwidth": 2,
            "linecolor": "white",
            "showbackground": true,
            "ticks": "",
            "zerolinecolor": "white"
           }
          },
          "shapedefaults": {
           "line": {
            "color": "#2a3f5f"
           }
          },
          "ternary": {
           "aaxis": {
            "gridcolor": "white",
            "linecolor": "white",
            "ticks": ""
           },
           "baxis": {
            "gridcolor": "white",
            "linecolor": "white",
            "ticks": ""
           },
           "bgcolor": "#E5ECF6",
           "caxis": {
            "gridcolor": "white",
            "linecolor": "white",
            "ticks": ""
           }
          },
          "title": {
           "x": 0.05
          },
          "xaxis": {
           "automargin": true,
           "gridcolor": "white",
           "linecolor": "white",
           "ticks": "",
           "title": {
            "standoff": 15
           },
           "zerolinecolor": "white",
           "zerolinewidth": 2
          },
          "yaxis": {
           "automargin": true,
           "gridcolor": "white",
           "linecolor": "white",
           "ticks": "",
           "title": {
            "standoff": 15
           },
           "zerolinecolor": "white",
           "zerolinewidth": 2
          }
         }
        },
        "xaxis": {
         "anchor": "y",
         "domain": [
          0,
          1
         ],
         "title": {
          "text": "Year"
         }
        },
        "yaxis": {
         "anchor": "x",
         "domain": [
          0,
          1
         ],
         "title": {
          "text": "QualifiedTeams"
         }
        }
       }
      },
      "text/html": [
       "<div>                            <div id=\"b9ee3381-fc22-4d01-8fe5-6ba88a441504\" class=\"plotly-graph-div\" style=\"height:525px; width:100%;\"></div>            <script type=\"text/javascript\">                require([\"plotly\"], function(Plotly) {                    window.PLOTLYENV=window.PLOTLYENV || {};                                    if (document.getElementById(\"b9ee3381-fc22-4d01-8fe5-6ba88a441504\")) {                    Plotly.newPlot(                        \"b9ee3381-fc22-4d01-8fe5-6ba88a441504\",                        [{\"hovertemplate\":\"Country=Uruguay<br>Year=%{x}<br>QualifiedTeams=%{y}<extra></extra>\",\"legendgroup\":\"Uruguay\",\"marker\":{\"color\":\"#636efa\",\"symbol\":\"circle\"},\"mode\":\"markers\",\"name\":\"Uruguay\",\"orientation\":\"v\",\"showlegend\":true,\"x\":[1930],\"xaxis\":\"x\",\"y\":[13],\"yaxis\":\"y\",\"type\":\"scatter\"},{\"hovertemplate\":\"Country=Italy<br>Year=%{x}<br>QualifiedTeams=%{y}<extra></extra>\",\"legendgroup\":\"Italy\",\"marker\":{\"color\":\"#EF553B\",\"symbol\":\"circle\"},\"mode\":\"markers\",\"name\":\"Italy\",\"orientation\":\"v\",\"showlegend\":true,\"x\":[1934,1990],\"xaxis\":\"x\",\"y\":[16,24],\"yaxis\":\"y\",\"type\":\"scatter\"},{\"hovertemplate\":\"Country=France<br>Year=%{x}<br>QualifiedTeams=%{y}<extra></extra>\",\"legendgroup\":\"France\",\"marker\":{\"color\":\"#00cc96\",\"symbol\":\"circle\"},\"mode\":\"markers\",\"name\":\"France\",\"orientation\":\"v\",\"showlegend\":true,\"x\":[1938,1998],\"xaxis\":\"x\",\"y\":[15,32],\"yaxis\":\"y\",\"type\":\"scatter\"},{\"hovertemplate\":\"Country=Brazil<br>Year=%{x}<br>QualifiedTeams=%{y}<extra></extra>\",\"legendgroup\":\"Brazil\",\"marker\":{\"color\":\"#ab63fa\",\"symbol\":\"circle\"},\"mode\":\"markers\",\"name\":\"Brazil\",\"orientation\":\"v\",\"showlegend\":true,\"x\":[1950,2014],\"xaxis\":\"x\",\"y\":[13,32],\"yaxis\":\"y\",\"type\":\"scatter\"},{\"hovertemplate\":\"Country=Switzerland<br>Year=%{x}<br>QualifiedTeams=%{y}<extra></extra>\",\"legendgroup\":\"Switzerland\",\"marker\":{\"color\":\"#FFA15A\",\"symbol\":\"circle\"},\"mode\":\"markers\",\"name\":\"Switzerland\",\"orientation\":\"v\",\"showlegend\":true,\"x\":[1954],\"xaxis\":\"x\",\"y\":[16],\"yaxis\":\"y\",\"type\":\"scatter\"},{\"hovertemplate\":\"Country=Sweden<br>Year=%{x}<br>QualifiedTeams=%{y}<extra></extra>\",\"legendgroup\":\"Sweden\",\"marker\":{\"color\":\"#19d3f3\",\"symbol\":\"circle\"},\"mode\":\"markers\",\"name\":\"Sweden\",\"orientation\":\"v\",\"showlegend\":true,\"x\":[1958],\"xaxis\":\"x\",\"y\":[16],\"yaxis\":\"y\",\"type\":\"scatter\"},{\"hovertemplate\":\"Country=Chile<br>Year=%{x}<br>QualifiedTeams=%{y}<extra></extra>\",\"legendgroup\":\"Chile\",\"marker\":{\"color\":\"#FF6692\",\"symbol\":\"circle\"},\"mode\":\"markers\",\"name\":\"Chile\",\"orientation\":\"v\",\"showlegend\":true,\"x\":[1962],\"xaxis\":\"x\",\"y\":[16],\"yaxis\":\"y\",\"type\":\"scatter\"},{\"hovertemplate\":\"Country=England<br>Year=%{x}<br>QualifiedTeams=%{y}<extra></extra>\",\"legendgroup\":\"England\",\"marker\":{\"color\":\"#B6E880\",\"symbol\":\"circle\"},\"mode\":\"markers\",\"name\":\"England\",\"orientation\":\"v\",\"showlegend\":true,\"x\":[1966],\"xaxis\":\"x\",\"y\":[16],\"yaxis\":\"y\",\"type\":\"scatter\"},{\"hovertemplate\":\"Country=Mexico<br>Year=%{x}<br>QualifiedTeams=%{y}<extra></extra>\",\"legendgroup\":\"Mexico\",\"marker\":{\"color\":\"#FF97FF\",\"symbol\":\"circle\"},\"mode\":\"markers\",\"name\":\"Mexico\",\"orientation\":\"v\",\"showlegend\":true,\"x\":[1970,1986],\"xaxis\":\"x\",\"y\":[16,24],\"yaxis\":\"y\",\"type\":\"scatter\"},{\"hovertemplate\":\"Country=Germany<br>Year=%{x}<br>QualifiedTeams=%{y}<extra></extra>\",\"legendgroup\":\"Germany\",\"marker\":{\"color\":\"#FECB52\",\"symbol\":\"circle\"},\"mode\":\"markers\",\"name\":\"Germany\",\"orientation\":\"v\",\"showlegend\":true,\"x\":[1974,2006],\"xaxis\":\"x\",\"y\":[16,32],\"yaxis\":\"y\",\"type\":\"scatter\"},{\"hovertemplate\":\"Country=Argentina<br>Year=%{x}<br>QualifiedTeams=%{y}<extra></extra>\",\"legendgroup\":\"Argentina\",\"marker\":{\"color\":\"#636efa\",\"symbol\":\"circle\"},\"mode\":\"markers\",\"name\":\"Argentina\",\"orientation\":\"v\",\"showlegend\":true,\"x\":[1978],\"xaxis\":\"x\",\"y\":[16],\"yaxis\":\"y\",\"type\":\"scatter\"},{\"hovertemplate\":\"Country=Spain<br>Year=%{x}<br>QualifiedTeams=%{y}<extra></extra>\",\"legendgroup\":\"Spain\",\"marker\":{\"color\":\"#EF553B\",\"symbol\":\"circle\"},\"mode\":\"markers\",\"name\":\"Spain\",\"orientation\":\"v\",\"showlegend\":true,\"x\":[1982],\"xaxis\":\"x\",\"y\":[24],\"yaxis\":\"y\",\"type\":\"scatter\"},{\"hovertemplate\":\"Country=USA<br>Year=%{x}<br>QualifiedTeams=%{y}<extra></extra>\",\"legendgroup\":\"USA\",\"marker\":{\"color\":\"#00cc96\",\"symbol\":\"circle\"},\"mode\":\"markers\",\"name\":\"USA\",\"orientation\":\"v\",\"showlegend\":true,\"x\":[1994],\"xaxis\":\"x\",\"y\":[24],\"yaxis\":\"y\",\"type\":\"scatter\"},{\"hovertemplate\":\"Country=Korea/Japan<br>Year=%{x}<br>QualifiedTeams=%{y}<extra></extra>\",\"legendgroup\":\"Korea/Japan\",\"marker\":{\"color\":\"#ab63fa\",\"symbol\":\"circle\"},\"mode\":\"markers\",\"name\":\"Korea/Japan\",\"orientation\":\"v\",\"showlegend\":true,\"x\":[2002],\"xaxis\":\"x\",\"y\":[32],\"yaxis\":\"y\",\"type\":\"scatter\"},{\"hovertemplate\":\"Country=South Africa<br>Year=%{x}<br>QualifiedTeams=%{y}<extra></extra>\",\"legendgroup\":\"South Africa\",\"marker\":{\"color\":\"#FFA15A\",\"symbol\":\"circle\"},\"mode\":\"markers\",\"name\":\"South Africa\",\"orientation\":\"v\",\"showlegend\":true,\"x\":[2010],\"xaxis\":\"x\",\"y\":[32],\"yaxis\":\"y\",\"type\":\"scatter\"}],                        {\"template\":{\"data\":{\"histogram2dcontour\":[{\"type\":\"histogram2dcontour\",\"colorbar\":{\"outlinewidth\":0,\"ticks\":\"\"},\"colorscale\":[[0.0,\"#0d0887\"],[0.1111111111111111,\"#46039f\"],[0.2222222222222222,\"#7201a8\"],[0.3333333333333333,\"#9c179e\"],[0.4444444444444444,\"#bd3786\"],[0.5555555555555556,\"#d8576b\"],[0.6666666666666666,\"#ed7953\"],[0.7777777777777778,\"#fb9f3a\"],[0.8888888888888888,\"#fdca26\"],[1.0,\"#f0f921\"]]}],\"choropleth\":[{\"type\":\"choropleth\",\"colorbar\":{\"outlinewidth\":0,\"ticks\":\"\"}}],\"histogram2d\":[{\"type\":\"histogram2d\",\"colorbar\":{\"outlinewidth\":0,\"ticks\":\"\"},\"colorscale\":[[0.0,\"#0d0887\"],[0.1111111111111111,\"#46039f\"],[0.2222222222222222,\"#7201a8\"],[0.3333333333333333,\"#9c179e\"],[0.4444444444444444,\"#bd3786\"],[0.5555555555555556,\"#d8576b\"],[0.6666666666666666,\"#ed7953\"],[0.7777777777777778,\"#fb9f3a\"],[0.8888888888888888,\"#fdca26\"],[1.0,\"#f0f921\"]]}],\"heatmap\":[{\"type\":\"heatmap\",\"colorbar\":{\"outlinewidth\":0,\"ticks\":\"\"},\"colorscale\":[[0.0,\"#0d0887\"],[0.1111111111111111,\"#46039f\"],[0.2222222222222222,\"#7201a8\"],[0.3333333333333333,\"#9c179e\"],[0.4444444444444444,\"#bd3786\"],[0.5555555555555556,\"#d8576b\"],[0.6666666666666666,\"#ed7953\"],[0.7777777777777778,\"#fb9f3a\"],[0.8888888888888888,\"#fdca26\"],[1.0,\"#f0f921\"]]}],\"heatmapgl\":[{\"type\":\"heatmapgl\",\"colorbar\":{\"outlinewidth\":0,\"ticks\":\"\"},\"colorscale\":[[0.0,\"#0d0887\"],[0.1111111111111111,\"#46039f\"],[0.2222222222222222,\"#7201a8\"],[0.3333333333333333,\"#9c179e\"],[0.4444444444444444,\"#bd3786\"],[0.5555555555555556,\"#d8576b\"],[0.6666666666666666,\"#ed7953\"],[0.7777777777777778,\"#fb9f3a\"],[0.8888888888888888,\"#fdca26\"],[1.0,\"#f0f921\"]]}],\"contourcarpet\":[{\"type\":\"contourcarpet\",\"colorbar\":{\"outlinewidth\":0,\"ticks\":\"\"}}],\"contour\":[{\"type\":\"contour\",\"colorbar\":{\"outlinewidth\":0,\"ticks\":\"\"},\"colorscale\":[[0.0,\"#0d0887\"],[0.1111111111111111,\"#46039f\"],[0.2222222222222222,\"#7201a8\"],[0.3333333333333333,\"#9c179e\"],[0.4444444444444444,\"#bd3786\"],[0.5555555555555556,\"#d8576b\"],[0.6666666666666666,\"#ed7953\"],[0.7777777777777778,\"#fb9f3a\"],[0.8888888888888888,\"#fdca26\"],[1.0,\"#f0f921\"]]}],\"surface\":[{\"type\":\"surface\",\"colorbar\":{\"outlinewidth\":0,\"ticks\":\"\"},\"colorscale\":[[0.0,\"#0d0887\"],[0.1111111111111111,\"#46039f\"],[0.2222222222222222,\"#7201a8\"],[0.3333333333333333,\"#9c179e\"],[0.4444444444444444,\"#bd3786\"],[0.5555555555555556,\"#d8576b\"],[0.6666666666666666,\"#ed7953\"],[0.7777777777777778,\"#fb9f3a\"],[0.8888888888888888,\"#fdca26\"],[1.0,\"#f0f921\"]]}],\"mesh3d\":[{\"type\":\"mesh3d\",\"colorbar\":{\"outlinewidth\":0,\"ticks\":\"\"}}],\"scatter\":[{\"fillpattern\":{\"fillmode\":\"overlay\",\"size\":10,\"solidity\":0.2},\"type\":\"scatter\"}],\"parcoords\":[{\"type\":\"parcoords\",\"line\":{\"colorbar\":{\"outlinewidth\":0,\"ticks\":\"\"}}}],\"scatterpolargl\":[{\"type\":\"scatterpolargl\",\"marker\":{\"colorbar\":{\"outlinewidth\":0,\"ticks\":\"\"}}}],\"bar\":[{\"error_x\":{\"color\":\"#2a3f5f\"},\"error_y\":{\"color\":\"#2a3f5f\"},\"marker\":{\"line\":{\"color\":\"#E5ECF6\",\"width\":0.5},\"pattern\":{\"fillmode\":\"overlay\",\"size\":10,\"solidity\":0.2}},\"type\":\"bar\"}],\"scattergeo\":[{\"type\":\"scattergeo\",\"marker\":{\"colorbar\":{\"outlinewidth\":0,\"ticks\":\"\"}}}],\"scatterpolar\":[{\"type\":\"scatterpolar\",\"marker\":{\"colorbar\":{\"outlinewidth\":0,\"ticks\":\"\"}}}],\"histogram\":[{\"marker\":{\"pattern\":{\"fillmode\":\"overlay\",\"size\":10,\"solidity\":0.2}},\"type\":\"histogram\"}],\"scattergl\":[{\"type\":\"scattergl\",\"marker\":{\"colorbar\":{\"outlinewidth\":0,\"ticks\":\"\"}}}],\"scatter3d\":[{\"type\":\"scatter3d\",\"line\":{\"colorbar\":{\"outlinewidth\":0,\"ticks\":\"\"}},\"marker\":{\"colorbar\":{\"outlinewidth\":0,\"ticks\":\"\"}}}],\"scattermapbox\":[{\"type\":\"scattermapbox\",\"marker\":{\"colorbar\":{\"outlinewidth\":0,\"ticks\":\"\"}}}],\"scatterternary\":[{\"type\":\"scatterternary\",\"marker\":{\"colorbar\":{\"outlinewidth\":0,\"ticks\":\"\"}}}],\"scattercarpet\":[{\"type\":\"scattercarpet\",\"marker\":{\"colorbar\":{\"outlinewidth\":0,\"ticks\":\"\"}}}],\"carpet\":[{\"aaxis\":{\"endlinecolor\":\"#2a3f5f\",\"gridcolor\":\"white\",\"linecolor\":\"white\",\"minorgridcolor\":\"white\",\"startlinecolor\":\"#2a3f5f\"},\"baxis\":{\"endlinecolor\":\"#2a3f5f\",\"gridcolor\":\"white\",\"linecolor\":\"white\",\"minorgridcolor\":\"white\",\"startlinecolor\":\"#2a3f5f\"},\"type\":\"carpet\"}],\"table\":[{\"cells\":{\"fill\":{\"color\":\"#EBF0F8\"},\"line\":{\"color\":\"white\"}},\"header\":{\"fill\":{\"color\":\"#C8D4E3\"},\"line\":{\"color\":\"white\"}},\"type\":\"table\"}],\"barpolar\":[{\"marker\":{\"line\":{\"color\":\"#E5ECF6\",\"width\":0.5},\"pattern\":{\"fillmode\":\"overlay\",\"size\":10,\"solidity\":0.2}},\"type\":\"barpolar\"}],\"pie\":[{\"automargin\":true,\"type\":\"pie\"}]},\"layout\":{\"autotypenumbers\":\"strict\",\"colorway\":[\"#636efa\",\"#EF553B\",\"#00cc96\",\"#ab63fa\",\"#FFA15A\",\"#19d3f3\",\"#FF6692\",\"#B6E880\",\"#FF97FF\",\"#FECB52\"],\"font\":{\"color\":\"#2a3f5f\"},\"hovermode\":\"closest\",\"hoverlabel\":{\"align\":\"left\"},\"paper_bgcolor\":\"white\",\"plot_bgcolor\":\"#E5ECF6\",\"polar\":{\"bgcolor\":\"#E5ECF6\",\"angularaxis\":{\"gridcolor\":\"white\",\"linecolor\":\"white\",\"ticks\":\"\"},\"radialaxis\":{\"gridcolor\":\"white\",\"linecolor\":\"white\",\"ticks\":\"\"}},\"ternary\":{\"bgcolor\":\"#E5ECF6\",\"aaxis\":{\"gridcolor\":\"white\",\"linecolor\":\"white\",\"ticks\":\"\"},\"baxis\":{\"gridcolor\":\"white\",\"linecolor\":\"white\",\"ticks\":\"\"},\"caxis\":{\"gridcolor\":\"white\",\"linecolor\":\"white\",\"ticks\":\"\"}},\"coloraxis\":{\"colorbar\":{\"outlinewidth\":0,\"ticks\":\"\"}},\"colorscale\":{\"sequential\":[[0.0,\"#0d0887\"],[0.1111111111111111,\"#46039f\"],[0.2222222222222222,\"#7201a8\"],[0.3333333333333333,\"#9c179e\"],[0.4444444444444444,\"#bd3786\"],[0.5555555555555556,\"#d8576b\"],[0.6666666666666666,\"#ed7953\"],[0.7777777777777778,\"#fb9f3a\"],[0.8888888888888888,\"#fdca26\"],[1.0,\"#f0f921\"]],\"sequentialminus\":[[0.0,\"#0d0887\"],[0.1111111111111111,\"#46039f\"],[0.2222222222222222,\"#7201a8\"],[0.3333333333333333,\"#9c179e\"],[0.4444444444444444,\"#bd3786\"],[0.5555555555555556,\"#d8576b\"],[0.6666666666666666,\"#ed7953\"],[0.7777777777777778,\"#fb9f3a\"],[0.8888888888888888,\"#fdca26\"],[1.0,\"#f0f921\"]],\"diverging\":[[0,\"#8e0152\"],[0.1,\"#c51b7d\"],[0.2,\"#de77ae\"],[0.3,\"#f1b6da\"],[0.4,\"#fde0ef\"],[0.5,\"#f7f7f7\"],[0.6,\"#e6f5d0\"],[0.7,\"#b8e186\"],[0.8,\"#7fbc41\"],[0.9,\"#4d9221\"],[1,\"#276419\"]]},\"xaxis\":{\"gridcolor\":\"white\",\"linecolor\":\"white\",\"ticks\":\"\",\"title\":{\"standoff\":15},\"zerolinecolor\":\"white\",\"automargin\":true,\"zerolinewidth\":2},\"yaxis\":{\"gridcolor\":\"white\",\"linecolor\":\"white\",\"ticks\":\"\",\"title\":{\"standoff\":15},\"zerolinecolor\":\"white\",\"automargin\":true,\"zerolinewidth\":2},\"scene\":{\"xaxis\":{\"backgroundcolor\":\"#E5ECF6\",\"gridcolor\":\"white\",\"linecolor\":\"white\",\"showbackground\":true,\"ticks\":\"\",\"zerolinecolor\":\"white\",\"gridwidth\":2},\"yaxis\":{\"backgroundcolor\":\"#E5ECF6\",\"gridcolor\":\"white\",\"linecolor\":\"white\",\"showbackground\":true,\"ticks\":\"\",\"zerolinecolor\":\"white\",\"gridwidth\":2},\"zaxis\":{\"backgroundcolor\":\"#E5ECF6\",\"gridcolor\":\"white\",\"linecolor\":\"white\",\"showbackground\":true,\"ticks\":\"\",\"zerolinecolor\":\"white\",\"gridwidth\":2}},\"shapedefaults\":{\"line\":{\"color\":\"#2a3f5f\"}},\"annotationdefaults\":{\"arrowcolor\":\"#2a3f5f\",\"arrowhead\":0,\"arrowwidth\":1},\"geo\":{\"bgcolor\":\"white\",\"landcolor\":\"#E5ECF6\",\"subunitcolor\":\"white\",\"showland\":true,\"showlakes\":true,\"lakecolor\":\"white\"},\"title\":{\"x\":0.05},\"mapbox\":{\"style\":\"light\"}}},\"xaxis\":{\"anchor\":\"y\",\"domain\":[0.0,1.0],\"title\":{\"text\":\"Year\"}},\"yaxis\":{\"anchor\":\"x\",\"domain\":[0.0,1.0],\"title\":{\"text\":\"QualifiedTeams\"}},\"legend\":{\"title\":{\"text\":\"Country\"},\"tracegroupgap\":0},\"margin\":{\"t\":60}},                        {\"responsive\": true}                    ).then(function(){\n",
       "                            \n",
       "var gd = document.getElementById('b9ee3381-fc22-4d01-8fe5-6ba88a441504');\n",
       "var x = new MutationObserver(function (mutations, observer) {{\n",
       "        var display = window.getComputedStyle(gd).display;\n",
       "        if (!display || display === 'none') {{\n",
       "            console.log([gd, 'removed!']);\n",
       "            Plotly.purge(gd);\n",
       "            observer.disconnect();\n",
       "        }}\n",
       "}});\n",
       "\n",
       "// Listen for the removal of the full notebook cells\n",
       "var notebookContainer = gd.closest('#notebook-container');\n",
       "if (notebookContainer) {{\n",
       "    x.observe(notebookContainer, {childList: true});\n",
       "}}\n",
       "\n",
       "// Listen for the clearing of the current output cell\n",
       "var outputEl = gd.closest('.output');\n",
       "if (outputEl) {{\n",
       "    x.observe(outputEl, {childList: true});\n",
       "}}\n",
       "\n",
       "                        })                };                });            </script>        </div>"
      ]
     },
     "metadata": {},
     "output_type": "display_data"
    }
   ],
   "source": [
    "# in which year team qualified the most as pe color\n",
    "px.scatter(df3, x='Year',y='QualifiedTeams', color='Country')"
   ]
  },
  {
   "cell_type": "markdown",
   "metadata": {},
   "source": [
    "from the above we can see that France in the year 1998, Japan in 2002 , Germany, South africa, Brazil"
   ]
  },
  {
   "cell_type": "code",
   "execution_count": 152,
   "metadata": {},
   "outputs": [
    {
     "data": {
      "text/html": [
       "<div>\n",
       "<style scoped>\n",
       "    .dataframe tbody tr th:only-of-type {\n",
       "        vertical-align: middle;\n",
       "    }\n",
       "\n",
       "    .dataframe tbody tr th {\n",
       "        vertical-align: top;\n",
       "    }\n",
       "\n",
       "    .dataframe thead th {\n",
       "        text-align: right;\n",
       "    }\n",
       "</style>\n",
       "<table border=\"1\" class=\"dataframe\">\n",
       "  <thead>\n",
       "    <tr style=\"text-align: right;\">\n",
       "      <th></th>\n",
       "      <th>Year</th>\n",
       "      <th>Country</th>\n",
       "      <th>Winner</th>\n",
       "      <th>Runners-Up</th>\n",
       "      <th>Third</th>\n",
       "      <th>Fourth</th>\n",
       "      <th>GoalsScored</th>\n",
       "      <th>QualifiedTeams</th>\n",
       "      <th>MatchesPlayed</th>\n",
       "      <th>Attendance</th>\n",
       "    </tr>\n",
       "  </thead>\n",
       "  <tbody>\n",
       "    <tr>\n",
       "      <th>0</th>\n",
       "      <td>1930</td>\n",
       "      <td>Uruguay</td>\n",
       "      <td>Uruguay</td>\n",
       "      <td>Argentina</td>\n",
       "      <td>USA</td>\n",
       "      <td>Yugoslavia</td>\n",
       "      <td>70</td>\n",
       "      <td>13</td>\n",
       "      <td>18</td>\n",
       "      <td>590.549</td>\n",
       "    </tr>\n",
       "    <tr>\n",
       "      <th>1</th>\n",
       "      <td>1934</td>\n",
       "      <td>Italy</td>\n",
       "      <td>Italy</td>\n",
       "      <td>Czechoslovakia</td>\n",
       "      <td>Germany</td>\n",
       "      <td>Austria</td>\n",
       "      <td>70</td>\n",
       "      <td>16</td>\n",
       "      <td>17</td>\n",
       "      <td>363.000</td>\n",
       "    </tr>\n",
       "    <tr>\n",
       "      <th>2</th>\n",
       "      <td>1938</td>\n",
       "      <td>France</td>\n",
       "      <td>Italy</td>\n",
       "      <td>Hungary</td>\n",
       "      <td>Brazil</td>\n",
       "      <td>Sweden</td>\n",
       "      <td>84</td>\n",
       "      <td>15</td>\n",
       "      <td>18</td>\n",
       "      <td>375.700</td>\n",
       "    </tr>\n",
       "    <tr>\n",
       "      <th>3</th>\n",
       "      <td>1950</td>\n",
       "      <td>Brazil</td>\n",
       "      <td>Uruguay</td>\n",
       "      <td>Brazil</td>\n",
       "      <td>Sweden</td>\n",
       "      <td>Spain</td>\n",
       "      <td>88</td>\n",
       "      <td>13</td>\n",
       "      <td>22</td>\n",
       "      <td>1.045.246</td>\n",
       "    </tr>\n",
       "    <tr>\n",
       "      <th>4</th>\n",
       "      <td>1954</td>\n",
       "      <td>Switzerland</td>\n",
       "      <td>Germany FR</td>\n",
       "      <td>Hungary</td>\n",
       "      <td>Austria</td>\n",
       "      <td>Uruguay</td>\n",
       "      <td>140</td>\n",
       "      <td>16</td>\n",
       "      <td>26</td>\n",
       "      <td>768.607</td>\n",
       "    </tr>\n",
       "  </tbody>\n",
       "</table>\n",
       "</div>"
      ],
      "text/plain": [
       "   Year      Country      Winner      Runners-Up    Third      Fourth  \\\n",
       "0  1930      Uruguay     Uruguay       Argentina      USA  Yugoslavia   \n",
       "1  1934        Italy       Italy  Czechoslovakia  Germany     Austria   \n",
       "2  1938       France       Italy         Hungary   Brazil      Sweden   \n",
       "3  1950       Brazil     Uruguay          Brazil   Sweden       Spain   \n",
       "4  1954  Switzerland  Germany FR         Hungary  Austria     Uruguay   \n",
       "\n",
       "   GoalsScored  QualifiedTeams  MatchesPlayed Attendance  \n",
       "0           70              13             18    590.549  \n",
       "1           70              16             17    363.000  \n",
       "2           84              15             18    375.700  \n",
       "3           88              13             22  1.045.246  \n",
       "4          140              16             26    768.607  "
      ]
     },
     "execution_count": 152,
     "metadata": {},
     "output_type": "execute_result"
    }
   ],
   "source": [
    "df3.head()"
   ]
  },
  {
   "cell_type": "code",
   "execution_count": 155,
   "metadata": {},
   "outputs": [
    {
     "data": {
      "application/vnd.plotly.v1+json": {
       "config": {
        "linkText": "Export to plot.ly",
        "plotlyServerURL": "https://plot.ly",
        "showLink": true
       },
       "data": [
        {
         "marker": {
          "color": "rgba(255, 153, 51, 0.6)",
          "line": {
           "color": "rgba(255, 153, 51, 1.0)",
           "width": 1
          }
         },
         "name": "Winner",
         "orientation": "v",
         "text": "",
         "type": "bar",
         "x": [
          0,
          1,
          2,
          3,
          4,
          5,
          6,
          7,
          8,
          9,
          10,
          11,
          12,
          13,
          14,
          15,
          16,
          17,
          18,
          19
         ],
         "y": [
          "Uruguay",
          "Italy",
          "Italy",
          "Uruguay",
          "Germany FR",
          "Brazil",
          "Brazil",
          "England",
          "Brazil",
          "Germany FR",
          "Argentina",
          "Italy",
          "Argentina",
          "Germany FR",
          "Brazil",
          "France",
          "Brazil",
          "Italy",
          "Spain",
          "Germany"
         ]
        },
        {
         "marker": {
          "color": "rgba(55, 128, 191, 0.6)",
          "line": {
           "color": "rgba(55, 128, 191, 1.0)",
           "width": 1
          }
         },
         "name": "Runners-Up",
         "orientation": "v",
         "text": "",
         "type": "bar",
         "x": [
          0,
          1,
          2,
          3,
          4,
          5,
          6,
          7,
          8,
          9,
          10,
          11,
          12,
          13,
          14,
          15,
          16,
          17,
          18,
          19
         ],
         "y": [
          "Argentina",
          "Czechoslovakia",
          "Hungary",
          "Brazil",
          "Hungary",
          "Sweden",
          "Czechoslovakia",
          "Germany FR",
          "Italy",
          "Netherlands",
          "Netherlands",
          "Germany FR",
          "Germany FR",
          "Argentina",
          "Italy",
          "Brazil",
          "Germany",
          "France",
          "Netherlands",
          "Argentina"
         ]
        },
        {
         "marker": {
          "color": "rgba(50, 171, 96, 0.6)",
          "line": {
           "color": "rgba(50, 171, 96, 1.0)",
           "width": 1
          }
         },
         "name": "Third",
         "orientation": "v",
         "text": "",
         "type": "bar",
         "x": [
          0,
          1,
          2,
          3,
          4,
          5,
          6,
          7,
          8,
          9,
          10,
          11,
          12,
          13,
          14,
          15,
          16,
          17,
          18,
          19
         ],
         "y": [
          "USA",
          "Germany",
          "Brazil",
          "Sweden",
          "Austria",
          "France",
          "Chile",
          "Portugal",
          "Germany FR",
          "Poland",
          "Brazil",
          "Poland",
          "France",
          "Italy",
          "Sweden",
          "Croatia",
          "Turkey",
          "Germany",
          "Germany",
          "Netherlands"
         ]
        },
        {
         "marker": {
          "color": "rgba(128, 0, 128, 0.6)",
          "line": {
           "color": "rgba(128, 0, 128, 1.0)",
           "width": 1
          }
         },
         "name": "Fourth",
         "orientation": "v",
         "text": "",
         "type": "bar",
         "x": [
          0,
          1,
          2,
          3,
          4,
          5,
          6,
          7,
          8,
          9,
          10,
          11,
          12,
          13,
          14,
          15,
          16,
          17,
          18,
          19
         ],
         "y": [
          "Yugoslavia",
          "Austria",
          "Sweden",
          "Spain",
          "Uruguay",
          "Germany FR",
          "Yugoslavia",
          "Soviet Union",
          "Uruguay",
          "Brazil",
          "Italy",
          "France",
          "Belgium",
          "England",
          "Bulgaria",
          "Netherlands",
          "Korea Republic",
          "Portugal",
          "Uruguay",
          "Brazil"
         ]
        }
       ],
       "layout": {
        "legend": {
         "bgcolor": "#F5F6F9",
         "font": {
          "color": "#4D5663"
         }
        },
        "paper_bgcolor": "#F5F6F9",
        "plot_bgcolor": "#F5F6F9",
        "template": {
         "data": {
          "bar": [
           {
            "error_x": {
             "color": "#2a3f5f"
            },
            "error_y": {
             "color": "#2a3f5f"
            },
            "marker": {
             "line": {
              "color": "#E5ECF6",
              "width": 0.5
             },
             "pattern": {
              "fillmode": "overlay",
              "size": 10,
              "solidity": 0.2
             }
            },
            "type": "bar"
           }
          ],
          "barpolar": [
           {
            "marker": {
             "line": {
              "color": "#E5ECF6",
              "width": 0.5
             },
             "pattern": {
              "fillmode": "overlay",
              "size": 10,
              "solidity": 0.2
             }
            },
            "type": "barpolar"
           }
          ],
          "carpet": [
           {
            "aaxis": {
             "endlinecolor": "#2a3f5f",
             "gridcolor": "white",
             "linecolor": "white",
             "minorgridcolor": "white",
             "startlinecolor": "#2a3f5f"
            },
            "baxis": {
             "endlinecolor": "#2a3f5f",
             "gridcolor": "white",
             "linecolor": "white",
             "minorgridcolor": "white",
             "startlinecolor": "#2a3f5f"
            },
            "type": "carpet"
           }
          ],
          "choropleth": [
           {
            "colorbar": {
             "outlinewidth": 0,
             "ticks": ""
            },
            "type": "choropleth"
           }
          ],
          "contour": [
           {
            "colorbar": {
             "outlinewidth": 0,
             "ticks": ""
            },
            "colorscale": [
             [
              0,
              "#0d0887"
             ],
             [
              0.1111111111111111,
              "#46039f"
             ],
             [
              0.2222222222222222,
              "#7201a8"
             ],
             [
              0.3333333333333333,
              "#9c179e"
             ],
             [
              0.4444444444444444,
              "#bd3786"
             ],
             [
              0.5555555555555556,
              "#d8576b"
             ],
             [
              0.6666666666666666,
              "#ed7953"
             ],
             [
              0.7777777777777778,
              "#fb9f3a"
             ],
             [
              0.8888888888888888,
              "#fdca26"
             ],
             [
              1,
              "#f0f921"
             ]
            ],
            "type": "contour"
           }
          ],
          "contourcarpet": [
           {
            "colorbar": {
             "outlinewidth": 0,
             "ticks": ""
            },
            "type": "contourcarpet"
           }
          ],
          "heatmap": [
           {
            "colorbar": {
             "outlinewidth": 0,
             "ticks": ""
            },
            "colorscale": [
             [
              0,
              "#0d0887"
             ],
             [
              0.1111111111111111,
              "#46039f"
             ],
             [
              0.2222222222222222,
              "#7201a8"
             ],
             [
              0.3333333333333333,
              "#9c179e"
             ],
             [
              0.4444444444444444,
              "#bd3786"
             ],
             [
              0.5555555555555556,
              "#d8576b"
             ],
             [
              0.6666666666666666,
              "#ed7953"
             ],
             [
              0.7777777777777778,
              "#fb9f3a"
             ],
             [
              0.8888888888888888,
              "#fdca26"
             ],
             [
              1,
              "#f0f921"
             ]
            ],
            "type": "heatmap"
           }
          ],
          "heatmapgl": [
           {
            "colorbar": {
             "outlinewidth": 0,
             "ticks": ""
            },
            "colorscale": [
             [
              0,
              "#0d0887"
             ],
             [
              0.1111111111111111,
              "#46039f"
             ],
             [
              0.2222222222222222,
              "#7201a8"
             ],
             [
              0.3333333333333333,
              "#9c179e"
             ],
             [
              0.4444444444444444,
              "#bd3786"
             ],
             [
              0.5555555555555556,
              "#d8576b"
             ],
             [
              0.6666666666666666,
              "#ed7953"
             ],
             [
              0.7777777777777778,
              "#fb9f3a"
             ],
             [
              0.8888888888888888,
              "#fdca26"
             ],
             [
              1,
              "#f0f921"
             ]
            ],
            "type": "heatmapgl"
           }
          ],
          "histogram": [
           {
            "marker": {
             "pattern": {
              "fillmode": "overlay",
              "size": 10,
              "solidity": 0.2
             }
            },
            "type": "histogram"
           }
          ],
          "histogram2d": [
           {
            "colorbar": {
             "outlinewidth": 0,
             "ticks": ""
            },
            "colorscale": [
             [
              0,
              "#0d0887"
             ],
             [
              0.1111111111111111,
              "#46039f"
             ],
             [
              0.2222222222222222,
              "#7201a8"
             ],
             [
              0.3333333333333333,
              "#9c179e"
             ],
             [
              0.4444444444444444,
              "#bd3786"
             ],
             [
              0.5555555555555556,
              "#d8576b"
             ],
             [
              0.6666666666666666,
              "#ed7953"
             ],
             [
              0.7777777777777778,
              "#fb9f3a"
             ],
             [
              0.8888888888888888,
              "#fdca26"
             ],
             [
              1,
              "#f0f921"
             ]
            ],
            "type": "histogram2d"
           }
          ],
          "histogram2dcontour": [
           {
            "colorbar": {
             "outlinewidth": 0,
             "ticks": ""
            },
            "colorscale": [
             [
              0,
              "#0d0887"
             ],
             [
              0.1111111111111111,
              "#46039f"
             ],
             [
              0.2222222222222222,
              "#7201a8"
             ],
             [
              0.3333333333333333,
              "#9c179e"
             ],
             [
              0.4444444444444444,
              "#bd3786"
             ],
             [
              0.5555555555555556,
              "#d8576b"
             ],
             [
              0.6666666666666666,
              "#ed7953"
             ],
             [
              0.7777777777777778,
              "#fb9f3a"
             ],
             [
              0.8888888888888888,
              "#fdca26"
             ],
             [
              1,
              "#f0f921"
             ]
            ],
            "type": "histogram2dcontour"
           }
          ],
          "mesh3d": [
           {
            "colorbar": {
             "outlinewidth": 0,
             "ticks": ""
            },
            "type": "mesh3d"
           }
          ],
          "parcoords": [
           {
            "line": {
             "colorbar": {
              "outlinewidth": 0,
              "ticks": ""
             }
            },
            "type": "parcoords"
           }
          ],
          "pie": [
           {
            "automargin": true,
            "type": "pie"
           }
          ],
          "scatter": [
           {
            "fillpattern": {
             "fillmode": "overlay",
             "size": 10,
             "solidity": 0.2
            },
            "type": "scatter"
           }
          ],
          "scatter3d": [
           {
            "line": {
             "colorbar": {
              "outlinewidth": 0,
              "ticks": ""
             }
            },
            "marker": {
             "colorbar": {
              "outlinewidth": 0,
              "ticks": ""
             }
            },
            "type": "scatter3d"
           }
          ],
          "scattercarpet": [
           {
            "marker": {
             "colorbar": {
              "outlinewidth": 0,
              "ticks": ""
             }
            },
            "type": "scattercarpet"
           }
          ],
          "scattergeo": [
           {
            "marker": {
             "colorbar": {
              "outlinewidth": 0,
              "ticks": ""
             }
            },
            "type": "scattergeo"
           }
          ],
          "scattergl": [
           {
            "marker": {
             "colorbar": {
              "outlinewidth": 0,
              "ticks": ""
             }
            },
            "type": "scattergl"
           }
          ],
          "scattermapbox": [
           {
            "marker": {
             "colorbar": {
              "outlinewidth": 0,
              "ticks": ""
             }
            },
            "type": "scattermapbox"
           }
          ],
          "scatterpolar": [
           {
            "marker": {
             "colorbar": {
              "outlinewidth": 0,
              "ticks": ""
             }
            },
            "type": "scatterpolar"
           }
          ],
          "scatterpolargl": [
           {
            "marker": {
             "colorbar": {
              "outlinewidth": 0,
              "ticks": ""
             }
            },
            "type": "scatterpolargl"
           }
          ],
          "scatterternary": [
           {
            "marker": {
             "colorbar": {
              "outlinewidth": 0,
              "ticks": ""
             }
            },
            "type": "scatterternary"
           }
          ],
          "surface": [
           {
            "colorbar": {
             "outlinewidth": 0,
             "ticks": ""
            },
            "colorscale": [
             [
              0,
              "#0d0887"
             ],
             [
              0.1111111111111111,
              "#46039f"
             ],
             [
              0.2222222222222222,
              "#7201a8"
             ],
             [
              0.3333333333333333,
              "#9c179e"
             ],
             [
              0.4444444444444444,
              "#bd3786"
             ],
             [
              0.5555555555555556,
              "#d8576b"
             ],
             [
              0.6666666666666666,
              "#ed7953"
             ],
             [
              0.7777777777777778,
              "#fb9f3a"
             ],
             [
              0.8888888888888888,
              "#fdca26"
             ],
             [
              1,
              "#f0f921"
             ]
            ],
            "type": "surface"
           }
          ],
          "table": [
           {
            "cells": {
             "fill": {
              "color": "#EBF0F8"
             },
             "line": {
              "color": "white"
             }
            },
            "header": {
             "fill": {
              "color": "#C8D4E3"
             },
             "line": {
              "color": "white"
             }
            },
            "type": "table"
           }
          ]
         },
         "layout": {
          "annotationdefaults": {
           "arrowcolor": "#2a3f5f",
           "arrowhead": 0,
           "arrowwidth": 1
          },
          "autotypenumbers": "strict",
          "coloraxis": {
           "colorbar": {
            "outlinewidth": 0,
            "ticks": ""
           }
          },
          "colorscale": {
           "diverging": [
            [
             0,
             "#8e0152"
            ],
            [
             0.1,
             "#c51b7d"
            ],
            [
             0.2,
             "#de77ae"
            ],
            [
             0.3,
             "#f1b6da"
            ],
            [
             0.4,
             "#fde0ef"
            ],
            [
             0.5,
             "#f7f7f7"
            ],
            [
             0.6,
             "#e6f5d0"
            ],
            [
             0.7,
             "#b8e186"
            ],
            [
             0.8,
             "#7fbc41"
            ],
            [
             0.9,
             "#4d9221"
            ],
            [
             1,
             "#276419"
            ]
           ],
           "sequential": [
            [
             0,
             "#0d0887"
            ],
            [
             0.1111111111111111,
             "#46039f"
            ],
            [
             0.2222222222222222,
             "#7201a8"
            ],
            [
             0.3333333333333333,
             "#9c179e"
            ],
            [
             0.4444444444444444,
             "#bd3786"
            ],
            [
             0.5555555555555556,
             "#d8576b"
            ],
            [
             0.6666666666666666,
             "#ed7953"
            ],
            [
             0.7777777777777778,
             "#fb9f3a"
            ],
            [
             0.8888888888888888,
             "#fdca26"
            ],
            [
             1,
             "#f0f921"
            ]
           ],
           "sequentialminus": [
            [
             0,
             "#0d0887"
            ],
            [
             0.1111111111111111,
             "#46039f"
            ],
            [
             0.2222222222222222,
             "#7201a8"
            ],
            [
             0.3333333333333333,
             "#9c179e"
            ],
            [
             0.4444444444444444,
             "#bd3786"
            ],
            [
             0.5555555555555556,
             "#d8576b"
            ],
            [
             0.6666666666666666,
             "#ed7953"
            ],
            [
             0.7777777777777778,
             "#fb9f3a"
            ],
            [
             0.8888888888888888,
             "#fdca26"
            ],
            [
             1,
             "#f0f921"
            ]
           ]
          },
          "colorway": [
           "#636efa",
           "#EF553B",
           "#00cc96",
           "#ab63fa",
           "#FFA15A",
           "#19d3f3",
           "#FF6692",
           "#B6E880",
           "#FF97FF",
           "#FECB52"
          ],
          "font": {
           "color": "#2a3f5f"
          },
          "geo": {
           "bgcolor": "white",
           "lakecolor": "white",
           "landcolor": "#E5ECF6",
           "showlakes": true,
           "showland": true,
           "subunitcolor": "white"
          },
          "hoverlabel": {
           "align": "left"
          },
          "hovermode": "closest",
          "mapbox": {
           "style": "light"
          },
          "paper_bgcolor": "white",
          "plot_bgcolor": "#E5ECF6",
          "polar": {
           "angularaxis": {
            "gridcolor": "white",
            "linecolor": "white",
            "ticks": ""
           },
           "bgcolor": "#E5ECF6",
           "radialaxis": {
            "gridcolor": "white",
            "linecolor": "white",
            "ticks": ""
           }
          },
          "scene": {
           "xaxis": {
            "backgroundcolor": "#E5ECF6",
            "gridcolor": "white",
            "gridwidth": 2,
            "linecolor": "white",
            "showbackground": true,
            "ticks": "",
            "zerolinecolor": "white"
           },
           "yaxis": {
            "backgroundcolor": "#E5ECF6",
            "gridcolor": "white",
            "gridwidth": 2,
            "linecolor": "white",
            "showbackground": true,
            "ticks": "",
            "zerolinecolor": "white"
           },
           "zaxis": {
            "backgroundcolor": "#E5ECF6",
            "gridcolor": "white",
            "gridwidth": 2,
            "linecolor": "white",
            "showbackground": true,
            "ticks": "",
            "zerolinecolor": "white"
           }
          },
          "shapedefaults": {
           "line": {
            "color": "#2a3f5f"
           }
          },
          "ternary": {
           "aaxis": {
            "gridcolor": "white",
            "linecolor": "white",
            "ticks": ""
           },
           "baxis": {
            "gridcolor": "white",
            "linecolor": "white",
            "ticks": ""
           },
           "bgcolor": "#E5ECF6",
           "caxis": {
            "gridcolor": "white",
            "linecolor": "white",
            "ticks": ""
           }
          },
          "title": {
           "x": 0.05
          },
          "xaxis": {
           "automargin": true,
           "gridcolor": "white",
           "linecolor": "white",
           "ticks": "",
           "title": {
            "standoff": 15
           },
           "zerolinecolor": "white",
           "zerolinewidth": 2
          },
          "yaxis": {
           "automargin": true,
           "gridcolor": "white",
           "linecolor": "white",
           "ticks": "",
           "title": {
            "standoff": 15
           },
           "zerolinecolor": "white",
           "zerolinewidth": 2
          }
         }
        },
        "title": {
         "font": {
          "color": "#4D5663"
         }
        },
        "xaxis": {
         "gridcolor": "#E1E5ED",
         "showgrid": true,
         "tickfont": {
          "color": "#4D5663"
         },
         "title": {
          "font": {
           "color": "#4D5663"
          },
          "text": ""
         },
         "zerolinecolor": "#E1E5ED"
        },
        "yaxis": {
         "gridcolor": "#E1E5ED",
         "showgrid": true,
         "tickfont": {
          "color": "#4D5663"
         },
         "title": {
          "font": {
           "color": "#4D5663"
          },
          "text": ""
         },
         "zerolinecolor": "#E1E5ED"
        }
       }
      },
      "text/html": [
       "<div>                            <div id=\"2cf9e26f-28f5-44aa-b637-c0ebf02325ba\" class=\"plotly-graph-div\" style=\"height:525px; width:100%;\"></div>            <script type=\"text/javascript\">                require([\"plotly\"], function(Plotly) {                    window.PLOTLYENV=window.PLOTLYENV || {};\n",
       "                    window.PLOTLYENV.BASE_URL='https://plot.ly';                                    if (document.getElementById(\"2cf9e26f-28f5-44aa-b637-c0ebf02325ba\")) {                    Plotly.newPlot(                        \"2cf9e26f-28f5-44aa-b637-c0ebf02325ba\",                        [{\"marker\":{\"color\":\"rgba(255, 153, 51, 0.6)\",\"line\":{\"color\":\"rgba(255, 153, 51, 1.0)\",\"width\":1}},\"name\":\"Winner\",\"orientation\":\"v\",\"text\":\"\",\"x\":[0,1,2,3,4,5,6,7,8,9,10,11,12,13,14,15,16,17,18,19],\"y\":[\"Uruguay\",\"Italy\",\"Italy\",\"Uruguay\",\"Germany FR\",\"Brazil\",\"Brazil\",\"England\",\"Brazil\",\"Germany FR\",\"Argentina\",\"Italy\",\"Argentina\",\"Germany FR\",\"Brazil\",\"France\",\"Brazil\",\"Italy\",\"Spain\",\"Germany\"],\"type\":\"bar\"},{\"marker\":{\"color\":\"rgba(55, 128, 191, 0.6)\",\"line\":{\"color\":\"rgba(55, 128, 191, 1.0)\",\"width\":1}},\"name\":\"Runners-Up\",\"orientation\":\"v\",\"text\":\"\",\"x\":[0,1,2,3,4,5,6,7,8,9,10,11,12,13,14,15,16,17,18,19],\"y\":[\"Argentina\",\"Czechoslovakia\",\"Hungary\",\"Brazil\",\"Hungary\",\"Sweden\",\"Czechoslovakia\",\"Germany FR\",\"Italy\",\"Netherlands\",\"Netherlands\",\"Germany FR\",\"Germany FR\",\"Argentina\",\"Italy\",\"Brazil\",\"Germany\",\"France\",\"Netherlands\",\"Argentina\"],\"type\":\"bar\"},{\"marker\":{\"color\":\"rgba(50, 171, 96, 0.6)\",\"line\":{\"color\":\"rgba(50, 171, 96, 1.0)\",\"width\":1}},\"name\":\"Third\",\"orientation\":\"v\",\"text\":\"\",\"x\":[0,1,2,3,4,5,6,7,8,9,10,11,12,13,14,15,16,17,18,19],\"y\":[\"USA\",\"Germany\",\"Brazil\",\"Sweden\",\"Austria\",\"France\",\"Chile\",\"Portugal\",\"Germany FR\",\"Poland\",\"Brazil\",\"Poland\",\"France\",\"Italy\",\"Sweden\",\"Croatia\",\"Turkey\",\"Germany\",\"Germany\",\"Netherlands\"],\"type\":\"bar\"},{\"marker\":{\"color\":\"rgba(128, 0, 128, 0.6)\",\"line\":{\"color\":\"rgba(128, 0, 128, 1.0)\",\"width\":1}},\"name\":\"Fourth\",\"orientation\":\"v\",\"text\":\"\",\"x\":[0,1,2,3,4,5,6,7,8,9,10,11,12,13,14,15,16,17,18,19],\"y\":[\"Yugoslavia\",\"Austria\",\"Sweden\",\"Spain\",\"Uruguay\",\"Germany FR\",\"Yugoslavia\",\"Soviet Union\",\"Uruguay\",\"Brazil\",\"Italy\",\"France\",\"Belgium\",\"England\",\"Bulgaria\",\"Netherlands\",\"Korea Republic\",\"Portugal\",\"Uruguay\",\"Brazil\"],\"type\":\"bar\"}],                        {\"legend\":{\"bgcolor\":\"#F5F6F9\",\"font\":{\"color\":\"#4D5663\"}},\"paper_bgcolor\":\"#F5F6F9\",\"plot_bgcolor\":\"#F5F6F9\",\"template\":{\"data\":{\"barpolar\":[{\"marker\":{\"line\":{\"color\":\"#E5ECF6\",\"width\":0.5},\"pattern\":{\"fillmode\":\"overlay\",\"size\":10,\"solidity\":0.2}},\"type\":\"barpolar\"}],\"bar\":[{\"error_x\":{\"color\":\"#2a3f5f\"},\"error_y\":{\"color\":\"#2a3f5f\"},\"marker\":{\"line\":{\"color\":\"#E5ECF6\",\"width\":0.5},\"pattern\":{\"fillmode\":\"overlay\",\"size\":10,\"solidity\":0.2}},\"type\":\"bar\"}],\"carpet\":[{\"aaxis\":{\"endlinecolor\":\"#2a3f5f\",\"gridcolor\":\"white\",\"linecolor\":\"white\",\"minorgridcolor\":\"white\",\"startlinecolor\":\"#2a3f5f\"},\"baxis\":{\"endlinecolor\":\"#2a3f5f\",\"gridcolor\":\"white\",\"linecolor\":\"white\",\"minorgridcolor\":\"white\",\"startlinecolor\":\"#2a3f5f\"},\"type\":\"carpet\"}],\"choropleth\":[{\"colorbar\":{\"outlinewidth\":0,\"ticks\":\"\"},\"type\":\"choropleth\"}],\"contourcarpet\":[{\"colorbar\":{\"outlinewidth\":0,\"ticks\":\"\"},\"type\":\"contourcarpet\"}],\"contour\":[{\"colorbar\":{\"outlinewidth\":0,\"ticks\":\"\"},\"colorscale\":[[0.0,\"#0d0887\"],[0.1111111111111111,\"#46039f\"],[0.2222222222222222,\"#7201a8\"],[0.3333333333333333,\"#9c179e\"],[0.4444444444444444,\"#bd3786\"],[0.5555555555555556,\"#d8576b\"],[0.6666666666666666,\"#ed7953\"],[0.7777777777777778,\"#fb9f3a\"],[0.8888888888888888,\"#fdca26\"],[1.0,\"#f0f921\"]],\"type\":\"contour\"}],\"heatmapgl\":[{\"colorbar\":{\"outlinewidth\":0,\"ticks\":\"\"},\"colorscale\":[[0.0,\"#0d0887\"],[0.1111111111111111,\"#46039f\"],[0.2222222222222222,\"#7201a8\"],[0.3333333333333333,\"#9c179e\"],[0.4444444444444444,\"#bd3786\"],[0.5555555555555556,\"#d8576b\"],[0.6666666666666666,\"#ed7953\"],[0.7777777777777778,\"#fb9f3a\"],[0.8888888888888888,\"#fdca26\"],[1.0,\"#f0f921\"]],\"type\":\"heatmapgl\"}],\"heatmap\":[{\"colorbar\":{\"outlinewidth\":0,\"ticks\":\"\"},\"colorscale\":[[0.0,\"#0d0887\"],[0.1111111111111111,\"#46039f\"],[0.2222222222222222,\"#7201a8\"],[0.3333333333333333,\"#9c179e\"],[0.4444444444444444,\"#bd3786\"],[0.5555555555555556,\"#d8576b\"],[0.6666666666666666,\"#ed7953\"],[0.7777777777777778,\"#fb9f3a\"],[0.8888888888888888,\"#fdca26\"],[1.0,\"#f0f921\"]],\"type\":\"heatmap\"}],\"histogram2dcontour\":[{\"colorbar\":{\"outlinewidth\":0,\"ticks\":\"\"},\"colorscale\":[[0.0,\"#0d0887\"],[0.1111111111111111,\"#46039f\"],[0.2222222222222222,\"#7201a8\"],[0.3333333333333333,\"#9c179e\"],[0.4444444444444444,\"#bd3786\"],[0.5555555555555556,\"#d8576b\"],[0.6666666666666666,\"#ed7953\"],[0.7777777777777778,\"#fb9f3a\"],[0.8888888888888888,\"#fdca26\"],[1.0,\"#f0f921\"]],\"type\":\"histogram2dcontour\"}],\"histogram2d\":[{\"colorbar\":{\"outlinewidth\":0,\"ticks\":\"\"},\"colorscale\":[[0.0,\"#0d0887\"],[0.1111111111111111,\"#46039f\"],[0.2222222222222222,\"#7201a8\"],[0.3333333333333333,\"#9c179e\"],[0.4444444444444444,\"#bd3786\"],[0.5555555555555556,\"#d8576b\"],[0.6666666666666666,\"#ed7953\"],[0.7777777777777778,\"#fb9f3a\"],[0.8888888888888888,\"#fdca26\"],[1.0,\"#f0f921\"]],\"type\":\"histogram2d\"}],\"histogram\":[{\"marker\":{\"pattern\":{\"fillmode\":\"overlay\",\"size\":10,\"solidity\":0.2}},\"type\":\"histogram\"}],\"mesh3d\":[{\"colorbar\":{\"outlinewidth\":0,\"ticks\":\"\"},\"type\":\"mesh3d\"}],\"parcoords\":[{\"line\":{\"colorbar\":{\"outlinewidth\":0,\"ticks\":\"\"}},\"type\":\"parcoords\"}],\"pie\":[{\"automargin\":true,\"type\":\"pie\"}],\"scatter3d\":[{\"line\":{\"colorbar\":{\"outlinewidth\":0,\"ticks\":\"\"}},\"marker\":{\"colorbar\":{\"outlinewidth\":0,\"ticks\":\"\"}},\"type\":\"scatter3d\"}],\"scattercarpet\":[{\"marker\":{\"colorbar\":{\"outlinewidth\":0,\"ticks\":\"\"}},\"type\":\"scattercarpet\"}],\"scattergeo\":[{\"marker\":{\"colorbar\":{\"outlinewidth\":0,\"ticks\":\"\"}},\"type\":\"scattergeo\"}],\"scattergl\":[{\"marker\":{\"colorbar\":{\"outlinewidth\":0,\"ticks\":\"\"}},\"type\":\"scattergl\"}],\"scattermapbox\":[{\"marker\":{\"colorbar\":{\"outlinewidth\":0,\"ticks\":\"\"}},\"type\":\"scattermapbox\"}],\"scatterpolargl\":[{\"marker\":{\"colorbar\":{\"outlinewidth\":0,\"ticks\":\"\"}},\"type\":\"scatterpolargl\"}],\"scatterpolar\":[{\"marker\":{\"colorbar\":{\"outlinewidth\":0,\"ticks\":\"\"}},\"type\":\"scatterpolar\"}],\"scatter\":[{\"fillpattern\":{\"fillmode\":\"overlay\",\"size\":10,\"solidity\":0.2},\"type\":\"scatter\"}],\"scatterternary\":[{\"marker\":{\"colorbar\":{\"outlinewidth\":0,\"ticks\":\"\"}},\"type\":\"scatterternary\"}],\"surface\":[{\"colorbar\":{\"outlinewidth\":0,\"ticks\":\"\"},\"colorscale\":[[0.0,\"#0d0887\"],[0.1111111111111111,\"#46039f\"],[0.2222222222222222,\"#7201a8\"],[0.3333333333333333,\"#9c179e\"],[0.4444444444444444,\"#bd3786\"],[0.5555555555555556,\"#d8576b\"],[0.6666666666666666,\"#ed7953\"],[0.7777777777777778,\"#fb9f3a\"],[0.8888888888888888,\"#fdca26\"],[1.0,\"#f0f921\"]],\"type\":\"surface\"}],\"table\":[{\"cells\":{\"fill\":{\"color\":\"#EBF0F8\"},\"line\":{\"color\":\"white\"}},\"header\":{\"fill\":{\"color\":\"#C8D4E3\"},\"line\":{\"color\":\"white\"}},\"type\":\"table\"}]},\"layout\":{\"annotationdefaults\":{\"arrowcolor\":\"#2a3f5f\",\"arrowhead\":0,\"arrowwidth\":1},\"autotypenumbers\":\"strict\",\"coloraxis\":{\"colorbar\":{\"outlinewidth\":0,\"ticks\":\"\"}},\"colorscale\":{\"diverging\":[[0,\"#8e0152\"],[0.1,\"#c51b7d\"],[0.2,\"#de77ae\"],[0.3,\"#f1b6da\"],[0.4,\"#fde0ef\"],[0.5,\"#f7f7f7\"],[0.6,\"#e6f5d0\"],[0.7,\"#b8e186\"],[0.8,\"#7fbc41\"],[0.9,\"#4d9221\"],[1,\"#276419\"]],\"sequential\":[[0.0,\"#0d0887\"],[0.1111111111111111,\"#46039f\"],[0.2222222222222222,\"#7201a8\"],[0.3333333333333333,\"#9c179e\"],[0.4444444444444444,\"#bd3786\"],[0.5555555555555556,\"#d8576b\"],[0.6666666666666666,\"#ed7953\"],[0.7777777777777778,\"#fb9f3a\"],[0.8888888888888888,\"#fdca26\"],[1.0,\"#f0f921\"]],\"sequentialminus\":[[0.0,\"#0d0887\"],[0.1111111111111111,\"#46039f\"],[0.2222222222222222,\"#7201a8\"],[0.3333333333333333,\"#9c179e\"],[0.4444444444444444,\"#bd3786\"],[0.5555555555555556,\"#d8576b\"],[0.6666666666666666,\"#ed7953\"],[0.7777777777777778,\"#fb9f3a\"],[0.8888888888888888,\"#fdca26\"],[1.0,\"#f0f921\"]]},\"colorway\":[\"#636efa\",\"#EF553B\",\"#00cc96\",\"#ab63fa\",\"#FFA15A\",\"#19d3f3\",\"#FF6692\",\"#B6E880\",\"#FF97FF\",\"#FECB52\"],\"font\":{\"color\":\"#2a3f5f\"},\"geo\":{\"bgcolor\":\"white\",\"lakecolor\":\"white\",\"landcolor\":\"#E5ECF6\",\"showlakes\":true,\"showland\":true,\"subunitcolor\":\"white\"},\"hoverlabel\":{\"align\":\"left\"},\"hovermode\":\"closest\",\"mapbox\":{\"style\":\"light\"},\"paper_bgcolor\":\"white\",\"plot_bgcolor\":\"#E5ECF6\",\"polar\":{\"angularaxis\":{\"gridcolor\":\"white\",\"linecolor\":\"white\",\"ticks\":\"\"},\"bgcolor\":\"#E5ECF6\",\"radialaxis\":{\"gridcolor\":\"white\",\"linecolor\":\"white\",\"ticks\":\"\"}},\"scene\":{\"xaxis\":{\"backgroundcolor\":\"#E5ECF6\",\"gridcolor\":\"white\",\"gridwidth\":2,\"linecolor\":\"white\",\"showbackground\":true,\"ticks\":\"\",\"zerolinecolor\":\"white\"},\"yaxis\":{\"backgroundcolor\":\"#E5ECF6\",\"gridcolor\":\"white\",\"gridwidth\":2,\"linecolor\":\"white\",\"showbackground\":true,\"ticks\":\"\",\"zerolinecolor\":\"white\"},\"zaxis\":{\"backgroundcolor\":\"#E5ECF6\",\"gridcolor\":\"white\",\"gridwidth\":2,\"linecolor\":\"white\",\"showbackground\":true,\"ticks\":\"\",\"zerolinecolor\":\"white\"}},\"shapedefaults\":{\"line\":{\"color\":\"#2a3f5f\"}},\"ternary\":{\"aaxis\":{\"gridcolor\":\"white\",\"linecolor\":\"white\",\"ticks\":\"\"},\"baxis\":{\"gridcolor\":\"white\",\"linecolor\":\"white\",\"ticks\":\"\"},\"bgcolor\":\"#E5ECF6\",\"caxis\":{\"gridcolor\":\"white\",\"linecolor\":\"white\",\"ticks\":\"\"}},\"title\":{\"x\":0.05},\"xaxis\":{\"automargin\":true,\"gridcolor\":\"white\",\"linecolor\":\"white\",\"ticks\":\"\",\"title\":{\"standoff\":15},\"zerolinecolor\":\"white\",\"zerolinewidth\":2},\"yaxis\":{\"automargin\":true,\"gridcolor\":\"white\",\"linecolor\":\"white\",\"ticks\":\"\",\"title\":{\"standoff\":15},\"zerolinecolor\":\"white\",\"zerolinewidth\":2}}},\"title\":{\"font\":{\"color\":\"#4D5663\"}},\"xaxis\":{\"gridcolor\":\"#E1E5ED\",\"showgrid\":true,\"tickfont\":{\"color\":\"#4D5663\"},\"title\":{\"font\":{\"color\":\"#4D5663\"},\"text\":\"\"},\"zerolinecolor\":\"#E1E5ED\"},\"yaxis\":{\"gridcolor\":\"#E1E5ED\",\"showgrid\":true,\"tickfont\":{\"color\":\"#4D5663\"},\"title\":{\"font\":{\"color\":\"#4D5663\"},\"text\":\"\"},\"zerolinecolor\":\"#E1E5ED\"}},                        {\"showLink\": true, \"linkText\": \"Export to plot.ly\", \"plotlyServerURL\": \"https://plot.ly\", \"responsive\": true}                    ).then(function(){\n",
       "                            \n",
       "var gd = document.getElementById('2cf9e26f-28f5-44aa-b637-c0ebf02325ba');\n",
       "var x = new MutationObserver(function (mutations, observer) {{\n",
       "        var display = window.getComputedStyle(gd).display;\n",
       "        if (!display || display === 'none') {{\n",
       "            console.log([gd, 'removed!']);\n",
       "            Plotly.purge(gd);\n",
       "            observer.disconnect();\n",
       "        }}\n",
       "}});\n",
       "\n",
       "// Listen for the removal of the full notebook cells\n",
       "var notebookContainer = gd.closest('#notebook-container');\n",
       "if (notebookContainer) {{\n",
       "    x.observe(notebookContainer, {childList: true});\n",
       "}}\n",
       "\n",
       "// Listen for the clearing of the current output cell\n",
       "var outputEl = gd.closest('.output');\n",
       "if (outputEl) {{\n",
       "    x.observe(outputEl, {childList: true});\n",
       "}}\n",
       "\n",
       "                        })                };                });            </script>        </div>"
      ]
     },
     "metadata": {},
     "output_type": "display_data"
    }
   ],
   "source": [
    "df3[['Winner','Runners-Up','Third','Fourth']].iplot(kind='bar')"
   ]
  },
  {
   "cell_type": "markdown",
   "metadata": {},
   "source": [
    "From the above we can see the comparision of 'Winner','Runners-Up','Third','Fourth' in every match"
   ]
  },
  {
   "cell_type": "code",
   "execution_count": 162,
   "metadata": {},
   "outputs": [
    {
     "data": {
      "application/vnd.plotly.v1+json": {
       "config": {
        "plotlyServerURL": "https://plot.ly"
       },
       "data": [
        {
         "alignmentgroup": "True",
         "bingroup": "y",
         "histfunc": "sum",
         "hovertemplate": "sum of Year=%{x}<br>Attendance=%{y}<extra></extra>",
         "legendgroup": "",
         "marker": {
          "color": "#636efa",
          "pattern": {
           "shape": ""
          }
         },
         "name": "",
         "offsetgroup": "",
         "orientation": "h",
         "showlegend": false,
         "type": "histogram",
         "x": [
          1930,
          1934,
          1938,
          1950,
          1954,
          1958,
          1962,
          1966,
          1970,
          1974,
          1978,
          1982,
          1986,
          1990,
          1994,
          1998,
          2002,
          2006,
          2010,
          2014
         ],
         "xaxis": "x",
         "y": [
          "590.549",
          "363.000",
          "375.700",
          "1.045.246",
          "768.607",
          "819.810",
          "893.172",
          "1.563.135",
          "1.603.975",
          "1.865.753",
          "1.545.791",
          "2.109.723",
          "2.394.031",
          "2.516.215",
          "3.587.538",
          "2.785.100",
          "2.705.197",
          "3.359.439",
          "3.178.856",
          "3.386.810"
         ],
         "yaxis": "y"
        }
       ],
       "layout": {
        "barmode": "relative",
        "legend": {
         "tracegroupgap": 0
        },
        "margin": {
         "t": 60
        },
        "template": {
         "data": {
          "bar": [
           {
            "error_x": {
             "color": "#2a3f5f"
            },
            "error_y": {
             "color": "#2a3f5f"
            },
            "marker": {
             "line": {
              "color": "#E5ECF6",
              "width": 0.5
             },
             "pattern": {
              "fillmode": "overlay",
              "size": 10,
              "solidity": 0.2
             }
            },
            "type": "bar"
           }
          ],
          "barpolar": [
           {
            "marker": {
             "line": {
              "color": "#E5ECF6",
              "width": 0.5
             },
             "pattern": {
              "fillmode": "overlay",
              "size": 10,
              "solidity": 0.2
             }
            },
            "type": "barpolar"
           }
          ],
          "carpet": [
           {
            "aaxis": {
             "endlinecolor": "#2a3f5f",
             "gridcolor": "white",
             "linecolor": "white",
             "minorgridcolor": "white",
             "startlinecolor": "#2a3f5f"
            },
            "baxis": {
             "endlinecolor": "#2a3f5f",
             "gridcolor": "white",
             "linecolor": "white",
             "minorgridcolor": "white",
             "startlinecolor": "#2a3f5f"
            },
            "type": "carpet"
           }
          ],
          "choropleth": [
           {
            "colorbar": {
             "outlinewidth": 0,
             "ticks": ""
            },
            "type": "choropleth"
           }
          ],
          "contour": [
           {
            "colorbar": {
             "outlinewidth": 0,
             "ticks": ""
            },
            "colorscale": [
             [
              0,
              "#0d0887"
             ],
             [
              0.1111111111111111,
              "#46039f"
             ],
             [
              0.2222222222222222,
              "#7201a8"
             ],
             [
              0.3333333333333333,
              "#9c179e"
             ],
             [
              0.4444444444444444,
              "#bd3786"
             ],
             [
              0.5555555555555556,
              "#d8576b"
             ],
             [
              0.6666666666666666,
              "#ed7953"
             ],
             [
              0.7777777777777778,
              "#fb9f3a"
             ],
             [
              0.8888888888888888,
              "#fdca26"
             ],
             [
              1,
              "#f0f921"
             ]
            ],
            "type": "contour"
           }
          ],
          "contourcarpet": [
           {
            "colorbar": {
             "outlinewidth": 0,
             "ticks": ""
            },
            "type": "contourcarpet"
           }
          ],
          "heatmap": [
           {
            "colorbar": {
             "outlinewidth": 0,
             "ticks": ""
            },
            "colorscale": [
             [
              0,
              "#0d0887"
             ],
             [
              0.1111111111111111,
              "#46039f"
             ],
             [
              0.2222222222222222,
              "#7201a8"
             ],
             [
              0.3333333333333333,
              "#9c179e"
             ],
             [
              0.4444444444444444,
              "#bd3786"
             ],
             [
              0.5555555555555556,
              "#d8576b"
             ],
             [
              0.6666666666666666,
              "#ed7953"
             ],
             [
              0.7777777777777778,
              "#fb9f3a"
             ],
             [
              0.8888888888888888,
              "#fdca26"
             ],
             [
              1,
              "#f0f921"
             ]
            ],
            "type": "heatmap"
           }
          ],
          "heatmapgl": [
           {
            "colorbar": {
             "outlinewidth": 0,
             "ticks": ""
            },
            "colorscale": [
             [
              0,
              "#0d0887"
             ],
             [
              0.1111111111111111,
              "#46039f"
             ],
             [
              0.2222222222222222,
              "#7201a8"
             ],
             [
              0.3333333333333333,
              "#9c179e"
             ],
             [
              0.4444444444444444,
              "#bd3786"
             ],
             [
              0.5555555555555556,
              "#d8576b"
             ],
             [
              0.6666666666666666,
              "#ed7953"
             ],
             [
              0.7777777777777778,
              "#fb9f3a"
             ],
             [
              0.8888888888888888,
              "#fdca26"
             ],
             [
              1,
              "#f0f921"
             ]
            ],
            "type": "heatmapgl"
           }
          ],
          "histogram": [
           {
            "marker": {
             "pattern": {
              "fillmode": "overlay",
              "size": 10,
              "solidity": 0.2
             }
            },
            "type": "histogram"
           }
          ],
          "histogram2d": [
           {
            "colorbar": {
             "outlinewidth": 0,
             "ticks": ""
            },
            "colorscale": [
             [
              0,
              "#0d0887"
             ],
             [
              0.1111111111111111,
              "#46039f"
             ],
             [
              0.2222222222222222,
              "#7201a8"
             ],
             [
              0.3333333333333333,
              "#9c179e"
             ],
             [
              0.4444444444444444,
              "#bd3786"
             ],
             [
              0.5555555555555556,
              "#d8576b"
             ],
             [
              0.6666666666666666,
              "#ed7953"
             ],
             [
              0.7777777777777778,
              "#fb9f3a"
             ],
             [
              0.8888888888888888,
              "#fdca26"
             ],
             [
              1,
              "#f0f921"
             ]
            ],
            "type": "histogram2d"
           }
          ],
          "histogram2dcontour": [
           {
            "colorbar": {
             "outlinewidth": 0,
             "ticks": ""
            },
            "colorscale": [
             [
              0,
              "#0d0887"
             ],
             [
              0.1111111111111111,
              "#46039f"
             ],
             [
              0.2222222222222222,
              "#7201a8"
             ],
             [
              0.3333333333333333,
              "#9c179e"
             ],
             [
              0.4444444444444444,
              "#bd3786"
             ],
             [
              0.5555555555555556,
              "#d8576b"
             ],
             [
              0.6666666666666666,
              "#ed7953"
             ],
             [
              0.7777777777777778,
              "#fb9f3a"
             ],
             [
              0.8888888888888888,
              "#fdca26"
             ],
             [
              1,
              "#f0f921"
             ]
            ],
            "type": "histogram2dcontour"
           }
          ],
          "mesh3d": [
           {
            "colorbar": {
             "outlinewidth": 0,
             "ticks": ""
            },
            "type": "mesh3d"
           }
          ],
          "parcoords": [
           {
            "line": {
             "colorbar": {
              "outlinewidth": 0,
              "ticks": ""
             }
            },
            "type": "parcoords"
           }
          ],
          "pie": [
           {
            "automargin": true,
            "type": "pie"
           }
          ],
          "scatter": [
           {
            "fillpattern": {
             "fillmode": "overlay",
             "size": 10,
             "solidity": 0.2
            },
            "type": "scatter"
           }
          ],
          "scatter3d": [
           {
            "line": {
             "colorbar": {
              "outlinewidth": 0,
              "ticks": ""
             }
            },
            "marker": {
             "colorbar": {
              "outlinewidth": 0,
              "ticks": ""
             }
            },
            "type": "scatter3d"
           }
          ],
          "scattercarpet": [
           {
            "marker": {
             "colorbar": {
              "outlinewidth": 0,
              "ticks": ""
             }
            },
            "type": "scattercarpet"
           }
          ],
          "scattergeo": [
           {
            "marker": {
             "colorbar": {
              "outlinewidth": 0,
              "ticks": ""
             }
            },
            "type": "scattergeo"
           }
          ],
          "scattergl": [
           {
            "marker": {
             "colorbar": {
              "outlinewidth": 0,
              "ticks": ""
             }
            },
            "type": "scattergl"
           }
          ],
          "scattermapbox": [
           {
            "marker": {
             "colorbar": {
              "outlinewidth": 0,
              "ticks": ""
             }
            },
            "type": "scattermapbox"
           }
          ],
          "scatterpolar": [
           {
            "marker": {
             "colorbar": {
              "outlinewidth": 0,
              "ticks": ""
             }
            },
            "type": "scatterpolar"
           }
          ],
          "scatterpolargl": [
           {
            "marker": {
             "colorbar": {
              "outlinewidth": 0,
              "ticks": ""
             }
            },
            "type": "scatterpolargl"
           }
          ],
          "scatterternary": [
           {
            "marker": {
             "colorbar": {
              "outlinewidth": 0,
              "ticks": ""
             }
            },
            "type": "scatterternary"
           }
          ],
          "surface": [
           {
            "colorbar": {
             "outlinewidth": 0,
             "ticks": ""
            },
            "colorscale": [
             [
              0,
              "#0d0887"
             ],
             [
              0.1111111111111111,
              "#46039f"
             ],
             [
              0.2222222222222222,
              "#7201a8"
             ],
             [
              0.3333333333333333,
              "#9c179e"
             ],
             [
              0.4444444444444444,
              "#bd3786"
             ],
             [
              0.5555555555555556,
              "#d8576b"
             ],
             [
              0.6666666666666666,
              "#ed7953"
             ],
             [
              0.7777777777777778,
              "#fb9f3a"
             ],
             [
              0.8888888888888888,
              "#fdca26"
             ],
             [
              1,
              "#f0f921"
             ]
            ],
            "type": "surface"
           }
          ],
          "table": [
           {
            "cells": {
             "fill": {
              "color": "#EBF0F8"
             },
             "line": {
              "color": "white"
             }
            },
            "header": {
             "fill": {
              "color": "#C8D4E3"
             },
             "line": {
              "color": "white"
             }
            },
            "type": "table"
           }
          ]
         },
         "layout": {
          "annotationdefaults": {
           "arrowcolor": "#2a3f5f",
           "arrowhead": 0,
           "arrowwidth": 1
          },
          "autotypenumbers": "strict",
          "coloraxis": {
           "colorbar": {
            "outlinewidth": 0,
            "ticks": ""
           }
          },
          "colorscale": {
           "diverging": [
            [
             0,
             "#8e0152"
            ],
            [
             0.1,
             "#c51b7d"
            ],
            [
             0.2,
             "#de77ae"
            ],
            [
             0.3,
             "#f1b6da"
            ],
            [
             0.4,
             "#fde0ef"
            ],
            [
             0.5,
             "#f7f7f7"
            ],
            [
             0.6,
             "#e6f5d0"
            ],
            [
             0.7,
             "#b8e186"
            ],
            [
             0.8,
             "#7fbc41"
            ],
            [
             0.9,
             "#4d9221"
            ],
            [
             1,
             "#276419"
            ]
           ],
           "sequential": [
            [
             0,
             "#0d0887"
            ],
            [
             0.1111111111111111,
             "#46039f"
            ],
            [
             0.2222222222222222,
             "#7201a8"
            ],
            [
             0.3333333333333333,
             "#9c179e"
            ],
            [
             0.4444444444444444,
             "#bd3786"
            ],
            [
             0.5555555555555556,
             "#d8576b"
            ],
            [
             0.6666666666666666,
             "#ed7953"
            ],
            [
             0.7777777777777778,
             "#fb9f3a"
            ],
            [
             0.8888888888888888,
             "#fdca26"
            ],
            [
             1,
             "#f0f921"
            ]
           ],
           "sequentialminus": [
            [
             0,
             "#0d0887"
            ],
            [
             0.1111111111111111,
             "#46039f"
            ],
            [
             0.2222222222222222,
             "#7201a8"
            ],
            [
             0.3333333333333333,
             "#9c179e"
            ],
            [
             0.4444444444444444,
             "#bd3786"
            ],
            [
             0.5555555555555556,
             "#d8576b"
            ],
            [
             0.6666666666666666,
             "#ed7953"
            ],
            [
             0.7777777777777778,
             "#fb9f3a"
            ],
            [
             0.8888888888888888,
             "#fdca26"
            ],
            [
             1,
             "#f0f921"
            ]
           ]
          },
          "colorway": [
           "#636efa",
           "#EF553B",
           "#00cc96",
           "#ab63fa",
           "#FFA15A",
           "#19d3f3",
           "#FF6692",
           "#B6E880",
           "#FF97FF",
           "#FECB52"
          ],
          "font": {
           "color": "#2a3f5f"
          },
          "geo": {
           "bgcolor": "white",
           "lakecolor": "white",
           "landcolor": "#E5ECF6",
           "showlakes": true,
           "showland": true,
           "subunitcolor": "white"
          },
          "hoverlabel": {
           "align": "left"
          },
          "hovermode": "closest",
          "mapbox": {
           "style": "light"
          },
          "paper_bgcolor": "white",
          "plot_bgcolor": "#E5ECF6",
          "polar": {
           "angularaxis": {
            "gridcolor": "white",
            "linecolor": "white",
            "ticks": ""
           },
           "bgcolor": "#E5ECF6",
           "radialaxis": {
            "gridcolor": "white",
            "linecolor": "white",
            "ticks": ""
           }
          },
          "scene": {
           "xaxis": {
            "backgroundcolor": "#E5ECF6",
            "gridcolor": "white",
            "gridwidth": 2,
            "linecolor": "white",
            "showbackground": true,
            "ticks": "",
            "zerolinecolor": "white"
           },
           "yaxis": {
            "backgroundcolor": "#E5ECF6",
            "gridcolor": "white",
            "gridwidth": 2,
            "linecolor": "white",
            "showbackground": true,
            "ticks": "",
            "zerolinecolor": "white"
           },
           "zaxis": {
            "backgroundcolor": "#E5ECF6",
            "gridcolor": "white",
            "gridwidth": 2,
            "linecolor": "white",
            "showbackground": true,
            "ticks": "",
            "zerolinecolor": "white"
           }
          },
          "shapedefaults": {
           "line": {
            "color": "#2a3f5f"
           }
          },
          "ternary": {
           "aaxis": {
            "gridcolor": "white",
            "linecolor": "white",
            "ticks": ""
           },
           "baxis": {
            "gridcolor": "white",
            "linecolor": "white",
            "ticks": ""
           },
           "bgcolor": "#E5ECF6",
           "caxis": {
            "gridcolor": "white",
            "linecolor": "white",
            "ticks": ""
           }
          },
          "title": {
           "x": 0.05
          },
          "xaxis": {
           "automargin": true,
           "gridcolor": "white",
           "linecolor": "white",
           "ticks": "",
           "title": {
            "standoff": 15
           },
           "zerolinecolor": "white",
           "zerolinewidth": 2
          },
          "yaxis": {
           "automargin": true,
           "gridcolor": "white",
           "linecolor": "white",
           "ticks": "",
           "title": {
            "standoff": 15
           },
           "zerolinecolor": "white",
           "zerolinewidth": 2
          }
         }
        },
        "xaxis": {
         "anchor": "y",
         "domain": [
          0,
          1
         ],
         "title": {
          "text": "sum of Year"
         }
        },
        "yaxis": {
         "anchor": "x",
         "domain": [
          0,
          1
         ],
         "title": {
          "text": "Attendance"
         }
        }
       }
      },
      "text/html": [
       "<div>                            <div id=\"63680722-cacc-41b7-9baa-ace52ae19056\" class=\"plotly-graph-div\" style=\"height:525px; width:100%;\"></div>            <script type=\"text/javascript\">                require([\"plotly\"], function(Plotly) {                    window.PLOTLYENV=window.PLOTLYENV || {};                                    if (document.getElementById(\"63680722-cacc-41b7-9baa-ace52ae19056\")) {                    Plotly.newPlot(                        \"63680722-cacc-41b7-9baa-ace52ae19056\",                        [{\"alignmentgroup\":\"True\",\"bingroup\":\"y\",\"histfunc\":\"sum\",\"hovertemplate\":\"sum of Year=%{x}<br>Attendance=%{y}<extra></extra>\",\"legendgroup\":\"\",\"marker\":{\"color\":\"#636efa\",\"pattern\":{\"shape\":\"\"}},\"name\":\"\",\"offsetgroup\":\"\",\"orientation\":\"h\",\"showlegend\":false,\"x\":[1930,1934,1938,1950,1954,1958,1962,1966,1970,1974,1978,1982,1986,1990,1994,1998,2002,2006,2010,2014],\"xaxis\":\"x\",\"y\":[\"590.549\",\"363.000\",\"375.700\",\"1.045.246\",\"768.607\",\"819.810\",\"893.172\",\"1.563.135\",\"1.603.975\",\"1.865.753\",\"1.545.791\",\"2.109.723\",\"2.394.031\",\"2.516.215\",\"3.587.538\",\"2.785.100\",\"2.705.197\",\"3.359.439\",\"3.178.856\",\"3.386.810\"],\"yaxis\":\"y\",\"type\":\"histogram\"}],                        {\"template\":{\"data\":{\"histogram2dcontour\":[{\"type\":\"histogram2dcontour\",\"colorbar\":{\"outlinewidth\":0,\"ticks\":\"\"},\"colorscale\":[[0.0,\"#0d0887\"],[0.1111111111111111,\"#46039f\"],[0.2222222222222222,\"#7201a8\"],[0.3333333333333333,\"#9c179e\"],[0.4444444444444444,\"#bd3786\"],[0.5555555555555556,\"#d8576b\"],[0.6666666666666666,\"#ed7953\"],[0.7777777777777778,\"#fb9f3a\"],[0.8888888888888888,\"#fdca26\"],[1.0,\"#f0f921\"]]}],\"choropleth\":[{\"type\":\"choropleth\",\"colorbar\":{\"outlinewidth\":0,\"ticks\":\"\"}}],\"histogram2d\":[{\"type\":\"histogram2d\",\"colorbar\":{\"outlinewidth\":0,\"ticks\":\"\"},\"colorscale\":[[0.0,\"#0d0887\"],[0.1111111111111111,\"#46039f\"],[0.2222222222222222,\"#7201a8\"],[0.3333333333333333,\"#9c179e\"],[0.4444444444444444,\"#bd3786\"],[0.5555555555555556,\"#d8576b\"],[0.6666666666666666,\"#ed7953\"],[0.7777777777777778,\"#fb9f3a\"],[0.8888888888888888,\"#fdca26\"],[1.0,\"#f0f921\"]]}],\"heatmap\":[{\"type\":\"heatmap\",\"colorbar\":{\"outlinewidth\":0,\"ticks\":\"\"},\"colorscale\":[[0.0,\"#0d0887\"],[0.1111111111111111,\"#46039f\"],[0.2222222222222222,\"#7201a8\"],[0.3333333333333333,\"#9c179e\"],[0.4444444444444444,\"#bd3786\"],[0.5555555555555556,\"#d8576b\"],[0.6666666666666666,\"#ed7953\"],[0.7777777777777778,\"#fb9f3a\"],[0.8888888888888888,\"#fdca26\"],[1.0,\"#f0f921\"]]}],\"heatmapgl\":[{\"type\":\"heatmapgl\",\"colorbar\":{\"outlinewidth\":0,\"ticks\":\"\"},\"colorscale\":[[0.0,\"#0d0887\"],[0.1111111111111111,\"#46039f\"],[0.2222222222222222,\"#7201a8\"],[0.3333333333333333,\"#9c179e\"],[0.4444444444444444,\"#bd3786\"],[0.5555555555555556,\"#d8576b\"],[0.6666666666666666,\"#ed7953\"],[0.7777777777777778,\"#fb9f3a\"],[0.8888888888888888,\"#fdca26\"],[1.0,\"#f0f921\"]]}],\"contourcarpet\":[{\"type\":\"contourcarpet\",\"colorbar\":{\"outlinewidth\":0,\"ticks\":\"\"}}],\"contour\":[{\"type\":\"contour\",\"colorbar\":{\"outlinewidth\":0,\"ticks\":\"\"},\"colorscale\":[[0.0,\"#0d0887\"],[0.1111111111111111,\"#46039f\"],[0.2222222222222222,\"#7201a8\"],[0.3333333333333333,\"#9c179e\"],[0.4444444444444444,\"#bd3786\"],[0.5555555555555556,\"#d8576b\"],[0.6666666666666666,\"#ed7953\"],[0.7777777777777778,\"#fb9f3a\"],[0.8888888888888888,\"#fdca26\"],[1.0,\"#f0f921\"]]}],\"surface\":[{\"type\":\"surface\",\"colorbar\":{\"outlinewidth\":0,\"ticks\":\"\"},\"colorscale\":[[0.0,\"#0d0887\"],[0.1111111111111111,\"#46039f\"],[0.2222222222222222,\"#7201a8\"],[0.3333333333333333,\"#9c179e\"],[0.4444444444444444,\"#bd3786\"],[0.5555555555555556,\"#d8576b\"],[0.6666666666666666,\"#ed7953\"],[0.7777777777777778,\"#fb9f3a\"],[0.8888888888888888,\"#fdca26\"],[1.0,\"#f0f921\"]]}],\"mesh3d\":[{\"type\":\"mesh3d\",\"colorbar\":{\"outlinewidth\":0,\"ticks\":\"\"}}],\"scatter\":[{\"fillpattern\":{\"fillmode\":\"overlay\",\"size\":10,\"solidity\":0.2},\"type\":\"scatter\"}],\"parcoords\":[{\"type\":\"parcoords\",\"line\":{\"colorbar\":{\"outlinewidth\":0,\"ticks\":\"\"}}}],\"scatterpolargl\":[{\"type\":\"scatterpolargl\",\"marker\":{\"colorbar\":{\"outlinewidth\":0,\"ticks\":\"\"}}}],\"bar\":[{\"error_x\":{\"color\":\"#2a3f5f\"},\"error_y\":{\"color\":\"#2a3f5f\"},\"marker\":{\"line\":{\"color\":\"#E5ECF6\",\"width\":0.5},\"pattern\":{\"fillmode\":\"overlay\",\"size\":10,\"solidity\":0.2}},\"type\":\"bar\"}],\"scattergeo\":[{\"type\":\"scattergeo\",\"marker\":{\"colorbar\":{\"outlinewidth\":0,\"ticks\":\"\"}}}],\"scatterpolar\":[{\"type\":\"scatterpolar\",\"marker\":{\"colorbar\":{\"outlinewidth\":0,\"ticks\":\"\"}}}],\"histogram\":[{\"marker\":{\"pattern\":{\"fillmode\":\"overlay\",\"size\":10,\"solidity\":0.2}},\"type\":\"histogram\"}],\"scattergl\":[{\"type\":\"scattergl\",\"marker\":{\"colorbar\":{\"outlinewidth\":0,\"ticks\":\"\"}}}],\"scatter3d\":[{\"type\":\"scatter3d\",\"line\":{\"colorbar\":{\"outlinewidth\":0,\"ticks\":\"\"}},\"marker\":{\"colorbar\":{\"outlinewidth\":0,\"ticks\":\"\"}}}],\"scattermapbox\":[{\"type\":\"scattermapbox\",\"marker\":{\"colorbar\":{\"outlinewidth\":0,\"ticks\":\"\"}}}],\"scatterternary\":[{\"type\":\"scatterternary\",\"marker\":{\"colorbar\":{\"outlinewidth\":0,\"ticks\":\"\"}}}],\"scattercarpet\":[{\"type\":\"scattercarpet\",\"marker\":{\"colorbar\":{\"outlinewidth\":0,\"ticks\":\"\"}}}],\"carpet\":[{\"aaxis\":{\"endlinecolor\":\"#2a3f5f\",\"gridcolor\":\"white\",\"linecolor\":\"white\",\"minorgridcolor\":\"white\",\"startlinecolor\":\"#2a3f5f\"},\"baxis\":{\"endlinecolor\":\"#2a3f5f\",\"gridcolor\":\"white\",\"linecolor\":\"white\",\"minorgridcolor\":\"white\",\"startlinecolor\":\"#2a3f5f\"},\"type\":\"carpet\"}],\"table\":[{\"cells\":{\"fill\":{\"color\":\"#EBF0F8\"},\"line\":{\"color\":\"white\"}},\"header\":{\"fill\":{\"color\":\"#C8D4E3\"},\"line\":{\"color\":\"white\"}},\"type\":\"table\"}],\"barpolar\":[{\"marker\":{\"line\":{\"color\":\"#E5ECF6\",\"width\":0.5},\"pattern\":{\"fillmode\":\"overlay\",\"size\":10,\"solidity\":0.2}},\"type\":\"barpolar\"}],\"pie\":[{\"automargin\":true,\"type\":\"pie\"}]},\"layout\":{\"autotypenumbers\":\"strict\",\"colorway\":[\"#636efa\",\"#EF553B\",\"#00cc96\",\"#ab63fa\",\"#FFA15A\",\"#19d3f3\",\"#FF6692\",\"#B6E880\",\"#FF97FF\",\"#FECB52\"],\"font\":{\"color\":\"#2a3f5f\"},\"hovermode\":\"closest\",\"hoverlabel\":{\"align\":\"left\"},\"paper_bgcolor\":\"white\",\"plot_bgcolor\":\"#E5ECF6\",\"polar\":{\"bgcolor\":\"#E5ECF6\",\"angularaxis\":{\"gridcolor\":\"white\",\"linecolor\":\"white\",\"ticks\":\"\"},\"radialaxis\":{\"gridcolor\":\"white\",\"linecolor\":\"white\",\"ticks\":\"\"}},\"ternary\":{\"bgcolor\":\"#E5ECF6\",\"aaxis\":{\"gridcolor\":\"white\",\"linecolor\":\"white\",\"ticks\":\"\"},\"baxis\":{\"gridcolor\":\"white\",\"linecolor\":\"white\",\"ticks\":\"\"},\"caxis\":{\"gridcolor\":\"white\",\"linecolor\":\"white\",\"ticks\":\"\"}},\"coloraxis\":{\"colorbar\":{\"outlinewidth\":0,\"ticks\":\"\"}},\"colorscale\":{\"sequential\":[[0.0,\"#0d0887\"],[0.1111111111111111,\"#46039f\"],[0.2222222222222222,\"#7201a8\"],[0.3333333333333333,\"#9c179e\"],[0.4444444444444444,\"#bd3786\"],[0.5555555555555556,\"#d8576b\"],[0.6666666666666666,\"#ed7953\"],[0.7777777777777778,\"#fb9f3a\"],[0.8888888888888888,\"#fdca26\"],[1.0,\"#f0f921\"]],\"sequentialminus\":[[0.0,\"#0d0887\"],[0.1111111111111111,\"#46039f\"],[0.2222222222222222,\"#7201a8\"],[0.3333333333333333,\"#9c179e\"],[0.4444444444444444,\"#bd3786\"],[0.5555555555555556,\"#d8576b\"],[0.6666666666666666,\"#ed7953\"],[0.7777777777777778,\"#fb9f3a\"],[0.8888888888888888,\"#fdca26\"],[1.0,\"#f0f921\"]],\"diverging\":[[0,\"#8e0152\"],[0.1,\"#c51b7d\"],[0.2,\"#de77ae\"],[0.3,\"#f1b6da\"],[0.4,\"#fde0ef\"],[0.5,\"#f7f7f7\"],[0.6,\"#e6f5d0\"],[0.7,\"#b8e186\"],[0.8,\"#7fbc41\"],[0.9,\"#4d9221\"],[1,\"#276419\"]]},\"xaxis\":{\"gridcolor\":\"white\",\"linecolor\":\"white\",\"ticks\":\"\",\"title\":{\"standoff\":15},\"zerolinecolor\":\"white\",\"automargin\":true,\"zerolinewidth\":2},\"yaxis\":{\"gridcolor\":\"white\",\"linecolor\":\"white\",\"ticks\":\"\",\"title\":{\"standoff\":15},\"zerolinecolor\":\"white\",\"automargin\":true,\"zerolinewidth\":2},\"scene\":{\"xaxis\":{\"backgroundcolor\":\"#E5ECF6\",\"gridcolor\":\"white\",\"linecolor\":\"white\",\"showbackground\":true,\"ticks\":\"\",\"zerolinecolor\":\"white\",\"gridwidth\":2},\"yaxis\":{\"backgroundcolor\":\"#E5ECF6\",\"gridcolor\":\"white\",\"linecolor\":\"white\",\"showbackground\":true,\"ticks\":\"\",\"zerolinecolor\":\"white\",\"gridwidth\":2},\"zaxis\":{\"backgroundcolor\":\"#E5ECF6\",\"gridcolor\":\"white\",\"linecolor\":\"white\",\"showbackground\":true,\"ticks\":\"\",\"zerolinecolor\":\"white\",\"gridwidth\":2}},\"shapedefaults\":{\"line\":{\"color\":\"#2a3f5f\"}},\"annotationdefaults\":{\"arrowcolor\":\"#2a3f5f\",\"arrowhead\":0,\"arrowwidth\":1},\"geo\":{\"bgcolor\":\"white\",\"landcolor\":\"#E5ECF6\",\"subunitcolor\":\"white\",\"showland\":true,\"showlakes\":true,\"lakecolor\":\"white\"},\"title\":{\"x\":0.05},\"mapbox\":{\"style\":\"light\"}}},\"xaxis\":{\"anchor\":\"y\",\"domain\":[0.0,1.0],\"title\":{\"text\":\"sum of Year\"}},\"yaxis\":{\"anchor\":\"x\",\"domain\":[0.0,1.0],\"title\":{\"text\":\"Attendance\"}},\"legend\":{\"tracegroupgap\":0},\"margin\":{\"t\":60},\"barmode\":\"relative\"},                        {\"responsive\": true}                    ).then(function(){\n",
       "                            \n",
       "var gd = document.getElementById('63680722-cacc-41b7-9baa-ace52ae19056');\n",
       "var x = new MutationObserver(function (mutations, observer) {{\n",
       "        var display = window.getComputedStyle(gd).display;\n",
       "        if (!display || display === 'none') {{\n",
       "            console.log([gd, 'removed!']);\n",
       "            Plotly.purge(gd);\n",
       "            observer.disconnect();\n",
       "        }}\n",
       "}});\n",
       "\n",
       "// Listen for the removal of the full notebook cells\n",
       "var notebookContainer = gd.closest('#notebook-container');\n",
       "if (notebookContainer) {{\n",
       "    x.observe(notebookContainer, {childList: true});\n",
       "}}\n",
       "\n",
       "// Listen for the clearing of the current output cell\n",
       "var outputEl = gd.closest('.output');\n",
       "if (outputEl) {{\n",
       "    x.observe(outputEl, {childList: true});\n",
       "}}\n",
       "\n",
       "                        })                };                });            </script>        </div>"
      ]
     },
     "metadata": {},
     "output_type": "display_data"
    }
   ],
   "source": [
    "px.histogram(df3, x='Year', y='Attendance')"
   ]
  },
  {
   "cell_type": "markdown",
   "metadata": {},
   "source": [
    "We can see that in the year 2000 the count of attendence was very high"
   ]
  },
  {
   "cell_type": "code",
   "execution_count": 164,
   "metadata": {},
   "outputs": [
    {
     "data": {
      "application/vnd.plotly.v1+json": {
       "config": {
        "plotlyServerURL": "https://plot.ly"
       },
       "data": [
        {
         "hovertemplate": "Country=Uruguay<br>MatchesPlayed=%{x}<br>Winner=%{y}<extra></extra>",
         "legendgroup": "Uruguay",
         "marker": {
          "color": "#636efa",
          "symbol": "circle"
         },
         "mode": "markers",
         "name": "Uruguay",
         "orientation": "h",
         "showlegend": true,
         "type": "scatter",
         "x": [
          18
         ],
         "xaxis": "x",
         "y": [
          "Uruguay"
         ],
         "yaxis": "y"
        },
        {
         "hovertemplate": "Country=Italy<br>MatchesPlayed=%{x}<br>Winner=%{y}<extra></extra>",
         "legendgroup": "Italy",
         "marker": {
          "color": "#EF553B",
          "symbol": "circle"
         },
         "mode": "markers",
         "name": "Italy",
         "orientation": "h",
         "showlegend": true,
         "type": "scatter",
         "x": [
          17,
          52
         ],
         "xaxis": "x",
         "y": [
          "Italy",
          "Germany FR"
         ],
         "yaxis": "y"
        },
        {
         "hovertemplate": "Country=France<br>MatchesPlayed=%{x}<br>Winner=%{y}<extra></extra>",
         "legendgroup": "France",
         "marker": {
          "color": "#00cc96",
          "symbol": "circle"
         },
         "mode": "markers",
         "name": "France",
         "orientation": "h",
         "showlegend": true,
         "type": "scatter",
         "x": [
          18,
          64
         ],
         "xaxis": "x",
         "y": [
          "Italy",
          "France"
         ],
         "yaxis": "y"
        },
        {
         "hovertemplate": "Country=Brazil<br>MatchesPlayed=%{x}<br>Winner=%{y}<extra></extra>",
         "legendgroup": "Brazil",
         "marker": {
          "color": "#ab63fa",
          "symbol": "circle"
         },
         "mode": "markers",
         "name": "Brazil",
         "orientation": "h",
         "showlegend": true,
         "type": "scatter",
         "x": [
          22,
          64
         ],
         "xaxis": "x",
         "y": [
          "Uruguay",
          "Germany"
         ],
         "yaxis": "y"
        },
        {
         "hovertemplate": "Country=Switzerland<br>MatchesPlayed=%{x}<br>Winner=%{y}<extra></extra>",
         "legendgroup": "Switzerland",
         "marker": {
          "color": "#FFA15A",
          "symbol": "circle"
         },
         "mode": "markers",
         "name": "Switzerland",
         "orientation": "h",
         "showlegend": true,
         "type": "scatter",
         "x": [
          26
         ],
         "xaxis": "x",
         "y": [
          "Germany FR"
         ],
         "yaxis": "y"
        },
        {
         "hovertemplate": "Country=Sweden<br>MatchesPlayed=%{x}<br>Winner=%{y}<extra></extra>",
         "legendgroup": "Sweden",
         "marker": {
          "color": "#19d3f3",
          "symbol": "circle"
         },
         "mode": "markers",
         "name": "Sweden",
         "orientation": "h",
         "showlegend": true,
         "type": "scatter",
         "x": [
          35
         ],
         "xaxis": "x",
         "y": [
          "Brazil"
         ],
         "yaxis": "y"
        },
        {
         "hovertemplate": "Country=Chile<br>MatchesPlayed=%{x}<br>Winner=%{y}<extra></extra>",
         "legendgroup": "Chile",
         "marker": {
          "color": "#FF6692",
          "symbol": "circle"
         },
         "mode": "markers",
         "name": "Chile",
         "orientation": "h",
         "showlegend": true,
         "type": "scatter",
         "x": [
          32
         ],
         "xaxis": "x",
         "y": [
          "Brazil"
         ],
         "yaxis": "y"
        },
        {
         "hovertemplate": "Country=England<br>MatchesPlayed=%{x}<br>Winner=%{y}<extra></extra>",
         "legendgroup": "England",
         "marker": {
          "color": "#B6E880",
          "symbol": "circle"
         },
         "mode": "markers",
         "name": "England",
         "orientation": "h",
         "showlegend": true,
         "type": "scatter",
         "x": [
          32
         ],
         "xaxis": "x",
         "y": [
          "England"
         ],
         "yaxis": "y"
        },
        {
         "hovertemplate": "Country=Mexico<br>MatchesPlayed=%{x}<br>Winner=%{y}<extra></extra>",
         "legendgroup": "Mexico",
         "marker": {
          "color": "#FF97FF",
          "symbol": "circle"
         },
         "mode": "markers",
         "name": "Mexico",
         "orientation": "h",
         "showlegend": true,
         "type": "scatter",
         "x": [
          32,
          52
         ],
         "xaxis": "x",
         "y": [
          "Brazil",
          "Argentina"
         ],
         "yaxis": "y"
        },
        {
         "hovertemplate": "Country=Germany<br>MatchesPlayed=%{x}<br>Winner=%{y}<extra></extra>",
         "legendgroup": "Germany",
         "marker": {
          "color": "#FECB52",
          "symbol": "circle"
         },
         "mode": "markers",
         "name": "Germany",
         "orientation": "h",
         "showlegend": true,
         "type": "scatter",
         "x": [
          38,
          64
         ],
         "xaxis": "x",
         "y": [
          "Germany FR",
          "Italy"
         ],
         "yaxis": "y"
        },
        {
         "hovertemplate": "Country=Argentina<br>MatchesPlayed=%{x}<br>Winner=%{y}<extra></extra>",
         "legendgroup": "Argentina",
         "marker": {
          "color": "#636efa",
          "symbol": "circle"
         },
         "mode": "markers",
         "name": "Argentina",
         "orientation": "h",
         "showlegend": true,
         "type": "scatter",
         "x": [
          38
         ],
         "xaxis": "x",
         "y": [
          "Argentina"
         ],
         "yaxis": "y"
        },
        {
         "hovertemplate": "Country=Spain<br>MatchesPlayed=%{x}<br>Winner=%{y}<extra></extra>",
         "legendgroup": "Spain",
         "marker": {
          "color": "#EF553B",
          "symbol": "circle"
         },
         "mode": "markers",
         "name": "Spain",
         "orientation": "h",
         "showlegend": true,
         "type": "scatter",
         "x": [
          52
         ],
         "xaxis": "x",
         "y": [
          "Italy"
         ],
         "yaxis": "y"
        },
        {
         "hovertemplate": "Country=USA<br>MatchesPlayed=%{x}<br>Winner=%{y}<extra></extra>",
         "legendgroup": "USA",
         "marker": {
          "color": "#00cc96",
          "symbol": "circle"
         },
         "mode": "markers",
         "name": "USA",
         "orientation": "h",
         "showlegend": true,
         "type": "scatter",
         "x": [
          52
         ],
         "xaxis": "x",
         "y": [
          "Brazil"
         ],
         "yaxis": "y"
        },
        {
         "hovertemplate": "Country=Korea/Japan<br>MatchesPlayed=%{x}<br>Winner=%{y}<extra></extra>",
         "legendgroup": "Korea/Japan",
         "marker": {
          "color": "#ab63fa",
          "symbol": "circle"
         },
         "mode": "markers",
         "name": "Korea/Japan",
         "orientation": "h",
         "showlegend": true,
         "type": "scatter",
         "x": [
          64
         ],
         "xaxis": "x",
         "y": [
          "Brazil"
         ],
         "yaxis": "y"
        },
        {
         "hovertemplate": "Country=South Africa<br>MatchesPlayed=%{x}<br>Winner=%{y}<extra></extra>",
         "legendgroup": "South Africa",
         "marker": {
          "color": "#FFA15A",
          "symbol": "circle"
         },
         "mode": "markers",
         "name": "South Africa",
         "orientation": "h",
         "showlegend": true,
         "type": "scatter",
         "x": [
          64
         ],
         "xaxis": "x",
         "y": [
          "Spain"
         ],
         "yaxis": "y"
        }
       ],
       "layout": {
        "legend": {
         "title": {
          "text": "Country"
         },
         "tracegroupgap": 0
        },
        "margin": {
         "t": 60
        },
        "template": {
         "data": {
          "bar": [
           {
            "error_x": {
             "color": "#2a3f5f"
            },
            "error_y": {
             "color": "#2a3f5f"
            },
            "marker": {
             "line": {
              "color": "#E5ECF6",
              "width": 0.5
             },
             "pattern": {
              "fillmode": "overlay",
              "size": 10,
              "solidity": 0.2
             }
            },
            "type": "bar"
           }
          ],
          "barpolar": [
           {
            "marker": {
             "line": {
              "color": "#E5ECF6",
              "width": 0.5
             },
             "pattern": {
              "fillmode": "overlay",
              "size": 10,
              "solidity": 0.2
             }
            },
            "type": "barpolar"
           }
          ],
          "carpet": [
           {
            "aaxis": {
             "endlinecolor": "#2a3f5f",
             "gridcolor": "white",
             "linecolor": "white",
             "minorgridcolor": "white",
             "startlinecolor": "#2a3f5f"
            },
            "baxis": {
             "endlinecolor": "#2a3f5f",
             "gridcolor": "white",
             "linecolor": "white",
             "minorgridcolor": "white",
             "startlinecolor": "#2a3f5f"
            },
            "type": "carpet"
           }
          ],
          "choropleth": [
           {
            "colorbar": {
             "outlinewidth": 0,
             "ticks": ""
            },
            "type": "choropleth"
           }
          ],
          "contour": [
           {
            "colorbar": {
             "outlinewidth": 0,
             "ticks": ""
            },
            "colorscale": [
             [
              0,
              "#0d0887"
             ],
             [
              0.1111111111111111,
              "#46039f"
             ],
             [
              0.2222222222222222,
              "#7201a8"
             ],
             [
              0.3333333333333333,
              "#9c179e"
             ],
             [
              0.4444444444444444,
              "#bd3786"
             ],
             [
              0.5555555555555556,
              "#d8576b"
             ],
             [
              0.6666666666666666,
              "#ed7953"
             ],
             [
              0.7777777777777778,
              "#fb9f3a"
             ],
             [
              0.8888888888888888,
              "#fdca26"
             ],
             [
              1,
              "#f0f921"
             ]
            ],
            "type": "contour"
           }
          ],
          "contourcarpet": [
           {
            "colorbar": {
             "outlinewidth": 0,
             "ticks": ""
            },
            "type": "contourcarpet"
           }
          ],
          "heatmap": [
           {
            "colorbar": {
             "outlinewidth": 0,
             "ticks": ""
            },
            "colorscale": [
             [
              0,
              "#0d0887"
             ],
             [
              0.1111111111111111,
              "#46039f"
             ],
             [
              0.2222222222222222,
              "#7201a8"
             ],
             [
              0.3333333333333333,
              "#9c179e"
             ],
             [
              0.4444444444444444,
              "#bd3786"
             ],
             [
              0.5555555555555556,
              "#d8576b"
             ],
             [
              0.6666666666666666,
              "#ed7953"
             ],
             [
              0.7777777777777778,
              "#fb9f3a"
             ],
             [
              0.8888888888888888,
              "#fdca26"
             ],
             [
              1,
              "#f0f921"
             ]
            ],
            "type": "heatmap"
           }
          ],
          "heatmapgl": [
           {
            "colorbar": {
             "outlinewidth": 0,
             "ticks": ""
            },
            "colorscale": [
             [
              0,
              "#0d0887"
             ],
             [
              0.1111111111111111,
              "#46039f"
             ],
             [
              0.2222222222222222,
              "#7201a8"
             ],
             [
              0.3333333333333333,
              "#9c179e"
             ],
             [
              0.4444444444444444,
              "#bd3786"
             ],
             [
              0.5555555555555556,
              "#d8576b"
             ],
             [
              0.6666666666666666,
              "#ed7953"
             ],
             [
              0.7777777777777778,
              "#fb9f3a"
             ],
             [
              0.8888888888888888,
              "#fdca26"
             ],
             [
              1,
              "#f0f921"
             ]
            ],
            "type": "heatmapgl"
           }
          ],
          "histogram": [
           {
            "marker": {
             "pattern": {
              "fillmode": "overlay",
              "size": 10,
              "solidity": 0.2
             }
            },
            "type": "histogram"
           }
          ],
          "histogram2d": [
           {
            "colorbar": {
             "outlinewidth": 0,
             "ticks": ""
            },
            "colorscale": [
             [
              0,
              "#0d0887"
             ],
             [
              0.1111111111111111,
              "#46039f"
             ],
             [
              0.2222222222222222,
              "#7201a8"
             ],
             [
              0.3333333333333333,
              "#9c179e"
             ],
             [
              0.4444444444444444,
              "#bd3786"
             ],
             [
              0.5555555555555556,
              "#d8576b"
             ],
             [
              0.6666666666666666,
              "#ed7953"
             ],
             [
              0.7777777777777778,
              "#fb9f3a"
             ],
             [
              0.8888888888888888,
              "#fdca26"
             ],
             [
              1,
              "#f0f921"
             ]
            ],
            "type": "histogram2d"
           }
          ],
          "histogram2dcontour": [
           {
            "colorbar": {
             "outlinewidth": 0,
             "ticks": ""
            },
            "colorscale": [
             [
              0,
              "#0d0887"
             ],
             [
              0.1111111111111111,
              "#46039f"
             ],
             [
              0.2222222222222222,
              "#7201a8"
             ],
             [
              0.3333333333333333,
              "#9c179e"
             ],
             [
              0.4444444444444444,
              "#bd3786"
             ],
             [
              0.5555555555555556,
              "#d8576b"
             ],
             [
              0.6666666666666666,
              "#ed7953"
             ],
             [
              0.7777777777777778,
              "#fb9f3a"
             ],
             [
              0.8888888888888888,
              "#fdca26"
             ],
             [
              1,
              "#f0f921"
             ]
            ],
            "type": "histogram2dcontour"
           }
          ],
          "mesh3d": [
           {
            "colorbar": {
             "outlinewidth": 0,
             "ticks": ""
            },
            "type": "mesh3d"
           }
          ],
          "parcoords": [
           {
            "line": {
             "colorbar": {
              "outlinewidth": 0,
              "ticks": ""
             }
            },
            "type": "parcoords"
           }
          ],
          "pie": [
           {
            "automargin": true,
            "type": "pie"
           }
          ],
          "scatter": [
           {
            "fillpattern": {
             "fillmode": "overlay",
             "size": 10,
             "solidity": 0.2
            },
            "type": "scatter"
           }
          ],
          "scatter3d": [
           {
            "line": {
             "colorbar": {
              "outlinewidth": 0,
              "ticks": ""
             }
            },
            "marker": {
             "colorbar": {
              "outlinewidth": 0,
              "ticks": ""
             }
            },
            "type": "scatter3d"
           }
          ],
          "scattercarpet": [
           {
            "marker": {
             "colorbar": {
              "outlinewidth": 0,
              "ticks": ""
             }
            },
            "type": "scattercarpet"
           }
          ],
          "scattergeo": [
           {
            "marker": {
             "colorbar": {
              "outlinewidth": 0,
              "ticks": ""
             }
            },
            "type": "scattergeo"
           }
          ],
          "scattergl": [
           {
            "marker": {
             "colorbar": {
              "outlinewidth": 0,
              "ticks": ""
             }
            },
            "type": "scattergl"
           }
          ],
          "scattermapbox": [
           {
            "marker": {
             "colorbar": {
              "outlinewidth": 0,
              "ticks": ""
             }
            },
            "type": "scattermapbox"
           }
          ],
          "scatterpolar": [
           {
            "marker": {
             "colorbar": {
              "outlinewidth": 0,
              "ticks": ""
             }
            },
            "type": "scatterpolar"
           }
          ],
          "scatterpolargl": [
           {
            "marker": {
             "colorbar": {
              "outlinewidth": 0,
              "ticks": ""
             }
            },
            "type": "scatterpolargl"
           }
          ],
          "scatterternary": [
           {
            "marker": {
             "colorbar": {
              "outlinewidth": 0,
              "ticks": ""
             }
            },
            "type": "scatterternary"
           }
          ],
          "surface": [
           {
            "colorbar": {
             "outlinewidth": 0,
             "ticks": ""
            },
            "colorscale": [
             [
              0,
              "#0d0887"
             ],
             [
              0.1111111111111111,
              "#46039f"
             ],
             [
              0.2222222222222222,
              "#7201a8"
             ],
             [
              0.3333333333333333,
              "#9c179e"
             ],
             [
              0.4444444444444444,
              "#bd3786"
             ],
             [
              0.5555555555555556,
              "#d8576b"
             ],
             [
              0.6666666666666666,
              "#ed7953"
             ],
             [
              0.7777777777777778,
              "#fb9f3a"
             ],
             [
              0.8888888888888888,
              "#fdca26"
             ],
             [
              1,
              "#f0f921"
             ]
            ],
            "type": "surface"
           }
          ],
          "table": [
           {
            "cells": {
             "fill": {
              "color": "#EBF0F8"
             },
             "line": {
              "color": "white"
             }
            },
            "header": {
             "fill": {
              "color": "#C8D4E3"
             },
             "line": {
              "color": "white"
             }
            },
            "type": "table"
           }
          ]
         },
         "layout": {
          "annotationdefaults": {
           "arrowcolor": "#2a3f5f",
           "arrowhead": 0,
           "arrowwidth": 1
          },
          "autotypenumbers": "strict",
          "coloraxis": {
           "colorbar": {
            "outlinewidth": 0,
            "ticks": ""
           }
          },
          "colorscale": {
           "diverging": [
            [
             0,
             "#8e0152"
            ],
            [
             0.1,
             "#c51b7d"
            ],
            [
             0.2,
             "#de77ae"
            ],
            [
             0.3,
             "#f1b6da"
            ],
            [
             0.4,
             "#fde0ef"
            ],
            [
             0.5,
             "#f7f7f7"
            ],
            [
             0.6,
             "#e6f5d0"
            ],
            [
             0.7,
             "#b8e186"
            ],
            [
             0.8,
             "#7fbc41"
            ],
            [
             0.9,
             "#4d9221"
            ],
            [
             1,
             "#276419"
            ]
           ],
           "sequential": [
            [
             0,
             "#0d0887"
            ],
            [
             0.1111111111111111,
             "#46039f"
            ],
            [
             0.2222222222222222,
             "#7201a8"
            ],
            [
             0.3333333333333333,
             "#9c179e"
            ],
            [
             0.4444444444444444,
             "#bd3786"
            ],
            [
             0.5555555555555556,
             "#d8576b"
            ],
            [
             0.6666666666666666,
             "#ed7953"
            ],
            [
             0.7777777777777778,
             "#fb9f3a"
            ],
            [
             0.8888888888888888,
             "#fdca26"
            ],
            [
             1,
             "#f0f921"
            ]
           ],
           "sequentialminus": [
            [
             0,
             "#0d0887"
            ],
            [
             0.1111111111111111,
             "#46039f"
            ],
            [
             0.2222222222222222,
             "#7201a8"
            ],
            [
             0.3333333333333333,
             "#9c179e"
            ],
            [
             0.4444444444444444,
             "#bd3786"
            ],
            [
             0.5555555555555556,
             "#d8576b"
            ],
            [
             0.6666666666666666,
             "#ed7953"
            ],
            [
             0.7777777777777778,
             "#fb9f3a"
            ],
            [
             0.8888888888888888,
             "#fdca26"
            ],
            [
             1,
             "#f0f921"
            ]
           ]
          },
          "colorway": [
           "#636efa",
           "#EF553B",
           "#00cc96",
           "#ab63fa",
           "#FFA15A",
           "#19d3f3",
           "#FF6692",
           "#B6E880",
           "#FF97FF",
           "#FECB52"
          ],
          "font": {
           "color": "#2a3f5f"
          },
          "geo": {
           "bgcolor": "white",
           "lakecolor": "white",
           "landcolor": "#E5ECF6",
           "showlakes": true,
           "showland": true,
           "subunitcolor": "white"
          },
          "hoverlabel": {
           "align": "left"
          },
          "hovermode": "closest",
          "mapbox": {
           "style": "light"
          },
          "paper_bgcolor": "white",
          "plot_bgcolor": "#E5ECF6",
          "polar": {
           "angularaxis": {
            "gridcolor": "white",
            "linecolor": "white",
            "ticks": ""
           },
           "bgcolor": "#E5ECF6",
           "radialaxis": {
            "gridcolor": "white",
            "linecolor": "white",
            "ticks": ""
           }
          },
          "scene": {
           "xaxis": {
            "backgroundcolor": "#E5ECF6",
            "gridcolor": "white",
            "gridwidth": 2,
            "linecolor": "white",
            "showbackground": true,
            "ticks": "",
            "zerolinecolor": "white"
           },
           "yaxis": {
            "backgroundcolor": "#E5ECF6",
            "gridcolor": "white",
            "gridwidth": 2,
            "linecolor": "white",
            "showbackground": true,
            "ticks": "",
            "zerolinecolor": "white"
           },
           "zaxis": {
            "backgroundcolor": "#E5ECF6",
            "gridcolor": "white",
            "gridwidth": 2,
            "linecolor": "white",
            "showbackground": true,
            "ticks": "",
            "zerolinecolor": "white"
           }
          },
          "shapedefaults": {
           "line": {
            "color": "#2a3f5f"
           }
          },
          "ternary": {
           "aaxis": {
            "gridcolor": "white",
            "linecolor": "white",
            "ticks": ""
           },
           "baxis": {
            "gridcolor": "white",
            "linecolor": "white",
            "ticks": ""
           },
           "bgcolor": "#E5ECF6",
           "caxis": {
            "gridcolor": "white",
            "linecolor": "white",
            "ticks": ""
           }
          },
          "title": {
           "x": 0.05
          },
          "xaxis": {
           "automargin": true,
           "gridcolor": "white",
           "linecolor": "white",
           "ticks": "",
           "title": {
            "standoff": 15
           },
           "zerolinecolor": "white",
           "zerolinewidth": 2
          },
          "yaxis": {
           "automargin": true,
           "gridcolor": "white",
           "linecolor": "white",
           "ticks": "",
           "title": {
            "standoff": 15
           },
           "zerolinecolor": "white",
           "zerolinewidth": 2
          }
         }
        },
        "xaxis": {
         "anchor": "y",
         "domain": [
          0,
          1
         ],
         "title": {
          "text": "MatchesPlayed"
         }
        },
        "yaxis": {
         "anchor": "x",
         "domain": [
          0,
          1
         ],
         "title": {
          "text": "Winner"
         }
        }
       }
      },
      "text/html": [
       "<div>                            <div id=\"a23dc6c2-be03-4b16-ae98-641f8e6ff09e\" class=\"plotly-graph-div\" style=\"height:525px; width:100%;\"></div>            <script type=\"text/javascript\">                require([\"plotly\"], function(Plotly) {                    window.PLOTLYENV=window.PLOTLYENV || {};                                    if (document.getElementById(\"a23dc6c2-be03-4b16-ae98-641f8e6ff09e\")) {                    Plotly.newPlot(                        \"a23dc6c2-be03-4b16-ae98-641f8e6ff09e\",                        [{\"hovertemplate\":\"Country=Uruguay<br>MatchesPlayed=%{x}<br>Winner=%{y}<extra></extra>\",\"legendgroup\":\"Uruguay\",\"marker\":{\"color\":\"#636efa\",\"symbol\":\"circle\"},\"mode\":\"markers\",\"name\":\"Uruguay\",\"orientation\":\"h\",\"showlegend\":true,\"x\":[18],\"xaxis\":\"x\",\"y\":[\"Uruguay\"],\"yaxis\":\"y\",\"type\":\"scatter\"},{\"hovertemplate\":\"Country=Italy<br>MatchesPlayed=%{x}<br>Winner=%{y}<extra></extra>\",\"legendgroup\":\"Italy\",\"marker\":{\"color\":\"#EF553B\",\"symbol\":\"circle\"},\"mode\":\"markers\",\"name\":\"Italy\",\"orientation\":\"h\",\"showlegend\":true,\"x\":[17,52],\"xaxis\":\"x\",\"y\":[\"Italy\",\"Germany FR\"],\"yaxis\":\"y\",\"type\":\"scatter\"},{\"hovertemplate\":\"Country=France<br>MatchesPlayed=%{x}<br>Winner=%{y}<extra></extra>\",\"legendgroup\":\"France\",\"marker\":{\"color\":\"#00cc96\",\"symbol\":\"circle\"},\"mode\":\"markers\",\"name\":\"France\",\"orientation\":\"h\",\"showlegend\":true,\"x\":[18,64],\"xaxis\":\"x\",\"y\":[\"Italy\",\"France\"],\"yaxis\":\"y\",\"type\":\"scatter\"},{\"hovertemplate\":\"Country=Brazil<br>MatchesPlayed=%{x}<br>Winner=%{y}<extra></extra>\",\"legendgroup\":\"Brazil\",\"marker\":{\"color\":\"#ab63fa\",\"symbol\":\"circle\"},\"mode\":\"markers\",\"name\":\"Brazil\",\"orientation\":\"h\",\"showlegend\":true,\"x\":[22,64],\"xaxis\":\"x\",\"y\":[\"Uruguay\",\"Germany\"],\"yaxis\":\"y\",\"type\":\"scatter\"},{\"hovertemplate\":\"Country=Switzerland<br>MatchesPlayed=%{x}<br>Winner=%{y}<extra></extra>\",\"legendgroup\":\"Switzerland\",\"marker\":{\"color\":\"#FFA15A\",\"symbol\":\"circle\"},\"mode\":\"markers\",\"name\":\"Switzerland\",\"orientation\":\"h\",\"showlegend\":true,\"x\":[26],\"xaxis\":\"x\",\"y\":[\"Germany FR\"],\"yaxis\":\"y\",\"type\":\"scatter\"},{\"hovertemplate\":\"Country=Sweden<br>MatchesPlayed=%{x}<br>Winner=%{y}<extra></extra>\",\"legendgroup\":\"Sweden\",\"marker\":{\"color\":\"#19d3f3\",\"symbol\":\"circle\"},\"mode\":\"markers\",\"name\":\"Sweden\",\"orientation\":\"h\",\"showlegend\":true,\"x\":[35],\"xaxis\":\"x\",\"y\":[\"Brazil\"],\"yaxis\":\"y\",\"type\":\"scatter\"},{\"hovertemplate\":\"Country=Chile<br>MatchesPlayed=%{x}<br>Winner=%{y}<extra></extra>\",\"legendgroup\":\"Chile\",\"marker\":{\"color\":\"#FF6692\",\"symbol\":\"circle\"},\"mode\":\"markers\",\"name\":\"Chile\",\"orientation\":\"h\",\"showlegend\":true,\"x\":[32],\"xaxis\":\"x\",\"y\":[\"Brazil\"],\"yaxis\":\"y\",\"type\":\"scatter\"},{\"hovertemplate\":\"Country=England<br>MatchesPlayed=%{x}<br>Winner=%{y}<extra></extra>\",\"legendgroup\":\"England\",\"marker\":{\"color\":\"#B6E880\",\"symbol\":\"circle\"},\"mode\":\"markers\",\"name\":\"England\",\"orientation\":\"h\",\"showlegend\":true,\"x\":[32],\"xaxis\":\"x\",\"y\":[\"England\"],\"yaxis\":\"y\",\"type\":\"scatter\"},{\"hovertemplate\":\"Country=Mexico<br>MatchesPlayed=%{x}<br>Winner=%{y}<extra></extra>\",\"legendgroup\":\"Mexico\",\"marker\":{\"color\":\"#FF97FF\",\"symbol\":\"circle\"},\"mode\":\"markers\",\"name\":\"Mexico\",\"orientation\":\"h\",\"showlegend\":true,\"x\":[32,52],\"xaxis\":\"x\",\"y\":[\"Brazil\",\"Argentina\"],\"yaxis\":\"y\",\"type\":\"scatter\"},{\"hovertemplate\":\"Country=Germany<br>MatchesPlayed=%{x}<br>Winner=%{y}<extra></extra>\",\"legendgroup\":\"Germany\",\"marker\":{\"color\":\"#FECB52\",\"symbol\":\"circle\"},\"mode\":\"markers\",\"name\":\"Germany\",\"orientation\":\"h\",\"showlegend\":true,\"x\":[38,64],\"xaxis\":\"x\",\"y\":[\"Germany FR\",\"Italy\"],\"yaxis\":\"y\",\"type\":\"scatter\"},{\"hovertemplate\":\"Country=Argentina<br>MatchesPlayed=%{x}<br>Winner=%{y}<extra></extra>\",\"legendgroup\":\"Argentina\",\"marker\":{\"color\":\"#636efa\",\"symbol\":\"circle\"},\"mode\":\"markers\",\"name\":\"Argentina\",\"orientation\":\"h\",\"showlegend\":true,\"x\":[38],\"xaxis\":\"x\",\"y\":[\"Argentina\"],\"yaxis\":\"y\",\"type\":\"scatter\"},{\"hovertemplate\":\"Country=Spain<br>MatchesPlayed=%{x}<br>Winner=%{y}<extra></extra>\",\"legendgroup\":\"Spain\",\"marker\":{\"color\":\"#EF553B\",\"symbol\":\"circle\"},\"mode\":\"markers\",\"name\":\"Spain\",\"orientation\":\"h\",\"showlegend\":true,\"x\":[52],\"xaxis\":\"x\",\"y\":[\"Italy\"],\"yaxis\":\"y\",\"type\":\"scatter\"},{\"hovertemplate\":\"Country=USA<br>MatchesPlayed=%{x}<br>Winner=%{y}<extra></extra>\",\"legendgroup\":\"USA\",\"marker\":{\"color\":\"#00cc96\",\"symbol\":\"circle\"},\"mode\":\"markers\",\"name\":\"USA\",\"orientation\":\"h\",\"showlegend\":true,\"x\":[52],\"xaxis\":\"x\",\"y\":[\"Brazil\"],\"yaxis\":\"y\",\"type\":\"scatter\"},{\"hovertemplate\":\"Country=Korea/Japan<br>MatchesPlayed=%{x}<br>Winner=%{y}<extra></extra>\",\"legendgroup\":\"Korea/Japan\",\"marker\":{\"color\":\"#ab63fa\",\"symbol\":\"circle\"},\"mode\":\"markers\",\"name\":\"Korea/Japan\",\"orientation\":\"h\",\"showlegend\":true,\"x\":[64],\"xaxis\":\"x\",\"y\":[\"Brazil\"],\"yaxis\":\"y\",\"type\":\"scatter\"},{\"hovertemplate\":\"Country=South Africa<br>MatchesPlayed=%{x}<br>Winner=%{y}<extra></extra>\",\"legendgroup\":\"South Africa\",\"marker\":{\"color\":\"#FFA15A\",\"symbol\":\"circle\"},\"mode\":\"markers\",\"name\":\"South Africa\",\"orientation\":\"h\",\"showlegend\":true,\"x\":[64],\"xaxis\":\"x\",\"y\":[\"Spain\"],\"yaxis\":\"y\",\"type\":\"scatter\"}],                        {\"template\":{\"data\":{\"histogram2dcontour\":[{\"type\":\"histogram2dcontour\",\"colorbar\":{\"outlinewidth\":0,\"ticks\":\"\"},\"colorscale\":[[0.0,\"#0d0887\"],[0.1111111111111111,\"#46039f\"],[0.2222222222222222,\"#7201a8\"],[0.3333333333333333,\"#9c179e\"],[0.4444444444444444,\"#bd3786\"],[0.5555555555555556,\"#d8576b\"],[0.6666666666666666,\"#ed7953\"],[0.7777777777777778,\"#fb9f3a\"],[0.8888888888888888,\"#fdca26\"],[1.0,\"#f0f921\"]]}],\"choropleth\":[{\"type\":\"choropleth\",\"colorbar\":{\"outlinewidth\":0,\"ticks\":\"\"}}],\"histogram2d\":[{\"type\":\"histogram2d\",\"colorbar\":{\"outlinewidth\":0,\"ticks\":\"\"},\"colorscale\":[[0.0,\"#0d0887\"],[0.1111111111111111,\"#46039f\"],[0.2222222222222222,\"#7201a8\"],[0.3333333333333333,\"#9c179e\"],[0.4444444444444444,\"#bd3786\"],[0.5555555555555556,\"#d8576b\"],[0.6666666666666666,\"#ed7953\"],[0.7777777777777778,\"#fb9f3a\"],[0.8888888888888888,\"#fdca26\"],[1.0,\"#f0f921\"]]}],\"heatmap\":[{\"type\":\"heatmap\",\"colorbar\":{\"outlinewidth\":0,\"ticks\":\"\"},\"colorscale\":[[0.0,\"#0d0887\"],[0.1111111111111111,\"#46039f\"],[0.2222222222222222,\"#7201a8\"],[0.3333333333333333,\"#9c179e\"],[0.4444444444444444,\"#bd3786\"],[0.5555555555555556,\"#d8576b\"],[0.6666666666666666,\"#ed7953\"],[0.7777777777777778,\"#fb9f3a\"],[0.8888888888888888,\"#fdca26\"],[1.0,\"#f0f921\"]]}],\"heatmapgl\":[{\"type\":\"heatmapgl\",\"colorbar\":{\"outlinewidth\":0,\"ticks\":\"\"},\"colorscale\":[[0.0,\"#0d0887\"],[0.1111111111111111,\"#46039f\"],[0.2222222222222222,\"#7201a8\"],[0.3333333333333333,\"#9c179e\"],[0.4444444444444444,\"#bd3786\"],[0.5555555555555556,\"#d8576b\"],[0.6666666666666666,\"#ed7953\"],[0.7777777777777778,\"#fb9f3a\"],[0.8888888888888888,\"#fdca26\"],[1.0,\"#f0f921\"]]}],\"contourcarpet\":[{\"type\":\"contourcarpet\",\"colorbar\":{\"outlinewidth\":0,\"ticks\":\"\"}}],\"contour\":[{\"type\":\"contour\",\"colorbar\":{\"outlinewidth\":0,\"ticks\":\"\"},\"colorscale\":[[0.0,\"#0d0887\"],[0.1111111111111111,\"#46039f\"],[0.2222222222222222,\"#7201a8\"],[0.3333333333333333,\"#9c179e\"],[0.4444444444444444,\"#bd3786\"],[0.5555555555555556,\"#d8576b\"],[0.6666666666666666,\"#ed7953\"],[0.7777777777777778,\"#fb9f3a\"],[0.8888888888888888,\"#fdca26\"],[1.0,\"#f0f921\"]]}],\"surface\":[{\"type\":\"surface\",\"colorbar\":{\"outlinewidth\":0,\"ticks\":\"\"},\"colorscale\":[[0.0,\"#0d0887\"],[0.1111111111111111,\"#46039f\"],[0.2222222222222222,\"#7201a8\"],[0.3333333333333333,\"#9c179e\"],[0.4444444444444444,\"#bd3786\"],[0.5555555555555556,\"#d8576b\"],[0.6666666666666666,\"#ed7953\"],[0.7777777777777778,\"#fb9f3a\"],[0.8888888888888888,\"#fdca26\"],[1.0,\"#f0f921\"]]}],\"mesh3d\":[{\"type\":\"mesh3d\",\"colorbar\":{\"outlinewidth\":0,\"ticks\":\"\"}}],\"scatter\":[{\"fillpattern\":{\"fillmode\":\"overlay\",\"size\":10,\"solidity\":0.2},\"type\":\"scatter\"}],\"parcoords\":[{\"type\":\"parcoords\",\"line\":{\"colorbar\":{\"outlinewidth\":0,\"ticks\":\"\"}}}],\"scatterpolargl\":[{\"type\":\"scatterpolargl\",\"marker\":{\"colorbar\":{\"outlinewidth\":0,\"ticks\":\"\"}}}],\"bar\":[{\"error_x\":{\"color\":\"#2a3f5f\"},\"error_y\":{\"color\":\"#2a3f5f\"},\"marker\":{\"line\":{\"color\":\"#E5ECF6\",\"width\":0.5},\"pattern\":{\"fillmode\":\"overlay\",\"size\":10,\"solidity\":0.2}},\"type\":\"bar\"}],\"scattergeo\":[{\"type\":\"scattergeo\",\"marker\":{\"colorbar\":{\"outlinewidth\":0,\"ticks\":\"\"}}}],\"scatterpolar\":[{\"type\":\"scatterpolar\",\"marker\":{\"colorbar\":{\"outlinewidth\":0,\"ticks\":\"\"}}}],\"histogram\":[{\"marker\":{\"pattern\":{\"fillmode\":\"overlay\",\"size\":10,\"solidity\":0.2}},\"type\":\"histogram\"}],\"scattergl\":[{\"type\":\"scattergl\",\"marker\":{\"colorbar\":{\"outlinewidth\":0,\"ticks\":\"\"}}}],\"scatter3d\":[{\"type\":\"scatter3d\",\"line\":{\"colorbar\":{\"outlinewidth\":0,\"ticks\":\"\"}},\"marker\":{\"colorbar\":{\"outlinewidth\":0,\"ticks\":\"\"}}}],\"scattermapbox\":[{\"type\":\"scattermapbox\",\"marker\":{\"colorbar\":{\"outlinewidth\":0,\"ticks\":\"\"}}}],\"scatterternary\":[{\"type\":\"scatterternary\",\"marker\":{\"colorbar\":{\"outlinewidth\":0,\"ticks\":\"\"}}}],\"scattercarpet\":[{\"type\":\"scattercarpet\",\"marker\":{\"colorbar\":{\"outlinewidth\":0,\"ticks\":\"\"}}}],\"carpet\":[{\"aaxis\":{\"endlinecolor\":\"#2a3f5f\",\"gridcolor\":\"white\",\"linecolor\":\"white\",\"minorgridcolor\":\"white\",\"startlinecolor\":\"#2a3f5f\"},\"baxis\":{\"endlinecolor\":\"#2a3f5f\",\"gridcolor\":\"white\",\"linecolor\":\"white\",\"minorgridcolor\":\"white\",\"startlinecolor\":\"#2a3f5f\"},\"type\":\"carpet\"}],\"table\":[{\"cells\":{\"fill\":{\"color\":\"#EBF0F8\"},\"line\":{\"color\":\"white\"}},\"header\":{\"fill\":{\"color\":\"#C8D4E3\"},\"line\":{\"color\":\"white\"}},\"type\":\"table\"}],\"barpolar\":[{\"marker\":{\"line\":{\"color\":\"#E5ECF6\",\"width\":0.5},\"pattern\":{\"fillmode\":\"overlay\",\"size\":10,\"solidity\":0.2}},\"type\":\"barpolar\"}],\"pie\":[{\"automargin\":true,\"type\":\"pie\"}]},\"layout\":{\"autotypenumbers\":\"strict\",\"colorway\":[\"#636efa\",\"#EF553B\",\"#00cc96\",\"#ab63fa\",\"#FFA15A\",\"#19d3f3\",\"#FF6692\",\"#B6E880\",\"#FF97FF\",\"#FECB52\"],\"font\":{\"color\":\"#2a3f5f\"},\"hovermode\":\"closest\",\"hoverlabel\":{\"align\":\"left\"},\"paper_bgcolor\":\"white\",\"plot_bgcolor\":\"#E5ECF6\",\"polar\":{\"bgcolor\":\"#E5ECF6\",\"angularaxis\":{\"gridcolor\":\"white\",\"linecolor\":\"white\",\"ticks\":\"\"},\"radialaxis\":{\"gridcolor\":\"white\",\"linecolor\":\"white\",\"ticks\":\"\"}},\"ternary\":{\"bgcolor\":\"#E5ECF6\",\"aaxis\":{\"gridcolor\":\"white\",\"linecolor\":\"white\",\"ticks\":\"\"},\"baxis\":{\"gridcolor\":\"white\",\"linecolor\":\"white\",\"ticks\":\"\"},\"caxis\":{\"gridcolor\":\"white\",\"linecolor\":\"white\",\"ticks\":\"\"}},\"coloraxis\":{\"colorbar\":{\"outlinewidth\":0,\"ticks\":\"\"}},\"colorscale\":{\"sequential\":[[0.0,\"#0d0887\"],[0.1111111111111111,\"#46039f\"],[0.2222222222222222,\"#7201a8\"],[0.3333333333333333,\"#9c179e\"],[0.4444444444444444,\"#bd3786\"],[0.5555555555555556,\"#d8576b\"],[0.6666666666666666,\"#ed7953\"],[0.7777777777777778,\"#fb9f3a\"],[0.8888888888888888,\"#fdca26\"],[1.0,\"#f0f921\"]],\"sequentialminus\":[[0.0,\"#0d0887\"],[0.1111111111111111,\"#46039f\"],[0.2222222222222222,\"#7201a8\"],[0.3333333333333333,\"#9c179e\"],[0.4444444444444444,\"#bd3786\"],[0.5555555555555556,\"#d8576b\"],[0.6666666666666666,\"#ed7953\"],[0.7777777777777778,\"#fb9f3a\"],[0.8888888888888888,\"#fdca26\"],[1.0,\"#f0f921\"]],\"diverging\":[[0,\"#8e0152\"],[0.1,\"#c51b7d\"],[0.2,\"#de77ae\"],[0.3,\"#f1b6da\"],[0.4,\"#fde0ef\"],[0.5,\"#f7f7f7\"],[0.6,\"#e6f5d0\"],[0.7,\"#b8e186\"],[0.8,\"#7fbc41\"],[0.9,\"#4d9221\"],[1,\"#276419\"]]},\"xaxis\":{\"gridcolor\":\"white\",\"linecolor\":\"white\",\"ticks\":\"\",\"title\":{\"standoff\":15},\"zerolinecolor\":\"white\",\"automargin\":true,\"zerolinewidth\":2},\"yaxis\":{\"gridcolor\":\"white\",\"linecolor\":\"white\",\"ticks\":\"\",\"title\":{\"standoff\":15},\"zerolinecolor\":\"white\",\"automargin\":true,\"zerolinewidth\":2},\"scene\":{\"xaxis\":{\"backgroundcolor\":\"#E5ECF6\",\"gridcolor\":\"white\",\"linecolor\":\"white\",\"showbackground\":true,\"ticks\":\"\",\"zerolinecolor\":\"white\",\"gridwidth\":2},\"yaxis\":{\"backgroundcolor\":\"#E5ECF6\",\"gridcolor\":\"white\",\"linecolor\":\"white\",\"showbackground\":true,\"ticks\":\"\",\"zerolinecolor\":\"white\",\"gridwidth\":2},\"zaxis\":{\"backgroundcolor\":\"#E5ECF6\",\"gridcolor\":\"white\",\"linecolor\":\"white\",\"showbackground\":true,\"ticks\":\"\",\"zerolinecolor\":\"white\",\"gridwidth\":2}},\"shapedefaults\":{\"line\":{\"color\":\"#2a3f5f\"}},\"annotationdefaults\":{\"arrowcolor\":\"#2a3f5f\",\"arrowhead\":0,\"arrowwidth\":1},\"geo\":{\"bgcolor\":\"white\",\"landcolor\":\"#E5ECF6\",\"subunitcolor\":\"white\",\"showland\":true,\"showlakes\":true,\"lakecolor\":\"white\"},\"title\":{\"x\":0.05},\"mapbox\":{\"style\":\"light\"}}},\"xaxis\":{\"anchor\":\"y\",\"domain\":[0.0,1.0],\"title\":{\"text\":\"MatchesPlayed\"}},\"yaxis\":{\"anchor\":\"x\",\"domain\":[0.0,1.0],\"title\":{\"text\":\"Winner\"}},\"legend\":{\"title\":{\"text\":\"Country\"},\"tracegroupgap\":0},\"margin\":{\"t\":60}},                        {\"responsive\": true}                    ).then(function(){\n",
       "                            \n",
       "var gd = document.getElementById('a23dc6c2-be03-4b16-ae98-641f8e6ff09e');\n",
       "var x = new MutationObserver(function (mutations, observer) {{\n",
       "        var display = window.getComputedStyle(gd).display;\n",
       "        if (!display || display === 'none') {{\n",
       "            console.log([gd, 'removed!']);\n",
       "            Plotly.purge(gd);\n",
       "            observer.disconnect();\n",
       "        }}\n",
       "}});\n",
       "\n",
       "// Listen for the removal of the full notebook cells\n",
       "var notebookContainer = gd.closest('#notebook-container');\n",
       "if (notebookContainer) {{\n",
       "    x.observe(notebookContainer, {childList: true});\n",
       "}}\n",
       "\n",
       "// Listen for the clearing of the current output cell\n",
       "var outputEl = gd.closest('.output');\n",
       "if (outputEl) {{\n",
       "    x.observe(outputEl, {childList: true});\n",
       "}}\n",
       "\n",
       "                        })                };                });            </script>        </div>"
      ]
     },
     "metadata": {},
     "output_type": "display_data"
    }
   ],
   "source": [
    "px.scatter(df3, x='MatchesPlayed', y = 'Winner',color='Country')"
   ]
  },
  {
   "cell_type": "markdown",
   "metadata": {},
   "source": [
    "Most of the matches was played between Spain and South Africa"
   ]
  },
  {
   "cell_type": "markdown",
   "metadata": {},
   "source": [
    "## Summary \n",
    "\n",
    "From all the above we can see that who won most of the time, count of people was huge in which year, who was runner, winner, third and fourth position etc."
   ]
  }
 ],
 "metadata": {
  "kernelspec": {
   "display_name": "Python 3.7.13 ('db')",
   "language": "python",
   "name": "python3"
  },
  "language_info": {
   "codemirror_mode": {
    "name": "ipython",
    "version": 3
   },
   "file_extension": ".py",
   "mimetype": "text/x-python",
   "name": "python",
   "nbconvert_exporter": "python",
   "pygments_lexer": "ipython3",
   "version": "3.7.13"
  },
  "orig_nbformat": 4,
  "vscode": {
   "interpreter": {
    "hash": "38110404eef7c0d4ecffbb613a5d591b0f7effe63c9576e8044d61492c41e19c"
   }
  }
 },
 "nbformat": 4,
 "nbformat_minor": 2
}
